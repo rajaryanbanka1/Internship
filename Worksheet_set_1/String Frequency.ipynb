{
 "cells": [
  {
   "cell_type": "code",
   "execution_count": 3,
   "metadata": {},
   "outputs": [
    {
     "name": "stdout",
     "output_type": "stream",
     "text": [
      "Ram is a great student\n",
      "{'R': 1, 'a': 3, 'm': 1, ' ': 4, 'i': 1, 's': 2, 'g': 1, 'r': 1, 'e': 2, 't': 3, 'u': 1, 'd': 1, 'n': 1}\n"
     ]
    }
   ],
   "source": [
    "def frequency(string):\n",
    "    dict_freq = {}\n",
    "    for i in range(len(string)):\n",
    "        if(string[i] in dict_freq):\n",
    "            dict_freq[string[i]]+=1\n",
    "        else:\n",
    "            dict_freq[string[i]] = 1\n",
    "    return dict_freq\n",
    "\n",
    "String = input()\n",
    "print(frequency(String))"
   ]
  },
  {
   "cell_type": "code",
   "execution_count": null,
   "metadata": {},
   "outputs": [],
   "source": []
  }
 ],
 "metadata": {
  "kernelspec": {
   "display_name": "Python 3",
   "language": "python",
   "name": "python3"
  },
  "language_info": {
   "codemirror_mode": {
    "name": "ipython",
    "version": 3
   },
   "file_extension": ".py",
   "mimetype": "text/x-python",
   "name": "python",
   "nbconvert_exporter": "python",
   "pygments_lexer": "ipython3",
   "version": "3.8.5"
  }
 },
 "nbformat": 4,
 "nbformat_minor": 4
}

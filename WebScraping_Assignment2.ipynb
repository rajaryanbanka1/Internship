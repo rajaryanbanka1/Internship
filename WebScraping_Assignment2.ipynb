{
 "cells": [
  {
   "cell_type": "markdown",
   "metadata": {},
   "source": [
    "Q1: Write a python program to scrape data for “Data Analyst” Job position in\n",
    "“Bangalore” location. You have to scrape the job-title, job-location, company_name,\n",
    "experience_required. You have to scrape first 10 jobs data.\n",
    "This task will be done in following steps:\n",
    "1. first get the webpage https://www.naukri.com/\n",
    "2. Enter “Data Analyst” in “Skill,Designations,Companies” field and enter “Bangalore”\n",
    "in “enter the location” field.\n",
    "3. Then click the search button.\n",
    "4. Then scrape the data for the first 10 jobs results you get.\n",
    "5. Finally create a dataframe of the scraped data.\n",
    "\n",
    "Note- All of the above steps have to be done in code. No step is to be done manually."
   ]
  },
  {
   "cell_type": "code",
   "execution_count": 2,
   "metadata": {},
   "outputs": [],
   "source": [
    "import selenium\n",
    "import pandas as pd\n",
    "from selenium import webdriver"
   ]
  },
  {
   "cell_type": "markdown",
   "metadata": {},
   "source": [
    "Importing all the required libraries."
   ]
  },
  {
   "cell_type": "code",
   "execution_count": 70,
   "metadata": {},
   "outputs": [],
   "source": [
    "driver = webdriver.Chrome(\"/usr/lib/chromium-browser/chromedriver\")"
   ]
  },
  {
   "cell_type": "markdown",
   "metadata": {},
   "source": [
    "We have to connect to the webdriver using the application file's path"
   ]
  },
  {
   "cell_type": "code",
   "execution_count": 3,
   "metadata": {},
   "outputs": [],
   "source": [
    "driver.get(\"https://www.naukri.com/\")"
   ]
  },
  {
   "cell_type": "markdown",
   "metadata": {},
   "source": [
    "Open the webpage using the driver"
   ]
  },
  {
   "cell_type": "markdown",
   "metadata": {},
   "source": [
    "After visiting the page we inspect the html code."
   ]
  },
  {
   "cell_type": "code",
   "execution_count": 4,
   "metadata": {},
   "outputs": [],
   "source": [
    "search_job = driver.find_element_by_id('qsb-keyword-sugg')\n",
    "search_loc = driver.find_element_by_xpath(\"//input[@id='qsb-location-sugg']\")"
   ]
  },
  {
   "cell_type": "markdown",
   "metadata": {},
   "source": [
    "Finding elements for job search bar"
   ]
  },
  {
   "cell_type": "code",
   "execution_count": 5,
   "metadata": {},
   "outputs": [],
   "source": [
    "search_job.send_keys(\"Data Analyst\")\n",
    "search_loc.send_keys(\"Bangalore\")"
   ]
  },
  {
   "cell_type": "markdown",
   "metadata": {},
   "source": [
    "Providing the job position and location in search bar"
   ]
  },
  {
   "cell_type": "code",
   "execution_count": 6,
   "metadata": {},
   "outputs": [],
   "source": [
    "search_btn = driver.find_element_by_xpath(\"//div[@class='search-btn']/button\")\n",
    "search_btn.click()"
   ]
  },
  {
   "cell_type": "markdown",
   "metadata": {},
   "source": [
    "We use the driver to search for the specified job position and location"
   ]
  },
  {
   "cell_type": "markdown",
   "metadata": {},
   "source": [
    "After this we are redirected to a new webpage where we have the job postings."
   ]
  },
  {
   "cell_type": "code",
   "execution_count": 7,
   "metadata": {},
   "outputs": [],
   "source": [
    "job_titles=[]\n",
    "locations_list=[]\n",
    "company_names=[]\n",
    "experience_list=[]"
   ]
  },
  {
   "cell_type": "markdown",
   "metadata": {},
   "source": [
    "Initializing list for required details."
   ]
  },
  {
   "cell_type": "markdown",
   "metadata": {},
   "source": [
    "We find the tag and class details by inspecting the page"
   ]
  },
  {
   "cell_type": "code",
   "execution_count": 8,
   "metadata": {},
   "outputs": [
    {
     "data": {
      "text/plain": [
       "[]"
      ]
     },
     "execution_count": 8,
     "metadata": {},
     "output_type": "execute_result"
    }
   ],
   "source": [
    "titles_tags = driver.find_elements_by_xpath(\"//a[@class='title fw500 ellipsis']\")\n",
    "titles_tags"
   ]
  },
  {
   "cell_type": "markdown",
   "metadata": {},
   "source": [
    "We find all the elemennts for the job position tag. "
   ]
  },
  {
   "cell_type": "markdown",
   "metadata": {},
   "source": [
    "But we have to take only 10 entries so we insert only the first 10 values to the job_titles list."
   ]
  },
  {
   "cell_type": "code",
   "execution_count": 9,
   "metadata": {},
   "outputs": [
    {
     "data": {
      "text/plain": [
       "[]"
      ]
     },
     "execution_count": 9,
     "metadata": {},
     "output_type": "execute_result"
    }
   ],
   "source": [
    "for i in titles_tags[:10]:\n",
    "    title = i.text\n",
    "    job_titles.append(title)\n",
    "job_titles"
   ]
  },
  {
   "cell_type": "markdown",
   "metadata": {},
   "source": [
    "Since the Job Position is the only text inside our elements. we use the .text function to extract and save in variable title"
   ]
  },
  {
   "cell_type": "markdown",
   "metadata": {},
   "source": [
    "We do the above steps done for job_titles, for all the other fields."
   ]
  },
  {
   "cell_type": "code",
   "execution_count": 10,
   "metadata": {},
   "outputs": [
    {
     "data": {
      "text/plain": [
       "[]"
      ]
     },
     "execution_count": 10,
     "metadata": {},
     "output_type": "execute_result"
    }
   ],
   "source": [
    "location_tags = driver.find_elements_by_xpath(\"//li[@class='fleft grey-text br2 placeHolderLi location']/span[1]\")\n",
    "location_tags"
   ]
  },
  {
   "cell_type": "code",
   "execution_count": 11,
   "metadata": {},
   "outputs": [
    {
     "data": {
      "text/plain": [
       "[]"
      ]
     },
     "execution_count": 11,
     "metadata": {},
     "output_type": "execute_result"
    }
   ],
   "source": [
    "for i in location_tags[:10]:\n",
    "    location = i.text\n",
    "    locations_list.append(location)\n",
    "locations_list"
   ]
  },
  {
   "cell_type": "code",
   "execution_count": 12,
   "metadata": {},
   "outputs": [
    {
     "data": {
      "text/plain": [
       "[]"
      ]
     },
     "execution_count": 12,
     "metadata": {},
     "output_type": "execute_result"
    }
   ],
   "source": [
    "companies_tags = driver.find_elements_by_xpath(\"//a[@class='subTitle ellipsis fleft']\")\n",
    "companies_tags"
   ]
  },
  {
   "cell_type": "code",
   "execution_count": 13,
   "metadata": {},
   "outputs": [
    {
     "data": {
      "text/plain": [
       "[]"
      ]
     },
     "execution_count": 13,
     "metadata": {},
     "output_type": "execute_result"
    }
   ],
   "source": [
    "for i in companies_tags[:10]:\n",
    "    company_name = i.text\n",
    "    company_names.append(company_name)\n",
    "company_names"
   ]
  },
  {
   "cell_type": "code",
   "execution_count": 14,
   "metadata": {},
   "outputs": [
    {
     "data": {
      "text/plain": [
       "[]"
      ]
     },
     "execution_count": 14,
     "metadata": {},
     "output_type": "execute_result"
    }
   ],
   "source": [
    "experience_tags = driver.find_elements_by_xpath(\"//li[@class='fleft grey-text br2 placeHolderLi experience']/span[1]\")#there might be multiple span so we give the index of span\n",
    "experience_tags"
   ]
  },
  {
   "cell_type": "code",
   "execution_count": 15,
   "metadata": {},
   "outputs": [
    {
     "data": {
      "text/plain": [
       "[]"
      ]
     },
     "execution_count": 15,
     "metadata": {},
     "output_type": "execute_result"
    }
   ],
   "source": [
    "for i in experience_tags[:10]:\n",
    "    experience = i.text\n",
    "    experience_list.append(experience)\n",
    "experience_list"
   ]
  },
  {
   "cell_type": "markdown",
   "metadata": {},
   "source": [
    "After collecting data for all the fields we now used pandas library to create a dataframe"
   ]
  },
  {
   "cell_type": "code",
   "execution_count": 16,
   "metadata": {},
   "outputs": [
    {
     "data": {
      "text/html": [
       "<div>\n",
       "<style scoped>\n",
       "    .dataframe tbody tr th:only-of-type {\n",
       "        vertical-align: middle;\n",
       "    }\n",
       "\n",
       "    .dataframe tbody tr th {\n",
       "        vertical-align: top;\n",
       "    }\n",
       "\n",
       "    .dataframe thead th {\n",
       "        text-align: right;\n",
       "    }\n",
       "</style>\n",
       "<table border=\"1\" class=\"dataframe\">\n",
       "  <thead>\n",
       "    <tr style=\"text-align: right;\">\n",
       "      <th></th>\n",
       "      <th>Job Titles</th>\n",
       "      <th>Locations</th>\n",
       "      <th>Company Names</th>\n",
       "      <th>Experience List</th>\n",
       "    </tr>\n",
       "  </thead>\n",
       "  <tbody>\n",
       "  </tbody>\n",
       "</table>\n",
       "</div>"
      ],
      "text/plain": [
       "Empty DataFrame\n",
       "Columns: [Job Titles, Locations, Company Names, Experience List]\n",
       "Index: []"
      ]
     },
     "execution_count": 16,
     "metadata": {},
     "output_type": "execute_result"
    }
   ],
   "source": [
    "df = pd.DataFrame({})\n",
    "df[\"Job Titles\"] = job_titles\n",
    "df[\"Locations\"] = locations_list\n",
    "df[\"Company Names\"] = company_names\n",
    "df[\"Experience List\"] = experience_list\n",
    "df"
   ]
  },
  {
   "cell_type": "code",
   "execution_count": null,
   "metadata": {},
   "outputs": [],
   "source": []
  },
  {
   "cell_type": "markdown",
   "metadata": {},
   "source": [
    "Q2: Write a python program to scrape data for “Data Scientist” Job position in\n",
    "“Bangalore” location. You have to scrape the job-title, job-location,\n",
    "company_name, full job-description. You have to scrape first 10 jobs data.\n",
    "This task will be done in following steps:\n",
    "1. first get the webpage https://www.naukri.com/\n",
    "2. Enter “Data Scientist” in “Skill,Designations,Companies” field and enter\n",
    "“Bangalore” in “enter the location” field.\n",
    "3. Then click the search button.\n",
    "4. Then scrape the data for the first 10 jobs results you get.\n",
    "5. Finally create a dataframe of the scraped data."
   ]
  },
  {
   "cell_type": "code",
   "execution_count": 120,
   "metadata": {},
   "outputs": [],
   "source": [
    "driver.get(\"https://www.naukri.com/\")"
   ]
  },
  {
   "cell_type": "markdown",
   "metadata": {},
   "source": [
    "Open the webpage using the driver"
   ]
  },
  {
   "cell_type": "code",
   "execution_count": 121,
   "metadata": {},
   "outputs": [],
   "source": [
    "search_job = driver.find_element_by_id('qsb-keyword-sugg')\n",
    "search_loc = driver.find_element_by_xpath(\"//input[@id='qsb-location-sugg']\")"
   ]
  },
  {
   "cell_type": "markdown",
   "metadata": {},
   "source": [
    "After visiting the page we inspect the html code."
   ]
  },
  {
   "cell_type": "markdown",
   "metadata": {},
   "source": [
    "Finding elements for job search bar"
   ]
  },
  {
   "cell_type": "code",
   "execution_count": 122,
   "metadata": {},
   "outputs": [],
   "source": [
    "search_job.send_keys(\"Data Scientist\")\n",
    "search_loc.send_keys(\"Bangalore\")"
   ]
  },
  {
   "cell_type": "markdown",
   "metadata": {},
   "source": [
    "Providing the job position and location in search bar"
   ]
  },
  {
   "cell_type": "code",
   "execution_count": 123,
   "metadata": {},
   "outputs": [],
   "source": [
    "search_btn = driver.find_element_by_xpath(\"//div[@class='search-btn']/button\")\n",
    "search_btn.click()"
   ]
  },
  {
   "cell_type": "markdown",
   "metadata": {},
   "source": [
    "We use the driver to search for the specified job position and location"
   ]
  },
  {
   "cell_type": "code",
   "execution_count": 124,
   "metadata": {},
   "outputs": [],
   "source": [
    "job_titles=[]\n",
    "locations_list=[]\n",
    "company_names=[]\n",
    "job_description=[]"
   ]
  },
  {
   "cell_type": "markdown",
   "metadata": {},
   "source": [
    "Initializing list for required details."
   ]
  },
  {
   "cell_type": "markdown",
   "metadata": {},
   "source": [
    "We find the tag and class details by inspecting the page"
   ]
  },
  {
   "cell_type": "code",
   "execution_count": 125,
   "metadata": {},
   "outputs": [
    {
     "data": {
      "text/plain": [
       "[<selenium.webdriver.remote.webelement.WebElement (session=\"7dba5ff35d955958c26783bd283162a6\", element=\"cea47468-eda0-4c77-b4e9-ec9e18c9c711\")>,\n",
       " <selenium.webdriver.remote.webelement.WebElement (session=\"7dba5ff35d955958c26783bd283162a6\", element=\"a5d9687a-8dd3-45e5-8e62-340b44a99a53\")>,\n",
       " <selenium.webdriver.remote.webelement.WebElement (session=\"7dba5ff35d955958c26783bd283162a6\", element=\"7f359cde-21b2-467a-b8f0-24ceaed43eb4\")>,\n",
       " <selenium.webdriver.remote.webelement.WebElement (session=\"7dba5ff35d955958c26783bd283162a6\", element=\"0ac5df66-771f-4ed8-b4aa-e27a603f245f\")>,\n",
       " <selenium.webdriver.remote.webelement.WebElement (session=\"7dba5ff35d955958c26783bd283162a6\", element=\"0e195659-457c-4eff-a37b-f1bccfe8fafa\")>,\n",
       " <selenium.webdriver.remote.webelement.WebElement (session=\"7dba5ff35d955958c26783bd283162a6\", element=\"dd52b925-ca8a-411c-b809-6e01510a811b\")>,\n",
       " <selenium.webdriver.remote.webelement.WebElement (session=\"7dba5ff35d955958c26783bd283162a6\", element=\"5faf6fbe-3af8-481f-97fc-40d4c3e66157\")>,\n",
       " <selenium.webdriver.remote.webelement.WebElement (session=\"7dba5ff35d955958c26783bd283162a6\", element=\"ac2162f8-f620-4d8c-ad6a-d1b79af6d96d\")>,\n",
       " <selenium.webdriver.remote.webelement.WebElement (session=\"7dba5ff35d955958c26783bd283162a6\", element=\"e10377b2-0e84-4b3a-92f5-16d6a396a69e\")>,\n",
       " <selenium.webdriver.remote.webelement.WebElement (session=\"7dba5ff35d955958c26783bd283162a6\", element=\"91d9170e-29d8-4317-98a3-99164f432f03\")>,\n",
       " <selenium.webdriver.remote.webelement.WebElement (session=\"7dba5ff35d955958c26783bd283162a6\", element=\"1f24a3ee-d48b-4b47-9509-5f5d5d4093a4\")>,\n",
       " <selenium.webdriver.remote.webelement.WebElement (session=\"7dba5ff35d955958c26783bd283162a6\", element=\"d829449a-f78d-4dbb-9cbd-b721127ef8da\")>,\n",
       " <selenium.webdriver.remote.webelement.WebElement (session=\"7dba5ff35d955958c26783bd283162a6\", element=\"1c6c3104-0fd4-4c5c-8146-d5adb9a447cd\")>,\n",
       " <selenium.webdriver.remote.webelement.WebElement (session=\"7dba5ff35d955958c26783bd283162a6\", element=\"61b7b3e1-d0a2-47b7-ad9f-4a7ac758094c\")>,\n",
       " <selenium.webdriver.remote.webelement.WebElement (session=\"7dba5ff35d955958c26783bd283162a6\", element=\"e8ad57e5-e1f4-40c9-842f-2bafd7bbe7d7\")>,\n",
       " <selenium.webdriver.remote.webelement.WebElement (session=\"7dba5ff35d955958c26783bd283162a6\", element=\"42ceef72-e4c0-410e-b0c9-413d153c0d2c\")>,\n",
       " <selenium.webdriver.remote.webelement.WebElement (session=\"7dba5ff35d955958c26783bd283162a6\", element=\"fbf1c044-cde4-4dc2-ac09-3594538cdaa6\")>,\n",
       " <selenium.webdriver.remote.webelement.WebElement (session=\"7dba5ff35d955958c26783bd283162a6\", element=\"a4a7d5e6-77bd-4e9f-ad2b-ae2e7f6d7af5\")>,\n",
       " <selenium.webdriver.remote.webelement.WebElement (session=\"7dba5ff35d955958c26783bd283162a6\", element=\"e0f80af0-4ef9-43ec-8ed6-0b1b6958d22e\")>,\n",
       " <selenium.webdriver.remote.webelement.WebElement (session=\"7dba5ff35d955958c26783bd283162a6\", element=\"638776b2-3559-4b28-a9b2-55e24097d2e0\")>]"
      ]
     },
     "execution_count": 125,
     "metadata": {},
     "output_type": "execute_result"
    }
   ],
   "source": [
    "titles_tags = driver.find_elements_by_xpath(\"//a[@class='title fw500 ellipsis']\")\n",
    "titles_tags"
   ]
  },
  {
   "cell_type": "markdown",
   "metadata": {},
   "source": [
    "We find all the elements for the job position tag. "
   ]
  },
  {
   "cell_type": "markdown",
   "metadata": {},
   "source": [
    "We have to take only 10 entries so we insert only the first 10 values to the job_titles list."
   ]
  },
  {
   "cell_type": "code",
   "execution_count": 126,
   "metadata": {},
   "outputs": [
    {
     "data": {
      "text/plain": [
       "['Sr. Data Scientist / Data Scientist For Bangalore & Kolkata Locations',\n",
       " 'Data Scientist',\n",
       " 'Senior Data Scientist',\n",
       " 'Senior Data Scientist - Python/Machine Learning Algorithms',\n",
       " 'Data Scientist/Senior Data Scientist - IT Services Firm',\n",
       " 'Lead Data Scientist',\n",
       " 'SDE2 Data Scientist',\n",
       " 'SDE1 Data Scientist',\n",
       " 'Data Scientist',\n",
       " 'Data Scientist']"
      ]
     },
     "execution_count": 126,
     "metadata": {},
     "output_type": "execute_result"
    }
   ],
   "source": [
    "for i in titles_tags[:10]:\n",
    "    title = i.text\n",
    "    job_titles.append(title)\n",
    "job_titles"
   ]
  },
  {
   "cell_type": "markdown",
   "metadata": {},
   "source": [
    "Since the Job Position is the only text inside our elements. we use the .text function to extract and save in variable title"
   ]
  },
  {
   "cell_type": "markdown",
   "metadata": {},
   "source": [
    "The steps done for job_titles are repeated for company names and location."
   ]
  },
  {
   "cell_type": "code",
   "execution_count": 127,
   "metadata": {},
   "outputs": [
    {
     "data": {
      "text/plain": [
       "[<selenium.webdriver.remote.webelement.WebElement (session=\"7dba5ff35d955958c26783bd283162a6\", element=\"44eb2945-f836-40ac-aece-67133d06daf9\")>,\n",
       " <selenium.webdriver.remote.webelement.WebElement (session=\"7dba5ff35d955958c26783bd283162a6\", element=\"87c41640-ff30-436d-bb03-ea2b8741d913\")>,\n",
       " <selenium.webdriver.remote.webelement.WebElement (session=\"7dba5ff35d955958c26783bd283162a6\", element=\"b0c00a46-4530-434e-95f8-fc4b3301106f\")>,\n",
       " <selenium.webdriver.remote.webelement.WebElement (session=\"7dba5ff35d955958c26783bd283162a6\", element=\"62310e3e-23ac-4552-9eac-bf5aa77e30c9\")>,\n",
       " <selenium.webdriver.remote.webelement.WebElement (session=\"7dba5ff35d955958c26783bd283162a6\", element=\"37c2f035-75c5-4210-b86c-70f5fa919d58\")>,\n",
       " <selenium.webdriver.remote.webelement.WebElement (session=\"7dba5ff35d955958c26783bd283162a6\", element=\"5720a59e-22f8-4063-bbda-813171b62a18\")>,\n",
       " <selenium.webdriver.remote.webelement.WebElement (session=\"7dba5ff35d955958c26783bd283162a6\", element=\"2bb9abaa-fa83-4091-bd54-078dc5b9520a\")>,\n",
       " <selenium.webdriver.remote.webelement.WebElement (session=\"7dba5ff35d955958c26783bd283162a6\", element=\"04f45903-8081-4742-b7ac-2e527406e3e8\")>,\n",
       " <selenium.webdriver.remote.webelement.WebElement (session=\"7dba5ff35d955958c26783bd283162a6\", element=\"4ed234be-faed-4449-bf33-2572e11162ed\")>,\n",
       " <selenium.webdriver.remote.webelement.WebElement (session=\"7dba5ff35d955958c26783bd283162a6\", element=\"aa368c2a-3a67-4a6b-98c8-4555a45dce9f\")>,\n",
       " <selenium.webdriver.remote.webelement.WebElement (session=\"7dba5ff35d955958c26783bd283162a6\", element=\"494b4150-c424-482e-a76d-3b254b7eaf98\")>,\n",
       " <selenium.webdriver.remote.webelement.WebElement (session=\"7dba5ff35d955958c26783bd283162a6\", element=\"78086e22-13d4-42ba-bbec-3c4433148ab7\")>,\n",
       " <selenium.webdriver.remote.webelement.WebElement (session=\"7dba5ff35d955958c26783bd283162a6\", element=\"6802abf6-b3d0-45cf-86ac-d3e9e02ea62d\")>,\n",
       " <selenium.webdriver.remote.webelement.WebElement (session=\"7dba5ff35d955958c26783bd283162a6\", element=\"6b56d15b-d0a0-4f3e-993c-7c71e058986d\")>,\n",
       " <selenium.webdriver.remote.webelement.WebElement (session=\"7dba5ff35d955958c26783bd283162a6\", element=\"23a86ca0-7d55-4030-9223-7b956071d9f3\")>,\n",
       " <selenium.webdriver.remote.webelement.WebElement (session=\"7dba5ff35d955958c26783bd283162a6\", element=\"dd49ea22-bfdc-4cb8-a9d9-8a47b3c987d0\")>,\n",
       " <selenium.webdriver.remote.webelement.WebElement (session=\"7dba5ff35d955958c26783bd283162a6\", element=\"12484f13-eeea-4740-8997-e72a185b3927\")>,\n",
       " <selenium.webdriver.remote.webelement.WebElement (session=\"7dba5ff35d955958c26783bd283162a6\", element=\"c11650fa-11a8-4917-a990-23bab74daf13\")>,\n",
       " <selenium.webdriver.remote.webelement.WebElement (session=\"7dba5ff35d955958c26783bd283162a6\", element=\"912e40d2-a983-4267-bc86-f4a413f924a3\")>,\n",
       " <selenium.webdriver.remote.webelement.WebElement (session=\"7dba5ff35d955958c26783bd283162a6\", element=\"81ce15b0-dc75-4054-8eb1-17a102b1b809\")>]"
      ]
     },
     "execution_count": 127,
     "metadata": {},
     "output_type": "execute_result"
    }
   ],
   "source": [
    "location_tags = driver.find_elements_by_xpath(\"//li[@class='fleft grey-text br2 placeHolderLi location']/span[1]\")\n",
    "location_tags"
   ]
  },
  {
   "cell_type": "code",
   "execution_count": 128,
   "metadata": {},
   "outputs": [
    {
     "data": {
      "text/plain": [
       "['Kolkata, Bangalore/Bengaluru',\n",
       " 'Hyderabad/Secunderabad, Pune, Bangalore/Bengaluru',\n",
       " 'Noida, Bangalore/Bengaluru',\n",
       " 'Mumbai, Hyderabad/Secunderabad, Pune, Bangalore/Bengaluru',\n",
       " 'Hyderabad/Secunderabad, Pune, Gurgaon/Gurugram, Bangalore/Bengaluru',\n",
       " 'Bangalore/Bengaluru',\n",
       " 'Bangalore/Bengaluru',\n",
       " 'Bangalore/Bengaluru',\n",
       " 'Bangalore/Bengaluru',\n",
       " 'Pune, Bangalore/Bengaluru']"
      ]
     },
     "execution_count": 128,
     "metadata": {},
     "output_type": "execute_result"
    }
   ],
   "source": [
    "for i in location_tags[:10]:\n",
    "    location = i.text\n",
    "    locations_list.append(location)\n",
    "locations_list"
   ]
  },
  {
   "cell_type": "code",
   "execution_count": 129,
   "metadata": {},
   "outputs": [
    {
     "data": {
      "text/plain": [
       "[<selenium.webdriver.remote.webelement.WebElement (session=\"7dba5ff35d955958c26783bd283162a6\", element=\"0a4d3904-af02-43ab-87cd-e2452e5ed729\")>,\n",
       " <selenium.webdriver.remote.webelement.WebElement (session=\"7dba5ff35d955958c26783bd283162a6\", element=\"1b440998-edf3-4539-9961-0800d8c58451\")>,\n",
       " <selenium.webdriver.remote.webelement.WebElement (session=\"7dba5ff35d955958c26783bd283162a6\", element=\"dc0eb72a-138a-488e-aeb4-61cff9cc29d5\")>,\n",
       " <selenium.webdriver.remote.webelement.WebElement (session=\"7dba5ff35d955958c26783bd283162a6\", element=\"5b81fe0b-b561-41a5-9427-05755bb93649\")>,\n",
       " <selenium.webdriver.remote.webelement.WebElement (session=\"7dba5ff35d955958c26783bd283162a6\", element=\"460232c5-a0ae-48de-a1a0-6b3d3d9708d3\")>,\n",
       " <selenium.webdriver.remote.webelement.WebElement (session=\"7dba5ff35d955958c26783bd283162a6\", element=\"2a8da326-b91a-4dee-85cc-ee5dd5692673\")>,\n",
       " <selenium.webdriver.remote.webelement.WebElement (session=\"7dba5ff35d955958c26783bd283162a6\", element=\"f2b80c66-9b4c-4ef5-8a10-d6dbf4b37247\")>,\n",
       " <selenium.webdriver.remote.webelement.WebElement (session=\"7dba5ff35d955958c26783bd283162a6\", element=\"cc4509f6-b607-4eeb-924b-d2d1ee323ceb\")>,\n",
       " <selenium.webdriver.remote.webelement.WebElement (session=\"7dba5ff35d955958c26783bd283162a6\", element=\"748f8221-f024-48c6-b17a-73121f0e942c\")>,\n",
       " <selenium.webdriver.remote.webelement.WebElement (session=\"7dba5ff35d955958c26783bd283162a6\", element=\"283e9e8c-eb47-4874-aeb6-6f274d0b7ef8\")>,\n",
       " <selenium.webdriver.remote.webelement.WebElement (session=\"7dba5ff35d955958c26783bd283162a6\", element=\"19ca931b-8999-47ed-9abb-91610cbbaba0\")>,\n",
       " <selenium.webdriver.remote.webelement.WebElement (session=\"7dba5ff35d955958c26783bd283162a6\", element=\"7ab171be-2fe5-457d-afe0-317e6716d842\")>,\n",
       " <selenium.webdriver.remote.webelement.WebElement (session=\"7dba5ff35d955958c26783bd283162a6\", element=\"d82a1736-01b9-444c-9265-018d91cd2c38\")>,\n",
       " <selenium.webdriver.remote.webelement.WebElement (session=\"7dba5ff35d955958c26783bd283162a6\", element=\"04bffb97-67f3-4e29-86a8-c61926e30b37\")>,\n",
       " <selenium.webdriver.remote.webelement.WebElement (session=\"7dba5ff35d955958c26783bd283162a6\", element=\"8880e0fd-2faf-48a5-a158-c20469b3aba1\")>,\n",
       " <selenium.webdriver.remote.webelement.WebElement (session=\"7dba5ff35d955958c26783bd283162a6\", element=\"0a305359-1766-486f-ba7c-962ba58db366\")>,\n",
       " <selenium.webdriver.remote.webelement.WebElement (session=\"7dba5ff35d955958c26783bd283162a6\", element=\"fa3f1ed2-733a-4aea-848b-a899204b1f45\")>,\n",
       " <selenium.webdriver.remote.webelement.WebElement (session=\"7dba5ff35d955958c26783bd283162a6\", element=\"7027bf81-3ce1-42ec-abf6-dfa3fcf7cb9c\")>,\n",
       " <selenium.webdriver.remote.webelement.WebElement (session=\"7dba5ff35d955958c26783bd283162a6\", element=\"abba3830-6e4b-47e2-b2b9-f4a46956aa00\")>,\n",
       " <selenium.webdriver.remote.webelement.WebElement (session=\"7dba5ff35d955958c26783bd283162a6\", element=\"913dcb51-92bf-4901-a055-f805e39a2d84\")>]"
      ]
     },
     "execution_count": 129,
     "metadata": {},
     "output_type": "execute_result"
    }
   ],
   "source": [
    "companies_tags = driver.find_elements_by_xpath(\"//a[@class='subTitle ellipsis fleft']\")\n",
    "companies_tags"
   ]
  },
  {
   "cell_type": "code",
   "execution_count": 130,
   "metadata": {},
   "outputs": [
    {
     "data": {
      "text/plain": [
       "['mPokket',\n",
       " 'Amazon Development Centre (India) Pvt. Ltd.',\n",
       " 'InnovAccer',\n",
       " 'Altimax Business Solutions',\n",
       " 'Pylon Management Consulting Pvt Ltd',\n",
       " 'Huawei Technologies',\n",
       " 'Multi Recruit',\n",
       " 'Multi Recruit',\n",
       " 'epiFi Technologies',\n",
       " 'Nutanix India Technologies Private Limited']"
      ]
     },
     "execution_count": 130,
     "metadata": {},
     "output_type": "execute_result"
    }
   ],
   "source": [
    "for i in companies_tags[:10]:\n",
    "    company_name = i.text\n",
    "    company_names.append(company_name)\n",
    "company_names"
   ]
  },
  {
   "cell_type": "code",
   "execution_count": 28,
   "metadata": {},
   "outputs": [],
   "source": [
    "job_description=[]"
   ]
  },
  {
   "cell_type": "markdown",
   "metadata": {},
   "source": [
    "Since we need to visit each job listing individually"
   ]
  },
  {
   "cell_type": "code",
   "execution_count": 132,
   "metadata": {},
   "outputs": [],
   "source": [
    "driver.get(\"https://www.naukri.com/job-listings-lead-data-scientist-huawei-technologies-india-pvt-ltd-bangalore-bengaluru-4-to-9-years-121021907623?src=jobsearchDesk&sid=16341610035755597&xp=1&px=1\")"
   ]
  },
  {
   "cell_type": "markdown",
   "metadata": {},
   "source": [
    "We use the driver to get data from first job listing"
   ]
  },
  {
   "cell_type": "code",
   "execution_count": 133,
   "metadata": {},
   "outputs": [
    {
     "data": {
      "text/plain": [
       "['We are looking for a Lead data scientist who will help us discover the information hidden in vast amounts of Ad Campaign data, and help us to optimize the campaign to improve the advertiser ROI and improve the overall consumer experience. Your primary focus will be in applying data mining techniques, doing statistical analysis, and building high quality prediction systems using Deep learning algorithms integrated with our products. Some the key area you will be working on spend recommendation, floor price prediction, CTR/CVR prediction, market funnel analysis and perdition of lead to conversion, etc.  Responsibility: Analyze the data, develop insights and identify the opportunity to utilize the data to predict various Advertisement key indicators like CTR, CVR, Inventory and Develop prediction and optimization algorithms for campaign, look alike modeling, etc for Huawei Ads. Takeup key challenges in AI-driven Smart Ad Serving Platform and focus on research and developing leading AI algorithms and productionize for Huawei Ads. Takeup initiative in identifying the SOTA and finding key gaps in AI algorithms and develop a world leading AI algorithms for optimizing real-time Ad Serving engine. Identify and optimize the core modules such as Traffic Prediction, Optimization, Ad Targeting/Re-targeting, Ad Performance Optimization, Audience insights, Attribution, Bidding, re-ranking, and Diagnostics. Support hundreds of billions of ad requests per day, with efficiently cache technology. To build and enhance Ad platform features and Prediction capabilities in Huawei Ads Platform Optimized Cost Per Mille; Optimized Cost Per Action; Optimized Cost Per Click and Cost per Click. OCPM, OCPA, OCPC.  Requirements: - Strong hands-on experience in implementing and validating big data algorithms and models including Deep Learning models like Seq2Seq/ GRU/ RNN/LSTM , Knowledge Graph, Massive Graph algorithms, etc. - Programming experience with Python - Able to validate existing models including Deep Learning models with large scale dataset and able to make changes to the models to achieve better performance - AdServing domain Experience is an added advantage.']"
      ]
     },
     "execution_count": 133,
     "metadata": {},
     "output_type": "execute_result"
    }
   ],
   "source": [
    "job_description_tag = driver.find_element_by_xpath(\"//div[@class='dang-inner-html']\")\n",
    "job_description.append(job_description_tag.text.replace(\"\\n\",\" \"))\n",
    "job_description"
   ]
  },
  {
   "cell_type": "markdown",
   "metadata": {},
   "source": [
    "Now, we find the element and append the text/description inside to job_description list"
   ]
  },
  {
   "cell_type": "markdown",
   "metadata": {},
   "source": [
    "We repeat the above process for the first 10 results."
   ]
  },
  {
   "cell_type": "code",
   "execution_count": 134,
   "metadata": {},
   "outputs": [],
   "source": [
    "driver.get(\"https://www.naukri.com/job-listings-data-scientist-ai-ml-engineer-hitachi-ltd-bangalore-bengaluru-5-to-10-years-111021500424?src=jobsearchDesk&sid=16341627456813191&xp=2&px=1\")"
   ]
  },
  {
   "cell_type": "code",
   "execution_count": 135,
   "metadata": {},
   "outputs": [
    {
     "data": {
      "text/plain": [
       "['We are looking for a Lead data scientist who will help us discover the information hidden in vast amounts of Ad Campaign data, and help us to optimize the campaign to improve the advertiser ROI and improve the overall consumer experience. Your primary focus will be in applying data mining techniques, doing statistical analysis, and building high quality prediction systems using Deep learning algorithms integrated with our products. Some the key area you will be working on spend recommendation, floor price prediction, CTR/CVR prediction, market funnel analysis and perdition of lead to conversion, etc.  Responsibility: Analyze the data, develop insights and identify the opportunity to utilize the data to predict various Advertisement key indicators like CTR, CVR, Inventory and Develop prediction and optimization algorithms for campaign, look alike modeling, etc for Huawei Ads. Takeup key challenges in AI-driven Smart Ad Serving Platform and focus on research and developing leading AI algorithms and productionize for Huawei Ads. Takeup initiative in identifying the SOTA and finding key gaps in AI algorithms and develop a world leading AI algorithms for optimizing real-time Ad Serving engine. Identify and optimize the core modules such as Traffic Prediction, Optimization, Ad Targeting/Re-targeting, Ad Performance Optimization, Audience insights, Attribution, Bidding, re-ranking, and Diagnostics. Support hundreds of billions of ad requests per day, with efficiently cache technology. To build and enhance Ad platform features and Prediction capabilities in Huawei Ads Platform Optimized Cost Per Mille; Optimized Cost Per Action; Optimized Cost Per Click and Cost per Click. OCPM, OCPA, OCPC.  Requirements: - Strong hands-on experience in implementing and validating big data algorithms and models including Deep Learning models like Seq2Seq/ GRU/ RNN/LSTM , Knowledge Graph, Massive Graph algorithms, etc. - Programming experience with Python - Able to validate existing models including Deep Learning models with large scale dataset and able to make changes to the models to achieve better performance - AdServing domain Experience is an added advantage.',\n",
       " 'Duties and Responsibilities Implement the application solving customer s issue by applying AI/ML technologies Apply ML and DL models for various industry problems. Setting-up collaboration environment and framework for AI related research and development projects. Design and develop different architectural models for scalable data storage, processing, and large-scale analytics. Work with cross-functional teams to understand technical needs. Set-up big data environment that helps establish rapid POCs and prototype developments on both on-premises and cloud-based platforms. Monitor and optimize performance of the big data ecosystem. Ensure data accessibility to researchers via different programming languages. Keep up to date with state of the art in the industry. Qualifications Minimum Bachelor s degree in Computer Science with substantial industry experience of 5 years or more of Data Engineering/ETL/Administration experience. Hands-on experience in Statistical data analysis and Machine learning Possess significant knowledge of Big Data technologies and tools. Good coding skills in at least one scripting language (Shell, Python, R, etc.) Experience with various Hadoop distribution like Hortonworks and Cloudera. Knowledge of cluster monitoring tools like Ambari, Ganglia, or Nagios. Delivered Big Data solutions in the cloud with AWS or Azure or Google Cloud. Experience in Java programming, Scala programming. Experience with RDBMS (MySQL, PostgreSQL, etc.) Experience with NoSQL database administration development like MongoDB. Experience with Hadoop eco-system (MapReduce, Streaming, Pig, HIVE, Spark). Experience using DevOps toolbox such as Jenkins, Chef, Puppet. Proven ability to create and manage big data pipeline using Kafka, Flume Spark Knowledge of BI tools such as Tableau, Pentaho, etc. Experience building large-scale distributed applications and services. Experience with agile development methodologies. - Knowledge of industry standards and trends. Good communication, logical thinking, and presentation skills. Additional qualifications (preferred but not mandatory) Master s degree in Computer Science or equivalent with at least 5 years industry experience of data engineering/ETL/Administration. Experience applying Deep learning. Substantial industry experience developing prototypes and demonstrating PoCs']"
      ]
     },
     "execution_count": 135,
     "metadata": {},
     "output_type": "execute_result"
    }
   ],
   "source": [
    "job_description_tag = driver.find_element_by_xpath(\"//div[@class='dang-inner-html']\")\n",
    "job_description.append(job_description_tag.text.replace(\"\\n\",\" \"))\n",
    "job_description"
   ]
  },
  {
   "cell_type": "code",
   "execution_count": 136,
   "metadata": {},
   "outputs": [],
   "source": [
    "driver.get(\"https://www.naukri.com/job-listings-senior-data-scientist-convergence-infotech-ltd-bangalore-bengaluru-8-to-12-years-111021004221?src=jobsearchDesk&sid=16341641801993308&xp=3&px=1\")"
   ]
  },
  {
   "cell_type": "code",
   "execution_count": 137,
   "metadata": {},
   "outputs": [
    {
     "data": {
      "text/plain": [
       "['We are looking for a Lead data scientist who will help us discover the information hidden in vast amounts of Ad Campaign data, and help us to optimize the campaign to improve the advertiser ROI and improve the overall consumer experience. Your primary focus will be in applying data mining techniques, doing statistical analysis, and building high quality prediction systems using Deep learning algorithms integrated with our products. Some the key area you will be working on spend recommendation, floor price prediction, CTR/CVR prediction, market funnel analysis and perdition of lead to conversion, etc.  Responsibility: Analyze the data, develop insights and identify the opportunity to utilize the data to predict various Advertisement key indicators like CTR, CVR, Inventory and Develop prediction and optimization algorithms for campaign, look alike modeling, etc for Huawei Ads. Takeup key challenges in AI-driven Smart Ad Serving Platform and focus on research and developing leading AI algorithms and productionize for Huawei Ads. Takeup initiative in identifying the SOTA and finding key gaps in AI algorithms and develop a world leading AI algorithms for optimizing real-time Ad Serving engine. Identify and optimize the core modules such as Traffic Prediction, Optimization, Ad Targeting/Re-targeting, Ad Performance Optimization, Audience insights, Attribution, Bidding, re-ranking, and Diagnostics. Support hundreds of billions of ad requests per day, with efficiently cache technology. To build and enhance Ad platform features and Prediction capabilities in Huawei Ads Platform Optimized Cost Per Mille; Optimized Cost Per Action; Optimized Cost Per Click and Cost per Click. OCPM, OCPA, OCPC.  Requirements: - Strong hands-on experience in implementing and validating big data algorithms and models including Deep Learning models like Seq2Seq/ GRU/ RNN/LSTM , Knowledge Graph, Massive Graph algorithms, etc. - Programming experience with Python - Able to validate existing models including Deep Learning models with large scale dataset and able to make changes to the models to achieve better performance - AdServing domain Experience is an added advantage.',\n",
       " 'Duties and Responsibilities Implement the application solving customer s issue by applying AI/ML technologies Apply ML and DL models for various industry problems. Setting-up collaboration environment and framework for AI related research and development projects. Design and develop different architectural models for scalable data storage, processing, and large-scale analytics. Work with cross-functional teams to understand technical needs. Set-up big data environment that helps establish rapid POCs and prototype developments on both on-premises and cloud-based platforms. Monitor and optimize performance of the big data ecosystem. Ensure data accessibility to researchers via different programming languages. Keep up to date with state of the art in the industry. Qualifications Minimum Bachelor s degree in Computer Science with substantial industry experience of 5 years or more of Data Engineering/ETL/Administration experience. Hands-on experience in Statistical data analysis and Machine learning Possess significant knowledge of Big Data technologies and tools. Good coding skills in at least one scripting language (Shell, Python, R, etc.) Experience with various Hadoop distribution like Hortonworks and Cloudera. Knowledge of cluster monitoring tools like Ambari, Ganglia, or Nagios. Delivered Big Data solutions in the cloud with AWS or Azure or Google Cloud. Experience in Java programming, Scala programming. Experience with RDBMS (MySQL, PostgreSQL, etc.) Experience with NoSQL database administration development like MongoDB. Experience with Hadoop eco-system (MapReduce, Streaming, Pig, HIVE, Spark). Experience using DevOps toolbox such as Jenkins, Chef, Puppet. Proven ability to create and manage big data pipeline using Kafka, Flume Spark Knowledge of BI tools such as Tableau, Pentaho, etc. Experience building large-scale distributed applications and services. Experience with agile development methodologies. - Knowledge of industry standards and trends. Good communication, logical thinking, and presentation skills. Additional qualifications (preferred but not mandatory) Master s degree in Computer Science or equivalent with at least 5 years industry experience of data engineering/ETL/Administration. Experience applying Deep learning. Substantial industry experience developing prototypes and demonstrating PoCs',\n",
       " 'Roles and Responsibilities PhD in Statistics, Math or Computer Science is preferred. Must have at least a Master degree with 10+ years of experience. Excellent statistical analysis skills to identify patterns in data. This includes having a keen sense of pattern detection and anomaly detection. Excellent understanding of machine learning techniques and algorithms, such as k-NN, Naive Bayes, SVM, Decision Forests, etc. Must be able to implement algorithms and statistical concepts to build predictive models. In-depth experience with common data science tools such as TensorFlow, PyTorch or equivalent. Proficient in programming with python, SQL and No-SQL databases; and data science libraries such as nltk, numpy, scipy and many others Great communication skills both written and verbal. Must be able to effectively communicate with global English speaking teams. Expertise in collaborating with multi-disciplinary teams of business analysts, data scientists, subject matter experts, and developers Desired Candidate Profile   Perks and Benefits']"
      ]
     },
     "execution_count": 137,
     "metadata": {},
     "output_type": "execute_result"
    }
   ],
   "source": [
    "job_description_tag = driver.find_element_by_xpath(\"//div[@class='dang-inner-html']\")\n",
    "job_description.append(job_description_tag.text.replace(\"\\n\",\" \"))\n",
    "job_description"
   ]
  },
  {
   "cell_type": "code",
   "execution_count": 138,
   "metadata": {},
   "outputs": [],
   "source": [
    "driver.get(\"https://www.naukri.com/job-listings-senior-data-scientist-nlp-thomson-reuters-international-services-pvt-ltd-bangalore-bengaluru-8-to-10-years-111021001745?src=jobsearchDesk&sid=16341654760201290&xp=4&px=1\")"
   ]
  },
  {
   "cell_type": "code",
   "execution_count": 139,
   "metadata": {},
   "outputs": [
    {
     "data": {
      "text/plain": [
       "['We are looking for a Lead data scientist who will help us discover the information hidden in vast amounts of Ad Campaign data, and help us to optimize the campaign to improve the advertiser ROI and improve the overall consumer experience. Your primary focus will be in applying data mining techniques, doing statistical analysis, and building high quality prediction systems using Deep learning algorithms integrated with our products. Some the key area you will be working on spend recommendation, floor price prediction, CTR/CVR prediction, market funnel analysis and perdition of lead to conversion, etc.  Responsibility: Analyze the data, develop insights and identify the opportunity to utilize the data to predict various Advertisement key indicators like CTR, CVR, Inventory and Develop prediction and optimization algorithms for campaign, look alike modeling, etc for Huawei Ads. Takeup key challenges in AI-driven Smart Ad Serving Platform and focus on research and developing leading AI algorithms and productionize for Huawei Ads. Takeup initiative in identifying the SOTA and finding key gaps in AI algorithms and develop a world leading AI algorithms for optimizing real-time Ad Serving engine. Identify and optimize the core modules such as Traffic Prediction, Optimization, Ad Targeting/Re-targeting, Ad Performance Optimization, Audience insights, Attribution, Bidding, re-ranking, and Diagnostics. Support hundreds of billions of ad requests per day, with efficiently cache technology. To build and enhance Ad platform features and Prediction capabilities in Huawei Ads Platform Optimized Cost Per Mille; Optimized Cost Per Action; Optimized Cost Per Click and Cost per Click. OCPM, OCPA, OCPC.  Requirements: - Strong hands-on experience in implementing and validating big data algorithms and models including Deep Learning models like Seq2Seq/ GRU/ RNN/LSTM , Knowledge Graph, Massive Graph algorithms, etc. - Programming experience with Python - Able to validate existing models including Deep Learning models with large scale dataset and able to make changes to the models to achieve better performance - AdServing domain Experience is an added advantage.',\n",
       " 'Duties and Responsibilities Implement the application solving customer s issue by applying AI/ML technologies Apply ML and DL models for various industry problems. Setting-up collaboration environment and framework for AI related research and development projects. Design and develop different architectural models for scalable data storage, processing, and large-scale analytics. Work with cross-functional teams to understand technical needs. Set-up big data environment that helps establish rapid POCs and prototype developments on both on-premises and cloud-based platforms. Monitor and optimize performance of the big data ecosystem. Ensure data accessibility to researchers via different programming languages. Keep up to date with state of the art in the industry. Qualifications Minimum Bachelor s degree in Computer Science with substantial industry experience of 5 years or more of Data Engineering/ETL/Administration experience. Hands-on experience in Statistical data analysis and Machine learning Possess significant knowledge of Big Data technologies and tools. Good coding skills in at least one scripting language (Shell, Python, R, etc.) Experience with various Hadoop distribution like Hortonworks and Cloudera. Knowledge of cluster monitoring tools like Ambari, Ganglia, or Nagios. Delivered Big Data solutions in the cloud with AWS or Azure or Google Cloud. Experience in Java programming, Scala programming. Experience with RDBMS (MySQL, PostgreSQL, etc.) Experience with NoSQL database administration development like MongoDB. Experience with Hadoop eco-system (MapReduce, Streaming, Pig, HIVE, Spark). Experience using DevOps toolbox such as Jenkins, Chef, Puppet. Proven ability to create and manage big data pipeline using Kafka, Flume Spark Knowledge of BI tools such as Tableau, Pentaho, etc. Experience building large-scale distributed applications and services. Experience with agile development methodologies. - Knowledge of industry standards and trends. Good communication, logical thinking, and presentation skills. Additional qualifications (preferred but not mandatory) Master s degree in Computer Science or equivalent with at least 5 years industry experience of data engineering/ETL/Administration. Experience applying Deep learning. Substantial industry experience developing prototypes and demonstrating PoCs',\n",
       " 'Roles and Responsibilities PhD in Statistics, Math or Computer Science is preferred. Must have at least a Master degree with 10+ years of experience. Excellent statistical analysis skills to identify patterns in data. This includes having a keen sense of pattern detection and anomaly detection. Excellent understanding of machine learning techniques and algorithms, such as k-NN, Naive Bayes, SVM, Decision Forests, etc. Must be able to implement algorithms and statistical concepts to build predictive models. In-depth experience with common data science tools such as TensorFlow, PyTorch or equivalent. Proficient in programming with python, SQL and No-SQL databases; and data science libraries such as nltk, numpy, scipy and many others Great communication skills both written and verbal. Must be able to effectively communicate with global English speaking teams. Expertise in collaborating with multi-disciplinary teams of business analysts, data scientists, subject matter experts, and developers Desired Candidate Profile   Perks and Benefits',\n",
       " \"Senior Data Scientist, NLP Are you excited about working at the forefront of applied research in an industry setting? Thomson Reuters Labs in Bangalore is seeking experienced data scientists with a passion for solving problems using state-of-the-art Machine Learning and Natural Language Processing. What does Thomson Reuters Labs do? We experiment, we build, we deliver. We support the organization and our customers through applied research and the development of new products and technologies. TR Labs innovates collaboratively across our core segments in Legal, Tax & Accounting, Government, and Reuters News.  We undertake a diverse portfolio of projects today while investing in long-term research for the future. As a data scientist in Labs, you will be part of a global interdisciplinary team of experts. We hire specialists across a variety of AI research areas, as well as Engineering and Design, to drive the company's digital transformation. TR Labs is known for consistently delivering Artificial Intelligence projects that advance the state of the art in support of high growth products and serve Thomson Reuters customers in new and exciting ways.  About the role In this opportunity as a Senior Data Scientist, you will: Experiment and Develop: You will drive the entire model development lifecycle, building, testing, and delivering high-quality solutions. You will apply best practices for conducting reproducible research and well-managed software delivery. Collaborate: Working on a collaborative cross-functional team, you will share information, value diverse ideas, and partner effectively with colleagues across the globe. You will elevate and mentor teammates. Deliver: With a strong sense of urgency and the desire to work in a fast-paced, dynamic environment, you will translate complex business problems into projects with a clearly defined scope. Our problems are complex; our solutions are right-sized. You will be accountable for timely, well-managed deliverables. Innovate:  You will be empowered to try new approaches and learn new technologies. You will implement innovative ideas to solve real-world challenges. Inspire: You will be a proactive communicator who is excited to share your work. You will be articulate and compelling in describing ideas to both technical and non-technical audiences. You will help lead the way in the adoption of AI across the enterprise.  About you Basic qualifications Ph.D. in a relevant discipline or Masters plus a comparable level of experience At least five years experience building ML/NLP systems Solid software engineering skills for prototyping Experience as a technical leader, coordinating and guiding the work of others Preferred qualifications 8+ years of academic or industry experience building ML or NLP systems with the demonstrated ability to translate cutting edge research into working applications Demonstrated ability to translate customer needs into well-structured research/project plans Proficiency in Python, Java, or Scala and experience delivering minimum viable products in a large enterprise environment Outstanding communication, organization, and data-driven decision making Publications at workshops or conferences such as ACL, EMNLP, KDD, ICML, NeurIPS, or similar  What's in it for you At Thomson Reuters, our people are our greatest assets. In addition to rewarding and challenging work with exceptional colleagues, we offer the following benefits for your personal and professional growth: Learning & Development: On-the-job coaching & learning, tuition reimbursement, exposure to leading-edge technology Our Scientists and Engineers get to play with big data sets to discover new products, capabilities, and insights for our customers. Thomson Reuters is most well-known for the globally respected Reuters News agency, but our company is also the leading source of information for legal, corporate, and tax professionals. We have over 60,000 TBs worth of legal, regulatory, news, and tax data.  Benefits: Flexible work arrangements, comprehensive health coverage effective day one, savings and investment plans Perks: Social events & activities, employee discount programs Social Impact: Paid time off for volunteering virtually or in your community\"]"
      ]
     },
     "execution_count": 139,
     "metadata": {},
     "output_type": "execute_result"
    }
   ],
   "source": [
    "job_description_tag = driver.find_element_by_xpath(\"//div[@class='dang-inner-html']\")\n",
    "job_description.append(job_description_tag.text.replace(\"\\n\",\" \"))\n",
    "job_description"
   ]
  },
  {
   "cell_type": "code",
   "execution_count": 140,
   "metadata": {},
   "outputs": [],
   "source": [
    "driver.get(\"https://www.naukri.com/job-listings-data-scientist-senior-data-scientist-it-services-firm-pylon-management-consulting-pvt-ltd-hyderabad-secunderabad-pune-gurgaon-gurugram-bangalore-bengaluru-5-to-6-years-131021906976?src=jobsearchDesk&sid=16341656409141825&xp=5&px=1\")"
   ]
  },
  {
   "cell_type": "code",
   "execution_count": 141,
   "metadata": {},
   "outputs": [
    {
     "data": {
      "text/plain": [
       "['We are looking for a Lead data scientist who will help us discover the information hidden in vast amounts of Ad Campaign data, and help us to optimize the campaign to improve the advertiser ROI and improve the overall consumer experience. Your primary focus will be in applying data mining techniques, doing statistical analysis, and building high quality prediction systems using Deep learning algorithms integrated with our products. Some the key area you will be working on spend recommendation, floor price prediction, CTR/CVR prediction, market funnel analysis and perdition of lead to conversion, etc.  Responsibility: Analyze the data, develop insights and identify the opportunity to utilize the data to predict various Advertisement key indicators like CTR, CVR, Inventory and Develop prediction and optimization algorithms for campaign, look alike modeling, etc for Huawei Ads. Takeup key challenges in AI-driven Smart Ad Serving Platform and focus on research and developing leading AI algorithms and productionize for Huawei Ads. Takeup initiative in identifying the SOTA and finding key gaps in AI algorithms and develop a world leading AI algorithms for optimizing real-time Ad Serving engine. Identify and optimize the core modules such as Traffic Prediction, Optimization, Ad Targeting/Re-targeting, Ad Performance Optimization, Audience insights, Attribution, Bidding, re-ranking, and Diagnostics. Support hundreds of billions of ad requests per day, with efficiently cache technology. To build and enhance Ad platform features and Prediction capabilities in Huawei Ads Platform Optimized Cost Per Mille; Optimized Cost Per Action; Optimized Cost Per Click and Cost per Click. OCPM, OCPA, OCPC.  Requirements: - Strong hands-on experience in implementing and validating big data algorithms and models including Deep Learning models like Seq2Seq/ GRU/ RNN/LSTM , Knowledge Graph, Massive Graph algorithms, etc. - Programming experience with Python - Able to validate existing models including Deep Learning models with large scale dataset and able to make changes to the models to achieve better performance - AdServing domain Experience is an added advantage.',\n",
       " 'Duties and Responsibilities Implement the application solving customer s issue by applying AI/ML technologies Apply ML and DL models for various industry problems. Setting-up collaboration environment and framework for AI related research and development projects. Design and develop different architectural models for scalable data storage, processing, and large-scale analytics. Work with cross-functional teams to understand technical needs. Set-up big data environment that helps establish rapid POCs and prototype developments on both on-premises and cloud-based platforms. Monitor and optimize performance of the big data ecosystem. Ensure data accessibility to researchers via different programming languages. Keep up to date with state of the art in the industry. Qualifications Minimum Bachelor s degree in Computer Science with substantial industry experience of 5 years or more of Data Engineering/ETL/Administration experience. Hands-on experience in Statistical data analysis and Machine learning Possess significant knowledge of Big Data technologies and tools. Good coding skills in at least one scripting language (Shell, Python, R, etc.) Experience with various Hadoop distribution like Hortonworks and Cloudera. Knowledge of cluster monitoring tools like Ambari, Ganglia, or Nagios. Delivered Big Data solutions in the cloud with AWS or Azure or Google Cloud. Experience in Java programming, Scala programming. Experience with RDBMS (MySQL, PostgreSQL, etc.) Experience with NoSQL database administration development like MongoDB. Experience with Hadoop eco-system (MapReduce, Streaming, Pig, HIVE, Spark). Experience using DevOps toolbox such as Jenkins, Chef, Puppet. Proven ability to create and manage big data pipeline using Kafka, Flume Spark Knowledge of BI tools such as Tableau, Pentaho, etc. Experience building large-scale distributed applications and services. Experience with agile development methodologies. - Knowledge of industry standards and trends. Good communication, logical thinking, and presentation skills. Additional qualifications (preferred but not mandatory) Master s degree in Computer Science or equivalent with at least 5 years industry experience of data engineering/ETL/Administration. Experience applying Deep learning. Substantial industry experience developing prototypes and demonstrating PoCs',\n",
       " 'Roles and Responsibilities PhD in Statistics, Math or Computer Science is preferred. Must have at least a Master degree with 10+ years of experience. Excellent statistical analysis skills to identify patterns in data. This includes having a keen sense of pattern detection and anomaly detection. Excellent understanding of machine learning techniques and algorithms, such as k-NN, Naive Bayes, SVM, Decision Forests, etc. Must be able to implement algorithms and statistical concepts to build predictive models. In-depth experience with common data science tools such as TensorFlow, PyTorch or equivalent. Proficient in programming with python, SQL and No-SQL databases; and data science libraries such as nltk, numpy, scipy and many others Great communication skills both written and verbal. Must be able to effectively communicate with global English speaking teams. Expertise in collaborating with multi-disciplinary teams of business analysts, data scientists, subject matter experts, and developers Desired Candidate Profile   Perks and Benefits',\n",
       " \"Senior Data Scientist, NLP Are you excited about working at the forefront of applied research in an industry setting? Thomson Reuters Labs in Bangalore is seeking experienced data scientists with a passion for solving problems using state-of-the-art Machine Learning and Natural Language Processing. What does Thomson Reuters Labs do? We experiment, we build, we deliver. We support the organization and our customers through applied research and the development of new products and technologies. TR Labs innovates collaboratively across our core segments in Legal, Tax & Accounting, Government, and Reuters News.  We undertake a diverse portfolio of projects today while investing in long-term research for the future. As a data scientist in Labs, you will be part of a global interdisciplinary team of experts. We hire specialists across a variety of AI research areas, as well as Engineering and Design, to drive the company's digital transformation. TR Labs is known for consistently delivering Artificial Intelligence projects that advance the state of the art in support of high growth products and serve Thomson Reuters customers in new and exciting ways.  About the role In this opportunity as a Senior Data Scientist, you will: Experiment and Develop: You will drive the entire model development lifecycle, building, testing, and delivering high-quality solutions. You will apply best practices for conducting reproducible research and well-managed software delivery. Collaborate: Working on a collaborative cross-functional team, you will share information, value diverse ideas, and partner effectively with colleagues across the globe. You will elevate and mentor teammates. Deliver: With a strong sense of urgency and the desire to work in a fast-paced, dynamic environment, you will translate complex business problems into projects with a clearly defined scope. Our problems are complex; our solutions are right-sized. You will be accountable for timely, well-managed deliverables. Innovate:  You will be empowered to try new approaches and learn new technologies. You will implement innovative ideas to solve real-world challenges. Inspire: You will be a proactive communicator who is excited to share your work. You will be articulate and compelling in describing ideas to both technical and non-technical audiences. You will help lead the way in the adoption of AI across the enterprise.  About you Basic qualifications Ph.D. in a relevant discipline or Masters plus a comparable level of experience At least five years experience building ML/NLP systems Solid software engineering skills for prototyping Experience as a technical leader, coordinating and guiding the work of others Preferred qualifications 8+ years of academic or industry experience building ML or NLP systems with the demonstrated ability to translate cutting edge research into working applications Demonstrated ability to translate customer needs into well-structured research/project plans Proficiency in Python, Java, or Scala and experience delivering minimum viable products in a large enterprise environment Outstanding communication, organization, and data-driven decision making Publications at workshops or conferences such as ACL, EMNLP, KDD, ICML, NeurIPS, or similar  What's in it for you At Thomson Reuters, our people are our greatest assets. In addition to rewarding and challenging work with exceptional colleagues, we offer the following benefits for your personal and professional growth: Learning & Development: On-the-job coaching & learning, tuition reimbursement, exposure to leading-edge technology Our Scientists and Engineers get to play with big data sets to discover new products, capabilities, and insights for our customers. Thomson Reuters is most well-known for the globally respected Reuters News agency, but our company is also the leading source of information for legal, corporate, and tax professionals. We have over 60,000 TBs worth of legal, regulatory, news, and tax data.  Benefits: Flexible work arrangements, comprehensive health coverage effective day one, savings and investment plans Perks: Social events & activities, employee discount programs Social Impact: Paid time off for volunteering virtually or in your community\",\n",
       " \"Responsibilities :  - Analytics lead on client projects responsible for data science application development, Works closely with cross-functional teams.  - Takes responsibility for requirements gathering, solution design, development, and developing a production-level data science solution  - Develop implementation guidelines, quality control procedures, and documentation for projects. Ensures adherence to the best practices in the project  - Guide team members on project work and take responsibility for the analytics deliverables  - Take initiatives to drive data science initiatives like training to the team, conduct proof-of-concept work to test new data science algorithms or features with support of data science leadership  Must have Skills and Experience: :  - At least a year of experience of leading machine learning or forecasting projects to meet the customers- business requirement  - 5-6 years of project experience using machine learning techniques (like Decision Trees, Gradient Boosting, Random Forest, and Neural Networks) or forecasting techniques (ESM, ARIMA, ARIMAX, UCM)  - Advance level skills in Python and SQL to work on large scale data  - Expertise and ability to train team members in Advanced Python for Data Science, Machine Learning / Forecasting, and SQL  Education:  - Bachelor /Master's degree in technology or engineering or quantitative field (e.g. MSc in Statistics and Operations Research, M Tech in Industrial Engineering, Applied Math/Statistics, Computer Science)  - Experience in retail, manufacturing, and consumer goods industry  - Experience of operationalization of the machine learning or forecasting models in the cloud or on-premises platform\"]"
      ]
     },
     "execution_count": 141,
     "metadata": {},
     "output_type": "execute_result"
    }
   ],
   "source": [
    "job_description_tag = driver.find_element_by_xpath(\"//div[@class='dang-inner-html']\")\n",
    "job_description.append(job_description_tag.text.replace(\"\\n\",\" \"))\n",
    "job_description"
   ]
  },
  {
   "cell_type": "code",
   "execution_count": 142,
   "metadata": {},
   "outputs": [],
   "source": [
    "driver.get(\"https://www.naukri.com/job-listings-data-scientist-bridgetree-research-services-private-limited-bangalore-bengaluru-4-to-5-years-111021005895?src=jobsearchDesk&sid=16341657271311938&xp=6&px=1\")"
   ]
  },
  {
   "cell_type": "code",
   "execution_count": 143,
   "metadata": {},
   "outputs": [
    {
     "data": {
      "text/plain": [
       "['We are looking for a Lead data scientist who will help us discover the information hidden in vast amounts of Ad Campaign data, and help us to optimize the campaign to improve the advertiser ROI and improve the overall consumer experience. Your primary focus will be in applying data mining techniques, doing statistical analysis, and building high quality prediction systems using Deep learning algorithms integrated with our products. Some the key area you will be working on spend recommendation, floor price prediction, CTR/CVR prediction, market funnel analysis and perdition of lead to conversion, etc.  Responsibility: Analyze the data, develop insights and identify the opportunity to utilize the data to predict various Advertisement key indicators like CTR, CVR, Inventory and Develop prediction and optimization algorithms for campaign, look alike modeling, etc for Huawei Ads. Takeup key challenges in AI-driven Smart Ad Serving Platform and focus on research and developing leading AI algorithms and productionize for Huawei Ads. Takeup initiative in identifying the SOTA and finding key gaps in AI algorithms and develop a world leading AI algorithms for optimizing real-time Ad Serving engine. Identify and optimize the core modules such as Traffic Prediction, Optimization, Ad Targeting/Re-targeting, Ad Performance Optimization, Audience insights, Attribution, Bidding, re-ranking, and Diagnostics. Support hundreds of billions of ad requests per day, with efficiently cache technology. To build and enhance Ad platform features and Prediction capabilities in Huawei Ads Platform Optimized Cost Per Mille; Optimized Cost Per Action; Optimized Cost Per Click and Cost per Click. OCPM, OCPA, OCPC.  Requirements: - Strong hands-on experience in implementing and validating big data algorithms and models including Deep Learning models like Seq2Seq/ GRU/ RNN/LSTM , Knowledge Graph, Massive Graph algorithms, etc. - Programming experience with Python - Able to validate existing models including Deep Learning models with large scale dataset and able to make changes to the models to achieve better performance - AdServing domain Experience is an added advantage.',\n",
       " 'Duties and Responsibilities Implement the application solving customer s issue by applying AI/ML technologies Apply ML and DL models for various industry problems. Setting-up collaboration environment and framework for AI related research and development projects. Design and develop different architectural models for scalable data storage, processing, and large-scale analytics. Work with cross-functional teams to understand technical needs. Set-up big data environment that helps establish rapid POCs and prototype developments on both on-premises and cloud-based platforms. Monitor and optimize performance of the big data ecosystem. Ensure data accessibility to researchers via different programming languages. Keep up to date with state of the art in the industry. Qualifications Minimum Bachelor s degree in Computer Science with substantial industry experience of 5 years or more of Data Engineering/ETL/Administration experience. Hands-on experience in Statistical data analysis and Machine learning Possess significant knowledge of Big Data technologies and tools. Good coding skills in at least one scripting language (Shell, Python, R, etc.) Experience with various Hadoop distribution like Hortonworks and Cloudera. Knowledge of cluster monitoring tools like Ambari, Ganglia, or Nagios. Delivered Big Data solutions in the cloud with AWS or Azure or Google Cloud. Experience in Java programming, Scala programming. Experience with RDBMS (MySQL, PostgreSQL, etc.) Experience with NoSQL database administration development like MongoDB. Experience with Hadoop eco-system (MapReduce, Streaming, Pig, HIVE, Spark). Experience using DevOps toolbox such as Jenkins, Chef, Puppet. Proven ability to create and manage big data pipeline using Kafka, Flume Spark Knowledge of BI tools such as Tableau, Pentaho, etc. Experience building large-scale distributed applications and services. Experience with agile development methodologies. - Knowledge of industry standards and trends. Good communication, logical thinking, and presentation skills. Additional qualifications (preferred but not mandatory) Master s degree in Computer Science or equivalent with at least 5 years industry experience of data engineering/ETL/Administration. Experience applying Deep learning. Substantial industry experience developing prototypes and demonstrating PoCs',\n",
       " 'Roles and Responsibilities PhD in Statistics, Math or Computer Science is preferred. Must have at least a Master degree with 10+ years of experience. Excellent statistical analysis skills to identify patterns in data. This includes having a keen sense of pattern detection and anomaly detection. Excellent understanding of machine learning techniques and algorithms, such as k-NN, Naive Bayes, SVM, Decision Forests, etc. Must be able to implement algorithms and statistical concepts to build predictive models. In-depth experience with common data science tools such as TensorFlow, PyTorch or equivalent. Proficient in programming with python, SQL and No-SQL databases; and data science libraries such as nltk, numpy, scipy and many others Great communication skills both written and verbal. Must be able to effectively communicate with global English speaking teams. Expertise in collaborating with multi-disciplinary teams of business analysts, data scientists, subject matter experts, and developers Desired Candidate Profile   Perks and Benefits',\n",
       " \"Senior Data Scientist, NLP Are you excited about working at the forefront of applied research in an industry setting? Thomson Reuters Labs in Bangalore is seeking experienced data scientists with a passion for solving problems using state-of-the-art Machine Learning and Natural Language Processing. What does Thomson Reuters Labs do? We experiment, we build, we deliver. We support the organization and our customers through applied research and the development of new products and technologies. TR Labs innovates collaboratively across our core segments in Legal, Tax & Accounting, Government, and Reuters News.  We undertake a diverse portfolio of projects today while investing in long-term research for the future. As a data scientist in Labs, you will be part of a global interdisciplinary team of experts. We hire specialists across a variety of AI research areas, as well as Engineering and Design, to drive the company's digital transformation. TR Labs is known for consistently delivering Artificial Intelligence projects that advance the state of the art in support of high growth products and serve Thomson Reuters customers in new and exciting ways.  About the role In this opportunity as a Senior Data Scientist, you will: Experiment and Develop: You will drive the entire model development lifecycle, building, testing, and delivering high-quality solutions. You will apply best practices for conducting reproducible research and well-managed software delivery. Collaborate: Working on a collaborative cross-functional team, you will share information, value diverse ideas, and partner effectively with colleagues across the globe. You will elevate and mentor teammates. Deliver: With a strong sense of urgency and the desire to work in a fast-paced, dynamic environment, you will translate complex business problems into projects with a clearly defined scope. Our problems are complex; our solutions are right-sized. You will be accountable for timely, well-managed deliverables. Innovate:  You will be empowered to try new approaches and learn new technologies. You will implement innovative ideas to solve real-world challenges. Inspire: You will be a proactive communicator who is excited to share your work. You will be articulate and compelling in describing ideas to both technical and non-technical audiences. You will help lead the way in the adoption of AI across the enterprise.  About you Basic qualifications Ph.D. in a relevant discipline or Masters plus a comparable level of experience At least five years experience building ML/NLP systems Solid software engineering skills for prototyping Experience as a technical leader, coordinating and guiding the work of others Preferred qualifications 8+ years of academic or industry experience building ML or NLP systems with the demonstrated ability to translate cutting edge research into working applications Demonstrated ability to translate customer needs into well-structured research/project plans Proficiency in Python, Java, or Scala and experience delivering minimum viable products in a large enterprise environment Outstanding communication, organization, and data-driven decision making Publications at workshops or conferences such as ACL, EMNLP, KDD, ICML, NeurIPS, or similar  What's in it for you At Thomson Reuters, our people are our greatest assets. In addition to rewarding and challenging work with exceptional colleagues, we offer the following benefits for your personal and professional growth: Learning & Development: On-the-job coaching & learning, tuition reimbursement, exposure to leading-edge technology Our Scientists and Engineers get to play with big data sets to discover new products, capabilities, and insights for our customers. Thomson Reuters is most well-known for the globally respected Reuters News agency, but our company is also the leading source of information for legal, corporate, and tax professionals. We have over 60,000 TBs worth of legal, regulatory, news, and tax data.  Benefits: Flexible work arrangements, comprehensive health coverage effective day one, savings and investment plans Perks: Social events & activities, employee discount programs Social Impact: Paid time off for volunteering virtually or in your community\",\n",
       " \"Responsibilities :  - Analytics lead on client projects responsible for data science application development, Works closely with cross-functional teams.  - Takes responsibility for requirements gathering, solution design, development, and developing a production-level data science solution  - Develop implementation guidelines, quality control procedures, and documentation for projects. Ensures adherence to the best practices in the project  - Guide team members on project work and take responsibility for the analytics deliverables  - Take initiatives to drive data science initiatives like training to the team, conduct proof-of-concept work to test new data science algorithms or features with support of data science leadership  Must have Skills and Experience: :  - At least a year of experience of leading machine learning or forecasting projects to meet the customers- business requirement  - 5-6 years of project experience using machine learning techniques (like Decision Trees, Gradient Boosting, Random Forest, and Neural Networks) or forecasting techniques (ESM, ARIMA, ARIMAX, UCM)  - Advance level skills in Python and SQL to work on large scale data  - Expertise and ability to train team members in Advanced Python for Data Science, Machine Learning / Forecasting, and SQL  Education:  - Bachelor /Master's degree in technology or engineering or quantitative field (e.g. MSc in Statistics and Operations Research, M Tech in Industrial Engineering, Applied Math/Statistics, Computer Science)  - Experience in retail, manufacturing, and consumer goods industry  - Experience of operationalization of the machine learning or forecasting models in the cloud or on-premises platform\",\n",
       " \"We are seeking a Data Scientist to join our growing Analytics & Reporting team with strong hands-on analytical skills who can leverage disparate datasets, ensure data integrity and quality, create innovative solutions, and provide actionable insights to improve quality, service and customer outcomes. The ideal candidate will have experience with database technologies, operational analytics, working knowledge of Artificial Intelligence/Machine Learning (AI/ML) techniques. You will use statistical creativity and intellectual curiosity to create some of the most impressive statistical analyses that will propel our clients to the next level.  Responsibilities Be a collaborative member of a group that translates business questions into practical results and actionable insights. Analyze complex data sets, develop standardized processes, and support various ad-hoc analytic requests like KPI reporting, customer profiling, campaign response analysis, and advanced analytic modeling. Write programs to cleanse and integrate data in an efficient and reusable manner. Ensure data quality and analytic accuracy before presenting to the stakeholders. Implement and validate predictive and prescriptive models; create and maintain statistical models with a focus on big data. Incorporate a variety of statistical and machine learning techniques in your projects. Work on complex problems and act as a consultant on other ML/ Data engineering projects. Produce accurate data reporting and provide recommendations for improving future reports. Provide insights into channel effectiveness and targeting effectiveness to drive better channel personalization as opportunities to improve program success. Evaluate modelling results and communicate the results to technical and non-technical audiences. Research emerging tools and techniques in reporting and analytics.  Qualifications Degree in a highly relevant analytical or technical field, such as statistics, data science, or business analytics. 4+ years of direct program and analysis experience in retail with a strong emphasis on answering complex business questions and developing practical solutions. Experience in a data-driven environment providing analytics & insights. Knowledge of predictive analytics, statistical modelling, model interpretation, exploratory data analysis and reporting. Extensive experience with large data sets, statistical analyses, and visualization as well as hands on experience with Python, SQL, and Tableau. Ability to quickly learn and take responsibility to deliver from preferred programming tool.  Perks and Benefits Bridgetree understands that our people are our true assets, and we go length and breadth to ensure we have a highly engaged and connected working environment. Our values - Integrity, Excellence, Ownership & Accountability, Create Problem Solving, Passion & Here to Help play an important role in defining and shaping Bridgetree's work culture. Quarterly skip-level meetings & annual manager feedback program ensure that employee communication channels are always open. Bridgetree also offers the best in Industry perks and benefits. We follow a calendar cycle for performance/salary appraisal and include a great bonus model in pay structure. Additionally, some of the key benefits we offer are: A whole suite of leaves, PL, ML, Paternity, Quarantine, Sabbatical etc,  Medical insurance benefits (including COVID hospitalization) Learning and Development - certification reimbursement Full-time WFH Visa sponsorship program Sodexo/Zaggle food card options Relocation benefits\"]"
      ]
     },
     "execution_count": 143,
     "metadata": {},
     "output_type": "execute_result"
    }
   ],
   "source": [
    "job_description_tag = driver.find_element_by_xpath(\"//div[@class='dang-inner-html']\")\n",
    "job_description.append(job_description_tag.text.replace(\"\\n\",\" \"))\n",
    "job_description"
   ]
  },
  {
   "cell_type": "code",
   "execution_count": 144,
   "metadata": {},
   "outputs": [],
   "source": [
    "driver.get(\"https://www.naukri.com/job-listings-data-scientist-staffio-hr-bangalore-bengaluru-4-to-6-years-131021501523?src=jobsearchDesk&sid=16341657848835323&xp=7&px=1\")"
   ]
  },
  {
   "cell_type": "code",
   "execution_count": 145,
   "metadata": {},
   "outputs": [
    {
     "data": {
      "text/plain": [
       "['We are looking for a Lead data scientist who will help us discover the information hidden in vast amounts of Ad Campaign data, and help us to optimize the campaign to improve the advertiser ROI and improve the overall consumer experience. Your primary focus will be in applying data mining techniques, doing statistical analysis, and building high quality prediction systems using Deep learning algorithms integrated with our products. Some the key area you will be working on spend recommendation, floor price prediction, CTR/CVR prediction, market funnel analysis and perdition of lead to conversion, etc.  Responsibility: Analyze the data, develop insights and identify the opportunity to utilize the data to predict various Advertisement key indicators like CTR, CVR, Inventory and Develop prediction and optimization algorithms for campaign, look alike modeling, etc for Huawei Ads. Takeup key challenges in AI-driven Smart Ad Serving Platform and focus on research and developing leading AI algorithms and productionize for Huawei Ads. Takeup initiative in identifying the SOTA and finding key gaps in AI algorithms and develop a world leading AI algorithms for optimizing real-time Ad Serving engine. Identify and optimize the core modules such as Traffic Prediction, Optimization, Ad Targeting/Re-targeting, Ad Performance Optimization, Audience insights, Attribution, Bidding, re-ranking, and Diagnostics. Support hundreds of billions of ad requests per day, with efficiently cache technology. To build and enhance Ad platform features and Prediction capabilities in Huawei Ads Platform Optimized Cost Per Mille; Optimized Cost Per Action; Optimized Cost Per Click and Cost per Click. OCPM, OCPA, OCPC.  Requirements: - Strong hands-on experience in implementing and validating big data algorithms and models including Deep Learning models like Seq2Seq/ GRU/ RNN/LSTM , Knowledge Graph, Massive Graph algorithms, etc. - Programming experience with Python - Able to validate existing models including Deep Learning models with large scale dataset and able to make changes to the models to achieve better performance - AdServing domain Experience is an added advantage.',\n",
       " 'Duties and Responsibilities Implement the application solving customer s issue by applying AI/ML technologies Apply ML and DL models for various industry problems. Setting-up collaboration environment and framework for AI related research and development projects. Design and develop different architectural models for scalable data storage, processing, and large-scale analytics. Work with cross-functional teams to understand technical needs. Set-up big data environment that helps establish rapid POCs and prototype developments on both on-premises and cloud-based platforms. Monitor and optimize performance of the big data ecosystem. Ensure data accessibility to researchers via different programming languages. Keep up to date with state of the art in the industry. Qualifications Minimum Bachelor s degree in Computer Science with substantial industry experience of 5 years or more of Data Engineering/ETL/Administration experience. Hands-on experience in Statistical data analysis and Machine learning Possess significant knowledge of Big Data technologies and tools. Good coding skills in at least one scripting language (Shell, Python, R, etc.) Experience with various Hadoop distribution like Hortonworks and Cloudera. Knowledge of cluster monitoring tools like Ambari, Ganglia, or Nagios. Delivered Big Data solutions in the cloud with AWS or Azure or Google Cloud. Experience in Java programming, Scala programming. Experience with RDBMS (MySQL, PostgreSQL, etc.) Experience with NoSQL database administration development like MongoDB. Experience with Hadoop eco-system (MapReduce, Streaming, Pig, HIVE, Spark). Experience using DevOps toolbox such as Jenkins, Chef, Puppet. Proven ability to create and manage big data pipeline using Kafka, Flume Spark Knowledge of BI tools such as Tableau, Pentaho, etc. Experience building large-scale distributed applications and services. Experience with agile development methodologies. - Knowledge of industry standards and trends. Good communication, logical thinking, and presentation skills. Additional qualifications (preferred but not mandatory) Master s degree in Computer Science or equivalent with at least 5 years industry experience of data engineering/ETL/Administration. Experience applying Deep learning. Substantial industry experience developing prototypes and demonstrating PoCs',\n",
       " 'Roles and Responsibilities PhD in Statistics, Math or Computer Science is preferred. Must have at least a Master degree with 10+ years of experience. Excellent statistical analysis skills to identify patterns in data. This includes having a keen sense of pattern detection and anomaly detection. Excellent understanding of machine learning techniques and algorithms, such as k-NN, Naive Bayes, SVM, Decision Forests, etc. Must be able to implement algorithms and statistical concepts to build predictive models. In-depth experience with common data science tools such as TensorFlow, PyTorch or equivalent. Proficient in programming with python, SQL and No-SQL databases; and data science libraries such as nltk, numpy, scipy and many others Great communication skills both written and verbal. Must be able to effectively communicate with global English speaking teams. Expertise in collaborating with multi-disciplinary teams of business analysts, data scientists, subject matter experts, and developers Desired Candidate Profile   Perks and Benefits',\n",
       " \"Senior Data Scientist, NLP Are you excited about working at the forefront of applied research in an industry setting? Thomson Reuters Labs in Bangalore is seeking experienced data scientists with a passion for solving problems using state-of-the-art Machine Learning and Natural Language Processing. What does Thomson Reuters Labs do? We experiment, we build, we deliver. We support the organization and our customers through applied research and the development of new products and technologies. TR Labs innovates collaboratively across our core segments in Legal, Tax & Accounting, Government, and Reuters News.  We undertake a diverse portfolio of projects today while investing in long-term research for the future. As a data scientist in Labs, you will be part of a global interdisciplinary team of experts. We hire specialists across a variety of AI research areas, as well as Engineering and Design, to drive the company's digital transformation. TR Labs is known for consistently delivering Artificial Intelligence projects that advance the state of the art in support of high growth products and serve Thomson Reuters customers in new and exciting ways.  About the role In this opportunity as a Senior Data Scientist, you will: Experiment and Develop: You will drive the entire model development lifecycle, building, testing, and delivering high-quality solutions. You will apply best practices for conducting reproducible research and well-managed software delivery. Collaborate: Working on a collaborative cross-functional team, you will share information, value diverse ideas, and partner effectively with colleagues across the globe. You will elevate and mentor teammates. Deliver: With a strong sense of urgency and the desire to work in a fast-paced, dynamic environment, you will translate complex business problems into projects with a clearly defined scope. Our problems are complex; our solutions are right-sized. You will be accountable for timely, well-managed deliverables. Innovate:  You will be empowered to try new approaches and learn new technologies. You will implement innovative ideas to solve real-world challenges. Inspire: You will be a proactive communicator who is excited to share your work. You will be articulate and compelling in describing ideas to both technical and non-technical audiences. You will help lead the way in the adoption of AI across the enterprise.  About you Basic qualifications Ph.D. in a relevant discipline or Masters plus a comparable level of experience At least five years experience building ML/NLP systems Solid software engineering skills for prototyping Experience as a technical leader, coordinating and guiding the work of others Preferred qualifications 8+ years of academic or industry experience building ML or NLP systems with the demonstrated ability to translate cutting edge research into working applications Demonstrated ability to translate customer needs into well-structured research/project plans Proficiency in Python, Java, or Scala and experience delivering minimum viable products in a large enterprise environment Outstanding communication, organization, and data-driven decision making Publications at workshops or conferences such as ACL, EMNLP, KDD, ICML, NeurIPS, or similar  What's in it for you At Thomson Reuters, our people are our greatest assets. In addition to rewarding and challenging work with exceptional colleagues, we offer the following benefits for your personal and professional growth: Learning & Development: On-the-job coaching & learning, tuition reimbursement, exposure to leading-edge technology Our Scientists and Engineers get to play with big data sets to discover new products, capabilities, and insights for our customers. Thomson Reuters is most well-known for the globally respected Reuters News agency, but our company is also the leading source of information for legal, corporate, and tax professionals. We have over 60,000 TBs worth of legal, regulatory, news, and tax data.  Benefits: Flexible work arrangements, comprehensive health coverage effective day one, savings and investment plans Perks: Social events & activities, employee discount programs Social Impact: Paid time off for volunteering virtually or in your community\",\n",
       " \"Responsibilities :  - Analytics lead on client projects responsible for data science application development, Works closely with cross-functional teams.  - Takes responsibility for requirements gathering, solution design, development, and developing a production-level data science solution  - Develop implementation guidelines, quality control procedures, and documentation for projects. Ensures adherence to the best practices in the project  - Guide team members on project work and take responsibility for the analytics deliverables  - Take initiatives to drive data science initiatives like training to the team, conduct proof-of-concept work to test new data science algorithms or features with support of data science leadership  Must have Skills and Experience: :  - At least a year of experience of leading machine learning or forecasting projects to meet the customers- business requirement  - 5-6 years of project experience using machine learning techniques (like Decision Trees, Gradient Boosting, Random Forest, and Neural Networks) or forecasting techniques (ESM, ARIMA, ARIMAX, UCM)  - Advance level skills in Python and SQL to work on large scale data  - Expertise and ability to train team members in Advanced Python for Data Science, Machine Learning / Forecasting, and SQL  Education:  - Bachelor /Master's degree in technology or engineering or quantitative field (e.g. MSc in Statistics and Operations Research, M Tech in Industrial Engineering, Applied Math/Statistics, Computer Science)  - Experience in retail, manufacturing, and consumer goods industry  - Experience of operationalization of the machine learning or forecasting models in the cloud or on-premises platform\",\n",
       " \"We are seeking a Data Scientist to join our growing Analytics & Reporting team with strong hands-on analytical skills who can leverage disparate datasets, ensure data integrity and quality, create innovative solutions, and provide actionable insights to improve quality, service and customer outcomes. The ideal candidate will have experience with database technologies, operational analytics, working knowledge of Artificial Intelligence/Machine Learning (AI/ML) techniques. You will use statistical creativity and intellectual curiosity to create some of the most impressive statistical analyses that will propel our clients to the next level.  Responsibilities Be a collaborative member of a group that translates business questions into practical results and actionable insights. Analyze complex data sets, develop standardized processes, and support various ad-hoc analytic requests like KPI reporting, customer profiling, campaign response analysis, and advanced analytic modeling. Write programs to cleanse and integrate data in an efficient and reusable manner. Ensure data quality and analytic accuracy before presenting to the stakeholders. Implement and validate predictive and prescriptive models; create and maintain statistical models with a focus on big data. Incorporate a variety of statistical and machine learning techniques in your projects. Work on complex problems and act as a consultant on other ML/ Data engineering projects. Produce accurate data reporting and provide recommendations for improving future reports. Provide insights into channel effectiveness and targeting effectiveness to drive better channel personalization as opportunities to improve program success. Evaluate modelling results and communicate the results to technical and non-technical audiences. Research emerging tools and techniques in reporting and analytics.  Qualifications Degree in a highly relevant analytical or technical field, such as statistics, data science, or business analytics. 4+ years of direct program and analysis experience in retail with a strong emphasis on answering complex business questions and developing practical solutions. Experience in a data-driven environment providing analytics & insights. Knowledge of predictive analytics, statistical modelling, model interpretation, exploratory data analysis and reporting. Extensive experience with large data sets, statistical analyses, and visualization as well as hands on experience with Python, SQL, and Tableau. Ability to quickly learn and take responsibility to deliver from preferred programming tool.  Perks and Benefits Bridgetree understands that our people are our true assets, and we go length and breadth to ensure we have a highly engaged and connected working environment. Our values - Integrity, Excellence, Ownership & Accountability, Create Problem Solving, Passion & Here to Help play an important role in defining and shaping Bridgetree's work culture. Quarterly skip-level meetings & annual manager feedback program ensure that employee communication channels are always open. Bridgetree also offers the best in Industry perks and benefits. We follow a calendar cycle for performance/salary appraisal and include a great bonus model in pay structure. Additionally, some of the key benefits we offer are: A whole suite of leaves, PL, ML, Paternity, Quarantine, Sabbatical etc,  Medical insurance benefits (including COVID hospitalization) Learning and Development - certification reimbursement Full-time WFH Visa sponsorship program Sodexo/Zaggle food card options Relocation benefits\",\n",
       " '  Prior experience of working with large-scale datasets (10s of millions of documents) is strongly preferred. End-to-end ownership of developing the model, writing production quality code and deploying the model is an expectation of the job. Experience in data cleansing and preparation concepts and tools. Prior experience of working with startups is strongly preferred. Expertise in probability and statistics, time-series analysis as well as experience in the use of machine learning methods, for example, linear regression, correlation, statistical significance, and so forth. Experience in data visualization concepts and tools Experience with Data Quality Controls. Tech Requirements Experience in NLP is a must. Programming Languages: Hands-on with Python and Java. Strong background in relational databases, data modeling and SQL. Experience working with statistical libraries (e.g scikit-learn) and frameworks for predictive analytics. Knowledge of Hadoop and UNIX will be a plus. Knowledge of Kibana and/or other reporting tools is preferred.']"
      ]
     },
     "execution_count": 145,
     "metadata": {},
     "output_type": "execute_result"
    }
   ],
   "source": [
    "job_description_tag = driver.find_element_by_xpath(\"//div[@class='dang-inner-html']\")\n",
    "job_description.append(job_description_tag.text.replace(\"\\n\",\" \"))\n",
    "job_description"
   ]
  },
  {
   "cell_type": "code",
   "execution_count": 146,
   "metadata": {},
   "outputs": [],
   "source": [
    "driver.get(\"https://www.naukri.com/job-listings-data-scientist-flipkart-internet-private-limited-bangalore-bengaluru-3-to-6-years-081021906627?src=jobsearchDesk&sid=16341658612835853&xp=8&px=1\")"
   ]
  },
  {
   "cell_type": "code",
   "execution_count": 147,
   "metadata": {},
   "outputs": [
    {
     "data": {
      "text/plain": [
       "['We are looking for a Lead data scientist who will help us discover the information hidden in vast amounts of Ad Campaign data, and help us to optimize the campaign to improve the advertiser ROI and improve the overall consumer experience. Your primary focus will be in applying data mining techniques, doing statistical analysis, and building high quality prediction systems using Deep learning algorithms integrated with our products. Some the key area you will be working on spend recommendation, floor price prediction, CTR/CVR prediction, market funnel analysis and perdition of lead to conversion, etc.  Responsibility: Analyze the data, develop insights and identify the opportunity to utilize the data to predict various Advertisement key indicators like CTR, CVR, Inventory and Develop prediction and optimization algorithms for campaign, look alike modeling, etc for Huawei Ads. Takeup key challenges in AI-driven Smart Ad Serving Platform and focus on research and developing leading AI algorithms and productionize for Huawei Ads. Takeup initiative in identifying the SOTA and finding key gaps in AI algorithms and develop a world leading AI algorithms for optimizing real-time Ad Serving engine. Identify and optimize the core modules such as Traffic Prediction, Optimization, Ad Targeting/Re-targeting, Ad Performance Optimization, Audience insights, Attribution, Bidding, re-ranking, and Diagnostics. Support hundreds of billions of ad requests per day, with efficiently cache technology. To build and enhance Ad platform features and Prediction capabilities in Huawei Ads Platform Optimized Cost Per Mille; Optimized Cost Per Action; Optimized Cost Per Click and Cost per Click. OCPM, OCPA, OCPC.  Requirements: - Strong hands-on experience in implementing and validating big data algorithms and models including Deep Learning models like Seq2Seq/ GRU/ RNN/LSTM , Knowledge Graph, Massive Graph algorithms, etc. - Programming experience with Python - Able to validate existing models including Deep Learning models with large scale dataset and able to make changes to the models to achieve better performance - AdServing domain Experience is an added advantage.',\n",
       " 'Duties and Responsibilities Implement the application solving customer s issue by applying AI/ML technologies Apply ML and DL models for various industry problems. Setting-up collaboration environment and framework for AI related research and development projects. Design and develop different architectural models for scalable data storage, processing, and large-scale analytics. Work with cross-functional teams to understand technical needs. Set-up big data environment that helps establish rapid POCs and prototype developments on both on-premises and cloud-based platforms. Monitor and optimize performance of the big data ecosystem. Ensure data accessibility to researchers via different programming languages. Keep up to date with state of the art in the industry. Qualifications Minimum Bachelor s degree in Computer Science with substantial industry experience of 5 years or more of Data Engineering/ETL/Administration experience. Hands-on experience in Statistical data analysis and Machine learning Possess significant knowledge of Big Data technologies and tools. Good coding skills in at least one scripting language (Shell, Python, R, etc.) Experience with various Hadoop distribution like Hortonworks and Cloudera. Knowledge of cluster monitoring tools like Ambari, Ganglia, or Nagios. Delivered Big Data solutions in the cloud with AWS or Azure or Google Cloud. Experience in Java programming, Scala programming. Experience with RDBMS (MySQL, PostgreSQL, etc.) Experience with NoSQL database administration development like MongoDB. Experience with Hadoop eco-system (MapReduce, Streaming, Pig, HIVE, Spark). Experience using DevOps toolbox such as Jenkins, Chef, Puppet. Proven ability to create and manage big data pipeline using Kafka, Flume Spark Knowledge of BI tools such as Tableau, Pentaho, etc. Experience building large-scale distributed applications and services. Experience with agile development methodologies. - Knowledge of industry standards and trends. Good communication, logical thinking, and presentation skills. Additional qualifications (preferred but not mandatory) Master s degree in Computer Science or equivalent with at least 5 years industry experience of data engineering/ETL/Administration. Experience applying Deep learning. Substantial industry experience developing prototypes and demonstrating PoCs',\n",
       " 'Roles and Responsibilities PhD in Statistics, Math or Computer Science is preferred. Must have at least a Master degree with 10+ years of experience. Excellent statistical analysis skills to identify patterns in data. This includes having a keen sense of pattern detection and anomaly detection. Excellent understanding of machine learning techniques and algorithms, such as k-NN, Naive Bayes, SVM, Decision Forests, etc. Must be able to implement algorithms and statistical concepts to build predictive models. In-depth experience with common data science tools such as TensorFlow, PyTorch or equivalent. Proficient in programming with python, SQL and No-SQL databases; and data science libraries such as nltk, numpy, scipy and many others Great communication skills both written and verbal. Must be able to effectively communicate with global English speaking teams. Expertise in collaborating with multi-disciplinary teams of business analysts, data scientists, subject matter experts, and developers Desired Candidate Profile   Perks and Benefits',\n",
       " \"Senior Data Scientist, NLP Are you excited about working at the forefront of applied research in an industry setting? Thomson Reuters Labs in Bangalore is seeking experienced data scientists with a passion for solving problems using state-of-the-art Machine Learning and Natural Language Processing. What does Thomson Reuters Labs do? We experiment, we build, we deliver. We support the organization and our customers through applied research and the development of new products and technologies. TR Labs innovates collaboratively across our core segments in Legal, Tax & Accounting, Government, and Reuters News.  We undertake a diverse portfolio of projects today while investing in long-term research for the future. As a data scientist in Labs, you will be part of a global interdisciplinary team of experts. We hire specialists across a variety of AI research areas, as well as Engineering and Design, to drive the company's digital transformation. TR Labs is known for consistently delivering Artificial Intelligence projects that advance the state of the art in support of high growth products and serve Thomson Reuters customers in new and exciting ways.  About the role In this opportunity as a Senior Data Scientist, you will: Experiment and Develop: You will drive the entire model development lifecycle, building, testing, and delivering high-quality solutions. You will apply best practices for conducting reproducible research and well-managed software delivery. Collaborate: Working on a collaborative cross-functional team, you will share information, value diverse ideas, and partner effectively with colleagues across the globe. You will elevate and mentor teammates. Deliver: With a strong sense of urgency and the desire to work in a fast-paced, dynamic environment, you will translate complex business problems into projects with a clearly defined scope. Our problems are complex; our solutions are right-sized. You will be accountable for timely, well-managed deliverables. Innovate:  You will be empowered to try new approaches and learn new technologies. You will implement innovative ideas to solve real-world challenges. Inspire: You will be a proactive communicator who is excited to share your work. You will be articulate and compelling in describing ideas to both technical and non-technical audiences. You will help lead the way in the adoption of AI across the enterprise.  About you Basic qualifications Ph.D. in a relevant discipline or Masters plus a comparable level of experience At least five years experience building ML/NLP systems Solid software engineering skills for prototyping Experience as a technical leader, coordinating and guiding the work of others Preferred qualifications 8+ years of academic or industry experience building ML or NLP systems with the demonstrated ability to translate cutting edge research into working applications Demonstrated ability to translate customer needs into well-structured research/project plans Proficiency in Python, Java, or Scala and experience delivering minimum viable products in a large enterprise environment Outstanding communication, organization, and data-driven decision making Publications at workshops or conferences such as ACL, EMNLP, KDD, ICML, NeurIPS, or similar  What's in it for you At Thomson Reuters, our people are our greatest assets. In addition to rewarding and challenging work with exceptional colleagues, we offer the following benefits for your personal and professional growth: Learning & Development: On-the-job coaching & learning, tuition reimbursement, exposure to leading-edge technology Our Scientists and Engineers get to play with big data sets to discover new products, capabilities, and insights for our customers. Thomson Reuters is most well-known for the globally respected Reuters News agency, but our company is also the leading source of information for legal, corporate, and tax professionals. We have over 60,000 TBs worth of legal, regulatory, news, and tax data.  Benefits: Flexible work arrangements, comprehensive health coverage effective day one, savings and investment plans Perks: Social events & activities, employee discount programs Social Impact: Paid time off for volunteering virtually or in your community\",\n",
       " \"Responsibilities :  - Analytics lead on client projects responsible for data science application development, Works closely with cross-functional teams.  - Takes responsibility for requirements gathering, solution design, development, and developing a production-level data science solution  - Develop implementation guidelines, quality control procedures, and documentation for projects. Ensures adherence to the best practices in the project  - Guide team members on project work and take responsibility for the analytics deliverables  - Take initiatives to drive data science initiatives like training to the team, conduct proof-of-concept work to test new data science algorithms or features with support of data science leadership  Must have Skills and Experience: :  - At least a year of experience of leading machine learning or forecasting projects to meet the customers- business requirement  - 5-6 years of project experience using machine learning techniques (like Decision Trees, Gradient Boosting, Random Forest, and Neural Networks) or forecasting techniques (ESM, ARIMA, ARIMAX, UCM)  - Advance level skills in Python and SQL to work on large scale data  - Expertise and ability to train team members in Advanced Python for Data Science, Machine Learning / Forecasting, and SQL  Education:  - Bachelor /Master's degree in technology or engineering or quantitative field (e.g. MSc in Statistics and Operations Research, M Tech in Industrial Engineering, Applied Math/Statistics, Computer Science)  - Experience in retail, manufacturing, and consumer goods industry  - Experience of operationalization of the machine learning or forecasting models in the cloud or on-premises platform\",\n",
       " \"We are seeking a Data Scientist to join our growing Analytics & Reporting team with strong hands-on analytical skills who can leverage disparate datasets, ensure data integrity and quality, create innovative solutions, and provide actionable insights to improve quality, service and customer outcomes. The ideal candidate will have experience with database technologies, operational analytics, working knowledge of Artificial Intelligence/Machine Learning (AI/ML) techniques. You will use statistical creativity and intellectual curiosity to create some of the most impressive statistical analyses that will propel our clients to the next level.  Responsibilities Be a collaborative member of a group that translates business questions into practical results and actionable insights. Analyze complex data sets, develop standardized processes, and support various ad-hoc analytic requests like KPI reporting, customer profiling, campaign response analysis, and advanced analytic modeling. Write programs to cleanse and integrate data in an efficient and reusable manner. Ensure data quality and analytic accuracy before presenting to the stakeholders. Implement and validate predictive and prescriptive models; create and maintain statistical models with a focus on big data. Incorporate a variety of statistical and machine learning techniques in your projects. Work on complex problems and act as a consultant on other ML/ Data engineering projects. Produce accurate data reporting and provide recommendations for improving future reports. Provide insights into channel effectiveness and targeting effectiveness to drive better channel personalization as opportunities to improve program success. Evaluate modelling results and communicate the results to technical and non-technical audiences. Research emerging tools and techniques in reporting and analytics.  Qualifications Degree in a highly relevant analytical or technical field, such as statistics, data science, or business analytics. 4+ years of direct program and analysis experience in retail with a strong emphasis on answering complex business questions and developing practical solutions. Experience in a data-driven environment providing analytics & insights. Knowledge of predictive analytics, statistical modelling, model interpretation, exploratory data analysis and reporting. Extensive experience with large data sets, statistical analyses, and visualization as well as hands on experience with Python, SQL, and Tableau. Ability to quickly learn and take responsibility to deliver from preferred programming tool.  Perks and Benefits Bridgetree understands that our people are our true assets, and we go length and breadth to ensure we have a highly engaged and connected working environment. Our values - Integrity, Excellence, Ownership & Accountability, Create Problem Solving, Passion & Here to Help play an important role in defining and shaping Bridgetree's work culture. Quarterly skip-level meetings & annual manager feedback program ensure that employee communication channels are always open. Bridgetree also offers the best in Industry perks and benefits. We follow a calendar cycle for performance/salary appraisal and include a great bonus model in pay structure. Additionally, some of the key benefits we offer are: A whole suite of leaves, PL, ML, Paternity, Quarantine, Sabbatical etc,  Medical insurance benefits (including COVID hospitalization) Learning and Development - certification reimbursement Full-time WFH Visa sponsorship program Sodexo/Zaggle food card options Relocation benefits\",\n",
       " '  Prior experience of working with large-scale datasets (10s of millions of documents) is strongly preferred. End-to-end ownership of developing the model, writing production quality code and deploying the model is an expectation of the job. Experience in data cleansing and preparation concepts and tools. Prior experience of working with startups is strongly preferred. Expertise in probability and statistics, time-series analysis as well as experience in the use of machine learning methods, for example, linear regression, correlation, statistical significance, and so forth. Experience in data visualization concepts and tools Experience with Data Quality Controls. Tech Requirements Experience in NLP is a must. Programming Languages: Hands-on with Python and Java. Strong background in relational databases, data modeling and SQL. Experience working with statistical libraries (e.g scikit-learn) and frameworks for predictive analytics. Knowledge of Hadoop and UNIX will be a plus. Knowledge of Kibana and/or other reporting tools is preferred.',\n",
       " 'About the role A Data Scientist in Flipkart is required to develop and implement a mix of ML, statistical and optimization models for the various projects formulated from business and product views. The responsible person should be able to communicate and collaborate with multiple stakeholders representing various teams to better understand the problem at hand. At a fundamental level, the responsible person should be able to dive deep into a problem statement and extract interesting insights as well as solutions. In addition to being a quick learner, a DS is expected to get involved in active research projects with a view to publish them. What you ll do Understand Business and product needs and use ML, statistical and optimization techniques as appropriate to provide solutions to those in a time bound fashion. Communicate and collaborate with business and product teams to have a better understanding of the project so as to be able to drive it within the DS team. Get involved in in-depth exploration of solutions that are to be shared with business and product teams; specifically, build models and scalable custom algorithms for problems including decision optimization and predictive modeling. Active participation in working with new methods and learning new technologies, in areas including data science and data engineering. What you ll need: B.Tech, M.Tech or PhD in CS, Operations Research or related discipline with professional experience ranging from 3 to 6 years through deployed solutions/projects. Candidate should have taken academic coursework in Operations Research (specifically mathematical optimization) Demonstrated experience in building discrete, linear, nonlinear or stochastic optimization models is required. Experience with optimization models for supply chain optimization is preferred but not required Demonstrated experience in utilizing and tuning commercial optimization solvers (e.g. CPLEX, Gurobi) and in building custom optimization algorithms (e.g. exact algorithms, metaheuristics, large neighborhood search, decomposition algorithms, greedy/randomized search) for industry-scale problems is required. Good grasp on the theory and practise of basic statistical models such as regression or clustering and general ML algorithms such as tree, Random Forests, SVM, Boosting, Neural Networks etc. It is not expected that the candidate has actually worked on all these modules. Strong proficiency in Python or R is necessary.']"
      ]
     },
     "execution_count": 147,
     "metadata": {},
     "output_type": "execute_result"
    }
   ],
   "source": [
    "job_description_tag = driver.find_element_by_xpath(\"//div[@class='dang-inner-html']\")\n",
    "job_description.append(job_description_tag.text.replace(\"\\n\",\" \"))\n",
    "job_description"
   ]
  },
  {
   "cell_type": "code",
   "execution_count": 148,
   "metadata": {},
   "outputs": [],
   "source": [
    "driver.get(\"https://www.naukri.com/job-listings-data-scientist-ai-flagship-schneider-electric-india-pvt-ltd-bangalore-bengaluru-4-to-7-years-081021501357?src=jobsearchDesk&sid=1634165892332840&xp=9&px=1\")"
   ]
  },
  {
   "cell_type": "code",
   "execution_count": 149,
   "metadata": {},
   "outputs": [
    {
     "data": {
      "text/plain": [
       "['We are looking for a Lead data scientist who will help us discover the information hidden in vast amounts of Ad Campaign data, and help us to optimize the campaign to improve the advertiser ROI and improve the overall consumer experience. Your primary focus will be in applying data mining techniques, doing statistical analysis, and building high quality prediction systems using Deep learning algorithms integrated with our products. Some the key area you will be working on spend recommendation, floor price prediction, CTR/CVR prediction, market funnel analysis and perdition of lead to conversion, etc.  Responsibility: Analyze the data, develop insights and identify the opportunity to utilize the data to predict various Advertisement key indicators like CTR, CVR, Inventory and Develop prediction and optimization algorithms for campaign, look alike modeling, etc for Huawei Ads. Takeup key challenges in AI-driven Smart Ad Serving Platform and focus on research and developing leading AI algorithms and productionize for Huawei Ads. Takeup initiative in identifying the SOTA and finding key gaps in AI algorithms and develop a world leading AI algorithms for optimizing real-time Ad Serving engine. Identify and optimize the core modules such as Traffic Prediction, Optimization, Ad Targeting/Re-targeting, Ad Performance Optimization, Audience insights, Attribution, Bidding, re-ranking, and Diagnostics. Support hundreds of billions of ad requests per day, with efficiently cache technology. To build and enhance Ad platform features and Prediction capabilities in Huawei Ads Platform Optimized Cost Per Mille; Optimized Cost Per Action; Optimized Cost Per Click and Cost per Click. OCPM, OCPA, OCPC.  Requirements: - Strong hands-on experience in implementing and validating big data algorithms and models including Deep Learning models like Seq2Seq/ GRU/ RNN/LSTM , Knowledge Graph, Massive Graph algorithms, etc. - Programming experience with Python - Able to validate existing models including Deep Learning models with large scale dataset and able to make changes to the models to achieve better performance - AdServing domain Experience is an added advantage.',\n",
       " 'Duties and Responsibilities Implement the application solving customer s issue by applying AI/ML technologies Apply ML and DL models for various industry problems. Setting-up collaboration environment and framework for AI related research and development projects. Design and develop different architectural models for scalable data storage, processing, and large-scale analytics. Work with cross-functional teams to understand technical needs. Set-up big data environment that helps establish rapid POCs and prototype developments on both on-premises and cloud-based platforms. Monitor and optimize performance of the big data ecosystem. Ensure data accessibility to researchers via different programming languages. Keep up to date with state of the art in the industry. Qualifications Minimum Bachelor s degree in Computer Science with substantial industry experience of 5 years or more of Data Engineering/ETL/Administration experience. Hands-on experience in Statistical data analysis and Machine learning Possess significant knowledge of Big Data technologies and tools. Good coding skills in at least one scripting language (Shell, Python, R, etc.) Experience with various Hadoop distribution like Hortonworks and Cloudera. Knowledge of cluster monitoring tools like Ambari, Ganglia, or Nagios. Delivered Big Data solutions in the cloud with AWS or Azure or Google Cloud. Experience in Java programming, Scala programming. Experience with RDBMS (MySQL, PostgreSQL, etc.) Experience with NoSQL database administration development like MongoDB. Experience with Hadoop eco-system (MapReduce, Streaming, Pig, HIVE, Spark). Experience using DevOps toolbox such as Jenkins, Chef, Puppet. Proven ability to create and manage big data pipeline using Kafka, Flume Spark Knowledge of BI tools such as Tableau, Pentaho, etc. Experience building large-scale distributed applications and services. Experience with agile development methodologies. - Knowledge of industry standards and trends. Good communication, logical thinking, and presentation skills. Additional qualifications (preferred but not mandatory) Master s degree in Computer Science or equivalent with at least 5 years industry experience of data engineering/ETL/Administration. Experience applying Deep learning. Substantial industry experience developing prototypes and demonstrating PoCs',\n",
       " 'Roles and Responsibilities PhD in Statistics, Math or Computer Science is preferred. Must have at least a Master degree with 10+ years of experience. Excellent statistical analysis skills to identify patterns in data. This includes having a keen sense of pattern detection and anomaly detection. Excellent understanding of machine learning techniques and algorithms, such as k-NN, Naive Bayes, SVM, Decision Forests, etc. Must be able to implement algorithms and statistical concepts to build predictive models. In-depth experience with common data science tools such as TensorFlow, PyTorch or equivalent. Proficient in programming with python, SQL and No-SQL databases; and data science libraries such as nltk, numpy, scipy and many others Great communication skills both written and verbal. Must be able to effectively communicate with global English speaking teams. Expertise in collaborating with multi-disciplinary teams of business analysts, data scientists, subject matter experts, and developers Desired Candidate Profile   Perks and Benefits',\n",
       " \"Senior Data Scientist, NLP Are you excited about working at the forefront of applied research in an industry setting? Thomson Reuters Labs in Bangalore is seeking experienced data scientists with a passion for solving problems using state-of-the-art Machine Learning and Natural Language Processing. What does Thomson Reuters Labs do? We experiment, we build, we deliver. We support the organization and our customers through applied research and the development of new products and technologies. TR Labs innovates collaboratively across our core segments in Legal, Tax & Accounting, Government, and Reuters News.  We undertake a diverse portfolio of projects today while investing in long-term research for the future. As a data scientist in Labs, you will be part of a global interdisciplinary team of experts. We hire specialists across a variety of AI research areas, as well as Engineering and Design, to drive the company's digital transformation. TR Labs is known for consistently delivering Artificial Intelligence projects that advance the state of the art in support of high growth products and serve Thomson Reuters customers in new and exciting ways.  About the role In this opportunity as a Senior Data Scientist, you will: Experiment and Develop: You will drive the entire model development lifecycle, building, testing, and delivering high-quality solutions. You will apply best practices for conducting reproducible research and well-managed software delivery. Collaborate: Working on a collaborative cross-functional team, you will share information, value diverse ideas, and partner effectively with colleagues across the globe. You will elevate and mentor teammates. Deliver: With a strong sense of urgency and the desire to work in a fast-paced, dynamic environment, you will translate complex business problems into projects with a clearly defined scope. Our problems are complex; our solutions are right-sized. You will be accountable for timely, well-managed deliverables. Innovate:  You will be empowered to try new approaches and learn new technologies. You will implement innovative ideas to solve real-world challenges. Inspire: You will be a proactive communicator who is excited to share your work. You will be articulate and compelling in describing ideas to both technical and non-technical audiences. You will help lead the way in the adoption of AI across the enterprise.  About you Basic qualifications Ph.D. in a relevant discipline or Masters plus a comparable level of experience At least five years experience building ML/NLP systems Solid software engineering skills for prototyping Experience as a technical leader, coordinating and guiding the work of others Preferred qualifications 8+ years of academic or industry experience building ML or NLP systems with the demonstrated ability to translate cutting edge research into working applications Demonstrated ability to translate customer needs into well-structured research/project plans Proficiency in Python, Java, or Scala and experience delivering minimum viable products in a large enterprise environment Outstanding communication, organization, and data-driven decision making Publications at workshops or conferences such as ACL, EMNLP, KDD, ICML, NeurIPS, or similar  What's in it for you At Thomson Reuters, our people are our greatest assets. In addition to rewarding and challenging work with exceptional colleagues, we offer the following benefits for your personal and professional growth: Learning & Development: On-the-job coaching & learning, tuition reimbursement, exposure to leading-edge technology Our Scientists and Engineers get to play with big data sets to discover new products, capabilities, and insights for our customers. Thomson Reuters is most well-known for the globally respected Reuters News agency, but our company is also the leading source of information for legal, corporate, and tax professionals. We have over 60,000 TBs worth of legal, regulatory, news, and tax data.  Benefits: Flexible work arrangements, comprehensive health coverage effective day one, savings and investment plans Perks: Social events & activities, employee discount programs Social Impact: Paid time off for volunteering virtually or in your community\",\n",
       " \"Responsibilities :  - Analytics lead on client projects responsible for data science application development, Works closely with cross-functional teams.  - Takes responsibility for requirements gathering, solution design, development, and developing a production-level data science solution  - Develop implementation guidelines, quality control procedures, and documentation for projects. Ensures adherence to the best practices in the project  - Guide team members on project work and take responsibility for the analytics deliverables  - Take initiatives to drive data science initiatives like training to the team, conduct proof-of-concept work to test new data science algorithms or features with support of data science leadership  Must have Skills and Experience: :  - At least a year of experience of leading machine learning or forecasting projects to meet the customers- business requirement  - 5-6 years of project experience using machine learning techniques (like Decision Trees, Gradient Boosting, Random Forest, and Neural Networks) or forecasting techniques (ESM, ARIMA, ARIMAX, UCM)  - Advance level skills in Python and SQL to work on large scale data  - Expertise and ability to train team members in Advanced Python for Data Science, Machine Learning / Forecasting, and SQL  Education:  - Bachelor /Master's degree in technology or engineering or quantitative field (e.g. MSc in Statistics and Operations Research, M Tech in Industrial Engineering, Applied Math/Statistics, Computer Science)  - Experience in retail, manufacturing, and consumer goods industry  - Experience of operationalization of the machine learning or forecasting models in the cloud or on-premises platform\",\n",
       " \"We are seeking a Data Scientist to join our growing Analytics & Reporting team with strong hands-on analytical skills who can leverage disparate datasets, ensure data integrity and quality, create innovative solutions, and provide actionable insights to improve quality, service and customer outcomes. The ideal candidate will have experience with database technologies, operational analytics, working knowledge of Artificial Intelligence/Machine Learning (AI/ML) techniques. You will use statistical creativity and intellectual curiosity to create some of the most impressive statistical analyses that will propel our clients to the next level.  Responsibilities Be a collaborative member of a group that translates business questions into practical results and actionable insights. Analyze complex data sets, develop standardized processes, and support various ad-hoc analytic requests like KPI reporting, customer profiling, campaign response analysis, and advanced analytic modeling. Write programs to cleanse and integrate data in an efficient and reusable manner. Ensure data quality and analytic accuracy before presenting to the stakeholders. Implement and validate predictive and prescriptive models; create and maintain statistical models with a focus on big data. Incorporate a variety of statistical and machine learning techniques in your projects. Work on complex problems and act as a consultant on other ML/ Data engineering projects. Produce accurate data reporting and provide recommendations for improving future reports. Provide insights into channel effectiveness and targeting effectiveness to drive better channel personalization as opportunities to improve program success. Evaluate modelling results and communicate the results to technical and non-technical audiences. Research emerging tools and techniques in reporting and analytics.  Qualifications Degree in a highly relevant analytical or technical field, such as statistics, data science, or business analytics. 4+ years of direct program and analysis experience in retail with a strong emphasis on answering complex business questions and developing practical solutions. Experience in a data-driven environment providing analytics & insights. Knowledge of predictive analytics, statistical modelling, model interpretation, exploratory data analysis and reporting. Extensive experience with large data sets, statistical analyses, and visualization as well as hands on experience with Python, SQL, and Tableau. Ability to quickly learn and take responsibility to deliver from preferred programming tool.  Perks and Benefits Bridgetree understands that our people are our true assets, and we go length and breadth to ensure we have a highly engaged and connected working environment. Our values - Integrity, Excellence, Ownership & Accountability, Create Problem Solving, Passion & Here to Help play an important role in defining and shaping Bridgetree's work culture. Quarterly skip-level meetings & annual manager feedback program ensure that employee communication channels are always open. Bridgetree also offers the best in Industry perks and benefits. We follow a calendar cycle for performance/salary appraisal and include a great bonus model in pay structure. Additionally, some of the key benefits we offer are: A whole suite of leaves, PL, ML, Paternity, Quarantine, Sabbatical etc,  Medical insurance benefits (including COVID hospitalization) Learning and Development - certification reimbursement Full-time WFH Visa sponsorship program Sodexo/Zaggle food card options Relocation benefits\",\n",
       " '  Prior experience of working with large-scale datasets (10s of millions of documents) is strongly preferred. End-to-end ownership of developing the model, writing production quality code and deploying the model is an expectation of the job. Experience in data cleansing and preparation concepts and tools. Prior experience of working with startups is strongly preferred. Expertise in probability and statistics, time-series analysis as well as experience in the use of machine learning methods, for example, linear regression, correlation, statistical significance, and so forth. Experience in data visualization concepts and tools Experience with Data Quality Controls. Tech Requirements Experience in NLP is a must. Programming Languages: Hands-on with Python and Java. Strong background in relational databases, data modeling and SQL. Experience working with statistical libraries (e.g scikit-learn) and frameworks for predictive analytics. Knowledge of Hadoop and UNIX will be a plus. Knowledge of Kibana and/or other reporting tools is preferred.',\n",
       " 'About the role A Data Scientist in Flipkart is required to develop and implement a mix of ML, statistical and optimization models for the various projects formulated from business and product views. The responsible person should be able to communicate and collaborate with multiple stakeholders representing various teams to better understand the problem at hand. At a fundamental level, the responsible person should be able to dive deep into a problem statement and extract interesting insights as well as solutions. In addition to being a quick learner, a DS is expected to get involved in active research projects with a view to publish them. What you ll do Understand Business and product needs and use ML, statistical and optimization techniques as appropriate to provide solutions to those in a time bound fashion. Communicate and collaborate with business and product teams to have a better understanding of the project so as to be able to drive it within the DS team. Get involved in in-depth exploration of solutions that are to be shared with business and product teams; specifically, build models and scalable custom algorithms for problems including decision optimization and predictive modeling. Active participation in working with new methods and learning new technologies, in areas including data science and data engineering. What you ll need: B.Tech, M.Tech or PhD in CS, Operations Research or related discipline with professional experience ranging from 3 to 6 years through deployed solutions/projects. Candidate should have taken academic coursework in Operations Research (specifically mathematical optimization) Demonstrated experience in building discrete, linear, nonlinear or stochastic optimization models is required. Experience with optimization models for supply chain optimization is preferred but not required Demonstrated experience in utilizing and tuning commercial optimization solvers (e.g. CPLEX, Gurobi) and in building custom optimization algorithms (e.g. exact algorithms, metaheuristics, large neighborhood search, decomposition algorithms, greedy/randomized search) for industry-scale problems is required. Good grasp on the theory and practise of basic statistical models such as regression or clustering and general ML algorithms such as tree, Random Forests, SVM, Boosting, Neural Networks etc. It is not expected that the candidate has actually worked on all these modules. Strong proficiency in Python or R is necessary.',\n",
       " 'Identify and understand business problems : partner with business stakeholders to understand and communicate on business objectives Define analytical techniques to solve business challenges Provide data science contribution into the assigned projects Be part of the innovation programs (eg. Semtech, chatbots) Maintain high quality code and documentation Assure efficiency, stability and scalability of the solution Create deliver easily-consumable presentations to large groups of stakeholders and executives that showcase actionable insights and recommendations Team Interaction Data Scientist interacts with all members of service line she is assigned to in order to develop provide best in class solutions for the business. She interacts as well with key stakeholders of the business domain business process owners/experts, operations etc. in order to identify business opportunities, discuss test solutions She interacts also with other service lines as well as Analytics Apps Infrastructure team in order to exchange best practices She interacts also with Analytics Apps Infrastructure team in order to industrialize data products She interacts with Global IT department (Schneider Digital) to support the work on Intel Data Store    ']"
      ]
     },
     "execution_count": 149,
     "metadata": {},
     "output_type": "execute_result"
    }
   ],
   "source": [
    "job_description_tag = driver.find_element_by_xpath(\"//div[@class='dang-inner-html']\")\n",
    "job_description.append(job_description_tag.text.replace(\"\\n\",\" \"))\n",
    "job_description"
   ]
  },
  {
   "cell_type": "code",
   "execution_count": 150,
   "metadata": {},
   "outputs": [],
   "source": [
    "driver.get(\"https://www.naukri.com/job-listings-data-scientist-glaxosmithkline-pharmaceuticals-limited-bangalore-bengaluru-4-to-7-years-081021501507?src=jobsearchDesk&sid=16341660133544985&xp=10&px=1\")"
   ]
  },
  {
   "cell_type": "code",
   "execution_count": 151,
   "metadata": {},
   "outputs": [
    {
     "data": {
      "text/plain": [
       "['We are looking for a Lead data scientist who will help us discover the information hidden in vast amounts of Ad Campaign data, and help us to optimize the campaign to improve the advertiser ROI and improve the overall consumer experience. Your primary focus will be in applying data mining techniques, doing statistical analysis, and building high quality prediction systems using Deep learning algorithms integrated with our products. Some the key area you will be working on spend recommendation, floor price prediction, CTR/CVR prediction, market funnel analysis and perdition of lead to conversion, etc.  Responsibility: Analyze the data, develop insights and identify the opportunity to utilize the data to predict various Advertisement key indicators like CTR, CVR, Inventory and Develop prediction and optimization algorithms for campaign, look alike modeling, etc for Huawei Ads. Takeup key challenges in AI-driven Smart Ad Serving Platform and focus on research and developing leading AI algorithms and productionize for Huawei Ads. Takeup initiative in identifying the SOTA and finding key gaps in AI algorithms and develop a world leading AI algorithms for optimizing real-time Ad Serving engine. Identify and optimize the core modules such as Traffic Prediction, Optimization, Ad Targeting/Re-targeting, Ad Performance Optimization, Audience insights, Attribution, Bidding, re-ranking, and Diagnostics. Support hundreds of billions of ad requests per day, with efficiently cache technology. To build and enhance Ad platform features and Prediction capabilities in Huawei Ads Platform Optimized Cost Per Mille; Optimized Cost Per Action; Optimized Cost Per Click and Cost per Click. OCPM, OCPA, OCPC.  Requirements: - Strong hands-on experience in implementing and validating big data algorithms and models including Deep Learning models like Seq2Seq/ GRU/ RNN/LSTM , Knowledge Graph, Massive Graph algorithms, etc. - Programming experience with Python - Able to validate existing models including Deep Learning models with large scale dataset and able to make changes to the models to achieve better performance - AdServing domain Experience is an added advantage.',\n",
       " 'Duties and Responsibilities Implement the application solving customer s issue by applying AI/ML technologies Apply ML and DL models for various industry problems. Setting-up collaboration environment and framework for AI related research and development projects. Design and develop different architectural models for scalable data storage, processing, and large-scale analytics. Work with cross-functional teams to understand technical needs. Set-up big data environment that helps establish rapid POCs and prototype developments on both on-premises and cloud-based platforms. Monitor and optimize performance of the big data ecosystem. Ensure data accessibility to researchers via different programming languages. Keep up to date with state of the art in the industry. Qualifications Minimum Bachelor s degree in Computer Science with substantial industry experience of 5 years or more of Data Engineering/ETL/Administration experience. Hands-on experience in Statistical data analysis and Machine learning Possess significant knowledge of Big Data technologies and tools. Good coding skills in at least one scripting language (Shell, Python, R, etc.) Experience with various Hadoop distribution like Hortonworks and Cloudera. Knowledge of cluster monitoring tools like Ambari, Ganglia, or Nagios. Delivered Big Data solutions in the cloud with AWS or Azure or Google Cloud. Experience in Java programming, Scala programming. Experience with RDBMS (MySQL, PostgreSQL, etc.) Experience with NoSQL database administration development like MongoDB. Experience with Hadoop eco-system (MapReduce, Streaming, Pig, HIVE, Spark). Experience using DevOps toolbox such as Jenkins, Chef, Puppet. Proven ability to create and manage big data pipeline using Kafka, Flume Spark Knowledge of BI tools such as Tableau, Pentaho, etc. Experience building large-scale distributed applications and services. Experience with agile development methodologies. - Knowledge of industry standards and trends. Good communication, logical thinking, and presentation skills. Additional qualifications (preferred but not mandatory) Master s degree in Computer Science or equivalent with at least 5 years industry experience of data engineering/ETL/Administration. Experience applying Deep learning. Substantial industry experience developing prototypes and demonstrating PoCs',\n",
       " 'Roles and Responsibilities PhD in Statistics, Math or Computer Science is preferred. Must have at least a Master degree with 10+ years of experience. Excellent statistical analysis skills to identify patterns in data. This includes having a keen sense of pattern detection and anomaly detection. Excellent understanding of machine learning techniques and algorithms, such as k-NN, Naive Bayes, SVM, Decision Forests, etc. Must be able to implement algorithms and statistical concepts to build predictive models. In-depth experience with common data science tools such as TensorFlow, PyTorch or equivalent. Proficient in programming with python, SQL and No-SQL databases; and data science libraries such as nltk, numpy, scipy and many others Great communication skills both written and verbal. Must be able to effectively communicate with global English speaking teams. Expertise in collaborating with multi-disciplinary teams of business analysts, data scientists, subject matter experts, and developers Desired Candidate Profile   Perks and Benefits',\n",
       " \"Senior Data Scientist, NLP Are you excited about working at the forefront of applied research in an industry setting? Thomson Reuters Labs in Bangalore is seeking experienced data scientists with a passion for solving problems using state-of-the-art Machine Learning and Natural Language Processing. What does Thomson Reuters Labs do? We experiment, we build, we deliver. We support the organization and our customers through applied research and the development of new products and technologies. TR Labs innovates collaboratively across our core segments in Legal, Tax & Accounting, Government, and Reuters News.  We undertake a diverse portfolio of projects today while investing in long-term research for the future. As a data scientist in Labs, you will be part of a global interdisciplinary team of experts. We hire specialists across a variety of AI research areas, as well as Engineering and Design, to drive the company's digital transformation. TR Labs is known for consistently delivering Artificial Intelligence projects that advance the state of the art in support of high growth products and serve Thomson Reuters customers in new and exciting ways.  About the role In this opportunity as a Senior Data Scientist, you will: Experiment and Develop: You will drive the entire model development lifecycle, building, testing, and delivering high-quality solutions. You will apply best practices for conducting reproducible research and well-managed software delivery. Collaborate: Working on a collaborative cross-functional team, you will share information, value diverse ideas, and partner effectively with colleagues across the globe. You will elevate and mentor teammates. Deliver: With a strong sense of urgency and the desire to work in a fast-paced, dynamic environment, you will translate complex business problems into projects with a clearly defined scope. Our problems are complex; our solutions are right-sized. You will be accountable for timely, well-managed deliverables. Innovate:  You will be empowered to try new approaches and learn new technologies. You will implement innovative ideas to solve real-world challenges. Inspire: You will be a proactive communicator who is excited to share your work. You will be articulate and compelling in describing ideas to both technical and non-technical audiences. You will help lead the way in the adoption of AI across the enterprise.  About you Basic qualifications Ph.D. in a relevant discipline or Masters plus a comparable level of experience At least five years experience building ML/NLP systems Solid software engineering skills for prototyping Experience as a technical leader, coordinating and guiding the work of others Preferred qualifications 8+ years of academic or industry experience building ML or NLP systems with the demonstrated ability to translate cutting edge research into working applications Demonstrated ability to translate customer needs into well-structured research/project plans Proficiency in Python, Java, or Scala and experience delivering minimum viable products in a large enterprise environment Outstanding communication, organization, and data-driven decision making Publications at workshops or conferences such as ACL, EMNLP, KDD, ICML, NeurIPS, or similar  What's in it for you At Thomson Reuters, our people are our greatest assets. In addition to rewarding and challenging work with exceptional colleagues, we offer the following benefits for your personal and professional growth: Learning & Development: On-the-job coaching & learning, tuition reimbursement, exposure to leading-edge technology Our Scientists and Engineers get to play with big data sets to discover new products, capabilities, and insights for our customers. Thomson Reuters is most well-known for the globally respected Reuters News agency, but our company is also the leading source of information for legal, corporate, and tax professionals. We have over 60,000 TBs worth of legal, regulatory, news, and tax data.  Benefits: Flexible work arrangements, comprehensive health coverage effective day one, savings and investment plans Perks: Social events & activities, employee discount programs Social Impact: Paid time off for volunteering virtually or in your community\",\n",
       " \"Responsibilities :  - Analytics lead on client projects responsible for data science application development, Works closely with cross-functional teams.  - Takes responsibility for requirements gathering, solution design, development, and developing a production-level data science solution  - Develop implementation guidelines, quality control procedures, and documentation for projects. Ensures adherence to the best practices in the project  - Guide team members on project work and take responsibility for the analytics deliverables  - Take initiatives to drive data science initiatives like training to the team, conduct proof-of-concept work to test new data science algorithms or features with support of data science leadership  Must have Skills and Experience: :  - At least a year of experience of leading machine learning or forecasting projects to meet the customers- business requirement  - 5-6 years of project experience using machine learning techniques (like Decision Trees, Gradient Boosting, Random Forest, and Neural Networks) or forecasting techniques (ESM, ARIMA, ARIMAX, UCM)  - Advance level skills in Python and SQL to work on large scale data  - Expertise and ability to train team members in Advanced Python for Data Science, Machine Learning / Forecasting, and SQL  Education:  - Bachelor /Master's degree in technology or engineering or quantitative field (e.g. MSc in Statistics and Operations Research, M Tech in Industrial Engineering, Applied Math/Statistics, Computer Science)  - Experience in retail, manufacturing, and consumer goods industry  - Experience of operationalization of the machine learning or forecasting models in the cloud or on-premises platform\",\n",
       " \"We are seeking a Data Scientist to join our growing Analytics & Reporting team with strong hands-on analytical skills who can leverage disparate datasets, ensure data integrity and quality, create innovative solutions, and provide actionable insights to improve quality, service and customer outcomes. The ideal candidate will have experience with database technologies, operational analytics, working knowledge of Artificial Intelligence/Machine Learning (AI/ML) techniques. You will use statistical creativity and intellectual curiosity to create some of the most impressive statistical analyses that will propel our clients to the next level.  Responsibilities Be a collaborative member of a group that translates business questions into practical results and actionable insights. Analyze complex data sets, develop standardized processes, and support various ad-hoc analytic requests like KPI reporting, customer profiling, campaign response analysis, and advanced analytic modeling. Write programs to cleanse and integrate data in an efficient and reusable manner. Ensure data quality and analytic accuracy before presenting to the stakeholders. Implement and validate predictive and prescriptive models; create and maintain statistical models with a focus on big data. Incorporate a variety of statistical and machine learning techniques in your projects. Work on complex problems and act as a consultant on other ML/ Data engineering projects. Produce accurate data reporting and provide recommendations for improving future reports. Provide insights into channel effectiveness and targeting effectiveness to drive better channel personalization as opportunities to improve program success. Evaluate modelling results and communicate the results to technical and non-technical audiences. Research emerging tools and techniques in reporting and analytics.  Qualifications Degree in a highly relevant analytical or technical field, such as statistics, data science, or business analytics. 4+ years of direct program and analysis experience in retail with a strong emphasis on answering complex business questions and developing practical solutions. Experience in a data-driven environment providing analytics & insights. Knowledge of predictive analytics, statistical modelling, model interpretation, exploratory data analysis and reporting. Extensive experience with large data sets, statistical analyses, and visualization as well as hands on experience with Python, SQL, and Tableau. Ability to quickly learn and take responsibility to deliver from preferred programming tool.  Perks and Benefits Bridgetree understands that our people are our true assets, and we go length and breadth to ensure we have a highly engaged and connected working environment. Our values - Integrity, Excellence, Ownership & Accountability, Create Problem Solving, Passion & Here to Help play an important role in defining and shaping Bridgetree's work culture. Quarterly skip-level meetings & annual manager feedback program ensure that employee communication channels are always open. Bridgetree also offers the best in Industry perks and benefits. We follow a calendar cycle for performance/salary appraisal and include a great bonus model in pay structure. Additionally, some of the key benefits we offer are: A whole suite of leaves, PL, ML, Paternity, Quarantine, Sabbatical etc,  Medical insurance benefits (including COVID hospitalization) Learning and Development - certification reimbursement Full-time WFH Visa sponsorship program Sodexo/Zaggle food card options Relocation benefits\",\n",
       " '  Prior experience of working with large-scale datasets (10s of millions of documents) is strongly preferred. End-to-end ownership of developing the model, writing production quality code and deploying the model is an expectation of the job. Experience in data cleansing and preparation concepts and tools. Prior experience of working with startups is strongly preferred. Expertise in probability and statistics, time-series analysis as well as experience in the use of machine learning methods, for example, linear regression, correlation, statistical significance, and so forth. Experience in data visualization concepts and tools Experience with Data Quality Controls. Tech Requirements Experience in NLP is a must. Programming Languages: Hands-on with Python and Java. Strong background in relational databases, data modeling and SQL. Experience working with statistical libraries (e.g scikit-learn) and frameworks for predictive analytics. Knowledge of Hadoop and UNIX will be a plus. Knowledge of Kibana and/or other reporting tools is preferred.',\n",
       " 'About the role A Data Scientist in Flipkart is required to develop and implement a mix of ML, statistical and optimization models for the various projects formulated from business and product views. The responsible person should be able to communicate and collaborate with multiple stakeholders representing various teams to better understand the problem at hand. At a fundamental level, the responsible person should be able to dive deep into a problem statement and extract interesting insights as well as solutions. In addition to being a quick learner, a DS is expected to get involved in active research projects with a view to publish them. What you ll do Understand Business and product needs and use ML, statistical and optimization techniques as appropriate to provide solutions to those in a time bound fashion. Communicate and collaborate with business and product teams to have a better understanding of the project so as to be able to drive it within the DS team. Get involved in in-depth exploration of solutions that are to be shared with business and product teams; specifically, build models and scalable custom algorithms for problems including decision optimization and predictive modeling. Active participation in working with new methods and learning new technologies, in areas including data science and data engineering. What you ll need: B.Tech, M.Tech or PhD in CS, Operations Research or related discipline with professional experience ranging from 3 to 6 years through deployed solutions/projects. Candidate should have taken academic coursework in Operations Research (specifically mathematical optimization) Demonstrated experience in building discrete, linear, nonlinear or stochastic optimization models is required. Experience with optimization models for supply chain optimization is preferred but not required Demonstrated experience in utilizing and tuning commercial optimization solvers (e.g. CPLEX, Gurobi) and in building custom optimization algorithms (e.g. exact algorithms, metaheuristics, large neighborhood search, decomposition algorithms, greedy/randomized search) for industry-scale problems is required. Good grasp on the theory and practise of basic statistical models such as regression or clustering and general ML algorithms such as tree, Random Forests, SVM, Boosting, Neural Networks etc. It is not expected that the candidate has actually worked on all these modules. Strong proficiency in Python or R is necessary.',\n",
       " 'Identify and understand business problems : partner with business stakeholders to understand and communicate on business objectives Define analytical techniques to solve business challenges Provide data science contribution into the assigned projects Be part of the innovation programs (eg. Semtech, chatbots) Maintain high quality code and documentation Assure efficiency, stability and scalability of the solution Create deliver easily-consumable presentations to large groups of stakeholders and executives that showcase actionable insights and recommendations Team Interaction Data Scientist interacts with all members of service line she is assigned to in order to develop provide best in class solutions for the business. She interacts as well with key stakeholders of the business domain business process owners/experts, operations etc. in order to identify business opportunities, discuss test solutions She interacts also with other service lines as well as Analytics Apps Infrastructure team in order to exchange best practices She interacts also with Analytics Apps Infrastructure team in order to industrialize data products She interacts with Global IT department (Schneider Digital) to support the work on Intel Data Store    ',\n",
       " 'Working with multidisciplinary teams to identify, validate, and source required data and tools to develop and mature ML capabilities Performing data mining to discover nonobvious relationships, building training data, implementing and retraining ML solutions Conducting discovery workshops with business partners to identify business problems Building visualization dashboards to present metrics, statistical findings, and progress tracking Your Responsibilities Collaborate and work across business units to identify and source the data and technology to build and mature ML capabilities Conduct discovery workshops with business partners to identify business problems, obtain and validate training data Design, Build, implement, and retrain ML models to solve specific business problems Perform data mining and apply findings to increase modeling accuracy Cleary and concisely communicate business needs, computational findings and recommendations to all audiences regardless of their background or technical understanding Build, implement, and maintain visualization dashboards that clearly present both historical and real time operational metrics, research findings, and progress updates Basic Qualifications Bachelors degree in Applied Mathematics, Mathematical Engineering, Computer Science, Information Technology, or Related Field 10 + years of overall technical experience 2+ years of Machine Learning and or Data Mining experience 2+ years of experience building visualization dashboards 2+ years working with and manipulating large data sets 2+ years of hands on development experience using multiple languages Preferred Qualifications Masters degree in Applied Mathematics, Mathematical Engineering, Computer Science, Information Technology, or Related Field Experience with tools such as Tableau and Power BI Experience manipulating large data sets using technologies such as Hadoop, Azure, Hive, Spark, Element, Data Bricks, Mongo, and BigQuery Strong development experience using multiple languages such as Python, R Studio, SQL, C#, Java, Java Script, and Julia Successful completion of 2 or more projects (end to end) involving the migration and merging of large data sets from multiple sources, leveraging statistical analysis to identify meaningful and significant data relationships to build, train, and retrain ML models Experience and/or exposure to the cyber security industry and working with a SIEM such as Splunk or Google Chronicle']"
      ]
     },
     "execution_count": 151,
     "metadata": {},
     "output_type": "execute_result"
    }
   ],
   "source": [
    "job_description_tag = driver.find_element_by_xpath(\"//div[@class='dang-inner-html']\")\n",
    "job_description.append(job_description_tag.text.replace(\"\\n\",\" \"))\n",
    "job_description"
   ]
  },
  {
   "cell_type": "markdown",
   "metadata": {},
   "source": [
    "After collecting data for all the fields we now used pandas library to create a dataframe"
   ]
  },
  {
   "cell_type": "code",
   "execution_count": 156,
   "metadata": {},
   "outputs": [
    {
     "data": {
      "text/html": [
       "<div>\n",
       "<style scoped>\n",
       "    .dataframe tbody tr th:only-of-type {\n",
       "        vertical-align: middle;\n",
       "    }\n",
       "\n",
       "    .dataframe tbody tr th {\n",
       "        vertical-align: top;\n",
       "    }\n",
       "\n",
       "    .dataframe thead th {\n",
       "        text-align: right;\n",
       "    }\n",
       "</style>\n",
       "<table border=\"1\" class=\"dataframe\">\n",
       "  <thead>\n",
       "    <tr style=\"text-align: right;\">\n",
       "      <th></th>\n",
       "      <th>Job Titles</th>\n",
       "      <th>Locations</th>\n",
       "      <th>Company Names</th>\n",
       "      <th>Job Descriptions</th>\n",
       "    </tr>\n",
       "  </thead>\n",
       "  <tbody>\n",
       "    <tr>\n",
       "      <th>0</th>\n",
       "      <td>Sr. Data Scientist / Data Scientist For Bangal...</td>\n",
       "      <td>Kolkata, Bangalore/Bengaluru</td>\n",
       "      <td>mPokket</td>\n",
       "      <td>We are looking for a Lead data scientist who w...</td>\n",
       "    </tr>\n",
       "    <tr>\n",
       "      <th>1</th>\n",
       "      <td>Data Scientist</td>\n",
       "      <td>Hyderabad/Secunderabad, Pune, Bangalore/Bengaluru</td>\n",
       "      <td>Amazon Development Centre (India) Pvt. Ltd.</td>\n",
       "      <td>Duties and Responsibilities Implement the appl...</td>\n",
       "    </tr>\n",
       "    <tr>\n",
       "      <th>2</th>\n",
       "      <td>Senior Data Scientist</td>\n",
       "      <td>Noida, Bangalore/Bengaluru</td>\n",
       "      <td>InnovAccer</td>\n",
       "      <td>Roles and Responsibilities PhD in Statistics, ...</td>\n",
       "    </tr>\n",
       "    <tr>\n",
       "      <th>3</th>\n",
       "      <td>Senior Data Scientist - Python/Machine Learnin...</td>\n",
       "      <td>Mumbai, Hyderabad/Secunderabad, Pune, Bangalor...</td>\n",
       "      <td>Altimax Business Solutions</td>\n",
       "      <td>Senior Data Scientist, NLP Are you excited abo...</td>\n",
       "    </tr>\n",
       "    <tr>\n",
       "      <th>4</th>\n",
       "      <td>Data Scientist/Senior Data Scientist - IT Serv...</td>\n",
       "      <td>Hyderabad/Secunderabad, Pune, Gurgaon/Gurugram...</td>\n",
       "      <td>Pylon Management Consulting Pvt Ltd</td>\n",
       "      <td>Responsibilities :  - Analytics lead on client...</td>\n",
       "    </tr>\n",
       "    <tr>\n",
       "      <th>5</th>\n",
       "      <td>Lead Data Scientist</td>\n",
       "      <td>Bangalore/Bengaluru</td>\n",
       "      <td>Huawei Technologies</td>\n",
       "      <td>We are seeking a Data Scientist to join our gr...</td>\n",
       "    </tr>\n",
       "    <tr>\n",
       "      <th>6</th>\n",
       "      <td>SDE2 Data Scientist</td>\n",
       "      <td>Bangalore/Bengaluru</td>\n",
       "      <td>Multi Recruit</td>\n",
       "      <td>Prior experience of working with large-scale...</td>\n",
       "    </tr>\n",
       "    <tr>\n",
       "      <th>7</th>\n",
       "      <td>SDE1 Data Scientist</td>\n",
       "      <td>Bangalore/Bengaluru</td>\n",
       "      <td>Multi Recruit</td>\n",
       "      <td>About the role A Data Scientist in Flipkart is...</td>\n",
       "    </tr>\n",
       "    <tr>\n",
       "      <th>8</th>\n",
       "      <td>Data Scientist</td>\n",
       "      <td>Bangalore/Bengaluru</td>\n",
       "      <td>epiFi Technologies</td>\n",
       "      <td>Identify and understand business problems : pa...</td>\n",
       "    </tr>\n",
       "    <tr>\n",
       "      <th>9</th>\n",
       "      <td>Data Scientist</td>\n",
       "      <td>Pune, Bangalore/Bengaluru</td>\n",
       "      <td>Nutanix India Technologies Private Limited</td>\n",
       "      <td>Working with multidisciplinary teams to identi...</td>\n",
       "    </tr>\n",
       "  </tbody>\n",
       "</table>\n",
       "</div>"
      ],
      "text/plain": [
       "                                          Job Titles  \\\n",
       "0  Sr. Data Scientist / Data Scientist For Bangal...   \n",
       "1                                     Data Scientist   \n",
       "2                              Senior Data Scientist   \n",
       "3  Senior Data Scientist - Python/Machine Learnin...   \n",
       "4  Data Scientist/Senior Data Scientist - IT Serv...   \n",
       "5                                Lead Data Scientist   \n",
       "6                                SDE2 Data Scientist   \n",
       "7                                SDE1 Data Scientist   \n",
       "8                                     Data Scientist   \n",
       "9                                     Data Scientist   \n",
       "\n",
       "                                           Locations  \\\n",
       "0                       Kolkata, Bangalore/Bengaluru   \n",
       "1  Hyderabad/Secunderabad, Pune, Bangalore/Bengaluru   \n",
       "2                         Noida, Bangalore/Bengaluru   \n",
       "3  Mumbai, Hyderabad/Secunderabad, Pune, Bangalor...   \n",
       "4  Hyderabad/Secunderabad, Pune, Gurgaon/Gurugram...   \n",
       "5                                Bangalore/Bengaluru   \n",
       "6                                Bangalore/Bengaluru   \n",
       "7                                Bangalore/Bengaluru   \n",
       "8                                Bangalore/Bengaluru   \n",
       "9                          Pune, Bangalore/Bengaluru   \n",
       "\n",
       "                                 Company Names  \\\n",
       "0                                      mPokket   \n",
       "1  Amazon Development Centre (India) Pvt. Ltd.   \n",
       "2                                   InnovAccer   \n",
       "3                   Altimax Business Solutions   \n",
       "4          Pylon Management Consulting Pvt Ltd   \n",
       "5                          Huawei Technologies   \n",
       "6                                Multi Recruit   \n",
       "7                                Multi Recruit   \n",
       "8                           epiFi Technologies   \n",
       "9   Nutanix India Technologies Private Limited   \n",
       "\n",
       "                                    Job Descriptions  \n",
       "0  We are looking for a Lead data scientist who w...  \n",
       "1  Duties and Responsibilities Implement the appl...  \n",
       "2  Roles and Responsibilities PhD in Statistics, ...  \n",
       "3  Senior Data Scientist, NLP Are you excited abo...  \n",
       "4  Responsibilities :  - Analytics lead on client...  \n",
       "5  We are seeking a Data Scientist to join our gr...  \n",
       "6    Prior experience of working with large-scale...  \n",
       "7  About the role A Data Scientist in Flipkart is...  \n",
       "8  Identify and understand business problems : pa...  \n",
       "9  Working with multidisciplinary teams to identi...  "
      ]
     },
     "execution_count": 156,
     "metadata": {},
     "output_type": "execute_result"
    }
   ],
   "source": [
    "df = pd.DataFrame({})\n",
    "df[\"Job Titles\"] = job_titles\n",
    "df[\"Locations\"] = locations_list\n",
    "df[\"Company Names\"] = company_names\n",
    "df[\"Job Descriptions\"] = job_description\n",
    "df"
   ]
  },
  {
   "cell_type": "code",
   "execution_count": 157,
   "metadata": {},
   "outputs": [
    {
     "data": {
      "text/plain": [
       "50"
      ]
     },
     "execution_count": 157,
     "metadata": {},
     "output_type": "execute_result"
    }
   ],
   "source": [
    "pd.options.display.max_colwidth "
   ]
  },
  {
   "cell_type": "code",
   "execution_count": 158,
   "metadata": {},
   "outputs": [
    {
     "data": {
      "text/html": [
       "<div>\n",
       "<style scoped>\n",
       "    .dataframe tbody tr th:only-of-type {\n",
       "        vertical-align: middle;\n",
       "    }\n",
       "\n",
       "    .dataframe tbody tr th {\n",
       "        vertical-align: top;\n",
       "    }\n",
       "\n",
       "    .dataframe thead th {\n",
       "        text-align: right;\n",
       "    }\n",
       "</style>\n",
       "<table border=\"1\" class=\"dataframe\">\n",
       "  <thead>\n",
       "    <tr style=\"text-align: right;\">\n",
       "      <th></th>\n",
       "      <th>Job Titles</th>\n",
       "      <th>Locations</th>\n",
       "      <th>Company Names</th>\n",
       "      <th>Job Descriptions</th>\n",
       "    </tr>\n",
       "  </thead>\n",
       "  <tbody>\n",
       "    <tr>\n",
       "      <th>0</th>\n",
       "      <td>Sr. Data Scientist / Data Scientist For Bangalore &amp; Kolkata Locations</td>\n",
       "      <td>Kolkata, Bangalore/Bengaluru</td>\n",
       "      <td>mPokket</td>\n",
       "      <td>We are looking for a Lead data scientist who will help us discover the information hidden in vast amounts of Ad Campaign data, and help us to optimize the campaign to improve the advertiser ROI and improve the overall consumer experience. Your primary focus will be in applying data mining techniques, doing statistical analysis, and building high quality prediction systems using Deep learning algorithms integrated with our products. Some the key area you will be working on spend recommendation, floor price prediction, CTR/CVR prediction, market funnel analysis and perdition of lead to conversion, etc.  Responsibility: Analyze the data, develop insights and identify the opportunity to utilize the data to predict various Advertisement key indicators like CTR, CVR, Inventory and Develop prediction and optimization algorithms for campaign, look alike modeling, etc for Huawei Ads. Takeup key challenges in AI-driven Smart Ad Serving Platform and focus on research and developing leading AI algorithms and productionize for Huawei Ads. Takeup initiative in identifying the SOTA and finding key gaps in AI algorithms and develop a world leading AI algorithms for optimizing real-time Ad Serving engine. Identify and optimize the core modules such as Traffic Prediction, Optimization, Ad Targeting/Re-targeting, Ad Performance Optimization, Audience insights, Attribution, Bidding, re-ranking, and Diagnostics. Support hundreds of billions of ad requests per day, with efficiently cache technology. To build and enhance Ad platform features and Prediction capabilities in Huawei Ads Platform Optimized Cost Per Mille; Optimized Cost Per Action; Optimized Cost Per Click and Cost per Click. OCPM, OCPA, OCPC.  Requirements: - Strong hands-on experience in implementing and validating big data algorithms and models including Deep Learning models like Seq2Seq/ GRU/ RNN/LSTM , Knowledge Graph, Massive Graph algorithms, etc. - Programming experience with Python - Able to validate existing models including Deep Learning models with large scale dataset and able to make changes to the models to achieve better performance - AdServing domain Experience is an added advantage.</td>\n",
       "    </tr>\n",
       "    <tr>\n",
       "      <th>1</th>\n",
       "      <td>Data Scientist</td>\n",
       "      <td>Hyderabad/Secunderabad, Pune, Bangalore/Bengaluru</td>\n",
       "      <td>Amazon Development Centre (India) Pvt. Ltd.</td>\n",
       "      <td>Duties and Responsibilities Implement the application solving customer s issue by applying AI/ML technologies Apply ML and DL models for various industry problems. Setting-up collaboration environment and framework for AI related research and development projects. Design and develop different architectural models for scalable data storage, processing, and large-scale analytics. Work with cross-functional teams to understand technical needs. Set-up big data environment that helps establish rapid POCs and prototype developments on both on-premises and cloud-based platforms. Monitor and optimize performance of the big data ecosystem. Ensure data accessibility to researchers via different programming languages. Keep up to date with state of the art in the industry. Qualifications Minimum Bachelor s degree in Computer Science with substantial industry experience of 5 years or more of Data Engineering/ETL/Administration experience. Hands-on experience in Statistical data analysis and Machine learning Possess significant knowledge of Big Data technologies and tools. Good coding skills in at least one scripting language (Shell, Python, R, etc.) Experience with various Hadoop distribution like Hortonworks and Cloudera. Knowledge of cluster monitoring tools like Ambari, Ganglia, or Nagios. Delivered Big Data solutions in the cloud with AWS or Azure or Google Cloud. Experience in Java programming, Scala programming. Experience with RDBMS (MySQL, PostgreSQL, etc.) Experience with NoSQL database administration development like MongoDB. Experience with Hadoop eco-system (MapReduce, Streaming, Pig, HIVE, Spark). Experience using DevOps toolbox such as Jenkins, Chef, Puppet. Proven ability to create and manage big data pipeline using Kafka, Flume Spark Knowledge of BI tools such as Tableau, Pentaho, etc. Experience building large-scale distributed applications and services. Experience with agile development methodologies. - Knowledge of industry standards and trends. Good communication, logical thinking, and presentation skills. Additional qualifications (preferred but not mandatory) Master s degree in Computer Science or equivalent with at least 5 years industry experience of data engineering/ETL/Administration. Experience applying Deep learning. Substantial industry experience developing prototypes and demonstrating PoCs</td>\n",
       "    </tr>\n",
       "    <tr>\n",
       "      <th>2</th>\n",
       "      <td>Senior Data Scientist</td>\n",
       "      <td>Noida, Bangalore/Bengaluru</td>\n",
       "      <td>InnovAccer</td>\n",
       "      <td>Roles and Responsibilities PhD in Statistics, Math or Computer Science is preferred. Must have at least a Master degree with 10+ years of experience. Excellent statistical analysis skills to identify patterns in data. This includes having a keen sense of pattern detection and anomaly detection. Excellent understanding of machine learning techniques and algorithms, such as k-NN, Naive Bayes, SVM, Decision Forests, etc. Must be able to implement algorithms and statistical concepts to build predictive models. In-depth experience with common data science tools such as TensorFlow, PyTorch or equivalent. Proficient in programming with python, SQL and No-SQL databases; and data science libraries such as nltk, numpy, scipy and many others Great communication skills both written and verbal. Must be able to effectively communicate with global English speaking teams. Expertise in collaborating with multi-disciplinary teams of business analysts, data scientists, subject matter experts, and developers Desired Candidate Profile   Perks and Benefits</td>\n",
       "    </tr>\n",
       "    <tr>\n",
       "      <th>3</th>\n",
       "      <td>Senior Data Scientist - Python/Machine Learning Algorithms</td>\n",
       "      <td>Mumbai, Hyderabad/Secunderabad, Pune, Bangalore/Bengaluru</td>\n",
       "      <td>Altimax Business Solutions</td>\n",
       "      <td>Senior Data Scientist, NLP Are you excited about working at the forefront of applied research in an industry setting? Thomson Reuters Labs in Bangalore is seeking experienced data scientists with a passion for solving problems using state-of-the-art Machine Learning and Natural Language Processing. What does Thomson Reuters Labs do? We experiment, we build, we deliver. We support the organization and our customers through applied research and the development of new products and technologies. TR Labs innovates collaboratively across our core segments in Legal, Tax &amp; Accounting, Government, and Reuters News.  We undertake a diverse portfolio of projects today while investing in long-term research for the future. As a data scientist in Labs, you will be part of a global interdisciplinary team of experts. We hire specialists across a variety of AI research areas, as well as Engineering and Design, to drive the company's digital transformation. TR Labs is known for consistently delivering Artificial Intelligence projects that advance the state of the art in support of high growth products and serve Thomson Reuters customers in new and exciting ways.  About the role In this opportunity as a Senior Data Scientist, you will: Experiment and Develop: You will drive the entire model development lifecycle, building, testing, and delivering high-quality solutions. You will apply best practices for conducting reproducible research and well-managed software delivery. Collaborate: Working on a collaborative cross-functional team, you will share information, value diverse ideas, and partner effectively with colleagues across the globe. You will elevate and mentor teammates. Deliver: With a strong sense of urgency and the desire to work in a fast-paced, dynamic environment, you will translate complex business problems into projects with a clearly defined scope. Our problems are complex; our solutions are right-sized. You will be accountable for timely, well-managed deliverables. Innovate:  You will be empowered to try new approaches and learn new technologies. You will implement innovative ideas to solve real-world challenges. Inspire: You will be a proactive communicator who is excited to share your work. You will be articulate and compelling in describing ideas to both technical and non-technical audiences. You will help lead the way in the adoption of AI across the enterprise.  About you Basic qualifications Ph.D. in a relevant discipline or Masters plus a comparable level of experience At least five years experience building ML/NLP systems Solid software engineering skills for prototyping Experience as a technical leader, coordinating and guiding the work of others Preferred qualifications 8+ years of academic or industry experience building ML or NLP systems with the demonstrated ability to translate cutting edge research into working applications Demonstrated ability to translate customer needs into well-structured research/project plans Proficiency in Python, Java, or Scala and experience delivering minimum viable products in a large enterprise environment Outstanding communication, organization, and data-driven decision making Publications at workshops or conferences such as ACL, EMNLP, KDD, ICML, NeurIPS, or similar  What's in it for you At Thomson Reuters, our people are our greatest assets. In addition to rewarding and challenging work with exceptional colleagues, we offer the following benefits for your personal and professional growth: Learning &amp; Development: On-the-job coaching &amp; learning, tuition reimbursement, exposure to leading-edge technology Our Scientists and Engineers get to play with big data sets to discover new products, capabilities, and insights for our customers. Thomson Reuters is most well-known for the globally respected Reuters News agency, but our company is also the leading source of information for legal, corporate, and tax professionals. We have over 60,000 TBs worth of legal, regulatory, news, and tax data.  Benefits: Flexible work arrangements, comprehensive health coverage effective day one, savings and investment plans Perks: Social events &amp; activities, employee discount programs Social Impact: Paid time off for volunteering virtually or in your community</td>\n",
       "    </tr>\n",
       "    <tr>\n",
       "      <th>4</th>\n",
       "      <td>Data Scientist/Senior Data Scientist - IT Services Firm</td>\n",
       "      <td>Hyderabad/Secunderabad, Pune, Gurgaon/Gurugram, Bangalore/Bengaluru</td>\n",
       "      <td>Pylon Management Consulting Pvt Ltd</td>\n",
       "      <td>Responsibilities :  - Analytics lead on client projects responsible for data science application development, Works closely with cross-functional teams.  - Takes responsibility for requirements gathering, solution design, development, and developing a production-level data science solution  - Develop implementation guidelines, quality control procedures, and documentation for projects. Ensures adherence to the best practices in the project  - Guide team members on project work and take responsibility for the analytics deliverables  - Take initiatives to drive data science initiatives like training to the team, conduct proof-of-concept work to test new data science algorithms or features with support of data science leadership  Must have Skills and Experience: :  - At least a year of experience of leading machine learning or forecasting projects to meet the customers- business requirement  - 5-6 years of project experience using machine learning techniques (like Decision Trees, Gradient Boosting, Random Forest, and Neural Networks) or forecasting techniques (ESM, ARIMA, ARIMAX, UCM)  - Advance level skills in Python and SQL to work on large scale data  - Expertise and ability to train team members in Advanced Python for Data Science, Machine Learning / Forecasting, and SQL  Education:  - Bachelor /Master's degree in technology or engineering or quantitative field (e.g. MSc in Statistics and Operations Research, M Tech in Industrial Engineering, Applied Math/Statistics, Computer Science)  - Experience in retail, manufacturing, and consumer goods industry  - Experience of operationalization of the machine learning or forecasting models in the cloud or on-premises platform</td>\n",
       "    </tr>\n",
       "    <tr>\n",
       "      <th>5</th>\n",
       "      <td>Lead Data Scientist</td>\n",
       "      <td>Bangalore/Bengaluru</td>\n",
       "      <td>Huawei Technologies</td>\n",
       "      <td>We are seeking a Data Scientist to join our growing Analytics &amp; Reporting team with strong hands-on analytical skills who can leverage disparate datasets, ensure data integrity and quality, create innovative solutions, and provide actionable insights to improve quality, service and customer outcomes. The ideal candidate will have experience with database technologies, operational analytics, working knowledge of Artificial Intelligence/Machine Learning (AI/ML) techniques. You will use statistical creativity and intellectual curiosity to create some of the most impressive statistical analyses that will propel our clients to the next level.  Responsibilities Be a collaborative member of a group that translates business questions into practical results and actionable insights. Analyze complex data sets, develop standardized processes, and support various ad-hoc analytic requests like KPI reporting, customer profiling, campaign response analysis, and advanced analytic modeling. Write programs to cleanse and integrate data in an efficient and reusable manner. Ensure data quality and analytic accuracy before presenting to the stakeholders. Implement and validate predictive and prescriptive models; create and maintain statistical models with a focus on big data. Incorporate a variety of statistical and machine learning techniques in your projects. Work on complex problems and act as a consultant on other ML/ Data engineering projects. Produce accurate data reporting and provide recommendations for improving future reports. Provide insights into channel effectiveness and targeting effectiveness to drive better channel personalization as opportunities to improve program success. Evaluate modelling results and communicate the results to technical and non-technical audiences. Research emerging tools and techniques in reporting and analytics.  Qualifications Degree in a highly relevant analytical or technical field, such as statistics, data science, or business analytics. 4+ years of direct program and analysis experience in retail with a strong emphasis on answering complex business questions and developing practical solutions. Experience in a data-driven environment providing analytics &amp; insights. Knowledge of predictive analytics, statistical modelling, model interpretation, exploratory data analysis and reporting. Extensive experience with large data sets, statistical analyses, and visualization as well as hands on experience with Python, SQL, and Tableau. Ability to quickly learn and take responsibility to deliver from preferred programming tool.  Perks and Benefits Bridgetree understands that our people are our true assets, and we go length and breadth to ensure we have a highly engaged and connected working environment. Our values - Integrity, Excellence, Ownership &amp; Accountability, Create Problem Solving, Passion &amp; Here to Help play an important role in defining and shaping Bridgetree's work culture. Quarterly skip-level meetings &amp; annual manager feedback program ensure that employee communication channels are always open. Bridgetree also offers the best in Industry perks and benefits. We follow a calendar cycle for performance/salary appraisal and include a great bonus model in pay structure. Additionally, some of the key benefits we offer are: A whole suite of leaves, PL, ML, Paternity, Quarantine, Sabbatical etc,  Medical insurance benefits (including COVID hospitalization) Learning and Development - certification reimbursement Full-time WFH Visa sponsorship program Sodexo/Zaggle food card options Relocation benefits</td>\n",
       "    </tr>\n",
       "    <tr>\n",
       "      <th>6</th>\n",
       "      <td>SDE2 Data Scientist</td>\n",
       "      <td>Bangalore/Bengaluru</td>\n",
       "      <td>Multi Recruit</td>\n",
       "      <td>Prior experience of working with large-scale datasets (10s of millions of documents) is strongly preferred. End-to-end ownership of developing the model, writing production quality code and deploying the model is an expectation of the job. Experience in data cleansing and preparation concepts and tools. Prior experience of working with startups is strongly preferred. Expertise in probability and statistics, time-series analysis as well as experience in the use of machine learning methods, for example, linear regression, correlation, statistical significance, and so forth. Experience in data visualization concepts and tools Experience with Data Quality Controls. Tech Requirements Experience in NLP is a must. Programming Languages: Hands-on with Python and Java. Strong background in relational databases, data modeling and SQL. Experience working with statistical libraries (e.g scikit-learn) and frameworks for predictive analytics. Knowledge of Hadoop and UNIX will be a plus. Knowledge of Kibana and/or other reporting tools is preferred.</td>\n",
       "    </tr>\n",
       "    <tr>\n",
       "      <th>7</th>\n",
       "      <td>SDE1 Data Scientist</td>\n",
       "      <td>Bangalore/Bengaluru</td>\n",
       "      <td>Multi Recruit</td>\n",
       "      <td>About the role A Data Scientist in Flipkart is required to develop and implement a mix of ML, statistical and optimization models for the various projects formulated from business and product views. The responsible person should be able to communicate and collaborate with multiple stakeholders representing various teams to better understand the problem at hand. At a fundamental level, the responsible person should be able to dive deep into a problem statement and extract interesting insights as well as solutions. In addition to being a quick learner, a DS is expected to get involved in active research projects with a view to publish them. What you ll do Understand Business and product needs and use ML, statistical and optimization techniques as appropriate to provide solutions to those in a time bound fashion. Communicate and collaborate with business and product teams to have a better understanding of the project so as to be able to drive it within the DS team. Get involved in in-depth exploration of solutions that are to be shared with business and product teams; specifically, build models and scalable custom algorithms for problems including decision optimization and predictive modeling. Active participation in working with new methods and learning new technologies, in areas including data science and data engineering. What you ll need: B.Tech, M.Tech or PhD in CS, Operations Research or related discipline with professional experience ranging from 3 to 6 years through deployed solutions/projects. Candidate should have taken academic coursework in Operations Research (specifically mathematical optimization) Demonstrated experience in building discrete, linear, nonlinear or stochastic optimization models is required. Experience with optimization models for supply chain optimization is preferred but not required Demonstrated experience in utilizing and tuning commercial optimization solvers (e.g. CPLEX, Gurobi) and in building custom optimization algorithms (e.g. exact algorithms, metaheuristics, large neighborhood search, decomposition algorithms, greedy/randomized search) for industry-scale problems is required. Good grasp on the theory and practise of basic statistical models such as regression or clustering and general ML algorithms such as tree, Random Forests, SVM, Boosting, Neural Networks etc. It is not expected that the candidate has actually worked on all these modules. Strong proficiency in Python or R is necessary.</td>\n",
       "    </tr>\n",
       "    <tr>\n",
       "      <th>8</th>\n",
       "      <td>Data Scientist</td>\n",
       "      <td>Bangalore/Bengaluru</td>\n",
       "      <td>epiFi Technologies</td>\n",
       "      <td>Identify and understand business problems : partner with business stakeholders to understand and communicate on business objectives Define analytical techniques to solve business challenges Provide data science contribution into the assigned projects Be part of the innovation programs (eg. Semtech, chatbots) Maintain high quality code and documentation Assure efficiency, stability and scalability of the solution Create deliver easily-consumable presentations to large groups of stakeholders and executives that showcase actionable insights and recommendations Team Interaction Data Scientist interacts with all members of service line she is assigned to in order to develop provide best in class solutions for the business. She interacts as well with key stakeholders of the business domain business process owners/experts, operations etc. in order to identify business opportunities, discuss test solutions She interacts also with other service lines as well as Analytics Apps Infrastructure team in order to exchange best practices She interacts also with Analytics Apps Infrastructure team in order to industrialize data products She interacts with Global IT department (Schneider Digital) to support the work on Intel Data Store</td>\n",
       "    </tr>\n",
       "    <tr>\n",
       "      <th>9</th>\n",
       "      <td>Data Scientist</td>\n",
       "      <td>Pune, Bangalore/Bengaluru</td>\n",
       "      <td>Nutanix India Technologies Private Limited</td>\n",
       "      <td>Working with multidisciplinary teams to identify, validate, and source required data and tools to develop and mature ML capabilities Performing data mining to discover nonobvious relationships, building training data, implementing and retraining ML solutions Conducting discovery workshops with business partners to identify business problems Building visualization dashboards to present metrics, statistical findings, and progress tracking Your Responsibilities Collaborate and work across business units to identify and source the data and technology to build and mature ML capabilities Conduct discovery workshops with business partners to identify business problems, obtain and validate training data Design, Build, implement, and retrain ML models to solve specific business problems Perform data mining and apply findings to increase modeling accuracy Cleary and concisely communicate business needs, computational findings and recommendations to all audiences regardless of their background or technical understanding Build, implement, and maintain visualization dashboards that clearly present both historical and real time operational metrics, research findings, and progress updates Basic Qualifications Bachelors degree in Applied Mathematics, Mathematical Engineering, Computer Science, Information Technology, or Related Field 10 + years of overall technical experience 2+ years of Machine Learning and or Data Mining experience 2+ years of experience building visualization dashboards 2+ years working with and manipulating large data sets 2+ years of hands on development experience using multiple languages Preferred Qualifications Masters degree in Applied Mathematics, Mathematical Engineering, Computer Science, Information Technology, or Related Field Experience with tools such as Tableau and Power BI Experience manipulating large data sets using technologies such as Hadoop, Azure, Hive, Spark, Element, Data Bricks, Mongo, and BigQuery Strong development experience using multiple languages such as Python, R Studio, SQL, C#, Java, Java Script, and Julia Successful completion of 2 or more projects (end to end) involving the migration and merging of large data sets from multiple sources, leveraging statistical analysis to identify meaningful and significant data relationships to build, train, and retrain ML models Experience and/or exposure to the cyber security industry and working with a SIEM such as Splunk or Google Chronicle</td>\n",
       "    </tr>\n",
       "  </tbody>\n",
       "</table>\n",
       "</div>"
      ],
      "text/plain": [
       "                                                              Job Titles  \\\n",
       "0  Sr. Data Scientist / Data Scientist For Bangalore & Kolkata Locations   \n",
       "1                                                         Data Scientist   \n",
       "2                                                  Senior Data Scientist   \n",
       "3             Senior Data Scientist - Python/Machine Learning Algorithms   \n",
       "4                Data Scientist/Senior Data Scientist - IT Services Firm   \n",
       "5                                                    Lead Data Scientist   \n",
       "6                                                    SDE2 Data Scientist   \n",
       "7                                                    SDE1 Data Scientist   \n",
       "8                                                         Data Scientist   \n",
       "9                                                         Data Scientist   \n",
       "\n",
       "                                                             Locations  \\\n",
       "0                                         Kolkata, Bangalore/Bengaluru   \n",
       "1                    Hyderabad/Secunderabad, Pune, Bangalore/Bengaluru   \n",
       "2                                           Noida, Bangalore/Bengaluru   \n",
       "3            Mumbai, Hyderabad/Secunderabad, Pune, Bangalore/Bengaluru   \n",
       "4  Hyderabad/Secunderabad, Pune, Gurgaon/Gurugram, Bangalore/Bengaluru   \n",
       "5                                                  Bangalore/Bengaluru   \n",
       "6                                                  Bangalore/Bengaluru   \n",
       "7                                                  Bangalore/Bengaluru   \n",
       "8                                                  Bangalore/Bengaluru   \n",
       "9                                            Pune, Bangalore/Bengaluru   \n",
       "\n",
       "                                 Company Names  \\\n",
       "0                                      mPokket   \n",
       "1  Amazon Development Centre (India) Pvt. Ltd.   \n",
       "2                                   InnovAccer   \n",
       "3                   Altimax Business Solutions   \n",
       "4          Pylon Management Consulting Pvt Ltd   \n",
       "5                          Huawei Technologies   \n",
       "6                                Multi Recruit   \n",
       "7                                Multi Recruit   \n",
       "8                           epiFi Technologies   \n",
       "9   Nutanix India Technologies Private Limited   \n",
       "\n",
       "                                                                                                                                                                                                                                                                                                                                                                                                                                                                                                                                                                                                                                                                                                                                                                                                                                                                                                                                                                                                                                                                                                                                                                                                                                                                                                                                                                                                                                                                                                                                                                                                                                                                                                                                                                                                                                                                                                                                                                                                                                                                                                                                                                                                                                                                                                                                                                                                                                                                                                                                                                                                                                                                                                                                                                                                                                                                                                                                                                                                                                                                                                                                                                                                                                                                                                                                                                                                                                                                                                                                                                                                                                                                                                                                                                                                                                                                                                                                                                                                                                                                                                                                                                                                                                                                                                                                                                                                                  Job Descriptions  \n",
       "0                                                                                                                                                                                                                                                                                                                                                                                                                                                                                                                                                                                                                                                                                                                                                                                                                                                                                                                                                                                                                                                                                                                                                                                                                                                                                                                                                                                                                                                                                                                                                                                                                                                                                                                                                                                                                                                                                                                                                                                                                                                                                                                                                                 We are looking for a Lead data scientist who will help us discover the information hidden in vast amounts of Ad Campaign data, and help us to optimize the campaign to improve the advertiser ROI and improve the overall consumer experience. Your primary focus will be in applying data mining techniques, doing statistical analysis, and building high quality prediction systems using Deep learning algorithms integrated with our products. Some the key area you will be working on spend recommendation, floor price prediction, CTR/CVR prediction, market funnel analysis and perdition of lead to conversion, etc.  Responsibility: Analyze the data, develop insights and identify the opportunity to utilize the data to predict various Advertisement key indicators like CTR, CVR, Inventory and Develop prediction and optimization algorithms for campaign, look alike modeling, etc for Huawei Ads. Takeup key challenges in AI-driven Smart Ad Serving Platform and focus on research and developing leading AI algorithms and productionize for Huawei Ads. Takeup initiative in identifying the SOTA and finding key gaps in AI algorithms and develop a world leading AI algorithms for optimizing real-time Ad Serving engine. Identify and optimize the core modules such as Traffic Prediction, Optimization, Ad Targeting/Re-targeting, Ad Performance Optimization, Audience insights, Attribution, Bidding, re-ranking, and Diagnostics. Support hundreds of billions of ad requests per day, with efficiently cache technology. To build and enhance Ad platform features and Prediction capabilities in Huawei Ads Platform Optimized Cost Per Mille; Optimized Cost Per Action; Optimized Cost Per Click and Cost per Click. OCPM, OCPA, OCPC.  Requirements: - Strong hands-on experience in implementing and validating big data algorithms and models including Deep Learning models like Seq2Seq/ GRU/ RNN/LSTM , Knowledge Graph, Massive Graph algorithms, etc. - Programming experience with Python - Able to validate existing models including Deep Learning models with large scale dataset and able to make changes to the models to achieve better performance - AdServing domain Experience is an added advantage.  \n",
       "1                                                                                                                                                                                                                                                                                                                                                                                                                                                                                                                                                                                                                                                                                                                                                                                                                                                                                                                                                                                                                                                                                                                                                                                                                                                                                                                                                                                                                                                                                                                                                                                                                                                                                                                                                                                                                                                                                                                                                                                     Duties and Responsibilities Implement the application solving customer s issue by applying AI/ML technologies Apply ML and DL models for various industry problems. Setting-up collaboration environment and framework for AI related research and development projects. Design and develop different architectural models for scalable data storage, processing, and large-scale analytics. Work with cross-functional teams to understand technical needs. Set-up big data environment that helps establish rapid POCs and prototype developments on both on-premises and cloud-based platforms. Monitor and optimize performance of the big data ecosystem. Ensure data accessibility to researchers via different programming languages. Keep up to date with state of the art in the industry. Qualifications Minimum Bachelor s degree in Computer Science with substantial industry experience of 5 years or more of Data Engineering/ETL/Administration experience. Hands-on experience in Statistical data analysis and Machine learning Possess significant knowledge of Big Data technologies and tools. Good coding skills in at least one scripting language (Shell, Python, R, etc.) Experience with various Hadoop distribution like Hortonworks and Cloudera. Knowledge of cluster monitoring tools like Ambari, Ganglia, or Nagios. Delivered Big Data solutions in the cloud with AWS or Azure or Google Cloud. Experience in Java programming, Scala programming. Experience with RDBMS (MySQL, PostgreSQL, etc.) Experience with NoSQL database administration development like MongoDB. Experience with Hadoop eco-system (MapReduce, Streaming, Pig, HIVE, Spark). Experience using DevOps toolbox such as Jenkins, Chef, Puppet. Proven ability to create and manage big data pipeline using Kafka, Flume Spark Knowledge of BI tools such as Tableau, Pentaho, etc. Experience building large-scale distributed applications and services. Experience with agile development methodologies. - Knowledge of industry standards and trends. Good communication, logical thinking, and presentation skills. Additional qualifications (preferred but not mandatory) Master s degree in Computer Science or equivalent with at least 5 years industry experience of data engineering/ETL/Administration. Experience applying Deep learning. Substantial industry experience developing prototypes and demonstrating PoCs  \n",
       "2                                                                                                                                                                                                                                                                                                                                                                                                                                                                                                                                                                                                                                                                                                                                                                                                                                                                                                                                                                                                                                                                                                                                                                                                                                                                                                                                                                                                                                                                                                                                                                                                                                                                                                                                                                                                                                                                                                                                                                                                                                                                                                                                                                                                                                                                                                                                                                                                                                                                                                                                                                                                                                                                                                                                                                                                                                                                                                                                                                                                                                                                                                                                                                                                                                                                                                                                       Roles and Responsibilities PhD in Statistics, Math or Computer Science is preferred. Must have at least a Master degree with 10+ years of experience. Excellent statistical analysis skills to identify patterns in data. This includes having a keen sense of pattern detection and anomaly detection. Excellent understanding of machine learning techniques and algorithms, such as k-NN, Naive Bayes, SVM, Decision Forests, etc. Must be able to implement algorithms and statistical concepts to build predictive models. In-depth experience with common data science tools such as TensorFlow, PyTorch or equivalent. Proficient in programming with python, SQL and No-SQL databases; and data science libraries such as nltk, numpy, scipy and many others Great communication skills both written and verbal. Must be able to effectively communicate with global English speaking teams. Expertise in collaborating with multi-disciplinary teams of business analysts, data scientists, subject matter experts, and developers Desired Candidate Profile   Perks and Benefits  \n",
       "3  Senior Data Scientist, NLP Are you excited about working at the forefront of applied research in an industry setting? Thomson Reuters Labs in Bangalore is seeking experienced data scientists with a passion for solving problems using state-of-the-art Machine Learning and Natural Language Processing. What does Thomson Reuters Labs do? We experiment, we build, we deliver. We support the organization and our customers through applied research and the development of new products and technologies. TR Labs innovates collaboratively across our core segments in Legal, Tax & Accounting, Government, and Reuters News.  We undertake a diverse portfolio of projects today while investing in long-term research for the future. As a data scientist in Labs, you will be part of a global interdisciplinary team of experts. We hire specialists across a variety of AI research areas, as well as Engineering and Design, to drive the company's digital transformation. TR Labs is known for consistently delivering Artificial Intelligence projects that advance the state of the art in support of high growth products and serve Thomson Reuters customers in new and exciting ways.  About the role In this opportunity as a Senior Data Scientist, you will: Experiment and Develop: You will drive the entire model development lifecycle, building, testing, and delivering high-quality solutions. You will apply best practices for conducting reproducible research and well-managed software delivery. Collaborate: Working on a collaborative cross-functional team, you will share information, value diverse ideas, and partner effectively with colleagues across the globe. You will elevate and mentor teammates. Deliver: With a strong sense of urgency and the desire to work in a fast-paced, dynamic environment, you will translate complex business problems into projects with a clearly defined scope. Our problems are complex; our solutions are right-sized. You will be accountable for timely, well-managed deliverables. Innovate:  You will be empowered to try new approaches and learn new technologies. You will implement innovative ideas to solve real-world challenges. Inspire: You will be a proactive communicator who is excited to share your work. You will be articulate and compelling in describing ideas to both technical and non-technical audiences. You will help lead the way in the adoption of AI across the enterprise.  About you Basic qualifications Ph.D. in a relevant discipline or Masters plus a comparable level of experience At least five years experience building ML/NLP systems Solid software engineering skills for prototyping Experience as a technical leader, coordinating and guiding the work of others Preferred qualifications 8+ years of academic or industry experience building ML or NLP systems with the demonstrated ability to translate cutting edge research into working applications Demonstrated ability to translate customer needs into well-structured research/project plans Proficiency in Python, Java, or Scala and experience delivering minimum viable products in a large enterprise environment Outstanding communication, organization, and data-driven decision making Publications at workshops or conferences such as ACL, EMNLP, KDD, ICML, NeurIPS, or similar  What's in it for you At Thomson Reuters, our people are our greatest assets. In addition to rewarding and challenging work with exceptional colleagues, we offer the following benefits for your personal and professional growth: Learning & Development: On-the-job coaching & learning, tuition reimbursement, exposure to leading-edge technology Our Scientists and Engineers get to play with big data sets to discover new products, capabilities, and insights for our customers. Thomson Reuters is most well-known for the globally respected Reuters News agency, but our company is also the leading source of information for legal, corporate, and tax professionals. We have over 60,000 TBs worth of legal, regulatory, news, and tax data.  Benefits: Flexible work arrangements, comprehensive health coverage effective day one, savings and investment plans Perks: Social events & activities, employee discount programs Social Impact: Paid time off for volunteering virtually or in your community  \n",
       "4                                                                                                                                                                                                                                                                                                                                                                                                                                                                                                                                                                                                                                                                                                                                                                                                                                                                                                                                                                                                                                                                                                                                                                                                                                                                                                                                                                                                                                                                                                                                                                                                                                                                                                                                                                                                                                                                                                                                                                                                                                                                                                                                                                                                                                                                                                                                                                                                                                                                                                                                                                                                                                                                Responsibilities :  - Analytics lead on client projects responsible for data science application development, Works closely with cross-functional teams.  - Takes responsibility for requirements gathering, solution design, development, and developing a production-level data science solution  - Develop implementation guidelines, quality control procedures, and documentation for projects. Ensures adherence to the best practices in the project  - Guide team members on project work and take responsibility for the analytics deliverables  - Take initiatives to drive data science initiatives like training to the team, conduct proof-of-concept work to test new data science algorithms or features with support of data science leadership  Must have Skills and Experience: :  - At least a year of experience of leading machine learning or forecasting projects to meet the customers- business requirement  - 5-6 years of project experience using machine learning techniques (like Decision Trees, Gradient Boosting, Random Forest, and Neural Networks) or forecasting techniques (ESM, ARIMA, ARIMAX, UCM)  - Advance level skills in Python and SQL to work on large scale data  - Expertise and ability to train team members in Advanced Python for Data Science, Machine Learning / Forecasting, and SQL  Education:  - Bachelor /Master's degree in technology or engineering or quantitative field (e.g. MSc in Statistics and Operations Research, M Tech in Industrial Engineering, Applied Math/Statistics, Computer Science)  - Experience in retail, manufacturing, and consumer goods industry  - Experience of operationalization of the machine learning or forecasting models in the cloud or on-premises platform  \n",
       "5                                                                                                                                                                                                                                                                                                                                                                                                                                                                                                                                                                                                                                                                                                     We are seeking a Data Scientist to join our growing Analytics & Reporting team with strong hands-on analytical skills who can leverage disparate datasets, ensure data integrity and quality, create innovative solutions, and provide actionable insights to improve quality, service and customer outcomes. The ideal candidate will have experience with database technologies, operational analytics, working knowledge of Artificial Intelligence/Machine Learning (AI/ML) techniques. You will use statistical creativity and intellectual curiosity to create some of the most impressive statistical analyses that will propel our clients to the next level.  Responsibilities Be a collaborative member of a group that translates business questions into practical results and actionable insights. Analyze complex data sets, develop standardized processes, and support various ad-hoc analytic requests like KPI reporting, customer profiling, campaign response analysis, and advanced analytic modeling. Write programs to cleanse and integrate data in an efficient and reusable manner. Ensure data quality and analytic accuracy before presenting to the stakeholders. Implement and validate predictive and prescriptive models; create and maintain statistical models with a focus on big data. Incorporate a variety of statistical and machine learning techniques in your projects. Work on complex problems and act as a consultant on other ML/ Data engineering projects. Produce accurate data reporting and provide recommendations for improving future reports. Provide insights into channel effectiveness and targeting effectiveness to drive better channel personalization as opportunities to improve program success. Evaluate modelling results and communicate the results to technical and non-technical audiences. Research emerging tools and techniques in reporting and analytics.  Qualifications Degree in a highly relevant analytical or technical field, such as statistics, data science, or business analytics. 4+ years of direct program and analysis experience in retail with a strong emphasis on answering complex business questions and developing practical solutions. Experience in a data-driven environment providing analytics & insights. Knowledge of predictive analytics, statistical modelling, model interpretation, exploratory data analysis and reporting. Extensive experience with large data sets, statistical analyses, and visualization as well as hands on experience with Python, SQL, and Tableau. Ability to quickly learn and take responsibility to deliver from preferred programming tool.  Perks and Benefits Bridgetree understands that our people are our true assets, and we go length and breadth to ensure we have a highly engaged and connected working environment. Our values - Integrity, Excellence, Ownership & Accountability, Create Problem Solving, Passion & Here to Help play an important role in defining and shaping Bridgetree's work culture. Quarterly skip-level meetings & annual manager feedback program ensure that employee communication channels are always open. Bridgetree also offers the best in Industry perks and benefits. We follow a calendar cycle for performance/salary appraisal and include a great bonus model in pay structure. Additionally, some of the key benefits we offer are: A whole suite of leaves, PL, ML, Paternity, Quarantine, Sabbatical etc,  Medical insurance benefits (including COVID hospitalization) Learning and Development - certification reimbursement Full-time WFH Visa sponsorship program Sodexo/Zaggle food card options Relocation benefits  \n",
       "6                                                                                                                                                                                                                                                                                                                                                                                                                                                                                                                                                                                                                                                                                                                                                                                                                                                                                                                                                                                                                                                                                                                                                                                                                                                                                                                                                                                                                                                                                                                                                                                                                                                                                                                                                                                                                                                                                                                                                                                                                                                                                                                                                                                                                                                                                                                                                                                                                                                                                                                                                                                                                                                                                                                                                                                                                                                                                                                                                                                                                                                                                                                                                                                                                                                                                                                                       Prior experience of working with large-scale datasets (10s of millions of documents) is strongly preferred. End-to-end ownership of developing the model, writing production quality code and deploying the model is an expectation of the job. Experience in data cleansing and preparation concepts and tools. Prior experience of working with startups is strongly preferred. Expertise in probability and statistics, time-series analysis as well as experience in the use of machine learning methods, for example, linear regression, correlation, statistical significance, and so forth. Experience in data visualization concepts and tools Experience with Data Quality Controls. Tech Requirements Experience in NLP is a must. Programming Languages: Hands-on with Python and Java. Strong background in relational databases, data modeling and SQL. Experience working with statistical libraries (e.g scikit-learn) and frameworks for predictive analytics. Knowledge of Hadoop and UNIX will be a plus. Knowledge of Kibana and/or other reporting tools is preferred.  \n",
       "7                                                                                                                                                                                                                                                                                                                                                                                                                                                                                                                                                                                                                                                                                                                                                                                                                                                                                                                                                                                                                                                                                                                                                                                                                                                                                                                                                                                                                                                                                                                                                                                                                                                                                                                                                                                                                                                           About the role A Data Scientist in Flipkart is required to develop and implement a mix of ML, statistical and optimization models for the various projects formulated from business and product views. The responsible person should be able to communicate and collaborate with multiple stakeholders representing various teams to better understand the problem at hand. At a fundamental level, the responsible person should be able to dive deep into a problem statement and extract interesting insights as well as solutions. In addition to being a quick learner, a DS is expected to get involved in active research projects with a view to publish them. What you ll do Understand Business and product needs and use ML, statistical and optimization techniques as appropriate to provide solutions to those in a time bound fashion. Communicate and collaborate with business and product teams to have a better understanding of the project so as to be able to drive it within the DS team. Get involved in in-depth exploration of solutions that are to be shared with business and product teams; specifically, build models and scalable custom algorithms for problems including decision optimization and predictive modeling. Active participation in working with new methods and learning new technologies, in areas including data science and data engineering. What you ll need: B.Tech, M.Tech or PhD in CS, Operations Research or related discipline with professional experience ranging from 3 to 6 years through deployed solutions/projects. Candidate should have taken academic coursework in Operations Research (specifically mathematical optimization) Demonstrated experience in building discrete, linear, nonlinear or stochastic optimization models is required. Experience with optimization models for supply chain optimization is preferred but not required Demonstrated experience in utilizing and tuning commercial optimization solvers (e.g. CPLEX, Gurobi) and in building custom optimization algorithms (e.g. exact algorithms, metaheuristics, large neighborhood search, decomposition algorithms, greedy/randomized search) for industry-scale problems is required. Good grasp on the theory and practise of basic statistical models such as regression or clustering and general ML algorithms such as tree, Random Forests, SVM, Boosting, Neural Networks etc. It is not expected that the candidate has actually worked on all these modules. Strong proficiency in Python or R is necessary.  \n",
       "8                                                                                                                                                                                                                                                                                                                                                                                                                                                                                                                                                                                                                                                                                                                                                                                                                                                                                                                                                                                                                                                                                                                                                                                                                                                                                                                                                                                                                                                                                                                                                                                                                                                                                                                                                                                                                                                                                                                                                                                                                                                                                                                                                                                                                                                                                                                                                                                                                                                                                                                                                                                                                                                                                                                                                                                                                                                                                                                                                                                                                                                                                                                                         Identify and understand business problems : partner with business stakeholders to understand and communicate on business objectives Define analytical techniques to solve business challenges Provide data science contribution into the assigned projects Be part of the innovation programs (eg. Semtech, chatbots) Maintain high quality code and documentation Assure efficiency, stability and scalability of the solution Create deliver easily-consumable presentations to large groups of stakeholders and executives that showcase actionable insights and recommendations Team Interaction Data Scientist interacts with all members of service line she is assigned to in order to develop provide best in class solutions for the business. She interacts as well with key stakeholders of the business domain business process owners/experts, operations etc. in order to identify business opportunities, discuss test solutions She interacts also with other service lines as well as Analytics Apps Infrastructure team in order to exchange best practices She interacts also with Analytics Apps Infrastructure team in order to industrialize data products She interacts with Global IT department (Schneider Digital) to support the work on Intel Data Store      \n",
       "9                                                                                                                                                                                                                                                                                                                                                                                                                                                                                                                                                                                                                                                                                                                                                                                                                                                                                                                                                                                                                                                                                                                                                                                                                                                                                                                                                                                                                                                                                                                                                                                                                                                                                                                                                                                                                                                                      Working with multidisciplinary teams to identify, validate, and source required data and tools to develop and mature ML capabilities Performing data mining to discover nonobvious relationships, building training data, implementing and retraining ML solutions Conducting discovery workshops with business partners to identify business problems Building visualization dashboards to present metrics, statistical findings, and progress tracking Your Responsibilities Collaborate and work across business units to identify and source the data and technology to build and mature ML capabilities Conduct discovery workshops with business partners to identify business problems, obtain and validate training data Design, Build, implement, and retrain ML models to solve specific business problems Perform data mining and apply findings to increase modeling accuracy Cleary and concisely communicate business needs, computational findings and recommendations to all audiences regardless of their background or technical understanding Build, implement, and maintain visualization dashboards that clearly present both historical and real time operational metrics, research findings, and progress updates Basic Qualifications Bachelors degree in Applied Mathematics, Mathematical Engineering, Computer Science, Information Technology, or Related Field 10 + years of overall technical experience 2+ years of Machine Learning and or Data Mining experience 2+ years of experience building visualization dashboards 2+ years working with and manipulating large data sets 2+ years of hands on development experience using multiple languages Preferred Qualifications Masters degree in Applied Mathematics, Mathematical Engineering, Computer Science, Information Technology, or Related Field Experience with tools such as Tableau and Power BI Experience manipulating large data sets using technologies such as Hadoop, Azure, Hive, Spark, Element, Data Bricks, Mongo, and BigQuery Strong development experience using multiple languages such as Python, R Studio, SQL, C#, Java, Java Script, and Julia Successful completion of 2 or more projects (end to end) involving the migration and merging of large data sets from multiple sources, leveraging statistical analysis to identify meaningful and significant data relationships to build, train, and retrain ML models Experience and/or exposure to the cyber security industry and working with a SIEM such as Splunk or Google Chronicle  "
      ]
     },
     "execution_count": 158,
     "metadata": {},
     "output_type": "execute_result"
    }
   ],
   "source": [
    "pd.options.display.max_colwidth = 5000\n",
    "df"
   ]
  },
  {
   "cell_type": "markdown",
   "metadata": {},
   "source": [
    "To display the entire data we increase the column width"
   ]
  },
  {
   "cell_type": "code",
   "execution_count": null,
   "metadata": {},
   "outputs": [],
   "source": []
  },
  {
   "cell_type": "markdown",
   "metadata": {},
   "source": [
    "Q3: In this question you have to scrape data using the filters available on the\n",
    "webpage as shown below:\n",
    "You have to use the location and salary filter.\n",
    "You have to scrape data for “Data Scientist” designation for first 10 job results.\n",
    "You have to scrape the job-title, job-location, company_name,\n",
    "experience_required.\n",
    "The location filter to be used is “Delhi/NCR”\n",
    "The salary filter to be used is “3-6” lakhs\n",
    "The task will be done as shown in the below steps:\n",
    "1. first get the webpage https://www.naukri.com/\n",
    "2. Enter “Data Scientist” in “Skill,Designations,Companies” field .\n",
    "3. Then click the search button.\n",
    "4. Then apply the location filter and salary filter by checking the respective boxes\n",
    "4. Then scrape the data for the first 10 jobs results you get.\n",
    "5. Finally create a dataframe of the scraped data.\n",
    "Note- All of the above steps have to be done in code. No step is to be done\n",
    "manually."
   ]
  },
  {
   "cell_type": "code",
   "execution_count": 113,
   "metadata": {},
   "outputs": [],
   "source": [
    "driver.get(\"https://www.naukri.com/\")"
   ]
  },
  {
   "cell_type": "markdown",
   "metadata": {},
   "source": [
    "Get the webpage using driver"
   ]
  },
  {
   "cell_type": "code",
   "execution_count": 114,
   "metadata": {},
   "outputs": [],
   "source": [
    "search_job = driver.find_element_by_id(\"qsb-keyword-sugg\")"
   ]
  },
  {
   "cell_type": "markdown",
   "metadata": {},
   "source": [
    "Finding the job search element to insert search value"
   ]
  },
  {
   "cell_type": "code",
   "execution_count": 115,
   "metadata": {},
   "outputs": [],
   "source": [
    "search_job.send_keys(\"Data Scientist\")"
   ]
  },
  {
   "cell_type": "markdown",
   "metadata": {},
   "source": [
    "Providing the search value to the element"
   ]
  },
  {
   "cell_type": "code",
   "execution_count": 116,
   "metadata": {},
   "outputs": [],
   "source": [
    "search_btn = driver.find_element_by_xpath(\"//div[@class='search-btn']/button\")\n",
    "search_btn.click()"
   ]
  },
  {
   "cell_type": "markdown",
   "metadata": {},
   "source": [
    "Finding the search button element and using the click function to make a search"
   ]
  },
  {
   "cell_type": "code",
   "execution_count": 117,
   "metadata": {},
   "outputs": [],
   "source": [
    "driver.get(\"https://www.naukri.com/data-scientist-jobs?k=data%20scientist\")"
   ]
  },
  {
   "cell_type": "markdown",
   "metadata": {},
   "source": [
    "Now, we load the webpage using the driver\n",
    "\n",
    "We can use refresh function to do this as well."
   ]
  },
  {
   "cell_type": "code",
   "execution_count": 118,
   "metadata": {},
   "outputs": [
    {
     "data": {
      "text/plain": [
       "[<selenium.webdriver.remote.webelement.WebElement (session=\"5b74e01680491344b7f0db98c001cb5e\", element=\"ad056d6f-fa8a-4fc2-9314-16fe5ba3ded1\")>,\n",
       " <selenium.webdriver.remote.webelement.WebElement (session=\"5b74e01680491344b7f0db98c001cb5e\", element=\"52e8f130-01e7-478c-b7d6-3d0c890549ec\")>,\n",
       " <selenium.webdriver.remote.webelement.WebElement (session=\"5b74e01680491344b7f0db98c001cb5e\", element=\"1337f2be-80f9-47c7-9bc6-f195d94cbfc0\")>,\n",
       " <selenium.webdriver.remote.webelement.WebElement (session=\"5b74e01680491344b7f0db98c001cb5e\", element=\"dc8aa572-6b14-40c2-bb6b-2ece193e89f1\")>,\n",
       " <selenium.webdriver.remote.webelement.WebElement (session=\"5b74e01680491344b7f0db98c001cb5e\", element=\"ed4c6cb2-2cdb-47fb-a8e5-8cc134528dd6\")>,\n",
       " <selenium.webdriver.remote.webelement.WebElement (session=\"5b74e01680491344b7f0db98c001cb5e\", element=\"554ea8e2-7693-4de0-be77-10c66c31c59a\")>,\n",
       " <selenium.webdriver.remote.webelement.WebElement (session=\"5b74e01680491344b7f0db98c001cb5e\", element=\"23e1b25d-2f73-4bc3-957f-01abcc33f73b\")>,\n",
       " <selenium.webdriver.remote.webelement.WebElement (session=\"5b74e01680491344b7f0db98c001cb5e\", element=\"8d659da6-9148-47bd-a67c-18ecfe674089\")>,\n",
       " <selenium.webdriver.remote.webelement.WebElement (session=\"5b74e01680491344b7f0db98c001cb5e\", element=\"a9c8e18b-421c-408d-b42a-786a976f2f67\")>,\n",
       " <selenium.webdriver.remote.webelement.WebElement (session=\"5b74e01680491344b7f0db98c001cb5e\", element=\"19eb3fb5-6b3e-4b06-996f-bc7ba50a3c8c\")>,\n",
       " <selenium.webdriver.remote.webelement.WebElement (session=\"5b74e01680491344b7f0db98c001cb5e\", element=\"3948c790-d38a-44a1-87b2-e282e4589bd0\")>,\n",
       " <selenium.webdriver.remote.webelement.WebElement (session=\"5b74e01680491344b7f0db98c001cb5e\", element=\"52bf4bcb-9cc9-418f-9977-2a83fa307c7a\")>,\n",
       " <selenium.webdriver.remote.webelement.WebElement (session=\"5b74e01680491344b7f0db98c001cb5e\", element=\"59c2089f-5387-45f2-96b2-944657e6644c\")>,\n",
       " <selenium.webdriver.remote.webelement.WebElement (session=\"5b74e01680491344b7f0db98c001cb5e\", element=\"e760d378-44eb-4e02-8264-a1a4b2d9c37d\")>,\n",
       " <selenium.webdriver.remote.webelement.WebElement (session=\"5b74e01680491344b7f0db98c001cb5e\", element=\"61c2b98a-55de-4b48-a112-86fa3d7e2ac3\")>,\n",
       " <selenium.webdriver.remote.webelement.WebElement (session=\"5b74e01680491344b7f0db98c001cb5e\", element=\"c3f391c3-c07e-421d-803f-b2674632e1d2\")>,\n",
       " <selenium.webdriver.remote.webelement.WebElement (session=\"5b74e01680491344b7f0db98c001cb5e\", element=\"4a79772d-4c1b-4ed7-8caa-02bd4708d31a\")>,\n",
       " <selenium.webdriver.remote.webelement.WebElement (session=\"5b74e01680491344b7f0db98c001cb5e\", element=\"bf584453-8b9e-42be-9d4e-63a586dfd01c\")>,\n",
       " <selenium.webdriver.remote.webelement.WebElement (session=\"5b74e01680491344b7f0db98c001cb5e\", element=\"7ed32c29-b3c4-4732-90d7-bfc6e1593fc8\")>,\n",
       " <selenium.webdriver.remote.webelement.WebElement (session=\"5b74e01680491344b7f0db98c001cb5e\", element=\"638c6e5d-e708-46b5-a364-f92876d6110e\")>,\n",
       " <selenium.webdriver.remote.webelement.WebElement (session=\"5b74e01680491344b7f0db98c001cb5e\", element=\"0967bfa1-5e67-4d87-a694-10c5cb6ac4dd\")>,\n",
       " <selenium.webdriver.remote.webelement.WebElement (session=\"5b74e01680491344b7f0db98c001cb5e\", element=\"7d39991f-9411-471e-9539-954ef0f05315\")>,\n",
       " <selenium.webdriver.remote.webelement.WebElement (session=\"5b74e01680491344b7f0db98c001cb5e\", element=\"584bf4a2-1537-4919-880e-4e1bdfeaea4b\")>,\n",
       " <selenium.webdriver.remote.webelement.WebElement (session=\"5b74e01680491344b7f0db98c001cb5e\", element=\"1ac97764-ca00-4bf5-8a97-2714ef689f3b\")>,\n",
       " <selenium.webdriver.remote.webelement.WebElement (session=\"5b74e01680491344b7f0db98c001cb5e\", element=\"214fbba7-21f3-428e-8347-60b12d915560\")>,\n",
       " <selenium.webdriver.remote.webelement.WebElement (session=\"5b74e01680491344b7f0db98c001cb5e\", element=\"28fefc52-8d3d-4eea-a0c4-eb61a2ff7248\")>,\n",
       " <selenium.webdriver.remote.webelement.WebElement (session=\"5b74e01680491344b7f0db98c001cb5e\", element=\"5baaa8f1-3a0f-4b31-8560-2980da72fa58\")>]"
      ]
     },
     "execution_count": 118,
     "metadata": {},
     "output_type": "execute_result"
    }
   ],
   "source": [
    "check_box = driver.find_elements_by_xpath(\"//div[@class='mt-8 chckBoxCont']\")\n",
    "check_box"
   ]
  },
  {
   "cell_type": "markdown",
   "metadata": {},
   "source": [
    "We find all the check box elements"
   ]
  },
  {
   "cell_type": "code",
   "execution_count": 120,
   "metadata": {},
   "outputs": [],
   "source": [
    "t = []\n",
    "for i in check_box:\n",
    "    t.append(i.text.split(\"\\n\"))\n",
    "for i in range(len(t)):\n",
    "    if t[i][0] == 'Delhi / NCR':\n",
    "        check_box[i].click()\n",
    "        driver.refresh()\n"
   ]
  },
  {
   "cell_type": "markdown",
   "metadata": {},
   "source": [
    "Here we check if the checkbox value is the same as the required value and if our condition is satisfied we click on the checkbox and add a filter to the search"
   ]
  },
  {
   "cell_type": "code",
   "execution_count": 122,
   "metadata": {},
   "outputs": [],
   "source": [
    "for i in range(len(t)):\n",
    "    if t[i][0] == '3-6 Lakhs':\n",
    "        check_box[i].click()\n",
    "        driver.refresh()"
   ]
  },
  {
   "cell_type": "markdown",
   "metadata": {},
   "source": [
    "We also check if the checkbox is the same as the other required value. If the condition is satisfied we click on the checkbox and add another filter to the search results"
   ]
  },
  {
   "cell_type": "code",
   "execution_count": 209,
   "metadata": {},
   "outputs": [],
   "source": [
    "job_titles=[]\n",
    "locations_list=[]\n",
    "company_names=[]\n",
    "experience_list=[]"
   ]
  },
  {
   "cell_type": "markdown",
   "metadata": {},
   "source": [
    "Creating empty lists for required data features."
   ]
  },
  {
   "cell_type": "code",
   "execution_count": 210,
   "metadata": {},
   "outputs": [
    {
     "data": {
      "text/plain": [
       "[<selenium.webdriver.remote.webelement.WebElement (session=\"7dba5ff35d955958c26783bd283162a6\", element=\"4524cac0-56a2-417c-bb68-8dac07bc760b\")>,\n",
       " <selenium.webdriver.remote.webelement.WebElement (session=\"7dba5ff35d955958c26783bd283162a6\", element=\"f71412e0-f884-4c5e-9c9e-5c9b3b485866\")>,\n",
       " <selenium.webdriver.remote.webelement.WebElement (session=\"7dba5ff35d955958c26783bd283162a6\", element=\"60a9dee3-ee44-4880-966f-0f2bd52c8ef0\")>,\n",
       " <selenium.webdriver.remote.webelement.WebElement (session=\"7dba5ff35d955958c26783bd283162a6\", element=\"0cb9af59-24b4-4ae8-b8df-c2a3dfc8820a\")>,\n",
       " <selenium.webdriver.remote.webelement.WebElement (session=\"7dba5ff35d955958c26783bd283162a6\", element=\"731d9efe-7ff3-4520-bf6a-f804ab7aa579\")>,\n",
       " <selenium.webdriver.remote.webelement.WebElement (session=\"7dba5ff35d955958c26783bd283162a6\", element=\"ea0bfa3a-b2d8-44e8-9ebd-517e8bc9dc75\")>,\n",
       " <selenium.webdriver.remote.webelement.WebElement (session=\"7dba5ff35d955958c26783bd283162a6\", element=\"6f31eab0-5791-4eaf-a96e-8e8e94fbae9c\")>,\n",
       " <selenium.webdriver.remote.webelement.WebElement (session=\"7dba5ff35d955958c26783bd283162a6\", element=\"20637428-5d2a-426c-be34-f4ca05a5f756\")>,\n",
       " <selenium.webdriver.remote.webelement.WebElement (session=\"7dba5ff35d955958c26783bd283162a6\", element=\"f94032b1-6515-43a9-8180-e026bed45ece\")>,\n",
       " <selenium.webdriver.remote.webelement.WebElement (session=\"7dba5ff35d955958c26783bd283162a6\", element=\"14bd288b-8e4a-497a-87f5-9c8e908e99bb\")>,\n",
       " <selenium.webdriver.remote.webelement.WebElement (session=\"7dba5ff35d955958c26783bd283162a6\", element=\"bc398be9-7203-4c79-b509-8590a21c8bac\")>,\n",
       " <selenium.webdriver.remote.webelement.WebElement (session=\"7dba5ff35d955958c26783bd283162a6\", element=\"dbd68169-5ef6-4cd6-94be-a0535c43e71d\")>,\n",
       " <selenium.webdriver.remote.webelement.WebElement (session=\"7dba5ff35d955958c26783bd283162a6\", element=\"13b11f97-cf0f-4a3d-af36-fc1ddc1e591a\")>,\n",
       " <selenium.webdriver.remote.webelement.WebElement (session=\"7dba5ff35d955958c26783bd283162a6\", element=\"98ce4082-a853-48d3-ab42-13cdedcfa72b\")>,\n",
       " <selenium.webdriver.remote.webelement.WebElement (session=\"7dba5ff35d955958c26783bd283162a6\", element=\"a6db2d36-f310-40bd-9e28-be5cd67b5b48\")>,\n",
       " <selenium.webdriver.remote.webelement.WebElement (session=\"7dba5ff35d955958c26783bd283162a6\", element=\"f03d632e-1b6a-48a0-bf2b-c8de15226b40\")>,\n",
       " <selenium.webdriver.remote.webelement.WebElement (session=\"7dba5ff35d955958c26783bd283162a6\", element=\"3c9a0530-c3b2-49af-af1b-f37086f0e85f\")>,\n",
       " <selenium.webdriver.remote.webelement.WebElement (session=\"7dba5ff35d955958c26783bd283162a6\", element=\"6848e0b7-c503-4dc3-8692-63eac5f7c3c6\")>,\n",
       " <selenium.webdriver.remote.webelement.WebElement (session=\"7dba5ff35d955958c26783bd283162a6\", element=\"8a71702f-e6ce-4c6d-bdd3-467831b5583b\")>,\n",
       " <selenium.webdriver.remote.webelement.WebElement (session=\"7dba5ff35d955958c26783bd283162a6\", element=\"87bcedc2-5e4d-4b8d-92e1-5e24cd455973\")>]"
      ]
     },
     "execution_count": 210,
     "metadata": {},
     "output_type": "execute_result"
    }
   ],
   "source": [
    "titles_tags = driver.find_elements_by_xpath(\"//a[@class='title fw500 ellipsis']\")\n",
    "titles_tags"
   ]
  },
  {
   "cell_type": "markdown",
   "metadata": {},
   "source": [
    "Finding all the title webelements."
   ]
  },
  {
   "cell_type": "code",
   "execution_count": 211,
   "metadata": {},
   "outputs": [
    {
     "data": {
      "text/plain": [
       "['Data Scientist',\n",
       " 'Job Opportunity || Data Scientist || HCL Technologies',\n",
       " 'Data Scientist',\n",
       " 'Data Scientist',\n",
       " 'Data Scientist I/II/III',\n",
       " 'Academic Counsellor - Data Scientist',\n",
       " 'Associate Data Scientist',\n",
       " 'Data Scientist',\n",
       " 'Data Scientist',\n",
       " 'Data Scientist']"
      ]
     },
     "execution_count": 211,
     "metadata": {},
     "output_type": "execute_result"
    }
   ],
   "source": [
    "for i in titles_tags[:10]:\n",
    "    title = i.text\n",
    "    job_titles.append(title)\n",
    "job_titles"
   ]
  },
  {
   "cell_type": "markdown",
   "metadata": {},
   "source": [
    "Since, we need the data for only 10 entries we only take the first 10 elements data"
   ]
  },
  {
   "cell_type": "markdown",
   "metadata": {},
   "source": [
    "We reapeat the above two steps for all of the data features."
   ]
  },
  {
   "cell_type": "code",
   "execution_count": 212,
   "metadata": {},
   "outputs": [
    {
     "data": {
      "text/plain": [
       "[<selenium.webdriver.remote.webelement.WebElement (session=\"7dba5ff35d955958c26783bd283162a6\", element=\"301e4227-6598-4c08-be8d-fb83d580c5db\")>,\n",
       " <selenium.webdriver.remote.webelement.WebElement (session=\"7dba5ff35d955958c26783bd283162a6\", element=\"25e58afc-03ae-4cc1-824c-87553a2b3d65\")>,\n",
       " <selenium.webdriver.remote.webelement.WebElement (session=\"7dba5ff35d955958c26783bd283162a6\", element=\"380aed77-3124-445d-b59f-5d8d4cb56099\")>,\n",
       " <selenium.webdriver.remote.webelement.WebElement (session=\"7dba5ff35d955958c26783bd283162a6\", element=\"3ab449ad-f463-40f7-8227-1e503fe9150b\")>,\n",
       " <selenium.webdriver.remote.webelement.WebElement (session=\"7dba5ff35d955958c26783bd283162a6\", element=\"e094fb56-b0f5-4ad1-b4a9-628460d30e43\")>,\n",
       " <selenium.webdriver.remote.webelement.WebElement (session=\"7dba5ff35d955958c26783bd283162a6\", element=\"accf1e11-5407-447a-82aa-ae984fa6968e\")>,\n",
       " <selenium.webdriver.remote.webelement.WebElement (session=\"7dba5ff35d955958c26783bd283162a6\", element=\"58fb96ad-708c-4398-abb2-00fb18f79596\")>,\n",
       " <selenium.webdriver.remote.webelement.WebElement (session=\"7dba5ff35d955958c26783bd283162a6\", element=\"89bd8bfd-31e1-48ce-bca6-20fd74d17aab\")>,\n",
       " <selenium.webdriver.remote.webelement.WebElement (session=\"7dba5ff35d955958c26783bd283162a6\", element=\"444a6246-f26e-4400-b43d-6e07e4875b36\")>,\n",
       " <selenium.webdriver.remote.webelement.WebElement (session=\"7dba5ff35d955958c26783bd283162a6\", element=\"c32039a9-3966-4902-aebe-1dcad7282ad2\")>,\n",
       " <selenium.webdriver.remote.webelement.WebElement (session=\"7dba5ff35d955958c26783bd283162a6\", element=\"318a969b-10b8-4a2c-8694-08fb45685bf6\")>,\n",
       " <selenium.webdriver.remote.webelement.WebElement (session=\"7dba5ff35d955958c26783bd283162a6\", element=\"fe3388f5-c14e-4c5b-854b-4245daed8e09\")>,\n",
       " <selenium.webdriver.remote.webelement.WebElement (session=\"7dba5ff35d955958c26783bd283162a6\", element=\"8fd01bec-7576-4735-ba11-5c29d36e2d0d\")>,\n",
       " <selenium.webdriver.remote.webelement.WebElement (session=\"7dba5ff35d955958c26783bd283162a6\", element=\"8acc5c4f-cddc-415b-8493-7edb828f1ecf\")>,\n",
       " <selenium.webdriver.remote.webelement.WebElement (session=\"7dba5ff35d955958c26783bd283162a6\", element=\"b8e1fe40-36a2-496a-8143-4c2889fd107f\")>,\n",
       " <selenium.webdriver.remote.webelement.WebElement (session=\"7dba5ff35d955958c26783bd283162a6\", element=\"e06bf6ae-3b73-4bc4-aaa2-3b4fb9bcdab8\")>,\n",
       " <selenium.webdriver.remote.webelement.WebElement (session=\"7dba5ff35d955958c26783bd283162a6\", element=\"1bc617d0-16bc-4996-b5bd-909ee5f8c5a2\")>,\n",
       " <selenium.webdriver.remote.webelement.WebElement (session=\"7dba5ff35d955958c26783bd283162a6\", element=\"31ce9649-594d-4492-88e6-2e453bbbcc8b\")>,\n",
       " <selenium.webdriver.remote.webelement.WebElement (session=\"7dba5ff35d955958c26783bd283162a6\", element=\"e0464641-a0a3-441d-a9a3-b66a2aaf8b24\")>,\n",
       " <selenium.webdriver.remote.webelement.WebElement (session=\"7dba5ff35d955958c26783bd283162a6\", element=\"94fc8c76-b67b-49ad-8c3a-45c4ca4c438d\")>]"
      ]
     },
     "execution_count": 212,
     "metadata": {},
     "output_type": "execute_result"
    }
   ],
   "source": [
    "location_tags = driver.find_elements_by_xpath(\"//li[@class='fleft grey-text br2 placeHolderLi location']\")\n",
    "location_tags"
   ]
  },
  {
   "cell_type": "code",
   "execution_count": 213,
   "metadata": {},
   "outputs": [
    {
     "data": {
      "text/plain": [
       "['Gurgaon/Gurugram, Bangalore/Bengaluru',\n",
       " 'Delhi / NCR',\n",
       " 'Noida',\n",
       " 'Gurgaon/Gurugram, Bangalore/Bengaluru',\n",
       " 'Gurgaon/Gurugram',\n",
       " 'Gurgaon/Gurugram, Bangalore/Bengaluru',\n",
       " 'Noida',\n",
       " 'Noida, Gurgaon/Gurugram',\n",
       " 'Gurgaon/Gurugram',\n",
       " 'Mumbai, Delhi / NCR']"
      ]
     },
     "execution_count": 213,
     "metadata": {},
     "output_type": "execute_result"
    }
   ],
   "source": [
    "for i in location_tags[:10]:\n",
    "    title = i.text\n",
    "    locations_list.append(title)\n",
    "locations_list"
   ]
  },
  {
   "cell_type": "code",
   "execution_count": 215,
   "metadata": {},
   "outputs": [
    {
     "data": {
      "text/plain": [
       "[<selenium.webdriver.remote.webelement.WebElement (session=\"7dba5ff35d955958c26783bd283162a6\", element=\"89a9e250-df9a-4979-ad5e-158db7bcfdab\")>,\n",
       " <selenium.webdriver.remote.webelement.WebElement (session=\"7dba5ff35d955958c26783bd283162a6\", element=\"410ac0d3-5c50-420b-ad9e-2fd925c86133\")>,\n",
       " <selenium.webdriver.remote.webelement.WebElement (session=\"7dba5ff35d955958c26783bd283162a6\", element=\"1b80b3d2-71eb-4216-8212-66e11026870a\")>,\n",
       " <selenium.webdriver.remote.webelement.WebElement (session=\"7dba5ff35d955958c26783bd283162a6\", element=\"cb637f7f-5555-4288-8490-46ad75afa058\")>,\n",
       " <selenium.webdriver.remote.webelement.WebElement (session=\"7dba5ff35d955958c26783bd283162a6\", element=\"b44c08e8-e4d4-4aff-b47c-47c6931e87eb\")>,\n",
       " <selenium.webdriver.remote.webelement.WebElement (session=\"7dba5ff35d955958c26783bd283162a6\", element=\"1cc514c1-4750-409c-bbc5-44980088a553\")>,\n",
       " <selenium.webdriver.remote.webelement.WebElement (session=\"7dba5ff35d955958c26783bd283162a6\", element=\"6cd5b3a1-9967-43f8-b71c-27e9a62f35b5\")>,\n",
       " <selenium.webdriver.remote.webelement.WebElement (session=\"7dba5ff35d955958c26783bd283162a6\", element=\"dd6a689b-b793-459e-92a4-17e7737ab865\")>,\n",
       " <selenium.webdriver.remote.webelement.WebElement (session=\"7dba5ff35d955958c26783bd283162a6\", element=\"e87d2560-afc6-4d67-8d75-24a685e49ff1\")>,\n",
       " <selenium.webdriver.remote.webelement.WebElement (session=\"7dba5ff35d955958c26783bd283162a6\", element=\"619b1de4-b1bd-4689-ae64-5248ecef0baa\")>,\n",
       " <selenium.webdriver.remote.webelement.WebElement (session=\"7dba5ff35d955958c26783bd283162a6\", element=\"f610989d-df6c-4c0f-b738-e0263902dece\")>,\n",
       " <selenium.webdriver.remote.webelement.WebElement (session=\"7dba5ff35d955958c26783bd283162a6\", element=\"297db30b-133a-4133-9df1-944d067e65d9\")>,\n",
       " <selenium.webdriver.remote.webelement.WebElement (session=\"7dba5ff35d955958c26783bd283162a6\", element=\"79e3efbf-3665-4202-96f6-aa8c410ed7fd\")>,\n",
       " <selenium.webdriver.remote.webelement.WebElement (session=\"7dba5ff35d955958c26783bd283162a6\", element=\"3e9584ec-576d-4b2d-94be-1959512f6b23\")>,\n",
       " <selenium.webdriver.remote.webelement.WebElement (session=\"7dba5ff35d955958c26783bd283162a6\", element=\"5f2c1958-6ba5-44f5-97ed-14b20d860881\")>,\n",
       " <selenium.webdriver.remote.webelement.WebElement (session=\"7dba5ff35d955958c26783bd283162a6\", element=\"4c5f5c88-70b5-4258-aebf-743de1115f25\")>,\n",
       " <selenium.webdriver.remote.webelement.WebElement (session=\"7dba5ff35d955958c26783bd283162a6\", element=\"cfb8e06f-d1e9-4808-b0ac-89070078c3ef\")>,\n",
       " <selenium.webdriver.remote.webelement.WebElement (session=\"7dba5ff35d955958c26783bd283162a6\", element=\"7b5e058f-acea-44bc-b6a4-39b9ff58718c\")>,\n",
       " <selenium.webdriver.remote.webelement.WebElement (session=\"7dba5ff35d955958c26783bd283162a6\", element=\"54c8ffdf-e4b3-4195-9ceb-58a478807d22\")>,\n",
       " <selenium.webdriver.remote.webelement.WebElement (session=\"7dba5ff35d955958c26783bd283162a6\", element=\"69b614ac-8e4a-431a-82df-f3fd27808893\")>]"
      ]
     },
     "execution_count": 215,
     "metadata": {},
     "output_type": "execute_result"
    }
   ],
   "source": [
    "companies_tags = driver.find_elements_by_xpath(\"//a[@class='subTitle ellipsis fleft']\")\n",
    "companies_tags"
   ]
  },
  {
   "cell_type": "code",
   "execution_count": 216,
   "metadata": {},
   "outputs": [
    {
     "data": {
      "text/plain": [
       "['EXL Services.com ( I ) Pvt. Ltd.',\n",
       " 'HCL Technologies',\n",
       " 'Newgen Software Technologies Ltd.',\n",
       " 'Hexagon Geosystems Services India P.Ltd.',\n",
       " 'OLX India Pvt Ltd',\n",
       " 'GreatLearning',\n",
       " 'Optum Global Solutions (India) Private Limited',\n",
       " 'Optum Global Solutions (India) Private Limited',\n",
       " 'Milliman India Pvt Ltd',\n",
       " 'lericon infomatics pvt.ltd']"
      ]
     },
     "execution_count": 216,
     "metadata": {},
     "output_type": "execute_result"
    }
   ],
   "source": [
    "for i in companies_tags[:10]:\n",
    "    company = i.text\n",
    "    company_names.append(company)\n",
    "company_names"
   ]
  },
  {
   "cell_type": "code",
   "execution_count": 217,
   "metadata": {},
   "outputs": [
    {
     "data": {
      "text/plain": [
       "[<selenium.webdriver.remote.webelement.WebElement (session=\"7dba5ff35d955958c26783bd283162a6\", element=\"7d4403b6-512f-4d65-b75a-89fade674e0c\")>,\n",
       " <selenium.webdriver.remote.webelement.WebElement (session=\"7dba5ff35d955958c26783bd283162a6\", element=\"027afab2-0cc4-4fd1-bd19-f3660301f9f5\")>,\n",
       " <selenium.webdriver.remote.webelement.WebElement (session=\"7dba5ff35d955958c26783bd283162a6\", element=\"bc9cb0bf-09ed-4978-a6bb-8ec35d500979\")>,\n",
       " <selenium.webdriver.remote.webelement.WebElement (session=\"7dba5ff35d955958c26783bd283162a6\", element=\"ab51494c-8451-4219-a6e3-c1d97b5a1960\")>,\n",
       " <selenium.webdriver.remote.webelement.WebElement (session=\"7dba5ff35d955958c26783bd283162a6\", element=\"55f946ea-fa58-456c-885f-759bc0aa0d3f\")>,\n",
       " <selenium.webdriver.remote.webelement.WebElement (session=\"7dba5ff35d955958c26783bd283162a6\", element=\"eb2512e9-7ce6-42db-9ce5-6d8d87caf5bf\")>,\n",
       " <selenium.webdriver.remote.webelement.WebElement (session=\"7dba5ff35d955958c26783bd283162a6\", element=\"ba466c4b-61df-4086-9336-347df76b5dce\")>,\n",
       " <selenium.webdriver.remote.webelement.WebElement (session=\"7dba5ff35d955958c26783bd283162a6\", element=\"15fcfdd5-bcb5-4352-800a-5fee6defce70\")>,\n",
       " <selenium.webdriver.remote.webelement.WebElement (session=\"7dba5ff35d955958c26783bd283162a6\", element=\"c01a136a-b2ba-4729-9dc2-5d1b045b9703\")>,\n",
       " <selenium.webdriver.remote.webelement.WebElement (session=\"7dba5ff35d955958c26783bd283162a6\", element=\"888ac9b3-437a-417f-a5aa-eb11b25ec0bf\")>,\n",
       " <selenium.webdriver.remote.webelement.WebElement (session=\"7dba5ff35d955958c26783bd283162a6\", element=\"f8cefd68-fb08-4497-be02-04980bf987c5\")>,\n",
       " <selenium.webdriver.remote.webelement.WebElement (session=\"7dba5ff35d955958c26783bd283162a6\", element=\"26b56a09-8231-4077-a64b-5831aea978ec\")>,\n",
       " <selenium.webdriver.remote.webelement.WebElement (session=\"7dba5ff35d955958c26783bd283162a6\", element=\"3bb20304-ef2f-4c74-bbec-de9be6abdd4a\")>,\n",
       " <selenium.webdriver.remote.webelement.WebElement (session=\"7dba5ff35d955958c26783bd283162a6\", element=\"7f168eac-e067-4730-8854-f53eae455d59\")>,\n",
       " <selenium.webdriver.remote.webelement.WebElement (session=\"7dba5ff35d955958c26783bd283162a6\", element=\"1df4f2b6-43eb-43af-a425-e50bd747d34a\")>,\n",
       " <selenium.webdriver.remote.webelement.WebElement (session=\"7dba5ff35d955958c26783bd283162a6\", element=\"7467ef3e-a050-42f5-8e4e-c565afa2b3e2\")>,\n",
       " <selenium.webdriver.remote.webelement.WebElement (session=\"7dba5ff35d955958c26783bd283162a6\", element=\"21f575fb-9f16-4b86-903f-c67d559ae2dc\")>,\n",
       " <selenium.webdriver.remote.webelement.WebElement (session=\"7dba5ff35d955958c26783bd283162a6\", element=\"9fbffe8a-b66b-4652-86b6-c1146bc972e0\")>,\n",
       " <selenium.webdriver.remote.webelement.WebElement (session=\"7dba5ff35d955958c26783bd283162a6\", element=\"51599040-f4c3-47af-8ee9-36ab362414ba\")>,\n",
       " <selenium.webdriver.remote.webelement.WebElement (session=\"7dba5ff35d955958c26783bd283162a6\", element=\"710934d3-bca6-4d95-923d-a9cae1eff28f\")>]"
      ]
     },
     "execution_count": 217,
     "metadata": {},
     "output_type": "execute_result"
    }
   ],
   "source": [
    "experience_tags = driver.find_elements_by_xpath(\"//li[@class='fleft grey-text br2 placeHolderLi experience']/span[1]\")#there might be multiple span so we give the index of span\n",
    "experience_tags"
   ]
  },
  {
   "cell_type": "code",
   "execution_count": 218,
   "metadata": {},
   "outputs": [
    {
     "data": {
      "text/plain": [
       "['3-5 Yrs',\n",
       " '4-7 Yrs',\n",
       " '2-5 Yrs',\n",
       " '6-11 Yrs',\n",
       " '3-6 Yrs',\n",
       " '1-4 Yrs',\n",
       " '2-7 Yrs',\n",
       " '2-6 Yrs',\n",
       " '2-5 Yrs',\n",
       " '3-5 Yrs']"
      ]
     },
     "execution_count": 218,
     "metadata": {},
     "output_type": "execute_result"
    }
   ],
   "source": [
    "for i in experience_tags[:10]:\n",
    "    experience = i.text\n",
    "    experience_list.append(experience)\n",
    "experience_list"
   ]
  },
  {
   "cell_type": "markdown",
   "metadata": {},
   "source": [
    "After finding all the data features we then create dataframe of this data."
   ]
  },
  {
   "cell_type": "code",
   "execution_count": 220,
   "metadata": {},
   "outputs": [
    {
     "data": {
      "text/html": [
       "<div>\n",
       "<style scoped>\n",
       "    .dataframe tbody tr th:only-of-type {\n",
       "        vertical-align: middle;\n",
       "    }\n",
       "\n",
       "    .dataframe tbody tr th {\n",
       "        vertical-align: top;\n",
       "    }\n",
       "\n",
       "    .dataframe thead th {\n",
       "        text-align: right;\n",
       "    }\n",
       "</style>\n",
       "<table border=\"1\" class=\"dataframe\">\n",
       "  <thead>\n",
       "    <tr style=\"text-align: right;\">\n",
       "      <th></th>\n",
       "      <th>Job Description</th>\n",
       "      <th>Location</th>\n",
       "      <th>Company</th>\n",
       "      <th>Experience</th>\n",
       "    </tr>\n",
       "  </thead>\n",
       "  <tbody>\n",
       "    <tr>\n",
       "      <th>0</th>\n",
       "      <td>Data Scientist</td>\n",
       "      <td>Gurgaon/Gurugram, Bangalore/Bengaluru</td>\n",
       "      <td>EXL Services.com ( I ) Pvt. Ltd.</td>\n",
       "      <td>3-5 Yrs</td>\n",
       "    </tr>\n",
       "    <tr>\n",
       "      <th>1</th>\n",
       "      <td>Job Opportunity || Data Scientist || HCL Technologies</td>\n",
       "      <td>Delhi / NCR</td>\n",
       "      <td>HCL Technologies</td>\n",
       "      <td>4-7 Yrs</td>\n",
       "    </tr>\n",
       "    <tr>\n",
       "      <th>2</th>\n",
       "      <td>Data Scientist</td>\n",
       "      <td>Noida</td>\n",
       "      <td>Newgen Software Technologies Ltd.</td>\n",
       "      <td>2-5 Yrs</td>\n",
       "    </tr>\n",
       "    <tr>\n",
       "      <th>3</th>\n",
       "      <td>Data Scientist</td>\n",
       "      <td>Gurgaon/Gurugram, Bangalore/Bengaluru</td>\n",
       "      <td>Hexagon Geosystems Services India P.Ltd.</td>\n",
       "      <td>6-11 Yrs</td>\n",
       "    </tr>\n",
       "    <tr>\n",
       "      <th>4</th>\n",
       "      <td>Data Scientist I/II/III</td>\n",
       "      <td>Gurgaon/Gurugram</td>\n",
       "      <td>OLX India Pvt Ltd</td>\n",
       "      <td>3-6 Yrs</td>\n",
       "    </tr>\n",
       "    <tr>\n",
       "      <th>5</th>\n",
       "      <td>Academic Counsellor - Data Scientist</td>\n",
       "      <td>Gurgaon/Gurugram, Bangalore/Bengaluru</td>\n",
       "      <td>GreatLearning</td>\n",
       "      <td>1-4 Yrs</td>\n",
       "    </tr>\n",
       "    <tr>\n",
       "      <th>6</th>\n",
       "      <td>Associate Data Scientist</td>\n",
       "      <td>Noida</td>\n",
       "      <td>Optum Global Solutions (India) Private Limited</td>\n",
       "      <td>2-7 Yrs</td>\n",
       "    </tr>\n",
       "    <tr>\n",
       "      <th>7</th>\n",
       "      <td>Data Scientist</td>\n",
       "      <td>Noida, Gurgaon/Gurugram</td>\n",
       "      <td>Optum Global Solutions (India) Private Limited</td>\n",
       "      <td>2-6 Yrs</td>\n",
       "    </tr>\n",
       "    <tr>\n",
       "      <th>8</th>\n",
       "      <td>Data Scientist</td>\n",
       "      <td>Gurgaon/Gurugram</td>\n",
       "      <td>Milliman India Pvt Ltd</td>\n",
       "      <td>2-5 Yrs</td>\n",
       "    </tr>\n",
       "    <tr>\n",
       "      <th>9</th>\n",
       "      <td>Data Scientist</td>\n",
       "      <td>Mumbai, Delhi / NCR</td>\n",
       "      <td>lericon infomatics pvt.ltd</td>\n",
       "      <td>3-5 Yrs</td>\n",
       "    </tr>\n",
       "  </tbody>\n",
       "</table>\n",
       "</div>"
      ],
      "text/plain": [
       "                                         Job Description  \\\n",
       "0                                         Data Scientist   \n",
       "1  Job Opportunity || Data Scientist || HCL Technologies   \n",
       "2                                         Data Scientist   \n",
       "3                                         Data Scientist   \n",
       "4                                Data Scientist I/II/III   \n",
       "5                   Academic Counsellor - Data Scientist   \n",
       "6                               Associate Data Scientist   \n",
       "7                                         Data Scientist   \n",
       "8                                         Data Scientist   \n",
       "9                                         Data Scientist   \n",
       "\n",
       "                                Location  \\\n",
       "0  Gurgaon/Gurugram, Bangalore/Bengaluru   \n",
       "1                            Delhi / NCR   \n",
       "2                                  Noida   \n",
       "3  Gurgaon/Gurugram, Bangalore/Bengaluru   \n",
       "4                       Gurgaon/Gurugram   \n",
       "5  Gurgaon/Gurugram, Bangalore/Bengaluru   \n",
       "6                                  Noida   \n",
       "7                Noida, Gurgaon/Gurugram   \n",
       "8                       Gurgaon/Gurugram   \n",
       "9                    Mumbai, Delhi / NCR   \n",
       "\n",
       "                                          Company Experience  \n",
       "0                EXL Services.com ( I ) Pvt. Ltd.    3-5 Yrs  \n",
       "1                                HCL Technologies    4-7 Yrs  \n",
       "2               Newgen Software Technologies Ltd.    2-5 Yrs  \n",
       "3        Hexagon Geosystems Services India P.Ltd.   6-11 Yrs  \n",
       "4                               OLX India Pvt Ltd    3-6 Yrs  \n",
       "5                                   GreatLearning    1-4 Yrs  \n",
       "6  Optum Global Solutions (India) Private Limited    2-7 Yrs  \n",
       "7  Optum Global Solutions (India) Private Limited    2-6 Yrs  \n",
       "8                          Milliman India Pvt Ltd    2-5 Yrs  \n",
       "9                      lericon infomatics pvt.ltd    3-5 Yrs  "
      ]
     },
     "execution_count": 220,
     "metadata": {},
     "output_type": "execute_result"
    }
   ],
   "source": [
    "df = pd.DataFrame({})\n",
    "df[\"Job Description\"] = job_titles\n",
    "df[\"Location\"] = locations_list\n",
    "df[\"Company\"] = company_names\n",
    "df[\"Experience\"] = experience_list\n",
    "df"
   ]
  },
  {
   "cell_type": "markdown",
   "metadata": {},
   "source": [
    "The dataframe with all the required features is shown above."
   ]
  },
  {
   "cell_type": "code",
   "execution_count": null,
   "metadata": {},
   "outputs": [],
   "source": []
  },
  {
   "cell_type": "markdown",
   "metadata": {},
   "source": [
    "Q4: Write a python program to scrape data for first 10 job results for Data scientist\n",
    "Designation in Noida location. You have to scrape company_name, No. of days\n",
    "ago when job was posted, Rating of the company.\n",
    "This task will be done in following steps:\n",
    "1. first get the webpage https://www.glassdoor.co.in/index.htm\n",
    "2. Enter “Data Scientist” in “Job Title,Keyword,Company” field and enter “Noida” in “location” field.\n",
    "3. Then click the search button. You will land up in the below page:\n",
    "4. Then scrape the data for the first 10 jobs results you get in the above shown page.\n",
    "5. Finally create a dataframe of the scraped data.\n",
    "\n",
    "Note- All of the above steps have to be done in code. No step is to be done\n",
    "manually."
   ]
  },
  {
   "cell_type": "code",
   "execution_count": 265,
   "metadata": {},
   "outputs": [],
   "source": [
    "driver.get(\"https://www.glassdoor.co.in/index.htm\")"
   ]
  },
  {
   "cell_type": "markdown",
   "metadata": {},
   "source": [
    "Get the webpage using driver"
   ]
  },
  {
   "cell_type": "code",
   "execution_count": 266,
   "metadata": {},
   "outputs": [],
   "source": [
    "search_job = driver.find_element_by_id(\"sc.keyword\")\n",
    "search_location = driver.find_element_by_id(\"sc.location\")"
   ]
  },
  {
   "cell_type": "markdown",
   "metadata": {},
   "source": [
    "Finding the elements for job search and location search fields"
   ]
  },
  {
   "cell_type": "code",
   "execution_count": 268,
   "metadata": {},
   "outputs": [],
   "source": [
    "search_job.send_keys(\"Data Scientist\")\n",
    "search_location.send_keys(\"Noida\")"
   ]
  },
  {
   "cell_type": "markdown",
   "metadata": {},
   "source": [
    "Inserting data to job search and location search elements."
   ]
  },
  {
   "cell_type": "code",
   "execution_count": 269,
   "metadata": {},
   "outputs": [],
   "source": [
    "search_btn = driver.find_element_by_xpath(\"//button[@class='gd-ui-button ml-std col-auto search__SearchStyles__newSearchButton css-1dqvyh7']\")"
   ]
  },
  {
   "cell_type": "markdown",
   "metadata": {},
   "source": [
    "Finding the element for search button."
   ]
  },
  {
   "cell_type": "code",
   "execution_count": 270,
   "metadata": {},
   "outputs": [],
   "source": [
    "search_btn.click()"
   ]
  },
  {
   "cell_type": "markdown",
   "metadata": {},
   "source": [
    "Using click function we make the search"
   ]
  },
  {
   "cell_type": "code",
   "execution_count": 271,
   "metadata": {},
   "outputs": [],
   "source": [
    "company_names=[]\n",
    "posting_duration=[]\n",
    "ratings=[]"
   ]
  },
  {
   "cell_type": "markdown",
   "metadata": {},
   "source": [
    "Creating empty lists for data features."
   ]
  },
  {
   "cell_type": "code",
   "execution_count": 273,
   "metadata": {},
   "outputs": [
    {
     "data": {
      "text/plain": [
       "[<selenium.webdriver.remote.webelement.WebElement (session=\"3ed6020cbc56203ade7a5b4255e5d55f\", element=\"08fc5660-703c-4669-abad-d6943a5ae787\")>,\n",
       " <selenium.webdriver.remote.webelement.WebElement (session=\"3ed6020cbc56203ade7a5b4255e5d55f\", element=\"f0e813fc-5a03-4de4-be5a-4eb1d6d00904\")>,\n",
       " <selenium.webdriver.remote.webelement.WebElement (session=\"3ed6020cbc56203ade7a5b4255e5d55f\", element=\"5bc8d4b7-2f0d-47c7-9d7e-48294c338305\")>,\n",
       " <selenium.webdriver.remote.webelement.WebElement (session=\"3ed6020cbc56203ade7a5b4255e5d55f\", element=\"528adc54-3177-4b8d-9b02-2a85c77e8f59\")>,\n",
       " <selenium.webdriver.remote.webelement.WebElement (session=\"3ed6020cbc56203ade7a5b4255e5d55f\", element=\"f75cda2e-2ecd-4f99-8002-5e713c34a98b\")>,\n",
       " <selenium.webdriver.remote.webelement.WebElement (session=\"3ed6020cbc56203ade7a5b4255e5d55f\", element=\"68a991df-346d-4e34-9b70-0ede02421beb\")>,\n",
       " <selenium.webdriver.remote.webelement.WebElement (session=\"3ed6020cbc56203ade7a5b4255e5d55f\", element=\"6941a240-c8c1-4e1a-9cc3-846903a7d1f8\")>,\n",
       " <selenium.webdriver.remote.webelement.WebElement (session=\"3ed6020cbc56203ade7a5b4255e5d55f\", element=\"819a49ab-cf8c-4196-9fd1-87429c79f16e\")>,\n",
       " <selenium.webdriver.remote.webelement.WebElement (session=\"3ed6020cbc56203ade7a5b4255e5d55f\", element=\"9729f83b-1fa4-48d2-9ef3-3152f118e182\")>,\n",
       " <selenium.webdriver.remote.webelement.WebElement (session=\"3ed6020cbc56203ade7a5b4255e5d55f\", element=\"f9b4d62a-c9fe-4842-b8f2-ab64a65edae6\")>,\n",
       " <selenium.webdriver.remote.webelement.WebElement (session=\"3ed6020cbc56203ade7a5b4255e5d55f\", element=\"39fc2eb8-dea7-44ae-aba8-471646f3888a\")>,\n",
       " <selenium.webdriver.remote.webelement.WebElement (session=\"3ed6020cbc56203ade7a5b4255e5d55f\", element=\"c3acdc1f-dc3b-42c1-8421-9524b9d53729\")>,\n",
       " <selenium.webdriver.remote.webelement.WebElement (session=\"3ed6020cbc56203ade7a5b4255e5d55f\", element=\"4dfbb99c-ebe2-4671-b58c-a836d7ccd6b8\")>,\n",
       " <selenium.webdriver.remote.webelement.WebElement (session=\"3ed6020cbc56203ade7a5b4255e5d55f\", element=\"a2c075f9-d552-44a3-bf6e-4c0298e67b0d\")>,\n",
       " <selenium.webdriver.remote.webelement.WebElement (session=\"3ed6020cbc56203ade7a5b4255e5d55f\", element=\"b7c46553-8ef2-4b0e-9ca5-97c894104714\")>,\n",
       " <selenium.webdriver.remote.webelement.WebElement (session=\"3ed6020cbc56203ade7a5b4255e5d55f\", element=\"702a4f13-fb1c-44b3-86e9-3fcecd84e761\")>,\n",
       " <selenium.webdriver.remote.webelement.WebElement (session=\"3ed6020cbc56203ade7a5b4255e5d55f\", element=\"bb3d5b5b-d3f5-4a14-a430-1638785a4cda\")>,\n",
       " <selenium.webdriver.remote.webelement.WebElement (session=\"3ed6020cbc56203ade7a5b4255e5d55f\", element=\"d7bfa16e-275b-47ec-a458-6713745a8410\")>,\n",
       " <selenium.webdriver.remote.webelement.WebElement (session=\"3ed6020cbc56203ade7a5b4255e5d55f\", element=\"64f79a2d-3ef8-4c29-b0e1-8d521c94e40e\")>,\n",
       " <selenium.webdriver.remote.webelement.WebElement (session=\"3ed6020cbc56203ade7a5b4255e5d55f\", element=\"ecfa07ee-0cb3-4a79-a860-8ccb5d2f7ad4\")>,\n",
       " <selenium.webdriver.remote.webelement.WebElement (session=\"3ed6020cbc56203ade7a5b4255e5d55f\", element=\"ee9fe7ec-4d01-4e06-92bd-b0718c819bc2\")>,\n",
       " <selenium.webdriver.remote.webelement.WebElement (session=\"3ed6020cbc56203ade7a5b4255e5d55f\", element=\"0446b1d9-25f9-41a5-a0d5-a7152461c568\")>,\n",
       " <selenium.webdriver.remote.webelement.WebElement (session=\"3ed6020cbc56203ade7a5b4255e5d55f\", element=\"3084960b-500b-4f6d-b7f5-2b9c1531b9a0\")>,\n",
       " <selenium.webdriver.remote.webelement.WebElement (session=\"3ed6020cbc56203ade7a5b4255e5d55f\", element=\"fda79072-9bbb-43bd-8f9f-c148235d6633\")>,\n",
       " <selenium.webdriver.remote.webelement.WebElement (session=\"3ed6020cbc56203ade7a5b4255e5d55f\", element=\"27ea4fb4-83a5-4e13-94a2-14a55bd1b2e5\")>,\n",
       " <selenium.webdriver.remote.webelement.WebElement (session=\"3ed6020cbc56203ade7a5b4255e5d55f\", element=\"00b2a1d3-b0f9-4bfe-9738-d225a032eca9\")>,\n",
       " <selenium.webdriver.remote.webelement.WebElement (session=\"3ed6020cbc56203ade7a5b4255e5d55f\", element=\"61bac39d-930c-493c-ad30-32e171aef7f8\")>,\n",
       " <selenium.webdriver.remote.webelement.WebElement (session=\"3ed6020cbc56203ade7a5b4255e5d55f\", element=\"794ef744-b0ad-45e3-9330-177c7d27c832\")>,\n",
       " <selenium.webdriver.remote.webelement.WebElement (session=\"3ed6020cbc56203ade7a5b4255e5d55f\", element=\"443f75b8-d320-44bc-a711-c4aae61a3b80\")>,\n",
       " <selenium.webdriver.remote.webelement.WebElement (session=\"3ed6020cbc56203ade7a5b4255e5d55f\", element=\"32d45c86-b422-479a-9b86-7db839df2b66\")>]"
      ]
     },
     "execution_count": 273,
     "metadata": {},
     "output_type": "execute_result"
    }
   ],
   "source": [
    "company_tags = driver.find_elements_by_xpath(\"//a[@class=' job-search-key-l2wjgv e1n63ojh0 jobLink']\")\n",
    "company_tags"
   ]
  },
  {
   "cell_type": "markdown",
   "metadata": {},
   "source": [
    "Find all the elements containing company name data"
   ]
  },
  {
   "cell_type": "code",
   "execution_count": 274,
   "metadata": {},
   "outputs": [
    {
     "data": {
      "text/plain": [
       "['2COMS Consulting Private Limited',\n",
       " 'Pixel Vision',\n",
       " 'HDFC Bank',\n",
       " 'UnitedHealth Group',\n",
       " 'Crowe',\n",
       " 'Innovacer',\n",
       " 'AlgoScale Technologies Private Limited',\n",
       " 'Salasar New Age Technologies',\n",
       " 'dunnhumby',\n",
       " 'Liberin Technologies Private Limited']"
      ]
     },
     "execution_count": 274,
     "metadata": {},
     "output_type": "execute_result"
    }
   ],
   "source": [
    "for i in company_tags[:10]:\n",
    "    company_names.append(i.text)\n",
    "company_names"
   ]
  },
  {
   "cell_type": "markdown",
   "metadata": {},
   "source": [
    "Since, we only need the first 10 data we append data for first 10 elements."
   ]
  },
  {
   "cell_type": "markdown",
   "metadata": {},
   "source": [
    "We, repeat this process for all the required data features."
   ]
  },
  {
   "cell_type": "code",
   "execution_count": null,
   "metadata": {},
   "outputs": [],
   "source": [
    "post_duration_tags = driver.find_elements_by_xpath(\"//div[@class='d-flex align-items-end pl-std css-17n8uzw']\")\n",
    "post_duration_tags"
   ]
  },
  {
   "cell_type": "code",
   "execution_count": 292,
   "metadata": {},
   "outputs": [
    {
     "data": {
      "text/plain": [
       "['15d', '4d', '4d', '7d', '14d', '3d', '30d+', '30d+', '1d', '30d+']"
      ]
     },
     "execution_count": 292,
     "metadata": {},
     "output_type": "execute_result"
    }
   ],
   "source": [
    "for i in post_duration_tags[:10]:\n",
    "    posting_duration.append(i.text)\n",
    "posting_duration"
   ]
  },
  {
   "cell_type": "code",
   "execution_count": 298,
   "metadata": {},
   "outputs": [
    {
     "data": {
      "text/plain": [
       "[<selenium.webdriver.remote.webelement.WebElement (session=\"3ed6020cbc56203ade7a5b4255e5d55f\", element=\"ee843bc0-6f02-40dd-9344-eb0684c999f4\")>,\n",
       " <selenium.webdriver.remote.webelement.WebElement (session=\"3ed6020cbc56203ade7a5b4255e5d55f\", element=\"04f4b420-d90c-4ae9-b3d6-d268f5b0ed66\")>,\n",
       " <selenium.webdriver.remote.webelement.WebElement (session=\"3ed6020cbc56203ade7a5b4255e5d55f\", element=\"28acff25-22ed-4fb0-b4e0-656859cf72dd\")>,\n",
       " <selenium.webdriver.remote.webelement.WebElement (session=\"3ed6020cbc56203ade7a5b4255e5d55f\", element=\"dacbd88f-82b3-4f24-92e9-a7237a4e392c\")>,\n",
       " <selenium.webdriver.remote.webelement.WebElement (session=\"3ed6020cbc56203ade7a5b4255e5d55f\", element=\"f575d501-c2c1-494c-8d56-6ade457d72c7\")>,\n",
       " <selenium.webdriver.remote.webelement.WebElement (session=\"3ed6020cbc56203ade7a5b4255e5d55f\", element=\"63ae71b7-0db7-45cf-8362-30907fc9c02d\")>,\n",
       " <selenium.webdriver.remote.webelement.WebElement (session=\"3ed6020cbc56203ade7a5b4255e5d55f\", element=\"d0f20380-b738-4527-99ac-74760da5bcac\")>,\n",
       " <selenium.webdriver.remote.webelement.WebElement (session=\"3ed6020cbc56203ade7a5b4255e5d55f\", element=\"8b640265-2cf8-4386-9f8b-5a16a1794efa\")>,\n",
       " <selenium.webdriver.remote.webelement.WebElement (session=\"3ed6020cbc56203ade7a5b4255e5d55f\", element=\"2b277c0a-7b5c-4456-a3e8-4c6bb915244b\")>,\n",
       " <selenium.webdriver.remote.webelement.WebElement (session=\"3ed6020cbc56203ade7a5b4255e5d55f\", element=\"b4043240-6896-42a8-8e68-947ded5f7e13\")>,\n",
       " <selenium.webdriver.remote.webelement.WebElement (session=\"3ed6020cbc56203ade7a5b4255e5d55f\", element=\"e332775b-4690-47cc-8926-f683066c0d39\")>,\n",
       " <selenium.webdriver.remote.webelement.WebElement (session=\"3ed6020cbc56203ade7a5b4255e5d55f\", element=\"1b90f42e-4e4c-4735-bd7f-c02b8b337a1b\")>,\n",
       " <selenium.webdriver.remote.webelement.WebElement (session=\"3ed6020cbc56203ade7a5b4255e5d55f\", element=\"a0ef16f8-472b-4fac-87c0-ce803db1047b\")>,\n",
       " <selenium.webdriver.remote.webelement.WebElement (session=\"3ed6020cbc56203ade7a5b4255e5d55f\", element=\"133246d0-f759-4feb-ba8f-8b181b809753\")>,\n",
       " <selenium.webdriver.remote.webelement.WebElement (session=\"3ed6020cbc56203ade7a5b4255e5d55f\", element=\"eb87d013-56bf-4970-ba11-af93127c2223\")>,\n",
       " <selenium.webdriver.remote.webelement.WebElement (session=\"3ed6020cbc56203ade7a5b4255e5d55f\", element=\"ef9bced2-b133-458b-a3b3-d898764e3963\")>,\n",
       " <selenium.webdriver.remote.webelement.WebElement (session=\"3ed6020cbc56203ade7a5b4255e5d55f\", element=\"2dbacd20-93ed-4ff4-a1f5-f365e84d67bd\")>,\n",
       " <selenium.webdriver.remote.webelement.WebElement (session=\"3ed6020cbc56203ade7a5b4255e5d55f\", element=\"8a02b81b-1902-47de-adba-70c9b845ed87\")>,\n",
       " <selenium.webdriver.remote.webelement.WebElement (session=\"3ed6020cbc56203ade7a5b4255e5d55f\", element=\"227fb209-3290-4b9d-9236-c30b5a1e7b56\")>,\n",
       " <selenium.webdriver.remote.webelement.WebElement (session=\"3ed6020cbc56203ade7a5b4255e5d55f\", element=\"fd336a54-67e3-4ffb-96a3-095ec7e1246e\")>,\n",
       " <selenium.webdriver.remote.webelement.WebElement (session=\"3ed6020cbc56203ade7a5b4255e5d55f\", element=\"f9625a00-a766-446d-87fc-0cd6bbbacfb8\")>,\n",
       " <selenium.webdriver.remote.webelement.WebElement (session=\"3ed6020cbc56203ade7a5b4255e5d55f\", element=\"96b8077d-14a0-4341-b47b-b3ab7862b871\")>,\n",
       " <selenium.webdriver.remote.webelement.WebElement (session=\"3ed6020cbc56203ade7a5b4255e5d55f\", element=\"a303fccb-1b55-4af2-8a8e-3a5989c0147e\")>,\n",
       " <selenium.webdriver.remote.webelement.WebElement (session=\"3ed6020cbc56203ade7a5b4255e5d55f\", element=\"bc339434-750e-4a08-a26d-573faa528005\")>,\n",
       " <selenium.webdriver.remote.webelement.WebElement (session=\"3ed6020cbc56203ade7a5b4255e5d55f\", element=\"5d7a0fa7-6a6e-467b-a1db-3fdd686b270f\")>,\n",
       " <selenium.webdriver.remote.webelement.WebElement (session=\"3ed6020cbc56203ade7a5b4255e5d55f\", element=\"b95cd3ab-d2ae-4410-9837-f03e0bb1c7a3\")>,\n",
       " <selenium.webdriver.remote.webelement.WebElement (session=\"3ed6020cbc56203ade7a5b4255e5d55f\", element=\"f70a287a-275a-4181-a527-b059341960fb\")>,\n",
       " <selenium.webdriver.remote.webelement.WebElement (session=\"3ed6020cbc56203ade7a5b4255e5d55f\", element=\"400339f6-f1ea-4117-a7b7-9b0bb3ed5300\")>,\n",
       " <selenium.webdriver.remote.webelement.WebElement (session=\"3ed6020cbc56203ade7a5b4255e5d55f\", element=\"07b5d619-9a8f-4246-aadb-7454585d3cc1\")>,\n",
       " <selenium.webdriver.remote.webelement.WebElement (session=\"3ed6020cbc56203ade7a5b4255e5d55f\", element=\"66bd48ee-d3bd-4049-8be6-634c4ab905f1\")>]"
      ]
     },
     "execution_count": 298,
     "metadata": {},
     "output_type": "execute_result"
    }
   ],
   "source": [
    "rating_tags = driver.find_elements_by_xpath(\"//div[@class='d-flex flex-column job-search-key-1pzmdmc e1rrn5ka1']\")\n",
    "rating_tags"
   ]
  },
  {
   "cell_type": "code",
   "execution_count": 309,
   "metadata": {},
   "outputs": [
    {
     "data": {
      "text/plain": [
       "['3.8', 'NA', '3.7', '3.7', '3.8', '3.8', '4.0', 'NA', '4.1', 'NA']"
      ]
     },
     "execution_count": 309,
     "metadata": {},
     "output_type": "execute_result"
    }
   ],
   "source": [
    "for i in rating_tags[:10]:\n",
    "    if i.text:\n",
    "        ratings.append(i.text)\n",
    "    else:\n",
    "        ratings.append(\"NA\")\n",
    "ratings"
   ]
  },
  {
   "cell_type": "markdown",
   "metadata": {},
   "source": [
    "After collecting all the data features we create a dataframe using pandas library"
   ]
  },
  {
   "cell_type": "code",
   "execution_count": 310,
   "metadata": {},
   "outputs": [
    {
     "data": {
      "text/html": [
       "<div>\n",
       "<style scoped>\n",
       "    .dataframe tbody tr th:only-of-type {\n",
       "        vertical-align: middle;\n",
       "    }\n",
       "\n",
       "    .dataframe tbody tr th {\n",
       "        vertical-align: top;\n",
       "    }\n",
       "\n",
       "    .dataframe thead th {\n",
       "        text-align: right;\n",
       "    }\n",
       "</style>\n",
       "<table border=\"1\" class=\"dataframe\">\n",
       "  <thead>\n",
       "    <tr style=\"text-align: right;\">\n",
       "      <th></th>\n",
       "      <th>Company</th>\n",
       "      <th>No. of days ago job posted</th>\n",
       "      <th>Rating</th>\n",
       "    </tr>\n",
       "  </thead>\n",
       "  <tbody>\n",
       "    <tr>\n",
       "      <th>0</th>\n",
       "      <td>2COMS Consulting Private Limited</td>\n",
       "      <td>15d</td>\n",
       "      <td>3.8</td>\n",
       "    </tr>\n",
       "    <tr>\n",
       "      <th>1</th>\n",
       "      <td>Pixel Vision</td>\n",
       "      <td>4d</td>\n",
       "      <td>NA</td>\n",
       "    </tr>\n",
       "    <tr>\n",
       "      <th>2</th>\n",
       "      <td>HDFC Bank</td>\n",
       "      <td>4d</td>\n",
       "      <td>3.7</td>\n",
       "    </tr>\n",
       "    <tr>\n",
       "      <th>3</th>\n",
       "      <td>UnitedHealth Group</td>\n",
       "      <td>7d</td>\n",
       "      <td>3.7</td>\n",
       "    </tr>\n",
       "    <tr>\n",
       "      <th>4</th>\n",
       "      <td>Crowe</td>\n",
       "      <td>14d</td>\n",
       "      <td>3.8</td>\n",
       "    </tr>\n",
       "    <tr>\n",
       "      <th>5</th>\n",
       "      <td>Innovacer</td>\n",
       "      <td>3d</td>\n",
       "      <td>3.8</td>\n",
       "    </tr>\n",
       "    <tr>\n",
       "      <th>6</th>\n",
       "      <td>AlgoScale Technologies Private Limited</td>\n",
       "      <td>30d+</td>\n",
       "      <td>4.0</td>\n",
       "    </tr>\n",
       "    <tr>\n",
       "      <th>7</th>\n",
       "      <td>Salasar New Age Technologies</td>\n",
       "      <td>30d+</td>\n",
       "      <td>NA</td>\n",
       "    </tr>\n",
       "    <tr>\n",
       "      <th>8</th>\n",
       "      <td>dunnhumby</td>\n",
       "      <td>1d</td>\n",
       "      <td>4.1</td>\n",
       "    </tr>\n",
       "    <tr>\n",
       "      <th>9</th>\n",
       "      <td>Liberin Technologies Private Limited</td>\n",
       "      <td>30d+</td>\n",
       "      <td>NA</td>\n",
       "    </tr>\n",
       "  </tbody>\n",
       "</table>\n",
       "</div>"
      ],
      "text/plain": [
       "                                  Company No. of days ago job posted Rating\n",
       "0        2COMS Consulting Private Limited                        15d    3.8\n",
       "1                            Pixel Vision                         4d     NA\n",
       "2                               HDFC Bank                         4d    3.7\n",
       "3                      UnitedHealth Group                         7d    3.7\n",
       "4                                   Crowe                        14d    3.8\n",
       "5                               Innovacer                         3d    3.8\n",
       "6  AlgoScale Technologies Private Limited                       30d+    4.0\n",
       "7            Salasar New Age Technologies                       30d+     NA\n",
       "8                               dunnhumby                         1d    4.1\n",
       "9    Liberin Technologies Private Limited                       30d+     NA"
      ]
     },
     "execution_count": 310,
     "metadata": {},
     "output_type": "execute_result"
    }
   ],
   "source": [
    "df = pd.DataFrame({})\n",
    "df[\"Company\"] = company_names\n",
    "df[\"No. of days ago job posted\"] = posting_duration\n",
    "df[\"Rating\"] = ratings\n",
    "df"
   ]
  },
  {
   "cell_type": "markdown",
   "metadata": {},
   "source": [
    "The dataframe with all the required features is shown above."
   ]
  },
  {
   "cell_type": "markdown",
   "metadata": {},
   "source": [
    "Q5: Write a python program to scrape the salary data for Data Scientist designation\n",
    "in Noida location.\n",
    "You have to scrape Company name, Number of salaries, Average salary, Min\n",
    "salary, Max Salary.\n",
    "The above task will be, done as shown in the below steps:\n",
    "1. first get the webpage https://www.glassdoor.co.in/Salaries/index.htm\n",
    "2. Enter “Data Scientist” in Job title field and “Noida” in location field.\n",
    "3. Click the search button.\n",
    "4. After that you will land on the below page\n",
    "You have to scrape whole data from this webpage\n",
    "5. Scrape data for first 10 companies. Scrape the min salary, max salary, company\n",
    "name, Average salary and rating of the company.\n",
    "6.Store the data in a dataframe.\n",
    "\n",
    "Note that all of the above steps have to be done by coding only and not manually."
   ]
  },
  {
   "cell_type": "code",
   "execution_count": 133,
   "metadata": {},
   "outputs": [],
   "source": [
    "driver.get(\"https://www.glassdoor.co.in/Salaries/index.htm\")"
   ]
  },
  {
   "cell_type": "markdown",
   "metadata": {},
   "source": [
    "Get the web page using driver."
   ]
  },
  {
   "cell_type": "code",
   "execution_count": 134,
   "metadata": {},
   "outputs": [],
   "source": [
    "search_job = driver.find_element_by_id(\"KeywordSearch\")\n",
    "search_location = driver.find_element_by_id(\"LocationSearch\")"
   ]
  },
  {
   "cell_type": "markdown",
   "metadata": {},
   "source": [
    "Finding the job search and location search elements using element id."
   ]
  },
  {
   "cell_type": "code",
   "execution_count": 135,
   "metadata": {},
   "outputs": [],
   "source": [
    "search_location.clear()"
   ]
  },
  {
   "cell_type": "markdown",
   "metadata": {},
   "source": [
    "Since there is a default value present inside the location search field we use clear function to remove this value"
   ]
  },
  {
   "cell_type": "code",
   "execution_count": 136,
   "metadata": {},
   "outputs": [],
   "source": [
    "search_job.send_keys(\"Data Scientist\")\n",
    "search_location.send_keys(\"Noida\")"
   ]
  },
  {
   "cell_type": "markdown",
   "metadata": {},
   "source": [
    "Now we provide the search values to job_search and location search fields."
   ]
  },
  {
   "cell_type": "code",
   "execution_count": 137,
   "metadata": {},
   "outputs": [],
   "source": [
    "search_btn = driver.find_element_by_xpath(\"//button[@class='gd-btn-mkt']\")"
   ]
  },
  {
   "cell_type": "markdown",
   "metadata": {},
   "source": [
    "Finding element for search button"
   ]
  },
  {
   "cell_type": "code",
   "execution_count": 138,
   "metadata": {},
   "outputs": [],
   "source": [
    "search_btn.click()"
   ]
  },
  {
   "cell_type": "markdown",
   "metadata": {},
   "source": [
    "Using the click to make a search"
   ]
  },
  {
   "cell_type": "code",
   "execution_count": 139,
   "metadata": {},
   "outputs": [],
   "source": [
    "company_names=[]\n",
    "no_salaries=[]\n",
    "avg_salaries=[]\n",
    "min_salaries=[]\n",
    "max_salaries=[]"
   ]
  },
  {
   "cell_type": "markdown",
   "metadata": {},
   "source": [
    "Creating lists for all the required data features"
   ]
  },
  {
   "cell_type": "code",
   "execution_count": 142,
   "metadata": {},
   "outputs": [
    {
     "data": {
      "text/plain": [
       "[<selenium.webdriver.remote.webelement.WebElement (session=\"5b74e01680491344b7f0db98c001cb5e\", element=\"114caa8f-393d-4325-bc1c-17d532e00e2a\")>,\n",
       " <selenium.webdriver.remote.webelement.WebElement (session=\"5b74e01680491344b7f0db98c001cb5e\", element=\"8d54fba4-24d2-4128-8d92-86344e1b1f28\")>,\n",
       " <selenium.webdriver.remote.webelement.WebElement (session=\"5b74e01680491344b7f0db98c001cb5e\", element=\"d54abcc2-8cc4-4ee2-afc7-f0f824ae5ea7\")>,\n",
       " <selenium.webdriver.remote.webelement.WebElement (session=\"5b74e01680491344b7f0db98c001cb5e\", element=\"fddb0d6c-d1e5-47bd-b85b-57dd43a22cdc\")>,\n",
       " <selenium.webdriver.remote.webelement.WebElement (session=\"5b74e01680491344b7f0db98c001cb5e\", element=\"0119086a-f865-4688-bcb6-4900b78a2edf\")>,\n",
       " <selenium.webdriver.remote.webelement.WebElement (session=\"5b74e01680491344b7f0db98c001cb5e\", element=\"f309c046-cd5d-4013-bd17-cd4d64fcda3d\")>,\n",
       " <selenium.webdriver.remote.webelement.WebElement (session=\"5b74e01680491344b7f0db98c001cb5e\", element=\"9888ae1d-2a87-4f27-972c-b5e953fdd938\")>,\n",
       " <selenium.webdriver.remote.webelement.WebElement (session=\"5b74e01680491344b7f0db98c001cb5e\", element=\"30a149da-176b-460a-befa-7acc675cf190\")>,\n",
       " <selenium.webdriver.remote.webelement.WebElement (session=\"5b74e01680491344b7f0db98c001cb5e\", element=\"14197bbf-73be-4eb0-8882-13eb81dcad52\")>,\n",
       " <selenium.webdriver.remote.webelement.WebElement (session=\"5b74e01680491344b7f0db98c001cb5e\", element=\"6309d8fd-090f-4958-92e7-92c107c4a76d\")>,\n",
       " <selenium.webdriver.remote.webelement.WebElement (session=\"5b74e01680491344b7f0db98c001cb5e\", element=\"b5180f0c-2fce-4a3d-8f33-871bad71d570\")>,\n",
       " <selenium.webdriver.remote.webelement.WebElement (session=\"5b74e01680491344b7f0db98c001cb5e\", element=\"e3c65e13-1d8f-40c7-9208-706dfa7be976\")>,\n",
       " <selenium.webdriver.remote.webelement.WebElement (session=\"5b74e01680491344b7f0db98c001cb5e\", element=\"51f47ea1-82f6-4b4d-ad31-e4c7838bee31\")>,\n",
       " <selenium.webdriver.remote.webelement.WebElement (session=\"5b74e01680491344b7f0db98c001cb5e\", element=\"b76c51f6-68b1-4f06-9b36-1d3c97f39821\")>,\n",
       " <selenium.webdriver.remote.webelement.WebElement (session=\"5b74e01680491344b7f0db98c001cb5e\", element=\"26d87b7e-a032-43e5-b1eb-3f825ae5eb33\")>,\n",
       " <selenium.webdriver.remote.webelement.WebElement (session=\"5b74e01680491344b7f0db98c001cb5e\", element=\"9ab114ad-2e9b-476a-99d7-ecbd4ca2d1d7\")>,\n",
       " <selenium.webdriver.remote.webelement.WebElement (session=\"5b74e01680491344b7f0db98c001cb5e\", element=\"39ebd060-f562-4609-af28-6bb31a1097bf\")>,\n",
       " <selenium.webdriver.remote.webelement.WebElement (session=\"5b74e01680491344b7f0db98c001cb5e\", element=\"e80b6d3b-b1e5-482c-b337-a0081547a315\")>,\n",
       " <selenium.webdriver.remote.webelement.WebElement (session=\"5b74e01680491344b7f0db98c001cb5e\", element=\"a15337f6-0092-4cd1-bae4-6fda1aacba57\")>,\n",
       " <selenium.webdriver.remote.webelement.WebElement (session=\"5b74e01680491344b7f0db98c001cb5e\", element=\"604f4ff1-762e-474b-b360-bfdad17094b4\")>]"
      ]
     },
     "execution_count": 142,
     "metadata": {},
     "output_type": "execute_result"
    }
   ],
   "source": [
    "company_tags = driver.find_elements_by_xpath(\"//a[@class='css-f3vw95 e1aj7ssy3']\")\n",
    "company_tags"
   ]
  },
  {
   "cell_type": "markdown",
   "metadata": {},
   "source": [
    "Finding all the elements with company name."
   ]
  },
  {
   "cell_type": "code",
   "execution_count": 145,
   "metadata": {},
   "outputs": [
    {
     "data": {
      "text/plain": [
       "['Tata Consultancy Services',\n",
       " 'IBM',\n",
       " 'Accenture',\n",
       " 'Ericsson-Worldwide',\n",
       " 'UnitedHealth Group',\n",
       " 'Delhivery',\n",
       " 'EXL Service',\n",
       " 'Optum',\n",
       " 'ZS Associates',\n",
       " 'Optum Global Solutions']"
      ]
     },
     "execution_count": 145,
     "metadata": {},
     "output_type": "execute_result"
    }
   ],
   "source": [
    "for i in company_tags[:10]:\n",
    "    company_names.append(i.text)\n",
    "company_names"
   ]
  },
  {
   "cell_type": "markdown",
   "metadata": {},
   "source": [
    "We are collecting the data for the first 10 company names"
   ]
  },
  {
   "cell_type": "markdown",
   "metadata": {},
   "source": [
    "Repeat the above steps for all the the required data features"
   ]
  },
  {
   "cell_type": "code",
   "execution_count": 146,
   "metadata": {},
   "outputs": [
    {
     "data": {
      "text/plain": [
       "[<selenium.webdriver.remote.webelement.WebElement (session=\"5b74e01680491344b7f0db98c001cb5e\", element=\"2c17f963-40d6-4126-adb5-558a45bac427\")>,\n",
       " <selenium.webdriver.remote.webelement.WebElement (session=\"5b74e01680491344b7f0db98c001cb5e\", element=\"ffecaf23-aced-4300-b324-a18a23f4bbb2\")>,\n",
       " <selenium.webdriver.remote.webelement.WebElement (session=\"5b74e01680491344b7f0db98c001cb5e\", element=\"ac6a015b-d98d-4f30-b99c-7ec4cfb53484\")>,\n",
       " <selenium.webdriver.remote.webelement.WebElement (session=\"5b74e01680491344b7f0db98c001cb5e\", element=\"07f83fbc-5580-487e-a415-e8b748eefa75\")>,\n",
       " <selenium.webdriver.remote.webelement.WebElement (session=\"5b74e01680491344b7f0db98c001cb5e\", element=\"db397d31-e0b8-431f-b255-ceab083f1bc7\")>,\n",
       " <selenium.webdriver.remote.webelement.WebElement (session=\"5b74e01680491344b7f0db98c001cb5e\", element=\"dbf80ecf-fc23-41d0-9f10-95812c2fe4bc\")>,\n",
       " <selenium.webdriver.remote.webelement.WebElement (session=\"5b74e01680491344b7f0db98c001cb5e\", element=\"db00cf1c-0f5a-47c1-a65d-d6d5038ec3e8\")>,\n",
       " <selenium.webdriver.remote.webelement.WebElement (session=\"5b74e01680491344b7f0db98c001cb5e\", element=\"4da02456-93a6-41cd-a76c-2c902b85cf06\")>,\n",
       " <selenium.webdriver.remote.webelement.WebElement (session=\"5b74e01680491344b7f0db98c001cb5e\", element=\"05595a7a-2777-4a0c-a123-27a64d82b21b\")>,\n",
       " <selenium.webdriver.remote.webelement.WebElement (session=\"5b74e01680491344b7f0db98c001cb5e\", element=\"c69a5eea-665b-4f28-adb3-704103143b1a\")>,\n",
       " <selenium.webdriver.remote.webelement.WebElement (session=\"5b74e01680491344b7f0db98c001cb5e\", element=\"404d99be-7ac8-4e4a-a300-0970c8b2317d\")>,\n",
       " <selenium.webdriver.remote.webelement.WebElement (session=\"5b74e01680491344b7f0db98c001cb5e\", element=\"ce98f5c7-1e06-431a-9751-1b921be02443\")>,\n",
       " <selenium.webdriver.remote.webelement.WebElement (session=\"5b74e01680491344b7f0db98c001cb5e\", element=\"cc84abc1-4872-4314-b4a7-c5aa5f9f5957\")>,\n",
       " <selenium.webdriver.remote.webelement.WebElement (session=\"5b74e01680491344b7f0db98c001cb5e\", element=\"fc528c1c-6dd5-4dde-a4a6-7395886e6afe\")>,\n",
       " <selenium.webdriver.remote.webelement.WebElement (session=\"5b74e01680491344b7f0db98c001cb5e\", element=\"23978cf9-49e5-4682-8447-b34aca7c87a4\")>,\n",
       " <selenium.webdriver.remote.webelement.WebElement (session=\"5b74e01680491344b7f0db98c001cb5e\", element=\"c3d03e6b-f5d7-4828-b63e-89a9b0fdb4f2\")>,\n",
       " <selenium.webdriver.remote.webelement.WebElement (session=\"5b74e01680491344b7f0db98c001cb5e\", element=\"eb07497d-b988-48e8-8784-65254fa09a06\")>,\n",
       " <selenium.webdriver.remote.webelement.WebElement (session=\"5b74e01680491344b7f0db98c001cb5e\", element=\"c7740db8-8708-406b-a7d1-598d1d7c5fab\")>,\n",
       " <selenium.webdriver.remote.webelement.WebElement (session=\"5b74e01680491344b7f0db98c001cb5e\", element=\"deb0f1dd-363e-48d9-b839-2d58afd43b28\")>,\n",
       " <selenium.webdriver.remote.webelement.WebElement (session=\"5b74e01680491344b7f0db98c001cb5e\", element=\"d0eecfca-bf8f-4edb-a3a9-7f09fa913b2d\")>]"
      ]
     },
     "execution_count": 146,
     "metadata": {},
     "output_type": "execute_result"
    }
   ],
   "source": [
    "no_salary_tags = driver.find_elements_by_xpath(\"//div[@class='col-12 col-lg-auto']\")\n",
    "no_salary_tags"
   ]
  },
  {
   "cell_type": "code",
   "execution_count": 147,
   "metadata": {},
   "outputs": [
    {
     "data": {
      "text/plain": [
       "['25 salaries',\n",
       " '21 salaries',\n",
       " '16 salaries',\n",
       " '15 salaries',\n",
       " '15 salaries',\n",
       " '15 salaries',\n",
       " '11 salaries',\n",
       " '11 salaries',\n",
       " '10 salaries',\n",
       " '10 salaries']"
      ]
     },
     "execution_count": 147,
     "metadata": {},
     "output_type": "execute_result"
    }
   ],
   "source": [
    "for i in no_salary_tags[:10]:\n",
    "    no_salaries.append(i.text)\n",
    "no_salaries"
   ]
  },
  {
   "cell_type": "code",
   "execution_count": 148,
   "metadata": {},
   "outputs": [
    {
     "data": {
      "text/plain": [
       "[<selenium.webdriver.remote.webelement.WebElement (session=\"5b74e01680491344b7f0db98c001cb5e\", element=\"9e45c39b-bca0-4ced-af52-7afbdc10a088\")>,\n",
       " <selenium.webdriver.remote.webelement.WebElement (session=\"5b74e01680491344b7f0db98c001cb5e\", element=\"021a6c5f-e3ae-4897-81aa-95ca9c8e6c9a\")>,\n",
       " <selenium.webdriver.remote.webelement.WebElement (session=\"5b74e01680491344b7f0db98c001cb5e\", element=\"09bbbddd-959c-42f2-ab10-5a972c0c161b\")>,\n",
       " <selenium.webdriver.remote.webelement.WebElement (session=\"5b74e01680491344b7f0db98c001cb5e\", element=\"e59d2568-c5f8-45c0-9714-225921e34b93\")>,\n",
       " <selenium.webdriver.remote.webelement.WebElement (session=\"5b74e01680491344b7f0db98c001cb5e\", element=\"b2a47ab3-4abc-4372-8593-6655a84e1200\")>,\n",
       " <selenium.webdriver.remote.webelement.WebElement (session=\"5b74e01680491344b7f0db98c001cb5e\", element=\"91b3f787-e530-449c-9e4e-398fe7ad91da\")>,\n",
       " <selenium.webdriver.remote.webelement.WebElement (session=\"5b74e01680491344b7f0db98c001cb5e\", element=\"3649ae5c-f936-466d-82de-00c1cec46bf1\")>,\n",
       " <selenium.webdriver.remote.webelement.WebElement (session=\"5b74e01680491344b7f0db98c001cb5e\", element=\"b81748e7-fd5c-4e64-9600-314738229f73\")>,\n",
       " <selenium.webdriver.remote.webelement.WebElement (session=\"5b74e01680491344b7f0db98c001cb5e\", element=\"fcf9e112-82f9-49b4-a685-c37f7894a5c6\")>,\n",
       " <selenium.webdriver.remote.webelement.WebElement (session=\"5b74e01680491344b7f0db98c001cb5e\", element=\"896ce927-66b0-489d-a099-f9893fc9a566\")>,\n",
       " <selenium.webdriver.remote.webelement.WebElement (session=\"5b74e01680491344b7f0db98c001cb5e\", element=\"70944204-8448-4903-b68c-d7d069f03be2\")>,\n",
       " <selenium.webdriver.remote.webelement.WebElement (session=\"5b74e01680491344b7f0db98c001cb5e\", element=\"a1c2bcfa-ffd8-46ee-925d-1f515243bc75\")>,\n",
       " <selenium.webdriver.remote.webelement.WebElement (session=\"5b74e01680491344b7f0db98c001cb5e\", element=\"9a8497fc-0c66-4404-83fa-84fd1b6e70a2\")>,\n",
       " <selenium.webdriver.remote.webelement.WebElement (session=\"5b74e01680491344b7f0db98c001cb5e\", element=\"a64b6389-709f-4c88-ae82-89e0b6359e2d\")>,\n",
       " <selenium.webdriver.remote.webelement.WebElement (session=\"5b74e01680491344b7f0db98c001cb5e\", element=\"f77feb3e-1a14-4daf-8dfe-04e945b6aae0\")>,\n",
       " <selenium.webdriver.remote.webelement.WebElement (session=\"5b74e01680491344b7f0db98c001cb5e\", element=\"3dd4fbf3-020a-4645-8aed-fd4b4407cb6b\")>,\n",
       " <selenium.webdriver.remote.webelement.WebElement (session=\"5b74e01680491344b7f0db98c001cb5e\", element=\"c20c4d99-ede7-4309-b037-d30a87017805\")>,\n",
       " <selenium.webdriver.remote.webelement.WebElement (session=\"5b74e01680491344b7f0db98c001cb5e\", element=\"502f1fd9-0df4-4daf-8e65-3f0cdd7b1eda\")>,\n",
       " <selenium.webdriver.remote.webelement.WebElement (session=\"5b74e01680491344b7f0db98c001cb5e\", element=\"c21f56d7-f596-40d2-a122-c5a432f17267\")>,\n",
       " <selenium.webdriver.remote.webelement.WebElement (session=\"5b74e01680491344b7f0db98c001cb5e\", element=\"514b1d26-5e8e-44d2-9ede-230f11de9f9b\")>]"
      ]
     },
     "execution_count": 148,
     "metadata": {},
     "output_type": "execute_result"
    }
   ],
   "source": [
    "avg_salary_tags = driver.find_elements_by_xpath(\"//div[@class='col-12 col-lg-4 px-lg-0 d-flex align-items-baseline']\")\n",
    "avg_salary_tags"
   ]
  },
  {
   "cell_type": "code",
   "execution_count": 149,
   "metadata": {},
   "outputs": [
    {
     "data": {
      "text/plain": [
       "['₹6,36,785 /yr',\n",
       " '₹9,24,624 /yr',\n",
       " '₹12,24,104 /yr',\n",
       " '₹7,68,525 /yr',\n",
       " '₹12,82,880 /yr',\n",
       " '₹12,60,805 /yr',\n",
       " '₹12,53,544 /yr',\n",
       " '₹12,70,000 /yr',\n",
       " '₹11,82,266 /yr',\n",
       " '₹14,62,558 /yr']"
      ]
     },
     "execution_count": 149,
     "metadata": {},
     "output_type": "execute_result"
    }
   ],
   "source": [
    "for i in avg_salary_tags[:10]:\n",
    "    avg_salaries.append(i.text.replace(\"\\n\",\"\"))\n",
    "avg_salaries"
   ]
  },
  {
   "cell_type": "code",
   "execution_count": 361,
   "metadata": {},
   "outputs": [
    {
     "data": {
      "text/plain": [
       "[<selenium.webdriver.remote.webelement.WebElement (session=\"7a913f93810d9c7e185b0d4b26467157\", element=\"c3dae250-bca9-4be0-88c0-c4ca90d2c996\")>,\n",
       " <selenium.webdriver.remote.webelement.WebElement (session=\"7a913f93810d9c7e185b0d4b26467157\", element=\"16fc6bbc-8c96-42c4-b69f-222e3e555ce3\")>,\n",
       " <selenium.webdriver.remote.webelement.WebElement (session=\"7a913f93810d9c7e185b0d4b26467157\", element=\"37536870-b82f-4c03-a5da-9a86c6c33a17\")>,\n",
       " <selenium.webdriver.remote.webelement.WebElement (session=\"7a913f93810d9c7e185b0d4b26467157\", element=\"eebbc782-3e50-4ad8-ab4c-369c2feb99bd\")>,\n",
       " <selenium.webdriver.remote.webelement.WebElement (session=\"7a913f93810d9c7e185b0d4b26467157\", element=\"18aa413b-ca96-46c7-891f-19502b2a6fc4\")>,\n",
       " <selenium.webdriver.remote.webelement.WebElement (session=\"7a913f93810d9c7e185b0d4b26467157\", element=\"c6506a7f-d241-45e0-bb18-e78cf67524b8\")>,\n",
       " <selenium.webdriver.remote.webelement.WebElement (session=\"7a913f93810d9c7e185b0d4b26467157\", element=\"7dbec7c4-32f3-4c65-a9d4-52f862df1749\")>,\n",
       " <selenium.webdriver.remote.webelement.WebElement (session=\"7a913f93810d9c7e185b0d4b26467157\", element=\"a3eaa0b3-9446-4968-8bdb-e70a2bb06a5b\")>,\n",
       " <selenium.webdriver.remote.webelement.WebElement (session=\"7a913f93810d9c7e185b0d4b26467157\", element=\"72220aab-1f91-4592-bccb-1884dd2aa75b\")>,\n",
       " <selenium.webdriver.remote.webelement.WebElement (session=\"7a913f93810d9c7e185b0d4b26467157\", element=\"4bbb3bf2-1c60-46d6-8bb4-325a064eea59\")>,\n",
       " <selenium.webdriver.remote.webelement.WebElement (session=\"7a913f93810d9c7e185b0d4b26467157\", element=\"eda83292-d771-44c1-98e4-81f83fdb0b99\")>,\n",
       " <selenium.webdriver.remote.webelement.WebElement (session=\"7a913f93810d9c7e185b0d4b26467157\", element=\"ee145509-af84-4112-bfbd-ab4d2e54f033\")>,\n",
       " <selenium.webdriver.remote.webelement.WebElement (session=\"7a913f93810d9c7e185b0d4b26467157\", element=\"9a066e5a-2777-4be7-b274-5e612fb6e0a2\")>,\n",
       " <selenium.webdriver.remote.webelement.WebElement (session=\"7a913f93810d9c7e185b0d4b26467157\", element=\"3b4363e1-7095-4824-aa64-27d8079d6f72\")>,\n",
       " <selenium.webdriver.remote.webelement.WebElement (session=\"7a913f93810d9c7e185b0d4b26467157\", element=\"550df857-4a0e-465e-a224-8cf49260c78f\")>,\n",
       " <selenium.webdriver.remote.webelement.WebElement (session=\"7a913f93810d9c7e185b0d4b26467157\", element=\"df0cadd2-6f1f-4fdf-86e6-72905e95d5ff\")>,\n",
       " <selenium.webdriver.remote.webelement.WebElement (session=\"7a913f93810d9c7e185b0d4b26467157\", element=\"4b1cef6a-0488-46f1-8c91-e12f8f3d8c1d\")>,\n",
       " <selenium.webdriver.remote.webelement.WebElement (session=\"7a913f93810d9c7e185b0d4b26467157\", element=\"fe23ddbd-431c-467e-85a3-93aba04717b6\")>,\n",
       " <selenium.webdriver.remote.webelement.WebElement (session=\"7a913f93810d9c7e185b0d4b26467157\", element=\"d5574163-5e87-4937-ad81-f6774a2a0848\")>,\n",
       " <selenium.webdriver.remote.webelement.WebElement (session=\"7a913f93810d9c7e185b0d4b26467157\", element=\"f6bc9450-504c-4d95-a8b1-791c40cee637\")>]"
      ]
     },
     "execution_count": 361,
     "metadata": {},
     "output_type": "execute_result"
    }
   ],
   "source": [
    "min_salary_tags = driver.find_elements_by_xpath(\"//div[@class='d-flex mt-xxsm css-79elbk epuxyqn0']/p[1]\")\n",
    "min_salary_tags"
   ]
  },
  {
   "cell_type": "code",
   "execution_count": 369,
   "metadata": {},
   "outputs": [
    {
     "data": {
      "text/plain": [
       "['₹4L', '₹6L', '₹6L', '₹4L', '₹5L', '₹8L', '₹6L', '₹8L', '₹2L', '₹11L']"
      ]
     },
     "execution_count": 369,
     "metadata": {},
     "output_type": "execute_result"
    }
   ],
   "source": [
    "for i in min_salary_tags[:10]:\n",
    "    min_salaries.append(i.text)\n",
    "min_salaries"
   ]
  },
  {
   "cell_type": "code",
   "execution_count": 365,
   "metadata": {},
   "outputs": [
    {
     "data": {
      "text/plain": [
       "[<selenium.webdriver.remote.webelement.WebElement (session=\"7a913f93810d9c7e185b0d4b26467157\", element=\"2267a643-89ea-43b1-999d-85f07687a39f\")>,\n",
       " <selenium.webdriver.remote.webelement.WebElement (session=\"7a913f93810d9c7e185b0d4b26467157\", element=\"a9e7f8ca-a347-4a8e-940b-d11dd8f3b126\")>,\n",
       " <selenium.webdriver.remote.webelement.WebElement (session=\"7a913f93810d9c7e185b0d4b26467157\", element=\"a1cc4bf5-94e1-4d78-9e86-1462d961f51a\")>,\n",
       " <selenium.webdriver.remote.webelement.WebElement (session=\"7a913f93810d9c7e185b0d4b26467157\", element=\"b5d47974-9720-439b-919c-55caf57912c7\")>,\n",
       " <selenium.webdriver.remote.webelement.WebElement (session=\"7a913f93810d9c7e185b0d4b26467157\", element=\"2a6487b7-1cba-4b8b-a635-0cac0347d294\")>,\n",
       " <selenium.webdriver.remote.webelement.WebElement (session=\"7a913f93810d9c7e185b0d4b26467157\", element=\"38d02183-0a06-4adb-b683-1ff8420d73be\")>,\n",
       " <selenium.webdriver.remote.webelement.WebElement (session=\"7a913f93810d9c7e185b0d4b26467157\", element=\"53f9179f-b4ff-40ff-ae34-8e67e817637c\")>,\n",
       " <selenium.webdriver.remote.webelement.WebElement (session=\"7a913f93810d9c7e185b0d4b26467157\", element=\"21f9cbd6-1b96-458e-a780-afc55e4b892b\")>,\n",
       " <selenium.webdriver.remote.webelement.WebElement (session=\"7a913f93810d9c7e185b0d4b26467157\", element=\"45698014-9c7b-4b5a-bf50-90d12bf3bb3a\")>,\n",
       " <selenium.webdriver.remote.webelement.WebElement (session=\"7a913f93810d9c7e185b0d4b26467157\", element=\"7400921e-ee36-45c2-8d81-89c69f02cac4\")>,\n",
       " <selenium.webdriver.remote.webelement.WebElement (session=\"7a913f93810d9c7e185b0d4b26467157\", element=\"f7f36e12-1d02-409d-bc9d-53e11a381297\")>,\n",
       " <selenium.webdriver.remote.webelement.WebElement (session=\"7a913f93810d9c7e185b0d4b26467157\", element=\"1b2528ef-d113-4356-8a85-841aa4ee5a6f\")>,\n",
       " <selenium.webdriver.remote.webelement.WebElement (session=\"7a913f93810d9c7e185b0d4b26467157\", element=\"ea693d05-7163-49a7-ac70-e648203b4f0c\")>,\n",
       " <selenium.webdriver.remote.webelement.WebElement (session=\"7a913f93810d9c7e185b0d4b26467157\", element=\"9b5dfbc3-0939-4e26-a808-6fb410a86d59\")>,\n",
       " <selenium.webdriver.remote.webelement.WebElement (session=\"7a913f93810d9c7e185b0d4b26467157\", element=\"b849f123-c729-4d14-bdb6-d2955052270f\")>,\n",
       " <selenium.webdriver.remote.webelement.WebElement (session=\"7a913f93810d9c7e185b0d4b26467157\", element=\"e0ae70b7-cb28-4700-afbf-54242eb6de59\")>,\n",
       " <selenium.webdriver.remote.webelement.WebElement (session=\"7a913f93810d9c7e185b0d4b26467157\", element=\"793a75ab-ef77-4132-9a19-a78f62f82e5f\")>,\n",
       " <selenium.webdriver.remote.webelement.WebElement (session=\"7a913f93810d9c7e185b0d4b26467157\", element=\"c549d74c-5be3-4f2c-8c4c-eb1a64553742\")>,\n",
       " <selenium.webdriver.remote.webelement.WebElement (session=\"7a913f93810d9c7e185b0d4b26467157\", element=\"28151f16-02aa-45ed-a937-c47395bae957\")>,\n",
       " <selenium.webdriver.remote.webelement.WebElement (session=\"7a913f93810d9c7e185b0d4b26467157\", element=\"988f790f-6156-40ef-b48d-79381540d403\")>]"
      ]
     },
     "execution_count": 365,
     "metadata": {},
     "output_type": "execute_result"
    }
   ],
   "source": [
    "max_salary_tags = driver.find_elements_by_xpath(\"//div[@class='d-flex mt-xxsm css-79elbk epuxyqn0']/p[2]\")\n",
    "max_salary_tags"
   ]
  },
  {
   "cell_type": "code",
   "execution_count": 366,
   "metadata": {},
   "outputs": [
    {
     "data": {
      "text/plain": [
       "['₹13L',\n",
       " '₹26L',\n",
       " '₹23L',\n",
       " '₹17L',\n",
       " '₹1Cr',\n",
       " '₹16L',\n",
       " '₹20L',\n",
       " '₹21L',\n",
       " '₹22L',\n",
       " '₹18L']"
      ]
     },
     "execution_count": 366,
     "metadata": {},
     "output_type": "execute_result"
    }
   ],
   "source": [
    "for i in max_salary_tags[:10]:\n",
    "    max_salaries.append(i.text)\n",
    "max_salaries"
   ]
  },
  {
   "cell_type": "markdown",
   "metadata": {},
   "source": [
    "After collecting all the data features we then create a dataframe"
   ]
  },
  {
   "cell_type": "code",
   "execution_count": 370,
   "metadata": {},
   "outputs": [
    {
     "data": {
      "text/html": [
       "<div>\n",
       "<style scoped>\n",
       "    .dataframe tbody tr th:only-of-type {\n",
       "        vertical-align: middle;\n",
       "    }\n",
       "\n",
       "    .dataframe tbody tr th {\n",
       "        vertical-align: top;\n",
       "    }\n",
       "\n",
       "    .dataframe thead th {\n",
       "        text-align: right;\n",
       "    }\n",
       "</style>\n",
       "<table border=\"1\" class=\"dataframe\">\n",
       "  <thead>\n",
       "    <tr style=\"text-align: right;\">\n",
       "      <th></th>\n",
       "      <th>Company</th>\n",
       "      <th>No of Salaries</th>\n",
       "      <th>Average Salary</th>\n",
       "      <th>Minimum Salary</th>\n",
       "      <th>Maximum Salary</th>\n",
       "    </tr>\n",
       "  </thead>\n",
       "  <tbody>\n",
       "    <tr>\n",
       "      <th>0</th>\n",
       "      <td>Tata Consultancy Services</td>\n",
       "      <td>25 salaries</td>\n",
       "      <td>₹6,36,785 /yr</td>\n",
       "      <td>₹4L</td>\n",
       "      <td>₹13L</td>\n",
       "    </tr>\n",
       "    <tr>\n",
       "      <th>1</th>\n",
       "      <td>IBM</td>\n",
       "      <td>21 salaries</td>\n",
       "      <td>₹9,24,624 /yr</td>\n",
       "      <td>₹6L</td>\n",
       "      <td>₹26L</td>\n",
       "    </tr>\n",
       "    <tr>\n",
       "      <th>2</th>\n",
       "      <td>Accenture</td>\n",
       "      <td>16 salaries</td>\n",
       "      <td>₹12,24,104 /yr</td>\n",
       "      <td>₹6L</td>\n",
       "      <td>₹23L</td>\n",
       "    </tr>\n",
       "    <tr>\n",
       "      <th>3</th>\n",
       "      <td>Ericsson-Worldwide</td>\n",
       "      <td>15 salaries</td>\n",
       "      <td>₹7,68,525 /yr</td>\n",
       "      <td>₹4L</td>\n",
       "      <td>₹17L</td>\n",
       "    </tr>\n",
       "    <tr>\n",
       "      <th>4</th>\n",
       "      <td>Delhivery</td>\n",
       "      <td>15 salaries</td>\n",
       "      <td>₹12,60,805 /yr</td>\n",
       "      <td>₹5L</td>\n",
       "      <td>₹1Cr</td>\n",
       "    </tr>\n",
       "    <tr>\n",
       "      <th>5</th>\n",
       "      <td>UnitedHealth Group</td>\n",
       "      <td>14 salaries</td>\n",
       "      <td>₹13,03,243 /yr</td>\n",
       "      <td>₹8L</td>\n",
       "      <td>₹16L</td>\n",
       "    </tr>\n",
       "    <tr>\n",
       "      <th>6</th>\n",
       "      <td>EXL Service</td>\n",
       "      <td>11 salaries</td>\n",
       "      <td>₹12,53,544 /yr</td>\n",
       "      <td>₹6L</td>\n",
       "      <td>₹20L</td>\n",
       "    </tr>\n",
       "    <tr>\n",
       "      <th>7</th>\n",
       "      <td>Optum</td>\n",
       "      <td>11 salaries</td>\n",
       "      <td>₹12,70,000 /yr</td>\n",
       "      <td>₹8L</td>\n",
       "      <td>₹21L</td>\n",
       "    </tr>\n",
       "    <tr>\n",
       "      <th>8</th>\n",
       "      <td>ZS Associates</td>\n",
       "      <td>10 salaries</td>\n",
       "      <td>₹11,82,266 /yr</td>\n",
       "      <td>₹2L</td>\n",
       "      <td>₹22L</td>\n",
       "    </tr>\n",
       "    <tr>\n",
       "      <th>9</th>\n",
       "      <td>Optum Global Solutions</td>\n",
       "      <td>10 salaries</td>\n",
       "      <td>₹14,62,558 /yr</td>\n",
       "      <td>₹11L</td>\n",
       "      <td>₹18L</td>\n",
       "    </tr>\n",
       "  </tbody>\n",
       "</table>\n",
       "</div>"
      ],
      "text/plain": [
       "                     Company No of Salaries  Average Salary Minimum Salary  \\\n",
       "0  Tata Consultancy Services    25 salaries   ₹6,36,785 /yr            ₹4L   \n",
       "1                        IBM    21 salaries   ₹9,24,624 /yr            ₹6L   \n",
       "2                  Accenture    16 salaries  ₹12,24,104 /yr            ₹6L   \n",
       "3         Ericsson-Worldwide    15 salaries   ₹7,68,525 /yr            ₹4L   \n",
       "4                  Delhivery    15 salaries  ₹12,60,805 /yr            ₹5L   \n",
       "5         UnitedHealth Group    14 salaries  ₹13,03,243 /yr            ₹8L   \n",
       "6                EXL Service    11 salaries  ₹12,53,544 /yr            ₹6L   \n",
       "7                      Optum    11 salaries  ₹12,70,000 /yr            ₹8L   \n",
       "8              ZS Associates    10 salaries  ₹11,82,266 /yr            ₹2L   \n",
       "9     Optum Global Solutions    10 salaries  ₹14,62,558 /yr           ₹11L   \n",
       "\n",
       "  Maximum Salary  \n",
       "0           ₹13L  \n",
       "1           ₹26L  \n",
       "2           ₹23L  \n",
       "3           ₹17L  \n",
       "4           ₹1Cr  \n",
       "5           ₹16L  \n",
       "6           ₹20L  \n",
       "7           ₹21L  \n",
       "8           ₹22L  \n",
       "9           ₹18L  "
      ]
     },
     "execution_count": 370,
     "metadata": {},
     "output_type": "execute_result"
    }
   ],
   "source": [
    "df = pd.DataFrame({})\n",
    "df[\"Company\"] = company_names\n",
    "df[\"No of Salaries\"] = no_salaries\n",
    "df[\"Average Salary\"] = avg_salaries\n",
    "df[\"Minimum Salary\"] = min_salaries\n",
    "df[\"Maximum Salary\"] = max_salaries\n",
    "df"
   ]
  },
  {
   "cell_type": "markdown",
   "metadata": {},
   "source": [
    "Dataframe with all the features is displayed above"
   ]
  },
  {
   "cell_type": "code",
   "execution_count": null,
   "metadata": {},
   "outputs": [],
   "source": []
  },
  {
   "cell_type": "markdown",
   "metadata": {},
   "source": [
    "Q6 : Scrape data of first 100 sunglasses listings on flipkart.com. You have to\n",
    "scrape four attributes:\n",
    "1. Brand\n",
    "2. Product Description\n",
    "3. Price\n",
    "4. Discount %\n",
    "The attributes which you have to scrape is ticked marked in the below image.\n",
    "\n",
    "To scrape the data you have to go through following steps:\n",
    "1. Go to flipkart webpage by url https://www.flipkart.com/\n",
    "2. Enter “sunglasses” in the search field where “search for products, brands and\n",
    "more” is written and click the search icon\n",
    "3. after that you will reach to a webpage having a lot of sunglasses. From this page\n",
    "you can scrap the required data as usual.\n",
    "4. after scraping data from the first page, go to the “Next” Button at the bottom of\n",
    "the page , then click on it\n",
    "5. Now scrape data from this page as usual\n",
    "6. repeat this until you get data for 100 sunglasses.\n",
    "\n",
    "Note that all of the above steps have to be done by coding only and not manually."
   ]
  },
  {
   "cell_type": "code",
   "execution_count": 221,
   "metadata": {},
   "outputs": [],
   "source": [
    "driver.get(\"https://www.flipkart.com/\")"
   ]
  },
  {
   "cell_type": "markdown",
   "metadata": {},
   "source": [
    "Get the webpage using driver"
   ]
  },
  {
   "cell_type": "code",
   "execution_count": 222,
   "metadata": {},
   "outputs": [],
   "source": [
    "search_prod = driver.find_element_by_xpath(\"//input[@class='_3704LK']\")"
   ]
  },
  {
   "cell_type": "markdown",
   "metadata": {},
   "source": [
    "find element for \"product\" search field."
   ]
  },
  {
   "cell_type": "code",
   "execution_count": 223,
   "metadata": {},
   "outputs": [],
   "source": [
    "search_prod.send_keys(\"sunglasses\")"
   ]
  },
  {
   "cell_type": "markdown",
   "metadata": {},
   "source": [
    "We then provide the required product value to the element"
   ]
  },
  {
   "cell_type": "code",
   "execution_count": 224,
   "metadata": {},
   "outputs": [],
   "source": [
    "search_btn = driver.find_element_by_xpath(\"//button[@class='L0Z3Pu']\")"
   ]
  },
  {
   "cell_type": "markdown",
   "metadata": {},
   "source": [
    "Finding the element for search button."
   ]
  },
  {
   "cell_type": "code",
   "execution_count": 225,
   "metadata": {},
   "outputs": [],
   "source": [
    "search_btn.click()"
   ]
  },
  {
   "cell_type": "markdown",
   "metadata": {},
   "source": [
    "We make a search using click function"
   ]
  },
  {
   "cell_type": "code",
   "execution_count": 226,
   "metadata": {},
   "outputs": [],
   "source": [
    "brand_list=[]\n",
    "prod_descriptions=[]\n",
    "price_list=[]\n",
    "discount_list=[]"
   ]
  },
  {
   "cell_type": "markdown",
   "metadata": {},
   "source": [
    "Creating empty lists for all the data features"
   ]
  },
  {
   "cell_type": "code",
   "execution_count": 227,
   "metadata": {},
   "outputs": [
    {
     "data": {
      "text/plain": [
       "[<selenium.webdriver.remote.webelement.WebElement (session=\"5b74e01680491344b7f0db98c001cb5e\", element=\"46511b54-85e7-4e32-ba76-f283c1e3b4f5\")>,\n",
       " <selenium.webdriver.remote.webelement.WebElement (session=\"5b74e01680491344b7f0db98c001cb5e\", element=\"bf78c79f-8ac4-4c9b-b9ab-af938d4af0cf\")>,\n",
       " <selenium.webdriver.remote.webelement.WebElement (session=\"5b74e01680491344b7f0db98c001cb5e\", element=\"7f93fc2d-727c-428f-aced-4a448b0c192a\")>,\n",
       " <selenium.webdriver.remote.webelement.WebElement (session=\"5b74e01680491344b7f0db98c001cb5e\", element=\"af493a0d-d0ae-4756-bd16-7dd57451228d\")>,\n",
       " <selenium.webdriver.remote.webelement.WebElement (session=\"5b74e01680491344b7f0db98c001cb5e\", element=\"db8265bc-663f-415a-b0d3-178cd4c57523\")>,\n",
       " <selenium.webdriver.remote.webelement.WebElement (session=\"5b74e01680491344b7f0db98c001cb5e\", element=\"9c40db7b-6086-4a3d-9e28-143b98c3bfa4\")>,\n",
       " <selenium.webdriver.remote.webelement.WebElement (session=\"5b74e01680491344b7f0db98c001cb5e\", element=\"536ba450-d06a-42f9-ab92-259ff440704f\")>,\n",
       " <selenium.webdriver.remote.webelement.WebElement (session=\"5b74e01680491344b7f0db98c001cb5e\", element=\"e9a6fc38-c501-42fc-996a-6a63d12d537d\")>,\n",
       " <selenium.webdriver.remote.webelement.WebElement (session=\"5b74e01680491344b7f0db98c001cb5e\", element=\"f4994619-e0db-40c0-aff5-7fccadee5cbc\")>,\n",
       " <selenium.webdriver.remote.webelement.WebElement (session=\"5b74e01680491344b7f0db98c001cb5e\", element=\"947062c5-b13b-4c1b-9a3f-3c47ad2c072f\")>,\n",
       " <selenium.webdriver.remote.webelement.WebElement (session=\"5b74e01680491344b7f0db98c001cb5e\", element=\"aa1ad34d-722e-4b5f-b50a-5a789fa930e8\")>,\n",
       " <selenium.webdriver.remote.webelement.WebElement (session=\"5b74e01680491344b7f0db98c001cb5e\", element=\"2cb4f51a-3263-455e-b3ae-8ea857526d67\")>,\n",
       " <selenium.webdriver.remote.webelement.WebElement (session=\"5b74e01680491344b7f0db98c001cb5e\", element=\"43f8e976-a483-49fc-8332-5034ab2b40b0\")>,\n",
       " <selenium.webdriver.remote.webelement.WebElement (session=\"5b74e01680491344b7f0db98c001cb5e\", element=\"9252327a-f836-47e2-b1e1-25fd24646dd9\")>,\n",
       " <selenium.webdriver.remote.webelement.WebElement (session=\"5b74e01680491344b7f0db98c001cb5e\", element=\"77778174-c9da-42bd-8fe3-59aec724f0f4\")>,\n",
       " <selenium.webdriver.remote.webelement.WebElement (session=\"5b74e01680491344b7f0db98c001cb5e\", element=\"1392a69f-0f82-4ed2-b59d-b8ac2af94a2c\")>,\n",
       " <selenium.webdriver.remote.webelement.WebElement (session=\"5b74e01680491344b7f0db98c001cb5e\", element=\"8c9dcaa1-e9c6-4896-b113-b3ac54e6502e\")>,\n",
       " <selenium.webdriver.remote.webelement.WebElement (session=\"5b74e01680491344b7f0db98c001cb5e\", element=\"22f5124b-d7e8-4e83-9e2b-810317158b53\")>,\n",
       " <selenium.webdriver.remote.webelement.WebElement (session=\"5b74e01680491344b7f0db98c001cb5e\", element=\"cd7309ef-5db7-44ee-b1fa-bd294ec6a2a5\")>,\n",
       " <selenium.webdriver.remote.webelement.WebElement (session=\"5b74e01680491344b7f0db98c001cb5e\", element=\"9e493fdf-dd22-43bb-b8a1-c315aa38da9c\")>,\n",
       " <selenium.webdriver.remote.webelement.WebElement (session=\"5b74e01680491344b7f0db98c001cb5e\", element=\"30de6ab3-1393-40cb-94d0-ec31beeb84a9\")>,\n",
       " <selenium.webdriver.remote.webelement.WebElement (session=\"5b74e01680491344b7f0db98c001cb5e\", element=\"ddf4ed6c-718e-4810-8572-230511ce4815\")>,\n",
       " <selenium.webdriver.remote.webelement.WebElement (session=\"5b74e01680491344b7f0db98c001cb5e\", element=\"7acdced8-abf1-491d-a4e5-80be79d2292b\")>,\n",
       " <selenium.webdriver.remote.webelement.WebElement (session=\"5b74e01680491344b7f0db98c001cb5e\", element=\"6b63213d-8508-4c21-ad74-e1c6bdc83ce2\")>,\n",
       " <selenium.webdriver.remote.webelement.WebElement (session=\"5b74e01680491344b7f0db98c001cb5e\", element=\"6a26f71c-87cb-474d-804e-62f11c855af2\")>,\n",
       " <selenium.webdriver.remote.webelement.WebElement (session=\"5b74e01680491344b7f0db98c001cb5e\", element=\"39b8c11b-ce42-4793-802e-26d6d1472c87\")>,\n",
       " <selenium.webdriver.remote.webelement.WebElement (session=\"5b74e01680491344b7f0db98c001cb5e\", element=\"fbae2315-3fd2-46ed-9d7b-af967229b040\")>,\n",
       " <selenium.webdriver.remote.webelement.WebElement (session=\"5b74e01680491344b7f0db98c001cb5e\", element=\"d6ca6f99-e609-4f3f-9381-179a4bbc4cb5\")>,\n",
       " <selenium.webdriver.remote.webelement.WebElement (session=\"5b74e01680491344b7f0db98c001cb5e\", element=\"22f0e72b-565c-44f9-9b13-c44187287571\")>,\n",
       " <selenium.webdriver.remote.webelement.WebElement (session=\"5b74e01680491344b7f0db98c001cb5e\", element=\"5521ba57-971a-4ea0-b8b5-ba40be1375f5\")>,\n",
       " <selenium.webdriver.remote.webelement.WebElement (session=\"5b74e01680491344b7f0db98c001cb5e\", element=\"d24020d3-9cbe-4df6-a9e8-a8d7d985c187\")>,\n",
       " <selenium.webdriver.remote.webelement.WebElement (session=\"5b74e01680491344b7f0db98c001cb5e\", element=\"bc6a18a6-fb87-411e-a980-aabf6941051c\")>,\n",
       " <selenium.webdriver.remote.webelement.WebElement (session=\"5b74e01680491344b7f0db98c001cb5e\", element=\"45ca3658-58f7-4323-b23d-bc3843776b75\")>,\n",
       " <selenium.webdriver.remote.webelement.WebElement (session=\"5b74e01680491344b7f0db98c001cb5e\", element=\"9d415911-6351-4afe-b6be-1ff107fb527a\")>,\n",
       " <selenium.webdriver.remote.webelement.WebElement (session=\"5b74e01680491344b7f0db98c001cb5e\", element=\"7c929418-8795-43bc-9f3a-62a80125c113\")>,\n",
       " <selenium.webdriver.remote.webelement.WebElement (session=\"5b74e01680491344b7f0db98c001cb5e\", element=\"88f1bec0-9692-41bd-9716-df0c83ca55e5\")>,\n",
       " <selenium.webdriver.remote.webelement.WebElement (session=\"5b74e01680491344b7f0db98c001cb5e\", element=\"9bc6f0b9-cbc0-4d54-8fbb-3ee0872b76ff\")>,\n",
       " <selenium.webdriver.remote.webelement.WebElement (session=\"5b74e01680491344b7f0db98c001cb5e\", element=\"db36e640-e08b-47c2-847b-c28bb5b6a722\")>,\n",
       " <selenium.webdriver.remote.webelement.WebElement (session=\"5b74e01680491344b7f0db98c001cb5e\", element=\"310e01a7-d8db-4ff8-921a-c8377b21c370\")>,\n",
       " <selenium.webdriver.remote.webelement.WebElement (session=\"5b74e01680491344b7f0db98c001cb5e\", element=\"ffd45ad0-d3e1-49c5-bb8b-c5b29c72eb6a\")>]"
      ]
     },
     "execution_count": 227,
     "metadata": {},
     "output_type": "execute_result"
    }
   ],
   "source": [
    "brand_tags = driver.find_elements_by_xpath(\"//div[@class='_2WkVRV']\")\n",
    "brand_tags"
   ]
  },
  {
   "cell_type": "markdown",
   "metadata": {},
   "source": [
    "Finding all the elements containing brand names. "
   ]
  },
  {
   "cell_type": "code",
   "execution_count": 228,
   "metadata": {},
   "outputs": [
    {
     "data": {
      "text/plain": [
       "['VINCENT CHASE',\n",
       " 'VINCENT CHASE',\n",
       " 'PIRASO',\n",
       " 'Fastrack',\n",
       " 'PIRASO',\n",
       " 'Elligator',\n",
       " 'PIRASO',\n",
       " 'ROYAL SON',\n",
       " 'SHAAH COLLECTIONS',\n",
       " 'Silver Kartz',\n",
       " 'ROZZETTA CRAFT',\n",
       " 'VINCENT CHASE',\n",
       " 'Rich Club',\n",
       " 'GANSTA',\n",
       " 'SHAAH COLLECTIONS',\n",
       " 'ROYAL SON',\n",
       " 'kingsunglasses',\n",
       " 'New Specs',\n",
       " 'NuVew',\n",
       " 'VINCENT CHASE',\n",
       " 'Singco India',\n",
       " 'Fastrack',\n",
       " 'kingsunglasses',\n",
       " 'VINCENT CHASE',\n",
       " 'PHENOMENAL',\n",
       " 'NuVew',\n",
       " 'Fastrack',\n",
       " 'VINCENT CHASE',\n",
       " 'PHENOMENAL',\n",
       " 'Elligator',\n",
       " 'Silver Kartz',\n",
       " 'VINCENT CHASE',\n",
       " 'Fastrack',\n",
       " 'PIRASO',\n",
       " 'GANSTA',\n",
       " 'ROYAL SON',\n",
       " 'GANSTA',\n",
       " 'Singco India',\n",
       " 'Fastrack',\n",
       " 'ROZZETTA CRAFT']"
      ]
     },
     "execution_count": 228,
     "metadata": {},
     "output_type": "execute_result"
    }
   ],
   "source": [
    "for i in brand_tags:\n",
    "    brand_list.append(i.text)\n",
    "brand_list"
   ]
  },
  {
   "cell_type": "markdown",
   "metadata": {},
   "source": [
    "Inserting the brand names to brand list. We can access this data from a webelement using text function"
   ]
  },
  {
   "cell_type": "markdown",
   "metadata": {},
   "source": [
    "Similarly we will repeat the above processes for all the other features."
   ]
  },
  {
   "cell_type": "code",
   "execution_count": 229,
   "metadata": {},
   "outputs": [
    {
     "data": {
      "text/plain": [
       "[<selenium.webdriver.remote.webelement.WebElement (session=\"5b74e01680491344b7f0db98c001cb5e\", element=\"2db19734-cf4d-4d04-ac5d-77957aceb0a5\")>,\n",
       " <selenium.webdriver.remote.webelement.WebElement (session=\"5b74e01680491344b7f0db98c001cb5e\", element=\"69118c0b-4668-41ea-afe0-afd76c580dce\")>,\n",
       " <selenium.webdriver.remote.webelement.WebElement (session=\"5b74e01680491344b7f0db98c001cb5e\", element=\"ec062cc6-676f-472c-8c13-6ecf846ce083\")>,\n",
       " <selenium.webdriver.remote.webelement.WebElement (session=\"5b74e01680491344b7f0db98c001cb5e\", element=\"a6c08862-b618-45fb-b70a-839a0503ff7f\")>,\n",
       " <selenium.webdriver.remote.webelement.WebElement (session=\"5b74e01680491344b7f0db98c001cb5e\", element=\"010b3fc9-8647-48d5-b190-452fbe205e44\")>,\n",
       " <selenium.webdriver.remote.webelement.WebElement (session=\"5b74e01680491344b7f0db98c001cb5e\", element=\"75f4685b-a3e3-4eb2-aa31-dde2401a7494\")>,\n",
       " <selenium.webdriver.remote.webelement.WebElement (session=\"5b74e01680491344b7f0db98c001cb5e\", element=\"999f869a-cb72-44ad-8457-c43dca31e647\")>,\n",
       " <selenium.webdriver.remote.webelement.WebElement (session=\"5b74e01680491344b7f0db98c001cb5e\", element=\"0221c585-71e4-4946-bf6a-f476ba167af2\")>,\n",
       " <selenium.webdriver.remote.webelement.WebElement (session=\"5b74e01680491344b7f0db98c001cb5e\", element=\"a6508e90-c925-4346-beb3-bacbfb8f3b15\")>,\n",
       " <selenium.webdriver.remote.webelement.WebElement (session=\"5b74e01680491344b7f0db98c001cb5e\", element=\"bbda2fce-13a5-4b0f-94ae-c4a2df034dc0\")>,\n",
       " <selenium.webdriver.remote.webelement.WebElement (session=\"5b74e01680491344b7f0db98c001cb5e\", element=\"0bc397a3-5c85-4b25-bdcd-6046dc372ce5\")>,\n",
       " <selenium.webdriver.remote.webelement.WebElement (session=\"5b74e01680491344b7f0db98c001cb5e\", element=\"3c9f4f1a-4290-40d8-a313-10ad405ffd39\")>,\n",
       " <selenium.webdriver.remote.webelement.WebElement (session=\"5b74e01680491344b7f0db98c001cb5e\", element=\"de2dc1f6-b280-4d81-9ec1-01899d5357f8\")>,\n",
       " <selenium.webdriver.remote.webelement.WebElement (session=\"5b74e01680491344b7f0db98c001cb5e\", element=\"c000b3c8-2325-49d8-9096-1d1b7c8bae45\")>,\n",
       " <selenium.webdriver.remote.webelement.WebElement (session=\"5b74e01680491344b7f0db98c001cb5e\", element=\"92ea8e8c-2c21-4c76-94c9-bc8c6e36793d\")>,\n",
       " <selenium.webdriver.remote.webelement.WebElement (session=\"5b74e01680491344b7f0db98c001cb5e\", element=\"cea6f80b-edfd-4817-9534-b12bc0dec32d\")>,\n",
       " <selenium.webdriver.remote.webelement.WebElement (session=\"5b74e01680491344b7f0db98c001cb5e\", element=\"d1bc89d2-823d-4168-a3f3-1a5924d66686\")>,\n",
       " <selenium.webdriver.remote.webelement.WebElement (session=\"5b74e01680491344b7f0db98c001cb5e\", element=\"a2dd76f4-38ca-42b9-bd1e-6f62d8ec40ee\")>,\n",
       " <selenium.webdriver.remote.webelement.WebElement (session=\"5b74e01680491344b7f0db98c001cb5e\", element=\"cd2ee26f-c164-448f-aae0-5857965a9d26\")>,\n",
       " <selenium.webdriver.remote.webelement.WebElement (session=\"5b74e01680491344b7f0db98c001cb5e\", element=\"05178cf7-c360-401f-8ed7-c0275c7bf7c2\")>,\n",
       " <selenium.webdriver.remote.webelement.WebElement (session=\"5b74e01680491344b7f0db98c001cb5e\", element=\"aa23cd8e-b2ff-4c4d-8302-1767187195ad\")>,\n",
       " <selenium.webdriver.remote.webelement.WebElement (session=\"5b74e01680491344b7f0db98c001cb5e\", element=\"d62b1a21-338e-4656-9d74-aa6302966f44\")>,\n",
       " <selenium.webdriver.remote.webelement.WebElement (session=\"5b74e01680491344b7f0db98c001cb5e\", element=\"91c58a37-4652-4c93-ab58-6d6ae4774fa9\")>,\n",
       " <selenium.webdriver.remote.webelement.WebElement (session=\"5b74e01680491344b7f0db98c001cb5e\", element=\"befd0585-1348-4777-9360-17c7e8e4e791\")>,\n",
       " <selenium.webdriver.remote.webelement.WebElement (session=\"5b74e01680491344b7f0db98c001cb5e\", element=\"b4dcdb05-31d6-4a7e-b0a5-41db60e4f6eb\")>,\n",
       " <selenium.webdriver.remote.webelement.WebElement (session=\"5b74e01680491344b7f0db98c001cb5e\", element=\"a564bc8d-5031-406d-b751-cfd3587310fa\")>,\n",
       " <selenium.webdriver.remote.webelement.WebElement (session=\"5b74e01680491344b7f0db98c001cb5e\", element=\"ca3c22a7-5369-4827-b723-cf85909dd8f0\")>,\n",
       " <selenium.webdriver.remote.webelement.WebElement (session=\"5b74e01680491344b7f0db98c001cb5e\", element=\"808cae7b-cbd0-4c21-a461-77dfedfaac66\")>,\n",
       " <selenium.webdriver.remote.webelement.WebElement (session=\"5b74e01680491344b7f0db98c001cb5e\", element=\"7fb8bc08-4988-4603-92a5-334aedd29edc\")>,\n",
       " <selenium.webdriver.remote.webelement.WebElement (session=\"5b74e01680491344b7f0db98c001cb5e\", element=\"b5f9178f-4893-49ee-9910-8614486bffd9\")>,\n",
       " <selenium.webdriver.remote.webelement.WebElement (session=\"5b74e01680491344b7f0db98c001cb5e\", element=\"6e2cc014-2811-400a-96aa-6f462331a70c\")>,\n",
       " <selenium.webdriver.remote.webelement.WebElement (session=\"5b74e01680491344b7f0db98c001cb5e\", element=\"0340349e-a82a-4c66-be05-da468c97e6ab\")>,\n",
       " <selenium.webdriver.remote.webelement.WebElement (session=\"5b74e01680491344b7f0db98c001cb5e\", element=\"8fef272e-2b56-42b5-b646-180c362a309d\")>,\n",
       " <selenium.webdriver.remote.webelement.WebElement (session=\"5b74e01680491344b7f0db98c001cb5e\", element=\"cbc3fec6-174a-4604-9f68-e542207a019d\")>,\n",
       " <selenium.webdriver.remote.webelement.WebElement (session=\"5b74e01680491344b7f0db98c001cb5e\", element=\"72c2a266-38e9-460a-8ef1-056360760694\")>,\n",
       " <selenium.webdriver.remote.webelement.WebElement (session=\"5b74e01680491344b7f0db98c001cb5e\", element=\"330d13f7-999c-459d-af2b-beea324acb7b\")>,\n",
       " <selenium.webdriver.remote.webelement.WebElement (session=\"5b74e01680491344b7f0db98c001cb5e\", element=\"21790b32-8f20-4a27-a86f-375d6f9d3963\")>,\n",
       " <selenium.webdriver.remote.webelement.WebElement (session=\"5b74e01680491344b7f0db98c001cb5e\", element=\"89cac58b-c648-49e1-a47c-51460aa670ba\")>,\n",
       " <selenium.webdriver.remote.webelement.WebElement (session=\"5b74e01680491344b7f0db98c001cb5e\", element=\"3933841b-8d8d-4d90-b8e9-d8e1129b8633\")>,\n",
       " <selenium.webdriver.remote.webelement.WebElement (session=\"5b74e01680491344b7f0db98c001cb5e\", element=\"f39dd207-1443-4ded-a8cb-5dd59430ffc5\")>]"
      ]
     },
     "execution_count": 229,
     "metadata": {},
     "output_type": "execute_result"
    }
   ],
   "source": [
    "description_tags = driver.find_elements_by_xpath(\"//a[@class='IRpwTa']\")\n",
    "description_tags"
   ]
  },
  {
   "cell_type": "code",
   "execution_count": 230,
   "metadata": {},
   "outputs": [
    {
     "data": {
      "text/plain": [
       "['by Lenskart UV Protection Wayfarer Sunglasses (51)',\n",
       " 'Polarized, UV Protection Wayfarer Sunglasses (57)',\n",
       " 'UV Protection Aviator Sunglasses (54)',\n",
       " 'UV Protection Wayfarer Sunglasses (Free Size)',\n",
       " 'UV Protection Aviator Sunglasses (54)',\n",
       " 'UV Protection Round Sunglasses (54)',\n",
       " 'UV Protection Aviator Sunglasses (54)',\n",
       " 'Polarized, UV Protection Aviator Sunglasses (58)',\n",
       " 'UV Protection, Polarized, Mirrored Rectangular Sunglass...',\n",
       " 'UV Protection Wayfarer Sunglasses (Free Size)',\n",
       " 'UV Protection Retro Square Sunglasses (Free Size)',\n",
       " 'Polarized, UV Protection Wayfarer Sunglasses (53)',\n",
       " 'Polarized Round Sunglasses (48)',\n",
       " 'UV Protection Aviator Sunglasses (57)',\n",
       " 'UV Protection, Polarized, Mirrored Rectangular Sunglass...',\n",
       " 'Polarized, UV Protection Rectangular Sunglasses (59)',\n",
       " 'Mirrored, UV Protection Wayfarer Sunglasses (Free Size)',\n",
       " 'Mirrored, UV Protection, Riding Glasses, Others Round S...',\n",
       " 'UV Protection, Night Vision, Riding Glasses Sports Sung...',\n",
       " 'UV Protection Aviator Sunglasses (Free Size)',\n",
       " 'UV Protection Round Sunglasses (Free Size)',\n",
       " 'Gradient, UV Protection Wayfarer Sunglasses (Free Size)',\n",
       " 'UV Protection Round Sunglasses (54)',\n",
       " 'UV Protection Aviator Sunglasses (Free Size)',\n",
       " 'UV Protection, Mirrored Retro Square Sunglasses (53)',\n",
       " 'UV Protection, Mirrored Aviator Sunglasses (58)',\n",
       " 'UV Protection Rectangular Sunglasses (Free Size)',\n",
       " 'by Lenskart UV Protection Rectangular Sunglasses (54)',\n",
       " 'UV Protection Retro Square Sunglasses (Free Size)',\n",
       " 'UV Protection Round Sunglasses (55)',\n",
       " 'UV Protection Oval Sunglasses (56)',\n",
       " 'UV Protection Wayfarer Sunglasses (51)',\n",
       " 'UV Protection Aviator Sunglasses (58)',\n",
       " 'UV Protection Aviator Sunglasses (58)',\n",
       " 'UV Protection, Night Vision, Riding Glasses Aviator Sun...',\n",
       " 'UV Protection Retro Square Sunglasses (54)',\n",
       " 'UV Protection, Riding Glasses Wayfarer Sunglasses (53)',\n",
       " 'UV Protection, Riding Glasses, Others Aviator, Wayfarer...',\n",
       " 'Mirrored, UV Protection Wayfarer Sunglasses (Free Size)',\n",
       " 'UV Protection, Riding Glasses Rectangular Sunglasses (F...']"
      ]
     },
     "execution_count": 230,
     "metadata": {},
     "output_type": "execute_result"
    }
   ],
   "source": [
    "for i in description_tags:\n",
    "    prod_descriptions.append(i.text)\n",
    "prod_descriptions"
   ]
  },
  {
   "cell_type": "code",
   "execution_count": 231,
   "metadata": {},
   "outputs": [
    {
     "data": {
      "text/plain": [
       "[<selenium.webdriver.remote.webelement.WebElement (session=\"5b74e01680491344b7f0db98c001cb5e\", element=\"90965f19-b836-4fd9-829b-8b7c7a24a02f\")>,\n",
       " <selenium.webdriver.remote.webelement.WebElement (session=\"5b74e01680491344b7f0db98c001cb5e\", element=\"0b73ee70-314d-45d1-8737-db63bc9b176d\")>,\n",
       " <selenium.webdriver.remote.webelement.WebElement (session=\"5b74e01680491344b7f0db98c001cb5e\", element=\"074a55bf-1593-41c4-b02a-ca8791fa8853\")>,\n",
       " <selenium.webdriver.remote.webelement.WebElement (session=\"5b74e01680491344b7f0db98c001cb5e\", element=\"7bf9cc21-39e6-4fd1-be19-17299a5d7ad8\")>,\n",
       " <selenium.webdriver.remote.webelement.WebElement (session=\"5b74e01680491344b7f0db98c001cb5e\", element=\"135f7fa2-f325-4821-acd5-352594247fba\")>,\n",
       " <selenium.webdriver.remote.webelement.WebElement (session=\"5b74e01680491344b7f0db98c001cb5e\", element=\"f54d75b0-3592-4a10-b1cc-bee1cedb11bf\")>,\n",
       " <selenium.webdriver.remote.webelement.WebElement (session=\"5b74e01680491344b7f0db98c001cb5e\", element=\"b24b17ee-d35d-4cc5-9218-095507f73b86\")>,\n",
       " <selenium.webdriver.remote.webelement.WebElement (session=\"5b74e01680491344b7f0db98c001cb5e\", element=\"39c22a70-b811-4017-a653-8260320c8247\")>,\n",
       " <selenium.webdriver.remote.webelement.WebElement (session=\"5b74e01680491344b7f0db98c001cb5e\", element=\"5e67ebc6-6f25-4a04-b9d5-1d198d0773d5\")>,\n",
       " <selenium.webdriver.remote.webelement.WebElement (session=\"5b74e01680491344b7f0db98c001cb5e\", element=\"80f08f29-6f2f-40d0-b5e8-4cc11be2ae72\")>,\n",
       " <selenium.webdriver.remote.webelement.WebElement (session=\"5b74e01680491344b7f0db98c001cb5e\", element=\"bbdbff10-33ec-4483-b0e0-19229ca8fdc4\")>,\n",
       " <selenium.webdriver.remote.webelement.WebElement (session=\"5b74e01680491344b7f0db98c001cb5e\", element=\"388e707b-5bb4-4ff9-96b1-63184c463409\")>,\n",
       " <selenium.webdriver.remote.webelement.WebElement (session=\"5b74e01680491344b7f0db98c001cb5e\", element=\"928dd9e9-24af-4f1e-b159-618a21bf9abf\")>,\n",
       " <selenium.webdriver.remote.webelement.WebElement (session=\"5b74e01680491344b7f0db98c001cb5e\", element=\"b49624c6-1dd0-4781-8577-2363a96ca742\")>,\n",
       " <selenium.webdriver.remote.webelement.WebElement (session=\"5b74e01680491344b7f0db98c001cb5e\", element=\"84ac2c27-b647-4922-b8cf-54710912e3ee\")>,\n",
       " <selenium.webdriver.remote.webelement.WebElement (session=\"5b74e01680491344b7f0db98c001cb5e\", element=\"830bd2fb-f148-4a9d-8a4d-3da96b0543ec\")>,\n",
       " <selenium.webdriver.remote.webelement.WebElement (session=\"5b74e01680491344b7f0db98c001cb5e\", element=\"0f1e7d96-4e11-469d-91d9-b842e4f8a22a\")>,\n",
       " <selenium.webdriver.remote.webelement.WebElement (session=\"5b74e01680491344b7f0db98c001cb5e\", element=\"ef2219ac-b1b0-4114-a024-6433790e3d2c\")>,\n",
       " <selenium.webdriver.remote.webelement.WebElement (session=\"5b74e01680491344b7f0db98c001cb5e\", element=\"6e27e9e6-b7a8-4430-9c60-dcd43ec643cf\")>,\n",
       " <selenium.webdriver.remote.webelement.WebElement (session=\"5b74e01680491344b7f0db98c001cb5e\", element=\"d37abae7-b41c-4495-8955-a9bed1281ac0\")>,\n",
       " <selenium.webdriver.remote.webelement.WebElement (session=\"5b74e01680491344b7f0db98c001cb5e\", element=\"a8214991-08f6-4e34-8b38-b525e1787833\")>,\n",
       " <selenium.webdriver.remote.webelement.WebElement (session=\"5b74e01680491344b7f0db98c001cb5e\", element=\"0f3d1897-3f76-4379-989b-d3a25e735589\")>,\n",
       " <selenium.webdriver.remote.webelement.WebElement (session=\"5b74e01680491344b7f0db98c001cb5e\", element=\"e14ec5f1-8b45-4b2b-92e8-3e7a8fc22346\")>,\n",
       " <selenium.webdriver.remote.webelement.WebElement (session=\"5b74e01680491344b7f0db98c001cb5e\", element=\"db545642-e1e3-4068-bd6c-169b0bdc5712\")>,\n",
       " <selenium.webdriver.remote.webelement.WebElement (session=\"5b74e01680491344b7f0db98c001cb5e\", element=\"72613da4-f3fc-4f9c-a7ea-c3cd9d00e060\")>,\n",
       " <selenium.webdriver.remote.webelement.WebElement (session=\"5b74e01680491344b7f0db98c001cb5e\", element=\"d46d2dc0-2551-4ada-87ed-0946eac4f345\")>,\n",
       " <selenium.webdriver.remote.webelement.WebElement (session=\"5b74e01680491344b7f0db98c001cb5e\", element=\"d88d5889-62db-423c-ba88-0b5d42f2f4fc\")>,\n",
       " <selenium.webdriver.remote.webelement.WebElement (session=\"5b74e01680491344b7f0db98c001cb5e\", element=\"b9bf431d-1697-451b-9cc9-68f05130e959\")>,\n",
       " <selenium.webdriver.remote.webelement.WebElement (session=\"5b74e01680491344b7f0db98c001cb5e\", element=\"3764a141-0674-425f-ada9-b760be750740\")>,\n",
       " <selenium.webdriver.remote.webelement.WebElement (session=\"5b74e01680491344b7f0db98c001cb5e\", element=\"f072bae9-84fd-48a9-bd3e-2fc79ac2e263\")>,\n",
       " <selenium.webdriver.remote.webelement.WebElement (session=\"5b74e01680491344b7f0db98c001cb5e\", element=\"bf1bdb68-014c-4686-8995-6d508104af4b\")>,\n",
       " <selenium.webdriver.remote.webelement.WebElement (session=\"5b74e01680491344b7f0db98c001cb5e\", element=\"dc606323-3677-4c14-bf74-99e4d5ab041f\")>,\n",
       " <selenium.webdriver.remote.webelement.WebElement (session=\"5b74e01680491344b7f0db98c001cb5e\", element=\"d07848c9-e8e6-4950-aa38-5f1ce4ba3ede\")>,\n",
       " <selenium.webdriver.remote.webelement.WebElement (session=\"5b74e01680491344b7f0db98c001cb5e\", element=\"2966004f-bcbd-4056-9044-dfa7ad420912\")>,\n",
       " <selenium.webdriver.remote.webelement.WebElement (session=\"5b74e01680491344b7f0db98c001cb5e\", element=\"676e9145-5003-499e-b993-9a64f5059637\")>,\n",
       " <selenium.webdriver.remote.webelement.WebElement (session=\"5b74e01680491344b7f0db98c001cb5e\", element=\"f00526d2-47d5-4f93-983e-01cf2f107d11\")>,\n",
       " <selenium.webdriver.remote.webelement.WebElement (session=\"5b74e01680491344b7f0db98c001cb5e\", element=\"c3a3f472-6e63-401c-b560-51e7b3b940f5\")>,\n",
       " <selenium.webdriver.remote.webelement.WebElement (session=\"5b74e01680491344b7f0db98c001cb5e\", element=\"5fd46646-bc2d-4931-ba53-8053cf051823\")>,\n",
       " <selenium.webdriver.remote.webelement.WebElement (session=\"5b74e01680491344b7f0db98c001cb5e\", element=\"f794d4ff-d543-4ab1-a29a-35aea124d7de\")>,\n",
       " <selenium.webdriver.remote.webelement.WebElement (session=\"5b74e01680491344b7f0db98c001cb5e\", element=\"2e7bd31e-2530-42cd-8b09-ff6760707062\")>]"
      ]
     },
     "execution_count": 231,
     "metadata": {},
     "output_type": "execute_result"
    }
   ],
   "source": [
    "price_tags = driver.find_elements_by_xpath(\"//a[@class='_3bPFwb']/div/div[1]\")\n",
    "price_tags"
   ]
  },
  {
   "cell_type": "code",
   "execution_count": 232,
   "metadata": {},
   "outputs": [
    {
     "data": {
      "text/plain": [
       "['₹999',\n",
       " '₹799',\n",
       " '₹200',\n",
       " '₹467',\n",
       " '₹200',\n",
       " '₹295',\n",
       " '₹200',\n",
       " '₹639',\n",
       " '₹198',\n",
       " '₹194',\n",
       " '₹474',\n",
       " '₹799',\n",
       " '₹199',\n",
       " '₹239',\n",
       " '₹215',\n",
       " '₹559',\n",
       " '₹284',\n",
       " '₹299',\n",
       " '₹216',\n",
       " '₹999',\n",
       " '₹183',\n",
       " '₹404',\n",
       " '₹213',\n",
       " '₹999',\n",
       " '₹319',\n",
       " '₹185',\n",
       " '₹517',\n",
       " '₹639',\n",
       " '₹379',\n",
       " '₹266',\n",
       " '₹224',\n",
       " '₹943',\n",
       " '₹703',\n",
       " '₹319',\n",
       " '₹248',\n",
       " '₹524',\n",
       " '₹209',\n",
       " '₹229',\n",
       " '₹503',\n",
       " '₹426']"
      ]
     },
     "execution_count": 232,
     "metadata": {},
     "output_type": "execute_result"
    }
   ],
   "source": [
    "for i in price_tags:\n",
    "    price_list.append(i.text)\n",
    "price_list"
   ]
  },
  {
   "cell_type": "code",
   "execution_count": 233,
   "metadata": {},
   "outputs": [
    {
     "data": {
      "text/plain": [
       "[<selenium.webdriver.remote.webelement.WebElement (session=\"5b74e01680491344b7f0db98c001cb5e\", element=\"b1726ca1-f1c1-4c19-97ea-fa3f5a22c4ef\")>,\n",
       " <selenium.webdriver.remote.webelement.WebElement (session=\"5b74e01680491344b7f0db98c001cb5e\", element=\"bc295774-4f92-4df9-b80d-a2092a5df439\")>,\n",
       " <selenium.webdriver.remote.webelement.WebElement (session=\"5b74e01680491344b7f0db98c001cb5e\", element=\"ca470718-0ff6-419a-be63-c08e34ab37e2\")>,\n",
       " <selenium.webdriver.remote.webelement.WebElement (session=\"5b74e01680491344b7f0db98c001cb5e\", element=\"e7f4493f-9549-4ff9-a6bf-381bb6bccc89\")>,\n",
       " <selenium.webdriver.remote.webelement.WebElement (session=\"5b74e01680491344b7f0db98c001cb5e\", element=\"5a1fe677-6610-4646-91b4-221b4d01af34\")>,\n",
       " <selenium.webdriver.remote.webelement.WebElement (session=\"5b74e01680491344b7f0db98c001cb5e\", element=\"ec9e666a-d558-49eb-aef6-eeeafc0f3778\")>,\n",
       " <selenium.webdriver.remote.webelement.WebElement (session=\"5b74e01680491344b7f0db98c001cb5e\", element=\"dbe080d7-7b28-49a0-80d8-d581944912cc\")>,\n",
       " <selenium.webdriver.remote.webelement.WebElement (session=\"5b74e01680491344b7f0db98c001cb5e\", element=\"8f5abe81-e525-475e-a5eb-20c325c2e19c\")>,\n",
       " <selenium.webdriver.remote.webelement.WebElement (session=\"5b74e01680491344b7f0db98c001cb5e\", element=\"599ffaa2-edeb-41f3-acee-40a54aea74b3\")>,\n",
       " <selenium.webdriver.remote.webelement.WebElement (session=\"5b74e01680491344b7f0db98c001cb5e\", element=\"de1226f1-8ce7-4432-80ed-437f5163d215\")>,\n",
       " <selenium.webdriver.remote.webelement.WebElement (session=\"5b74e01680491344b7f0db98c001cb5e\", element=\"999b7e93-1cd3-4b8e-918c-32d5ba6a9f53\")>,\n",
       " <selenium.webdriver.remote.webelement.WebElement (session=\"5b74e01680491344b7f0db98c001cb5e\", element=\"846b7002-32ca-4426-b01b-c1bd7cb5d4d3\")>,\n",
       " <selenium.webdriver.remote.webelement.WebElement (session=\"5b74e01680491344b7f0db98c001cb5e\", element=\"f4b4125e-d1f1-4bb3-b409-f0c75513e233\")>,\n",
       " <selenium.webdriver.remote.webelement.WebElement (session=\"5b74e01680491344b7f0db98c001cb5e\", element=\"67521654-6299-4d12-ab4a-4146390edbd5\")>,\n",
       " <selenium.webdriver.remote.webelement.WebElement (session=\"5b74e01680491344b7f0db98c001cb5e\", element=\"1600e455-d811-41a4-ae15-633cab58c37f\")>,\n",
       " <selenium.webdriver.remote.webelement.WebElement (session=\"5b74e01680491344b7f0db98c001cb5e\", element=\"69d9bd44-d7cd-4524-af5d-caf3f19b1cb4\")>,\n",
       " <selenium.webdriver.remote.webelement.WebElement (session=\"5b74e01680491344b7f0db98c001cb5e\", element=\"46fc050b-de9d-461b-9166-c596f13e2600\")>,\n",
       " <selenium.webdriver.remote.webelement.WebElement (session=\"5b74e01680491344b7f0db98c001cb5e\", element=\"a7966aa2-2d0e-47bf-a755-35f4db40094c\")>,\n",
       " <selenium.webdriver.remote.webelement.WebElement (session=\"5b74e01680491344b7f0db98c001cb5e\", element=\"58d2ddd9-98c1-445e-a5ad-731d8d1562a6\")>,\n",
       " <selenium.webdriver.remote.webelement.WebElement (session=\"5b74e01680491344b7f0db98c001cb5e\", element=\"45861fa0-da03-4184-9483-abe433b86962\")>,\n",
       " <selenium.webdriver.remote.webelement.WebElement (session=\"5b74e01680491344b7f0db98c001cb5e\", element=\"5d550edc-8102-44ce-abee-f056589f9286\")>,\n",
       " <selenium.webdriver.remote.webelement.WebElement (session=\"5b74e01680491344b7f0db98c001cb5e\", element=\"67c820c0-8ce1-4d01-94b9-8095a3c782db\")>,\n",
       " <selenium.webdriver.remote.webelement.WebElement (session=\"5b74e01680491344b7f0db98c001cb5e\", element=\"4af40d6a-17af-4e80-9fd8-1179757b29c2\")>,\n",
       " <selenium.webdriver.remote.webelement.WebElement (session=\"5b74e01680491344b7f0db98c001cb5e\", element=\"484008e1-b82c-45ef-81b8-53a97f38b02f\")>,\n",
       " <selenium.webdriver.remote.webelement.WebElement (session=\"5b74e01680491344b7f0db98c001cb5e\", element=\"b6fcd4ec-aa5f-4c01-8db6-80618da58291\")>,\n",
       " <selenium.webdriver.remote.webelement.WebElement (session=\"5b74e01680491344b7f0db98c001cb5e\", element=\"d57560b4-963c-4ded-bc5a-71714821680a\")>,\n",
       " <selenium.webdriver.remote.webelement.WebElement (session=\"5b74e01680491344b7f0db98c001cb5e\", element=\"54786273-a6b4-4eff-a4ba-818274af1371\")>,\n",
       " <selenium.webdriver.remote.webelement.WebElement (session=\"5b74e01680491344b7f0db98c001cb5e\", element=\"14dc2a97-698e-4a00-80a7-33037a2aef80\")>,\n",
       " <selenium.webdriver.remote.webelement.WebElement (session=\"5b74e01680491344b7f0db98c001cb5e\", element=\"dbcd3994-f59c-4895-a057-c22975945509\")>,\n",
       " <selenium.webdriver.remote.webelement.WebElement (session=\"5b74e01680491344b7f0db98c001cb5e\", element=\"6e538d85-12d9-486a-8ae1-a6d840e0fcb8\")>,\n",
       " <selenium.webdriver.remote.webelement.WebElement (session=\"5b74e01680491344b7f0db98c001cb5e\", element=\"2ead8171-2c91-4b24-aa0a-83b044c03c8a\")>,\n",
       " <selenium.webdriver.remote.webelement.WebElement (session=\"5b74e01680491344b7f0db98c001cb5e\", element=\"c96cc178-90a6-408f-8dd3-9967bbfc5c29\")>,\n",
       " <selenium.webdriver.remote.webelement.WebElement (session=\"5b74e01680491344b7f0db98c001cb5e\", element=\"838855e4-0093-4d2b-bbce-86ff7fa0b252\")>,\n",
       " <selenium.webdriver.remote.webelement.WebElement (session=\"5b74e01680491344b7f0db98c001cb5e\", element=\"bb1d5646-17b6-4bf8-835b-5133bf628333\")>,\n",
       " <selenium.webdriver.remote.webelement.WebElement (session=\"5b74e01680491344b7f0db98c001cb5e\", element=\"8456d667-7391-47e4-942a-65369f46f448\")>,\n",
       " <selenium.webdriver.remote.webelement.WebElement (session=\"5b74e01680491344b7f0db98c001cb5e\", element=\"1b526c6d-9c8a-428f-a8db-5542e4167065\")>,\n",
       " <selenium.webdriver.remote.webelement.WebElement (session=\"5b74e01680491344b7f0db98c001cb5e\", element=\"93dfdf87-b529-4323-9a3c-4b234a3369b0\")>,\n",
       " <selenium.webdriver.remote.webelement.WebElement (session=\"5b74e01680491344b7f0db98c001cb5e\", element=\"9c56e7c7-aec4-49d9-aaee-f8f3c24501dc\")>,\n",
       " <selenium.webdriver.remote.webelement.WebElement (session=\"5b74e01680491344b7f0db98c001cb5e\", element=\"fafd3cff-0ea1-4fc9-8748-f6151bfa5733\")>,\n",
       " <selenium.webdriver.remote.webelement.WebElement (session=\"5b74e01680491344b7f0db98c001cb5e\", element=\"4ab958a7-f937-4ade-b4e4-9bcc405aa3ac\")>]"
      ]
     },
     "execution_count": 233,
     "metadata": {},
     "output_type": "execute_result"
    }
   ],
   "source": [
    "discount_tags = driver.find_elements_by_xpath(\"//a[@class='_3bPFwb']/div/div[3]\")\n",
    "discount_tags"
   ]
  },
  {
   "cell_type": "code",
   "execution_count": 234,
   "metadata": {},
   "outputs": [
    {
     "data": {
      "text/plain": [
       "['50% off',\n",
       " '60% off',\n",
       " '87% off',\n",
       " '48% off',\n",
       " '87% off',\n",
       " '88% off',\n",
       " '87% off',\n",
       " '68% off',\n",
       " '88% off',\n",
       " '87% off',\n",
       " '78% off',\n",
       " '60% off',\n",
       " '60% off',\n",
       " '88% off',\n",
       " '78% off',\n",
       " '62% off',\n",
       " '89% off',\n",
       " '81% off',\n",
       " '72% off',\n",
       " '50% off',\n",
       " '81% off',\n",
       " '49% off',\n",
       " '80% off',\n",
       " '50% off',\n",
       " '84% off',\n",
       " '78% off',\n",
       " '35% off',\n",
       " '68% off',\n",
       " '81% off',\n",
       " '86% off',\n",
       " '81% off',\n",
       " '52% off',\n",
       " '45% off',\n",
       " '87% off',\n",
       " '87% off',\n",
       " '73% off',\n",
       " '88% off',\n",
       " '67% off',\n",
       " '49% off',\n",
       " '80% off']"
      ]
     },
     "execution_count": 234,
     "metadata": {},
     "output_type": "execute_result"
    }
   ],
   "source": [
    "for i in discount_tags:\n",
    "    discount_list.append(i.text)\n",
    "discount_list"
   ]
  },
  {
   "cell_type": "code",
   "execution_count": 235,
   "metadata": {},
   "outputs": [
    {
     "data": {
      "text/plain": [
       "40"
      ]
     },
     "execution_count": 235,
     "metadata": {},
     "output_type": "execute_result"
    }
   ],
   "source": [
    "len(discount_list)"
   ]
  },
  {
   "cell_type": "markdown",
   "metadata": {},
   "source": [
    "We observe that only 40 entries are present for all the features."
   ]
  },
  {
   "cell_type": "markdown",
   "metadata": {},
   "source": [
    "We are required to collect data for 100 sunglasses therefore, we use the next button"
   ]
  },
  {
   "cell_type": "code",
   "execution_count": 236,
   "metadata": {},
   "outputs": [],
   "source": [
    "next_btn = driver.find_element_by_xpath(\"//a[@class='_1LKTO3']\")\n",
    "next_btn.click()"
   ]
  },
  {
   "cell_type": "markdown",
   "metadata": {},
   "source": [
    "We find the element of next button and click on it to go to the next page. \n",
    "\n",
    "And find all the data features for this new page"
   ]
  },
  {
   "cell_type": "code",
   "execution_count": 237,
   "metadata": {},
   "outputs": [
    {
     "data": {
      "text/plain": [
       "[<selenium.webdriver.remote.webelement.WebElement (session=\"5b74e01680491344b7f0db98c001cb5e\", element=\"91354d33-a59e-4e8a-b1df-1317e725725a\")>,\n",
       " <selenium.webdriver.remote.webelement.WebElement (session=\"5b74e01680491344b7f0db98c001cb5e\", element=\"37bcc0be-b137-46f6-a1b7-02911fce3f17\")>,\n",
       " <selenium.webdriver.remote.webelement.WebElement (session=\"5b74e01680491344b7f0db98c001cb5e\", element=\"dd8883a9-4036-4e6f-b28f-d7ce4a4a7f67\")>,\n",
       " <selenium.webdriver.remote.webelement.WebElement (session=\"5b74e01680491344b7f0db98c001cb5e\", element=\"affdfe4a-0c27-440e-b479-5ae2e5560a1c\")>,\n",
       " <selenium.webdriver.remote.webelement.WebElement (session=\"5b74e01680491344b7f0db98c001cb5e\", element=\"b97ddf2f-4916-43aa-a489-bb7b9cbe1ff4\")>,\n",
       " <selenium.webdriver.remote.webelement.WebElement (session=\"5b74e01680491344b7f0db98c001cb5e\", element=\"06fc79ed-da45-4e5e-b887-221b35b3e937\")>,\n",
       " <selenium.webdriver.remote.webelement.WebElement (session=\"5b74e01680491344b7f0db98c001cb5e\", element=\"ba3ec6eb-6922-4ab6-ae90-89516dd316af\")>,\n",
       " <selenium.webdriver.remote.webelement.WebElement (session=\"5b74e01680491344b7f0db98c001cb5e\", element=\"481802cb-2a96-47cb-93b5-9caea2990636\")>,\n",
       " <selenium.webdriver.remote.webelement.WebElement (session=\"5b74e01680491344b7f0db98c001cb5e\", element=\"40c96f78-66d2-461a-b9aa-a6fa3e5c43d3\")>,\n",
       " <selenium.webdriver.remote.webelement.WebElement (session=\"5b74e01680491344b7f0db98c001cb5e\", element=\"5c16c381-951d-4e4d-a9eb-73370c4a149f\")>,\n",
       " <selenium.webdriver.remote.webelement.WebElement (session=\"5b74e01680491344b7f0db98c001cb5e\", element=\"17c15cc7-4514-4734-84db-19aeb921f208\")>,\n",
       " <selenium.webdriver.remote.webelement.WebElement (session=\"5b74e01680491344b7f0db98c001cb5e\", element=\"f9cdf471-020f-48c6-910c-0195c0ed9be9\")>,\n",
       " <selenium.webdriver.remote.webelement.WebElement (session=\"5b74e01680491344b7f0db98c001cb5e\", element=\"7496e7a0-2bf4-4e5a-a59a-5ae695e3c9f7\")>,\n",
       " <selenium.webdriver.remote.webelement.WebElement (session=\"5b74e01680491344b7f0db98c001cb5e\", element=\"584e87e2-8282-433f-8d68-81ef122d5f05\")>,\n",
       " <selenium.webdriver.remote.webelement.WebElement (session=\"5b74e01680491344b7f0db98c001cb5e\", element=\"12ae0819-cbe3-461a-b453-d0f199b39738\")>,\n",
       " <selenium.webdriver.remote.webelement.WebElement (session=\"5b74e01680491344b7f0db98c001cb5e\", element=\"30fef526-c3ba-444c-a2b1-0db81ae0ee6d\")>,\n",
       " <selenium.webdriver.remote.webelement.WebElement (session=\"5b74e01680491344b7f0db98c001cb5e\", element=\"a0350523-a0ff-4a1a-bcbd-166e89d522b0\")>,\n",
       " <selenium.webdriver.remote.webelement.WebElement (session=\"5b74e01680491344b7f0db98c001cb5e\", element=\"c59f6523-1ea9-47ba-9343-6cd92848a091\")>,\n",
       " <selenium.webdriver.remote.webelement.WebElement (session=\"5b74e01680491344b7f0db98c001cb5e\", element=\"aebaa46c-df3d-473b-99ed-020ffa2abf59\")>,\n",
       " <selenium.webdriver.remote.webelement.WebElement (session=\"5b74e01680491344b7f0db98c001cb5e\", element=\"fa279021-f9ed-4954-bb22-b33fd9979898\")>,\n",
       " <selenium.webdriver.remote.webelement.WebElement (session=\"5b74e01680491344b7f0db98c001cb5e\", element=\"87b4cb54-e20f-420b-b808-f1111cf84354\")>,\n",
       " <selenium.webdriver.remote.webelement.WebElement (session=\"5b74e01680491344b7f0db98c001cb5e\", element=\"07809669-8903-40f7-a1cc-c31fb255a086\")>,\n",
       " <selenium.webdriver.remote.webelement.WebElement (session=\"5b74e01680491344b7f0db98c001cb5e\", element=\"80945d4d-a41f-478b-9242-5d3e9746ef0b\")>,\n",
       " <selenium.webdriver.remote.webelement.WebElement (session=\"5b74e01680491344b7f0db98c001cb5e\", element=\"15dce7a5-0fd1-4cb3-93df-a4f76a41ae10\")>,\n",
       " <selenium.webdriver.remote.webelement.WebElement (session=\"5b74e01680491344b7f0db98c001cb5e\", element=\"d46430d3-c18a-4a0b-a962-f4543bda7cd3\")>,\n",
       " <selenium.webdriver.remote.webelement.WebElement (session=\"5b74e01680491344b7f0db98c001cb5e\", element=\"dc6a57d8-ba5f-4b63-b990-9f4689291c24\")>,\n",
       " <selenium.webdriver.remote.webelement.WebElement (session=\"5b74e01680491344b7f0db98c001cb5e\", element=\"be0efa2f-573d-4f90-a1db-be156926ff09\")>,\n",
       " <selenium.webdriver.remote.webelement.WebElement (session=\"5b74e01680491344b7f0db98c001cb5e\", element=\"5f55da0a-71ab-4b2c-9f9e-27ccf8d9920b\")>,\n",
       " <selenium.webdriver.remote.webelement.WebElement (session=\"5b74e01680491344b7f0db98c001cb5e\", element=\"db1ea2ff-8910-4614-ac08-ad2b1758b5dd\")>,\n",
       " <selenium.webdriver.remote.webelement.WebElement (session=\"5b74e01680491344b7f0db98c001cb5e\", element=\"f090e955-95dd-4cb6-8693-1ce794306f01\")>,\n",
       " <selenium.webdriver.remote.webelement.WebElement (session=\"5b74e01680491344b7f0db98c001cb5e\", element=\"e98f2d47-a59f-49e2-ad8e-f1cb7db7b9cc\")>,\n",
       " <selenium.webdriver.remote.webelement.WebElement (session=\"5b74e01680491344b7f0db98c001cb5e\", element=\"62205653-9075-4dc2-a004-b8c9bf4c03ce\")>,\n",
       " <selenium.webdriver.remote.webelement.WebElement (session=\"5b74e01680491344b7f0db98c001cb5e\", element=\"f78cae70-f84a-4da7-924f-c48f40b59a8f\")>,\n",
       " <selenium.webdriver.remote.webelement.WebElement (session=\"5b74e01680491344b7f0db98c001cb5e\", element=\"77d4e8c4-17a3-497a-88d9-09be2ebc96ad\")>,\n",
       " <selenium.webdriver.remote.webelement.WebElement (session=\"5b74e01680491344b7f0db98c001cb5e\", element=\"146565e1-d2d1-4153-91b0-8d4cbb6bc5c9\")>,\n",
       " <selenium.webdriver.remote.webelement.WebElement (session=\"5b74e01680491344b7f0db98c001cb5e\", element=\"7abb0c14-ce92-43f0-8e94-4a7103364078\")>,\n",
       " <selenium.webdriver.remote.webelement.WebElement (session=\"5b74e01680491344b7f0db98c001cb5e\", element=\"03e94bd1-c5aa-47c9-a79a-8ac8d2920cc1\")>,\n",
       " <selenium.webdriver.remote.webelement.WebElement (session=\"5b74e01680491344b7f0db98c001cb5e\", element=\"1627b343-66a9-4a28-9569-6a6a4f1747c8\")>,\n",
       " <selenium.webdriver.remote.webelement.WebElement (session=\"5b74e01680491344b7f0db98c001cb5e\", element=\"1d67b5a0-b352-4bd8-b71f-c23248d35388\")>,\n",
       " <selenium.webdriver.remote.webelement.WebElement (session=\"5b74e01680491344b7f0db98c001cb5e\", element=\"a31eef96-404b-4425-a17c-ea468ecfd1e9\")>]"
      ]
     },
     "execution_count": 237,
     "metadata": {},
     "output_type": "execute_result"
    }
   ],
   "source": [
    "brand_tags = driver.find_elements_by_xpath(\"//div[@class='_2WkVRV']\")\n",
    "brand_tags"
   ]
  },
  {
   "cell_type": "code",
   "execution_count": 238,
   "metadata": {
    "scrolled": true
   },
   "outputs": [
    {
     "data": {
      "text/plain": [
       "['VINCENT CHASE',\n",
       " 'VINCENT CHASE',\n",
       " 'PIRASO',\n",
       " 'Fastrack',\n",
       " 'PIRASO',\n",
       " 'Elligator',\n",
       " 'PIRASO',\n",
       " 'ROYAL SON',\n",
       " 'SHAAH COLLECTIONS',\n",
       " 'Silver Kartz',\n",
       " 'ROZZETTA CRAFT',\n",
       " 'VINCENT CHASE',\n",
       " 'Rich Club',\n",
       " 'GANSTA',\n",
       " 'SHAAH COLLECTIONS',\n",
       " 'ROYAL SON',\n",
       " 'kingsunglasses',\n",
       " 'New Specs',\n",
       " 'NuVew',\n",
       " 'VINCENT CHASE',\n",
       " 'Singco India',\n",
       " 'Fastrack',\n",
       " 'kingsunglasses',\n",
       " 'VINCENT CHASE',\n",
       " 'PHENOMENAL',\n",
       " 'NuVew',\n",
       " 'Fastrack',\n",
       " 'VINCENT CHASE',\n",
       " 'PHENOMENAL',\n",
       " 'Elligator',\n",
       " 'Silver Kartz',\n",
       " 'VINCENT CHASE',\n",
       " 'Fastrack',\n",
       " 'PIRASO',\n",
       " 'GANSTA',\n",
       " 'ROYAL SON',\n",
       " 'GANSTA',\n",
       " 'Singco India',\n",
       " 'Fastrack',\n",
       " 'ROZZETTA CRAFT',\n",
       " 'SUNBEE',\n",
       " 'ROYAL SON',\n",
       " 'SHAAH COLLECTIONS',\n",
       " 'VINCENT CHASE',\n",
       " 'Fastrack',\n",
       " 'hipe',\n",
       " 'ROYAL SON',\n",
       " 'VINCENT CHASE',\n",
       " 'ROZZETTA CRAFT',\n",
       " 'Fastrack',\n",
       " 'Fastrack',\n",
       " 'VINCENT CHASE',\n",
       " 'Elligator',\n",
       " 'ROZZETTA CRAFT',\n",
       " 'GANSTA',\n",
       " 'ROYAL SON',\n",
       " 'NuVew',\n",
       " 'kingsunglasses',\n",
       " 'New Specs',\n",
       " 'Villain',\n",
       " 'povty',\n",
       " 'GANSTA',\n",
       " 'NuVew',\n",
       " 'VINCENT CHASE',\n",
       " 'elegante',\n",
       " 'Singco India',\n",
       " 'Mi',\n",
       " 'ROYAL SON',\n",
       " 'Silver Kartz',\n",
       " 'GANSTA',\n",
       " 'Fastrack',\n",
       " 'AISLIN',\n",
       " 'agera',\n",
       " 'kingsunglasses',\n",
       " 'AISLIN',\n",
       " 'ROYAL SON',\n",
       " 'GANSTA',\n",
       " 'Fastrack',\n",
       " 'NuVew',\n",
       " 'AISLIN']"
      ]
     },
     "execution_count": 238,
     "metadata": {},
     "output_type": "execute_result"
    }
   ],
   "source": [
    "for i in brand_tags:\n",
    "    brand_list.append(i.text)\n",
    "brand_list"
   ]
  },
  {
   "cell_type": "code",
   "execution_count": 239,
   "metadata": {},
   "outputs": [
    {
     "data": {
      "text/plain": [
       "[<selenium.webdriver.remote.webelement.WebElement (session=\"5b74e01680491344b7f0db98c001cb5e\", element=\"0a3320b9-17e7-487c-9460-91aa19b23d9e\")>,\n",
       " <selenium.webdriver.remote.webelement.WebElement (session=\"5b74e01680491344b7f0db98c001cb5e\", element=\"432f4405-3d03-431c-8734-29cb9e58f343\")>,\n",
       " <selenium.webdriver.remote.webelement.WebElement (session=\"5b74e01680491344b7f0db98c001cb5e\", element=\"0a9e0e6f-9e71-4010-bea0-aa1e438056f1\")>,\n",
       " <selenium.webdriver.remote.webelement.WebElement (session=\"5b74e01680491344b7f0db98c001cb5e\", element=\"6f2827b8-8522-484f-a7c6-55ee1a34e13c\")>,\n",
       " <selenium.webdriver.remote.webelement.WebElement (session=\"5b74e01680491344b7f0db98c001cb5e\", element=\"cab5d16e-793b-418a-9460-7e1495e42d59\")>,\n",
       " <selenium.webdriver.remote.webelement.WebElement (session=\"5b74e01680491344b7f0db98c001cb5e\", element=\"511dbf11-3c93-4fef-894e-610d09c07a3b\")>,\n",
       " <selenium.webdriver.remote.webelement.WebElement (session=\"5b74e01680491344b7f0db98c001cb5e\", element=\"5ec03b47-a77e-452d-8df8-8d4e9b0720d2\")>,\n",
       " <selenium.webdriver.remote.webelement.WebElement (session=\"5b74e01680491344b7f0db98c001cb5e\", element=\"fd126f94-5dc4-4140-83b7-72835c8d72af\")>,\n",
       " <selenium.webdriver.remote.webelement.WebElement (session=\"5b74e01680491344b7f0db98c001cb5e\", element=\"c6f33190-67e4-497a-9688-09146964b733\")>,\n",
       " <selenium.webdriver.remote.webelement.WebElement (session=\"5b74e01680491344b7f0db98c001cb5e\", element=\"8f58f2ae-5ce6-4068-a055-77f03fcb468a\")>,\n",
       " <selenium.webdriver.remote.webelement.WebElement (session=\"5b74e01680491344b7f0db98c001cb5e\", element=\"aed62981-299a-4c9f-a020-7821c48adb14\")>,\n",
       " <selenium.webdriver.remote.webelement.WebElement (session=\"5b74e01680491344b7f0db98c001cb5e\", element=\"e5738bf4-0d6b-4cfb-af17-76da5c1273da\")>,\n",
       " <selenium.webdriver.remote.webelement.WebElement (session=\"5b74e01680491344b7f0db98c001cb5e\", element=\"1e754c57-a93c-4c50-b079-521be2f59152\")>,\n",
       " <selenium.webdriver.remote.webelement.WebElement (session=\"5b74e01680491344b7f0db98c001cb5e\", element=\"0c729fa5-05f8-4684-a75d-01b6d603621d\")>,\n",
       " <selenium.webdriver.remote.webelement.WebElement (session=\"5b74e01680491344b7f0db98c001cb5e\", element=\"c2a0c4a2-90f5-46ef-b999-ada28f25dcee\")>,\n",
       " <selenium.webdriver.remote.webelement.WebElement (session=\"5b74e01680491344b7f0db98c001cb5e\", element=\"07f22d51-03b1-4113-95e0-f4f1350eddfd\")>,\n",
       " <selenium.webdriver.remote.webelement.WebElement (session=\"5b74e01680491344b7f0db98c001cb5e\", element=\"4711dc64-802f-4af9-9e77-7a864dd84f25\")>,\n",
       " <selenium.webdriver.remote.webelement.WebElement (session=\"5b74e01680491344b7f0db98c001cb5e\", element=\"0a569579-84b6-49d0-b6e3-cc2fb1612a58\")>,\n",
       " <selenium.webdriver.remote.webelement.WebElement (session=\"5b74e01680491344b7f0db98c001cb5e\", element=\"1e2850c9-ea82-4f59-ae8a-8f89b0575524\")>,\n",
       " <selenium.webdriver.remote.webelement.WebElement (session=\"5b74e01680491344b7f0db98c001cb5e\", element=\"f1dc8fd1-e286-41f8-ab7b-a5426b9e449f\")>,\n",
       " <selenium.webdriver.remote.webelement.WebElement (session=\"5b74e01680491344b7f0db98c001cb5e\", element=\"98a66019-7545-4af5-8241-fb3f4e6433e5\")>,\n",
       " <selenium.webdriver.remote.webelement.WebElement (session=\"5b74e01680491344b7f0db98c001cb5e\", element=\"0d8649b8-49ac-427e-8a03-5a5fc4ed1a15\")>,\n",
       " <selenium.webdriver.remote.webelement.WebElement (session=\"5b74e01680491344b7f0db98c001cb5e\", element=\"0059af88-dae1-4668-bace-ad20fc030f29\")>,\n",
       " <selenium.webdriver.remote.webelement.WebElement (session=\"5b74e01680491344b7f0db98c001cb5e\", element=\"e1a48a6e-9cde-418e-9562-d4b18262d85a\")>,\n",
       " <selenium.webdriver.remote.webelement.WebElement (session=\"5b74e01680491344b7f0db98c001cb5e\", element=\"efdf3b8b-440a-4160-a99a-83f779457660\")>,\n",
       " <selenium.webdriver.remote.webelement.WebElement (session=\"5b74e01680491344b7f0db98c001cb5e\", element=\"886692e9-ff7e-450b-9527-8c5f9399d328\")>,\n",
       " <selenium.webdriver.remote.webelement.WebElement (session=\"5b74e01680491344b7f0db98c001cb5e\", element=\"8e7a652e-5ebd-4d8c-8a35-fc366e759642\")>,\n",
       " <selenium.webdriver.remote.webelement.WebElement (session=\"5b74e01680491344b7f0db98c001cb5e\", element=\"ea2e5986-2466-43f9-8ca9-650696f0c15b\")>,\n",
       " <selenium.webdriver.remote.webelement.WebElement (session=\"5b74e01680491344b7f0db98c001cb5e\", element=\"4e8fe268-5abe-4b47-9730-b8ab1fef9ff7\")>,\n",
       " <selenium.webdriver.remote.webelement.WebElement (session=\"5b74e01680491344b7f0db98c001cb5e\", element=\"033e7fb4-e25e-4e46-95f6-acc77a818dd4\")>,\n",
       " <selenium.webdriver.remote.webelement.WebElement (session=\"5b74e01680491344b7f0db98c001cb5e\", element=\"45ebe23e-48d1-4aa3-a589-06201e293154\")>,\n",
       " <selenium.webdriver.remote.webelement.WebElement (session=\"5b74e01680491344b7f0db98c001cb5e\", element=\"d0192272-7cd1-4dcf-b0bc-c3f04b008cfb\")>,\n",
       " <selenium.webdriver.remote.webelement.WebElement (session=\"5b74e01680491344b7f0db98c001cb5e\", element=\"455d8a3a-72f4-4565-a676-eb1866eff807\")>,\n",
       " <selenium.webdriver.remote.webelement.WebElement (session=\"5b74e01680491344b7f0db98c001cb5e\", element=\"2437c3fd-c755-4b04-b448-fb071b86d93f\")>,\n",
       " <selenium.webdriver.remote.webelement.WebElement (session=\"5b74e01680491344b7f0db98c001cb5e\", element=\"f423bdec-6412-411e-ad83-afa9ddec352a\")>,\n",
       " <selenium.webdriver.remote.webelement.WebElement (session=\"5b74e01680491344b7f0db98c001cb5e\", element=\"0ccc6e9a-8c2e-4ff5-80ec-75d84059ce64\")>,\n",
       " <selenium.webdriver.remote.webelement.WebElement (session=\"5b74e01680491344b7f0db98c001cb5e\", element=\"d37e11b7-c530-435e-98a8-c480dce1efff\")>,\n",
       " <selenium.webdriver.remote.webelement.WebElement (session=\"5b74e01680491344b7f0db98c001cb5e\", element=\"77eab02a-a2df-4846-ad12-493830abd381\")>,\n",
       " <selenium.webdriver.remote.webelement.WebElement (session=\"5b74e01680491344b7f0db98c001cb5e\", element=\"24802a6e-3267-4e17-8d6e-9357e657ed5f\")>,\n",
       " <selenium.webdriver.remote.webelement.WebElement (session=\"5b74e01680491344b7f0db98c001cb5e\", element=\"8a0773c1-c8b2-4b0f-a22a-fc3759c4a1c3\")>]"
      ]
     },
     "execution_count": 239,
     "metadata": {},
     "output_type": "execute_result"
    }
   ],
   "source": [
    "description_tags = driver.find_elements_by_xpath(\"//a[@class='IRpwTa']\")\n",
    "description_tags"
   ]
  },
  {
   "cell_type": "code",
   "execution_count": 240,
   "metadata": {},
   "outputs": [
    {
     "data": {
      "text/plain": [
       "['by Lenskart UV Protection Wayfarer Sunglasses (51)',\n",
       " 'Polarized, UV Protection Wayfarer Sunglasses (57)',\n",
       " 'UV Protection Aviator Sunglasses (54)',\n",
       " 'UV Protection Wayfarer Sunglasses (Free Size)',\n",
       " 'UV Protection Aviator Sunglasses (54)',\n",
       " 'UV Protection Round Sunglasses (54)',\n",
       " 'UV Protection Aviator Sunglasses (54)',\n",
       " 'Polarized, UV Protection Aviator Sunglasses (58)',\n",
       " 'UV Protection, Polarized, Mirrored Rectangular Sunglass...',\n",
       " 'UV Protection Wayfarer Sunglasses (Free Size)',\n",
       " 'UV Protection Retro Square Sunglasses (Free Size)',\n",
       " 'Polarized, UV Protection Wayfarer Sunglasses (53)',\n",
       " 'Polarized Round Sunglasses (48)',\n",
       " 'UV Protection Aviator Sunglasses (57)',\n",
       " 'UV Protection, Polarized, Mirrored Rectangular Sunglass...',\n",
       " 'Polarized, UV Protection Rectangular Sunglasses (59)',\n",
       " 'Mirrored, UV Protection Wayfarer Sunglasses (Free Size)',\n",
       " 'Mirrored, UV Protection, Riding Glasses, Others Round S...',\n",
       " 'UV Protection, Night Vision, Riding Glasses Sports Sung...',\n",
       " 'UV Protection Aviator Sunglasses (Free Size)',\n",
       " 'UV Protection Round Sunglasses (Free Size)',\n",
       " 'Gradient, UV Protection Wayfarer Sunglasses (Free Size)',\n",
       " 'UV Protection Round Sunglasses (54)',\n",
       " 'UV Protection Aviator Sunglasses (Free Size)',\n",
       " 'UV Protection, Mirrored Retro Square Sunglasses (53)',\n",
       " 'UV Protection, Mirrored Aviator Sunglasses (58)',\n",
       " 'UV Protection Rectangular Sunglasses (Free Size)',\n",
       " 'by Lenskart UV Protection Rectangular Sunglasses (54)',\n",
       " 'UV Protection Retro Square Sunglasses (Free Size)',\n",
       " 'UV Protection Round Sunglasses (55)',\n",
       " 'UV Protection Oval Sunglasses (56)',\n",
       " 'UV Protection Wayfarer Sunglasses (51)',\n",
       " 'UV Protection Aviator Sunglasses (58)',\n",
       " 'UV Protection Aviator Sunglasses (58)',\n",
       " 'UV Protection, Night Vision, Riding Glasses Aviator Sun...',\n",
       " 'UV Protection Retro Square Sunglasses (54)',\n",
       " 'UV Protection, Riding Glasses Wayfarer Sunglasses (53)',\n",
       " 'UV Protection, Riding Glasses, Others Aviator, Wayfarer...',\n",
       " 'Mirrored, UV Protection Wayfarer Sunglasses (Free Size)',\n",
       " 'UV Protection, Riding Glasses Rectangular Sunglasses (F...',\n",
       " 'UV Protection, Polarized, Mirrored Wayfarer Sunglasses ...',\n",
       " 'Polarized, UV Protection Aviator Sunglasses (58)',\n",
       " 'UV Protection Round Sunglasses (Free Size)',\n",
       " 'UV Protection Aviator Sunglasses (53)',\n",
       " 'UV Protection Aviator Sunglasses (Free Size)',\n",
       " 'Mirrored, UV Protection, Gradient Round Sunglasses (55)',\n",
       " 'Mirrored Aviator Sunglasses (55)',\n",
       " 'Polarized, UV Protection Aviator Sunglasses (58)',\n",
       " 'UV Protection, Gradient Rectangular Sunglasses (Free Si...',\n",
       " 'UV Protection Wayfarer Sunglasses (Free Size)',\n",
       " 'Gradient, UV Protection Wayfarer Sunglasses (Free Size)',\n",
       " 'Polarized, UV Protection Wayfarer Sunglasses (57)',\n",
       " 'UV Protection Round Sunglasses (53)',\n",
       " 'UV Protection, Gradient Rectangular Sunglasses (Free Si...',\n",
       " 'UV Protection Aviator Sunglasses (57)',\n",
       " 'UV Protection, Gradient Butterfly Sunglasses (52)',\n",
       " 'UV Protection, Mirrored Sports Sunglasses (62)',\n",
       " 'Mirrored, UV Protection Wayfarer, Wayfarer, Wayfarer, W...',\n",
       " 'UV Protection Rectangular Sunglasses (Free Size)',\n",
       " 'Others Wayfarer Sunglasses (Free Size)',\n",
       " 'UV Protection Wayfarer Sunglasses (Free Size)',\n",
       " 'UV Protection, Mirrored Wayfarer Sunglasses (53)',\n",
       " 'UV Protection Sports Sunglasses (62)',\n",
       " 'Polarized, UV Protection Wayfarer Sunglasses (53)',\n",
       " 'Mirrored Round Sunglasses (Free Size)',\n",
       " 'UV Protection Aviator Sunglasses (Free Size)',\n",
       " 'Polarized Aviator Sunglasses (Free Size)',\n",
       " 'Polarized, UV Protection Aviator Sunglasses (58)',\n",
       " 'UV Protection Aviator Sunglasses (88)',\n",
       " 'UV Protection Rectangular Sunglasses (60)',\n",
       " 'UV Protection Shield Sunglasses (Free Size)',\n",
       " 'Toughened Glass Lens, UV Protection Wayfarer, Rectangul...',\n",
       " 'Gradient Aviator Sunglasses (55)',\n",
       " 'Mirrored, UV Protection Wayfarer Sunglasses (Free Size)',\n",
       " 'UV Protection, Gradient Butterfly, Retro Square Sunglas...',\n",
       " 'UV Protection, Gradient Butterfly Sunglasses (55)',\n",
       " 'UV Protection, Gradient Wayfarer Sunglasses (53)',\n",
       " 'UV Protection Wayfarer Sunglasses (Free Size)',\n",
       " 'UV Protection, Night Vision, Riding Glasses Sports Sung...',\n",
       " 'UV Protection, Gradient Wayfarer, Round Sunglasses (63)']"
      ]
     },
     "execution_count": 240,
     "metadata": {},
     "output_type": "execute_result"
    }
   ],
   "source": [
    "for i in description_tags:\n",
    "    prod_descriptions.append(i.text)\n",
    "prod_descriptions"
   ]
  },
  {
   "cell_type": "code",
   "execution_count": 241,
   "metadata": {},
   "outputs": [
    {
     "data": {
      "text/plain": [
       "[<selenium.webdriver.remote.webelement.WebElement (session=\"5b74e01680491344b7f0db98c001cb5e\", element=\"82bd1361-1ea1-460d-840f-f2d14230b79a\")>,\n",
       " <selenium.webdriver.remote.webelement.WebElement (session=\"5b74e01680491344b7f0db98c001cb5e\", element=\"70e50213-41e6-4270-94a4-42affe30e706\")>,\n",
       " <selenium.webdriver.remote.webelement.WebElement (session=\"5b74e01680491344b7f0db98c001cb5e\", element=\"9fd75ce1-8c46-49e0-a0c8-3d8402882b63\")>,\n",
       " <selenium.webdriver.remote.webelement.WebElement (session=\"5b74e01680491344b7f0db98c001cb5e\", element=\"ead99014-d0a2-4204-87d7-ffcaf10f7277\")>,\n",
       " <selenium.webdriver.remote.webelement.WebElement (session=\"5b74e01680491344b7f0db98c001cb5e\", element=\"f28cf111-e840-4f9d-8b37-4464f593c355\")>,\n",
       " <selenium.webdriver.remote.webelement.WebElement (session=\"5b74e01680491344b7f0db98c001cb5e\", element=\"6471c7b6-25ed-464d-a75b-305bcd88c520\")>,\n",
       " <selenium.webdriver.remote.webelement.WebElement (session=\"5b74e01680491344b7f0db98c001cb5e\", element=\"875f380d-6ab4-4391-90ce-cd54b2b58721\")>,\n",
       " <selenium.webdriver.remote.webelement.WebElement (session=\"5b74e01680491344b7f0db98c001cb5e\", element=\"b74a5d2a-5d54-45f0-9c00-a135d871d170\")>,\n",
       " <selenium.webdriver.remote.webelement.WebElement (session=\"5b74e01680491344b7f0db98c001cb5e\", element=\"97815041-6952-41e6-b8f0-3494195587c5\")>,\n",
       " <selenium.webdriver.remote.webelement.WebElement (session=\"5b74e01680491344b7f0db98c001cb5e\", element=\"0d64b5ae-22b4-4a7c-b841-3e599f6aa73c\")>,\n",
       " <selenium.webdriver.remote.webelement.WebElement (session=\"5b74e01680491344b7f0db98c001cb5e\", element=\"e75139eb-7c74-49c8-b19e-9fb22f66209f\")>,\n",
       " <selenium.webdriver.remote.webelement.WebElement (session=\"5b74e01680491344b7f0db98c001cb5e\", element=\"23a8ed79-55da-4078-ba41-0a35c37b0a66\")>,\n",
       " <selenium.webdriver.remote.webelement.WebElement (session=\"5b74e01680491344b7f0db98c001cb5e\", element=\"82d7360f-2ca5-4189-90ba-10c292043873\")>,\n",
       " <selenium.webdriver.remote.webelement.WebElement (session=\"5b74e01680491344b7f0db98c001cb5e\", element=\"884834df-a787-4e8c-abe4-676f5857b392\")>,\n",
       " <selenium.webdriver.remote.webelement.WebElement (session=\"5b74e01680491344b7f0db98c001cb5e\", element=\"46df6cdb-2ec6-4c9c-8e91-eba4f6b8f3ae\")>,\n",
       " <selenium.webdriver.remote.webelement.WebElement (session=\"5b74e01680491344b7f0db98c001cb5e\", element=\"14b0d44b-e3a5-485b-8afb-6a39db392675\")>,\n",
       " <selenium.webdriver.remote.webelement.WebElement (session=\"5b74e01680491344b7f0db98c001cb5e\", element=\"daa088d0-6c25-4e50-8f78-9949c4263b55\")>,\n",
       " <selenium.webdriver.remote.webelement.WebElement (session=\"5b74e01680491344b7f0db98c001cb5e\", element=\"7a494dab-04f6-4ddd-93f6-4590a8b334cd\")>,\n",
       " <selenium.webdriver.remote.webelement.WebElement (session=\"5b74e01680491344b7f0db98c001cb5e\", element=\"68830a46-760e-4b7a-9e1d-1ab860b6ff0c\")>,\n",
       " <selenium.webdriver.remote.webelement.WebElement (session=\"5b74e01680491344b7f0db98c001cb5e\", element=\"e94d86aa-3ce1-45bc-b7ad-92aea6771cd8\")>,\n",
       " <selenium.webdriver.remote.webelement.WebElement (session=\"5b74e01680491344b7f0db98c001cb5e\", element=\"ad820a49-a672-4f89-b57a-f600b845b089\")>,\n",
       " <selenium.webdriver.remote.webelement.WebElement (session=\"5b74e01680491344b7f0db98c001cb5e\", element=\"3d832621-5591-444b-ab55-51e0a040d19e\")>,\n",
       " <selenium.webdriver.remote.webelement.WebElement (session=\"5b74e01680491344b7f0db98c001cb5e\", element=\"43d37df6-97e6-4021-aead-a5288b98f791\")>,\n",
       " <selenium.webdriver.remote.webelement.WebElement (session=\"5b74e01680491344b7f0db98c001cb5e\", element=\"f54ca6cc-1b7b-4b06-8723-c4df17d8bd18\")>,\n",
       " <selenium.webdriver.remote.webelement.WebElement (session=\"5b74e01680491344b7f0db98c001cb5e\", element=\"986022c2-1840-4cc4-9516-034f13fff830\")>,\n",
       " <selenium.webdriver.remote.webelement.WebElement (session=\"5b74e01680491344b7f0db98c001cb5e\", element=\"839536b5-9826-4005-9acb-beb88fff93f6\")>,\n",
       " <selenium.webdriver.remote.webelement.WebElement (session=\"5b74e01680491344b7f0db98c001cb5e\", element=\"6e7ae1df-ed75-4684-a95b-9f1906f6b763\")>,\n",
       " <selenium.webdriver.remote.webelement.WebElement (session=\"5b74e01680491344b7f0db98c001cb5e\", element=\"33a5d09b-5acb-4c95-8dd2-68bf0303e9f5\")>,\n",
       " <selenium.webdriver.remote.webelement.WebElement (session=\"5b74e01680491344b7f0db98c001cb5e\", element=\"5c7c0d2e-1176-47f5-80e3-96f192b8c6a6\")>,\n",
       " <selenium.webdriver.remote.webelement.WebElement (session=\"5b74e01680491344b7f0db98c001cb5e\", element=\"9d9a9656-eb8e-4f52-8f40-b3050354f20c\")>,\n",
       " <selenium.webdriver.remote.webelement.WebElement (session=\"5b74e01680491344b7f0db98c001cb5e\", element=\"acf502aa-a1b5-4195-8439-81b912b83d99\")>,\n",
       " <selenium.webdriver.remote.webelement.WebElement (session=\"5b74e01680491344b7f0db98c001cb5e\", element=\"78416b48-3de1-41ac-bb57-e6ccd377e17f\")>,\n",
       " <selenium.webdriver.remote.webelement.WebElement (session=\"5b74e01680491344b7f0db98c001cb5e\", element=\"fcf4565b-cc88-432c-804a-a3ef4274a465\")>,\n",
       " <selenium.webdriver.remote.webelement.WebElement (session=\"5b74e01680491344b7f0db98c001cb5e\", element=\"2793b67a-dd4e-463a-ac9a-df4a480c695f\")>,\n",
       " <selenium.webdriver.remote.webelement.WebElement (session=\"5b74e01680491344b7f0db98c001cb5e\", element=\"c712858d-5256-4260-b510-88ad42789ea2\")>,\n",
       " <selenium.webdriver.remote.webelement.WebElement (session=\"5b74e01680491344b7f0db98c001cb5e\", element=\"203814bf-fd3a-4d8f-a2f5-f02744fb8fbe\")>,\n",
       " <selenium.webdriver.remote.webelement.WebElement (session=\"5b74e01680491344b7f0db98c001cb5e\", element=\"f10c4015-59b6-43ee-b1ee-4facc3c60d89\")>,\n",
       " <selenium.webdriver.remote.webelement.WebElement (session=\"5b74e01680491344b7f0db98c001cb5e\", element=\"466057a7-c3fd-4da7-8109-e19bf4b5ab5f\")>,\n",
       " <selenium.webdriver.remote.webelement.WebElement (session=\"5b74e01680491344b7f0db98c001cb5e\", element=\"ac788ecb-db26-46ac-a8b6-9e74704c1879\")>,\n",
       " <selenium.webdriver.remote.webelement.WebElement (session=\"5b74e01680491344b7f0db98c001cb5e\", element=\"78b70499-cd4a-42b1-b316-7c1ddf9ce2dc\")>]"
      ]
     },
     "execution_count": 241,
     "metadata": {},
     "output_type": "execute_result"
    }
   ],
   "source": [
    "price_tags = driver.find_elements_by_xpath(\"//a[@class='_3bPFwb']/div/div[1]\")\n",
    "price_tags"
   ]
  },
  {
   "cell_type": "code",
   "execution_count": 242,
   "metadata": {},
   "outputs": [
    {
     "data": {
      "text/plain": [
       "['₹999',\n",
       " '₹799',\n",
       " '₹200',\n",
       " '₹467',\n",
       " '₹200',\n",
       " '₹295',\n",
       " '₹200',\n",
       " '₹639',\n",
       " '₹198',\n",
       " '₹194',\n",
       " '₹474',\n",
       " '₹799',\n",
       " '₹199',\n",
       " '₹239',\n",
       " '₹215',\n",
       " '₹559',\n",
       " '₹284',\n",
       " '₹299',\n",
       " '₹216',\n",
       " '₹999',\n",
       " '₹183',\n",
       " '₹404',\n",
       " '₹213',\n",
       " '₹999',\n",
       " '₹319',\n",
       " '₹185',\n",
       " '₹517',\n",
       " '₹639',\n",
       " '₹379',\n",
       " '₹266',\n",
       " '₹224',\n",
       " '₹943',\n",
       " '₹703',\n",
       " '₹319',\n",
       " '₹248',\n",
       " '₹524',\n",
       " '₹209',\n",
       " '₹229',\n",
       " '₹503',\n",
       " '₹426',\n",
       " '₹265',\n",
       " '₹599',\n",
       " '₹331',\n",
       " '₹999',\n",
       " '₹458',\n",
       " '₹210',\n",
       " '₹319',\n",
       " '₹799',\n",
       " '₹399',\n",
       " '₹458',\n",
       " '₹413',\n",
       " '₹949',\n",
       " '₹233',\n",
       " '₹383',\n",
       " '₹207',\n",
       " '₹524',\n",
       " '₹273',\n",
       " '₹284',\n",
       " '₹217',\n",
       " '₹599',\n",
       " '₹349',\n",
       " '₹199',\n",
       " '₹291',\n",
       " '₹1,226',\n",
       " '₹359',\n",
       " '₹362',\n",
       " '₹899',\n",
       " '₹599',\n",
       " '₹201',\n",
       " '₹186',\n",
       " '₹548',\n",
       " '₹716',\n",
       " '₹199',\n",
       " '₹284',\n",
       " '₹459',\n",
       " '₹524',\n",
       " '₹279',\n",
       " '₹458',\n",
       " '₹226',\n",
       " '₹550']"
      ]
     },
     "execution_count": 242,
     "metadata": {},
     "output_type": "execute_result"
    }
   ],
   "source": [
    "for i in price_tags:\n",
    "    price_list.append(i.text)\n",
    "price_list"
   ]
  },
  {
   "cell_type": "code",
   "execution_count": 243,
   "metadata": {},
   "outputs": [
    {
     "data": {
      "text/plain": [
       "[<selenium.webdriver.remote.webelement.WebElement (session=\"5b74e01680491344b7f0db98c001cb5e\", element=\"0a0ab0a9-4971-4158-9737-015f0e9a726e\")>,\n",
       " <selenium.webdriver.remote.webelement.WebElement (session=\"5b74e01680491344b7f0db98c001cb5e\", element=\"bee5972e-18f4-40db-ade3-955841d1467e\")>,\n",
       " <selenium.webdriver.remote.webelement.WebElement (session=\"5b74e01680491344b7f0db98c001cb5e\", element=\"6614b606-8d9a-4229-a6e1-8df3790caf19\")>,\n",
       " <selenium.webdriver.remote.webelement.WebElement (session=\"5b74e01680491344b7f0db98c001cb5e\", element=\"2219b0b6-5392-4098-92ae-012cb0c5dfb6\")>,\n",
       " <selenium.webdriver.remote.webelement.WebElement (session=\"5b74e01680491344b7f0db98c001cb5e\", element=\"93c27c94-2dc2-4561-89db-8e558b574b20\")>,\n",
       " <selenium.webdriver.remote.webelement.WebElement (session=\"5b74e01680491344b7f0db98c001cb5e\", element=\"89185b18-c803-49d5-becc-49e3e368f349\")>,\n",
       " <selenium.webdriver.remote.webelement.WebElement (session=\"5b74e01680491344b7f0db98c001cb5e\", element=\"b8572c7e-e7be-428d-a346-71624e5c2aa7\")>,\n",
       " <selenium.webdriver.remote.webelement.WebElement (session=\"5b74e01680491344b7f0db98c001cb5e\", element=\"c89c7f15-ef07-4ef8-9728-fe07ee0a0d66\")>,\n",
       " <selenium.webdriver.remote.webelement.WebElement (session=\"5b74e01680491344b7f0db98c001cb5e\", element=\"fccf74bb-ec61-4e7c-b2fc-2d975661f636\")>,\n",
       " <selenium.webdriver.remote.webelement.WebElement (session=\"5b74e01680491344b7f0db98c001cb5e\", element=\"69ad544f-aa27-4ad9-b2ca-a03342f9ce35\")>,\n",
       " <selenium.webdriver.remote.webelement.WebElement (session=\"5b74e01680491344b7f0db98c001cb5e\", element=\"71d3eb86-5da6-4a1d-8e0e-362692d7e1d5\")>,\n",
       " <selenium.webdriver.remote.webelement.WebElement (session=\"5b74e01680491344b7f0db98c001cb5e\", element=\"e545e078-9e57-4f92-a6b9-5e3b919e6e69\")>,\n",
       " <selenium.webdriver.remote.webelement.WebElement (session=\"5b74e01680491344b7f0db98c001cb5e\", element=\"34636618-8621-4433-8448-759d85954b0f\")>,\n",
       " <selenium.webdriver.remote.webelement.WebElement (session=\"5b74e01680491344b7f0db98c001cb5e\", element=\"ef7f0013-e2f4-4bd5-a8df-8e60a824d6e5\")>,\n",
       " <selenium.webdriver.remote.webelement.WebElement (session=\"5b74e01680491344b7f0db98c001cb5e\", element=\"36f4bbe0-c40a-4a9d-b293-9b3851757618\")>,\n",
       " <selenium.webdriver.remote.webelement.WebElement (session=\"5b74e01680491344b7f0db98c001cb5e\", element=\"fc9182dd-e969-4fdc-87f7-674258486bdd\")>,\n",
       " <selenium.webdriver.remote.webelement.WebElement (session=\"5b74e01680491344b7f0db98c001cb5e\", element=\"bf4a2fee-bea7-4206-85ab-5993504c6d7f\")>,\n",
       " <selenium.webdriver.remote.webelement.WebElement (session=\"5b74e01680491344b7f0db98c001cb5e\", element=\"8a3326f5-b5f1-4a45-8821-04062e0efecb\")>,\n",
       " <selenium.webdriver.remote.webelement.WebElement (session=\"5b74e01680491344b7f0db98c001cb5e\", element=\"fd9dfaa3-e10f-4c99-b1ce-2a2d9c666d52\")>,\n",
       " <selenium.webdriver.remote.webelement.WebElement (session=\"5b74e01680491344b7f0db98c001cb5e\", element=\"1389adfd-b0fb-429d-9609-d96c97570cb2\")>,\n",
       " <selenium.webdriver.remote.webelement.WebElement (session=\"5b74e01680491344b7f0db98c001cb5e\", element=\"892d0742-2dd4-4d69-90f3-4c737a623a9a\")>,\n",
       " <selenium.webdriver.remote.webelement.WebElement (session=\"5b74e01680491344b7f0db98c001cb5e\", element=\"7de23025-4386-4eb1-94e3-b7680b239c82\")>,\n",
       " <selenium.webdriver.remote.webelement.WebElement (session=\"5b74e01680491344b7f0db98c001cb5e\", element=\"9f499af3-500e-44db-abfe-6b85ee86f002\")>,\n",
       " <selenium.webdriver.remote.webelement.WebElement (session=\"5b74e01680491344b7f0db98c001cb5e\", element=\"d2015fb8-ed22-4c00-8481-0a87cdda86d3\")>,\n",
       " <selenium.webdriver.remote.webelement.WebElement (session=\"5b74e01680491344b7f0db98c001cb5e\", element=\"b31a9c4e-9b70-488a-a70b-71f2c1d44f46\")>,\n",
       " <selenium.webdriver.remote.webelement.WebElement (session=\"5b74e01680491344b7f0db98c001cb5e\", element=\"5c4967d3-36ba-4e71-aed1-53f78352c803\")>,\n",
       " <selenium.webdriver.remote.webelement.WebElement (session=\"5b74e01680491344b7f0db98c001cb5e\", element=\"b2b740be-b321-4e32-bc8c-d5d1d6295f4e\")>,\n",
       " <selenium.webdriver.remote.webelement.WebElement (session=\"5b74e01680491344b7f0db98c001cb5e\", element=\"07ebeb1f-08d1-4131-8b59-36ce04c9addf\")>,\n",
       " <selenium.webdriver.remote.webelement.WebElement (session=\"5b74e01680491344b7f0db98c001cb5e\", element=\"a5ceadc5-9b2c-418c-a2d9-04386b1a96a5\")>,\n",
       " <selenium.webdriver.remote.webelement.WebElement (session=\"5b74e01680491344b7f0db98c001cb5e\", element=\"b84c8691-f5ee-453e-9e02-91098950f708\")>,\n",
       " <selenium.webdriver.remote.webelement.WebElement (session=\"5b74e01680491344b7f0db98c001cb5e\", element=\"e1d26cf6-c685-45eb-bef3-7dce2932b3b6\")>,\n",
       " <selenium.webdriver.remote.webelement.WebElement (session=\"5b74e01680491344b7f0db98c001cb5e\", element=\"756c4197-7ad2-4749-83c1-3a5233e4c5b0\")>,\n",
       " <selenium.webdriver.remote.webelement.WebElement (session=\"5b74e01680491344b7f0db98c001cb5e\", element=\"d6b9c8c3-42bf-421c-baed-1bc55a71e30b\")>,\n",
       " <selenium.webdriver.remote.webelement.WebElement (session=\"5b74e01680491344b7f0db98c001cb5e\", element=\"21233c20-0a46-413c-a474-d9e55e9f34d2\")>,\n",
       " <selenium.webdriver.remote.webelement.WebElement (session=\"5b74e01680491344b7f0db98c001cb5e\", element=\"018d5b6c-1fc9-4731-8b69-f09bfd92a586\")>,\n",
       " <selenium.webdriver.remote.webelement.WebElement (session=\"5b74e01680491344b7f0db98c001cb5e\", element=\"aec06dd2-2cfc-4034-9ae9-896a765be801\")>,\n",
       " <selenium.webdriver.remote.webelement.WebElement (session=\"5b74e01680491344b7f0db98c001cb5e\", element=\"72d23977-31ec-48c9-91e8-1df9d8e2a04d\")>,\n",
       " <selenium.webdriver.remote.webelement.WebElement (session=\"5b74e01680491344b7f0db98c001cb5e\", element=\"abab2b8a-94e6-41df-9fc5-e893a7fd65ca\")>,\n",
       " <selenium.webdriver.remote.webelement.WebElement (session=\"5b74e01680491344b7f0db98c001cb5e\", element=\"11fc80c0-718f-4af7-92cc-0a53c11c538e\")>,\n",
       " <selenium.webdriver.remote.webelement.WebElement (session=\"5b74e01680491344b7f0db98c001cb5e\", element=\"3cf397a5-bd7e-4eb7-a375-df49b01512b8\")>]"
      ]
     },
     "execution_count": 243,
     "metadata": {},
     "output_type": "execute_result"
    }
   ],
   "source": [
    "discount_tags = driver.find_elements_by_xpath(\"//a[@class='_3bPFwb']/div/div[3]\")\n",
    "discount_tags"
   ]
  },
  {
   "cell_type": "code",
   "execution_count": 244,
   "metadata": {},
   "outputs": [
    {
     "data": {
      "text/plain": [
       "['50% off',\n",
       " '60% off',\n",
       " '87% off',\n",
       " '48% off',\n",
       " '87% off',\n",
       " '88% off',\n",
       " '87% off',\n",
       " '68% off',\n",
       " '88% off',\n",
       " '87% off',\n",
       " '78% off',\n",
       " '60% off',\n",
       " '60% off',\n",
       " '88% off',\n",
       " '78% off',\n",
       " '62% off',\n",
       " '89% off',\n",
       " '81% off',\n",
       " '72% off',\n",
       " '50% off',\n",
       " '81% off',\n",
       " '49% off',\n",
       " '80% off',\n",
       " '50% off',\n",
       " '84% off',\n",
       " '78% off',\n",
       " '35% off',\n",
       " '68% off',\n",
       " '81% off',\n",
       " '86% off',\n",
       " '81% off',\n",
       " '52% off',\n",
       " '45% off',\n",
       " '87% off',\n",
       " '87% off',\n",
       " '73% off',\n",
       " '88% off',\n",
       " '67% off',\n",
       " '49% off',\n",
       " '80% off',\n",
       " '73% off',\n",
       " '70% off',\n",
       " '80% off',\n",
       " '50% off',\n",
       " '49% off',\n",
       " '85% off',\n",
       " '78% off',\n",
       " '68% off',\n",
       " '82% off',\n",
       " '49% off',\n",
       " '48% off',\n",
       " '52% off',\n",
       " '90% off',\n",
       " '80% off',\n",
       " '80% off',\n",
       " '73% off',\n",
       " '78% off',\n",
       " '81% off',\n",
       " '88% off',\n",
       " '40% off',\n",
       " '65% off',\n",
       " '80% off',\n",
       " '76% off',\n",
       " '50% off',\n",
       " '82% off',\n",
       " '69% off',\n",
       " '25% off',\n",
       " '70% off',\n",
       " '83% off',\n",
       " '85% off',\n",
       " '39% off',\n",
       " '80% off',\n",
       " '82% off',\n",
       " '89% off',\n",
       " '69% off',\n",
       " '73% off',\n",
       " '86% off',\n",
       " '49% off',\n",
       " '71% off',\n",
       " '82% off']"
      ]
     },
     "execution_count": 244,
     "metadata": {},
     "output_type": "execute_result"
    }
   ],
   "source": [
    "for i in discount_tags:\n",
    "    discount_list.append(i.text)\n",
    "discount_list"
   ]
  },
  {
   "cell_type": "code",
   "execution_count": 245,
   "metadata": {},
   "outputs": [
    {
     "name": "stdout",
     "output_type": "stream",
     "text": [
      "80 80 80 80\n"
     ]
    }
   ],
   "source": [
    "print(len(brand_list),len(prod_descriptions),len(price_list),len(discount_list))"
   ]
  },
  {
   "cell_type": "markdown",
   "metadata": {},
   "source": [
    "We can see we have 20 entries in our lists. We go to the next page and collect the remaining 20 entries using the same process as above"
   ]
  },
  {
   "cell_type": "code",
   "execution_count": 246,
   "metadata": {},
   "outputs": [],
   "source": [
    "next_btn = driver.find_element_by_xpath(\"//nav[@class='yFHi8N']/a[12]\")\n",
    "next_btn.click()"
   ]
  },
  {
   "cell_type": "markdown",
   "metadata": {},
   "source": [
    "We find the element for next button and we click on it."
   ]
  },
  {
   "cell_type": "markdown",
   "metadata": {},
   "source": [
    "Now we append the 20 value for data features since we already have 80 entries"
   ]
  },
  {
   "cell_type": "code",
   "execution_count": 247,
   "metadata": {},
   "outputs": [
    {
     "data": {
      "text/plain": [
       "[<selenium.webdriver.remote.webelement.WebElement (session=\"5b74e01680491344b7f0db98c001cb5e\", element=\"0308ec59-c8b3-421d-9929-e499c8402d1b\")>,\n",
       " <selenium.webdriver.remote.webelement.WebElement (session=\"5b74e01680491344b7f0db98c001cb5e\", element=\"10b93308-0e3c-412b-8df9-f08e57bb6869\")>,\n",
       " <selenium.webdriver.remote.webelement.WebElement (session=\"5b74e01680491344b7f0db98c001cb5e\", element=\"fbdba36c-327a-4363-88ed-ebdd3c02a2b9\")>,\n",
       " <selenium.webdriver.remote.webelement.WebElement (session=\"5b74e01680491344b7f0db98c001cb5e\", element=\"d05b30df-a45b-43fd-8e25-dff0570df89d\")>,\n",
       " <selenium.webdriver.remote.webelement.WebElement (session=\"5b74e01680491344b7f0db98c001cb5e\", element=\"314f99fb-a114-4b87-86cd-44cdda1bd6bf\")>,\n",
       " <selenium.webdriver.remote.webelement.WebElement (session=\"5b74e01680491344b7f0db98c001cb5e\", element=\"46eb6b8c-c400-44c9-8b6f-37a3daed5f90\")>,\n",
       " <selenium.webdriver.remote.webelement.WebElement (session=\"5b74e01680491344b7f0db98c001cb5e\", element=\"dd1ae484-afd8-4c45-9c77-f21eea47eff3\")>,\n",
       " <selenium.webdriver.remote.webelement.WebElement (session=\"5b74e01680491344b7f0db98c001cb5e\", element=\"5f8bcdce-f494-4b11-b16b-d4dc85c5f86c\")>,\n",
       " <selenium.webdriver.remote.webelement.WebElement (session=\"5b74e01680491344b7f0db98c001cb5e\", element=\"0a5aef6c-24aa-46af-bb5e-96e9640ff7a5\")>,\n",
       " <selenium.webdriver.remote.webelement.WebElement (session=\"5b74e01680491344b7f0db98c001cb5e\", element=\"be554ba3-2f0d-485d-812c-d64abbabb375\")>,\n",
       " <selenium.webdriver.remote.webelement.WebElement (session=\"5b74e01680491344b7f0db98c001cb5e\", element=\"8876c5d9-7e39-4ee7-95fb-847ee29d6f82\")>,\n",
       " <selenium.webdriver.remote.webelement.WebElement (session=\"5b74e01680491344b7f0db98c001cb5e\", element=\"cbc29fbd-869e-4f82-a74f-b421a1f6c25b\")>,\n",
       " <selenium.webdriver.remote.webelement.WebElement (session=\"5b74e01680491344b7f0db98c001cb5e\", element=\"b7483c30-3ed7-44b0-8195-8e3fe9477d78\")>,\n",
       " <selenium.webdriver.remote.webelement.WebElement (session=\"5b74e01680491344b7f0db98c001cb5e\", element=\"3218f370-9054-4425-a0aa-71c6cc6b6aa6\")>,\n",
       " <selenium.webdriver.remote.webelement.WebElement (session=\"5b74e01680491344b7f0db98c001cb5e\", element=\"75250597-698f-4e98-bc50-40acca78e0d2\")>,\n",
       " <selenium.webdriver.remote.webelement.WebElement (session=\"5b74e01680491344b7f0db98c001cb5e\", element=\"4bca224b-706e-41f3-939d-6bc1d0da0096\")>,\n",
       " <selenium.webdriver.remote.webelement.WebElement (session=\"5b74e01680491344b7f0db98c001cb5e\", element=\"e7cd122a-6e2b-4c0b-8d45-036097d44846\")>,\n",
       " <selenium.webdriver.remote.webelement.WebElement (session=\"5b74e01680491344b7f0db98c001cb5e\", element=\"b05ce37d-762c-4507-aec1-a0b25f135250\")>,\n",
       " <selenium.webdriver.remote.webelement.WebElement (session=\"5b74e01680491344b7f0db98c001cb5e\", element=\"070cc31b-c1c4-43eb-b329-23db1f55dfc7\")>,\n",
       " <selenium.webdriver.remote.webelement.WebElement (session=\"5b74e01680491344b7f0db98c001cb5e\", element=\"13d36fb4-dd97-4904-aa7f-dfc06087e988\")>]"
      ]
     },
     "execution_count": 247,
     "metadata": {},
     "output_type": "execute_result"
    }
   ],
   "source": [
    "brand_tags = driver.find_elements_by_xpath(\"//div[@class='_2WkVRV']\")\n",
    "brand_tags = brand_tags[:20]\n",
    "brand_tags"
   ]
  },
  {
   "cell_type": "code",
   "execution_count": 248,
   "metadata": {},
   "outputs": [
    {
     "data": {
      "text/plain": [
       "['VINCENT CHASE',\n",
       " 'VINCENT CHASE',\n",
       " 'PIRASO',\n",
       " 'Fastrack',\n",
       " 'PIRASO',\n",
       " 'Elligator',\n",
       " 'PIRASO',\n",
       " 'ROYAL SON',\n",
       " 'SHAAH COLLECTIONS',\n",
       " 'Silver Kartz',\n",
       " 'ROZZETTA CRAFT',\n",
       " 'VINCENT CHASE',\n",
       " 'Rich Club',\n",
       " 'GANSTA',\n",
       " 'SHAAH COLLECTIONS',\n",
       " 'ROYAL SON',\n",
       " 'kingsunglasses',\n",
       " 'New Specs',\n",
       " 'NuVew',\n",
       " 'VINCENT CHASE',\n",
       " 'Singco India',\n",
       " 'Fastrack',\n",
       " 'kingsunglasses',\n",
       " 'VINCENT CHASE',\n",
       " 'PHENOMENAL',\n",
       " 'NuVew',\n",
       " 'Fastrack',\n",
       " 'VINCENT CHASE',\n",
       " 'PHENOMENAL',\n",
       " 'Elligator',\n",
       " 'Silver Kartz',\n",
       " 'VINCENT CHASE',\n",
       " 'Fastrack',\n",
       " 'PIRASO',\n",
       " 'GANSTA',\n",
       " 'ROYAL SON',\n",
       " 'GANSTA',\n",
       " 'Singco India',\n",
       " 'Fastrack',\n",
       " 'ROZZETTA CRAFT',\n",
       " 'SUNBEE',\n",
       " 'ROYAL SON',\n",
       " 'SHAAH COLLECTIONS',\n",
       " 'VINCENT CHASE',\n",
       " 'Fastrack',\n",
       " 'hipe',\n",
       " 'ROYAL SON',\n",
       " 'VINCENT CHASE',\n",
       " 'ROZZETTA CRAFT',\n",
       " 'Fastrack',\n",
       " 'Fastrack',\n",
       " 'VINCENT CHASE',\n",
       " 'Elligator',\n",
       " 'ROZZETTA CRAFT',\n",
       " 'GANSTA',\n",
       " 'ROYAL SON',\n",
       " 'NuVew',\n",
       " 'kingsunglasses',\n",
       " 'New Specs',\n",
       " 'Villain',\n",
       " 'povty',\n",
       " 'GANSTA',\n",
       " 'NuVew',\n",
       " 'VINCENT CHASE',\n",
       " 'elegante',\n",
       " 'Singco India',\n",
       " 'Mi',\n",
       " 'ROYAL SON',\n",
       " 'Silver Kartz',\n",
       " 'GANSTA',\n",
       " 'Fastrack',\n",
       " 'AISLIN',\n",
       " 'agera',\n",
       " 'kingsunglasses',\n",
       " 'AISLIN',\n",
       " 'ROYAL SON',\n",
       " 'GANSTA',\n",
       " 'Fastrack',\n",
       " 'NuVew',\n",
       " 'AISLIN',\n",
       " 'Fastrack',\n",
       " 'PIRASO',\n",
       " 'IDEE',\n",
       " 'ROYAL SON',\n",
       " 'hipe',\n",
       " 'ROZZETTA CRAFT',\n",
       " 'ROZZETTA CRAFT',\n",
       " 'ROYAL SON',\n",
       " 'Fastrack',\n",
       " 'kingsunglasses',\n",
       " 'ROZZETTA CRAFT',\n",
       " 'ROYAL SON',\n",
       " 'IDEE',\n",
       " 'IDEE',\n",
       " 'Fastrack',\n",
       " 'ROYAL SON',\n",
       " 'ROYAL SON',\n",
       " 'HIPPON',\n",
       " 'ROYAL SON',\n",
       " 'elegante']"
      ]
     },
     "execution_count": 248,
     "metadata": {},
     "output_type": "execute_result"
    }
   ],
   "source": [
    "for i in brand_tags:\n",
    "    brand_list.append(i.text)\n",
    "brand_list"
   ]
  },
  {
   "cell_type": "code",
   "execution_count": 249,
   "metadata": {},
   "outputs": [
    {
     "data": {
      "text/plain": [
       "[<selenium.webdriver.remote.webelement.WebElement (session=\"5b74e01680491344b7f0db98c001cb5e\", element=\"ee259ee7-2cc5-4e7f-a987-a422ab0522ed\")>,\n",
       " <selenium.webdriver.remote.webelement.WebElement (session=\"5b74e01680491344b7f0db98c001cb5e\", element=\"b244739f-3602-4d85-8780-9a8c3e264c14\")>,\n",
       " <selenium.webdriver.remote.webelement.WebElement (session=\"5b74e01680491344b7f0db98c001cb5e\", element=\"02c58f37-426a-4e94-9192-8a48ff3eb999\")>,\n",
       " <selenium.webdriver.remote.webelement.WebElement (session=\"5b74e01680491344b7f0db98c001cb5e\", element=\"293f649c-d358-44e1-b753-9ea337d4b08b\")>,\n",
       " <selenium.webdriver.remote.webelement.WebElement (session=\"5b74e01680491344b7f0db98c001cb5e\", element=\"99193566-c281-45c8-8faa-c265ac247b29\")>,\n",
       " <selenium.webdriver.remote.webelement.WebElement (session=\"5b74e01680491344b7f0db98c001cb5e\", element=\"3b522e97-f890-43f2-9d1b-cab3d0375ee4\")>,\n",
       " <selenium.webdriver.remote.webelement.WebElement (session=\"5b74e01680491344b7f0db98c001cb5e\", element=\"c1d2e569-2c06-4571-ba77-f1543c6b145b\")>,\n",
       " <selenium.webdriver.remote.webelement.WebElement (session=\"5b74e01680491344b7f0db98c001cb5e\", element=\"4d9853af-fba5-4688-92bd-ea27d76564d5\")>,\n",
       " <selenium.webdriver.remote.webelement.WebElement (session=\"5b74e01680491344b7f0db98c001cb5e\", element=\"879ab77f-2d8a-473e-97ae-f3e3b5fb40c3\")>,\n",
       " <selenium.webdriver.remote.webelement.WebElement (session=\"5b74e01680491344b7f0db98c001cb5e\", element=\"c16df72e-7f20-4a63-8e71-8ad6008f4556\")>,\n",
       " <selenium.webdriver.remote.webelement.WebElement (session=\"5b74e01680491344b7f0db98c001cb5e\", element=\"b063dd65-2847-40d6-ab2e-4a4f68f1ff43\")>,\n",
       " <selenium.webdriver.remote.webelement.WebElement (session=\"5b74e01680491344b7f0db98c001cb5e\", element=\"1b547585-d0d0-456c-bb2c-412b01edf087\")>,\n",
       " <selenium.webdriver.remote.webelement.WebElement (session=\"5b74e01680491344b7f0db98c001cb5e\", element=\"66b049a9-9088-45f9-a671-02d394ab7dad\")>,\n",
       " <selenium.webdriver.remote.webelement.WebElement (session=\"5b74e01680491344b7f0db98c001cb5e\", element=\"9561a0aa-a528-46da-bd31-d8840e3b7703\")>,\n",
       " <selenium.webdriver.remote.webelement.WebElement (session=\"5b74e01680491344b7f0db98c001cb5e\", element=\"edaf816b-94e0-4e05-acb1-2a314456bb2e\")>,\n",
       " <selenium.webdriver.remote.webelement.WebElement (session=\"5b74e01680491344b7f0db98c001cb5e\", element=\"f885ed95-0c57-4e81-b7f0-dec934ce7b8f\")>,\n",
       " <selenium.webdriver.remote.webelement.WebElement (session=\"5b74e01680491344b7f0db98c001cb5e\", element=\"a5379e96-8aeb-477a-8816-6da04ba20464\")>,\n",
       " <selenium.webdriver.remote.webelement.WebElement (session=\"5b74e01680491344b7f0db98c001cb5e\", element=\"81c51989-73ae-4ee3-a82b-24451fe11a10\")>,\n",
       " <selenium.webdriver.remote.webelement.WebElement (session=\"5b74e01680491344b7f0db98c001cb5e\", element=\"f6ba960b-5ee2-4acf-914d-41bdb4a74c8d\")>,\n",
       " <selenium.webdriver.remote.webelement.WebElement (session=\"5b74e01680491344b7f0db98c001cb5e\", element=\"99e62f5b-6d26-4ef5-92b5-ca7dbd70113f\")>]"
      ]
     },
     "execution_count": 249,
     "metadata": {},
     "output_type": "execute_result"
    }
   ],
   "source": [
    "description_tags = driver.find_elements_by_xpath(\"//a[@class='IRpwTa']\")\n",
    "description_tags = description_tags[:20]\n",
    "description_tags"
   ]
  },
  {
   "cell_type": "code",
   "execution_count": 250,
   "metadata": {},
   "outputs": [
    {
     "data": {
      "text/plain": [
       "['by Lenskart UV Protection Wayfarer Sunglasses (51)',\n",
       " 'Polarized, UV Protection Wayfarer Sunglasses (57)',\n",
       " 'UV Protection Aviator Sunglasses (54)',\n",
       " 'UV Protection Wayfarer Sunglasses (Free Size)',\n",
       " 'UV Protection Aviator Sunglasses (54)',\n",
       " 'UV Protection Round Sunglasses (54)',\n",
       " 'UV Protection Aviator Sunglasses (54)',\n",
       " 'Polarized, UV Protection Aviator Sunglasses (58)',\n",
       " 'UV Protection, Polarized, Mirrored Rectangular Sunglass...',\n",
       " 'UV Protection Wayfarer Sunglasses (Free Size)',\n",
       " 'UV Protection Retro Square Sunglasses (Free Size)',\n",
       " 'Polarized, UV Protection Wayfarer Sunglasses (53)',\n",
       " 'Polarized Round Sunglasses (48)',\n",
       " 'UV Protection Aviator Sunglasses (57)',\n",
       " 'UV Protection, Polarized, Mirrored Rectangular Sunglass...',\n",
       " 'Polarized, UV Protection Rectangular Sunglasses (59)',\n",
       " 'Mirrored, UV Protection Wayfarer Sunglasses (Free Size)',\n",
       " 'Mirrored, UV Protection, Riding Glasses, Others Round S...',\n",
       " 'UV Protection, Night Vision, Riding Glasses Sports Sung...',\n",
       " 'UV Protection Aviator Sunglasses (Free Size)',\n",
       " 'UV Protection Round Sunglasses (Free Size)',\n",
       " 'Gradient, UV Protection Wayfarer Sunglasses (Free Size)',\n",
       " 'UV Protection Round Sunglasses (54)',\n",
       " 'UV Protection Aviator Sunglasses (Free Size)',\n",
       " 'UV Protection, Mirrored Retro Square Sunglasses (53)',\n",
       " 'UV Protection, Mirrored Aviator Sunglasses (58)',\n",
       " 'UV Protection Rectangular Sunglasses (Free Size)',\n",
       " 'by Lenskart UV Protection Rectangular Sunglasses (54)',\n",
       " 'UV Protection Retro Square Sunglasses (Free Size)',\n",
       " 'UV Protection Round Sunglasses (55)',\n",
       " 'UV Protection Oval Sunglasses (56)',\n",
       " 'UV Protection Wayfarer Sunglasses (51)',\n",
       " 'UV Protection Aviator Sunglasses (58)',\n",
       " 'UV Protection Aviator Sunglasses (58)',\n",
       " 'UV Protection, Night Vision, Riding Glasses Aviator Sun...',\n",
       " 'UV Protection Retro Square Sunglasses (54)',\n",
       " 'UV Protection, Riding Glasses Wayfarer Sunglasses (53)',\n",
       " 'UV Protection, Riding Glasses, Others Aviator, Wayfarer...',\n",
       " 'Mirrored, UV Protection Wayfarer Sunglasses (Free Size)',\n",
       " 'UV Protection, Riding Glasses Rectangular Sunglasses (F...',\n",
       " 'UV Protection, Polarized, Mirrored Wayfarer Sunglasses ...',\n",
       " 'Polarized, UV Protection Aviator Sunglasses (58)',\n",
       " 'UV Protection Round Sunglasses (Free Size)',\n",
       " 'UV Protection Aviator Sunglasses (53)',\n",
       " 'UV Protection Aviator Sunglasses (Free Size)',\n",
       " 'Mirrored, UV Protection, Gradient Round Sunglasses (55)',\n",
       " 'Mirrored Aviator Sunglasses (55)',\n",
       " 'Polarized, UV Protection Aviator Sunglasses (58)',\n",
       " 'UV Protection, Gradient Rectangular Sunglasses (Free Si...',\n",
       " 'UV Protection Wayfarer Sunglasses (Free Size)',\n",
       " 'Gradient, UV Protection Wayfarer Sunglasses (Free Size)',\n",
       " 'Polarized, UV Protection Wayfarer Sunglasses (57)',\n",
       " 'UV Protection Round Sunglasses (53)',\n",
       " 'UV Protection, Gradient Rectangular Sunglasses (Free Si...',\n",
       " 'UV Protection Aviator Sunglasses (57)',\n",
       " 'UV Protection, Gradient Butterfly Sunglasses (52)',\n",
       " 'UV Protection, Mirrored Sports Sunglasses (62)',\n",
       " 'Mirrored, UV Protection Wayfarer, Wayfarer, Wayfarer, W...',\n",
       " 'UV Protection Rectangular Sunglasses (Free Size)',\n",
       " 'Others Wayfarer Sunglasses (Free Size)',\n",
       " 'UV Protection Wayfarer Sunglasses (Free Size)',\n",
       " 'UV Protection, Mirrored Wayfarer Sunglasses (53)',\n",
       " 'UV Protection Sports Sunglasses (62)',\n",
       " 'Polarized, UV Protection Wayfarer Sunglasses (53)',\n",
       " 'Mirrored Round Sunglasses (Free Size)',\n",
       " 'UV Protection Aviator Sunglasses (Free Size)',\n",
       " 'Polarized Aviator Sunglasses (Free Size)',\n",
       " 'Polarized, UV Protection Aviator Sunglasses (58)',\n",
       " 'UV Protection Aviator Sunglasses (88)',\n",
       " 'UV Protection Rectangular Sunglasses (60)',\n",
       " 'UV Protection Shield Sunglasses (Free Size)',\n",
       " 'Toughened Glass Lens, UV Protection Wayfarer, Rectangul...',\n",
       " 'Gradient Aviator Sunglasses (55)',\n",
       " 'Mirrored, UV Protection Wayfarer Sunglasses (Free Size)',\n",
       " 'UV Protection, Gradient Butterfly, Retro Square Sunglas...',\n",
       " 'UV Protection, Gradient Butterfly Sunglasses (55)',\n",
       " 'UV Protection, Gradient Wayfarer Sunglasses (53)',\n",
       " 'UV Protection Wayfarer Sunglasses (Free Size)',\n",
       " 'UV Protection, Night Vision, Riding Glasses Sports Sung...',\n",
       " 'UV Protection, Gradient Wayfarer, Round Sunglasses (63)',\n",
       " 'Gradient, UV Protection Wayfarer Sunglasses (Free Size)',\n",
       " 'UV Protection Wayfarer Sunglasses (32)',\n",
       " 'UV Protection Wayfarer Sunglasses (55)',\n",
       " 'Polarized, UV Protection Round Sunglasses (53)',\n",
       " 'UV Protection, Gradient, Mirrored, Riding Glasses Aviat...',\n",
       " 'UV Protection, Gradient Retro Square Sunglasses (Free S...',\n",
       " 'UV Protection Retro Square Sunglasses (Free Size)',\n",
       " 'UV Protection, Polarized Wrap-around Sunglasses (52)',\n",
       " 'Gradient, UV Protection Wayfarer Sunglasses (Free Size)',\n",
       " 'UV Protection, Mirrored Round Sunglasses (54)',\n",
       " 'UV Protection, Gradient Round Sunglasses (Free Size)',\n",
       " 'UV Protection, Polarized Aviator Sunglasses (60)',\n",
       " 'UV Protection Aviator Sunglasses (58)',\n",
       " 'UV Protection Wayfarer Sunglasses (18)',\n",
       " 'UV Protection Wayfarer Sunglasses (55)',\n",
       " 'UV Protection, Gradient Butterfly Sunglasses (52)',\n",
       " 'UV Protection Rectangular Sunglasses (58)',\n",
       " 'UV Protection Wayfarer Sunglasses (55)',\n",
       " 'UV Protection, Gradient Wayfarer Sunglasses (55)',\n",
       " 'UV Protection Oval Sunglasses (Free Size)']"
      ]
     },
     "execution_count": 250,
     "metadata": {},
     "output_type": "execute_result"
    }
   ],
   "source": [
    "for i in description_tags:\n",
    "    prod_descriptions.append(i.text)\n",
    "prod_descriptions"
   ]
  },
  {
   "cell_type": "code",
   "execution_count": 251,
   "metadata": {},
   "outputs": [
    {
     "data": {
      "text/plain": [
       "[<selenium.webdriver.remote.webelement.WebElement (session=\"5b74e01680491344b7f0db98c001cb5e\", element=\"d34098e4-394c-4201-9461-6402f95518c9\")>,\n",
       " <selenium.webdriver.remote.webelement.WebElement (session=\"5b74e01680491344b7f0db98c001cb5e\", element=\"85047776-8d02-4af1-b96d-d855d3f8840b\")>,\n",
       " <selenium.webdriver.remote.webelement.WebElement (session=\"5b74e01680491344b7f0db98c001cb5e\", element=\"fe7378d9-388c-4d5d-85fb-2f2ddb94aa6d\")>,\n",
       " <selenium.webdriver.remote.webelement.WebElement (session=\"5b74e01680491344b7f0db98c001cb5e\", element=\"c2f86e06-845f-45c1-acfd-841797b07c3a\")>,\n",
       " <selenium.webdriver.remote.webelement.WebElement (session=\"5b74e01680491344b7f0db98c001cb5e\", element=\"db814078-d54c-4a6a-b8fa-dd4c0af3c057\")>,\n",
       " <selenium.webdriver.remote.webelement.WebElement (session=\"5b74e01680491344b7f0db98c001cb5e\", element=\"0dad3a8d-a9b0-4a25-a763-3c6354c375ca\")>,\n",
       " <selenium.webdriver.remote.webelement.WebElement (session=\"5b74e01680491344b7f0db98c001cb5e\", element=\"d2ec3c9d-10ff-43c3-8f2c-7b6cf5fd7161\")>,\n",
       " <selenium.webdriver.remote.webelement.WebElement (session=\"5b74e01680491344b7f0db98c001cb5e\", element=\"81b809be-6489-41ba-8ce5-2507adbf1100\")>,\n",
       " <selenium.webdriver.remote.webelement.WebElement (session=\"5b74e01680491344b7f0db98c001cb5e\", element=\"565b49b6-4571-44af-ad29-5b130006cf11\")>,\n",
       " <selenium.webdriver.remote.webelement.WebElement (session=\"5b74e01680491344b7f0db98c001cb5e\", element=\"dda995a3-cfff-4e0a-8893-6699157b96a5\")>,\n",
       " <selenium.webdriver.remote.webelement.WebElement (session=\"5b74e01680491344b7f0db98c001cb5e\", element=\"4eaf7dac-c813-4972-9255-b4a884e30ba1\")>,\n",
       " <selenium.webdriver.remote.webelement.WebElement (session=\"5b74e01680491344b7f0db98c001cb5e\", element=\"244ff735-1045-4292-99cf-1e2a571589c6\")>,\n",
       " <selenium.webdriver.remote.webelement.WebElement (session=\"5b74e01680491344b7f0db98c001cb5e\", element=\"0fbb217e-9819-4856-9272-aae7f396c396\")>,\n",
       " <selenium.webdriver.remote.webelement.WebElement (session=\"5b74e01680491344b7f0db98c001cb5e\", element=\"47b97505-6580-4e52-b112-92928cdecf2e\")>,\n",
       " <selenium.webdriver.remote.webelement.WebElement (session=\"5b74e01680491344b7f0db98c001cb5e\", element=\"ec839703-ac0c-41e1-8701-060e352ce117\")>,\n",
       " <selenium.webdriver.remote.webelement.WebElement (session=\"5b74e01680491344b7f0db98c001cb5e\", element=\"d6d740b5-c2bb-4344-9144-971e0014c5d3\")>,\n",
       " <selenium.webdriver.remote.webelement.WebElement (session=\"5b74e01680491344b7f0db98c001cb5e\", element=\"6aed8fc8-924b-4eb3-89e2-e73e88aae3cf\")>,\n",
       " <selenium.webdriver.remote.webelement.WebElement (session=\"5b74e01680491344b7f0db98c001cb5e\", element=\"89b69f1a-7fdd-42be-b1b8-c6fba00fdc86\")>,\n",
       " <selenium.webdriver.remote.webelement.WebElement (session=\"5b74e01680491344b7f0db98c001cb5e\", element=\"5575d0a0-7e7e-4867-9d88-365eb1219294\")>,\n",
       " <selenium.webdriver.remote.webelement.WebElement (session=\"5b74e01680491344b7f0db98c001cb5e\", element=\"463b4fdf-b25a-4cd4-8a08-d10ced8e9cde\")>]"
      ]
     },
     "execution_count": 251,
     "metadata": {},
     "output_type": "execute_result"
    }
   ],
   "source": [
    "price_tags = driver.find_elements_by_xpath(\"//a[@class='_3bPFwb']/div/div[1]\")\n",
    "price_tags = price_tags[:20]\n",
    "price_tags"
   ]
  },
  {
   "cell_type": "code",
   "execution_count": 252,
   "metadata": {},
   "outputs": [
    {
     "data": {
      "text/plain": [
       "['₹999',\n",
       " '₹799',\n",
       " '₹200',\n",
       " '₹467',\n",
       " '₹200',\n",
       " '₹295',\n",
       " '₹200',\n",
       " '₹639',\n",
       " '₹198',\n",
       " '₹194',\n",
       " '₹474',\n",
       " '₹799',\n",
       " '₹199',\n",
       " '₹239',\n",
       " '₹215',\n",
       " '₹559',\n",
       " '₹284',\n",
       " '₹299',\n",
       " '₹216',\n",
       " '₹999',\n",
       " '₹183',\n",
       " '₹404',\n",
       " '₹213',\n",
       " '₹999',\n",
       " '₹319',\n",
       " '₹185',\n",
       " '₹517',\n",
       " '₹639',\n",
       " '₹379',\n",
       " '₹266',\n",
       " '₹224',\n",
       " '₹943',\n",
       " '₹703',\n",
       " '₹319',\n",
       " '₹248',\n",
       " '₹524',\n",
       " '₹209',\n",
       " '₹229',\n",
       " '₹503',\n",
       " '₹426',\n",
       " '₹265',\n",
       " '₹599',\n",
       " '₹331',\n",
       " '₹999',\n",
       " '₹458',\n",
       " '₹210',\n",
       " '₹319',\n",
       " '₹799',\n",
       " '₹399',\n",
       " '₹458',\n",
       " '₹413',\n",
       " '₹949',\n",
       " '₹233',\n",
       " '₹383',\n",
       " '₹207',\n",
       " '₹524',\n",
       " '₹273',\n",
       " '₹284',\n",
       " '₹217',\n",
       " '₹599',\n",
       " '₹349',\n",
       " '₹199',\n",
       " '₹291',\n",
       " '₹1,226',\n",
       " '₹359',\n",
       " '₹362',\n",
       " '₹899',\n",
       " '₹599',\n",
       " '₹201',\n",
       " '₹186',\n",
       " '₹548',\n",
       " '₹716',\n",
       " '₹199',\n",
       " '₹284',\n",
       " '₹459',\n",
       " '₹524',\n",
       " '₹279',\n",
       " '₹458',\n",
       " '₹226',\n",
       " '₹550',\n",
       " '₹371',\n",
       " '₹200',\n",
       " '₹1,109',\n",
       " '₹524',\n",
       " '₹233',\n",
       " '₹359',\n",
       " '₹474',\n",
       " '₹674',\n",
       " '₹503',\n",
       " '₹236',\n",
       " '₹359',\n",
       " '₹561',\n",
       " '₹999',\n",
       " '₹1,009',\n",
       " '₹493',\n",
       " '₹524',\n",
       " '₹399',\n",
       " '₹257',\n",
       " '₹183',\n",
       " '₹404']"
      ]
     },
     "execution_count": 252,
     "metadata": {},
     "output_type": "execute_result"
    }
   ],
   "source": [
    "for i in price_tags:\n",
    "    price_list.append(i.text)\n",
    "price_list"
   ]
  },
  {
   "cell_type": "code",
   "execution_count": 253,
   "metadata": {},
   "outputs": [
    {
     "data": {
      "text/plain": [
       "[<selenium.webdriver.remote.webelement.WebElement (session=\"5b74e01680491344b7f0db98c001cb5e\", element=\"2c005b27-fcd6-4923-ade4-5bc97a627958\")>,\n",
       " <selenium.webdriver.remote.webelement.WebElement (session=\"5b74e01680491344b7f0db98c001cb5e\", element=\"5befc6f5-3648-40c8-b4c6-f0ff374a52fd\")>,\n",
       " <selenium.webdriver.remote.webelement.WebElement (session=\"5b74e01680491344b7f0db98c001cb5e\", element=\"838e6267-0350-45e6-9ec8-39739e7929d6\")>,\n",
       " <selenium.webdriver.remote.webelement.WebElement (session=\"5b74e01680491344b7f0db98c001cb5e\", element=\"84934fb0-f64c-4112-bc33-93596ff0fc81\")>,\n",
       " <selenium.webdriver.remote.webelement.WebElement (session=\"5b74e01680491344b7f0db98c001cb5e\", element=\"ba23327e-4ebe-4967-bea6-647c45e326ab\")>,\n",
       " <selenium.webdriver.remote.webelement.WebElement (session=\"5b74e01680491344b7f0db98c001cb5e\", element=\"a90b1bff-af2b-4671-881e-4c482fda5ae1\")>,\n",
       " <selenium.webdriver.remote.webelement.WebElement (session=\"5b74e01680491344b7f0db98c001cb5e\", element=\"4ee32275-e281-4d34-81a6-164d78b6cca7\")>,\n",
       " <selenium.webdriver.remote.webelement.WebElement (session=\"5b74e01680491344b7f0db98c001cb5e\", element=\"b745d942-a0b1-4f2f-aa5b-11533121c2fd\")>,\n",
       " <selenium.webdriver.remote.webelement.WebElement (session=\"5b74e01680491344b7f0db98c001cb5e\", element=\"f0f55950-9ead-4e90-844a-0c453bf5ddb0\")>,\n",
       " <selenium.webdriver.remote.webelement.WebElement (session=\"5b74e01680491344b7f0db98c001cb5e\", element=\"64cae438-a7a6-4513-96e1-336f04edc9c8\")>,\n",
       " <selenium.webdriver.remote.webelement.WebElement (session=\"5b74e01680491344b7f0db98c001cb5e\", element=\"1b6ef376-f24b-4e23-8fa1-d8bc53f9b05f\")>,\n",
       " <selenium.webdriver.remote.webelement.WebElement (session=\"5b74e01680491344b7f0db98c001cb5e\", element=\"afbd5055-a886-48e2-b5bf-99f0e97c7546\")>,\n",
       " <selenium.webdriver.remote.webelement.WebElement (session=\"5b74e01680491344b7f0db98c001cb5e\", element=\"3154cde0-4865-487a-8d75-be595b667781\")>,\n",
       " <selenium.webdriver.remote.webelement.WebElement (session=\"5b74e01680491344b7f0db98c001cb5e\", element=\"4d68b180-e30c-4fc5-afb2-d993cdb22c91\")>,\n",
       " <selenium.webdriver.remote.webelement.WebElement (session=\"5b74e01680491344b7f0db98c001cb5e\", element=\"0f1c837b-dc9c-4df8-91af-70f5fe23f4af\")>,\n",
       " <selenium.webdriver.remote.webelement.WebElement (session=\"5b74e01680491344b7f0db98c001cb5e\", element=\"7fdd7686-43f6-4d52-a20b-fc32353e0186\")>,\n",
       " <selenium.webdriver.remote.webelement.WebElement (session=\"5b74e01680491344b7f0db98c001cb5e\", element=\"254e4571-fe19-4138-80c9-19db1e021564\")>,\n",
       " <selenium.webdriver.remote.webelement.WebElement (session=\"5b74e01680491344b7f0db98c001cb5e\", element=\"aee916db-47f1-47e0-8229-8d1a83192ca3\")>,\n",
       " <selenium.webdriver.remote.webelement.WebElement (session=\"5b74e01680491344b7f0db98c001cb5e\", element=\"fa7bbab3-a09a-4be8-a777-3c3f8d48748a\")>,\n",
       " <selenium.webdriver.remote.webelement.WebElement (session=\"5b74e01680491344b7f0db98c001cb5e\", element=\"74eec35c-2a64-42db-b429-140b344f9d00\")>]"
      ]
     },
     "execution_count": 253,
     "metadata": {},
     "output_type": "execute_result"
    }
   ],
   "source": [
    "discount_tags = driver.find_elements_by_xpath(\"//a[@class='_3bPFwb']/div/div[3]\")\n",
    "discount_tags = discount_tags[:20]\n",
    "discount_tags"
   ]
  },
  {
   "cell_type": "code",
   "execution_count": 254,
   "metadata": {},
   "outputs": [
    {
     "data": {
      "text/plain": [
       "['50% off',\n",
       " '60% off',\n",
       " '87% off',\n",
       " '48% off',\n",
       " '87% off',\n",
       " '88% off',\n",
       " '87% off',\n",
       " '68% off',\n",
       " '88% off',\n",
       " '87% off',\n",
       " '78% off',\n",
       " '60% off',\n",
       " '60% off',\n",
       " '88% off',\n",
       " '78% off',\n",
       " '62% off',\n",
       " '89% off',\n",
       " '81% off',\n",
       " '72% off',\n",
       " '50% off',\n",
       " '81% off',\n",
       " '49% off',\n",
       " '80% off',\n",
       " '50% off',\n",
       " '84% off',\n",
       " '78% off',\n",
       " '35% off',\n",
       " '68% off',\n",
       " '81% off',\n",
       " '86% off',\n",
       " '81% off',\n",
       " '52% off',\n",
       " '45% off',\n",
       " '87% off',\n",
       " '87% off',\n",
       " '73% off',\n",
       " '88% off',\n",
       " '67% off',\n",
       " '49% off',\n",
       " '80% off',\n",
       " '73% off',\n",
       " '70% off',\n",
       " '80% off',\n",
       " '50% off',\n",
       " '49% off',\n",
       " '85% off',\n",
       " '78% off',\n",
       " '68% off',\n",
       " '82% off',\n",
       " '49% off',\n",
       " '48% off',\n",
       " '52% off',\n",
       " '90% off',\n",
       " '80% off',\n",
       " '80% off',\n",
       " '73% off',\n",
       " '78% off',\n",
       " '81% off',\n",
       " '88% off',\n",
       " '40% off',\n",
       " '65% off',\n",
       " '80% off',\n",
       " '76% off',\n",
       " '50% off',\n",
       " '82% off',\n",
       " '69% off',\n",
       " '25% off',\n",
       " '70% off',\n",
       " '83% off',\n",
       " '85% off',\n",
       " '39% off',\n",
       " '80% off',\n",
       " '82% off',\n",
       " '89% off',\n",
       " '69% off',\n",
       " '73% off',\n",
       " '86% off',\n",
       " '49% off',\n",
       " '71% off',\n",
       " '82% off',\n",
       " '53% off',\n",
       " '87% off',\n",
       " '54% off',\n",
       " '73% off',\n",
       " '76% off',\n",
       " '82% off',\n",
       " '78% off',\n",
       " '66% off',\n",
       " '37% off',\n",
       " '80% off',\n",
       " '82% off',\n",
       " '71% off',\n",
       " '55% off',\n",
       " '50% off',\n",
       " '45% off',\n",
       " '73% off',\n",
       " '73% off',\n",
       " '78% off',\n",
       " '81% off',\n",
       " '73% off']"
      ]
     },
     "execution_count": 254,
     "metadata": {},
     "output_type": "execute_result"
    }
   ],
   "source": [
    "for i in discount_tags:\n",
    "    discount_list.append(i.text)\n",
    "discount_list"
   ]
  },
  {
   "cell_type": "code",
   "execution_count": 255,
   "metadata": {},
   "outputs": [
    {
     "data": {
      "text/html": [
       "<div>\n",
       "<style scoped>\n",
       "    .dataframe tbody tr th:only-of-type {\n",
       "        vertical-align: middle;\n",
       "    }\n",
       "\n",
       "    .dataframe tbody tr th {\n",
       "        vertical-align: top;\n",
       "    }\n",
       "\n",
       "    .dataframe thead th {\n",
       "        text-align: right;\n",
       "    }\n",
       "</style>\n",
       "<table border=\"1\" class=\"dataframe\">\n",
       "  <thead>\n",
       "    <tr style=\"text-align: right;\">\n",
       "      <th></th>\n",
       "      <th>Brand</th>\n",
       "      <th>Product Description</th>\n",
       "      <th>Price</th>\n",
       "      <th>Discount</th>\n",
       "    </tr>\n",
       "  </thead>\n",
       "  <tbody>\n",
       "    <tr>\n",
       "      <th>0</th>\n",
       "      <td>VINCENT CHASE</td>\n",
       "      <td>by Lenskart UV Protection Wayfarer Sunglasses ...</td>\n",
       "      <td>₹999</td>\n",
       "      <td>50% off</td>\n",
       "    </tr>\n",
       "    <tr>\n",
       "      <th>1</th>\n",
       "      <td>VINCENT CHASE</td>\n",
       "      <td>Polarized, UV Protection Wayfarer Sunglasses (57)</td>\n",
       "      <td>₹799</td>\n",
       "      <td>60% off</td>\n",
       "    </tr>\n",
       "    <tr>\n",
       "      <th>2</th>\n",
       "      <td>PIRASO</td>\n",
       "      <td>UV Protection Aviator Sunglasses (54)</td>\n",
       "      <td>₹200</td>\n",
       "      <td>87% off</td>\n",
       "    </tr>\n",
       "    <tr>\n",
       "      <th>3</th>\n",
       "      <td>Fastrack</td>\n",
       "      <td>UV Protection Wayfarer Sunglasses (Free Size)</td>\n",
       "      <td>₹467</td>\n",
       "      <td>48% off</td>\n",
       "    </tr>\n",
       "    <tr>\n",
       "      <th>4</th>\n",
       "      <td>PIRASO</td>\n",
       "      <td>UV Protection Aviator Sunglasses (54)</td>\n",
       "      <td>₹200</td>\n",
       "      <td>87% off</td>\n",
       "    </tr>\n",
       "    <tr>\n",
       "      <th>...</th>\n",
       "      <td>...</td>\n",
       "      <td>...</td>\n",
       "      <td>...</td>\n",
       "      <td>...</td>\n",
       "    </tr>\n",
       "    <tr>\n",
       "      <th>95</th>\n",
       "      <td>ROYAL SON</td>\n",
       "      <td>UV Protection, Gradient Butterfly Sunglasses (52)</td>\n",
       "      <td>₹524</td>\n",
       "      <td>73% off</td>\n",
       "    </tr>\n",
       "    <tr>\n",
       "      <th>96</th>\n",
       "      <td>ROYAL SON</td>\n",
       "      <td>UV Protection Rectangular Sunglasses (58)</td>\n",
       "      <td>₹399</td>\n",
       "      <td>73% off</td>\n",
       "    </tr>\n",
       "    <tr>\n",
       "      <th>97</th>\n",
       "      <td>HIPPON</td>\n",
       "      <td>UV Protection Wayfarer Sunglasses (55)</td>\n",
       "      <td>₹257</td>\n",
       "      <td>78% off</td>\n",
       "    </tr>\n",
       "    <tr>\n",
       "      <th>98</th>\n",
       "      <td>ROYAL SON</td>\n",
       "      <td>UV Protection, Gradient Wayfarer Sunglasses (55)</td>\n",
       "      <td>₹183</td>\n",
       "      <td>81% off</td>\n",
       "    </tr>\n",
       "    <tr>\n",
       "      <th>99</th>\n",
       "      <td>elegante</td>\n",
       "      <td>UV Protection Oval Sunglasses (Free Size)</td>\n",
       "      <td>₹404</td>\n",
       "      <td>73% off</td>\n",
       "    </tr>\n",
       "  </tbody>\n",
       "</table>\n",
       "<p>100 rows × 4 columns</p>\n",
       "</div>"
      ],
      "text/plain": [
       "            Brand                                Product Description Price  \\\n",
       "0   VINCENT CHASE  by Lenskart UV Protection Wayfarer Sunglasses ...  ₹999   \n",
       "1   VINCENT CHASE  Polarized, UV Protection Wayfarer Sunglasses (57)  ₹799   \n",
       "2          PIRASO              UV Protection Aviator Sunglasses (54)  ₹200   \n",
       "3        Fastrack      UV Protection Wayfarer Sunglasses (Free Size)  ₹467   \n",
       "4          PIRASO              UV Protection Aviator Sunglasses (54)  ₹200   \n",
       "..            ...                                                ...   ...   \n",
       "95      ROYAL SON  UV Protection, Gradient Butterfly Sunglasses (52)  ₹524   \n",
       "96      ROYAL SON          UV Protection Rectangular Sunglasses (58)  ₹399   \n",
       "97         HIPPON             UV Protection Wayfarer Sunglasses (55)  ₹257   \n",
       "98      ROYAL SON   UV Protection, Gradient Wayfarer Sunglasses (55)  ₹183   \n",
       "99       elegante          UV Protection Oval Sunglasses (Free Size)  ₹404   \n",
       "\n",
       "   Discount  \n",
       "0   50% off  \n",
       "1   60% off  \n",
       "2   87% off  \n",
       "3   48% off  \n",
       "4   87% off  \n",
       "..      ...  \n",
       "95  73% off  \n",
       "96  73% off  \n",
       "97  78% off  \n",
       "98  81% off  \n",
       "99  73% off  \n",
       "\n",
       "[100 rows x 4 columns]"
      ]
     },
     "execution_count": 255,
     "metadata": {},
     "output_type": "execute_result"
    }
   ],
   "source": [
    "df = pd.DataFrame({})\n",
    "df[\"Brand\"] = brand_list\n",
    "df[\"Product Description\"] = prod_descriptions\n",
    "df[\"Price\"] = price_list\n",
    "df[\"Discount\"] = discount_list\n",
    "df"
   ]
  },
  {
   "cell_type": "markdown",
   "metadata": {},
   "source": [
    "We create a dataframe using pandas and display the data in a tabular format"
   ]
  },
  {
   "cell_type": "code",
   "execution_count": null,
   "metadata": {},
   "outputs": [],
   "source": []
  },
  {
   "cell_type": "markdown",
   "metadata": {},
   "source": [
    "Q7: Scrape 100 reviews data from flipkart.com for iphone11 phone. You have to\n",
    "go the link: https://www.flipkart.com/apple-iphone-11-black-64-gb-includes-earpods-power-adapter/p/itm0f37c2240b217?pid=MOBFKCTSVZAXUHGR&lid=LSTMOBFKCTSVZAXUHGREPBFGI&marketplace.\n",
    "\n",
    "When you will open the above link you will reach to the below shown webpage.\n",
    "\n",
    "As shown in the above page you have to scrape the tick marked attributes.\n",
    "These are\n",
    "1. Rating\n",
    "2. Review_summary\n",
    "3. Full review\n",
    "You have to scrape this data for first 100 reviews."
   ]
  },
  {
   "cell_type": "code",
   "execution_count": 691,
   "metadata": {},
   "outputs": [],
   "source": [
    "driver.get(\"https://www.flipkart.com/apple-iphone-11-black-64-gb-includes-earpods-power-adapter/p/itm0f37c2240b217?pid=MOBFKCTSVZAXUHGR&lid=LSTMOBFKCTSVZAXUHGREPBFGI&marketplace\")"
   ]
  },
  {
   "cell_type": "markdown",
   "metadata": {},
   "source": [
    "Get the web page using driver"
   ]
  },
  {
   "cell_type": "code",
   "execution_count": 692,
   "metadata": {},
   "outputs": [],
   "source": [
    "review_btn = driver.find_element_by_xpath(\"//div[@class='_3UAT2v _16PBlm']\")"
   ]
  },
  {
   "cell_type": "markdown",
   "metadata": {},
   "source": [
    "We find the element for review button to access all the reviews"
   ]
  },
  {
   "cell_type": "code",
   "execution_count": 693,
   "metadata": {},
   "outputs": [],
   "source": [
    "review_btn.click()"
   ]
  },
  {
   "cell_type": "markdown",
   "metadata": {},
   "source": [
    "We click on review button"
   ]
  },
  {
   "cell_type": "code",
   "execution_count": 694,
   "metadata": {},
   "outputs": [],
   "source": [
    "rating_list = []\n",
    "summary_list = []\n",
    "full_review_list = []"
   ]
  },
  {
   "cell_type": "markdown",
   "metadata": {},
   "source": [
    "Creating empty lists for data features"
   ]
  },
  {
   "cell_type": "markdown",
   "metadata": {},
   "source": [
    "We need to scrape data for 100 entries but from the page we observe that only 10 entries are present so we automate the process by creating two functions tags and append_items."
   ]
  },
  {
   "cell_type": "code",
   "execution_count": 695,
   "metadata": {},
   "outputs": [],
   "source": [
    "def tags():\n",
    "    rating_tags = driver.find_elements_by_xpath(\"//div[@class='col _2wzgFH K0kLPL']/div[1]/div\")\n",
    "    summary_tags = driver.find_elements_by_xpath(\"//p[@class='_2-N8zT']\")\n",
    "    review_tags = driver.find_elements_by_xpath(\"//div[@class='t-ZTKy']\")\n",
    "    return rating_tags,summary_tags,review_tags"
   ]
  },
  {
   "cell_type": "markdown",
   "metadata": {},
   "source": [
    "We use this function to collect all the element tags for the required features and return thems as lists."
   ]
  },
  {
   "cell_type": "code",
   "execution_count": 696,
   "metadata": {},
   "outputs": [],
   "source": [
    "def append_items(rating_tags,summary_tags,review_tags,rating_list,summary_list,full_review_list):\n",
    "    for i in rating_tags:\n",
    "        rating_list.append(i.text)\n",
    "    for i in summary_tags:\n",
    "        summary_list.append(i.text)\n",
    "    for i in review_tags:\n",
    "        full_review_list.append(i.text.replace(\"\\n\",\" \"))\n",
    "    return rating_list,summary_list,full_review_list"
   ]
  },
  {
   "cell_type": "markdown",
   "metadata": {},
   "source": [
    "We use this function to append the data present inside elements for all the data features"
   ]
  },
  {
   "cell_type": "code",
   "execution_count": 697,
   "metadata": {},
   "outputs": [],
   "source": [
    "rating_tags,summary_tags,review_tags = tags()"
   ]
  },
  {
   "cell_type": "markdown",
   "metadata": {},
   "source": [
    "Calling the tags function"
   ]
  },
  {
   "cell_type": "code",
   "execution_count": 698,
   "metadata": {
    "collapsed": true
   },
   "outputs": [
    {
     "name": "stdout",
     "output_type": "stream",
     "text": [
      "['5', '5', '5', '5', '5', '5', '5', '4', '5', '5']\n",
      "['Brilliant', 'Simply awesome', 'Perfect product!', 'Fabulous!', 'Best in the market!', 'Worth every penny', 'Great product', 'Good choice', 'Highly recommended', 'Worth every penny']\n"
     ]
    },
    {
     "data": {
      "text/plain": [
       "['The Best Phone for the Money  The iPhone 11 offers superb cameras, a more durable design and excellent battery life for an affordable price.  Compelling ultra-wide camera New Night mode is excellent Long battery life',\n",
       " 'Really satisfied with the Product I received... It’s totally genuine and the packaging was also really good so if ur planning to buy just go for it.',\n",
       " 'Amazing phone with great cameras and better battery which gives you the best performance. I just love the camera .',\n",
       " 'This is my first iOS phone. I am very happy with this product. Very much satisfied with this. I love this phone.',\n",
       " 'Great iPhone very snappy experience as apple kind. Upgraded from iPhone 7. Pros -Camera top class - Battery top performed -Chipset no need to say as apple kind -Security as you expect from apple - Display super bright industry leading colour accuracy and super responsive -Build quality as expect from apple sturdy premium durable beautiful stylish. -Os most stable os in smartphone industry  Cons -No 5G -Display is not based on OLED technology -Charger headphones and 1 apple stic... READ MORE',\n",
       " 'Previously I was using one plus 3t it was a great phone And then I decided to upgrade I am stuck between Samsung s10 plus or iPhone 11 I have seen the specs and everything were good except the display it’s somewhere between 720-1080 and it’s not even an amoled it’s an LCD display But I decided to go with iPhone because I have never used an IOS device I have Been an android user from the past 9 years I ordered IPhone 11 (128gb) product red My experience after using 3 weeks 1. The delivery ... READ MORE',\n",
       " 'Amazing Powerful and Durable Gadget.  I’m am very happy with the camera picture quality, Amazing face id unlocked in dark room, Strong battery with perfect screen size as you can carry easily in pocket. This is my third iPhone.  I shifted from android Samsung Note series to iPhone because of the strong build quality and peace of mind for next 3-4 years.  Don’t think to much just go for it and I suggest you to go for minimum 128gb variant or more 256gb.  I’ve attached my puppy pics and no fi... READ MORE',\n",
       " 'So far it’s been an AMAZING experience coming back to iOS after nearly a decade but it’s not as versatile as android though phone is sturdy dropped it accidentally a couple of times and nothing happened fortunately camera is awesome',\n",
       " 'What a camera .....just awesome ..you can feel this iPhone just awesome . Good for gaming also ...try pubg in hd it’s just wow',\n",
       " 'i11 is worthy to buy, too much happy with the product. Thank u flipkart I received the item on time..loved it..']"
      ]
     },
     "execution_count": 698,
     "metadata": {},
     "output_type": "execute_result"
    }
   ],
   "source": [
    "append_items(rating_tags,summary_tags,review_tags,rating_list,summary_list,full_review_list)\n",
    "print(rating_list)\n",
    "print(summary_list)\n",
    "full_review_list"
   ]
  },
  {
   "cell_type": "markdown",
   "metadata": {},
   "source": [
    "Calling append_items function and passing the element list and feature lists to collect data"
   ]
  },
  {
   "cell_type": "markdown",
   "metadata": {},
   "source": [
    "We repeat the above process to collect 100 entries"
   ]
  },
  {
   "cell_type": "code",
   "execution_count": 699,
   "metadata": {},
   "outputs": [],
   "source": [
    "next_btn = driver.find_element_by_xpath(\"//a[@class='_1LKTO3']\")\n",
    "next_btn.click()"
   ]
  },
  {
   "cell_type": "markdown",
   "metadata": {},
   "source": [
    "We find the next button element and go to the next page"
   ]
  },
  {
   "cell_type": "code",
   "execution_count": 700,
   "metadata": {},
   "outputs": [],
   "source": [
    "rating_tags,summary_tags,review_tags = tags()"
   ]
  },
  {
   "cell_type": "code",
   "execution_count": 701,
   "metadata": {
    "collapsed": true
   },
   "outputs": [
    {
     "name": "stdout",
     "output_type": "stream",
     "text": [
      "['5', '5', '5', '5', '5', '5', '5', '4', '5', '5', '5', '5', '5', '5', '5', '5', '5', '5', '5', '5']\n",
      "['Brilliant', 'Simply awesome', 'Perfect product!', 'Fabulous!', 'Best in the market!', 'Worth every penny', 'Great product', 'Good choice', 'Highly recommended', 'Worth every penny', 'Highly recommended', 'Perfect product!', 'Perfect product!', 'Classy product', 'Worth every penny', 'Perfect product!', 'Highly recommended', 'Simply awesome', 'Worth every penny', 'Worth every penny']\n"
     ]
    },
    {
     "data": {
      "text/plain": [
       "['The Best Phone for the Money  The iPhone 11 offers superb cameras, a more durable design and excellent battery life for an affordable price.  Compelling ultra-wide camera New Night mode is excellent Long battery life',\n",
       " 'Really satisfied with the Product I received... It’s totally genuine and the packaging was also really good so if ur planning to buy just go for it.',\n",
       " 'Amazing phone with great cameras and better battery which gives you the best performance. I just love the camera .',\n",
       " 'This is my first iOS phone. I am very happy with this product. Very much satisfied with this. I love this phone.',\n",
       " 'Great iPhone very snappy experience as apple kind. Upgraded from iPhone 7. Pros -Camera top class - Battery top performed -Chipset no need to say as apple kind -Security as you expect from apple - Display super bright industry leading colour accuracy and super responsive -Build quality as expect from apple sturdy premium durable beautiful stylish. -Os most stable os in smartphone industry  Cons -No 5G -Display is not based on OLED technology -Charger headphones and 1 apple stic... READ MORE',\n",
       " 'Previously I was using one plus 3t it was a great phone And then I decided to upgrade I am stuck between Samsung s10 plus or iPhone 11 I have seen the specs and everything were good except the display it’s somewhere between 720-1080 and it’s not even an amoled it’s an LCD display But I decided to go with iPhone because I have never used an IOS device I have Been an android user from the past 9 years I ordered IPhone 11 (128gb) product red My experience after using 3 weeks 1. The delivery ... READ MORE',\n",
       " 'Amazing Powerful and Durable Gadget.  I’m am very happy with the camera picture quality, Amazing face id unlocked in dark room, Strong battery with perfect screen size as you can carry easily in pocket. This is my third iPhone.  I shifted from android Samsung Note series to iPhone because of the strong build quality and peace of mind for next 3-4 years.  Don’t think to much just go for it and I suggest you to go for minimum 128gb variant or more 256gb.  I’ve attached my puppy pics and no fi... READ MORE',\n",
       " 'So far it’s been an AMAZING experience coming back to iOS after nearly a decade but it’s not as versatile as android though phone is sturdy dropped it accidentally a couple of times and nothing happened fortunately camera is awesome',\n",
       " 'What a camera .....just awesome ..you can feel this iPhone just awesome . Good for gaming also ...try pubg in hd it’s just wow',\n",
       " 'i11 is worthy to buy, too much happy with the product. Thank u flipkart I received the item on time..loved it..',\n",
       " 'iphone 11 is a very good phone to buy only if you can compromise for the display. The display on this is device is pretty good but you can get other options with better displays in this price segment. If you can survive with an HD+ LCD panel with thicker bezels and a notch up top then this is a very good phone for you. Cameras are awesome, battery backup excellent, great performance and a decent premium look. Good job Apple !',\n",
       " 'It’s a must buy who is looking for an upgrade from previous generation of iPhones. If you are using XR then still you can hold on for sometime and upgrade to 2020 model else this phone is a must buy . Camera quality is amazing and wide angle is something to count upon. Performance wise it’s amazing and feels premium while holding in hand. So a big YES for this device. Go for 128 GB variant as the 4K videos will occupy lots of space and the storage can get over very quickly. Try to buy it with... READ MORE',\n",
       " 'Value for money❤️❤️ Its awesome mobile phone in the world ... Display was very good and bright .. Trust me freinds you r never regret after Buying.. Just go for it.... I love this phone and i switch to iphone x to 11',\n",
       " 'Totally in love with this ❤ the camera quality is amazing just love it 😘😘😘 itsss dammnnnnnn amazing... Must buy iPhone 11 this is my best experience ever ☀👌👌🧡🧡🧡🧡🧡 thanku apple ❤',\n",
       " 'Best budget Iphone till date ❤️ go for it guys without second thought. Let me explain you guys about Camera, Display, battery, and performance.  Camera: at this price range there is no comparison of camera, you’ll love the picture quality as well as video quality. I am a Vlogger I wanted an iPhone with 4k video by front camera and I got this phone and I am more than happy 😃  Battery: I use this phone roughly as I am active social media person and I have a youtube channel. so the battery ba... READ MORE',\n",
       " \"Iphone is just awesome.. battery backup is very very nice.. continuously for 10 hours we can use it.camera is just awesome.. display is just fab.i love it alot..i had to wait 15 days for it as i pre ordered it..overalll it's worth the price..these all images are clicked by my iPhone..and i love it.\",\n",
       " \"It's my first time to use iOS phone and I am loving my upgradation 😍😍 I love the color, I love the assebility of the phone....I need to learn more about its functionality, but as far as I have seen, it's quite easy and it has a lot of functions to work on, specially if you are a content writer or a blogger you get a lot of content creation platforms and they are really amazing.  This phone not only for good quality photography but a lot of other task too.😍💯\",\n",
       " 'Excellent camera, good performance, no lag. The lcd display is also good.. but difference come when we watch movie in prime and Netflix, the colours are not vibrant.. as we see in amoled display.. and the charger in box is of 5 watts.. takes more than 3 hours to charge from 0 to 100.. so guys be prepare to buy 18 watts charger . Finally I am an android user, it was my first Iapple phone, I promise u guys the iOS is so smooth.. overall the phone is damn good.... close eyes to buy it.. thanks t... READ MORE',\n",
       " 'It’s been almost a month since I have been using this phone. I upgraded from an iPhone 8. The main issue with my 8 was battery and this phone is just awesome when it comes to battery. It lasts a day and a half for me with my regular use , internet connected always with 4g Can’t move forward without saying this. Battery of this phone is a life saver when I am traveling or at work when I don’t get the option to charge Camera is superb. Front cam selfies and back cam photos are just awesome. ... READ MORE',\n",
       " 'Smooth like butter, camera like fantabulous, sound is crystal clear & its red color is damn attractive, i am just loving it. Must buy if you love photography.  Lucky to get it in sale, thank you Flipkart.']"
      ]
     },
     "execution_count": 701,
     "metadata": {},
     "output_type": "execute_result"
    }
   ],
   "source": [
    "append_items(rating_tags,summary_tags,review_tags,rating_list,summary_list,full_review_list)\n",
    "print(rating_list)\n",
    "print(summary_list)\n",
    "full_review_list"
   ]
  },
  {
   "cell_type": "markdown",
   "metadata": {},
   "source": [
    "The above step is repeated until we have 100 entries"
   ]
  },
  {
   "cell_type": "code",
   "execution_count": 702,
   "metadata": {},
   "outputs": [],
   "source": [
    "next_btn = driver.find_element_by_xpath(\"//nav[@class='yFHi8N']/a[12]\")\n",
    "next_btn.click()"
   ]
  },
  {
   "cell_type": "code",
   "execution_count": 703,
   "metadata": {},
   "outputs": [],
   "source": [
    "rating_tags,summary_tags,review_tags = tags()"
   ]
  },
  {
   "cell_type": "code",
   "execution_count": 704,
   "metadata": {
    "collapsed": true
   },
   "outputs": [
    {
     "name": "stdout",
     "output_type": "stream",
     "text": [
      "['5', '5', '5', '5', '5', '5', '5', '4', '5', '5', '5', '5', '5', '5', '5', '5', '5', '5', '5', '5', '5', '5', '4', '5', '5', '5', '5', '5', '4', '5']\n",
      "['Brilliant', 'Simply awesome', 'Perfect product!', 'Fabulous!', 'Best in the market!', 'Worth every penny', 'Great product', 'Good choice', 'Highly recommended', 'Worth every penny', 'Highly recommended', 'Perfect product!', 'Perfect product!', 'Classy product', 'Worth every penny', 'Perfect product!', 'Highly recommended', 'Simply awesome', 'Worth every penny', 'Worth every penny', 'Terrific', 'Wonderful', 'Nice product', 'Perfect product!', 'Classy product', 'Brilliant', 'Must buy!', 'Wonderful', 'Good choice', 'Perfect product!']\n"
     ]
    },
    {
     "data": {
      "text/plain": [
       "['The Best Phone for the Money  The iPhone 11 offers superb cameras, a more durable design and excellent battery life for an affordable price.  Compelling ultra-wide camera New Night mode is excellent Long battery life',\n",
       " 'Really satisfied with the Product I received... It’s totally genuine and the packaging was also really good so if ur planning to buy just go for it.',\n",
       " 'Amazing phone with great cameras and better battery which gives you the best performance. I just love the camera .',\n",
       " 'This is my first iOS phone. I am very happy with this product. Very much satisfied with this. I love this phone.',\n",
       " 'Great iPhone very snappy experience as apple kind. Upgraded from iPhone 7. Pros -Camera top class - Battery top performed -Chipset no need to say as apple kind -Security as you expect from apple - Display super bright industry leading colour accuracy and super responsive -Build quality as expect from apple sturdy premium durable beautiful stylish. -Os most stable os in smartphone industry  Cons -No 5G -Display is not based on OLED technology -Charger headphones and 1 apple stic... READ MORE',\n",
       " 'Previously I was using one plus 3t it was a great phone And then I decided to upgrade I am stuck between Samsung s10 plus or iPhone 11 I have seen the specs and everything were good except the display it’s somewhere between 720-1080 and it’s not even an amoled it’s an LCD display But I decided to go with iPhone because I have never used an IOS device I have Been an android user from the past 9 years I ordered IPhone 11 (128gb) product red My experience after using 3 weeks 1. The delivery ... READ MORE',\n",
       " 'Amazing Powerful and Durable Gadget.  I’m am very happy with the camera picture quality, Amazing face id unlocked in dark room, Strong battery with perfect screen size as you can carry easily in pocket. This is my third iPhone.  I shifted from android Samsung Note series to iPhone because of the strong build quality and peace of mind for next 3-4 years.  Don’t think to much just go for it and I suggest you to go for minimum 128gb variant or more 256gb.  I’ve attached my puppy pics and no fi... READ MORE',\n",
       " 'So far it’s been an AMAZING experience coming back to iOS after nearly a decade but it’s not as versatile as android though phone is sturdy dropped it accidentally a couple of times and nothing happened fortunately camera is awesome',\n",
       " 'What a camera .....just awesome ..you can feel this iPhone just awesome . Good for gaming also ...try pubg in hd it’s just wow',\n",
       " 'i11 is worthy to buy, too much happy with the product. Thank u flipkart I received the item on time..loved it..',\n",
       " 'iphone 11 is a very good phone to buy only if you can compromise for the display. The display on this is device is pretty good but you can get other options with better displays in this price segment. If you can survive with an HD+ LCD panel with thicker bezels and a notch up top then this is a very good phone for you. Cameras are awesome, battery backup excellent, great performance and a decent premium look. Good job Apple !',\n",
       " 'It’s a must buy who is looking for an upgrade from previous generation of iPhones. If you are using XR then still you can hold on for sometime and upgrade to 2020 model else this phone is a must buy . Camera quality is amazing and wide angle is something to count upon. Performance wise it’s amazing and feels premium while holding in hand. So a big YES for this device. Go for 128 GB variant as the 4K videos will occupy lots of space and the storage can get over very quickly. Try to buy it with... READ MORE',\n",
       " 'Value for money❤️❤️ Its awesome mobile phone in the world ... Display was very good and bright .. Trust me freinds you r never regret after Buying.. Just go for it.... I love this phone and i switch to iphone x to 11',\n",
       " 'Totally in love with this ❤ the camera quality is amazing just love it 😘😘😘 itsss dammnnnnnn amazing... Must buy iPhone 11 this is my best experience ever ☀👌👌🧡🧡🧡🧡🧡 thanku apple ❤',\n",
       " 'Best budget Iphone till date ❤️ go for it guys without second thought. Let me explain you guys about Camera, Display, battery, and performance.  Camera: at this price range there is no comparison of camera, you’ll love the picture quality as well as video quality. I am a Vlogger I wanted an iPhone with 4k video by front camera and I got this phone and I am more than happy 😃  Battery: I use this phone roughly as I am active social media person and I have a youtube channel. so the battery ba... READ MORE',\n",
       " \"Iphone is just awesome.. battery backup is very very nice.. continuously for 10 hours we can use it.camera is just awesome.. display is just fab.i love it alot..i had to wait 15 days for it as i pre ordered it..overalll it's worth the price..these all images are clicked by my iPhone..and i love it.\",\n",
       " \"It's my first time to use iOS phone and I am loving my upgradation 😍😍 I love the color, I love the assebility of the phone....I need to learn more about its functionality, but as far as I have seen, it's quite easy and it has a lot of functions to work on, specially if you are a content writer or a blogger you get a lot of content creation platforms and they are really amazing.  This phone not only for good quality photography but a lot of other task too.😍💯\",\n",
       " 'Excellent camera, good performance, no lag. The lcd display is also good.. but difference come when we watch movie in prime and Netflix, the colours are not vibrant.. as we see in amoled display.. and the charger in box is of 5 watts.. takes more than 3 hours to charge from 0 to 100.. so guys be prepare to buy 18 watts charger . Finally I am an android user, it was my first Iapple phone, I promise u guys the iOS is so smooth.. overall the phone is damn good.... close eyes to buy it.. thanks t... READ MORE',\n",
       " 'It’s been almost a month since I have been using this phone. I upgraded from an iPhone 8. The main issue with my 8 was battery and this phone is just awesome when it comes to battery. It lasts a day and a half for me with my regular use , internet connected always with 4g Can’t move forward without saying this. Battery of this phone is a life saver when I am traveling or at work when I don’t get the option to charge Camera is superb. Front cam selfies and back cam photos are just awesome. ... READ MORE',\n",
       " 'Smooth like butter, camera like fantabulous, sound is crystal clear & its red color is damn attractive, i am just loving it. Must buy if you love photography.  Lucky to get it in sale, thank you Flipkart.',\n",
       " 'Really worth of money. i just love it. It is the best phone ever.',\n",
       " 'This is my first ever I phone. Before this I was using my google nexus 5. But moving from android to iOS is a great experience. It’s worth at this price. I will highly recommend it if you want to move to iOS. The best part of this phone is it’s camera and it’s battery life. This two things have won my heart. I loved it. Happy to have it in my hand. Still exploring its features. And can’t forget to mention Flipkart service. Very prompt service and fast delivery.',\n",
       " 'Awesome Phone. Slightly high price but worth. Better than iPhone XR. Camera is superb and wide angle camera is very clear. 12MP selfie camera is also very good. A13 Chip gives a very good and smooth performance.',\n",
       " 'Battery backup is extraordinary, camera is decent & performance offered by A13 bionic is awsome. The display is good in practical usage like the visibility of display is very good in direct sun light compare to pro models. Iam extremely satisfied for the money I spent.',\n",
       " 'Superb Product !!! A big and worthy upgrade from mi 3S to iphone 11 . Totally loved it !',\n",
       " 'I have migrated from OP 7pro... and trust me, iPhone 11 is totally worth it.. following are the reasons:- 1)there is ABSOLUTELY NO ISSUE WITH THE DISPLAY... its crisp, sharp and I found it to be much much better than OP7 pro. Netflix, Prime video all run crisply... you won’t miss a thing. True Tone works flawlessly...the display brightness is perfect. OP have not calibrated their screens properly. 2) iPhone 11 series have really good cameras... others have spoken in depth about them. 3) bat... READ MORE',\n",
       " 'It’s an amazing product from apple and the camera is simply superb. Phone is faster.Night shot is simply superb and detailing and colour differentiation from camera is an added advantage  This review I have written from iPhone 11 only and I am glad to say outside.  Cons wise if we see HD+ display only, no battery percentage indicator as in older iPhone 8. No assistive touch control button in it No oleophobic coating on back panel glass and finger prints are visible but since I bought mint gr... READ MORE',\n",
       " 'I just directly switch from iphone 6s to iphone 11 .The best premium smartphone I recommend to everyone. Excellent quality and colors the iphone have in 11 series. Camera quality is just awesome and the major feel when we hold in our hands. The sound quality and volume is also higher then the previous models. I will recommend to buy iphone 11 instead of pro models , there is nothing much difference as this model contains everything which fulfill our needs.  Only one thing that I dislike abo... READ MORE',\n",
       " 'Looking so good 👍 😍 super 👌 stylish 😎 phone Clean box 📦 good 👍 delivery 👌 fast delivery Original box Original iphone 📱 👌 😍😍😍',\n",
       " 'After 1 month use I found camera quality best compared to my previous Samsung note 10+.Display not good as note 10 also charging too slow.Apple should add fast charger like 11 plus and pro.Best phone for daily use']"
      ]
     },
     "execution_count": 704,
     "metadata": {},
     "output_type": "execute_result"
    }
   ],
   "source": [
    "append_items(rating_tags,summary_tags,review_tags,rating_list,summary_list,full_review_list)\n",
    "print(rating_list)\n",
    "print(summary_list)\n",
    "full_review_list"
   ]
  },
  {
   "cell_type": "code",
   "execution_count": 705,
   "metadata": {},
   "outputs": [
    {
     "name": "stdout",
     "output_type": "stream",
     "text": [
      "30 30 30\n"
     ]
    }
   ],
   "source": [
    "print(len(rating_list),len(summary_list),len(full_review_list))\n"
   ]
  },
  {
   "cell_type": "code",
   "execution_count": 706,
   "metadata": {},
   "outputs": [],
   "source": [
    "next_btn = driver.find_element_by_xpath(\"//nav[@class='yFHi8N']/a[12]\")\n",
    "next_btn.click()"
   ]
  },
  {
   "cell_type": "code",
   "execution_count": 707,
   "metadata": {},
   "outputs": [],
   "source": [
    "rating_tags,summary_tags,review_tags = tags()"
   ]
  },
  {
   "cell_type": "code",
   "execution_count": 708,
   "metadata": {
    "collapsed": true
   },
   "outputs": [
    {
     "name": "stdout",
     "output_type": "stream",
     "text": [
      "['5', '5', '5', '5', '5', '5', '5', '4', '5', '5', '5', '5', '5', '5', '5', '5', '5', '5', '5', '5', '5', '5', '4', '5', '5', '5', '5', '5', '4', '5', '5', '5', '5', '5', '5', '5', '5', '4', '1', '5']\n",
      "['Brilliant', 'Simply awesome', 'Perfect product!', 'Fabulous!', 'Best in the market!', 'Worth every penny', 'Great product', 'Good choice', 'Highly recommended', 'Worth every penny', 'Highly recommended', 'Perfect product!', 'Perfect product!', 'Classy product', 'Worth every penny', 'Perfect product!', 'Highly recommended', 'Simply awesome', 'Worth every penny', 'Worth every penny', 'Terrific', 'Wonderful', 'Nice product', 'Perfect product!', 'Classy product', 'Brilliant', 'Must buy!', 'Wonderful', 'Good choice', 'Perfect product!', 'Terrific purchase', 'Simply awesome', 'Great product', 'Mind-blowing purchase', 'Terrific purchase', 'Excellent', 'Simply awesome', 'Good quality product', 'Very poor', 'Classy product']\n"
     ]
    },
    {
     "data": {
      "text/plain": [
       "['The Best Phone for the Money  The iPhone 11 offers superb cameras, a more durable design and excellent battery life for an affordable price.  Compelling ultra-wide camera New Night mode is excellent Long battery life',\n",
       " 'Really satisfied with the Product I received... It’s totally genuine and the packaging was also really good so if ur planning to buy just go for it.',\n",
       " 'Amazing phone with great cameras and better battery which gives you the best performance. I just love the camera .',\n",
       " 'This is my first iOS phone. I am very happy with this product. Very much satisfied with this. I love this phone.',\n",
       " 'Great iPhone very snappy experience as apple kind. Upgraded from iPhone 7. Pros -Camera top class - Battery top performed -Chipset no need to say as apple kind -Security as you expect from apple - Display super bright industry leading colour accuracy and super responsive -Build quality as expect from apple sturdy premium durable beautiful stylish. -Os most stable os in smartphone industry  Cons -No 5G -Display is not based on OLED technology -Charger headphones and 1 apple stic... READ MORE',\n",
       " 'Previously I was using one plus 3t it was a great phone And then I decided to upgrade I am stuck between Samsung s10 plus or iPhone 11 I have seen the specs and everything were good except the display it’s somewhere between 720-1080 and it’s not even an amoled it’s an LCD display But I decided to go with iPhone because I have never used an IOS device I have Been an android user from the past 9 years I ordered IPhone 11 (128gb) product red My experience after using 3 weeks 1. The delivery ... READ MORE',\n",
       " 'Amazing Powerful and Durable Gadget.  I’m am very happy with the camera picture quality, Amazing face id unlocked in dark room, Strong battery with perfect screen size as you can carry easily in pocket. This is my third iPhone.  I shifted from android Samsung Note series to iPhone because of the strong build quality and peace of mind for next 3-4 years.  Don’t think to much just go for it and I suggest you to go for minimum 128gb variant or more 256gb.  I’ve attached my puppy pics and no fi... READ MORE',\n",
       " 'So far it’s been an AMAZING experience coming back to iOS after nearly a decade but it’s not as versatile as android though phone is sturdy dropped it accidentally a couple of times and nothing happened fortunately camera is awesome',\n",
       " 'What a camera .....just awesome ..you can feel this iPhone just awesome . Good for gaming also ...try pubg in hd it’s just wow',\n",
       " 'i11 is worthy to buy, too much happy with the product. Thank u flipkart I received the item on time..loved it..',\n",
       " 'iphone 11 is a very good phone to buy only if you can compromise for the display. The display on this is device is pretty good but you can get other options with better displays in this price segment. If you can survive with an HD+ LCD panel with thicker bezels and a notch up top then this is a very good phone for you. Cameras are awesome, battery backup excellent, great performance and a decent premium look. Good job Apple !',\n",
       " 'It’s a must buy who is looking for an upgrade from previous generation of iPhones. If you are using XR then still you can hold on for sometime and upgrade to 2020 model else this phone is a must buy . Camera quality is amazing and wide angle is something to count upon. Performance wise it’s amazing and feels premium while holding in hand. So a big YES for this device. Go for 128 GB variant as the 4K videos will occupy lots of space and the storage can get over very quickly. Try to buy it with... READ MORE',\n",
       " 'Value for money❤️❤️ Its awesome mobile phone in the world ... Display was very good and bright .. Trust me freinds you r never regret after Buying.. Just go for it.... I love this phone and i switch to iphone x to 11',\n",
       " 'Totally in love with this ❤ the camera quality is amazing just love it 😘😘😘 itsss dammnnnnnn amazing... Must buy iPhone 11 this is my best experience ever ☀👌👌🧡🧡🧡🧡🧡 thanku apple ❤',\n",
       " 'Best budget Iphone till date ❤️ go for it guys without second thought. Let me explain you guys about Camera, Display, battery, and performance.  Camera: at this price range there is no comparison of camera, you’ll love the picture quality as well as video quality. I am a Vlogger I wanted an iPhone with 4k video by front camera and I got this phone and I am more than happy 😃  Battery: I use this phone roughly as I am active social media person and I have a youtube channel. so the battery ba... READ MORE',\n",
       " \"Iphone is just awesome.. battery backup is very very nice.. continuously for 10 hours we can use it.camera is just awesome.. display is just fab.i love it alot..i had to wait 15 days for it as i pre ordered it..overalll it's worth the price..these all images are clicked by my iPhone..and i love it.\",\n",
       " \"It's my first time to use iOS phone and I am loving my upgradation 😍😍 I love the color, I love the assebility of the phone....I need to learn more about its functionality, but as far as I have seen, it's quite easy and it has a lot of functions to work on, specially if you are a content writer or a blogger you get a lot of content creation platforms and they are really amazing.  This phone not only for good quality photography but a lot of other task too.😍💯\",\n",
       " 'Excellent camera, good performance, no lag. The lcd display is also good.. but difference come when we watch movie in prime and Netflix, the colours are not vibrant.. as we see in amoled display.. and the charger in box is of 5 watts.. takes more than 3 hours to charge from 0 to 100.. so guys be prepare to buy 18 watts charger . Finally I am an android user, it was my first Iapple phone, I promise u guys the iOS is so smooth.. overall the phone is damn good.... close eyes to buy it.. thanks t... READ MORE',\n",
       " 'It’s been almost a month since I have been using this phone. I upgraded from an iPhone 8. The main issue with my 8 was battery and this phone is just awesome when it comes to battery. It lasts a day and a half for me with my regular use , internet connected always with 4g Can’t move forward without saying this. Battery of this phone is a life saver when I am traveling or at work when I don’t get the option to charge Camera is superb. Front cam selfies and back cam photos are just awesome. ... READ MORE',\n",
       " 'Smooth like butter, camera like fantabulous, sound is crystal clear & its red color is damn attractive, i am just loving it. Must buy if you love photography.  Lucky to get it in sale, thank you Flipkart.',\n",
       " 'Really worth of money. i just love it. It is the best phone ever.',\n",
       " 'This is my first ever I phone. Before this I was using my google nexus 5. But moving from android to iOS is a great experience. It’s worth at this price. I will highly recommend it if you want to move to iOS. The best part of this phone is it’s camera and it’s battery life. This two things have won my heart. I loved it. Happy to have it in my hand. Still exploring its features. And can’t forget to mention Flipkart service. Very prompt service and fast delivery.',\n",
       " 'Awesome Phone. Slightly high price but worth. Better than iPhone XR. Camera is superb and wide angle camera is very clear. 12MP selfie camera is also very good. A13 Chip gives a very good and smooth performance.',\n",
       " 'Battery backup is extraordinary, camera is decent & performance offered by A13 bionic is awsome. The display is good in practical usage like the visibility of display is very good in direct sun light compare to pro models. Iam extremely satisfied for the money I spent.',\n",
       " 'Superb Product !!! A big and worthy upgrade from mi 3S to iphone 11 . Totally loved it !',\n",
       " 'I have migrated from OP 7pro... and trust me, iPhone 11 is totally worth it.. following are the reasons:- 1)there is ABSOLUTELY NO ISSUE WITH THE DISPLAY... its crisp, sharp and I found it to be much much better than OP7 pro. Netflix, Prime video all run crisply... you won’t miss a thing. True Tone works flawlessly...the display brightness is perfect. OP have not calibrated their screens properly. 2) iPhone 11 series have really good cameras... others have spoken in depth about them. 3) bat... READ MORE',\n",
       " 'It’s an amazing product from apple and the camera is simply superb. Phone is faster.Night shot is simply superb and detailing and colour differentiation from camera is an added advantage  This review I have written from iPhone 11 only and I am glad to say outside.  Cons wise if we see HD+ display only, no battery percentage indicator as in older iPhone 8. No assistive touch control button in it No oleophobic coating on back panel glass and finger prints are visible but since I bought mint gr... READ MORE',\n",
       " 'I just directly switch from iphone 6s to iphone 11 .The best premium smartphone I recommend to everyone. Excellent quality and colors the iphone have in 11 series. Camera quality is just awesome and the major feel when we hold in our hands. The sound quality and volume is also higher then the previous models. I will recommend to buy iphone 11 instead of pro models , there is nothing much difference as this model contains everything which fulfill our needs.  Only one thing that I dislike abo... READ MORE',\n",
       " 'Looking so good 👍 😍 super 👌 stylish 😎 phone Clean box 📦 good 👍 delivery 👌 fast delivery Original box Original iphone 📱 👌 😍😍😍',\n",
       " 'After 1 month use I found camera quality best compared to my previous Samsung note 10+.Display not good as note 10 also charging too slow.Apple should add fast charger like 11 plus and pro.Best phone for daily use',\n",
       " 'Upgraded from iphone 6 to 11 best phone for iphone users battery is much better than other iphones camera is awesome love to use it.camera is so clear in night.',\n",
       " \"It's very high performances devise i am like the service of flipkart delevary very fast and packing very nice perfect phone\",\n",
       " 'Well you all know the specifications . One of a kind. Best iPhone till date. Many enhancements to the camera app with many options. Love the glass body with matte finish in the lens area on the back. Lovely colours to choose from. Best battery in an iPhone till date, enough to last more than a day in normal usage. I tested my iPhone 11 battery and lasted for than 24 hours after full charge still with 30% battery charge left. Watched movies for some time. Normal usage on calls, browsing, musi... READ MORE',\n",
       " 'This will help you more. See if you are planning to buy iPhone 11. I will say. Yes. But there are some plans I just want to disclose before you buy. 1) If you are an existing iPhone X/XS/XS Max/ XR user, better you guys do not think it to buy. You guys have more or less better gadget. 2) If you are an android user and planning to buy premium phone. I will suggest them to please buy iPhone instead of buying an Android. I bet you will never go back to android after using IOS. Now I want to shar... READ MORE',\n",
       " 'The built quality is not very premium. The battery back is great . The LCD panel is not so sharp but the brightness level is very High . Camera is super duper awesome. The red colour which people think is bright is actually very soothing and excellent colour to choose from . The A13 Bionic chip is really a flagship processor and can beat any phone which even has 12 gb ram . Camera module is very great and looks very stylish.',\n",
       " 'Amazing camera and feel super machine I am not describe my feeling but this is amazing Phone I am so lucky I have this',\n",
       " 'Really good actually this is my first apple product am using its really awesome performance wise excellent. Am really happy with this iphone11',\n",
       " 'it is very good at performance. Camera is best like before and very smooth response even in water. Don’t buy 12 mini buy iPhone 11 , it is far better than 12 mini believe me ! Have a nice day \\uf8ff ☺️',\n",
       " 'Reviewing again after 5 months. At the beginning the battery and performance was good but it degraded soon. Also I was facing heating issues. The mobile will heat up like a stove sometimes. You cannot even play Pubg even in low settings properly, performance is not a problem but heating is. Also if you play that game for 10 mins the brightness will be automatically down due to over heating even when the auto brightness is set to off. This will not be solved even if u manually increase the bri... READ MORE',\n",
       " 'We are on apple ecosystem for almost eight years now with couple of iPads and iPhones, including Xr.  Bought iPhone 11 as a gift to my daughter who loves it. We chose for a purple coloured one. Believe me it is gorgeous and towards the lighter shade. Dazzling and brilliant!  The phone is great and does excellent RAM management like any other Apple device.  The screen, though a LCD and lesser ppi as compared to other flagship phones of competitor brands, is a delight to watch with perfect re... READ MORE']"
      ]
     },
     "execution_count": 708,
     "metadata": {},
     "output_type": "execute_result"
    }
   ],
   "source": [
    "append_items(rating_tags,summary_tags,review_tags,rating_list,summary_list,full_review_list)\n",
    "print(rating_list)\n",
    "print(summary_list)\n",
    "full_review_list"
   ]
  },
  {
   "cell_type": "code",
   "execution_count": 709,
   "metadata": {},
   "outputs": [],
   "source": [
    "next_btn = driver.find_element_by_xpath(\"//nav[@class='yFHi8N']/a[12]\")\n",
    "next_btn.click()"
   ]
  },
  {
   "cell_type": "code",
   "execution_count": 710,
   "metadata": {},
   "outputs": [],
   "source": [
    "rating_tags,summary_tags,review_tags = tags()"
   ]
  },
  {
   "cell_type": "code",
   "execution_count": 711,
   "metadata": {
    "collapsed": true
   },
   "outputs": [
    {
     "name": "stdout",
     "output_type": "stream",
     "text": [
      "['5', '5', '5', '5', '5', '5', '5', '4', '5', '5', '5', '5', '5', '5', '5', '5', '5', '5', '5', '5', '5', '5', '4', '5', '5', '5', '5', '5', '4', '5', '5', '5', '5', '5', '5', '5', '5', '4', '1', '5', '5', '5', '5', '5', '5', '5', '5', '4', '5', '5']\n",
      "['Brilliant', 'Simply awesome', 'Perfect product!', 'Fabulous!', 'Best in the market!', 'Worth every penny', 'Great product', 'Good choice', 'Highly recommended', 'Worth every penny', 'Highly recommended', 'Perfect product!', 'Perfect product!', 'Classy product', 'Worth every penny', 'Perfect product!', 'Highly recommended', 'Simply awesome', 'Worth every penny', 'Worth every penny', 'Terrific', 'Wonderful', 'Nice product', 'Perfect product!', 'Classy product', 'Brilliant', 'Must buy!', 'Wonderful', 'Good choice', 'Perfect product!', 'Terrific purchase', 'Simply awesome', 'Great product', 'Mind-blowing purchase', 'Terrific purchase', 'Excellent', 'Simply awesome', 'Good quality product', 'Very poor', 'Classy product', 'Perfect product!', 'Must buy!', 'Fabulous!', 'Mind-blowing purchase', 'Mind-blowing purchase', 'Wonderful', 'Great product', 'Very Good', 'Classy product', 'Perfect product!']\n"
     ]
    },
    {
     "data": {
      "text/plain": [
       "['The Best Phone for the Money  The iPhone 11 offers superb cameras, a more durable design and excellent battery life for an affordable price.  Compelling ultra-wide camera New Night mode is excellent Long battery life',\n",
       " 'Really satisfied with the Product I received... It’s totally genuine and the packaging was also really good so if ur planning to buy just go for it.',\n",
       " 'Amazing phone with great cameras and better battery which gives you the best performance. I just love the camera .',\n",
       " 'This is my first iOS phone. I am very happy with this product. Very much satisfied with this. I love this phone.',\n",
       " 'Great iPhone very snappy experience as apple kind. Upgraded from iPhone 7. Pros -Camera top class - Battery top performed -Chipset no need to say as apple kind -Security as you expect from apple - Display super bright industry leading colour accuracy and super responsive -Build quality as expect from apple sturdy premium durable beautiful stylish. -Os most stable os in smartphone industry  Cons -No 5G -Display is not based on OLED technology -Charger headphones and 1 apple stic... READ MORE',\n",
       " 'Previously I was using one plus 3t it was a great phone And then I decided to upgrade I am stuck between Samsung s10 plus or iPhone 11 I have seen the specs and everything were good except the display it’s somewhere between 720-1080 and it’s not even an amoled it’s an LCD display But I decided to go with iPhone because I have never used an IOS device I have Been an android user from the past 9 years I ordered IPhone 11 (128gb) product red My experience after using 3 weeks 1. The delivery ... READ MORE',\n",
       " 'Amazing Powerful and Durable Gadget.  I’m am very happy with the camera picture quality, Amazing face id unlocked in dark room, Strong battery with perfect screen size as you can carry easily in pocket. This is my third iPhone.  I shifted from android Samsung Note series to iPhone because of the strong build quality and peace of mind for next 3-4 years.  Don’t think to much just go for it and I suggest you to go for minimum 128gb variant or more 256gb.  I’ve attached my puppy pics and no fi... READ MORE',\n",
       " 'So far it’s been an AMAZING experience coming back to iOS after nearly a decade but it’s not as versatile as android though phone is sturdy dropped it accidentally a couple of times and nothing happened fortunately camera is awesome',\n",
       " 'What a camera .....just awesome ..you can feel this iPhone just awesome . Good for gaming also ...try pubg in hd it’s just wow',\n",
       " 'i11 is worthy to buy, too much happy with the product. Thank u flipkart I received the item on time..loved it..',\n",
       " 'iphone 11 is a very good phone to buy only if you can compromise for the display. The display on this is device is pretty good but you can get other options with better displays in this price segment. If you can survive with an HD+ LCD panel with thicker bezels and a notch up top then this is a very good phone for you. Cameras are awesome, battery backup excellent, great performance and a decent premium look. Good job Apple !',\n",
       " 'It’s a must buy who is looking for an upgrade from previous generation of iPhones. If you are using XR then still you can hold on for sometime and upgrade to 2020 model else this phone is a must buy . Camera quality is amazing and wide angle is something to count upon. Performance wise it’s amazing and feels premium while holding in hand. So a big YES for this device. Go for 128 GB variant as the 4K videos will occupy lots of space and the storage can get over very quickly. Try to buy it with... READ MORE',\n",
       " 'Value for money❤️❤️ Its awesome mobile phone in the world ... Display was very good and bright .. Trust me freinds you r never regret after Buying.. Just go for it.... I love this phone and i switch to iphone x to 11',\n",
       " 'Totally in love with this ❤ the camera quality is amazing just love it 😘😘😘 itsss dammnnnnnn amazing... Must buy iPhone 11 this is my best experience ever ☀👌👌🧡🧡🧡🧡🧡 thanku apple ❤',\n",
       " 'Best budget Iphone till date ❤️ go for it guys without second thought. Let me explain you guys about Camera, Display, battery, and performance.  Camera: at this price range there is no comparison of camera, you’ll love the picture quality as well as video quality. I am a Vlogger I wanted an iPhone with 4k video by front camera and I got this phone and I am more than happy 😃  Battery: I use this phone roughly as I am active social media person and I have a youtube channel. so the battery ba... READ MORE',\n",
       " \"Iphone is just awesome.. battery backup is very very nice.. continuously for 10 hours we can use it.camera is just awesome.. display is just fab.i love it alot..i had to wait 15 days for it as i pre ordered it..overalll it's worth the price..these all images are clicked by my iPhone..and i love it.\",\n",
       " \"It's my first time to use iOS phone and I am loving my upgradation 😍😍 I love the color, I love the assebility of the phone....I need to learn more about its functionality, but as far as I have seen, it's quite easy and it has a lot of functions to work on, specially if you are a content writer or a blogger you get a lot of content creation platforms and they are really amazing.  This phone not only for good quality photography but a lot of other task too.😍💯\",\n",
       " 'Excellent camera, good performance, no lag. The lcd display is also good.. but difference come when we watch movie in prime and Netflix, the colours are not vibrant.. as we see in amoled display.. and the charger in box is of 5 watts.. takes more than 3 hours to charge from 0 to 100.. so guys be prepare to buy 18 watts charger . Finally I am an android user, it was my first Iapple phone, I promise u guys the iOS is so smooth.. overall the phone is damn good.... close eyes to buy it.. thanks t... READ MORE',\n",
       " 'It’s been almost a month since I have been using this phone. I upgraded from an iPhone 8. The main issue with my 8 was battery and this phone is just awesome when it comes to battery. It lasts a day and a half for me with my regular use , internet connected always with 4g Can’t move forward without saying this. Battery of this phone is a life saver when I am traveling or at work when I don’t get the option to charge Camera is superb. Front cam selfies and back cam photos are just awesome. ... READ MORE',\n",
       " 'Smooth like butter, camera like fantabulous, sound is crystal clear & its red color is damn attractive, i am just loving it. Must buy if you love photography.  Lucky to get it in sale, thank you Flipkart.',\n",
       " 'Really worth of money. i just love it. It is the best phone ever.',\n",
       " 'This is my first ever I phone. Before this I was using my google nexus 5. But moving from android to iOS is a great experience. It’s worth at this price. I will highly recommend it if you want to move to iOS. The best part of this phone is it’s camera and it’s battery life. This two things have won my heart. I loved it. Happy to have it in my hand. Still exploring its features. And can’t forget to mention Flipkart service. Very prompt service and fast delivery.',\n",
       " 'Awesome Phone. Slightly high price but worth. Better than iPhone XR. Camera is superb and wide angle camera is very clear. 12MP selfie camera is also very good. A13 Chip gives a very good and smooth performance.',\n",
       " 'Battery backup is extraordinary, camera is decent & performance offered by A13 bionic is awsome. The display is good in practical usage like the visibility of display is very good in direct sun light compare to pro models. Iam extremely satisfied for the money I spent.',\n",
       " 'Superb Product !!! A big and worthy upgrade from mi 3S to iphone 11 . Totally loved it !',\n",
       " 'I have migrated from OP 7pro... and trust me, iPhone 11 is totally worth it.. following are the reasons:- 1)there is ABSOLUTELY NO ISSUE WITH THE DISPLAY... its crisp, sharp and I found it to be much much better than OP7 pro. Netflix, Prime video all run crisply... you won’t miss a thing. True Tone works flawlessly...the display brightness is perfect. OP have not calibrated their screens properly. 2) iPhone 11 series have really good cameras... others have spoken in depth about them. 3) bat... READ MORE',\n",
       " 'It’s an amazing product from apple and the camera is simply superb. Phone is faster.Night shot is simply superb and detailing and colour differentiation from camera is an added advantage  This review I have written from iPhone 11 only and I am glad to say outside.  Cons wise if we see HD+ display only, no battery percentage indicator as in older iPhone 8. No assistive touch control button in it No oleophobic coating on back panel glass and finger prints are visible but since I bought mint gr... READ MORE',\n",
       " 'I just directly switch from iphone 6s to iphone 11 .The best premium smartphone I recommend to everyone. Excellent quality and colors the iphone have in 11 series. Camera quality is just awesome and the major feel when we hold in our hands. The sound quality and volume is also higher then the previous models. I will recommend to buy iphone 11 instead of pro models , there is nothing much difference as this model contains everything which fulfill our needs.  Only one thing that I dislike abo... READ MORE',\n",
       " 'Looking so good 👍 😍 super 👌 stylish 😎 phone Clean box 📦 good 👍 delivery 👌 fast delivery Original box Original iphone 📱 👌 😍😍😍',\n",
       " 'After 1 month use I found camera quality best compared to my previous Samsung note 10+.Display not good as note 10 also charging too slow.Apple should add fast charger like 11 plus and pro.Best phone for daily use',\n",
       " 'Upgraded from iphone 6 to 11 best phone for iphone users battery is much better than other iphones camera is awesome love to use it.camera is so clear in night.',\n",
       " \"It's very high performances devise i am like the service of flipkart delevary very fast and packing very nice perfect phone\",\n",
       " 'Well you all know the specifications . One of a kind. Best iPhone till date. Many enhancements to the camera app with many options. Love the glass body with matte finish in the lens area on the back. Lovely colours to choose from. Best battery in an iPhone till date, enough to last more than a day in normal usage. I tested my iPhone 11 battery and lasted for than 24 hours after full charge still with 30% battery charge left. Watched movies for some time. Normal usage on calls, browsing, musi... READ MORE',\n",
       " 'This will help you more. See if you are planning to buy iPhone 11. I will say. Yes. But there are some plans I just want to disclose before you buy. 1) If you are an existing iPhone X/XS/XS Max/ XR user, better you guys do not think it to buy. You guys have more or less better gadget. 2) If you are an android user and planning to buy premium phone. I will suggest them to please buy iPhone instead of buying an Android. I bet you will never go back to android after using IOS. Now I want to shar... READ MORE',\n",
       " 'The built quality is not very premium. The battery back is great . The LCD panel is not so sharp but the brightness level is very High . Camera is super duper awesome. The red colour which people think is bright is actually very soothing and excellent colour to choose from . The A13 Bionic chip is really a flagship processor and can beat any phone which even has 12 gb ram . Camera module is very great and looks very stylish.',\n",
       " 'Amazing camera and feel super machine I am not describe my feeling but this is amazing Phone I am so lucky I have this',\n",
       " 'Really good actually this is my first apple product am using its really awesome performance wise excellent. Am really happy with this iphone11',\n",
       " 'it is very good at performance. Camera is best like before and very smooth response even in water. Don’t buy 12 mini buy iPhone 11 , it is far better than 12 mini believe me ! Have a nice day \\uf8ff ☺️',\n",
       " 'Reviewing again after 5 months. At the beginning the battery and performance was good but it degraded soon. Also I was facing heating issues. The mobile will heat up like a stove sometimes. You cannot even play Pubg even in low settings properly, performance is not a problem but heating is. Also if you play that game for 10 mins the brightness will be automatically down due to over heating even when the auto brightness is set to off. This will not be solved even if u manually increase the bri... READ MORE',\n",
       " 'We are on apple ecosystem for almost eight years now with couple of iPads and iPhones, including Xr.  Bought iPhone 11 as a gift to my daughter who loves it. We chose for a purple coloured one. Believe me it is gorgeous and towards the lighter shade. Dazzling and brilliant!  The phone is great and does excellent RAM management like any other Apple device.  The screen, though a LCD and lesser ppi as compared to other flagship phones of competitor brands, is a delight to watch with perfect re... READ MORE',\n",
       " 'It is just awesome mobile for this price from Apple,  After 10 days review  Battery enough for 1 day even 24*7 Internet will be on and mostly internet usage  Camera is just awesome cool , android 64 MP is equal to this just 12 MP  A13 Bionic chip will give more high performance without hanging  Audio stereo speakers will give Dolby atoms sound with crystal clear  Video recording is like cinematic shots of every sec can be a 4K 60fps. Just awesome this phone iPhone 11 loved one',\n",
       " 'Best Apple iPhone that i have bought at a very reasonable price, camera quality is next level just awesome n of superior quality android phones not even close(RIP) to that and also battery is really good but packaging by Flipkart of iPhone was very poor of such a expensive product, firstly im bit worried about the quality of product if i purchased it through online how was the product but i think now this was mine best decision to bought it through Flipkart online because i got genuine Apple... READ MORE',\n",
       " \"I can say I'm damn impressed with iPhone 11. As they says iPhone 11 have the toughest glass ever in the smartphone which you'll find on the front and back and it's totally smooth. The fit and finish is full apple quality - there's no sense that any cheaping out has happened in the construction. Without saying it's camera features this review won't complete. The iPhone 11 has a dual camera system, consisting of a wide angle len's that's pretty much same as found on the iPhone XR last year, but... READ MORE\",\n",
       " 'Best Quality Product OF iPhone Series , Sound Quality & Camera quality is very awesome, Battery Life is very Sufficient for 24 hr Backup With Full Internet Access , I love this this Product too much , It is very fast & making me Very fast in all my daily Routine Highlights; 1.Camera: 5 STAR 2.Video Recording: 5 star 3.Night mODE sHOOTING & Camera:4 star 4. Audio Quality: Awesome 5. Battery : 5 Star 6. Touch:5 Star 7. Processor: Very Fast The M... READ MORE',\n",
       " 'First thanks to Flipkart for this amazing deal and phone is outstanding. I upgraded from iPhone 7 and this is like very big upgrade. But the packaging was very basic I expected a good packaging as they only wrapped one layer of bubble wrap which I don’t think is enough to protect this expensive phone. And I recommend this phone and seller as well.  And I’m posting this review after using it for 4 days.',\n",
       " 'Superfast delivery by Flipkart. Thanks.  1. iPhone 11 is a pretty solid phone for the money you are paying. 2. All the bad reviews about the display is confusing. It’s not that bad. 3. I switched from a Oneplus 7t. I have no complaints about the display quality of iPhone. Yes, it’s not OLED, so, we are missing on the deep blacks. But that’s it. It is a very colour accurate display. Gets adequately bright and I could not find any pixelation. 4. Performance is one of the best, if not best, in ... READ MORE',\n",
       " \"Again back to apple iphone after a gap of 2-3 years. It's pleasure to use iOS and the quality product by Apple. Iphone 11 still works like a beast in 2021 also. It really capable of doing day to day usage as well as hard core gaming. Battery is awesome. I'm really too much satisfied with it. Apart fto the very gorgious IPS LCD (AMOLED will be better) everything is mind boggling. Iphone💕.\",\n",
       " 'impressive super phone and best in class camera ,sound and face unlock is super fast just see and phone is unlock and fast in daily apps use',\n",
       " 'Well while switching from android to iOS the first thing you need to be careful about is that you will loose all your whatsapp chat backups as both are different operating systems. Camera clarity is awesome and though being an lcd screen clarity and resolution is good. Battery backup is also good unlike previous gen iPhone. So far the experience is good will Padre after a few months of usage.  P.S the black is more of a dark grey shade and not jet black',\n",
       " 'In love with this iphone great performance,camera ,battery everything. Go for it have a uncompareble battery backup, no doubts in iPhone camera here You can see the picture which is shot on my iPhone In love with this iphone great performance,camera ,battery everything. Go for it have a uncompareble battery backup, no doubts in iPhone camera here You can see the picture which is shot on my iPhone In love with this iphone great performance,camera ,battery everything. Go for it have a uncompare... READ MORE']"
      ]
     },
     "execution_count": 711,
     "metadata": {},
     "output_type": "execute_result"
    }
   ],
   "source": [
    "append_items(rating_tags,summary_tags,review_tags,rating_list,summary_list,full_review_list)\n",
    "print(rating_list)\n",
    "print(summary_list)\n",
    "full_review_list"
   ]
  },
  {
   "cell_type": "code",
   "execution_count": 712,
   "metadata": {},
   "outputs": [
    {
     "name": "stdout",
     "output_type": "stream",
     "text": [
      "50 50 50\n"
     ]
    }
   ],
   "source": [
    "print(len(rating_list),len(summary_list),len(full_review_list))"
   ]
  },
  {
   "cell_type": "code",
   "execution_count": 713,
   "metadata": {},
   "outputs": [],
   "source": [
    "next_btn = driver.find_element_by_xpath(\"//nav[@class='yFHi8N']/a[12]\")\n",
    "next_btn.click()"
   ]
  },
  {
   "cell_type": "code",
   "execution_count": 714,
   "metadata": {},
   "outputs": [],
   "source": [
    "rating_tags,summary_tags,review_tags = tags()"
   ]
  },
  {
   "cell_type": "code",
   "execution_count": 715,
   "metadata": {
    "collapsed": true
   },
   "outputs": [
    {
     "name": "stdout",
     "output_type": "stream",
     "text": [
      "['5', '5', '5', '5', '5', '5', '5', '4', '5', '5', '5', '5', '5', '5', '5', '5', '5', '5', '5', '5', '5', '5', '4', '5', '5', '5', '5', '5', '4', '5', '5', '5', '5', '5', '5', '5', '5', '4', '1', '5', '5', '5', '5', '5', '5', '5', '5', '4', '5', '5', '5', '5', '4', '5', '5', '5', '5', '5', '5', '5']\n",
      "['Brilliant', 'Simply awesome', 'Perfect product!', 'Fabulous!', 'Best in the market!', 'Worth every penny', 'Great product', 'Good choice', 'Highly recommended', 'Worth every penny', 'Highly recommended', 'Perfect product!', 'Perfect product!', 'Classy product', 'Worth every penny', 'Perfect product!', 'Highly recommended', 'Simply awesome', 'Worth every penny', 'Worth every penny', 'Terrific', 'Wonderful', 'Nice product', 'Perfect product!', 'Classy product', 'Brilliant', 'Must buy!', 'Wonderful', 'Good choice', 'Perfect product!', 'Terrific purchase', 'Simply awesome', 'Great product', 'Mind-blowing purchase', 'Terrific purchase', 'Excellent', 'Simply awesome', 'Good quality product', 'Very poor', 'Classy product', 'Perfect product!', 'Must buy!', 'Fabulous!', 'Mind-blowing purchase', 'Mind-blowing purchase', 'Wonderful', 'Great product', 'Very Good', 'Classy product', 'Perfect product!', 'Just wow!', 'Awesome', 'Pretty good', 'Terrific purchase', 'Awesome', 'Classy product', 'Brilliant', 'Terrific', 'Perfect product!', 'Awesome']\n"
     ]
    },
    {
     "data": {
      "text/plain": [
       "['The Best Phone for the Money  The iPhone 11 offers superb cameras, a more durable design and excellent battery life for an affordable price.  Compelling ultra-wide camera New Night mode is excellent Long battery life',\n",
       " 'Really satisfied with the Product I received... It’s totally genuine and the packaging was also really good so if ur planning to buy just go for it.',\n",
       " 'Amazing phone with great cameras and better battery which gives you the best performance. I just love the camera .',\n",
       " 'This is my first iOS phone. I am very happy with this product. Very much satisfied with this. I love this phone.',\n",
       " 'Great iPhone very snappy experience as apple kind. Upgraded from iPhone 7. Pros -Camera top class - Battery top performed -Chipset no need to say as apple kind -Security as you expect from apple - Display super bright industry leading colour accuracy and super responsive -Build quality as expect from apple sturdy premium durable beautiful stylish. -Os most stable os in smartphone industry  Cons -No 5G -Display is not based on OLED technology -Charger headphones and 1 apple stic... READ MORE',\n",
       " 'Previously I was using one plus 3t it was a great phone And then I decided to upgrade I am stuck between Samsung s10 plus or iPhone 11 I have seen the specs and everything were good except the display it’s somewhere between 720-1080 and it’s not even an amoled it’s an LCD display But I decided to go with iPhone because I have never used an IOS device I have Been an android user from the past 9 years I ordered IPhone 11 (128gb) product red My experience after using 3 weeks 1. The delivery ... READ MORE',\n",
       " 'Amazing Powerful and Durable Gadget.  I’m am very happy with the camera picture quality, Amazing face id unlocked in dark room, Strong battery with perfect screen size as you can carry easily in pocket. This is my third iPhone.  I shifted from android Samsung Note series to iPhone because of the strong build quality and peace of mind for next 3-4 years.  Don’t think to much just go for it and I suggest you to go for minimum 128gb variant or more 256gb.  I’ve attached my puppy pics and no fi... READ MORE',\n",
       " 'So far it’s been an AMAZING experience coming back to iOS after nearly a decade but it’s not as versatile as android though phone is sturdy dropped it accidentally a couple of times and nothing happened fortunately camera is awesome',\n",
       " 'What a camera .....just awesome ..you can feel this iPhone just awesome . Good for gaming also ...try pubg in hd it’s just wow',\n",
       " 'i11 is worthy to buy, too much happy with the product. Thank u flipkart I received the item on time..loved it..',\n",
       " 'iphone 11 is a very good phone to buy only if you can compromise for the display. The display on this is device is pretty good but you can get other options with better displays in this price segment. If you can survive with an HD+ LCD panel with thicker bezels and a notch up top then this is a very good phone for you. Cameras are awesome, battery backup excellent, great performance and a decent premium look. Good job Apple !',\n",
       " 'It’s a must buy who is looking for an upgrade from previous generation of iPhones. If you are using XR then still you can hold on for sometime and upgrade to 2020 model else this phone is a must buy . Camera quality is amazing and wide angle is something to count upon. Performance wise it’s amazing and feels premium while holding in hand. So a big YES for this device. Go for 128 GB variant as the 4K videos will occupy lots of space and the storage can get over very quickly. Try to buy it with... READ MORE',\n",
       " 'Value for money❤️❤️ Its awesome mobile phone in the world ... Display was very good and bright .. Trust me freinds you r never regret after Buying.. Just go for it.... I love this phone and i switch to iphone x to 11',\n",
       " 'Totally in love with this ❤ the camera quality is amazing just love it 😘😘😘 itsss dammnnnnnn amazing... Must buy iPhone 11 this is my best experience ever ☀👌👌🧡🧡🧡🧡🧡 thanku apple ❤',\n",
       " 'Best budget Iphone till date ❤️ go for it guys without second thought. Let me explain you guys about Camera, Display, battery, and performance.  Camera: at this price range there is no comparison of camera, you’ll love the picture quality as well as video quality. I am a Vlogger I wanted an iPhone with 4k video by front camera and I got this phone and I am more than happy 😃  Battery: I use this phone roughly as I am active social media person and I have a youtube channel. so the battery ba... READ MORE',\n",
       " \"Iphone is just awesome.. battery backup is very very nice.. continuously for 10 hours we can use it.camera is just awesome.. display is just fab.i love it alot..i had to wait 15 days for it as i pre ordered it..overalll it's worth the price..these all images are clicked by my iPhone..and i love it.\",\n",
       " \"It's my first time to use iOS phone and I am loving my upgradation 😍😍 I love the color, I love the assebility of the phone....I need to learn more about its functionality, but as far as I have seen, it's quite easy and it has a lot of functions to work on, specially if you are a content writer or a blogger you get a lot of content creation platforms and they are really amazing.  This phone not only for good quality photography but a lot of other task too.😍💯\",\n",
       " 'Excellent camera, good performance, no lag. The lcd display is also good.. but difference come when we watch movie in prime and Netflix, the colours are not vibrant.. as we see in amoled display.. and the charger in box is of 5 watts.. takes more than 3 hours to charge from 0 to 100.. so guys be prepare to buy 18 watts charger . Finally I am an android user, it was my first Iapple phone, I promise u guys the iOS is so smooth.. overall the phone is damn good.... close eyes to buy it.. thanks t... READ MORE',\n",
       " 'It’s been almost a month since I have been using this phone. I upgraded from an iPhone 8. The main issue with my 8 was battery and this phone is just awesome when it comes to battery. It lasts a day and a half for me with my regular use , internet connected always with 4g Can’t move forward without saying this. Battery of this phone is a life saver when I am traveling or at work when I don’t get the option to charge Camera is superb. Front cam selfies and back cam photos are just awesome. ... READ MORE',\n",
       " 'Smooth like butter, camera like fantabulous, sound is crystal clear & its red color is damn attractive, i am just loving it. Must buy if you love photography.  Lucky to get it in sale, thank you Flipkart.',\n",
       " 'Really worth of money. i just love it. It is the best phone ever.',\n",
       " 'This is my first ever I phone. Before this I was using my google nexus 5. But moving from android to iOS is a great experience. It’s worth at this price. I will highly recommend it if you want to move to iOS. The best part of this phone is it’s camera and it’s battery life. This two things have won my heart. I loved it. Happy to have it in my hand. Still exploring its features. And can’t forget to mention Flipkart service. Very prompt service and fast delivery.',\n",
       " 'Awesome Phone. Slightly high price but worth. Better than iPhone XR. Camera is superb and wide angle camera is very clear. 12MP selfie camera is also very good. A13 Chip gives a very good and smooth performance.',\n",
       " 'Battery backup is extraordinary, camera is decent & performance offered by A13 bionic is awsome. The display is good in practical usage like the visibility of display is very good in direct sun light compare to pro models. Iam extremely satisfied for the money I spent.',\n",
       " 'Superb Product !!! A big and worthy upgrade from mi 3S to iphone 11 . Totally loved it !',\n",
       " 'I have migrated from OP 7pro... and trust me, iPhone 11 is totally worth it.. following are the reasons:- 1)there is ABSOLUTELY NO ISSUE WITH THE DISPLAY... its crisp, sharp and I found it to be much much better than OP7 pro. Netflix, Prime video all run crisply... you won’t miss a thing. True Tone works flawlessly...the display brightness is perfect. OP have not calibrated their screens properly. 2) iPhone 11 series have really good cameras... others have spoken in depth about them. 3) bat... READ MORE',\n",
       " 'It’s an amazing product from apple and the camera is simply superb. Phone is faster.Night shot is simply superb and detailing and colour differentiation from camera is an added advantage  This review I have written from iPhone 11 only and I am glad to say outside.  Cons wise if we see HD+ display only, no battery percentage indicator as in older iPhone 8. No assistive touch control button in it No oleophobic coating on back panel glass and finger prints are visible but since I bought mint gr... READ MORE',\n",
       " 'I just directly switch from iphone 6s to iphone 11 .The best premium smartphone I recommend to everyone. Excellent quality and colors the iphone have in 11 series. Camera quality is just awesome and the major feel when we hold in our hands. The sound quality and volume is also higher then the previous models. I will recommend to buy iphone 11 instead of pro models , there is nothing much difference as this model contains everything which fulfill our needs.  Only one thing that I dislike abo... READ MORE',\n",
       " 'Looking so good 👍 😍 super 👌 stylish 😎 phone Clean box 📦 good 👍 delivery 👌 fast delivery Original box Original iphone 📱 👌 😍😍😍',\n",
       " 'After 1 month use I found camera quality best compared to my previous Samsung note 10+.Display not good as note 10 also charging too slow.Apple should add fast charger like 11 plus and pro.Best phone for daily use',\n",
       " 'Upgraded from iphone 6 to 11 best phone for iphone users battery is much better than other iphones camera is awesome love to use it.camera is so clear in night.',\n",
       " \"It's very high performances devise i am like the service of flipkart delevary very fast and packing very nice perfect phone\",\n",
       " 'Well you all know the specifications . One of a kind. Best iPhone till date. Many enhancements to the camera app with many options. Love the glass body with matte finish in the lens area on the back. Lovely colours to choose from. Best battery in an iPhone till date, enough to last more than a day in normal usage. I tested my iPhone 11 battery and lasted for than 24 hours after full charge still with 30% battery charge left. Watched movies for some time. Normal usage on calls, browsing, musi... READ MORE',\n",
       " 'This will help you more. See if you are planning to buy iPhone 11. I will say. Yes. But there are some plans I just want to disclose before you buy. 1) If you are an existing iPhone X/XS/XS Max/ XR user, better you guys do not think it to buy. You guys have more or less better gadget. 2) If you are an android user and planning to buy premium phone. I will suggest them to please buy iPhone instead of buying an Android. I bet you will never go back to android after using IOS. Now I want to shar... READ MORE',\n",
       " 'The built quality is not very premium. The battery back is great . The LCD panel is not so sharp but the brightness level is very High . Camera is super duper awesome. The red colour which people think is bright is actually very soothing and excellent colour to choose from . The A13 Bionic chip is really a flagship processor and can beat any phone which even has 12 gb ram . Camera module is very great and looks very stylish.',\n",
       " 'Amazing camera and feel super machine I am not describe my feeling but this is amazing Phone I am so lucky I have this',\n",
       " 'Really good actually this is my first apple product am using its really awesome performance wise excellent. Am really happy with this iphone11',\n",
       " 'it is very good at performance. Camera is best like before and very smooth response even in water. Don’t buy 12 mini buy iPhone 11 , it is far better than 12 mini believe me ! Have a nice day \\uf8ff ☺️',\n",
       " 'Reviewing again after 5 months. At the beginning the battery and performance was good but it degraded soon. Also I was facing heating issues. The mobile will heat up like a stove sometimes. You cannot even play Pubg even in low settings properly, performance is not a problem but heating is. Also if you play that game for 10 mins the brightness will be automatically down due to over heating even when the auto brightness is set to off. This will not be solved even if u manually increase the bri... READ MORE',\n",
       " 'We are on apple ecosystem for almost eight years now with couple of iPads and iPhones, including Xr.  Bought iPhone 11 as a gift to my daughter who loves it. We chose for a purple coloured one. Believe me it is gorgeous and towards the lighter shade. Dazzling and brilliant!  The phone is great and does excellent RAM management like any other Apple device.  The screen, though a LCD and lesser ppi as compared to other flagship phones of competitor brands, is a delight to watch with perfect re... READ MORE',\n",
       " 'It is just awesome mobile for this price from Apple,  After 10 days review  Battery enough for 1 day even 24*7 Internet will be on and mostly internet usage  Camera is just awesome cool , android 64 MP is equal to this just 12 MP  A13 Bionic chip will give more high performance without hanging  Audio stereo speakers will give Dolby atoms sound with crystal clear  Video recording is like cinematic shots of every sec can be a 4K 60fps. Just awesome this phone iPhone 11 loved one',\n",
       " 'Best Apple iPhone that i have bought at a very reasonable price, camera quality is next level just awesome n of superior quality android phones not even close(RIP) to that and also battery is really good but packaging by Flipkart of iPhone was very poor of such a expensive product, firstly im bit worried about the quality of product if i purchased it through online how was the product but i think now this was mine best decision to bought it through Flipkart online because i got genuine Apple... READ MORE',\n",
       " \"I can say I'm damn impressed with iPhone 11. As they says iPhone 11 have the toughest glass ever in the smartphone which you'll find on the front and back and it's totally smooth. The fit and finish is full apple quality - there's no sense that any cheaping out has happened in the construction. Without saying it's camera features this review won't complete. The iPhone 11 has a dual camera system, consisting of a wide angle len's that's pretty much same as found on the iPhone XR last year, but... READ MORE\",\n",
       " 'Best Quality Product OF iPhone Series , Sound Quality & Camera quality is very awesome, Battery Life is very Sufficient for 24 hr Backup With Full Internet Access , I love this this Product too much , It is very fast & making me Very fast in all my daily Routine Highlights; 1.Camera: 5 STAR 2.Video Recording: 5 star 3.Night mODE sHOOTING & Camera:4 star 4. Audio Quality: Awesome 5. Battery : 5 Star 6. Touch:5 Star 7. Processor: Very Fast The M... READ MORE',\n",
       " 'First thanks to Flipkart for this amazing deal and phone is outstanding. I upgraded from iPhone 7 and this is like very big upgrade. But the packaging was very basic I expected a good packaging as they only wrapped one layer of bubble wrap which I don’t think is enough to protect this expensive phone. And I recommend this phone and seller as well.  And I’m posting this review after using it for 4 days.',\n",
       " 'Superfast delivery by Flipkart. Thanks.  1. iPhone 11 is a pretty solid phone for the money you are paying. 2. All the bad reviews about the display is confusing. It’s not that bad. 3. I switched from a Oneplus 7t. I have no complaints about the display quality of iPhone. Yes, it’s not OLED, so, we are missing on the deep blacks. But that’s it. It is a very colour accurate display. Gets adequately bright and I could not find any pixelation. 4. Performance is one of the best, if not best, in ... READ MORE',\n",
       " \"Again back to apple iphone after a gap of 2-3 years. It's pleasure to use iOS and the quality product by Apple. Iphone 11 still works like a beast in 2021 also. It really capable of doing day to day usage as well as hard core gaming. Battery is awesome. I'm really too much satisfied with it. Apart fto the very gorgious IPS LCD (AMOLED will be better) everything is mind boggling. Iphone💕.\",\n",
       " 'impressive super phone and best in class camera ,sound and face unlock is super fast just see and phone is unlock and fast in daily apps use',\n",
       " 'Well while switching from android to iOS the first thing you need to be careful about is that you will loose all your whatsapp chat backups as both are different operating systems. Camera clarity is awesome and though being an lcd screen clarity and resolution is good. Battery backup is also good unlike previous gen iPhone. So far the experience is good will Padre after a few months of usage.  P.S the black is more of a dark grey shade and not jet black',\n",
       " 'In love with this iphone great performance,camera ,battery everything. Go for it have a uncompareble battery backup, no doubts in iPhone camera here You can see the picture which is shot on my iPhone In love with this iphone great performance,camera ,battery everything. Go for it have a uncompareble battery backup, no doubts in iPhone camera here You can see the picture which is shot on my iPhone In love with this iphone great performance,camera ,battery everything. Go for it have a uncompare... READ MORE',\n",
       " 'Best in class. Battery backup is good especially when you play games like Pubg COD. But it is sort of heavy when you hold in hands. Portrait mode is best to click pictures. Stage light effect is awesome. Try to click photos outside in nature because photos inside home or room will not give you the quality in any phone even in DSLR.',\n",
       " 'Very excited to have this phone. This phone has the real power unlike the android phones having SD 855 . The battery life is very good and the camera quality is excellent as comapred to redmi and other phones except google pixel. I M enjoying every single bit of it. Would recommed only if you have the budget.',\n",
       " 'I was using Iphone 6s and also Oneplus 6t. Both mobiles were perfectly alright in Photos, gaming, and smooth interface . My 6s mobile getting battery issue. thought upgrade to 11. Really like this mobile of its Internal storage (compare to 6s) , camera and its touch feeling. Its a worth buying mobile for me.',\n",
       " 'Its Very awesome product working and good camera quality and all about best product and also flipkart is very great deal and offer nice price',\n",
       " 'I am using this phone for 5 days and its one of the best camera out there ❤️ the screen is not oled and i am coming from iphone xs so its little bit not up to the mark i would say But overall value for money💕😍the battery back up is far better than my iphone xs and its worth in my apple ecosystem💫❤️if u are an apple User and have the eco system then go for it❤️though i will be getting the new iphone but its pretty good💫',\n",
       " 'Best and amazing product.....phone looks so premium.... battary is also good as expected .... Wide angle camera is so addictive ...if you are a IOS lover....then this phone will be the best choice for you all!!💯🔥',\n",
       " 'Excellent camera and display touching very nice and smooth very improvement against iPhone XR and new processor is very fast',\n",
       " \"I got this beast today. And I must say the picture quality of its camera is awesome. Both the cameras works fine.  As for as the processing is concerned, it runs without any lag. You can play and do whatever you want without a glitch.  The battery runs for a day with medium and high workload.  The display is good and the speakers are working fine.  The earphones doesn't have any base and you can use it for calling mostly.  The charging time is approximately for 90 minutes for full charging... READ MORE\",\n",
       " 'Awesome purchase. Amazing phone with good battery backup. It’s a top notch device. White colour looks amazing. Phone has a few extra feature than iPhone XR. Overall, this is value for money',\n",
       " 'Always love the apple products, upgraded from old iPhone 6S plus to this after having my first baby. I just love to click baby’s photos with it. Overall I just love this phone. Battery back up is okay, sound quality is good. Haven’t tested yet waterproof yet. Only one thing I hate is apple could have given charger & headphones in box.']"
      ]
     },
     "execution_count": 715,
     "metadata": {},
     "output_type": "execute_result"
    }
   ],
   "source": [
    "append_items(rating_tags,summary_tags,review_tags,rating_list,summary_list,full_review_list)\n",
    "print(rating_list)\n",
    "print(summary_list)\n",
    "full_review_list"
   ]
  },
  {
   "cell_type": "code",
   "execution_count": 716,
   "metadata": {},
   "outputs": [
    {
     "name": "stdout",
     "output_type": "stream",
     "text": [
      "60 60 60\n"
     ]
    }
   ],
   "source": [
    "print(len(rating_list),len(summary_list),len(full_review_list))"
   ]
  },
  {
   "cell_type": "code",
   "execution_count": 717,
   "metadata": {},
   "outputs": [],
   "source": [
    "next_btn = driver.find_element_by_xpath(\"//nav[@class='yFHi8N']/a[12]\")\n",
    "next_btn.click()"
   ]
  },
  {
   "cell_type": "code",
   "execution_count": 718,
   "metadata": {},
   "outputs": [],
   "source": [
    "rating_tags,summary_tags,review_tags = tags()"
   ]
  },
  {
   "cell_type": "code",
   "execution_count": 719,
   "metadata": {
    "collapsed": true
   },
   "outputs": [
    {
     "name": "stdout",
     "output_type": "stream",
     "text": [
      "['5', '5', '5', '5', '5', '5', '5', '4', '5', '5', '5', '5', '5', '5', '5', '5', '5', '5', '5', '5', '5', '5', '4', '5', '5', '5', '5', '5', '4', '5', '5', '5', '5', '5', '5', '5', '5', '4', '1', '5', '5', '5', '5', '5', '5', '5', '5', '4', '5', '5', '5', '5', '4', '5', '5', '5', '5', '5', '5', '5', '5', '1', '5', '5', '5', '4', '5', '5', '5', '4']\n",
      "['Brilliant', 'Simply awesome', 'Perfect product!', 'Fabulous!', 'Best in the market!', 'Worth every penny', 'Great product', 'Good choice', 'Highly recommended', 'Worth every penny', 'Highly recommended', 'Perfect product!', 'Perfect product!', 'Classy product', 'Worth every penny', 'Perfect product!', 'Highly recommended', 'Simply awesome', 'Worth every penny', 'Worth every penny', 'Terrific', 'Wonderful', 'Nice product', 'Perfect product!', 'Classy product', 'Brilliant', 'Must buy!', 'Wonderful', 'Good choice', 'Perfect product!', 'Terrific purchase', 'Simply awesome', 'Great product', 'Mind-blowing purchase', 'Terrific purchase', 'Excellent', 'Simply awesome', 'Good quality product', 'Very poor', 'Classy product', 'Perfect product!', 'Must buy!', 'Fabulous!', 'Mind-blowing purchase', 'Mind-blowing purchase', 'Wonderful', 'Great product', 'Very Good', 'Classy product', 'Perfect product!', 'Just wow!', 'Awesome', 'Pretty good', 'Terrific purchase', 'Awesome', 'Classy product', 'Brilliant', 'Terrific', 'Perfect product!', 'Awesome', 'Perfect product!', 'Very poor', 'Fabulous!', 'Excellent', 'Must buy!', 'Value-for-money', 'Best in the market!', 'Brilliant', 'Terrific purchase', 'Good quality product']\n"
     ]
    },
    {
     "data": {
      "text/plain": [
       "['The Best Phone for the Money  The iPhone 11 offers superb cameras, a more durable design and excellent battery life for an affordable price.  Compelling ultra-wide camera New Night mode is excellent Long battery life',\n",
       " 'Really satisfied with the Product I received... It’s totally genuine and the packaging was also really good so if ur planning to buy just go for it.',\n",
       " 'Amazing phone with great cameras and better battery which gives you the best performance. I just love the camera .',\n",
       " 'This is my first iOS phone. I am very happy with this product. Very much satisfied with this. I love this phone.',\n",
       " 'Great iPhone very snappy experience as apple kind. Upgraded from iPhone 7. Pros -Camera top class - Battery top performed -Chipset no need to say as apple kind -Security as you expect from apple - Display super bright industry leading colour accuracy and super responsive -Build quality as expect from apple sturdy premium durable beautiful stylish. -Os most stable os in smartphone industry  Cons -No 5G -Display is not based on OLED technology -Charger headphones and 1 apple stic... READ MORE',\n",
       " 'Previously I was using one plus 3t it was a great phone And then I decided to upgrade I am stuck between Samsung s10 plus or iPhone 11 I have seen the specs and everything were good except the display it’s somewhere between 720-1080 and it’s not even an amoled it’s an LCD display But I decided to go with iPhone because I have never used an IOS device I have Been an android user from the past 9 years I ordered IPhone 11 (128gb) product red My experience after using 3 weeks 1. The delivery ... READ MORE',\n",
       " 'Amazing Powerful and Durable Gadget.  I’m am very happy with the camera picture quality, Amazing face id unlocked in dark room, Strong battery with perfect screen size as you can carry easily in pocket. This is my third iPhone.  I shifted from android Samsung Note series to iPhone because of the strong build quality and peace of mind for next 3-4 years.  Don’t think to much just go for it and I suggest you to go for minimum 128gb variant or more 256gb.  I’ve attached my puppy pics and no fi... READ MORE',\n",
       " 'So far it’s been an AMAZING experience coming back to iOS after nearly a decade but it’s not as versatile as android though phone is sturdy dropped it accidentally a couple of times and nothing happened fortunately camera is awesome',\n",
       " 'What a camera .....just awesome ..you can feel this iPhone just awesome . Good for gaming also ...try pubg in hd it’s just wow',\n",
       " 'i11 is worthy to buy, too much happy with the product. Thank u flipkart I received the item on time..loved it..',\n",
       " 'iphone 11 is a very good phone to buy only if you can compromise for the display. The display on this is device is pretty good but you can get other options with better displays in this price segment. If you can survive with an HD+ LCD panel with thicker bezels and a notch up top then this is a very good phone for you. Cameras are awesome, battery backup excellent, great performance and a decent premium look. Good job Apple !',\n",
       " 'It’s a must buy who is looking for an upgrade from previous generation of iPhones. If you are using XR then still you can hold on for sometime and upgrade to 2020 model else this phone is a must buy . Camera quality is amazing and wide angle is something to count upon. Performance wise it’s amazing and feels premium while holding in hand. So a big YES for this device. Go for 128 GB variant as the 4K videos will occupy lots of space and the storage can get over very quickly. Try to buy it with... READ MORE',\n",
       " 'Value for money❤️❤️ Its awesome mobile phone in the world ... Display was very good and bright .. Trust me freinds you r never regret after Buying.. Just go for it.... I love this phone and i switch to iphone x to 11',\n",
       " 'Totally in love with this ❤ the camera quality is amazing just love it 😘😘😘 itsss dammnnnnnn amazing... Must buy iPhone 11 this is my best experience ever ☀👌👌🧡🧡🧡🧡🧡 thanku apple ❤',\n",
       " 'Best budget Iphone till date ❤️ go for it guys without second thought. Let me explain you guys about Camera, Display, battery, and performance.  Camera: at this price range there is no comparison of camera, you’ll love the picture quality as well as video quality. I am a Vlogger I wanted an iPhone with 4k video by front camera and I got this phone and I am more than happy 😃  Battery: I use this phone roughly as I am active social media person and I have a youtube channel. so the battery ba... READ MORE',\n",
       " \"Iphone is just awesome.. battery backup is very very nice.. continuously for 10 hours we can use it.camera is just awesome.. display is just fab.i love it alot..i had to wait 15 days for it as i pre ordered it..overalll it's worth the price..these all images are clicked by my iPhone..and i love it.\",\n",
       " \"It's my first time to use iOS phone and I am loving my upgradation 😍😍 I love the color, I love the assebility of the phone....I need to learn more about its functionality, but as far as I have seen, it's quite easy and it has a lot of functions to work on, specially if you are a content writer or a blogger you get a lot of content creation platforms and they are really amazing.  This phone not only for good quality photography but a lot of other task too.😍💯\",\n",
       " 'Excellent camera, good performance, no lag. The lcd display is also good.. but difference come when we watch movie in prime and Netflix, the colours are not vibrant.. as we see in amoled display.. and the charger in box is of 5 watts.. takes more than 3 hours to charge from 0 to 100.. so guys be prepare to buy 18 watts charger . Finally I am an android user, it was my first Iapple phone, I promise u guys the iOS is so smooth.. overall the phone is damn good.... close eyes to buy it.. thanks t... READ MORE',\n",
       " 'It’s been almost a month since I have been using this phone. I upgraded from an iPhone 8. The main issue with my 8 was battery and this phone is just awesome when it comes to battery. It lasts a day and a half for me with my regular use , internet connected always with 4g Can’t move forward without saying this. Battery of this phone is a life saver when I am traveling or at work when I don’t get the option to charge Camera is superb. Front cam selfies and back cam photos are just awesome. ... READ MORE',\n",
       " 'Smooth like butter, camera like fantabulous, sound is crystal clear & its red color is damn attractive, i am just loving it. Must buy if you love photography.  Lucky to get it in sale, thank you Flipkart.',\n",
       " 'Really worth of money. i just love it. It is the best phone ever.',\n",
       " 'This is my first ever I phone. Before this I was using my google nexus 5. But moving from android to iOS is a great experience. It’s worth at this price. I will highly recommend it if you want to move to iOS. The best part of this phone is it’s camera and it’s battery life. This two things have won my heart. I loved it. Happy to have it in my hand. Still exploring its features. And can’t forget to mention Flipkart service. Very prompt service and fast delivery.',\n",
       " 'Awesome Phone. Slightly high price but worth. Better than iPhone XR. Camera is superb and wide angle camera is very clear. 12MP selfie camera is also very good. A13 Chip gives a very good and smooth performance.',\n",
       " 'Battery backup is extraordinary, camera is decent & performance offered by A13 bionic is awsome. The display is good in practical usage like the visibility of display is very good in direct sun light compare to pro models. Iam extremely satisfied for the money I spent.',\n",
       " 'Superb Product !!! A big and worthy upgrade from mi 3S to iphone 11 . Totally loved it !',\n",
       " 'I have migrated from OP 7pro... and trust me, iPhone 11 is totally worth it.. following are the reasons:- 1)there is ABSOLUTELY NO ISSUE WITH THE DISPLAY... its crisp, sharp and I found it to be much much better than OP7 pro. Netflix, Prime video all run crisply... you won’t miss a thing. True Tone works flawlessly...the display brightness is perfect. OP have not calibrated their screens properly. 2) iPhone 11 series have really good cameras... others have spoken in depth about them. 3) bat... READ MORE',\n",
       " 'It’s an amazing product from apple and the camera is simply superb. Phone is faster.Night shot is simply superb and detailing and colour differentiation from camera is an added advantage  This review I have written from iPhone 11 only and I am glad to say outside.  Cons wise if we see HD+ display only, no battery percentage indicator as in older iPhone 8. No assistive touch control button in it No oleophobic coating on back panel glass and finger prints are visible but since I bought mint gr... READ MORE',\n",
       " 'I just directly switch from iphone 6s to iphone 11 .The best premium smartphone I recommend to everyone. Excellent quality and colors the iphone have in 11 series. Camera quality is just awesome and the major feel when we hold in our hands. The sound quality and volume is also higher then the previous models. I will recommend to buy iphone 11 instead of pro models , there is nothing much difference as this model contains everything which fulfill our needs.  Only one thing that I dislike abo... READ MORE',\n",
       " 'Looking so good 👍 😍 super 👌 stylish 😎 phone Clean box 📦 good 👍 delivery 👌 fast delivery Original box Original iphone 📱 👌 😍😍😍',\n",
       " 'After 1 month use I found camera quality best compared to my previous Samsung note 10+.Display not good as note 10 also charging too slow.Apple should add fast charger like 11 plus and pro.Best phone for daily use',\n",
       " 'Upgraded from iphone 6 to 11 best phone for iphone users battery is much better than other iphones camera is awesome love to use it.camera is so clear in night.',\n",
       " \"It's very high performances devise i am like the service of flipkart delevary very fast and packing very nice perfect phone\",\n",
       " 'Well you all know the specifications . One of a kind. Best iPhone till date. Many enhancements to the camera app with many options. Love the glass body with matte finish in the lens area on the back. Lovely colours to choose from. Best battery in an iPhone till date, enough to last more than a day in normal usage. I tested my iPhone 11 battery and lasted for than 24 hours after full charge still with 30% battery charge left. Watched movies for some time. Normal usage on calls, browsing, musi... READ MORE',\n",
       " 'This will help you more. See if you are planning to buy iPhone 11. I will say. Yes. But there are some plans I just want to disclose before you buy. 1) If you are an existing iPhone X/XS/XS Max/ XR user, better you guys do not think it to buy. You guys have more or less better gadget. 2) If you are an android user and planning to buy premium phone. I will suggest them to please buy iPhone instead of buying an Android. I bet you will never go back to android after using IOS. Now I want to shar... READ MORE',\n",
       " 'The built quality is not very premium. The battery back is great . The LCD panel is not so sharp but the brightness level is very High . Camera is super duper awesome. The red colour which people think is bright is actually very soothing and excellent colour to choose from . The A13 Bionic chip is really a flagship processor and can beat any phone which even has 12 gb ram . Camera module is very great and looks very stylish.',\n",
       " 'Amazing camera and feel super machine I am not describe my feeling but this is amazing Phone I am so lucky I have this',\n",
       " 'Really good actually this is my first apple product am using its really awesome performance wise excellent. Am really happy with this iphone11',\n",
       " 'it is very good at performance. Camera is best like before and very smooth response even in water. Don’t buy 12 mini buy iPhone 11 , it is far better than 12 mini believe me ! Have a nice day \\uf8ff ☺️',\n",
       " 'Reviewing again after 5 months. At the beginning the battery and performance was good but it degraded soon. Also I was facing heating issues. The mobile will heat up like a stove sometimes. You cannot even play Pubg even in low settings properly, performance is not a problem but heating is. Also if you play that game for 10 mins the brightness will be automatically down due to over heating even when the auto brightness is set to off. This will not be solved even if u manually increase the bri... READ MORE',\n",
       " 'We are on apple ecosystem for almost eight years now with couple of iPads and iPhones, including Xr.  Bought iPhone 11 as a gift to my daughter who loves it. We chose for a purple coloured one. Believe me it is gorgeous and towards the lighter shade. Dazzling and brilliant!  The phone is great and does excellent RAM management like any other Apple device.  The screen, though a LCD and lesser ppi as compared to other flagship phones of competitor brands, is a delight to watch with perfect re... READ MORE',\n",
       " 'It is just awesome mobile for this price from Apple,  After 10 days review  Battery enough for 1 day even 24*7 Internet will be on and mostly internet usage  Camera is just awesome cool , android 64 MP is equal to this just 12 MP  A13 Bionic chip will give more high performance without hanging  Audio stereo speakers will give Dolby atoms sound with crystal clear  Video recording is like cinematic shots of every sec can be a 4K 60fps. Just awesome this phone iPhone 11 loved one',\n",
       " 'Best Apple iPhone that i have bought at a very reasonable price, camera quality is next level just awesome n of superior quality android phones not even close(RIP) to that and also battery is really good but packaging by Flipkart of iPhone was very poor of such a expensive product, firstly im bit worried about the quality of product if i purchased it through online how was the product but i think now this was mine best decision to bought it through Flipkart online because i got genuine Apple... READ MORE',\n",
       " \"I can say I'm damn impressed with iPhone 11. As they says iPhone 11 have the toughest glass ever in the smartphone which you'll find on the front and back and it's totally smooth. The fit and finish is full apple quality - there's no sense that any cheaping out has happened in the construction. Without saying it's camera features this review won't complete. The iPhone 11 has a dual camera system, consisting of a wide angle len's that's pretty much same as found on the iPhone XR last year, but... READ MORE\",\n",
       " 'Best Quality Product OF iPhone Series , Sound Quality & Camera quality is very awesome, Battery Life is very Sufficient for 24 hr Backup With Full Internet Access , I love this this Product too much , It is very fast & making me Very fast in all my daily Routine Highlights; 1.Camera: 5 STAR 2.Video Recording: 5 star 3.Night mODE sHOOTING & Camera:4 star 4. Audio Quality: Awesome 5. Battery : 5 Star 6. Touch:5 Star 7. Processor: Very Fast The M... READ MORE',\n",
       " 'First thanks to Flipkart for this amazing deal and phone is outstanding. I upgraded from iPhone 7 and this is like very big upgrade. But the packaging was very basic I expected a good packaging as they only wrapped one layer of bubble wrap which I don’t think is enough to protect this expensive phone. And I recommend this phone and seller as well.  And I’m posting this review after using it for 4 days.',\n",
       " 'Superfast delivery by Flipkart. Thanks.  1. iPhone 11 is a pretty solid phone for the money you are paying. 2. All the bad reviews about the display is confusing. It’s not that bad. 3. I switched from a Oneplus 7t. I have no complaints about the display quality of iPhone. Yes, it’s not OLED, so, we are missing on the deep blacks. But that’s it. It is a very colour accurate display. Gets adequately bright and I could not find any pixelation. 4. Performance is one of the best, if not best, in ... READ MORE',\n",
       " \"Again back to apple iphone after a gap of 2-3 years. It's pleasure to use iOS and the quality product by Apple. Iphone 11 still works like a beast in 2021 also. It really capable of doing day to day usage as well as hard core gaming. Battery is awesome. I'm really too much satisfied with it. Apart fto the very gorgious IPS LCD (AMOLED will be better) everything is mind boggling. Iphone💕.\",\n",
       " 'impressive super phone and best in class camera ,sound and face unlock is super fast just see and phone is unlock and fast in daily apps use',\n",
       " 'Well while switching from android to iOS the first thing you need to be careful about is that you will loose all your whatsapp chat backups as both are different operating systems. Camera clarity is awesome and though being an lcd screen clarity and resolution is good. Battery backup is also good unlike previous gen iPhone. So far the experience is good will Padre after a few months of usage.  P.S the black is more of a dark grey shade and not jet black',\n",
       " 'In love with this iphone great performance,camera ,battery everything. Go for it have a uncompareble battery backup, no doubts in iPhone camera here You can see the picture which is shot on my iPhone In love with this iphone great performance,camera ,battery everything. Go for it have a uncompareble battery backup, no doubts in iPhone camera here You can see the picture which is shot on my iPhone In love with this iphone great performance,camera ,battery everything. Go for it have a uncompare... READ MORE',\n",
       " 'Best in class. Battery backup is good especially when you play games like Pubg COD. But it is sort of heavy when you hold in hands. Portrait mode is best to click pictures. Stage light effect is awesome. Try to click photos outside in nature because photos inside home or room will not give you the quality in any phone even in DSLR.',\n",
       " 'Very excited to have this phone. This phone has the real power unlike the android phones having SD 855 . The battery life is very good and the camera quality is excellent as comapred to redmi and other phones except google pixel. I M enjoying every single bit of it. Would recommed only if you have the budget.',\n",
       " 'I was using Iphone 6s and also Oneplus 6t. Both mobiles were perfectly alright in Photos, gaming, and smooth interface . My 6s mobile getting battery issue. thought upgrade to 11. Really like this mobile of its Internal storage (compare to 6s) , camera and its touch feeling. Its a worth buying mobile for me.',\n",
       " 'Its Very awesome product working and good camera quality and all about best product and also flipkart is very great deal and offer nice price',\n",
       " 'I am using this phone for 5 days and its one of the best camera out there ❤️ the screen is not oled and i am coming from iphone xs so its little bit not up to the mark i would say But overall value for money💕😍the battery back up is far better than my iphone xs and its worth in my apple ecosystem💫❤️if u are an apple User and have the eco system then go for it❤️though i will be getting the new iphone but its pretty good💫',\n",
       " 'Best and amazing product.....phone looks so premium.... battary is also good as expected .... Wide angle camera is so addictive ...if you are a IOS lover....then this phone will be the best choice for you all!!💯🔥',\n",
       " 'Excellent camera and display touching very nice and smooth very improvement against iPhone XR and new processor is very fast',\n",
       " \"I got this beast today. And I must say the picture quality of its camera is awesome. Both the cameras works fine.  As for as the processing is concerned, it runs without any lag. You can play and do whatever you want without a glitch.  The battery runs for a day with medium and high workload.  The display is good and the speakers are working fine.  The earphones doesn't have any base and you can use it for calling mostly.  The charging time is approximately for 90 minutes for full charging... READ MORE\",\n",
       " 'Awesome purchase. Amazing phone with good battery backup. It’s a top notch device. White colour looks amazing. Phone has a few extra feature than iPhone XR. Overall, this is value for money',\n",
       " 'Always love the apple products, upgraded from old iPhone 6S plus to this after having my first baby. I just love to click baby’s photos with it. Overall I just love this phone. Battery back up is okay, sound quality is good. Haven’t tested yet waterproof yet. Only one thing I hate is apple could have given charger & headphones in box.',\n",
       " 'Value for money 5 star rating Excellent camera Battery backup full day in single charge.  Tougher and water resistant design, glossy back. The screen has excellent brightness and contrast. Apple A13 Bionic is the fastest smartphone chip on the planet. Excellent battery life, fast charging support. Stereo speakers with great quality.',\n",
       " 'Please DONT buy from here,  I purchased Apple iPhone 11. with an exchange of IPhone 7, the exchange did not go well, iPhone 7 had a small scratch out side screen which i could never identify till date, but the FLIPKART person could, so he reduced 50% from exchange rate. I decided not to trade in, but paid money.  iPhone 11 Detail Below --------------------------------------------- It came with no charging, then i have put for charging, it took lot of time for charging, the phone also showe... READ MORE',\n",
       " 'awesome phone to have. it has got many smart features apart from mind blowing looks, camera, display, battery and sound. have fallen in love with this phone. must buy phone if you have got enough money. thanks to flipkart and apple of course..',\n",
       " 'Its a fabulous mobile look awesome performance unbeaten camera like dslr battery good i think this is a beast of mobile',\n",
       " 'Dear friends... I want to share my experience with you about this amazing I phone 11....this is my first iPhone and special things about this mobile is it has great camera, battery backup and awesome display.... I mean everything is perfect.loved it 👍👍👍',\n",
       " \"Just got this iphone 11 And it is most powerful mobile phone I have used ever  So,go for it if you want a phone with best specification like camera,battery backup,display, A13 bionic chip  That's my review about this phone but yours can be differ from me....\",\n",
       " \"The best all rounder iphone. Flipkart is doing a great job. They're delivery services are blazing fast. I got delivery on the same day. Genuine Apple Product. Working great. Talking about review There's no need of review for iphones. They're simply the best.\",\n",
       " 'Amazing phone and on great deal I received with super fast delivery by Flipkart...',\n",
       " 'finally an iPhone with very nice battery backup. update from iPhone 7 and happy to have it. camera is not up to the mark in low light but overall a recommended phone if your budget allows 😀',\n",
       " \"I'm switching this phone to oppo reno 10x zoom It's really impressive Rarely I'm missing smooth display touch response like oppo reno but I really loved it. Camera really impressive\"]"
      ]
     },
     "execution_count": 719,
     "metadata": {},
     "output_type": "execute_result"
    }
   ],
   "source": [
    "append_items(rating_tags,summary_tags,review_tags,rating_list,summary_list,full_review_list)\n",
    "print(rating_list)\n",
    "print(summary_list)\n",
    "full_review_list"
   ]
  },
  {
   "cell_type": "code",
   "execution_count": 720,
   "metadata": {},
   "outputs": [
    {
     "name": "stdout",
     "output_type": "stream",
     "text": [
      "70 70 70\n"
     ]
    }
   ],
   "source": [
    "print(len(rating_list),len(summary_list),len(full_review_list))"
   ]
  },
  {
   "cell_type": "code",
   "execution_count": 723,
   "metadata": {},
   "outputs": [],
   "source": [
    "next_btn = driver.find_element_by_xpath(\"//nav[@class='yFHi8N']/a[12]\")\n",
    "next_btn.click()"
   ]
  },
  {
   "cell_type": "code",
   "execution_count": 724,
   "metadata": {},
   "outputs": [],
   "source": [
    "rating_tags,summary_tags,review_tags = tags()"
   ]
  },
  {
   "cell_type": "code",
   "execution_count": 725,
   "metadata": {
    "collapsed": true
   },
   "outputs": [
    {
     "name": "stdout",
     "output_type": "stream",
     "text": [
      "['5', '5', '5', '5', '5', '5', '5', '4', '5', '5', '5', '5', '5', '5', '5', '5', '5', '5', '5', '5', '5', '5', '4', '5', '5', '5', '5', '5', '4', '5', '5', '5', '5', '5', '5', '5', '5', '4', '1', '5', '5', '5', '5', '5', '5', '5', '5', '4', '5', '5', '5', '5', '4', '5', '5', '5', '5', '5', '5', '5', '5', '1', '5', '5', '5', '4', '5', '5', '5', '4', '5', '5', '5', '4', '5', '5', '5', '5', '5', '5']\n",
      "['Brilliant', 'Simply awesome', 'Perfect product!', 'Fabulous!', 'Best in the market!', 'Worth every penny', 'Great product', 'Good choice', 'Highly recommended', 'Worth every penny', 'Highly recommended', 'Perfect product!', 'Perfect product!', 'Classy product', 'Worth every penny', 'Perfect product!', 'Highly recommended', 'Simply awesome', 'Worth every penny', 'Worth every penny', 'Terrific', 'Wonderful', 'Nice product', 'Perfect product!', 'Classy product', 'Brilliant', 'Must buy!', 'Wonderful', 'Good choice', 'Perfect product!', 'Terrific purchase', 'Simply awesome', 'Great product', 'Mind-blowing purchase', 'Terrific purchase', 'Excellent', 'Simply awesome', 'Good quality product', 'Very poor', 'Classy product', 'Perfect product!', 'Must buy!', 'Fabulous!', 'Mind-blowing purchase', 'Mind-blowing purchase', 'Wonderful', 'Great product', 'Very Good', 'Classy product', 'Perfect product!', 'Just wow!', 'Awesome', 'Pretty good', 'Terrific purchase', 'Awesome', 'Classy product', 'Brilliant', 'Terrific', 'Perfect product!', 'Awesome', 'Perfect product!', 'Very poor', 'Fabulous!', 'Excellent', 'Must buy!', 'Value-for-money', 'Best in the market!', 'Brilliant', 'Terrific purchase', 'Good quality product', 'Best in the market!', 'Perfect product!', 'Awesome', 'Value-for-money', 'Just wow!', 'Super!', 'Classy product', 'Must buy!', 'Highly recommended', 'Excellent']\n"
     ]
    },
    {
     "data": {
      "text/plain": [
       "['The Best Phone for the Money  The iPhone 11 offers superb cameras, a more durable design and excellent battery life for an affordable price.  Compelling ultra-wide camera New Night mode is excellent Long battery life',\n",
       " 'Really satisfied with the Product I received... It’s totally genuine and the packaging was also really good so if ur planning to buy just go for it.',\n",
       " 'Amazing phone with great cameras and better battery which gives you the best performance. I just love the camera .',\n",
       " 'This is my first iOS phone. I am very happy with this product. Very much satisfied with this. I love this phone.',\n",
       " 'Great iPhone very snappy experience as apple kind. Upgraded from iPhone 7. Pros -Camera top class - Battery top performed -Chipset no need to say as apple kind -Security as you expect from apple - Display super bright industry leading colour accuracy and super responsive -Build quality as expect from apple sturdy premium durable beautiful stylish. -Os most stable os in smartphone industry  Cons -No 5G -Display is not based on OLED technology -Charger headphones and 1 apple stic... READ MORE',\n",
       " 'Previously I was using one plus 3t it was a great phone And then I decided to upgrade I am stuck between Samsung s10 plus or iPhone 11 I have seen the specs and everything were good except the display it’s somewhere between 720-1080 and it’s not even an amoled it’s an LCD display But I decided to go with iPhone because I have never used an IOS device I have Been an android user from the past 9 years I ordered IPhone 11 (128gb) product red My experience after using 3 weeks 1. The delivery ... READ MORE',\n",
       " 'Amazing Powerful and Durable Gadget.  I’m am very happy with the camera picture quality, Amazing face id unlocked in dark room, Strong battery with perfect screen size as you can carry easily in pocket. This is my third iPhone.  I shifted from android Samsung Note series to iPhone because of the strong build quality and peace of mind for next 3-4 years.  Don’t think to much just go for it and I suggest you to go for minimum 128gb variant or more 256gb.  I’ve attached my puppy pics and no fi... READ MORE',\n",
       " 'So far it’s been an AMAZING experience coming back to iOS after nearly a decade but it’s not as versatile as android though phone is sturdy dropped it accidentally a couple of times and nothing happened fortunately camera is awesome',\n",
       " 'What a camera .....just awesome ..you can feel this iPhone just awesome . Good for gaming also ...try pubg in hd it’s just wow',\n",
       " 'i11 is worthy to buy, too much happy with the product. Thank u flipkart I received the item on time..loved it..',\n",
       " 'iphone 11 is a very good phone to buy only if you can compromise for the display. The display on this is device is pretty good but you can get other options with better displays in this price segment. If you can survive with an HD+ LCD panel with thicker bezels and a notch up top then this is a very good phone for you. Cameras are awesome, battery backup excellent, great performance and a decent premium look. Good job Apple !',\n",
       " 'It’s a must buy who is looking for an upgrade from previous generation of iPhones. If you are using XR then still you can hold on for sometime and upgrade to 2020 model else this phone is a must buy . Camera quality is amazing and wide angle is something to count upon. Performance wise it’s amazing and feels premium while holding in hand. So a big YES for this device. Go for 128 GB variant as the 4K videos will occupy lots of space and the storage can get over very quickly. Try to buy it with... READ MORE',\n",
       " 'Value for money❤️❤️ Its awesome mobile phone in the world ... Display was very good and bright .. Trust me freinds you r never regret after Buying.. Just go for it.... I love this phone and i switch to iphone x to 11',\n",
       " 'Totally in love with this ❤ the camera quality is amazing just love it 😘😘😘 itsss dammnnnnnn amazing... Must buy iPhone 11 this is my best experience ever ☀👌👌🧡🧡🧡🧡🧡 thanku apple ❤',\n",
       " 'Best budget Iphone till date ❤️ go for it guys without second thought. Let me explain you guys about Camera, Display, battery, and performance.  Camera: at this price range there is no comparison of camera, you’ll love the picture quality as well as video quality. I am a Vlogger I wanted an iPhone with 4k video by front camera and I got this phone and I am more than happy 😃  Battery: I use this phone roughly as I am active social media person and I have a youtube channel. so the battery ba... READ MORE',\n",
       " \"Iphone is just awesome.. battery backup is very very nice.. continuously for 10 hours we can use it.camera is just awesome.. display is just fab.i love it alot..i had to wait 15 days for it as i pre ordered it..overalll it's worth the price..these all images are clicked by my iPhone..and i love it.\",\n",
       " \"It's my first time to use iOS phone and I am loving my upgradation 😍😍 I love the color, I love the assebility of the phone....I need to learn more about its functionality, but as far as I have seen, it's quite easy and it has a lot of functions to work on, specially if you are a content writer or a blogger you get a lot of content creation platforms and they are really amazing.  This phone not only for good quality photography but a lot of other task too.😍💯\",\n",
       " 'Excellent camera, good performance, no lag. The lcd display is also good.. but difference come when we watch movie in prime and Netflix, the colours are not vibrant.. as we see in amoled display.. and the charger in box is of 5 watts.. takes more than 3 hours to charge from 0 to 100.. so guys be prepare to buy 18 watts charger . Finally I am an android user, it was my first Iapple phone, I promise u guys the iOS is so smooth.. overall the phone is damn good.... close eyes to buy it.. thanks t... READ MORE',\n",
       " 'It’s been almost a month since I have been using this phone. I upgraded from an iPhone 8. The main issue with my 8 was battery and this phone is just awesome when it comes to battery. It lasts a day and a half for me with my regular use , internet connected always with 4g Can’t move forward without saying this. Battery of this phone is a life saver when I am traveling or at work when I don’t get the option to charge Camera is superb. Front cam selfies and back cam photos are just awesome. ... READ MORE',\n",
       " 'Smooth like butter, camera like fantabulous, sound is crystal clear & its red color is damn attractive, i am just loving it. Must buy if you love photography.  Lucky to get it in sale, thank you Flipkart.',\n",
       " 'Really worth of money. i just love it. It is the best phone ever.',\n",
       " 'This is my first ever I phone. Before this I was using my google nexus 5. But moving from android to iOS is a great experience. It’s worth at this price. I will highly recommend it if you want to move to iOS. The best part of this phone is it’s camera and it’s battery life. This two things have won my heart. I loved it. Happy to have it in my hand. Still exploring its features. And can’t forget to mention Flipkart service. Very prompt service and fast delivery.',\n",
       " 'Awesome Phone. Slightly high price but worth. Better than iPhone XR. Camera is superb and wide angle camera is very clear. 12MP selfie camera is also very good. A13 Chip gives a very good and smooth performance.',\n",
       " 'Battery backup is extraordinary, camera is decent & performance offered by A13 bionic is awsome. The display is good in practical usage like the visibility of display is very good in direct sun light compare to pro models. Iam extremely satisfied for the money I spent.',\n",
       " 'Superb Product !!! A big and worthy upgrade from mi 3S to iphone 11 . Totally loved it !',\n",
       " 'I have migrated from OP 7pro... and trust me, iPhone 11 is totally worth it.. following are the reasons:- 1)there is ABSOLUTELY NO ISSUE WITH THE DISPLAY... its crisp, sharp and I found it to be much much better than OP7 pro. Netflix, Prime video all run crisply... you won’t miss a thing. True Tone works flawlessly...the display brightness is perfect. OP have not calibrated their screens properly. 2) iPhone 11 series have really good cameras... others have spoken in depth about them. 3) bat... READ MORE',\n",
       " 'It’s an amazing product from apple and the camera is simply superb. Phone is faster.Night shot is simply superb and detailing and colour differentiation from camera is an added advantage  This review I have written from iPhone 11 only and I am glad to say outside.  Cons wise if we see HD+ display only, no battery percentage indicator as in older iPhone 8. No assistive touch control button in it No oleophobic coating on back panel glass and finger prints are visible but since I bought mint gr... READ MORE',\n",
       " 'I just directly switch from iphone 6s to iphone 11 .The best premium smartphone I recommend to everyone. Excellent quality and colors the iphone have in 11 series. Camera quality is just awesome and the major feel when we hold in our hands. The sound quality and volume is also higher then the previous models. I will recommend to buy iphone 11 instead of pro models , there is nothing much difference as this model contains everything which fulfill our needs.  Only one thing that I dislike abo... READ MORE',\n",
       " 'Looking so good 👍 😍 super 👌 stylish 😎 phone Clean box 📦 good 👍 delivery 👌 fast delivery Original box Original iphone 📱 👌 😍😍😍',\n",
       " 'After 1 month use I found camera quality best compared to my previous Samsung note 10+.Display not good as note 10 also charging too slow.Apple should add fast charger like 11 plus and pro.Best phone for daily use',\n",
       " 'Upgraded from iphone 6 to 11 best phone for iphone users battery is much better than other iphones camera is awesome love to use it.camera is so clear in night.',\n",
       " \"It's very high performances devise i am like the service of flipkart delevary very fast and packing very nice perfect phone\",\n",
       " 'Well you all know the specifications . One of a kind. Best iPhone till date. Many enhancements to the camera app with many options. Love the glass body with matte finish in the lens area on the back. Lovely colours to choose from. Best battery in an iPhone till date, enough to last more than a day in normal usage. I tested my iPhone 11 battery and lasted for than 24 hours after full charge still with 30% battery charge left. Watched movies for some time. Normal usage on calls, browsing, musi... READ MORE',\n",
       " 'This will help you more. See if you are planning to buy iPhone 11. I will say. Yes. But there are some plans I just want to disclose before you buy. 1) If you are an existing iPhone X/XS/XS Max/ XR user, better you guys do not think it to buy. You guys have more or less better gadget. 2) If you are an android user and planning to buy premium phone. I will suggest them to please buy iPhone instead of buying an Android. I bet you will never go back to android after using IOS. Now I want to shar... READ MORE',\n",
       " 'The built quality is not very premium. The battery back is great . The LCD panel is not so sharp but the brightness level is very High . Camera is super duper awesome. The red colour which people think is bright is actually very soothing and excellent colour to choose from . The A13 Bionic chip is really a flagship processor and can beat any phone which even has 12 gb ram . Camera module is very great and looks very stylish.',\n",
       " 'Amazing camera and feel super machine I am not describe my feeling but this is amazing Phone I am so lucky I have this',\n",
       " 'Really good actually this is my first apple product am using its really awesome performance wise excellent. Am really happy with this iphone11',\n",
       " 'it is very good at performance. Camera is best like before and very smooth response even in water. Don’t buy 12 mini buy iPhone 11 , it is far better than 12 mini believe me ! Have a nice day \\uf8ff ☺️',\n",
       " 'Reviewing again after 5 months. At the beginning the battery and performance was good but it degraded soon. Also I was facing heating issues. The mobile will heat up like a stove sometimes. You cannot even play Pubg even in low settings properly, performance is not a problem but heating is. Also if you play that game for 10 mins the brightness will be automatically down due to over heating even when the auto brightness is set to off. This will not be solved even if u manually increase the bri... READ MORE',\n",
       " 'We are on apple ecosystem for almost eight years now with couple of iPads and iPhones, including Xr.  Bought iPhone 11 as a gift to my daughter who loves it. We chose for a purple coloured one. Believe me it is gorgeous and towards the lighter shade. Dazzling and brilliant!  The phone is great and does excellent RAM management like any other Apple device.  The screen, though a LCD and lesser ppi as compared to other flagship phones of competitor brands, is a delight to watch with perfect re... READ MORE',\n",
       " 'It is just awesome mobile for this price from Apple,  After 10 days review  Battery enough for 1 day even 24*7 Internet will be on and mostly internet usage  Camera is just awesome cool , android 64 MP is equal to this just 12 MP  A13 Bionic chip will give more high performance without hanging  Audio stereo speakers will give Dolby atoms sound with crystal clear  Video recording is like cinematic shots of every sec can be a 4K 60fps. Just awesome this phone iPhone 11 loved one',\n",
       " 'Best Apple iPhone that i have bought at a very reasonable price, camera quality is next level just awesome n of superior quality android phones not even close(RIP) to that and also battery is really good but packaging by Flipkart of iPhone was very poor of such a expensive product, firstly im bit worried about the quality of product if i purchased it through online how was the product but i think now this was mine best decision to bought it through Flipkart online because i got genuine Apple... READ MORE',\n",
       " \"I can say I'm damn impressed with iPhone 11. As they says iPhone 11 have the toughest glass ever in the smartphone which you'll find on the front and back and it's totally smooth. The fit and finish is full apple quality - there's no sense that any cheaping out has happened in the construction. Without saying it's camera features this review won't complete. The iPhone 11 has a dual camera system, consisting of a wide angle len's that's pretty much same as found on the iPhone XR last year, but... READ MORE\",\n",
       " 'Best Quality Product OF iPhone Series , Sound Quality & Camera quality is very awesome, Battery Life is very Sufficient for 24 hr Backup With Full Internet Access , I love this this Product too much , It is very fast & making me Very fast in all my daily Routine Highlights; 1.Camera: 5 STAR 2.Video Recording: 5 star 3.Night mODE sHOOTING & Camera:4 star 4. Audio Quality: Awesome 5. Battery : 5 Star 6. Touch:5 Star 7. Processor: Very Fast The M... READ MORE',\n",
       " 'First thanks to Flipkart for this amazing deal and phone is outstanding. I upgraded from iPhone 7 and this is like very big upgrade. But the packaging was very basic I expected a good packaging as they only wrapped one layer of bubble wrap which I don’t think is enough to protect this expensive phone. And I recommend this phone and seller as well.  And I’m posting this review after using it for 4 days.',\n",
       " 'Superfast delivery by Flipkart. Thanks.  1. iPhone 11 is a pretty solid phone for the money you are paying. 2. All the bad reviews about the display is confusing. It’s not that bad. 3. I switched from a Oneplus 7t. I have no complaints about the display quality of iPhone. Yes, it’s not OLED, so, we are missing on the deep blacks. But that’s it. It is a very colour accurate display. Gets adequately bright and I could not find any pixelation. 4. Performance is one of the best, if not best, in ... READ MORE',\n",
       " \"Again back to apple iphone after a gap of 2-3 years. It's pleasure to use iOS and the quality product by Apple. Iphone 11 still works like a beast in 2021 also. It really capable of doing day to day usage as well as hard core gaming. Battery is awesome. I'm really too much satisfied with it. Apart fto the very gorgious IPS LCD (AMOLED will be better) everything is mind boggling. Iphone💕.\",\n",
       " 'impressive super phone and best in class camera ,sound and face unlock is super fast just see and phone is unlock and fast in daily apps use',\n",
       " 'Well while switching from android to iOS the first thing you need to be careful about is that you will loose all your whatsapp chat backups as both are different operating systems. Camera clarity is awesome and though being an lcd screen clarity and resolution is good. Battery backup is also good unlike previous gen iPhone. So far the experience is good will Padre after a few months of usage.  P.S the black is more of a dark grey shade and not jet black',\n",
       " 'In love with this iphone great performance,camera ,battery everything. Go for it have a uncompareble battery backup, no doubts in iPhone camera here You can see the picture which is shot on my iPhone In love with this iphone great performance,camera ,battery everything. Go for it have a uncompareble battery backup, no doubts in iPhone camera here You can see the picture which is shot on my iPhone In love with this iphone great performance,camera ,battery everything. Go for it have a uncompare... READ MORE',\n",
       " 'Best in class. Battery backup is good especially when you play games like Pubg COD. But it is sort of heavy when you hold in hands. Portrait mode is best to click pictures. Stage light effect is awesome. Try to click photos outside in nature because photos inside home or room will not give you the quality in any phone even in DSLR.',\n",
       " 'Very excited to have this phone. This phone has the real power unlike the android phones having SD 855 . The battery life is very good and the camera quality is excellent as comapred to redmi and other phones except google pixel. I M enjoying every single bit of it. Would recommed only if you have the budget.',\n",
       " 'I was using Iphone 6s and also Oneplus 6t. Both mobiles were perfectly alright in Photos, gaming, and smooth interface . My 6s mobile getting battery issue. thought upgrade to 11. Really like this mobile of its Internal storage (compare to 6s) , camera and its touch feeling. Its a worth buying mobile for me.',\n",
       " 'Its Very awesome product working and good camera quality and all about best product and also flipkart is very great deal and offer nice price',\n",
       " 'I am using this phone for 5 days and its one of the best camera out there ❤️ the screen is not oled and i am coming from iphone xs so its little bit not up to the mark i would say But overall value for money💕😍the battery back up is far better than my iphone xs and its worth in my apple ecosystem💫❤️if u are an apple User and have the eco system then go for it❤️though i will be getting the new iphone but its pretty good💫',\n",
       " 'Best and amazing product.....phone looks so premium.... battary is also good as expected .... Wide angle camera is so addictive ...if you are a IOS lover....then this phone will be the best choice for you all!!💯🔥',\n",
       " 'Excellent camera and display touching very nice and smooth very improvement against iPhone XR and new processor is very fast',\n",
       " \"I got this beast today. And I must say the picture quality of its camera is awesome. Both the cameras works fine.  As for as the processing is concerned, it runs without any lag. You can play and do whatever you want without a glitch.  The battery runs for a day with medium and high workload.  The display is good and the speakers are working fine.  The earphones doesn't have any base and you can use it for calling mostly.  The charging time is approximately for 90 minutes for full charging... READ MORE\",\n",
       " 'Awesome purchase. Amazing phone with good battery backup. It’s a top notch device. White colour looks amazing. Phone has a few extra feature than iPhone XR. Overall, this is value for money',\n",
       " 'Always love the apple products, upgraded from old iPhone 6S plus to this after having my first baby. I just love to click baby’s photos with it. Overall I just love this phone. Battery back up is okay, sound quality is good. Haven’t tested yet waterproof yet. Only one thing I hate is apple could have given charger & headphones in box.',\n",
       " 'Value for money 5 star rating Excellent camera Battery backup full day in single charge.  Tougher and water resistant design, glossy back. The screen has excellent brightness and contrast. Apple A13 Bionic is the fastest smartphone chip on the planet. Excellent battery life, fast charging support. Stereo speakers with great quality.',\n",
       " 'Please DONT buy from here,  I purchased Apple iPhone 11. with an exchange of IPhone 7, the exchange did not go well, iPhone 7 had a small scratch out side screen which i could never identify till date, but the FLIPKART person could, so he reduced 50% from exchange rate. I decided not to trade in, but paid money.  iPhone 11 Detail Below --------------------------------------------- It came with no charging, then i have put for charging, it took lot of time for charging, the phone also showe... READ MORE',\n",
       " 'awesome phone to have. it has got many smart features apart from mind blowing looks, camera, display, battery and sound. have fallen in love with this phone. must buy phone if you have got enough money. thanks to flipkart and apple of course..',\n",
       " 'Its a fabulous mobile look awesome performance unbeaten camera like dslr battery good i think this is a beast of mobile',\n",
       " 'Dear friends... I want to share my experience with you about this amazing I phone 11....this is my first iPhone and special things about this mobile is it has great camera, battery backup and awesome display.... I mean everything is perfect.loved it 👍👍👍',\n",
       " \"Just got this iphone 11 And it is most powerful mobile phone I have used ever  So,go for it if you want a phone with best specification like camera,battery backup,display, A13 bionic chip  That's my review about this phone but yours can be differ from me....\",\n",
       " \"The best all rounder iphone. Flipkart is doing a great job. They're delivery services are blazing fast. I got delivery on the same day. Genuine Apple Product. Working great. Talking about review There's no need of review for iphones. They're simply the best.\",\n",
       " 'Amazing phone and on great deal I received with super fast delivery by Flipkart...',\n",
       " 'finally an iPhone with very nice battery backup. update from iPhone 7 and happy to have it. camera is not up to the mark in low light but overall a recommended phone if your budget allows 😀',\n",
       " \"I'm switching this phone to oppo reno 10x zoom It's really impressive Rarely I'm missing smooth display touch response like oppo reno but I really loved it. Camera really impressive\",\n",
       " 'Damn this phone is a blast . Upgraded from android to ios and is a duperb experience. Battery backup is top notch and display also pretty good',\n",
       " 'Worth the money’ starting first from its performance it beats out all phones , second the smoothness of camera is awesome, contrast ratio is much than expected. Price will not matter if u r a quality person, if not other phones are available with better discount',\n",
       " 'I dreamt about this day from a long time.... Getting an iPhone with my own money.... Super happy and worth spending every penny',\n",
       " \"I'm Really happy with the product Delivery was fast as well ..it was a gift for my sister and she loved it so much.\",\n",
       " 'Great iphone. I am writing this review after 2 months of usage. Camera is excellent, especially the nightmode Display perfect Battery backup awesome Sound quality very good Overall Apple gives you a perfect iphone in this range. Really in love with iPhone 11',\n",
       " 'Did an upgrade from 6s plus to iphone 11. Ao far the experience is well and good. Felt smoother than 6s plus. The camera quality is superb. Battery backup is descent. Not a heavy user, and gets power more than a day. Go for it if you need an alrounder iphone in a competitve price.',\n",
       " 'Gifted my man on his 30th birthday 🎂 He loves it.. Him happy so i am more than happy 😍😘❤️🥰',\n",
       " 'I rate this product 5* as it has got amazing user experience with the best performing A13 bionic processor. The screen responds and graphics rendering is top notch. With casual gaming and internet browsing, the battery lasts for approx. 1 day. Camera is very good. You will fall in love with the portrait mode. You can call me a loyal Apple customer or whatever but I won’t stop praising the products and overall experience. That user experience matters and is worth every penny you pay.  Below ar... READ MORE',\n",
       " 'Thanks Flipkart For this amazing deal! I had a dream of owning a iphone since i had known about. Im very happy with my purchase & it is totally worth it. Amazing experience all over !!  Anyone who’s thinking of buying it in 2021, i would simply say go for it without any second thoughts ❤️',\n",
       " \"It was amazing experience for me. Honestly i am using iPhone first time so I don't have that much past experience about that. But after using 7 days this mobile i want to give some honest feedback. 1- Display 9 out of 10 2- Camera 9.5 out of 10 3- Battery 7 out of 10 4- Performance 9.5 out of 10 5- Features & Functions 10 out of 10 6- Outer looks and colour 10 out of 10 Rest i think i will understand after using this for few months. I will highly recommend you guys if you have budget then you... READ MORE\"]"
      ]
     },
     "execution_count": 725,
     "metadata": {},
     "output_type": "execute_result"
    }
   ],
   "source": [
    "append_items(rating_tags,summary_tags,review_tags,rating_list,summary_list,full_review_list)\n",
    "print(rating_list)\n",
    "print(summary_list)\n",
    "full_review_list"
   ]
  },
  {
   "cell_type": "code",
   "execution_count": 726,
   "metadata": {},
   "outputs": [
    {
     "name": "stdout",
     "output_type": "stream",
     "text": [
      "80 80 80\n"
     ]
    }
   ],
   "source": [
    "print(len(rating_list),len(summary_list),len(full_review_list))"
   ]
  },
  {
   "cell_type": "code",
   "execution_count": 727,
   "metadata": {},
   "outputs": [],
   "source": [
    "next_btn = driver.find_element_by_xpath(\"//nav[@class='yFHi8N']/a[12]\")\n",
    "next_btn.click()"
   ]
  },
  {
   "cell_type": "code",
   "execution_count": 729,
   "metadata": {},
   "outputs": [],
   "source": [
    "rating_tags,summary_tags,review_tags = tags()"
   ]
  },
  {
   "cell_type": "code",
   "execution_count": 730,
   "metadata": {
    "collapsed": true
   },
   "outputs": [
    {
     "name": "stdout",
     "output_type": "stream",
     "text": [
      "['5', '5', '5', '5', '5', '5', '5', '4', '5', '5', '5', '5', '5', '5', '5', '5', '5', '5', '5', '5', '5', '5', '4', '5', '5', '5', '5', '5', '4', '5', '5', '5', '5', '5', '5', '5', '5', '4', '1', '5', '5', '5', '5', '5', '5', '5', '5', '4', '5', '5', '5', '5', '4', '5', '5', '5', '5', '5', '5', '5', '5', '1', '5', '5', '5', '4', '5', '5', '5', '4', '5', '5', '5', '4', '5', '5', '5', '5', '5', '5', '4', '5', '5', '5', '5', '4', '5', '5', '5', '5']\n",
      "['Brilliant', 'Simply awesome', 'Perfect product!', 'Fabulous!', 'Best in the market!', 'Worth every penny', 'Great product', 'Good choice', 'Highly recommended', 'Worth every penny', 'Highly recommended', 'Perfect product!', 'Perfect product!', 'Classy product', 'Worth every penny', 'Perfect product!', 'Highly recommended', 'Simply awesome', 'Worth every penny', 'Worth every penny', 'Terrific', 'Wonderful', 'Nice product', 'Perfect product!', 'Classy product', 'Brilliant', 'Must buy!', 'Wonderful', 'Good choice', 'Perfect product!', 'Terrific purchase', 'Simply awesome', 'Great product', 'Mind-blowing purchase', 'Terrific purchase', 'Excellent', 'Simply awesome', 'Good quality product', 'Very poor', 'Classy product', 'Perfect product!', 'Must buy!', 'Fabulous!', 'Mind-blowing purchase', 'Mind-blowing purchase', 'Wonderful', 'Great product', 'Very Good', 'Classy product', 'Perfect product!', 'Just wow!', 'Awesome', 'Pretty good', 'Terrific purchase', 'Awesome', 'Classy product', 'Brilliant', 'Terrific', 'Perfect product!', 'Awesome', 'Perfect product!', 'Very poor', 'Fabulous!', 'Excellent', 'Must buy!', 'Value-for-money', 'Best in the market!', 'Brilliant', 'Terrific purchase', 'Good quality product', 'Best in the market!', 'Perfect product!', 'Awesome', 'Value-for-money', 'Just wow!', 'Super!', 'Classy product', 'Must buy!', 'Highly recommended', 'Excellent', 'Nice product', 'Mind-blowing purchase', 'Terrific', 'Excellent', 'Mind-blowing purchase', 'Pretty good', 'Fabulous!', 'Wonderful', 'Wonderful', 'Worth every penny']\n"
     ]
    },
    {
     "data": {
      "text/plain": [
       "['The Best Phone for the Money  The iPhone 11 offers superb cameras, a more durable design and excellent battery life for an affordable price.  Compelling ultra-wide camera New Night mode is excellent Long battery life',\n",
       " 'Really satisfied with the Product I received... It’s totally genuine and the packaging was also really good so if ur planning to buy just go for it.',\n",
       " 'Amazing phone with great cameras and better battery which gives you the best performance. I just love the camera .',\n",
       " 'This is my first iOS phone. I am very happy with this product. Very much satisfied with this. I love this phone.',\n",
       " 'Great iPhone very snappy experience as apple kind. Upgraded from iPhone 7. Pros -Camera top class - Battery top performed -Chipset no need to say as apple kind -Security as you expect from apple - Display super bright industry leading colour accuracy and super responsive -Build quality as expect from apple sturdy premium durable beautiful stylish. -Os most stable os in smartphone industry  Cons -No 5G -Display is not based on OLED technology -Charger headphones and 1 apple stic... READ MORE',\n",
       " 'Previously I was using one plus 3t it was a great phone And then I decided to upgrade I am stuck between Samsung s10 plus or iPhone 11 I have seen the specs and everything were good except the display it’s somewhere between 720-1080 and it’s not even an amoled it’s an LCD display But I decided to go with iPhone because I have never used an IOS device I have Been an android user from the past 9 years I ordered IPhone 11 (128gb) product red My experience after using 3 weeks 1. The delivery ... READ MORE',\n",
       " 'Amazing Powerful and Durable Gadget.  I’m am very happy with the camera picture quality, Amazing face id unlocked in dark room, Strong battery with perfect screen size as you can carry easily in pocket. This is my third iPhone.  I shifted from android Samsung Note series to iPhone because of the strong build quality and peace of mind for next 3-4 years.  Don’t think to much just go for it and I suggest you to go for minimum 128gb variant or more 256gb.  I’ve attached my puppy pics and no fi... READ MORE',\n",
       " 'So far it’s been an AMAZING experience coming back to iOS after nearly a decade but it’s not as versatile as android though phone is sturdy dropped it accidentally a couple of times and nothing happened fortunately camera is awesome',\n",
       " 'What a camera .....just awesome ..you can feel this iPhone just awesome . Good for gaming also ...try pubg in hd it’s just wow',\n",
       " 'i11 is worthy to buy, too much happy with the product. Thank u flipkart I received the item on time..loved it..',\n",
       " 'iphone 11 is a very good phone to buy only if you can compromise for the display. The display on this is device is pretty good but you can get other options with better displays in this price segment. If you can survive with an HD+ LCD panel with thicker bezels and a notch up top then this is a very good phone for you. Cameras are awesome, battery backup excellent, great performance and a decent premium look. Good job Apple !',\n",
       " 'It’s a must buy who is looking for an upgrade from previous generation of iPhones. If you are using XR then still you can hold on for sometime and upgrade to 2020 model else this phone is a must buy . Camera quality is amazing and wide angle is something to count upon. Performance wise it’s amazing and feels premium while holding in hand. So a big YES for this device. Go for 128 GB variant as the 4K videos will occupy lots of space and the storage can get over very quickly. Try to buy it with... READ MORE',\n",
       " 'Value for money❤️❤️ Its awesome mobile phone in the world ... Display was very good and bright .. Trust me freinds you r never regret after Buying.. Just go for it.... I love this phone and i switch to iphone x to 11',\n",
       " 'Totally in love with this ❤ the camera quality is amazing just love it 😘😘😘 itsss dammnnnnnn amazing... Must buy iPhone 11 this is my best experience ever ☀👌👌🧡🧡🧡🧡🧡 thanku apple ❤',\n",
       " 'Best budget Iphone till date ❤️ go for it guys without second thought. Let me explain you guys about Camera, Display, battery, and performance.  Camera: at this price range there is no comparison of camera, you’ll love the picture quality as well as video quality. I am a Vlogger I wanted an iPhone with 4k video by front camera and I got this phone and I am more than happy 😃  Battery: I use this phone roughly as I am active social media person and I have a youtube channel. so the battery ba... READ MORE',\n",
       " \"Iphone is just awesome.. battery backup is very very nice.. continuously for 10 hours we can use it.camera is just awesome.. display is just fab.i love it alot..i had to wait 15 days for it as i pre ordered it..overalll it's worth the price..these all images are clicked by my iPhone..and i love it.\",\n",
       " \"It's my first time to use iOS phone and I am loving my upgradation 😍😍 I love the color, I love the assebility of the phone....I need to learn more about its functionality, but as far as I have seen, it's quite easy and it has a lot of functions to work on, specially if you are a content writer or a blogger you get a lot of content creation platforms and they are really amazing.  This phone not only for good quality photography but a lot of other task too.😍💯\",\n",
       " 'Excellent camera, good performance, no lag. The lcd display is also good.. but difference come when we watch movie in prime and Netflix, the colours are not vibrant.. as we see in amoled display.. and the charger in box is of 5 watts.. takes more than 3 hours to charge from 0 to 100.. so guys be prepare to buy 18 watts charger . Finally I am an android user, it was my first Iapple phone, I promise u guys the iOS is so smooth.. overall the phone is damn good.... close eyes to buy it.. thanks t... READ MORE',\n",
       " 'It’s been almost a month since I have been using this phone. I upgraded from an iPhone 8. The main issue with my 8 was battery and this phone is just awesome when it comes to battery. It lasts a day and a half for me with my regular use , internet connected always with 4g Can’t move forward without saying this. Battery of this phone is a life saver when I am traveling or at work when I don’t get the option to charge Camera is superb. Front cam selfies and back cam photos are just awesome. ... READ MORE',\n",
       " 'Smooth like butter, camera like fantabulous, sound is crystal clear & its red color is damn attractive, i am just loving it. Must buy if you love photography.  Lucky to get it in sale, thank you Flipkart.',\n",
       " 'Really worth of money. i just love it. It is the best phone ever.',\n",
       " 'This is my first ever I phone. Before this I was using my google nexus 5. But moving from android to iOS is a great experience. It’s worth at this price. I will highly recommend it if you want to move to iOS. The best part of this phone is it’s camera and it’s battery life. This two things have won my heart. I loved it. Happy to have it in my hand. Still exploring its features. And can’t forget to mention Flipkart service. Very prompt service and fast delivery.',\n",
       " 'Awesome Phone. Slightly high price but worth. Better than iPhone XR. Camera is superb and wide angle camera is very clear. 12MP selfie camera is also very good. A13 Chip gives a very good and smooth performance.',\n",
       " 'Battery backup is extraordinary, camera is decent & performance offered by A13 bionic is awsome. The display is good in practical usage like the visibility of display is very good in direct sun light compare to pro models. Iam extremely satisfied for the money I spent.',\n",
       " 'Superb Product !!! A big and worthy upgrade from mi 3S to iphone 11 . Totally loved it !',\n",
       " 'I have migrated from OP 7pro... and trust me, iPhone 11 is totally worth it.. following are the reasons:- 1)there is ABSOLUTELY NO ISSUE WITH THE DISPLAY... its crisp, sharp and I found it to be much much better than OP7 pro. Netflix, Prime video all run crisply... you won’t miss a thing. True Tone works flawlessly...the display brightness is perfect. OP have not calibrated their screens properly. 2) iPhone 11 series have really good cameras... others have spoken in depth about them. 3) bat... READ MORE',\n",
       " 'It’s an amazing product from apple and the camera is simply superb. Phone is faster.Night shot is simply superb and detailing and colour differentiation from camera is an added advantage  This review I have written from iPhone 11 only and I am glad to say outside.  Cons wise if we see HD+ display only, no battery percentage indicator as in older iPhone 8. No assistive touch control button in it No oleophobic coating on back panel glass and finger prints are visible but since I bought mint gr... READ MORE',\n",
       " 'I just directly switch from iphone 6s to iphone 11 .The best premium smartphone I recommend to everyone. Excellent quality and colors the iphone have in 11 series. Camera quality is just awesome and the major feel when we hold in our hands. The sound quality and volume is also higher then the previous models. I will recommend to buy iphone 11 instead of pro models , there is nothing much difference as this model contains everything which fulfill our needs.  Only one thing that I dislike abo... READ MORE',\n",
       " 'Looking so good 👍 😍 super 👌 stylish 😎 phone Clean box 📦 good 👍 delivery 👌 fast delivery Original box Original iphone 📱 👌 😍😍😍',\n",
       " 'After 1 month use I found camera quality best compared to my previous Samsung note 10+.Display not good as note 10 also charging too slow.Apple should add fast charger like 11 plus and pro.Best phone for daily use',\n",
       " 'Upgraded from iphone 6 to 11 best phone for iphone users battery is much better than other iphones camera is awesome love to use it.camera is so clear in night.',\n",
       " \"It's very high performances devise i am like the service of flipkart delevary very fast and packing very nice perfect phone\",\n",
       " 'Well you all know the specifications . One of a kind. Best iPhone till date. Many enhancements to the camera app with many options. Love the glass body with matte finish in the lens area on the back. Lovely colours to choose from. Best battery in an iPhone till date, enough to last more than a day in normal usage. I tested my iPhone 11 battery and lasted for than 24 hours after full charge still with 30% battery charge left. Watched movies for some time. Normal usage on calls, browsing, musi... READ MORE',\n",
       " 'This will help you more. See if you are planning to buy iPhone 11. I will say. Yes. But there are some plans I just want to disclose before you buy. 1) If you are an existing iPhone X/XS/XS Max/ XR user, better you guys do not think it to buy. You guys have more or less better gadget. 2) If you are an android user and planning to buy premium phone. I will suggest them to please buy iPhone instead of buying an Android. I bet you will never go back to android after using IOS. Now I want to shar... READ MORE',\n",
       " 'The built quality is not very premium. The battery back is great . The LCD panel is not so sharp but the brightness level is very High . Camera is super duper awesome. The red colour which people think is bright is actually very soothing and excellent colour to choose from . The A13 Bionic chip is really a flagship processor and can beat any phone which even has 12 gb ram . Camera module is very great and looks very stylish.',\n",
       " 'Amazing camera and feel super machine I am not describe my feeling but this is amazing Phone I am so lucky I have this',\n",
       " 'Really good actually this is my first apple product am using its really awesome performance wise excellent. Am really happy with this iphone11',\n",
       " 'it is very good at performance. Camera is best like before and very smooth response even in water. Don’t buy 12 mini buy iPhone 11 , it is far better than 12 mini believe me ! Have a nice day \\uf8ff ☺️',\n",
       " 'Reviewing again after 5 months. At the beginning the battery and performance was good but it degraded soon. Also I was facing heating issues. The mobile will heat up like a stove sometimes. You cannot even play Pubg even in low settings properly, performance is not a problem but heating is. Also if you play that game for 10 mins the brightness will be automatically down due to over heating even when the auto brightness is set to off. This will not be solved even if u manually increase the bri... READ MORE',\n",
       " 'We are on apple ecosystem for almost eight years now with couple of iPads and iPhones, including Xr.  Bought iPhone 11 as a gift to my daughter who loves it. We chose for a purple coloured one. Believe me it is gorgeous and towards the lighter shade. Dazzling and brilliant!  The phone is great and does excellent RAM management like any other Apple device.  The screen, though a LCD and lesser ppi as compared to other flagship phones of competitor brands, is a delight to watch with perfect re... READ MORE',\n",
       " 'It is just awesome mobile for this price from Apple,  After 10 days review  Battery enough for 1 day even 24*7 Internet will be on and mostly internet usage  Camera is just awesome cool , android 64 MP is equal to this just 12 MP  A13 Bionic chip will give more high performance without hanging  Audio stereo speakers will give Dolby atoms sound with crystal clear  Video recording is like cinematic shots of every sec can be a 4K 60fps. Just awesome this phone iPhone 11 loved one',\n",
       " 'Best Apple iPhone that i have bought at a very reasonable price, camera quality is next level just awesome n of superior quality android phones not even close(RIP) to that and also battery is really good but packaging by Flipkart of iPhone was very poor of such a expensive product, firstly im bit worried about the quality of product if i purchased it through online how was the product but i think now this was mine best decision to bought it through Flipkart online because i got genuine Apple... READ MORE',\n",
       " \"I can say I'm damn impressed with iPhone 11. As they says iPhone 11 have the toughest glass ever in the smartphone which you'll find on the front and back and it's totally smooth. The fit and finish is full apple quality - there's no sense that any cheaping out has happened in the construction. Without saying it's camera features this review won't complete. The iPhone 11 has a dual camera system, consisting of a wide angle len's that's pretty much same as found on the iPhone XR last year, but... READ MORE\",\n",
       " 'Best Quality Product OF iPhone Series , Sound Quality & Camera quality is very awesome, Battery Life is very Sufficient for 24 hr Backup With Full Internet Access , I love this this Product too much , It is very fast & making me Very fast in all my daily Routine Highlights; 1.Camera: 5 STAR 2.Video Recording: 5 star 3.Night mODE sHOOTING & Camera:4 star 4. Audio Quality: Awesome 5. Battery : 5 Star 6. Touch:5 Star 7. Processor: Very Fast The M... READ MORE',\n",
       " 'First thanks to Flipkart for this amazing deal and phone is outstanding. I upgraded from iPhone 7 and this is like very big upgrade. But the packaging was very basic I expected a good packaging as they only wrapped one layer of bubble wrap which I don’t think is enough to protect this expensive phone. And I recommend this phone and seller as well.  And I’m posting this review after using it for 4 days.',\n",
       " 'Superfast delivery by Flipkart. Thanks.  1. iPhone 11 is a pretty solid phone for the money you are paying. 2. All the bad reviews about the display is confusing. It’s not that bad. 3. I switched from a Oneplus 7t. I have no complaints about the display quality of iPhone. Yes, it’s not OLED, so, we are missing on the deep blacks. But that’s it. It is a very colour accurate display. Gets adequately bright and I could not find any pixelation. 4. Performance is one of the best, if not best, in ... READ MORE',\n",
       " \"Again back to apple iphone after a gap of 2-3 years. It's pleasure to use iOS and the quality product by Apple. Iphone 11 still works like a beast in 2021 also. It really capable of doing day to day usage as well as hard core gaming. Battery is awesome. I'm really too much satisfied with it. Apart fto the very gorgious IPS LCD (AMOLED will be better) everything is mind boggling. Iphone💕.\",\n",
       " 'impressive super phone and best in class camera ,sound and face unlock is super fast just see and phone is unlock and fast in daily apps use',\n",
       " 'Well while switching from android to iOS the first thing you need to be careful about is that you will loose all your whatsapp chat backups as both are different operating systems. Camera clarity is awesome and though being an lcd screen clarity and resolution is good. Battery backup is also good unlike previous gen iPhone. So far the experience is good will Padre after a few months of usage.  P.S the black is more of a dark grey shade and not jet black',\n",
       " 'In love with this iphone great performance,camera ,battery everything. Go for it have a uncompareble battery backup, no doubts in iPhone camera here You can see the picture which is shot on my iPhone In love with this iphone great performance,camera ,battery everything. Go for it have a uncompareble battery backup, no doubts in iPhone camera here You can see the picture which is shot on my iPhone In love with this iphone great performance,camera ,battery everything. Go for it have a uncompare... READ MORE',\n",
       " 'Best in class. Battery backup is good especially when you play games like Pubg COD. But it is sort of heavy when you hold in hands. Portrait mode is best to click pictures. Stage light effect is awesome. Try to click photos outside in nature because photos inside home or room will not give you the quality in any phone even in DSLR.',\n",
       " 'Very excited to have this phone. This phone has the real power unlike the android phones having SD 855 . The battery life is very good and the camera quality is excellent as comapred to redmi and other phones except google pixel. I M enjoying every single bit of it. Would recommed only if you have the budget.',\n",
       " 'I was using Iphone 6s and also Oneplus 6t. Both mobiles were perfectly alright in Photos, gaming, and smooth interface . My 6s mobile getting battery issue. thought upgrade to 11. Really like this mobile of its Internal storage (compare to 6s) , camera and its touch feeling. Its a worth buying mobile for me.',\n",
       " 'Its Very awesome product working and good camera quality and all about best product and also flipkart is very great deal and offer nice price',\n",
       " 'I am using this phone for 5 days and its one of the best camera out there ❤️ the screen is not oled and i am coming from iphone xs so its little bit not up to the mark i would say But overall value for money💕😍the battery back up is far better than my iphone xs and its worth in my apple ecosystem💫❤️if u are an apple User and have the eco system then go for it❤️though i will be getting the new iphone but its pretty good💫',\n",
       " 'Best and amazing product.....phone looks so premium.... battary is also good as expected .... Wide angle camera is so addictive ...if you are a IOS lover....then this phone will be the best choice for you all!!💯🔥',\n",
       " 'Excellent camera and display touching very nice and smooth very improvement against iPhone XR and new processor is very fast',\n",
       " \"I got this beast today. And I must say the picture quality of its camera is awesome. Both the cameras works fine.  As for as the processing is concerned, it runs without any lag. You can play and do whatever you want without a glitch.  The battery runs for a day with medium and high workload.  The display is good and the speakers are working fine.  The earphones doesn't have any base and you can use it for calling mostly.  The charging time is approximately for 90 minutes for full charging... READ MORE\",\n",
       " 'Awesome purchase. Amazing phone with good battery backup. It’s a top notch device. White colour looks amazing. Phone has a few extra feature than iPhone XR. Overall, this is value for money',\n",
       " 'Always love the apple products, upgraded from old iPhone 6S plus to this after having my first baby. I just love to click baby’s photos with it. Overall I just love this phone. Battery back up is okay, sound quality is good. Haven’t tested yet waterproof yet. Only one thing I hate is apple could have given charger & headphones in box.',\n",
       " 'Value for money 5 star rating Excellent camera Battery backup full day in single charge.  Tougher and water resistant design, glossy back. The screen has excellent brightness and contrast. Apple A13 Bionic is the fastest smartphone chip on the planet. Excellent battery life, fast charging support. Stereo speakers with great quality.',\n",
       " 'Please DONT buy from here,  I purchased Apple iPhone 11. with an exchange of IPhone 7, the exchange did not go well, iPhone 7 had a small scratch out side screen which i could never identify till date, but the FLIPKART person could, so he reduced 50% from exchange rate. I decided not to trade in, but paid money.  iPhone 11 Detail Below --------------------------------------------- It came with no charging, then i have put for charging, it took lot of time for charging, the phone also showe... READ MORE',\n",
       " 'awesome phone to have. it has got many smart features apart from mind blowing looks, camera, display, battery and sound. have fallen in love with this phone. must buy phone if you have got enough money. thanks to flipkart and apple of course..',\n",
       " 'Its a fabulous mobile look awesome performance unbeaten camera like dslr battery good i think this is a beast of mobile',\n",
       " 'Dear friends... I want to share my experience with you about this amazing I phone 11....this is my first iPhone and special things about this mobile is it has great camera, battery backup and awesome display.... I mean everything is perfect.loved it 👍👍👍',\n",
       " \"Just got this iphone 11 And it is most powerful mobile phone I have used ever  So,go for it if you want a phone with best specification like camera,battery backup,display, A13 bionic chip  That's my review about this phone but yours can be differ from me....\",\n",
       " \"The best all rounder iphone. Flipkart is doing a great job. They're delivery services are blazing fast. I got delivery on the same day. Genuine Apple Product. Working great. Talking about review There's no need of review for iphones. They're simply the best.\",\n",
       " 'Amazing phone and on great deal I received with super fast delivery by Flipkart...',\n",
       " 'finally an iPhone with very nice battery backup. update from iPhone 7 and happy to have it. camera is not up to the mark in low light but overall a recommended phone if your budget allows 😀',\n",
       " \"I'm switching this phone to oppo reno 10x zoom It's really impressive Rarely I'm missing smooth display touch response like oppo reno but I really loved it. Camera really impressive\",\n",
       " 'Damn this phone is a blast . Upgraded from android to ios and is a duperb experience. Battery backup is top notch and display also pretty good',\n",
       " 'Worth the money’ starting first from its performance it beats out all phones , second the smoothness of camera is awesome, contrast ratio is much than expected. Price will not matter if u r a quality person, if not other phones are available with better discount',\n",
       " 'I dreamt about this day from a long time.... Getting an iPhone with my own money.... Super happy and worth spending every penny',\n",
       " \"I'm Really happy with the product Delivery was fast as well ..it was a gift for my sister and she loved it so much.\",\n",
       " 'Great iphone. I am writing this review after 2 months of usage. Camera is excellent, especially the nightmode Display perfect Battery backup awesome Sound quality very good Overall Apple gives you a perfect iphone in this range. Really in love with iPhone 11',\n",
       " 'Did an upgrade from 6s plus to iphone 11. Ao far the experience is well and good. Felt smoother than 6s plus. The camera quality is superb. Battery backup is descent. Not a heavy user, and gets power more than a day. Go for it if you need an alrounder iphone in a competitve price.',\n",
       " 'Gifted my man on his 30th birthday 🎂 He loves it.. Him happy so i am more than happy 😍😘❤️🥰',\n",
       " 'I rate this product 5* as it has got amazing user experience with the best performing A13 bionic processor. The screen responds and graphics rendering is top notch. With casual gaming and internet browsing, the battery lasts for approx. 1 day. Camera is very good. You will fall in love with the portrait mode. You can call me a loyal Apple customer or whatever but I won’t stop praising the products and overall experience. That user experience matters and is worth every penny you pay.  Below ar... READ MORE',\n",
       " 'Thanks Flipkart For this amazing deal! I had a dream of owning a iphone since i had known about. Im very happy with my purchase & it is totally worth it. Amazing experience all over !!  Anyone who’s thinking of buying it in 2021, i would simply say go for it without any second thoughts ❤️',\n",
       " \"It was amazing experience for me. Honestly i am using iPhone first time so I don't have that much past experience about that. But after using 7 days this mobile i want to give some honest feedback. 1- Display 9 out of 10 2- Camera 9.5 out of 10 3- Battery 7 out of 10 4- Performance 9.5 out of 10 5- Features & Functions 10 out of 10 6- Outer looks and colour 10 out of 10 Rest i think i will understand after using this for few months. I will highly recommend you guys if you have budget then you... READ MORE\",\n",
       " \"If you are looking for a premium phone under 55k, this is the one for you.Got the iPhone 11 during the Republic day sale. Performance is top notch in this price range. Camera's do a perfect job in taking good quality photos and videos. Battery backup too is satisfactory. Writing this review after using for a week. Any further observations would be updated.\",\n",
       " 'awesome Phone Smooth Touch Too good Sexyy looks one word Awesome',\n",
       " 'I bought iPhone 11 On March 2021, And I am Writing this review after using the phone for 4 Months. I would Say Everything is fine, Top Performance, Nice Camera as Anyone would Expect from any series of iPhone but when the Question comes to Battery it is complicated. The Battery is fully optimised and it comes 3110 mAh capacity but the problem is with the charger. Honestly Apple Removed charger from in Box items in the name of Environment and they are also forcing us to buy any 20W PD 3rd part... READ MORE',\n",
       " \"Just go for it. This phone is really amazing. I ordered it for my wife and we click photos on this thing which are better than dslr. I own OnePlus 6t but it's camera sucks. iPhone is really amazing when it comes to camera. It's worth spending 50k on this. Cons- only display is lcd. While using u don't feel it but if u compare with other phone then u can see difference quite easily. Changing from Android to iphone is bit difficult coz most of things u don't know but I liked it. Some of the a... READ MORE\",\n",
       " 'Absolutely powerful gadget. Loved it’s look! Soo glassy and classy. I would definitely recommend this model of Apple. Only disappointed with the 5W charger, one should purchase an 18W adapter for fast charging. Though battery backup is great. Bought it in September 2020, reviewing after so long so I’m gonna put the genuine review here.✅',\n",
       " \"I've used this phone for over a month now and here are my takeaways. I would like to first talk about the best things about this phone and then the cons of it.  Pros: This phone is a performance beast. It handles large games and applications effortlessly and you won't find any stutters or lags while playing graphic intensive games like pubg, cod , mortal kombat and asphalt.  This phone has only 4gb ram and yet the ram management is amazing, it can keep 3 heavy games in memory without reload... READ MORE\",\n",
       " 'Everything is perfect pictures come out so clearly and at first I wasn’t sure when I got it then when I started to use it and get the hang of it it was amazing!! I can’t wait to see what the next future phones will be like. The screen display on this bad boy are unbelievable they are so clear and never fail me. The performance is super cool there is a lot of cool features as well I like this phone because I feel that it is easy to use and one of my favorite things about this phone is the Face... READ MORE',\n",
       " 'Super and marvellous phone look very cute and nice sound. I love this phone i think white is good colur.Excellent camer 5*😍😘♥️♥️',\n",
       " 'Nice value for money good and best price I phone mind blowing camera processor very fast other android mobile I am happy India top selling phone 2020',\n",
       " 'Undoubtedly Iphone 11 is the most successful model till now and its performance is extraordinary and the security features are very impressive, display is more vibrant sound quality Camera Quality 5*****, but Iphone should add accessories too and act like scrooge.']"
      ]
     },
     "execution_count": 730,
     "metadata": {},
     "output_type": "execute_result"
    }
   ],
   "source": [
    "append_items(rating_tags,summary_tags,review_tags,rating_list,summary_list,full_review_list)\n",
    "print(rating_list)\n",
    "print(summary_list)\n",
    "full_review_list"
   ]
  },
  {
   "cell_type": "code",
   "execution_count": 731,
   "metadata": {},
   "outputs": [
    {
     "name": "stdout",
     "output_type": "stream",
     "text": [
      "90 90 90\n"
     ]
    }
   ],
   "source": [
    "print(len(rating_list),len(summary_list),len(full_review_list))"
   ]
  },
  {
   "cell_type": "code",
   "execution_count": 732,
   "metadata": {},
   "outputs": [],
   "source": [
    "next_btn = driver.find_element_by_xpath(\"//nav[@class='yFHi8N']/a[12]\")\n",
    "next_btn.click()"
   ]
  },
  {
   "cell_type": "code",
   "execution_count": 734,
   "metadata": {},
   "outputs": [],
   "source": [
    "rating_tags,summary_tags,review_tags = tags()"
   ]
  },
  {
   "cell_type": "code",
   "execution_count": 735,
   "metadata": {
    "collapsed": true
   },
   "outputs": [
    {
     "name": "stdout",
     "output_type": "stream",
     "text": [
      "['5', '5', '5', '5', '5', '5', '5', '4', '5', '5', '5', '5', '5', '5', '5', '5', '5', '5', '5', '5', '5', '5', '4', '5', '5', '5', '5', '5', '4', '5', '5', '5', '5', '5', '5', '5', '5', '4', '1', '5', '5', '5', '5', '5', '5', '5', '5', '4', '5', '5', '5', '5', '4', '5', '5', '5', '5', '5', '5', '5', '5', '1', '5', '5', '5', '4', '5', '5', '5', '4', '5', '5', '5', '4', '5', '5', '5', '5', '5', '5', '4', '5', '5', '5', '5', '4', '5', '5', '5', '5', '5', '5', '5', '5', '5', '5', '5', '3', '5', '5']\n",
      "['Brilliant', 'Simply awesome', 'Perfect product!', 'Fabulous!', 'Best in the market!', 'Worth every penny', 'Great product', 'Good choice', 'Highly recommended', 'Worth every penny', 'Highly recommended', 'Perfect product!', 'Perfect product!', 'Classy product', 'Worth every penny', 'Perfect product!', 'Highly recommended', 'Simply awesome', 'Worth every penny', 'Worth every penny', 'Terrific', 'Wonderful', 'Nice product', 'Perfect product!', 'Classy product', 'Brilliant', 'Must buy!', 'Wonderful', 'Good choice', 'Perfect product!', 'Terrific purchase', 'Simply awesome', 'Great product', 'Mind-blowing purchase', 'Terrific purchase', 'Excellent', 'Simply awesome', 'Good quality product', 'Very poor', 'Classy product', 'Perfect product!', 'Must buy!', 'Fabulous!', 'Mind-blowing purchase', 'Mind-blowing purchase', 'Wonderful', 'Great product', 'Very Good', 'Classy product', 'Perfect product!', 'Just wow!', 'Awesome', 'Pretty good', 'Terrific purchase', 'Awesome', 'Classy product', 'Brilliant', 'Terrific', 'Perfect product!', 'Awesome', 'Perfect product!', 'Very poor', 'Fabulous!', 'Excellent', 'Must buy!', 'Value-for-money', 'Best in the market!', 'Brilliant', 'Terrific purchase', 'Good quality product', 'Best in the market!', 'Perfect product!', 'Awesome', 'Value-for-money', 'Just wow!', 'Super!', 'Classy product', 'Must buy!', 'Highly recommended', 'Excellent', 'Nice product', 'Mind-blowing purchase', 'Terrific', 'Excellent', 'Mind-blowing purchase', 'Pretty good', 'Fabulous!', 'Wonderful', 'Wonderful', 'Worth every penny', 'Fabulous!', 'Mind-blowing purchase', 'Excellent', 'Super!', 'Just wow!', 'Terrific purchase', 'Awesome', 'Decent product', 'Awesome', 'Brilliant']\n"
     ]
    },
    {
     "data": {
      "text/plain": [
       "['The Best Phone for the Money  The iPhone 11 offers superb cameras, a more durable design and excellent battery life for an affordable price.  Compelling ultra-wide camera New Night mode is excellent Long battery life',\n",
       " 'Really satisfied with the Product I received... It’s totally genuine and the packaging was also really good so if ur planning to buy just go for it.',\n",
       " 'Amazing phone with great cameras and better battery which gives you the best performance. I just love the camera .',\n",
       " 'This is my first iOS phone. I am very happy with this product. Very much satisfied with this. I love this phone.',\n",
       " 'Great iPhone very snappy experience as apple kind. Upgraded from iPhone 7. Pros -Camera top class - Battery top performed -Chipset no need to say as apple kind -Security as you expect from apple - Display super bright industry leading colour accuracy and super responsive -Build quality as expect from apple sturdy premium durable beautiful stylish. -Os most stable os in smartphone industry  Cons -No 5G -Display is not based on OLED technology -Charger headphones and 1 apple stic... READ MORE',\n",
       " 'Previously I was using one plus 3t it was a great phone And then I decided to upgrade I am stuck between Samsung s10 plus or iPhone 11 I have seen the specs and everything were good except the display it’s somewhere between 720-1080 and it’s not even an amoled it’s an LCD display But I decided to go with iPhone because I have never used an IOS device I have Been an android user from the past 9 years I ordered IPhone 11 (128gb) product red My experience after using 3 weeks 1. The delivery ... READ MORE',\n",
       " 'Amazing Powerful and Durable Gadget.  I’m am very happy with the camera picture quality, Amazing face id unlocked in dark room, Strong battery with perfect screen size as you can carry easily in pocket. This is my third iPhone.  I shifted from android Samsung Note series to iPhone because of the strong build quality and peace of mind for next 3-4 years.  Don’t think to much just go for it and I suggest you to go for minimum 128gb variant or more 256gb.  I’ve attached my puppy pics and no fi... READ MORE',\n",
       " 'So far it’s been an AMAZING experience coming back to iOS after nearly a decade but it’s not as versatile as android though phone is sturdy dropped it accidentally a couple of times and nothing happened fortunately camera is awesome',\n",
       " 'What a camera .....just awesome ..you can feel this iPhone just awesome . Good for gaming also ...try pubg in hd it’s just wow',\n",
       " 'i11 is worthy to buy, too much happy with the product. Thank u flipkart I received the item on time..loved it..',\n",
       " 'iphone 11 is a very good phone to buy only if you can compromise for the display. The display on this is device is pretty good but you can get other options with better displays in this price segment. If you can survive with an HD+ LCD panel with thicker bezels and a notch up top then this is a very good phone for you. Cameras are awesome, battery backup excellent, great performance and a decent premium look. Good job Apple !',\n",
       " 'It’s a must buy who is looking for an upgrade from previous generation of iPhones. If you are using XR then still you can hold on for sometime and upgrade to 2020 model else this phone is a must buy . Camera quality is amazing and wide angle is something to count upon. Performance wise it’s amazing and feels premium while holding in hand. So a big YES for this device. Go for 128 GB variant as the 4K videos will occupy lots of space and the storage can get over very quickly. Try to buy it with... READ MORE',\n",
       " 'Value for money❤️❤️ Its awesome mobile phone in the world ... Display was very good and bright .. Trust me freinds you r never regret after Buying.. Just go for it.... I love this phone and i switch to iphone x to 11',\n",
       " 'Totally in love with this ❤ the camera quality is amazing just love it 😘😘😘 itsss dammnnnnnn amazing... Must buy iPhone 11 this is my best experience ever ☀👌👌🧡🧡🧡🧡🧡 thanku apple ❤',\n",
       " 'Best budget Iphone till date ❤️ go for it guys without second thought. Let me explain you guys about Camera, Display, battery, and performance.  Camera: at this price range there is no comparison of camera, you’ll love the picture quality as well as video quality. I am a Vlogger I wanted an iPhone with 4k video by front camera and I got this phone and I am more than happy 😃  Battery: I use this phone roughly as I am active social media person and I have a youtube channel. so the battery ba... READ MORE',\n",
       " \"Iphone is just awesome.. battery backup is very very nice.. continuously for 10 hours we can use it.camera is just awesome.. display is just fab.i love it alot..i had to wait 15 days for it as i pre ordered it..overalll it's worth the price..these all images are clicked by my iPhone..and i love it.\",\n",
       " \"It's my first time to use iOS phone and I am loving my upgradation 😍😍 I love the color, I love the assebility of the phone....I need to learn more about its functionality, but as far as I have seen, it's quite easy and it has a lot of functions to work on, specially if you are a content writer or a blogger you get a lot of content creation platforms and they are really amazing.  This phone not only for good quality photography but a lot of other task too.😍💯\",\n",
       " 'Excellent camera, good performance, no lag. The lcd display is also good.. but difference come when we watch movie in prime and Netflix, the colours are not vibrant.. as we see in amoled display.. and the charger in box is of 5 watts.. takes more than 3 hours to charge from 0 to 100.. so guys be prepare to buy 18 watts charger . Finally I am an android user, it was my first Iapple phone, I promise u guys the iOS is so smooth.. overall the phone is damn good.... close eyes to buy it.. thanks t... READ MORE',\n",
       " 'It’s been almost a month since I have been using this phone. I upgraded from an iPhone 8. The main issue with my 8 was battery and this phone is just awesome when it comes to battery. It lasts a day and a half for me with my regular use , internet connected always with 4g Can’t move forward without saying this. Battery of this phone is a life saver when I am traveling or at work when I don’t get the option to charge Camera is superb. Front cam selfies and back cam photos are just awesome. ... READ MORE',\n",
       " 'Smooth like butter, camera like fantabulous, sound is crystal clear & its red color is damn attractive, i am just loving it. Must buy if you love photography.  Lucky to get it in sale, thank you Flipkart.',\n",
       " 'Really worth of money. i just love it. It is the best phone ever.',\n",
       " 'This is my first ever I phone. Before this I was using my google nexus 5. But moving from android to iOS is a great experience. It’s worth at this price. I will highly recommend it if you want to move to iOS. The best part of this phone is it’s camera and it’s battery life. This two things have won my heart. I loved it. Happy to have it in my hand. Still exploring its features. And can’t forget to mention Flipkart service. Very prompt service and fast delivery.',\n",
       " 'Awesome Phone. Slightly high price but worth. Better than iPhone XR. Camera is superb and wide angle camera is very clear. 12MP selfie camera is also very good. A13 Chip gives a very good and smooth performance.',\n",
       " 'Battery backup is extraordinary, camera is decent & performance offered by A13 bionic is awsome. The display is good in practical usage like the visibility of display is very good in direct sun light compare to pro models. Iam extremely satisfied for the money I spent.',\n",
       " 'Superb Product !!! A big and worthy upgrade from mi 3S to iphone 11 . Totally loved it !',\n",
       " 'I have migrated from OP 7pro... and trust me, iPhone 11 is totally worth it.. following are the reasons:- 1)there is ABSOLUTELY NO ISSUE WITH THE DISPLAY... its crisp, sharp and I found it to be much much better than OP7 pro. Netflix, Prime video all run crisply... you won’t miss a thing. True Tone works flawlessly...the display brightness is perfect. OP have not calibrated their screens properly. 2) iPhone 11 series have really good cameras... others have spoken in depth about them. 3) bat... READ MORE',\n",
       " 'It’s an amazing product from apple and the camera is simply superb. Phone is faster.Night shot is simply superb and detailing and colour differentiation from camera is an added advantage  This review I have written from iPhone 11 only and I am glad to say outside.  Cons wise if we see HD+ display only, no battery percentage indicator as in older iPhone 8. No assistive touch control button in it No oleophobic coating on back panel glass and finger prints are visible but since I bought mint gr... READ MORE',\n",
       " 'I just directly switch from iphone 6s to iphone 11 .The best premium smartphone I recommend to everyone. Excellent quality and colors the iphone have in 11 series. Camera quality is just awesome and the major feel when we hold in our hands. The sound quality and volume is also higher then the previous models. I will recommend to buy iphone 11 instead of pro models , there is nothing much difference as this model contains everything which fulfill our needs.  Only one thing that I dislike abo... READ MORE',\n",
       " 'Looking so good 👍 😍 super 👌 stylish 😎 phone Clean box 📦 good 👍 delivery 👌 fast delivery Original box Original iphone 📱 👌 😍😍😍',\n",
       " 'After 1 month use I found camera quality best compared to my previous Samsung note 10+.Display not good as note 10 also charging too slow.Apple should add fast charger like 11 plus and pro.Best phone for daily use',\n",
       " 'Upgraded from iphone 6 to 11 best phone for iphone users battery is much better than other iphones camera is awesome love to use it.camera is so clear in night.',\n",
       " \"It's very high performances devise i am like the service of flipkart delevary very fast and packing very nice perfect phone\",\n",
       " 'Well you all know the specifications . One of a kind. Best iPhone till date. Many enhancements to the camera app with many options. Love the glass body with matte finish in the lens area on the back. Lovely colours to choose from. Best battery in an iPhone till date, enough to last more than a day in normal usage. I tested my iPhone 11 battery and lasted for than 24 hours after full charge still with 30% battery charge left. Watched movies for some time. Normal usage on calls, browsing, musi... READ MORE',\n",
       " 'This will help you more. See if you are planning to buy iPhone 11. I will say. Yes. But there are some plans I just want to disclose before you buy. 1) If you are an existing iPhone X/XS/XS Max/ XR user, better you guys do not think it to buy. You guys have more or less better gadget. 2) If you are an android user and planning to buy premium phone. I will suggest them to please buy iPhone instead of buying an Android. I bet you will never go back to android after using IOS. Now I want to shar... READ MORE',\n",
       " 'The built quality is not very premium. The battery back is great . The LCD panel is not so sharp but the brightness level is very High . Camera is super duper awesome. The red colour which people think is bright is actually very soothing and excellent colour to choose from . The A13 Bionic chip is really a flagship processor and can beat any phone which even has 12 gb ram . Camera module is very great and looks very stylish.',\n",
       " 'Amazing camera and feel super machine I am not describe my feeling but this is amazing Phone I am so lucky I have this',\n",
       " 'Really good actually this is my first apple product am using its really awesome performance wise excellent. Am really happy with this iphone11',\n",
       " 'it is very good at performance. Camera is best like before and very smooth response even in water. Don’t buy 12 mini buy iPhone 11 , it is far better than 12 mini believe me ! Have a nice day \\uf8ff ☺️',\n",
       " 'Reviewing again after 5 months. At the beginning the battery and performance was good but it degraded soon. Also I was facing heating issues. The mobile will heat up like a stove sometimes. You cannot even play Pubg even in low settings properly, performance is not a problem but heating is. Also if you play that game for 10 mins the brightness will be automatically down due to over heating even when the auto brightness is set to off. This will not be solved even if u manually increase the bri... READ MORE',\n",
       " 'We are on apple ecosystem for almost eight years now with couple of iPads and iPhones, including Xr.  Bought iPhone 11 as a gift to my daughter who loves it. We chose for a purple coloured one. Believe me it is gorgeous and towards the lighter shade. Dazzling and brilliant!  The phone is great and does excellent RAM management like any other Apple device.  The screen, though a LCD and lesser ppi as compared to other flagship phones of competitor brands, is a delight to watch with perfect re... READ MORE',\n",
       " 'It is just awesome mobile for this price from Apple,  After 10 days review  Battery enough for 1 day even 24*7 Internet will be on and mostly internet usage  Camera is just awesome cool , android 64 MP is equal to this just 12 MP  A13 Bionic chip will give more high performance without hanging  Audio stereo speakers will give Dolby atoms sound with crystal clear  Video recording is like cinematic shots of every sec can be a 4K 60fps. Just awesome this phone iPhone 11 loved one',\n",
       " 'Best Apple iPhone that i have bought at a very reasonable price, camera quality is next level just awesome n of superior quality android phones not even close(RIP) to that and also battery is really good but packaging by Flipkart of iPhone was very poor of such a expensive product, firstly im bit worried about the quality of product if i purchased it through online how was the product but i think now this was mine best decision to bought it through Flipkart online because i got genuine Apple... READ MORE',\n",
       " \"I can say I'm damn impressed with iPhone 11. As they says iPhone 11 have the toughest glass ever in the smartphone which you'll find on the front and back and it's totally smooth. The fit and finish is full apple quality - there's no sense that any cheaping out has happened in the construction. Without saying it's camera features this review won't complete. The iPhone 11 has a dual camera system, consisting of a wide angle len's that's pretty much same as found on the iPhone XR last year, but... READ MORE\",\n",
       " 'Best Quality Product OF iPhone Series , Sound Quality & Camera quality is very awesome, Battery Life is very Sufficient for 24 hr Backup With Full Internet Access , I love this this Product too much , It is very fast & making me Very fast in all my daily Routine Highlights; 1.Camera: 5 STAR 2.Video Recording: 5 star 3.Night mODE sHOOTING & Camera:4 star 4. Audio Quality: Awesome 5. Battery : 5 Star 6. Touch:5 Star 7. Processor: Very Fast The M... READ MORE',\n",
       " 'First thanks to Flipkart for this amazing deal and phone is outstanding. I upgraded from iPhone 7 and this is like very big upgrade. But the packaging was very basic I expected a good packaging as they only wrapped one layer of bubble wrap which I don’t think is enough to protect this expensive phone. And I recommend this phone and seller as well.  And I’m posting this review after using it for 4 days.',\n",
       " 'Superfast delivery by Flipkart. Thanks.  1. iPhone 11 is a pretty solid phone for the money you are paying. 2. All the bad reviews about the display is confusing. It’s not that bad. 3. I switched from a Oneplus 7t. I have no complaints about the display quality of iPhone. Yes, it’s not OLED, so, we are missing on the deep blacks. But that’s it. It is a very colour accurate display. Gets adequately bright and I could not find any pixelation. 4. Performance is one of the best, if not best, in ... READ MORE',\n",
       " \"Again back to apple iphone after a gap of 2-3 years. It's pleasure to use iOS and the quality product by Apple. Iphone 11 still works like a beast in 2021 also. It really capable of doing day to day usage as well as hard core gaming. Battery is awesome. I'm really too much satisfied with it. Apart fto the very gorgious IPS LCD (AMOLED will be better) everything is mind boggling. Iphone💕.\",\n",
       " 'impressive super phone and best in class camera ,sound and face unlock is super fast just see and phone is unlock and fast in daily apps use',\n",
       " 'Well while switching from android to iOS the first thing you need to be careful about is that you will loose all your whatsapp chat backups as both are different operating systems. Camera clarity is awesome and though being an lcd screen clarity and resolution is good. Battery backup is also good unlike previous gen iPhone. So far the experience is good will Padre after a few months of usage.  P.S the black is more of a dark grey shade and not jet black',\n",
       " 'In love with this iphone great performance,camera ,battery everything. Go for it have a uncompareble battery backup, no doubts in iPhone camera here You can see the picture which is shot on my iPhone In love with this iphone great performance,camera ,battery everything. Go for it have a uncompareble battery backup, no doubts in iPhone camera here You can see the picture which is shot on my iPhone In love with this iphone great performance,camera ,battery everything. Go for it have a uncompare... READ MORE',\n",
       " 'Best in class. Battery backup is good especially when you play games like Pubg COD. But it is sort of heavy when you hold in hands. Portrait mode is best to click pictures. Stage light effect is awesome. Try to click photos outside in nature because photos inside home or room will not give you the quality in any phone even in DSLR.',\n",
       " 'Very excited to have this phone. This phone has the real power unlike the android phones having SD 855 . The battery life is very good and the camera quality is excellent as comapred to redmi and other phones except google pixel. I M enjoying every single bit of it. Would recommed only if you have the budget.',\n",
       " 'I was using Iphone 6s and also Oneplus 6t. Both mobiles were perfectly alright in Photos, gaming, and smooth interface . My 6s mobile getting battery issue. thought upgrade to 11. Really like this mobile of its Internal storage (compare to 6s) , camera and its touch feeling. Its a worth buying mobile for me.',\n",
       " 'Its Very awesome product working and good camera quality and all about best product and also flipkart is very great deal and offer nice price',\n",
       " 'I am using this phone for 5 days and its one of the best camera out there ❤️ the screen is not oled and i am coming from iphone xs so its little bit not up to the mark i would say But overall value for money💕😍the battery back up is far better than my iphone xs and its worth in my apple ecosystem💫❤️if u are an apple User and have the eco system then go for it❤️though i will be getting the new iphone but its pretty good💫',\n",
       " 'Best and amazing product.....phone looks so premium.... battary is also good as expected .... Wide angle camera is so addictive ...if you are a IOS lover....then this phone will be the best choice for you all!!💯🔥',\n",
       " 'Excellent camera and display touching very nice and smooth very improvement against iPhone XR and new processor is very fast',\n",
       " \"I got this beast today. And I must say the picture quality of its camera is awesome. Both the cameras works fine.  As for as the processing is concerned, it runs without any lag. You can play and do whatever you want without a glitch.  The battery runs for a day with medium and high workload.  The display is good and the speakers are working fine.  The earphones doesn't have any base and you can use it for calling mostly.  The charging time is approximately for 90 minutes for full charging... READ MORE\",\n",
       " 'Awesome purchase. Amazing phone with good battery backup. It’s a top notch device. White colour looks amazing. Phone has a few extra feature than iPhone XR. Overall, this is value for money',\n",
       " 'Always love the apple products, upgraded from old iPhone 6S plus to this after having my first baby. I just love to click baby’s photos with it. Overall I just love this phone. Battery back up is okay, sound quality is good. Haven’t tested yet waterproof yet. Only one thing I hate is apple could have given charger & headphones in box.',\n",
       " 'Value for money 5 star rating Excellent camera Battery backup full day in single charge.  Tougher and water resistant design, glossy back. The screen has excellent brightness and contrast. Apple A13 Bionic is the fastest smartphone chip on the planet. Excellent battery life, fast charging support. Stereo speakers with great quality.',\n",
       " 'Please DONT buy from here,  I purchased Apple iPhone 11. with an exchange of IPhone 7, the exchange did not go well, iPhone 7 had a small scratch out side screen which i could never identify till date, but the FLIPKART person could, so he reduced 50% from exchange rate. I decided not to trade in, but paid money.  iPhone 11 Detail Below --------------------------------------------- It came with no charging, then i have put for charging, it took lot of time for charging, the phone also showe... READ MORE',\n",
       " 'awesome phone to have. it has got many smart features apart from mind blowing looks, camera, display, battery and sound. have fallen in love with this phone. must buy phone if you have got enough money. thanks to flipkart and apple of course..',\n",
       " 'Its a fabulous mobile look awesome performance unbeaten camera like dslr battery good i think this is a beast of mobile',\n",
       " 'Dear friends... I want to share my experience with you about this amazing I phone 11....this is my first iPhone and special things about this mobile is it has great camera, battery backup and awesome display.... I mean everything is perfect.loved it 👍👍👍',\n",
       " \"Just got this iphone 11 And it is most powerful mobile phone I have used ever  So,go for it if you want a phone with best specification like camera,battery backup,display, A13 bionic chip  That's my review about this phone but yours can be differ from me....\",\n",
       " \"The best all rounder iphone. Flipkart is doing a great job. They're delivery services are blazing fast. I got delivery on the same day. Genuine Apple Product. Working great. Talking about review There's no need of review for iphones. They're simply the best.\",\n",
       " 'Amazing phone and on great deal I received with super fast delivery by Flipkart...',\n",
       " 'finally an iPhone with very nice battery backup. update from iPhone 7 and happy to have it. camera is not up to the mark in low light but overall a recommended phone if your budget allows 😀',\n",
       " \"I'm switching this phone to oppo reno 10x zoom It's really impressive Rarely I'm missing smooth display touch response like oppo reno but I really loved it. Camera really impressive\",\n",
       " 'Damn this phone is a blast . Upgraded from android to ios and is a duperb experience. Battery backup is top notch and display also pretty good',\n",
       " 'Worth the money’ starting first from its performance it beats out all phones , second the smoothness of camera is awesome, contrast ratio is much than expected. Price will not matter if u r a quality person, if not other phones are available with better discount',\n",
       " 'I dreamt about this day from a long time.... Getting an iPhone with my own money.... Super happy and worth spending every penny',\n",
       " \"I'm Really happy with the product Delivery was fast as well ..it was a gift for my sister and she loved it so much.\",\n",
       " 'Great iphone. I am writing this review after 2 months of usage. Camera is excellent, especially the nightmode Display perfect Battery backup awesome Sound quality very good Overall Apple gives you a perfect iphone in this range. Really in love with iPhone 11',\n",
       " 'Did an upgrade from 6s plus to iphone 11. Ao far the experience is well and good. Felt smoother than 6s plus. The camera quality is superb. Battery backup is descent. Not a heavy user, and gets power more than a day. Go for it if you need an alrounder iphone in a competitve price.',\n",
       " 'Gifted my man on his 30th birthday 🎂 He loves it.. Him happy so i am more than happy 😍😘❤️🥰',\n",
       " 'I rate this product 5* as it has got amazing user experience with the best performing A13 bionic processor. The screen responds and graphics rendering is top notch. With casual gaming and internet browsing, the battery lasts for approx. 1 day. Camera is very good. You will fall in love with the portrait mode. You can call me a loyal Apple customer or whatever but I won’t stop praising the products and overall experience. That user experience matters and is worth every penny you pay.  Below ar... READ MORE',\n",
       " 'Thanks Flipkart For this amazing deal! I had a dream of owning a iphone since i had known about. Im very happy with my purchase & it is totally worth it. Amazing experience all over !!  Anyone who’s thinking of buying it in 2021, i would simply say go for it without any second thoughts ❤️',\n",
       " \"It was amazing experience for me. Honestly i am using iPhone first time so I don't have that much past experience about that. But after using 7 days this mobile i want to give some honest feedback. 1- Display 9 out of 10 2- Camera 9.5 out of 10 3- Battery 7 out of 10 4- Performance 9.5 out of 10 5- Features & Functions 10 out of 10 6- Outer looks and colour 10 out of 10 Rest i think i will understand after using this for few months. I will highly recommend you guys if you have budget then you... READ MORE\",\n",
       " \"If you are looking for a premium phone under 55k, this is the one for you.Got the iPhone 11 during the Republic day sale. Performance is top notch in this price range. Camera's do a perfect job in taking good quality photos and videos. Battery backup too is satisfactory. Writing this review after using for a week. Any further observations would be updated.\",\n",
       " 'awesome Phone Smooth Touch Too good Sexyy looks one word Awesome',\n",
       " 'I bought iPhone 11 On March 2021, And I am Writing this review after using the phone for 4 Months. I would Say Everything is fine, Top Performance, Nice Camera as Anyone would Expect from any series of iPhone but when the Question comes to Battery it is complicated. The Battery is fully optimised and it comes 3110 mAh capacity but the problem is with the charger. Honestly Apple Removed charger from in Box items in the name of Environment and they are also forcing us to buy any 20W PD 3rd part... READ MORE',\n",
       " \"Just go for it. This phone is really amazing. I ordered it for my wife and we click photos on this thing which are better than dslr. I own OnePlus 6t but it's camera sucks. iPhone is really amazing when it comes to camera. It's worth spending 50k on this. Cons- only display is lcd. While using u don't feel it but if u compare with other phone then u can see difference quite easily. Changing from Android to iphone is bit difficult coz most of things u don't know but I liked it. Some of the a... READ MORE\",\n",
       " 'Absolutely powerful gadget. Loved it’s look! Soo glassy and classy. I would definitely recommend this model of Apple. Only disappointed with the 5W charger, one should purchase an 18W adapter for fast charging. Though battery backup is great. Bought it in September 2020, reviewing after so long so I’m gonna put the genuine review here.✅',\n",
       " \"I've used this phone for over a month now and here are my takeaways. I would like to first talk about the best things about this phone and then the cons of it.  Pros: This phone is a performance beast. It handles large games and applications effortlessly and you won't find any stutters or lags while playing graphic intensive games like pubg, cod , mortal kombat and asphalt.  This phone has only 4gb ram and yet the ram management is amazing, it can keep 3 heavy games in memory without reload... READ MORE\",\n",
       " 'Everything is perfect pictures come out so clearly and at first I wasn’t sure when I got it then when I started to use it and get the hang of it it was amazing!! I can’t wait to see what the next future phones will be like. The screen display on this bad boy are unbelievable they are so clear and never fail me. The performance is super cool there is a lot of cool features as well I like this phone because I feel that it is easy to use and one of my favorite things about this phone is the Face... READ MORE',\n",
       " 'Super and marvellous phone look very cute and nice sound. I love this phone i think white is good colur.Excellent camer 5*😍😘♥️♥️',\n",
       " 'Nice value for money good and best price I phone mind blowing camera processor very fast other android mobile I am happy India top selling phone 2020',\n",
       " 'Undoubtedly Iphone 11 is the most successful model till now and its performance is extraordinary and the security features are very impressive, display is more vibrant sound quality Camera Quality 5*****, but Iphone should add accessories too and act like scrooge.',\n",
       " 'I purchased the iPhone 11 a month back. I must say Apple has impressed me yet again . I have been an Apple user for past 5 years . The phone is power packed with amazing features . What impressed me the most was the battery backup the phone offers . Battery can easily run upto 1.5 days in single charge with moderate to Heavy usage . If you’re looking for a value for money device , I don’t see any other phone in the price range which can match the iPhone 11 . One thing I didn’t like was that ... READ MORE',\n",
       " 'Excellent camera 📸 And Display touching very Nice And Smooth and very improvement against I phone 11 and new processor is very fast',\n",
       " 'A perfect phone and a good battery super camera and the sound is dynamic overall the phone is perfect for upgrading from lower iPhone model to iPhone 11',\n",
       " 'This is my first ever iPhone. And I truly don’t regret switching to IOS from my Android.  It is easily an alternative to a DSLR camera. If you’re obsessed with photos and videos, just don’t think twice or don’t compare to other androids(Samsung S10 lite or OnePlus 8/8T), as it’s far better from them in every field. Comparing will only make you confused.  I am getting an average Screen on Time of around 10 hours with 30 percent left. I haven’t let my device discharged below 30 % as it aff... READ MORE',\n",
       " 'The ultimate performance Camera is superb The battery backup also very good i never saw iphone gives this much of battery backup If any one wana buy iphone 11 definitely i will recommend this mobile It has the better battery and powerfull processer peak performance glorious camera and the display also 100% high quality lcd display if u had money for for 12 if u dont wana invest much money on that then go for iphone 11 it has maximum same specs only main difference between the 12 and 11 is... READ MORE',\n",
       " 'I use a Note10+ and have been using both iOS and Android devices.  Camera has really good features and portraits are super good, better than Samsung flagship. Overall camera setup can still be enhanced and hopeful for better upgrades on software in next release  Operating system is quite a breeze and user experience of daily usage is very high as compared to Android. I moved to iOS very swiftly in 2 days for all my office work from Note10+  Battery holds up quite well with 4 hrs of call and ... READ MORE',\n",
       " 'The phone is completely good As far as camera Apple is king of it And its a beast in performance And the battery is pretty good too',\n",
       " 'Everything u ll like it when u use this iPhone. Simple changes only not many to lower models but it’s nice to use. Little heavy compared to previous models like 7,8',\n",
       " 'Can’t beat the software and hardware integration of apple. Performs like a beast. Great quality camera 6-7 hours screen on time which is good. Nothing much to complaint about the screen. Good connectivity speeds. Great buy and Flipkart’s delivery top notch as usual',\n",
       " 'A wort full value for money decision it’s . Simply go for it in 2021 its still a good decision . Awesome camera , Super smothered performance, Heck of build quality. And Most important it protects your privacy.']"
      ]
     },
     "execution_count": 735,
     "metadata": {},
     "output_type": "execute_result"
    }
   ],
   "source": [
    "append_items(rating_tags,summary_tags,review_tags,rating_list,summary_list,full_review_list)\n",
    "print(rating_list)\n",
    "print(summary_list)\n",
    "full_review_list"
   ]
  },
  {
   "cell_type": "code",
   "execution_count": 736,
   "metadata": {},
   "outputs": [
    {
     "name": "stdout",
     "output_type": "stream",
     "text": [
      "100 100 100\n"
     ]
    }
   ],
   "source": [
    "print(len(rating_list),len(summary_list),len(full_review_list))"
   ]
  },
  {
   "cell_type": "markdown",
   "metadata": {},
   "source": [
    "After collecting 100 entries we will create a dataframe."
   ]
  },
  {
   "cell_type": "code",
   "execution_count": 738,
   "metadata": {
    "collapsed": true
   },
   "outputs": [
    {
     "data": {
      "text/html": [
       "<div>\n",
       "<style scoped>\n",
       "    .dataframe tbody tr th:only-of-type {\n",
       "        vertical-align: middle;\n",
       "    }\n",
       "\n",
       "    .dataframe tbody tr th {\n",
       "        vertical-align: top;\n",
       "    }\n",
       "\n",
       "    .dataframe thead th {\n",
       "        text-align: right;\n",
       "    }\n",
       "</style>\n",
       "<table border=\"1\" class=\"dataframe\">\n",
       "  <thead>\n",
       "    <tr style=\"text-align: right;\">\n",
       "      <th></th>\n",
       "      <th>Rating out of 5</th>\n",
       "      <th>Review Summary</th>\n",
       "      <th>Full Review</th>\n",
       "    </tr>\n",
       "  </thead>\n",
       "  <tbody>\n",
       "    <tr>\n",
       "      <th>0</th>\n",
       "      <td>5</td>\n",
       "      <td>Brilliant</td>\n",
       "      <td>The Best Phone for the Money  The iPhone 11 offers superb cameras, a more durable design and excellent battery life for an affordable price.  Compelling ultra-wide camera New Night mode is excellent Long battery life</td>\n",
       "    </tr>\n",
       "    <tr>\n",
       "      <th>1</th>\n",
       "      <td>5</td>\n",
       "      <td>Simply awesome</td>\n",
       "      <td>Really satisfied with the Product I received... It’s totally genuine and the packaging was also really good so if ur planning to buy just go for it.</td>\n",
       "    </tr>\n",
       "    <tr>\n",
       "      <th>2</th>\n",
       "      <td>5</td>\n",
       "      <td>Perfect product!</td>\n",
       "      <td>Amazing phone with great cameras and better battery which gives you the best performance. I just love the camera .</td>\n",
       "    </tr>\n",
       "    <tr>\n",
       "      <th>3</th>\n",
       "      <td>5</td>\n",
       "      <td>Fabulous!</td>\n",
       "      <td>This is my first iOS phone. I am very happy with this product. Very much satisfied with this. I love this phone.</td>\n",
       "    </tr>\n",
       "    <tr>\n",
       "      <th>4</th>\n",
       "      <td>5</td>\n",
       "      <td>Best in the market!</td>\n",
       "      <td>Great iPhone very snappy experience as apple kind. Upgraded from iPhone 7. Pros -Camera top class - Battery top performed -Chipset no need to say as apple kind -Security as you expect from apple - Display super bright industry leading colour accuracy and super responsive -Build quality as expect from apple sturdy premium durable beautiful stylish. -Os most stable os in smartphone industry  Cons -No 5G -Display is not based on OLED technology -Charger headphones and 1 apple stic... READ MORE</td>\n",
       "    </tr>\n",
       "    <tr>\n",
       "      <th>5</th>\n",
       "      <td>5</td>\n",
       "      <td>Worth every penny</td>\n",
       "      <td>Previously I was using one plus 3t it was a great phone And then I decided to upgrade I am stuck between Samsung s10 plus or iPhone 11 I have seen the specs and everything were good except the display it’s somewhere between 720-1080 and it’s not even an amoled it’s an LCD display But I decided to go with iPhone because I have never used an IOS device I have Been an android user from the past 9 years I ordered IPhone 11 (128gb) product red My experience after using 3 weeks 1. The delivery ... READ MORE</td>\n",
       "    </tr>\n",
       "    <tr>\n",
       "      <th>6</th>\n",
       "      <td>5</td>\n",
       "      <td>Great product</td>\n",
       "      <td>Amazing Powerful and Durable Gadget.  I’m am very happy with the camera picture quality, Amazing face id unlocked in dark room, Strong battery with perfect screen size as you can carry easily in pocket. This is my third iPhone.  I shifted from android Samsung Note series to iPhone because of the strong build quality and peace of mind for next 3-4 years.  Don’t think to much just go for it and I suggest you to go for minimum 128gb variant or more 256gb.  I’ve attached my puppy pics and no fi... READ MORE</td>\n",
       "    </tr>\n",
       "    <tr>\n",
       "      <th>7</th>\n",
       "      <td>4</td>\n",
       "      <td>Good choice</td>\n",
       "      <td>So far it’s been an AMAZING experience coming back to iOS after nearly a decade but it’s not as versatile as android though phone is sturdy dropped it accidentally a couple of times and nothing happened fortunately camera is awesome</td>\n",
       "    </tr>\n",
       "    <tr>\n",
       "      <th>8</th>\n",
       "      <td>5</td>\n",
       "      <td>Highly recommended</td>\n",
       "      <td>What a camera .....just awesome ..you can feel this iPhone just awesome . Good for gaming also ...try pubg in hd it’s just wow</td>\n",
       "    </tr>\n",
       "    <tr>\n",
       "      <th>9</th>\n",
       "      <td>5</td>\n",
       "      <td>Worth every penny</td>\n",
       "      <td>i11 is worthy to buy, too much happy with the product. Thank u flipkart I received the item on time..loved it..</td>\n",
       "    </tr>\n",
       "  </tbody>\n",
       "</table>\n",
       "</div>"
      ],
      "text/plain": [
       "  Rating out of 5       Review Summary  \\\n",
       "0               5            Brilliant   \n",
       "1               5       Simply awesome   \n",
       "2               5     Perfect product!   \n",
       "3               5            Fabulous!   \n",
       "4               5  Best in the market!   \n",
       "5               5    Worth every penny   \n",
       "6               5        Great product   \n",
       "7               4          Good choice   \n",
       "8               5   Highly recommended   \n",
       "9               5    Worth every penny   \n",
       "\n",
       "                                                                                                                                                                                                                                                                                                                                                                                                                                                                                                                    Full Review  \n",
       "0                                                                                                                                                                                                                                                                                                      The Best Phone for the Money  The iPhone 11 offers superb cameras, a more durable design and excellent battery life for an affordable price.  Compelling ultra-wide camera New Night mode is excellent Long battery life  \n",
       "1                                                                                                                                                                                                                                                                                                                                                                          Really satisfied with the Product I received... It’s totally genuine and the packaging was also really good so if ur planning to buy just go for it.  \n",
       "2                                                                                                                                                                                                                                                                                                                                                                                                            Amazing phone with great cameras and better battery which gives you the best performance. I just love the camera .  \n",
       "3                                                                                                                                                                                                                                                                                                                                                                                                              This is my first iOS phone. I am very happy with this product. Very much satisfied with this. I love this phone.  \n",
       "4               Great iPhone very snappy experience as apple kind. Upgraded from iPhone 7. Pros -Camera top class - Battery top performed -Chipset no need to say as apple kind -Security as you expect from apple - Display super bright industry leading colour accuracy and super responsive -Build quality as expect from apple sturdy premium durable beautiful stylish. -Os most stable os in smartphone industry  Cons -No 5G -Display is not based on OLED technology -Charger headphones and 1 apple stic... READ MORE  \n",
       "5    Previously I was using one plus 3t it was a great phone And then I decided to upgrade I am stuck between Samsung s10 plus or iPhone 11 I have seen the specs and everything were good except the display it’s somewhere between 720-1080 and it’s not even an amoled it’s an LCD display But I decided to go with iPhone because I have never used an IOS device I have Been an android user from the past 9 years I ordered IPhone 11 (128gb) product red My experience after using 3 weeks 1. The delivery ... READ MORE  \n",
       "6  Amazing Powerful and Durable Gadget.  I’m am very happy with the camera picture quality, Amazing face id unlocked in dark room, Strong battery with perfect screen size as you can carry easily in pocket. This is my third iPhone.  I shifted from android Samsung Note series to iPhone because of the strong build quality and peace of mind for next 3-4 years.  Don’t think to much just go for it and I suggest you to go for minimum 128gb variant or more 256gb.  I’ve attached my puppy pics and no fi... READ MORE  \n",
       "7                                                                                                                                                                                                                                                                                      So far it’s been an AMAZING experience coming back to iOS after nearly a decade but it’s not as versatile as android though phone is sturdy dropped it accidentally a couple of times and nothing happened fortunately camera is awesome  \n",
       "8                                                                                                                                                                                                                                                                                                                                                                                                What a camera .....just awesome ..you can feel this iPhone just awesome . Good for gaming also ...try pubg in hd it’s just wow  \n",
       "9                                                                                                                                                                                                                                                                                                                                                                                                               i11 is worthy to buy, too much happy with the product. Thank u flipkart I received the item on time..loved it..  "
      ]
     },
     "execution_count": 738,
     "metadata": {},
     "output_type": "execute_result"
    }
   ],
   "source": [
    "df = pd.DataFrame({})\n",
    "df[\"Rating out of 5\"] = rating_list\n",
    "df[\"Review Summary\"] = summary_list\n",
    "df[\"Full Review\"] = full_review_list\n",
    "df"
   ]
  },
  {
   "cell_type": "markdown",
   "metadata": {},
   "source": [
    "DataFrame with all the required features."
   ]
  },
  {
   "cell_type": "code",
   "execution_count": null,
   "metadata": {},
   "outputs": [],
   "source": []
  },
  {
   "cell_type": "markdown",
   "metadata": {},
   "source": [
    "Q8: Scrape data for first 100 sneakers you find when you visit flipkart.com and\n",
    "search for “sneakers” in the search field.\n",
    "\n",
    "You have to scrape 4 attributes of each sneaker :\n",
    "1. Brand\n",
    "2. Product Description\n",
    "3. Price\n",
    "4. discount %\n",
    "\n",
    "As shown in the below image, you have to scrape the tick marked attributes.\n",
    "\n",
    "Also note that all the steps required during scraping should be done through code\n",
    "only and not manually."
   ]
  },
  {
   "cell_type": "code",
   "execution_count": 750,
   "metadata": {},
   "outputs": [],
   "source": [
    "driver.get(\"https://www.flipkart.com/\")"
   ]
  },
  {
   "cell_type": "markdown",
   "metadata": {},
   "source": [
    "Get the webpage using driver"
   ]
  },
  {
   "cell_type": "code",
   "execution_count": 751,
   "metadata": {},
   "outputs": [],
   "source": [
    "search_prod = driver.find_element_by_xpath(\"//input[@class='_3704LK']\")\n",
    "search_prod.send_keys(\"sneakers\")"
   ]
  },
  {
   "cell_type": "markdown",
   "metadata": {},
   "source": [
    "Finding product search field element and sending reuired search value to this element"
   ]
  },
  {
   "cell_type": "code",
   "execution_count": 752,
   "metadata": {},
   "outputs": [],
   "source": [
    "search_btn = driver.find_element_by_xpath(\"//button[@class='L0Z3Pu']\")"
   ]
  },
  {
   "cell_type": "markdown",
   "metadata": {},
   "source": [
    "We then find the search button element and click on it"
   ]
  },
  {
   "cell_type": "code",
   "execution_count": 753,
   "metadata": {},
   "outputs": [],
   "source": [
    "search_btn.click()"
   ]
  },
  {
   "cell_type": "code",
   "execution_count": 761,
   "metadata": {},
   "outputs": [],
   "source": [
    "brand_list=[]\n",
    "prod_descriptions=[]\n",
    "price_list=[]\n",
    "discount_list=[]"
   ]
  },
  {
   "cell_type": "markdown",
   "metadata": {},
   "source": [
    "Creating empty lists for the data features"
   ]
  },
  {
   "cell_type": "code",
   "execution_count": 762,
   "metadata": {
    "scrolled": true
   },
   "outputs": [
    {
     "data": {
      "text/plain": [
       "[<selenium.webdriver.remote.webelement.WebElement (session=\"5dafaff68a5e605be12e4042cb195ad0\", element=\"10b43eec-e165-407d-9efb-5f15c76b8926\")>,\n",
       " <selenium.webdriver.remote.webelement.WebElement (session=\"5dafaff68a5e605be12e4042cb195ad0\", element=\"6b439576-21ff-43ee-bb18-30df7df07482\")>,\n",
       " <selenium.webdriver.remote.webelement.WebElement (session=\"5dafaff68a5e605be12e4042cb195ad0\", element=\"422bd1e8-98fb-4457-8d16-0bd03d81b8ec\")>,\n",
       " <selenium.webdriver.remote.webelement.WebElement (session=\"5dafaff68a5e605be12e4042cb195ad0\", element=\"78aec470-e09f-4661-9d33-328da1390f7a\")>,\n",
       " <selenium.webdriver.remote.webelement.WebElement (session=\"5dafaff68a5e605be12e4042cb195ad0\", element=\"c4bbf3c8-9812-4cd2-a9a6-ebbaed1ba412\")>,\n",
       " <selenium.webdriver.remote.webelement.WebElement (session=\"5dafaff68a5e605be12e4042cb195ad0\", element=\"79bb28ba-c0b7-40a2-8251-38b4c039f114\")>,\n",
       " <selenium.webdriver.remote.webelement.WebElement (session=\"5dafaff68a5e605be12e4042cb195ad0\", element=\"7784d5cf-39e2-4cae-8736-b47cb2dd9873\")>,\n",
       " <selenium.webdriver.remote.webelement.WebElement (session=\"5dafaff68a5e605be12e4042cb195ad0\", element=\"fe3335cb-14d6-4c15-8176-93a5a2977447\")>,\n",
       " <selenium.webdriver.remote.webelement.WebElement (session=\"5dafaff68a5e605be12e4042cb195ad0\", element=\"0de31981-a7b6-4ed6-a0c0-754cdcdbaf3f\")>,\n",
       " <selenium.webdriver.remote.webelement.WebElement (session=\"5dafaff68a5e605be12e4042cb195ad0\", element=\"6b2b549a-a904-4084-86c3-00fff3f40916\")>,\n",
       " <selenium.webdriver.remote.webelement.WebElement (session=\"5dafaff68a5e605be12e4042cb195ad0\", element=\"87d87bce-5977-4fa9-815a-38ea695169cd\")>,\n",
       " <selenium.webdriver.remote.webelement.WebElement (session=\"5dafaff68a5e605be12e4042cb195ad0\", element=\"199478a8-f28d-492b-be33-67346540dd01\")>,\n",
       " <selenium.webdriver.remote.webelement.WebElement (session=\"5dafaff68a5e605be12e4042cb195ad0\", element=\"c825287b-c88e-44b0-ac4f-f4cd3a533a84\")>,\n",
       " <selenium.webdriver.remote.webelement.WebElement (session=\"5dafaff68a5e605be12e4042cb195ad0\", element=\"3bad06ca-5a52-468b-bebd-ef00a368e8b1\")>,\n",
       " <selenium.webdriver.remote.webelement.WebElement (session=\"5dafaff68a5e605be12e4042cb195ad0\", element=\"be3eed77-bdf0-43c9-8a4f-0d4cbbe46ffc\")>,\n",
       " <selenium.webdriver.remote.webelement.WebElement (session=\"5dafaff68a5e605be12e4042cb195ad0\", element=\"4433f158-736a-4da9-b832-8e8bbbe0b86b\")>,\n",
       " <selenium.webdriver.remote.webelement.WebElement (session=\"5dafaff68a5e605be12e4042cb195ad0\", element=\"c4fd2433-c5d3-4007-8d90-668a9438b855\")>,\n",
       " <selenium.webdriver.remote.webelement.WebElement (session=\"5dafaff68a5e605be12e4042cb195ad0\", element=\"a1b0a745-efc6-4596-809d-89697088fc73\")>,\n",
       " <selenium.webdriver.remote.webelement.WebElement (session=\"5dafaff68a5e605be12e4042cb195ad0\", element=\"96faefeb-9ebc-4788-8288-d128ae99b356\")>,\n",
       " <selenium.webdriver.remote.webelement.WebElement (session=\"5dafaff68a5e605be12e4042cb195ad0\", element=\"c2d421f8-63a4-4c49-9a53-72a6326a1998\")>,\n",
       " <selenium.webdriver.remote.webelement.WebElement (session=\"5dafaff68a5e605be12e4042cb195ad0\", element=\"16d41990-f3cf-4696-98b9-2d2a0155f390\")>,\n",
       " <selenium.webdriver.remote.webelement.WebElement (session=\"5dafaff68a5e605be12e4042cb195ad0\", element=\"86203d82-e0c7-42b4-8b32-55ba3db26801\")>,\n",
       " <selenium.webdriver.remote.webelement.WebElement (session=\"5dafaff68a5e605be12e4042cb195ad0\", element=\"ef42a0f4-9c7a-4b79-96f8-ec27f1f7f120\")>,\n",
       " <selenium.webdriver.remote.webelement.WebElement (session=\"5dafaff68a5e605be12e4042cb195ad0\", element=\"e7c44868-494a-484e-a9d8-880e26a2a8f5\")>,\n",
       " <selenium.webdriver.remote.webelement.WebElement (session=\"5dafaff68a5e605be12e4042cb195ad0\", element=\"d8a8e3ec-ce27-4788-91ae-b196fdb70aab\")>,\n",
       " <selenium.webdriver.remote.webelement.WebElement (session=\"5dafaff68a5e605be12e4042cb195ad0\", element=\"e7f26c90-2c8a-48d5-afb3-dfffbf18268b\")>,\n",
       " <selenium.webdriver.remote.webelement.WebElement (session=\"5dafaff68a5e605be12e4042cb195ad0\", element=\"0a067419-663c-4b52-993d-d311dec57a6f\")>,\n",
       " <selenium.webdriver.remote.webelement.WebElement (session=\"5dafaff68a5e605be12e4042cb195ad0\", element=\"005f9c27-09a7-42dd-9f5d-66c4efb6608b\")>,\n",
       " <selenium.webdriver.remote.webelement.WebElement (session=\"5dafaff68a5e605be12e4042cb195ad0\", element=\"cf571c88-6d2b-4d43-9e42-e82f134b2d02\")>,\n",
       " <selenium.webdriver.remote.webelement.WebElement (session=\"5dafaff68a5e605be12e4042cb195ad0\", element=\"eb571996-11f2-4f2c-94f7-c1b88474afdb\")>,\n",
       " <selenium.webdriver.remote.webelement.WebElement (session=\"5dafaff68a5e605be12e4042cb195ad0\", element=\"781a3969-e972-4e1f-a5eb-15e2d042f42a\")>,\n",
       " <selenium.webdriver.remote.webelement.WebElement (session=\"5dafaff68a5e605be12e4042cb195ad0\", element=\"2d6a4e0f-26c8-47e4-81e9-12c8754f9276\")>,\n",
       " <selenium.webdriver.remote.webelement.WebElement (session=\"5dafaff68a5e605be12e4042cb195ad0\", element=\"2c50487e-1ed1-4e25-a264-20dc7da8caa9\")>,\n",
       " <selenium.webdriver.remote.webelement.WebElement (session=\"5dafaff68a5e605be12e4042cb195ad0\", element=\"2e563cc9-b07a-4deb-98cf-c4e43230d019\")>,\n",
       " <selenium.webdriver.remote.webelement.WebElement (session=\"5dafaff68a5e605be12e4042cb195ad0\", element=\"6f322fcb-6498-4324-9324-261bcf416499\")>,\n",
       " <selenium.webdriver.remote.webelement.WebElement (session=\"5dafaff68a5e605be12e4042cb195ad0\", element=\"32878abd-2b23-47b7-8d76-7a420ead3969\")>,\n",
       " <selenium.webdriver.remote.webelement.WebElement (session=\"5dafaff68a5e605be12e4042cb195ad0\", element=\"e7d3352d-294c-4195-9612-d4e8c55c51fc\")>,\n",
       " <selenium.webdriver.remote.webelement.WebElement (session=\"5dafaff68a5e605be12e4042cb195ad0\", element=\"c390199a-654c-48af-ab37-5a8484d54e34\")>,\n",
       " <selenium.webdriver.remote.webelement.WebElement (session=\"5dafaff68a5e605be12e4042cb195ad0\", element=\"291b6fd8-d83a-4757-9940-b87be4a3ef60\")>,\n",
       " <selenium.webdriver.remote.webelement.WebElement (session=\"5dafaff68a5e605be12e4042cb195ad0\", element=\"e6d3ddd7-263e-4b9e-91c6-adb2503b9821\")>]"
      ]
     },
     "execution_count": 762,
     "metadata": {},
     "output_type": "execute_result"
    }
   ],
   "source": [
    "brand_tags = driver.find_elements_by_xpath(\"//div[@class='_2WkVRV']\")\n",
    "brand_tags"
   ]
  },
  {
   "cell_type": "markdown",
   "metadata": {},
   "source": [
    "Finding all the elements containing brand name data."
   ]
  },
  {
   "cell_type": "code",
   "execution_count": 763,
   "metadata": {},
   "outputs": [
    {
     "data": {
      "text/plain": [
       "['RapidBox',\n",
       " 'Chevit',\n",
       " 'D-SNEAKERZ',\n",
       " 'BIRDE',\n",
       " 'Numenzo',\n",
       " 'Magnolia',\n",
       " 'Robbie jones',\n",
       " 'BIRDE',\n",
       " 'BRUTON',\n",
       " 'BRUTON',\n",
       " 'HOTSTYLE',\n",
       " 'ESSENCE',\n",
       " 'Numenzo',\n",
       " 'Robbie jones',\n",
       " 'bluemaker',\n",
       " 'PUMA',\n",
       " 'Kraasa',\n",
       " 'believe',\n",
       " 'Edoeviv',\n",
       " 'Chevit',\n",
       " 'BIRDE',\n",
       " 'ASTEROID',\n",
       " 'Zsyto',\n",
       " 'NAUTICA',\n",
       " 'Chevit',\n",
       " 'Numenzo',\n",
       " 'ESSENCE',\n",
       " 'NAUTICA',\n",
       " 'BRUTON',\n",
       " 'Chevit',\n",
       " 'RODDICK SHOES',\n",
       " 'Chevit',\n",
       " 'Airland',\n",
       " 'Robbie jones',\n",
       " 'Arohi',\n",
       " 'JACK & JONES',\n",
       " 'HOTSTYLE',\n",
       " 'Robbie jones',\n",
       " 'BRUTON',\n",
       " 'PUMA']"
      ]
     },
     "execution_count": 763,
     "metadata": {},
     "output_type": "execute_result"
    }
   ],
   "source": [
    "for i in brand_tags:\n",
    "    brand_list.append(i.text)\n",
    "brand_list"
   ]
  },
  {
   "cell_type": "markdown",
   "metadata": {},
   "source": [
    "Append all the data from elements to a list with brand names"
   ]
  },
  {
   "cell_type": "markdown",
   "metadata": {},
   "source": [
    "We repeat the above steps for all the other features"
   ]
  },
  {
   "cell_type": "code",
   "execution_count": 764,
   "metadata": {
    "scrolled": true
   },
   "outputs": [
    {
     "data": {
      "text/plain": [
       "[<selenium.webdriver.remote.webelement.WebElement (session=\"5dafaff68a5e605be12e4042cb195ad0\", element=\"3a97e0fb-76b9-4cd9-8e22-d3aa748f2635\")>,\n",
       " <selenium.webdriver.remote.webelement.WebElement (session=\"5dafaff68a5e605be12e4042cb195ad0\", element=\"ef821cd1-ac13-4808-a1b6-73ff2a266762\")>,\n",
       " <selenium.webdriver.remote.webelement.WebElement (session=\"5dafaff68a5e605be12e4042cb195ad0\", element=\"b190e6a8-04da-4b62-b47d-f040ba3d89d9\")>,\n",
       " <selenium.webdriver.remote.webelement.WebElement (session=\"5dafaff68a5e605be12e4042cb195ad0\", element=\"d8216945-54ee-49f0-9345-b969f64de8bc\")>,\n",
       " <selenium.webdriver.remote.webelement.WebElement (session=\"5dafaff68a5e605be12e4042cb195ad0\", element=\"9aee4312-fa19-4ae5-b16a-2c7b06770aa2\")>,\n",
       " <selenium.webdriver.remote.webelement.WebElement (session=\"5dafaff68a5e605be12e4042cb195ad0\", element=\"e9ab94af-3557-4540-8754-a32ee15f06c4\")>,\n",
       " <selenium.webdriver.remote.webelement.WebElement (session=\"5dafaff68a5e605be12e4042cb195ad0\", element=\"486c7701-18e1-479e-93b2-fa83692eb9f3\")>,\n",
       " <selenium.webdriver.remote.webelement.WebElement (session=\"5dafaff68a5e605be12e4042cb195ad0\", element=\"27fce53e-ab0e-4617-9b70-6bc76ade362c\")>,\n",
       " <selenium.webdriver.remote.webelement.WebElement (session=\"5dafaff68a5e605be12e4042cb195ad0\", element=\"89e409b6-ed1e-4f09-876d-95e0a58c9190\")>,\n",
       " <selenium.webdriver.remote.webelement.WebElement (session=\"5dafaff68a5e605be12e4042cb195ad0\", element=\"4ff918a2-e82d-4eaa-962b-3b0a50d1d7a3\")>,\n",
       " <selenium.webdriver.remote.webelement.WebElement (session=\"5dafaff68a5e605be12e4042cb195ad0\", element=\"2fdfca17-0d6f-4616-a387-45d52932de22\")>,\n",
       " <selenium.webdriver.remote.webelement.WebElement (session=\"5dafaff68a5e605be12e4042cb195ad0\", element=\"0e19609e-d971-4adf-90da-40ae27c9262c\")>,\n",
       " <selenium.webdriver.remote.webelement.WebElement (session=\"5dafaff68a5e605be12e4042cb195ad0\", element=\"eb64f259-0d7d-4671-8448-9bd1d52b067a\")>,\n",
       " <selenium.webdriver.remote.webelement.WebElement (session=\"5dafaff68a5e605be12e4042cb195ad0\", element=\"63e8af78-e9ef-4cfe-8442-a6796694456d\")>,\n",
       " <selenium.webdriver.remote.webelement.WebElement (session=\"5dafaff68a5e605be12e4042cb195ad0\", element=\"a42fbd1f-db00-49d6-944d-0fb070cf8119\")>,\n",
       " <selenium.webdriver.remote.webelement.WebElement (session=\"5dafaff68a5e605be12e4042cb195ad0\", element=\"548106a9-e566-408d-9d8a-187fffe1a7ae\")>,\n",
       " <selenium.webdriver.remote.webelement.WebElement (session=\"5dafaff68a5e605be12e4042cb195ad0\", element=\"9b3c6195-1e26-4aac-aa44-6679c7115d6d\")>,\n",
       " <selenium.webdriver.remote.webelement.WebElement (session=\"5dafaff68a5e605be12e4042cb195ad0\", element=\"d8f36141-2e40-4f0c-9d51-3fb8983ff79c\")>,\n",
       " <selenium.webdriver.remote.webelement.WebElement (session=\"5dafaff68a5e605be12e4042cb195ad0\", element=\"8d23e0ee-2d0a-42b8-9440-4a09b6158771\")>,\n",
       " <selenium.webdriver.remote.webelement.WebElement (session=\"5dafaff68a5e605be12e4042cb195ad0\", element=\"3b2ccc75-8b4f-4d73-939f-28a504014bb4\")>,\n",
       " <selenium.webdriver.remote.webelement.WebElement (session=\"5dafaff68a5e605be12e4042cb195ad0\", element=\"b6e1533d-8b02-4349-a54a-b6cd1ec716af\")>,\n",
       " <selenium.webdriver.remote.webelement.WebElement (session=\"5dafaff68a5e605be12e4042cb195ad0\", element=\"3685bef5-d1f1-4181-8d22-c0bf98288892\")>,\n",
       " <selenium.webdriver.remote.webelement.WebElement (session=\"5dafaff68a5e605be12e4042cb195ad0\", element=\"16e98a77-fcab-4b2d-9b97-0e70f44cb7fa\")>,\n",
       " <selenium.webdriver.remote.webelement.WebElement (session=\"5dafaff68a5e605be12e4042cb195ad0\", element=\"25dd0a01-2f25-4a86-87ce-1d1760b3ea36\")>,\n",
       " <selenium.webdriver.remote.webelement.WebElement (session=\"5dafaff68a5e605be12e4042cb195ad0\", element=\"1392c19e-b122-4402-97c4-a3f5527f08f1\")>,\n",
       " <selenium.webdriver.remote.webelement.WebElement (session=\"5dafaff68a5e605be12e4042cb195ad0\", element=\"03880843-f11d-4229-9e74-203efd8eab6b\")>,\n",
       " <selenium.webdriver.remote.webelement.WebElement (session=\"5dafaff68a5e605be12e4042cb195ad0\", element=\"34a62247-2ce9-45f3-aa17-806edd927939\")>,\n",
       " <selenium.webdriver.remote.webelement.WebElement (session=\"5dafaff68a5e605be12e4042cb195ad0\", element=\"aef93da0-c267-4358-8655-b67c88fd514d\")>,\n",
       " <selenium.webdriver.remote.webelement.WebElement (session=\"5dafaff68a5e605be12e4042cb195ad0\", element=\"77068907-0a8c-4078-8034-5c35e18a97bd\")>,\n",
       " <selenium.webdriver.remote.webelement.WebElement (session=\"5dafaff68a5e605be12e4042cb195ad0\", element=\"09b863ff-c046-4712-bad8-7153f8283c28\")>,\n",
       " <selenium.webdriver.remote.webelement.WebElement (session=\"5dafaff68a5e605be12e4042cb195ad0\", element=\"d75785b8-c3b2-4f20-9e68-a080dc14a106\")>,\n",
       " <selenium.webdriver.remote.webelement.WebElement (session=\"5dafaff68a5e605be12e4042cb195ad0\", element=\"edc7ac54-b978-410b-95a9-aaf26d5200d4\")>,\n",
       " <selenium.webdriver.remote.webelement.WebElement (session=\"5dafaff68a5e605be12e4042cb195ad0\", element=\"067b82cf-302f-4808-84bf-d72903ddf987\")>,\n",
       " <selenium.webdriver.remote.webelement.WebElement (session=\"5dafaff68a5e605be12e4042cb195ad0\", element=\"7308443a-b764-4bc9-a05e-c5503a437a49\")>,\n",
       " <selenium.webdriver.remote.webelement.WebElement (session=\"5dafaff68a5e605be12e4042cb195ad0\", element=\"0a035912-1094-46bd-a659-5e6af8cb3fe0\")>,\n",
       " <selenium.webdriver.remote.webelement.WebElement (session=\"5dafaff68a5e605be12e4042cb195ad0\", element=\"00bde4dd-a804-40e4-b395-9088f73fb1e8\")>,\n",
       " <selenium.webdriver.remote.webelement.WebElement (session=\"5dafaff68a5e605be12e4042cb195ad0\", element=\"cfa905e9-7612-4c7f-b4b8-f43710be99b8\")>,\n",
       " <selenium.webdriver.remote.webelement.WebElement (session=\"5dafaff68a5e605be12e4042cb195ad0\", element=\"fdfc1f11-882f-4385-9f1c-d3ca3797bfb8\")>,\n",
       " <selenium.webdriver.remote.webelement.WebElement (session=\"5dafaff68a5e605be12e4042cb195ad0\", element=\"e9b0dfeb-297e-4ed9-9bb0-c1e85212c0a6\")>,\n",
       " <selenium.webdriver.remote.webelement.WebElement (session=\"5dafaff68a5e605be12e4042cb195ad0\", element=\"459c5772-c528-4102-9af2-c83ba5f1393c\")>]"
      ]
     },
     "execution_count": 764,
     "metadata": {},
     "output_type": "execute_result"
    }
   ],
   "source": [
    "description_tags = driver.find_elements_by_xpath(\"//div[@class='_2B099V']/a[1]\")\n",
    "description_tags"
   ]
  },
  {
   "cell_type": "code",
   "execution_count": 765,
   "metadata": {
    "collapsed": true
   },
   "outputs": [
    {
     "data": {
      "text/plain": [
       "['Sneakers For Men',\n",
       " 'Speed Set of 5 Pairs Sneakers Outdoors Casuals for Men ...',\n",
       " \"Casual , Partywear Sneakers Shoes For Men's And Boys Wh...\",\n",
       " 'Birde Trendy Casual Shoes Sneakers For Men',\n",
       " '411 Casual Sneakers For Men',\n",
       " 'Sneakers For Men',\n",
       " 'Casual Sneakers Shoes For Men Sneakers For Men',\n",
       " \"Men's Stylish Casual Shoes Sneakers For Men\",\n",
       " 'Combo Pack Of 4 Casual Shoes Loafer Shoes Sneakers For ...',\n",
       " 'Modern Trendy Sneakers Shoes Sneakers For Men',\n",
       " 'Sneakers For Men',\n",
       " 'Sneakers For Men',\n",
       " 'Sneakers For Men',\n",
       " 'Sneakers For Men',\n",
       " 'casual for men Sneakers For Men',\n",
       " 'one8 V2 IDP Sneakers For Men',\n",
       " 'Series 7 Sneakers For Men',\n",
       " 'Sneakers for men(black_6) Sneakers For Men',\n",
       " \"Luxury Branded Fashionable Men's Casual Walking Partywe...\",\n",
       " 'Super Stylish & Trendy Combo Pack of 02 Pairs Sneakers ...',\n",
       " \"Men's Stylish Casual Shoes Sneakers For Men\",\n",
       " \"Original Luxury Branded Fashionable Men's Casual Walkin...\",\n",
       " 'Sneakers For Men',\n",
       " 'Sneakers For Men',\n",
       " 'Perfect & Affordable Combo Pack of 02 Pairs Sneakers Ou...',\n",
       " 'Sneakers For Men',\n",
       " 'Sneakers For Men',\n",
       " 'Sneakers For Men',\n",
       " 'Lattest Sneakers Shoe Sneakers For Men',\n",
       " '168 Smart Red Lace-Ups Casuals for Men Sneakers For Men',\n",
       " 'Fashion Outdoor Canvas Casual Light Weight Lace-up Even...',\n",
       " 'Perfect & Affordable Combo Pack of 02 Pairs Sneakers Ou...',\n",
       " 'shoe Sneakers For Men',\n",
       " 'Sneakers For Men',\n",
       " 'Sneakers For Men',\n",
       " 'JFWBANNA PRINT PU Sneakers For Men',\n",
       " 'Sneakers For Men',\n",
       " 'Sneakers For Men',\n",
       " 'Modern & Trendy Collection Combo Pack of 02 Shoes for M...',\n",
       " 'R78 Sneakers For Men']"
      ]
     },
     "execution_count": 765,
     "metadata": {},
     "output_type": "execute_result"
    }
   ],
   "source": [
    "for i in description_tags:\n",
    "    prod_descriptions.append(i.text)\n",
    "prod_descriptions"
   ]
  },
  {
   "cell_type": "code",
   "execution_count": 766,
   "metadata": {
    "collapsed": true
   },
   "outputs": [
    {
     "data": {
      "text/plain": [
       "[<selenium.webdriver.remote.webelement.WebElement (session=\"5dafaff68a5e605be12e4042cb195ad0\", element=\"9e1f701a-239e-46bc-b0ad-54c14f7abfbd\")>,\n",
       " <selenium.webdriver.remote.webelement.WebElement (session=\"5dafaff68a5e605be12e4042cb195ad0\", element=\"0b3f7168-4297-41e4-b411-e667c1ae3108\")>,\n",
       " <selenium.webdriver.remote.webelement.WebElement (session=\"5dafaff68a5e605be12e4042cb195ad0\", element=\"4a052b92-3580-4d59-960f-a500bb4ef174\")>,\n",
       " <selenium.webdriver.remote.webelement.WebElement (session=\"5dafaff68a5e605be12e4042cb195ad0\", element=\"3c1c12d5-222a-4412-a6bb-518c4c8ac77a\")>,\n",
       " <selenium.webdriver.remote.webelement.WebElement (session=\"5dafaff68a5e605be12e4042cb195ad0\", element=\"dc343688-dfd6-4ccb-bc84-d90d58f2b009\")>,\n",
       " <selenium.webdriver.remote.webelement.WebElement (session=\"5dafaff68a5e605be12e4042cb195ad0\", element=\"a8d3391c-aa0f-46dc-b490-2afa9a5725e5\")>,\n",
       " <selenium.webdriver.remote.webelement.WebElement (session=\"5dafaff68a5e605be12e4042cb195ad0\", element=\"55614c2a-8bd7-4692-8fb9-971d0d2dfc1d\")>,\n",
       " <selenium.webdriver.remote.webelement.WebElement (session=\"5dafaff68a5e605be12e4042cb195ad0\", element=\"99fa84da-2b3e-4d75-91d8-888cd61f9483\")>,\n",
       " <selenium.webdriver.remote.webelement.WebElement (session=\"5dafaff68a5e605be12e4042cb195ad0\", element=\"ee697495-3028-46c0-bc9c-460026aa2691\")>,\n",
       " <selenium.webdriver.remote.webelement.WebElement (session=\"5dafaff68a5e605be12e4042cb195ad0\", element=\"9fa36ac6-aff1-4ba0-b21e-bb1f30b30a77\")>,\n",
       " <selenium.webdriver.remote.webelement.WebElement (session=\"5dafaff68a5e605be12e4042cb195ad0\", element=\"31e59e66-ef6e-4afa-885f-88be773051ce\")>,\n",
       " <selenium.webdriver.remote.webelement.WebElement (session=\"5dafaff68a5e605be12e4042cb195ad0\", element=\"4d0b7ea0-5263-4a3f-8aed-e3748d990cae\")>,\n",
       " <selenium.webdriver.remote.webelement.WebElement (session=\"5dafaff68a5e605be12e4042cb195ad0\", element=\"b9e84279-7237-4d2a-a955-599bac68d72c\")>,\n",
       " <selenium.webdriver.remote.webelement.WebElement (session=\"5dafaff68a5e605be12e4042cb195ad0\", element=\"4e389c53-ae92-4100-842a-cf9fff024fac\")>,\n",
       " <selenium.webdriver.remote.webelement.WebElement (session=\"5dafaff68a5e605be12e4042cb195ad0\", element=\"b9cb129f-5473-4a07-be24-7090df5f7619\")>,\n",
       " <selenium.webdriver.remote.webelement.WebElement (session=\"5dafaff68a5e605be12e4042cb195ad0\", element=\"d988bea3-fa0a-435a-b78a-6cbc0a9cb132\")>,\n",
       " <selenium.webdriver.remote.webelement.WebElement (session=\"5dafaff68a5e605be12e4042cb195ad0\", element=\"23dbb848-8671-4594-85d0-d82f017c3dce\")>,\n",
       " <selenium.webdriver.remote.webelement.WebElement (session=\"5dafaff68a5e605be12e4042cb195ad0\", element=\"a8433d38-cdbd-440c-882b-79031ef72f44\")>,\n",
       " <selenium.webdriver.remote.webelement.WebElement (session=\"5dafaff68a5e605be12e4042cb195ad0\", element=\"f4d28022-0bab-458f-8643-1762f2c80df4\")>,\n",
       " <selenium.webdriver.remote.webelement.WebElement (session=\"5dafaff68a5e605be12e4042cb195ad0\", element=\"296f01ce-b345-45ff-962e-7c62882cd43b\")>,\n",
       " <selenium.webdriver.remote.webelement.WebElement (session=\"5dafaff68a5e605be12e4042cb195ad0\", element=\"8128d228-ebce-4550-bf98-018b7d8d3df9\")>,\n",
       " <selenium.webdriver.remote.webelement.WebElement (session=\"5dafaff68a5e605be12e4042cb195ad0\", element=\"9ea32f94-6421-499a-be15-ca45c881ad8b\")>,\n",
       " <selenium.webdriver.remote.webelement.WebElement (session=\"5dafaff68a5e605be12e4042cb195ad0\", element=\"9d0b9029-3f32-44c6-be8e-8c00968b6b53\")>,\n",
       " <selenium.webdriver.remote.webelement.WebElement (session=\"5dafaff68a5e605be12e4042cb195ad0\", element=\"e835f6c4-b594-4f78-ace4-3378fb8f2bf1\")>,\n",
       " <selenium.webdriver.remote.webelement.WebElement (session=\"5dafaff68a5e605be12e4042cb195ad0\", element=\"273ff2d6-e941-453f-94ab-dd05540bd6a3\")>,\n",
       " <selenium.webdriver.remote.webelement.WebElement (session=\"5dafaff68a5e605be12e4042cb195ad0\", element=\"1d33f793-8578-4bdc-b7a8-46acd448742e\")>,\n",
       " <selenium.webdriver.remote.webelement.WebElement (session=\"5dafaff68a5e605be12e4042cb195ad0\", element=\"afc8aa02-ce9e-45bc-87cd-9f89caa1a8a1\")>,\n",
       " <selenium.webdriver.remote.webelement.WebElement (session=\"5dafaff68a5e605be12e4042cb195ad0\", element=\"6137c4fa-63e3-4997-b66c-63115259629d\")>,\n",
       " <selenium.webdriver.remote.webelement.WebElement (session=\"5dafaff68a5e605be12e4042cb195ad0\", element=\"b3e3e1fc-7029-4e13-85b8-af7e21cf6224\")>,\n",
       " <selenium.webdriver.remote.webelement.WebElement (session=\"5dafaff68a5e605be12e4042cb195ad0\", element=\"da7ece4e-b547-486d-b9dd-ee7c4ac524c8\")>,\n",
       " <selenium.webdriver.remote.webelement.WebElement (session=\"5dafaff68a5e605be12e4042cb195ad0\", element=\"4383d90d-7afe-409f-b3d9-37fe064d911a\")>,\n",
       " <selenium.webdriver.remote.webelement.WebElement (session=\"5dafaff68a5e605be12e4042cb195ad0\", element=\"afcd8159-bb53-45fc-92a7-a4320e635b7c\")>,\n",
       " <selenium.webdriver.remote.webelement.WebElement (session=\"5dafaff68a5e605be12e4042cb195ad0\", element=\"ba96aa29-dccf-47ba-be8b-3862dd63a231\")>,\n",
       " <selenium.webdriver.remote.webelement.WebElement (session=\"5dafaff68a5e605be12e4042cb195ad0\", element=\"65b6760c-2c9c-40f2-9814-e29f7a010ddf\")>,\n",
       " <selenium.webdriver.remote.webelement.WebElement (session=\"5dafaff68a5e605be12e4042cb195ad0\", element=\"36701563-ae9c-4354-8a82-7732276713db\")>,\n",
       " <selenium.webdriver.remote.webelement.WebElement (session=\"5dafaff68a5e605be12e4042cb195ad0\", element=\"80166ae0-072f-44e4-baa9-bc51b72b2335\")>,\n",
       " <selenium.webdriver.remote.webelement.WebElement (session=\"5dafaff68a5e605be12e4042cb195ad0\", element=\"f1f45ff6-403a-49f1-b401-8a742364f112\")>,\n",
       " <selenium.webdriver.remote.webelement.WebElement (session=\"5dafaff68a5e605be12e4042cb195ad0\", element=\"19a0a9ff-6631-4cb1-92f0-9fbbe9db57fb\")>,\n",
       " <selenium.webdriver.remote.webelement.WebElement (session=\"5dafaff68a5e605be12e4042cb195ad0\", element=\"446da024-d8d5-4006-8a7d-d56ae46ecf9a\")>,\n",
       " <selenium.webdriver.remote.webelement.WebElement (session=\"5dafaff68a5e605be12e4042cb195ad0\", element=\"27463395-56d1-4b5b-a654-c920109a8714\")>]"
      ]
     },
     "execution_count": 766,
     "metadata": {},
     "output_type": "execute_result"
    }
   ],
   "source": [
    "price_tags = driver.find_elements_by_xpath(\"//a[@class='_3bPFwb']/div/div[1]\")\n",
    "price_tags"
   ]
  },
  {
   "cell_type": "code",
   "execution_count": 767,
   "metadata": {},
   "outputs": [
    {
     "data": {
      "text/plain": [
       "['₹520',\n",
       " '₹899',\n",
       " '₹348',\n",
       " '₹399',\n",
       " '₹426',\n",
       " '₹398',\n",
       " '₹379',\n",
       " '₹399',\n",
       " '₹449',\n",
       " '₹359',\n",
       " '₹296',\n",
       " '₹499',\n",
       " '₹407',\n",
       " '₹474',\n",
       " '₹499',\n",
       " '₹1,711',\n",
       " '₹416',\n",
       " '₹449',\n",
       " '₹499',\n",
       " '₹699',\n",
       " '₹399',\n",
       " '₹499',\n",
       " '₹418',\n",
       " '₹1,799',\n",
       " '₹599',\n",
       " '₹378',\n",
       " '₹499',\n",
       " '₹1,789',\n",
       " '₹323',\n",
       " '₹249',\n",
       " '₹474',\n",
       " '₹599',\n",
       " '₹257',\n",
       " '₹449',\n",
       " '₹459',\n",
       " '₹1,649',\n",
       " '₹198',\n",
       " '₹499',\n",
       " '₹473',\n",
       " '₹2,399']"
      ]
     },
     "execution_count": 767,
     "metadata": {},
     "output_type": "execute_result"
    }
   ],
   "source": [
    "for i in price_tags:\n",
    "    price_list.append(i.text)\n",
    "price_list"
   ]
  },
  {
   "cell_type": "code",
   "execution_count": 768,
   "metadata": {},
   "outputs": [
    {
     "data": {
      "text/plain": [
       "[<selenium.webdriver.remote.webelement.WebElement (session=\"5dafaff68a5e605be12e4042cb195ad0\", element=\"982e01e2-a839-4221-a4bf-c77b079a7104\")>,\n",
       " <selenium.webdriver.remote.webelement.WebElement (session=\"5dafaff68a5e605be12e4042cb195ad0\", element=\"bae4e06c-b3b6-454b-baa0-66b5c9b7606a\")>,\n",
       " <selenium.webdriver.remote.webelement.WebElement (session=\"5dafaff68a5e605be12e4042cb195ad0\", element=\"53cba759-1943-4445-b7fc-d302ae3912e5\")>,\n",
       " <selenium.webdriver.remote.webelement.WebElement (session=\"5dafaff68a5e605be12e4042cb195ad0\", element=\"59e4b3c3-7e89-43f4-8511-9e603fba6375\")>,\n",
       " <selenium.webdriver.remote.webelement.WebElement (session=\"5dafaff68a5e605be12e4042cb195ad0\", element=\"2f98f214-b1b7-47e9-b0b1-7084ca684532\")>,\n",
       " <selenium.webdriver.remote.webelement.WebElement (session=\"5dafaff68a5e605be12e4042cb195ad0\", element=\"2e5de91f-e92a-4b67-8d71-6198b2530397\")>,\n",
       " <selenium.webdriver.remote.webelement.WebElement (session=\"5dafaff68a5e605be12e4042cb195ad0\", element=\"98268fc9-3581-4097-b979-40a72fa7a5ef\")>,\n",
       " <selenium.webdriver.remote.webelement.WebElement (session=\"5dafaff68a5e605be12e4042cb195ad0\", element=\"a44b68ab-9269-47bd-92f6-9d7f1d098989\")>,\n",
       " <selenium.webdriver.remote.webelement.WebElement (session=\"5dafaff68a5e605be12e4042cb195ad0\", element=\"79838427-5031-4fef-9160-adb672f6f4ed\")>,\n",
       " <selenium.webdriver.remote.webelement.WebElement (session=\"5dafaff68a5e605be12e4042cb195ad0\", element=\"cc9fd73c-5a06-4ead-aee5-3c9a136252a2\")>,\n",
       " <selenium.webdriver.remote.webelement.WebElement (session=\"5dafaff68a5e605be12e4042cb195ad0\", element=\"7022ca4e-c27f-4a56-b440-2fd5d8881c6e\")>,\n",
       " <selenium.webdriver.remote.webelement.WebElement (session=\"5dafaff68a5e605be12e4042cb195ad0\", element=\"12e8c300-19d4-4ffe-9f0b-87b7350da392\")>,\n",
       " <selenium.webdriver.remote.webelement.WebElement (session=\"5dafaff68a5e605be12e4042cb195ad0\", element=\"2ae30f6f-c617-47ff-bc34-32201b4d9d45\")>,\n",
       " <selenium.webdriver.remote.webelement.WebElement (session=\"5dafaff68a5e605be12e4042cb195ad0\", element=\"91317438-bd77-4db9-9264-aabc8b1aa717\")>,\n",
       " <selenium.webdriver.remote.webelement.WebElement (session=\"5dafaff68a5e605be12e4042cb195ad0\", element=\"fad21328-f71d-4285-902c-5d72817d8d97\")>,\n",
       " <selenium.webdriver.remote.webelement.WebElement (session=\"5dafaff68a5e605be12e4042cb195ad0\", element=\"eab7733a-c57a-4fa4-b5ae-5e60fff80be8\")>,\n",
       " <selenium.webdriver.remote.webelement.WebElement (session=\"5dafaff68a5e605be12e4042cb195ad0\", element=\"10c2b77c-24a9-464d-8487-ce9a8de6340e\")>,\n",
       " <selenium.webdriver.remote.webelement.WebElement (session=\"5dafaff68a5e605be12e4042cb195ad0\", element=\"3fb2df72-5aaa-40cf-8ee1-5c57062748c2\")>,\n",
       " <selenium.webdriver.remote.webelement.WebElement (session=\"5dafaff68a5e605be12e4042cb195ad0\", element=\"5eee8eaf-dac5-4124-b18f-136a314bfb35\")>,\n",
       " <selenium.webdriver.remote.webelement.WebElement (session=\"5dafaff68a5e605be12e4042cb195ad0\", element=\"25e50847-11c7-447f-a66a-d316dbbaeac1\")>,\n",
       " <selenium.webdriver.remote.webelement.WebElement (session=\"5dafaff68a5e605be12e4042cb195ad0\", element=\"7f6a5160-c093-4337-b267-2f0e839e092b\")>,\n",
       " <selenium.webdriver.remote.webelement.WebElement (session=\"5dafaff68a5e605be12e4042cb195ad0\", element=\"9077b014-2265-4c32-9816-f00a9b551008\")>,\n",
       " <selenium.webdriver.remote.webelement.WebElement (session=\"5dafaff68a5e605be12e4042cb195ad0\", element=\"680b4acc-61de-40df-9c4c-bd22408de35f\")>,\n",
       " <selenium.webdriver.remote.webelement.WebElement (session=\"5dafaff68a5e605be12e4042cb195ad0\", element=\"82213c3b-c3bf-487b-b865-f0555614f904\")>,\n",
       " <selenium.webdriver.remote.webelement.WebElement (session=\"5dafaff68a5e605be12e4042cb195ad0\", element=\"0dc18b32-a651-42b8-87af-c5aec0407424\")>,\n",
       " <selenium.webdriver.remote.webelement.WebElement (session=\"5dafaff68a5e605be12e4042cb195ad0\", element=\"2d219280-a7a0-4a12-a00e-a7940f7f2c52\")>,\n",
       " <selenium.webdriver.remote.webelement.WebElement (session=\"5dafaff68a5e605be12e4042cb195ad0\", element=\"b613c506-ba00-4f9e-9a70-b4bd35c3c259\")>,\n",
       " <selenium.webdriver.remote.webelement.WebElement (session=\"5dafaff68a5e605be12e4042cb195ad0\", element=\"21b32c5d-6da6-4ce7-b743-8487b660c027\")>,\n",
       " <selenium.webdriver.remote.webelement.WebElement (session=\"5dafaff68a5e605be12e4042cb195ad0\", element=\"1485ad3b-41d4-45dc-a8f3-b54e80a8f359\")>,\n",
       " <selenium.webdriver.remote.webelement.WebElement (session=\"5dafaff68a5e605be12e4042cb195ad0\", element=\"3f75828f-6066-45e1-980c-b4c3fae55c98\")>,\n",
       " <selenium.webdriver.remote.webelement.WebElement (session=\"5dafaff68a5e605be12e4042cb195ad0\", element=\"5bc7c2e5-23de-4c17-9ee2-8722794d9654\")>,\n",
       " <selenium.webdriver.remote.webelement.WebElement (session=\"5dafaff68a5e605be12e4042cb195ad0\", element=\"2297e9ac-2a49-4d68-9f3c-1a24ef8e8953\")>,\n",
       " <selenium.webdriver.remote.webelement.WebElement (session=\"5dafaff68a5e605be12e4042cb195ad0\", element=\"c51d1a76-690e-4813-9d84-ba8a84af5cbe\")>,\n",
       " <selenium.webdriver.remote.webelement.WebElement (session=\"5dafaff68a5e605be12e4042cb195ad0\", element=\"2a74fb9c-de6d-4e04-8168-b8d8a604aaa5\")>,\n",
       " <selenium.webdriver.remote.webelement.WebElement (session=\"5dafaff68a5e605be12e4042cb195ad0\", element=\"9cc196f4-e21a-4f6f-a2fb-c4914f1af7b6\")>,\n",
       " <selenium.webdriver.remote.webelement.WebElement (session=\"5dafaff68a5e605be12e4042cb195ad0\", element=\"66ad4725-d243-4f85-884a-17d62bec81b7\")>,\n",
       " <selenium.webdriver.remote.webelement.WebElement (session=\"5dafaff68a5e605be12e4042cb195ad0\", element=\"b500d5d6-cc70-4b14-adf2-c75bb39cb814\")>,\n",
       " <selenium.webdriver.remote.webelement.WebElement (session=\"5dafaff68a5e605be12e4042cb195ad0\", element=\"3f3d70b2-0f5e-49a8-a13c-b0968c7cdece\")>,\n",
       " <selenium.webdriver.remote.webelement.WebElement (session=\"5dafaff68a5e605be12e4042cb195ad0\", element=\"ef64171c-6ce3-47ea-a788-408e0a712647\")>,\n",
       " <selenium.webdriver.remote.webelement.WebElement (session=\"5dafaff68a5e605be12e4042cb195ad0\", element=\"a2302c0b-8feb-4a54-9466-d5b4eaf9c5d7\")>]"
      ]
     },
     "execution_count": 768,
     "metadata": {},
     "output_type": "execute_result"
    }
   ],
   "source": [
    "discount_tags = driver.find_elements_by_xpath(\"//div[@class='_3Ay6Sb']\")\n",
    "discount_tags"
   ]
  },
  {
   "cell_type": "code",
   "execution_count": 769,
   "metadata": {},
   "outputs": [
    {
     "data": {
      "text/plain": [
       "['47% off',\n",
       " '63% off',\n",
       " '47% off',\n",
       " '20% off',\n",
       " '78% off',\n",
       " '60% off',\n",
       " '62% off',\n",
       " '20% off',\n",
       " '87% off',\n",
       " '72% off',\n",
       " '70% off',\n",
       " '50% off',\n",
       " '68% off',\n",
       " '52% off',\n",
       " '50% off',\n",
       " '48% off',\n",
       " '58% off',\n",
       " '55% off',\n",
       " '37% off',\n",
       " '56% off',\n",
       " '20% off',\n",
       " '75% off',\n",
       " '58% off',\n",
       " '66% off',\n",
       " '66% off',\n",
       " '62% off',\n",
       " '50% off',\n",
       " '68% off',\n",
       " '75% off',\n",
       " '50% off',\n",
       " '52% off',\n",
       " '53% off',\n",
       " '48% off',\n",
       " '55% off',\n",
       " '54% off',\n",
       " '58% off',\n",
       " '60% off',\n",
       " '50% off',\n",
       " '81% off',\n",
       " '40% off']"
      ]
     },
     "execution_count": 769,
     "metadata": {},
     "output_type": "execute_result"
    }
   ],
   "source": [
    "for i in discount_tags:\n",
    "    discount_list.append(i.text)\n",
    "discount_list"
   ]
  },
  {
   "cell_type": "markdown",
   "metadata": {},
   "source": [
    "After collecting data from all the data features we will create a dataframe using pandas"
   ]
  },
  {
   "cell_type": "code",
   "execution_count": 770,
   "metadata": {},
   "outputs": [
    {
     "data": {
      "text/html": [
       "<div>\n",
       "<style scoped>\n",
       "    .dataframe tbody tr th:only-of-type {\n",
       "        vertical-align: middle;\n",
       "    }\n",
       "\n",
       "    .dataframe tbody tr th {\n",
       "        vertical-align: top;\n",
       "    }\n",
       "\n",
       "    .dataframe thead th {\n",
       "        text-align: right;\n",
       "    }\n",
       "</style>\n",
       "<table border=\"1\" class=\"dataframe\">\n",
       "  <thead>\n",
       "    <tr style=\"text-align: right;\">\n",
       "      <th></th>\n",
       "      <th>Brand</th>\n",
       "      <th>Product Description</th>\n",
       "      <th>Price</th>\n",
       "      <th>Discount</th>\n",
       "    </tr>\n",
       "  </thead>\n",
       "  <tbody>\n",
       "    <tr>\n",
       "      <th>0</th>\n",
       "      <td>RapidBox</td>\n",
       "      <td>Sneakers For Men</td>\n",
       "      <td>₹520</td>\n",
       "      <td>47% off</td>\n",
       "    </tr>\n",
       "    <tr>\n",
       "      <th>1</th>\n",
       "      <td>Chevit</td>\n",
       "      <td>Speed Set of 5 Pairs Sneakers Outdoors Casuals for Men ...</td>\n",
       "      <td>₹899</td>\n",
       "      <td>63% off</td>\n",
       "    </tr>\n",
       "    <tr>\n",
       "      <th>2</th>\n",
       "      <td>D-SNEAKERZ</td>\n",
       "      <td>Casual , Partywear Sneakers Shoes For Men's And Boys Wh...</td>\n",
       "      <td>₹348</td>\n",
       "      <td>47% off</td>\n",
       "    </tr>\n",
       "    <tr>\n",
       "      <th>3</th>\n",
       "      <td>BIRDE</td>\n",
       "      <td>Birde Trendy Casual Shoes Sneakers For Men</td>\n",
       "      <td>₹399</td>\n",
       "      <td>20% off</td>\n",
       "    </tr>\n",
       "    <tr>\n",
       "      <th>4</th>\n",
       "      <td>Numenzo</td>\n",
       "      <td>411 Casual Sneakers For Men</td>\n",
       "      <td>₹426</td>\n",
       "      <td>78% off</td>\n",
       "    </tr>\n",
       "    <tr>\n",
       "      <th>5</th>\n",
       "      <td>Magnolia</td>\n",
       "      <td>Sneakers For Men</td>\n",
       "      <td>₹398</td>\n",
       "      <td>60% off</td>\n",
       "    </tr>\n",
       "    <tr>\n",
       "      <th>6</th>\n",
       "      <td>Robbie jones</td>\n",
       "      <td>Casual Sneakers Shoes For Men Sneakers For Men</td>\n",
       "      <td>₹379</td>\n",
       "      <td>62% off</td>\n",
       "    </tr>\n",
       "    <tr>\n",
       "      <th>7</th>\n",
       "      <td>BIRDE</td>\n",
       "      <td>Men's Stylish Casual Shoes Sneakers For Men</td>\n",
       "      <td>₹399</td>\n",
       "      <td>20% off</td>\n",
       "    </tr>\n",
       "    <tr>\n",
       "      <th>8</th>\n",
       "      <td>BRUTON</td>\n",
       "      <td>Combo Pack Of 4 Casual Shoes Loafer Shoes Sneakers For ...</td>\n",
       "      <td>₹449</td>\n",
       "      <td>87% off</td>\n",
       "    </tr>\n",
       "    <tr>\n",
       "      <th>9</th>\n",
       "      <td>BRUTON</td>\n",
       "      <td>Modern Trendy Sneakers Shoes Sneakers For Men</td>\n",
       "      <td>₹359</td>\n",
       "      <td>72% off</td>\n",
       "    </tr>\n",
       "    <tr>\n",
       "      <th>10</th>\n",
       "      <td>HOTSTYLE</td>\n",
       "      <td>Sneakers For Men</td>\n",
       "      <td>₹296</td>\n",
       "      <td>70% off</td>\n",
       "    </tr>\n",
       "    <tr>\n",
       "      <th>11</th>\n",
       "      <td>ESSENCE</td>\n",
       "      <td>Sneakers For Men</td>\n",
       "      <td>₹499</td>\n",
       "      <td>50% off</td>\n",
       "    </tr>\n",
       "    <tr>\n",
       "      <th>12</th>\n",
       "      <td>Numenzo</td>\n",
       "      <td>Sneakers For Men</td>\n",
       "      <td>₹407</td>\n",
       "      <td>68% off</td>\n",
       "    </tr>\n",
       "    <tr>\n",
       "      <th>13</th>\n",
       "      <td>Robbie jones</td>\n",
       "      <td>Sneakers For Men</td>\n",
       "      <td>₹474</td>\n",
       "      <td>52% off</td>\n",
       "    </tr>\n",
       "    <tr>\n",
       "      <th>14</th>\n",
       "      <td>bluemaker</td>\n",
       "      <td>casual for men Sneakers For Men</td>\n",
       "      <td>₹499</td>\n",
       "      <td>50% off</td>\n",
       "    </tr>\n",
       "    <tr>\n",
       "      <th>15</th>\n",
       "      <td>PUMA</td>\n",
       "      <td>one8 V2 IDP Sneakers For Men</td>\n",
       "      <td>₹1,711</td>\n",
       "      <td>48% off</td>\n",
       "    </tr>\n",
       "    <tr>\n",
       "      <th>16</th>\n",
       "      <td>Kraasa</td>\n",
       "      <td>Series 7 Sneakers For Men</td>\n",
       "      <td>₹416</td>\n",
       "      <td>58% off</td>\n",
       "    </tr>\n",
       "    <tr>\n",
       "      <th>17</th>\n",
       "      <td>believe</td>\n",
       "      <td>Sneakers for men(black_6) Sneakers For Men</td>\n",
       "      <td>₹449</td>\n",
       "      <td>55% off</td>\n",
       "    </tr>\n",
       "    <tr>\n",
       "      <th>18</th>\n",
       "      <td>Edoeviv</td>\n",
       "      <td>Luxury Branded Fashionable Men's Casual Walking Partywe...</td>\n",
       "      <td>₹499</td>\n",
       "      <td>37% off</td>\n",
       "    </tr>\n",
       "    <tr>\n",
       "      <th>19</th>\n",
       "      <td>Chevit</td>\n",
       "      <td>Super Stylish &amp; Trendy Combo Pack of 02 Pairs Sneakers ...</td>\n",
       "      <td>₹699</td>\n",
       "      <td>56% off</td>\n",
       "    </tr>\n",
       "    <tr>\n",
       "      <th>20</th>\n",
       "      <td>BIRDE</td>\n",
       "      <td>Men's Stylish Casual Shoes Sneakers For Men</td>\n",
       "      <td>₹399</td>\n",
       "      <td>20% off</td>\n",
       "    </tr>\n",
       "    <tr>\n",
       "      <th>21</th>\n",
       "      <td>ASTEROID</td>\n",
       "      <td>Original Luxury Branded Fashionable Men's Casual Walkin...</td>\n",
       "      <td>₹499</td>\n",
       "      <td>75% off</td>\n",
       "    </tr>\n",
       "    <tr>\n",
       "      <th>22</th>\n",
       "      <td>Zsyto</td>\n",
       "      <td>Sneakers For Men</td>\n",
       "      <td>₹418</td>\n",
       "      <td>58% off</td>\n",
       "    </tr>\n",
       "    <tr>\n",
       "      <th>23</th>\n",
       "      <td>NAUTICA</td>\n",
       "      <td>Sneakers For Men</td>\n",
       "      <td>₹1,799</td>\n",
       "      <td>66% off</td>\n",
       "    </tr>\n",
       "    <tr>\n",
       "      <th>24</th>\n",
       "      <td>Chevit</td>\n",
       "      <td>Perfect &amp; Affordable Combo Pack of 02 Pairs Sneakers Ou...</td>\n",
       "      <td>₹599</td>\n",
       "      <td>66% off</td>\n",
       "    </tr>\n",
       "    <tr>\n",
       "      <th>25</th>\n",
       "      <td>Numenzo</td>\n",
       "      <td>Sneakers For Men</td>\n",
       "      <td>₹378</td>\n",
       "      <td>62% off</td>\n",
       "    </tr>\n",
       "    <tr>\n",
       "      <th>26</th>\n",
       "      <td>ESSENCE</td>\n",
       "      <td>Sneakers For Men</td>\n",
       "      <td>₹499</td>\n",
       "      <td>50% off</td>\n",
       "    </tr>\n",
       "    <tr>\n",
       "      <th>27</th>\n",
       "      <td>NAUTICA</td>\n",
       "      <td>Sneakers For Men</td>\n",
       "      <td>₹1,789</td>\n",
       "      <td>68% off</td>\n",
       "    </tr>\n",
       "    <tr>\n",
       "      <th>28</th>\n",
       "      <td>BRUTON</td>\n",
       "      <td>Lattest Sneakers Shoe Sneakers For Men</td>\n",
       "      <td>₹323</td>\n",
       "      <td>75% off</td>\n",
       "    </tr>\n",
       "    <tr>\n",
       "      <th>29</th>\n",
       "      <td>Chevit</td>\n",
       "      <td>168 Smart Red Lace-Ups Casuals for Men Sneakers For Men</td>\n",
       "      <td>₹249</td>\n",
       "      <td>50% off</td>\n",
       "    </tr>\n",
       "    <tr>\n",
       "      <th>30</th>\n",
       "      <td>RODDICK SHOES</td>\n",
       "      <td>Fashion Outdoor Canvas Casual Light Weight Lace-up Even...</td>\n",
       "      <td>₹474</td>\n",
       "      <td>52% off</td>\n",
       "    </tr>\n",
       "    <tr>\n",
       "      <th>31</th>\n",
       "      <td>Chevit</td>\n",
       "      <td>Perfect &amp; Affordable Combo Pack of 02 Pairs Sneakers Ou...</td>\n",
       "      <td>₹599</td>\n",
       "      <td>53% off</td>\n",
       "    </tr>\n",
       "    <tr>\n",
       "      <th>32</th>\n",
       "      <td>Airland</td>\n",
       "      <td>shoe Sneakers For Men</td>\n",
       "      <td>₹257</td>\n",
       "      <td>48% off</td>\n",
       "    </tr>\n",
       "    <tr>\n",
       "      <th>33</th>\n",
       "      <td>Robbie jones</td>\n",
       "      <td>Sneakers For Men</td>\n",
       "      <td>₹449</td>\n",
       "      <td>55% off</td>\n",
       "    </tr>\n",
       "    <tr>\n",
       "      <th>34</th>\n",
       "      <td>Arohi</td>\n",
       "      <td>Sneakers For Men</td>\n",
       "      <td>₹459</td>\n",
       "      <td>54% off</td>\n",
       "    </tr>\n",
       "    <tr>\n",
       "      <th>35</th>\n",
       "      <td>JACK &amp; JONES</td>\n",
       "      <td>JFWBANNA PRINT PU Sneakers For Men</td>\n",
       "      <td>₹1,649</td>\n",
       "      <td>58% off</td>\n",
       "    </tr>\n",
       "    <tr>\n",
       "      <th>36</th>\n",
       "      <td>HOTSTYLE</td>\n",
       "      <td>Sneakers For Men</td>\n",
       "      <td>₹198</td>\n",
       "      <td>60% off</td>\n",
       "    </tr>\n",
       "    <tr>\n",
       "      <th>37</th>\n",
       "      <td>Robbie jones</td>\n",
       "      <td>Sneakers For Men</td>\n",
       "      <td>₹499</td>\n",
       "      <td>50% off</td>\n",
       "    </tr>\n",
       "    <tr>\n",
       "      <th>38</th>\n",
       "      <td>BRUTON</td>\n",
       "      <td>Modern &amp; Trendy Collection Combo Pack of 02 Shoes for M...</td>\n",
       "      <td>₹473</td>\n",
       "      <td>81% off</td>\n",
       "    </tr>\n",
       "    <tr>\n",
       "      <th>39</th>\n",
       "      <td>PUMA</td>\n",
       "      <td>R78 Sneakers For Men</td>\n",
       "      <td>₹2,399</td>\n",
       "      <td>40% off</td>\n",
       "    </tr>\n",
       "  </tbody>\n",
       "</table>\n",
       "</div>"
      ],
      "text/plain": [
       "            Brand                                         Product Description  \\\n",
       "0        RapidBox                                            Sneakers For Men   \n",
       "1          Chevit  Speed Set of 5 Pairs Sneakers Outdoors Casuals for Men ...   \n",
       "2      D-SNEAKERZ  Casual , Partywear Sneakers Shoes For Men's And Boys Wh...   \n",
       "3           BIRDE                  Birde Trendy Casual Shoes Sneakers For Men   \n",
       "4         Numenzo                                 411 Casual Sneakers For Men   \n",
       "5        Magnolia                                            Sneakers For Men   \n",
       "6    Robbie jones              Casual Sneakers Shoes For Men Sneakers For Men   \n",
       "7           BIRDE                 Men's Stylish Casual Shoes Sneakers For Men   \n",
       "8          BRUTON  Combo Pack Of 4 Casual Shoes Loafer Shoes Sneakers For ...   \n",
       "9          BRUTON               Modern Trendy Sneakers Shoes Sneakers For Men   \n",
       "10       HOTSTYLE                                            Sneakers For Men   \n",
       "11        ESSENCE                                            Sneakers For Men   \n",
       "12        Numenzo                                            Sneakers For Men   \n",
       "13   Robbie jones                                            Sneakers For Men   \n",
       "14      bluemaker                             casual for men Sneakers For Men   \n",
       "15           PUMA                                one8 V2 IDP Sneakers For Men   \n",
       "16         Kraasa                                   Series 7 Sneakers For Men   \n",
       "17        believe                  Sneakers for men(black_6) Sneakers For Men   \n",
       "18        Edoeviv  Luxury Branded Fashionable Men's Casual Walking Partywe...   \n",
       "19         Chevit  Super Stylish & Trendy Combo Pack of 02 Pairs Sneakers ...   \n",
       "20          BIRDE                 Men's Stylish Casual Shoes Sneakers For Men   \n",
       "21       ASTEROID  Original Luxury Branded Fashionable Men's Casual Walkin...   \n",
       "22          Zsyto                                            Sneakers For Men   \n",
       "23        NAUTICA                                            Sneakers For Men   \n",
       "24         Chevit  Perfect & Affordable Combo Pack of 02 Pairs Sneakers Ou...   \n",
       "25        Numenzo                                            Sneakers For Men   \n",
       "26        ESSENCE                                            Sneakers For Men   \n",
       "27        NAUTICA                                            Sneakers For Men   \n",
       "28         BRUTON                      Lattest Sneakers Shoe Sneakers For Men   \n",
       "29         Chevit     168 Smart Red Lace-Ups Casuals for Men Sneakers For Men   \n",
       "30  RODDICK SHOES  Fashion Outdoor Canvas Casual Light Weight Lace-up Even...   \n",
       "31         Chevit  Perfect & Affordable Combo Pack of 02 Pairs Sneakers Ou...   \n",
       "32        Airland                                       shoe Sneakers For Men   \n",
       "33   Robbie jones                                            Sneakers For Men   \n",
       "34          Arohi                                            Sneakers For Men   \n",
       "35   JACK & JONES                          JFWBANNA PRINT PU Sneakers For Men   \n",
       "36       HOTSTYLE                                            Sneakers For Men   \n",
       "37   Robbie jones                                            Sneakers For Men   \n",
       "38         BRUTON  Modern & Trendy Collection Combo Pack of 02 Shoes for M...   \n",
       "39           PUMA                                        R78 Sneakers For Men   \n",
       "\n",
       "     Price Discount  \n",
       "0     ₹520  47% off  \n",
       "1     ₹899  63% off  \n",
       "2     ₹348  47% off  \n",
       "3     ₹399  20% off  \n",
       "4     ₹426  78% off  \n",
       "5     ₹398  60% off  \n",
       "6     ₹379  62% off  \n",
       "7     ₹399  20% off  \n",
       "8     ₹449  87% off  \n",
       "9     ₹359  72% off  \n",
       "10    ₹296  70% off  \n",
       "11    ₹499  50% off  \n",
       "12    ₹407  68% off  \n",
       "13    ₹474  52% off  \n",
       "14    ₹499  50% off  \n",
       "15  ₹1,711  48% off  \n",
       "16    ₹416  58% off  \n",
       "17    ₹449  55% off  \n",
       "18    ₹499  37% off  \n",
       "19    ₹699  56% off  \n",
       "20    ₹399  20% off  \n",
       "21    ₹499  75% off  \n",
       "22    ₹418  58% off  \n",
       "23  ₹1,799  66% off  \n",
       "24    ₹599  66% off  \n",
       "25    ₹378  62% off  \n",
       "26    ₹499  50% off  \n",
       "27  ₹1,789  68% off  \n",
       "28    ₹323  75% off  \n",
       "29    ₹249  50% off  \n",
       "30    ₹474  52% off  \n",
       "31    ₹599  53% off  \n",
       "32    ₹257  48% off  \n",
       "33    ₹449  55% off  \n",
       "34    ₹459  54% off  \n",
       "35  ₹1,649  58% off  \n",
       "36    ₹198  60% off  \n",
       "37    ₹499  50% off  \n",
       "38    ₹473  81% off  \n",
       "39  ₹2,399  40% off  "
      ]
     },
     "execution_count": 770,
     "metadata": {},
     "output_type": "execute_result"
    }
   ],
   "source": [
    "df = pd.DataFrame({})\n",
    "df[\"Brand\"] = brand_list\n",
    "df[\"Product Description\"] = prod_descriptions\n",
    "df[\"Price\"] = price_list\n",
    "df[\"Discount\"] = discount_list\n",
    "df"
   ]
  },
  {
   "cell_type": "code",
   "execution_count": null,
   "metadata": {},
   "outputs": [],
   "source": []
  },
  {
   "cell_type": "markdown",
   "metadata": {},
   "source": [
    "Q9: Go to the link - https://www.myntra.com/shoes\n",
    "\n",
    "Set Price filter to “Rs. 6649 to Rs. 13099” , Color filter to “Black”, as shown in\n",
    "the below image\n",
    "\n",
    "And then scrape First 100 shoes data you get. The data should include “Brand” of\n",
    "the shoes , Short Shoe description, price of the shoe as shown in the below image.\n",
    "\n",
    "Please note that applying the filter and scraping the data , everything should be\n",
    "done through code only and there should not be any manual step."
   ]
  },
  {
   "cell_type": "code",
   "execution_count": 261,
   "metadata": {},
   "outputs": [],
   "source": [
    "driver.get(\"https://www.myntra.com/shoes\")"
   ]
  },
  {
   "cell_type": "markdown",
   "metadata": {},
   "source": [
    "Get the web page using driver"
   ]
  },
  {
   "cell_type": "code",
   "execution_count": 262,
   "metadata": {},
   "outputs": [],
   "source": [
    "price_filter_box = driver.find_element_by_xpath(\"//ul[@class='price-list']/li[2]\")"
   ]
  },
  {
   "cell_type": "markdown",
   "metadata": {},
   "source": [
    "Finding the check box element where price filter is “Rs. 6649 to Rs. 13099”. Note: here the price filter column didn't have this range so I chose the range closest to this."
   ]
  },
  {
   "cell_type": "code",
   "execution_count": 263,
   "metadata": {},
   "outputs": [],
   "source": [
    "price_filter_box.click()"
   ]
  },
  {
   "cell_type": "markdown",
   "metadata": {},
   "source": [
    "We click the element to set the filter for items in the above mentioned price range"
   ]
  },
  {
   "cell_type": "code",
   "execution_count": 264,
   "metadata": {},
   "outputs": [],
   "source": [
    "color_filter_box = driver.find_element_by_xpath(\"//li[@class='colour-listItem']/label\")"
   ]
  },
  {
   "cell_type": "markdown",
   "metadata": {},
   "source": [
    "Now we find the element for black color"
   ]
  },
  {
   "cell_type": "code",
   "execution_count": 265,
   "metadata": {},
   "outputs": [],
   "source": [
    "color_filter_box.click()"
   ]
  },
  {
   "cell_type": "markdown",
   "metadata": {},
   "source": [
    "We click the black element to give a filter of only black items"
   ]
  },
  {
   "cell_type": "code",
   "execution_count": 266,
   "metadata": {},
   "outputs": [],
   "source": [
    "brand_list=[]\n",
    "prod_descriptions=[]\n",
    "price_list=[]"
   ]
  },
  {
   "cell_type": "markdown",
   "metadata": {},
   "source": [
    "We create empty lists for required data features"
   ]
  },
  {
   "cell_type": "code",
   "execution_count": 267,
   "metadata": {},
   "outputs": [
    {
     "data": {
      "text/plain": [
       "[<selenium.webdriver.remote.webelement.WebElement (session=\"5b74e01680491344b7f0db98c001cb5e\", element=\"c9c91a30-6f93-41c7-ab7f-d0c4e1d1e165\")>,\n",
       " <selenium.webdriver.remote.webelement.WebElement (session=\"5b74e01680491344b7f0db98c001cb5e\", element=\"efc6a79c-2c0c-4d7c-9f7e-74167f1861c7\")>,\n",
       " <selenium.webdriver.remote.webelement.WebElement (session=\"5b74e01680491344b7f0db98c001cb5e\", element=\"94972d8c-1298-4f27-8534-604ffd9a25e8\")>,\n",
       " <selenium.webdriver.remote.webelement.WebElement (session=\"5b74e01680491344b7f0db98c001cb5e\", element=\"df35d767-4e6f-4ea1-87bb-58800b9ae876\")>,\n",
       " <selenium.webdriver.remote.webelement.WebElement (session=\"5b74e01680491344b7f0db98c001cb5e\", element=\"5cf7cc6b-407a-4fd6-b9d5-911b7b519139\")>,\n",
       " <selenium.webdriver.remote.webelement.WebElement (session=\"5b74e01680491344b7f0db98c001cb5e\", element=\"af206c52-5a8a-4997-96f9-3e87c9963b18\")>,\n",
       " <selenium.webdriver.remote.webelement.WebElement (session=\"5b74e01680491344b7f0db98c001cb5e\", element=\"88a7c6c2-d200-42da-93c3-dd3be8a4ef5f\")>,\n",
       " <selenium.webdriver.remote.webelement.WebElement (session=\"5b74e01680491344b7f0db98c001cb5e\", element=\"1b203f81-353e-43e6-9cbe-756190e3ba6f\")>,\n",
       " <selenium.webdriver.remote.webelement.WebElement (session=\"5b74e01680491344b7f0db98c001cb5e\", element=\"0d584c5b-fd94-4efd-b1e6-82c43a5953e6\")>,\n",
       " <selenium.webdriver.remote.webelement.WebElement (session=\"5b74e01680491344b7f0db98c001cb5e\", element=\"9be26358-ecc7-4add-89cd-9d9bbb5a166e\")>,\n",
       " <selenium.webdriver.remote.webelement.WebElement (session=\"5b74e01680491344b7f0db98c001cb5e\", element=\"8e70df3f-9f66-490d-927d-799043475133\")>,\n",
       " <selenium.webdriver.remote.webelement.WebElement (session=\"5b74e01680491344b7f0db98c001cb5e\", element=\"0563029a-e4d1-496f-b896-aa84ceeddc35\")>,\n",
       " <selenium.webdriver.remote.webelement.WebElement (session=\"5b74e01680491344b7f0db98c001cb5e\", element=\"97d6d59d-e8e1-45fa-8c2e-f27763497bb9\")>,\n",
       " <selenium.webdriver.remote.webelement.WebElement (session=\"5b74e01680491344b7f0db98c001cb5e\", element=\"ef0fbf8c-b9cb-4b79-845d-07e74f4e4d0f\")>,\n",
       " <selenium.webdriver.remote.webelement.WebElement (session=\"5b74e01680491344b7f0db98c001cb5e\", element=\"dbe01cec-2151-4d62-8952-1ec3c38a9e02\")>,\n",
       " <selenium.webdriver.remote.webelement.WebElement (session=\"5b74e01680491344b7f0db98c001cb5e\", element=\"66800965-37e0-45d0-b477-397f67a04f9b\")>,\n",
       " <selenium.webdriver.remote.webelement.WebElement (session=\"5b74e01680491344b7f0db98c001cb5e\", element=\"152821a5-ada2-4b6f-90b2-937d838b1e90\")>,\n",
       " <selenium.webdriver.remote.webelement.WebElement (session=\"5b74e01680491344b7f0db98c001cb5e\", element=\"eea8cea9-ad6e-44a8-91ff-976b19d2819f\")>,\n",
       " <selenium.webdriver.remote.webelement.WebElement (session=\"5b74e01680491344b7f0db98c001cb5e\", element=\"24de3ffc-97ee-44ff-ac37-bafee084e2cc\")>,\n",
       " <selenium.webdriver.remote.webelement.WebElement (session=\"5b74e01680491344b7f0db98c001cb5e\", element=\"68543726-43a9-4dca-882a-2986460fc348\")>,\n",
       " <selenium.webdriver.remote.webelement.WebElement (session=\"5b74e01680491344b7f0db98c001cb5e\", element=\"bbfefd6d-8e43-4ad4-8080-81e8c6b5a9a3\")>,\n",
       " <selenium.webdriver.remote.webelement.WebElement (session=\"5b74e01680491344b7f0db98c001cb5e\", element=\"5788e632-e923-4917-b000-c327b3f6c800\")>,\n",
       " <selenium.webdriver.remote.webelement.WebElement (session=\"5b74e01680491344b7f0db98c001cb5e\", element=\"5c986843-877f-4252-a8aa-e399da0dcf69\")>,\n",
       " <selenium.webdriver.remote.webelement.WebElement (session=\"5b74e01680491344b7f0db98c001cb5e\", element=\"df84b178-cf17-4f0e-8681-70f44510e410\")>,\n",
       " <selenium.webdriver.remote.webelement.WebElement (session=\"5b74e01680491344b7f0db98c001cb5e\", element=\"e069e796-7479-48b6-8a7a-a14034de414f\")>,\n",
       " <selenium.webdriver.remote.webelement.WebElement (session=\"5b74e01680491344b7f0db98c001cb5e\", element=\"94ea33de-d01f-4f46-9085-ce2a9e6b276e\")>,\n",
       " <selenium.webdriver.remote.webelement.WebElement (session=\"5b74e01680491344b7f0db98c001cb5e\", element=\"4ee827c7-9e9e-4851-9ebb-f7ffde84d927\")>,\n",
       " <selenium.webdriver.remote.webelement.WebElement (session=\"5b74e01680491344b7f0db98c001cb5e\", element=\"0d2eb637-2399-4f9e-ade2-c95eb7568b11\")>,\n",
       " <selenium.webdriver.remote.webelement.WebElement (session=\"5b74e01680491344b7f0db98c001cb5e\", element=\"47d7afee-bc80-4c63-85d1-4cb47df8572a\")>,\n",
       " <selenium.webdriver.remote.webelement.WebElement (session=\"5b74e01680491344b7f0db98c001cb5e\", element=\"9a5e2b56-992c-4a48-9b5d-0d4218637347\")>,\n",
       " <selenium.webdriver.remote.webelement.WebElement (session=\"5b74e01680491344b7f0db98c001cb5e\", element=\"cdd6a33a-05d1-4772-89d3-11c7d840e223\")>,\n",
       " <selenium.webdriver.remote.webelement.WebElement (session=\"5b74e01680491344b7f0db98c001cb5e\", element=\"4f448f44-4b46-4a35-bf16-3dbde1397921\")>,\n",
       " <selenium.webdriver.remote.webelement.WebElement (session=\"5b74e01680491344b7f0db98c001cb5e\", element=\"4dd660f8-2fd3-42bc-93b8-62f416c021b1\")>,\n",
       " <selenium.webdriver.remote.webelement.WebElement (session=\"5b74e01680491344b7f0db98c001cb5e\", element=\"04b483d5-98d3-40f1-8c5f-5ccfce9fa0b8\")>,\n",
       " <selenium.webdriver.remote.webelement.WebElement (session=\"5b74e01680491344b7f0db98c001cb5e\", element=\"f0cabbba-97fb-442b-9d94-386cbd7a4f88\")>,\n",
       " <selenium.webdriver.remote.webelement.WebElement (session=\"5b74e01680491344b7f0db98c001cb5e\", element=\"e61ee1e9-2300-4579-97ce-aec72191eaee\")>,\n",
       " <selenium.webdriver.remote.webelement.WebElement (session=\"5b74e01680491344b7f0db98c001cb5e\", element=\"80233b6b-947e-4f7a-90c9-83bf92b34bb0\")>,\n",
       " <selenium.webdriver.remote.webelement.WebElement (session=\"5b74e01680491344b7f0db98c001cb5e\", element=\"32bba130-26fd-4a6e-941b-e9d056ed51e3\")>,\n",
       " <selenium.webdriver.remote.webelement.WebElement (session=\"5b74e01680491344b7f0db98c001cb5e\", element=\"48efa754-0260-40e2-a2af-073249dea12c\")>,\n",
       " <selenium.webdriver.remote.webelement.WebElement (session=\"5b74e01680491344b7f0db98c001cb5e\", element=\"3fada04e-259c-4808-9e34-0f5560220cab\")>,\n",
       " <selenium.webdriver.remote.webelement.WebElement (session=\"5b74e01680491344b7f0db98c001cb5e\", element=\"98124cd7-66c6-47a6-ba4f-7d968ab69199\")>,\n",
       " <selenium.webdriver.remote.webelement.WebElement (session=\"5b74e01680491344b7f0db98c001cb5e\", element=\"740a8d96-0c3c-4159-bf9b-31a704659d7c\")>,\n",
       " <selenium.webdriver.remote.webelement.WebElement (session=\"5b74e01680491344b7f0db98c001cb5e\", element=\"958bc0fc-e22c-4495-976d-5e6664289f3b\")>,\n",
       " <selenium.webdriver.remote.webelement.WebElement (session=\"5b74e01680491344b7f0db98c001cb5e\", element=\"5bd32dec-a70e-4b36-a1af-fdf8f657a060\")>,\n",
       " <selenium.webdriver.remote.webelement.WebElement (session=\"5b74e01680491344b7f0db98c001cb5e\", element=\"9974346f-91f5-47dc-b965-431f4453e16b\")>,\n",
       " <selenium.webdriver.remote.webelement.WebElement (session=\"5b74e01680491344b7f0db98c001cb5e\", element=\"46c9338d-1fba-4b9b-b24a-b8dd14a1357b\")>,\n",
       " <selenium.webdriver.remote.webelement.WebElement (session=\"5b74e01680491344b7f0db98c001cb5e\", element=\"97848710-837d-4440-a59b-d6825bc4e401\")>,\n",
       " <selenium.webdriver.remote.webelement.WebElement (session=\"5b74e01680491344b7f0db98c001cb5e\", element=\"5606989e-3179-4136-b313-90cbd7630677\")>,\n",
       " <selenium.webdriver.remote.webelement.WebElement (session=\"5b74e01680491344b7f0db98c001cb5e\", element=\"8babf170-4396-4464-b0bc-4caa808dd771\")>,\n",
       " <selenium.webdriver.remote.webelement.WebElement (session=\"5b74e01680491344b7f0db98c001cb5e\", element=\"8f09481d-2e12-41af-a52f-4f6da4fa79d5\")>]"
      ]
     },
     "execution_count": 267,
     "metadata": {},
     "output_type": "execute_result"
    }
   ],
   "source": [
    "brand_tags = driver.find_elements_by_xpath(\"//h3[@class='product-brand']\")\n",
    "brand_tags"
   ]
  },
  {
   "cell_type": "markdown",
   "metadata": {},
   "source": [
    "We find all the elements containing data for brand names of the shoes"
   ]
  },
  {
   "cell_type": "code",
   "execution_count": 268,
   "metadata": {},
   "outputs": [
    {
     "data": {
      "text/plain": [
       "['ALDO',\n",
       " 'ALDO',\n",
       " 'Puma',\n",
       " 'PUMA Motorsport',\n",
       " 'Puma',\n",
       " 'Puma',\n",
       " 'UNDER ARMOUR',\n",
       " 'UNDER ARMOUR',\n",
       " 'Hush Puppies',\n",
       " 'PUMA Motorsport',\n",
       " 'ASICS',\n",
       " 'Calvin Klein',\n",
       " 'Calvin Klein',\n",
       " 'FORCLAZ By Decathlon',\n",
       " 'Calvin Klein',\n",
       " 'Puma',\n",
       " 'Hush Puppies',\n",
       " 'Bugatti',\n",
       " 'Calvin Klein',\n",
       " 'Puma',\n",
       " 'Calvin Klein',\n",
       " 'Calvin Klein',\n",
       " 'Puma',\n",
       " 'Nike',\n",
       " 'UNDER ARMOUR',\n",
       " 'Puma',\n",
       " 'Geox',\n",
       " 'Puma',\n",
       " 'Calvin Klein',\n",
       " 'Hush Puppies',\n",
       " 'Kalenji By Decathlon',\n",
       " 'Puma',\n",
       " 'UNDER ARMOUR',\n",
       " 'DAVINCHI',\n",
       " 'Hush Puppies',\n",
       " 'Geox',\n",
       " 'UNDER ARMOUR',\n",
       " 'ASICS',\n",
       " 'Ruosh',\n",
       " 'J.FONTINI',\n",
       " 'Bugatti',\n",
       " 'Geox',\n",
       " 'Cole Haan',\n",
       " 'Heel & Buckle London',\n",
       " 'Hush Puppies',\n",
       " 'Geox',\n",
       " 'Hush Puppies',\n",
       " 'Puma',\n",
       " 'Tommy Hilfiger',\n",
       " 'Calvin Klein']"
      ]
     },
     "execution_count": 268,
     "metadata": {},
     "output_type": "execute_result"
    }
   ],
   "source": [
    "for i in brand_tags:\n",
    "    brand_list.append(i.text)\n",
    "brand_list"
   ]
  },
  {
   "cell_type": "markdown",
   "metadata": {},
   "source": [
    "We append the text inside elements to the brand name list"
   ]
  },
  {
   "cell_type": "markdown",
   "metadata": {},
   "source": [
    "We repeat the above process for all the features"
   ]
  },
  {
   "cell_type": "code",
   "execution_count": 269,
   "metadata": {},
   "outputs": [
    {
     "data": {
      "text/plain": [
       "[<selenium.webdriver.remote.webelement.WebElement (session=\"5b74e01680491344b7f0db98c001cb5e\", element=\"b0970847-97da-40c0-85a5-9cb72a037e98\")>,\n",
       " <selenium.webdriver.remote.webelement.WebElement (session=\"5b74e01680491344b7f0db98c001cb5e\", element=\"ad067b64-b392-4cb5-acef-4f65f85c934e\")>,\n",
       " <selenium.webdriver.remote.webelement.WebElement (session=\"5b74e01680491344b7f0db98c001cb5e\", element=\"579a7ea1-e1f4-4509-a644-a3adb82cfd06\")>,\n",
       " <selenium.webdriver.remote.webelement.WebElement (session=\"5b74e01680491344b7f0db98c001cb5e\", element=\"0f55d80f-5e30-4b86-bd6d-bcb7fc3fcb02\")>,\n",
       " <selenium.webdriver.remote.webelement.WebElement (session=\"5b74e01680491344b7f0db98c001cb5e\", element=\"dea70e35-cd7c-49ff-b4b1-4e8684e86532\")>,\n",
       " <selenium.webdriver.remote.webelement.WebElement (session=\"5b74e01680491344b7f0db98c001cb5e\", element=\"6557ef5b-46c3-4453-b4a4-088b1343dba7\")>,\n",
       " <selenium.webdriver.remote.webelement.WebElement (session=\"5b74e01680491344b7f0db98c001cb5e\", element=\"343d699f-4201-47d0-b662-33e8fe2bfce4\")>,\n",
       " <selenium.webdriver.remote.webelement.WebElement (session=\"5b74e01680491344b7f0db98c001cb5e\", element=\"e1778340-484f-46f2-9677-4ba131873f15\")>,\n",
       " <selenium.webdriver.remote.webelement.WebElement (session=\"5b74e01680491344b7f0db98c001cb5e\", element=\"cf80cec6-f04a-49bf-b0ab-e97ce0c9e6a6\")>,\n",
       " <selenium.webdriver.remote.webelement.WebElement (session=\"5b74e01680491344b7f0db98c001cb5e\", element=\"1718e4e6-e366-40f5-a6d9-be03e3f9655a\")>,\n",
       " <selenium.webdriver.remote.webelement.WebElement (session=\"5b74e01680491344b7f0db98c001cb5e\", element=\"88564e61-8a7c-416b-9d77-325b7730a6c1\")>,\n",
       " <selenium.webdriver.remote.webelement.WebElement (session=\"5b74e01680491344b7f0db98c001cb5e\", element=\"43057472-0185-4d2e-89ed-33da33f9d0a2\")>,\n",
       " <selenium.webdriver.remote.webelement.WebElement (session=\"5b74e01680491344b7f0db98c001cb5e\", element=\"5377adc6-2fc9-4c65-aa61-96ca0e1f66b7\")>,\n",
       " <selenium.webdriver.remote.webelement.WebElement (session=\"5b74e01680491344b7f0db98c001cb5e\", element=\"012d0c9c-5e50-474d-b59f-e0cb611d0d43\")>,\n",
       " <selenium.webdriver.remote.webelement.WebElement (session=\"5b74e01680491344b7f0db98c001cb5e\", element=\"971a0137-8e71-42fc-9697-de5cb9fb4429\")>,\n",
       " <selenium.webdriver.remote.webelement.WebElement (session=\"5b74e01680491344b7f0db98c001cb5e\", element=\"c5faf383-1723-41f6-ab30-97b439984d4c\")>,\n",
       " <selenium.webdriver.remote.webelement.WebElement (session=\"5b74e01680491344b7f0db98c001cb5e\", element=\"79e51a3d-8dd9-4eb3-bbf1-dc867e37ca72\")>,\n",
       " <selenium.webdriver.remote.webelement.WebElement (session=\"5b74e01680491344b7f0db98c001cb5e\", element=\"582b9a24-4846-4fb8-b0a8-3656716a5b52\")>,\n",
       " <selenium.webdriver.remote.webelement.WebElement (session=\"5b74e01680491344b7f0db98c001cb5e\", element=\"8e00e3c0-5d75-4553-8974-372f39ce3463\")>,\n",
       " <selenium.webdriver.remote.webelement.WebElement (session=\"5b74e01680491344b7f0db98c001cb5e\", element=\"d3697cd8-b894-4c2d-89fe-061e936bdf7e\")>,\n",
       " <selenium.webdriver.remote.webelement.WebElement (session=\"5b74e01680491344b7f0db98c001cb5e\", element=\"f48fd527-9c58-48df-aac3-a80696bfa968\")>,\n",
       " <selenium.webdriver.remote.webelement.WebElement (session=\"5b74e01680491344b7f0db98c001cb5e\", element=\"084489fc-56c0-49e0-b66e-8207d4819fbb\")>,\n",
       " <selenium.webdriver.remote.webelement.WebElement (session=\"5b74e01680491344b7f0db98c001cb5e\", element=\"41ddccdf-07c5-4cd7-80e1-f580bf680fad\")>,\n",
       " <selenium.webdriver.remote.webelement.WebElement (session=\"5b74e01680491344b7f0db98c001cb5e\", element=\"6193b814-1627-48a2-aeef-ca3ea7f7f496\")>,\n",
       " <selenium.webdriver.remote.webelement.WebElement (session=\"5b74e01680491344b7f0db98c001cb5e\", element=\"e80ec44c-693e-4220-939b-f5521211803a\")>,\n",
       " <selenium.webdriver.remote.webelement.WebElement (session=\"5b74e01680491344b7f0db98c001cb5e\", element=\"a25f4d93-b24f-4171-81a9-e25627349aa1\")>,\n",
       " <selenium.webdriver.remote.webelement.WebElement (session=\"5b74e01680491344b7f0db98c001cb5e\", element=\"6cc0f771-5066-477f-b8b0-71b6a81c720d\")>,\n",
       " <selenium.webdriver.remote.webelement.WebElement (session=\"5b74e01680491344b7f0db98c001cb5e\", element=\"a0fbb5c4-aeb1-460a-81de-f976d5eebdbb\")>,\n",
       " <selenium.webdriver.remote.webelement.WebElement (session=\"5b74e01680491344b7f0db98c001cb5e\", element=\"ee843db9-f3b1-4b43-8f52-316c2c82fe4f\")>,\n",
       " <selenium.webdriver.remote.webelement.WebElement (session=\"5b74e01680491344b7f0db98c001cb5e\", element=\"e90d4387-6616-43e4-9238-8d9de96fe269\")>,\n",
       " <selenium.webdriver.remote.webelement.WebElement (session=\"5b74e01680491344b7f0db98c001cb5e\", element=\"08f0e12c-c2f7-4059-9a43-f7062c9c392a\")>,\n",
       " <selenium.webdriver.remote.webelement.WebElement (session=\"5b74e01680491344b7f0db98c001cb5e\", element=\"a9ec71d7-ead5-4eef-ab3b-6b29dadd3f70\")>,\n",
       " <selenium.webdriver.remote.webelement.WebElement (session=\"5b74e01680491344b7f0db98c001cb5e\", element=\"aaec3336-d729-451e-9c19-360bf5b6e481\")>,\n",
       " <selenium.webdriver.remote.webelement.WebElement (session=\"5b74e01680491344b7f0db98c001cb5e\", element=\"fa09ccd3-e04e-4150-a5dc-f58a4c051312\")>,\n",
       " <selenium.webdriver.remote.webelement.WebElement (session=\"5b74e01680491344b7f0db98c001cb5e\", element=\"790d6bee-be3f-43e9-8874-aa8bf22c42f0\")>,\n",
       " <selenium.webdriver.remote.webelement.WebElement (session=\"5b74e01680491344b7f0db98c001cb5e\", element=\"a43b6210-610a-4b9a-af5e-6853632ee950\")>,\n",
       " <selenium.webdriver.remote.webelement.WebElement (session=\"5b74e01680491344b7f0db98c001cb5e\", element=\"e17436a0-1533-4e1e-9d4e-b0ee938a54eb\")>,\n",
       " <selenium.webdriver.remote.webelement.WebElement (session=\"5b74e01680491344b7f0db98c001cb5e\", element=\"bd246df7-ca06-4a56-b5a5-58813a0d05e9\")>,\n",
       " <selenium.webdriver.remote.webelement.WebElement (session=\"5b74e01680491344b7f0db98c001cb5e\", element=\"4b897f9e-9400-43ef-9262-3e4d7b935415\")>,\n",
       " <selenium.webdriver.remote.webelement.WebElement (session=\"5b74e01680491344b7f0db98c001cb5e\", element=\"65f35003-3bda-446b-b526-c425054bf9e7\")>,\n",
       " <selenium.webdriver.remote.webelement.WebElement (session=\"5b74e01680491344b7f0db98c001cb5e\", element=\"a7d907d8-7bec-4902-8a2c-3e6f653f3f78\")>,\n",
       " <selenium.webdriver.remote.webelement.WebElement (session=\"5b74e01680491344b7f0db98c001cb5e\", element=\"539f8fb0-6dd2-4d31-ac24-5dcf8c5f7267\")>,\n",
       " <selenium.webdriver.remote.webelement.WebElement (session=\"5b74e01680491344b7f0db98c001cb5e\", element=\"2eb39cba-a312-4459-9c06-ab01aa8a511b\")>,\n",
       " <selenium.webdriver.remote.webelement.WebElement (session=\"5b74e01680491344b7f0db98c001cb5e\", element=\"ff023144-53e6-4525-8294-55bee09b38d9\")>,\n",
       " <selenium.webdriver.remote.webelement.WebElement (session=\"5b74e01680491344b7f0db98c001cb5e\", element=\"55ec426a-4cdf-44d6-8424-dc3c0c70dc9d\")>,\n",
       " <selenium.webdriver.remote.webelement.WebElement (session=\"5b74e01680491344b7f0db98c001cb5e\", element=\"fdb9e68b-f19a-4f8c-b3aa-3fe84984b0e5\")>,\n",
       " <selenium.webdriver.remote.webelement.WebElement (session=\"5b74e01680491344b7f0db98c001cb5e\", element=\"18b3adb4-892a-48f7-9dca-d869e9abab09\")>,\n",
       " <selenium.webdriver.remote.webelement.WebElement (session=\"5b74e01680491344b7f0db98c001cb5e\", element=\"3dd0d179-6d04-4fee-a521-1da6528029fe\")>,\n",
       " <selenium.webdriver.remote.webelement.WebElement (session=\"5b74e01680491344b7f0db98c001cb5e\", element=\"1f381aee-45cf-4848-943f-a18b8230c2f7\")>,\n",
       " <selenium.webdriver.remote.webelement.WebElement (session=\"5b74e01680491344b7f0db98c001cb5e\", element=\"511a0ba9-5db5-403b-be30-73bc291e1c6c\")>]"
      ]
     },
     "execution_count": 269,
     "metadata": {},
     "output_type": "execute_result"
    }
   ],
   "source": [
    "description_tags = driver.find_elements_by_xpath(\"//h4[@class='product-product']\")\n",
    "description_tags"
   ]
  },
  {
   "cell_type": "code",
   "execution_count": 270,
   "metadata": {},
   "outputs": [
    {
     "data": {
      "text/plain": [
       "['Men Driving Shoes',\n",
       " 'Leather Solid Loafers',\n",
       " 'Men Jamming 2.0 Running Shoes',\n",
       " 'Unisex Mercedes F1 Sneakers',\n",
       " 'Men Deviate Nitro Running Shoe',\n",
       " 'Men Running Shoes',\n",
       " 'Women HOVR Sonic 4 Running',\n",
       " 'Men Charged Commit 3 Training',\n",
       " 'Men Solid Leather Formal Slip-Ons',\n",
       " 'Unisex BMW RS-Connect Sneakers',\n",
       " 'Women GlideRide Running Shoes',\n",
       " 'Men Solid Mid-Top Sneakers',\n",
       " 'Men UV MONO Leather Sneakers',\n",
       " 'TREKKING 100 Boots',\n",
       " 'Men Solid LOW TOP MIX Sneakers',\n",
       " 'Unisex Leather Trainers',\n",
       " 'Men Solid Leather Formal Slip-Ons',\n",
       " 'Men Black Walking Shoes',\n",
       " 'Men Woven Design Sneakers',\n",
       " 'Men Magnify Nitro Running',\n",
       " 'Men Solid Low Top LTH Sneakers',\n",
       " 'Men Textured Leather Sneaker',\n",
       " 'Men Liberate NITRO Running',\n",
       " \"Men BlazerLow '77 Sneakers\",\n",
       " 'Women Charged Rogue 2.5ClrSft',\n",
       " 'Women Eternity NITRO Shoes',\n",
       " 'Leather Heeled Boots',\n",
       " 'Women Velocity NITRO Runners',\n",
       " 'Men Vulcanized Sneakers',\n",
       " 'Men Leather Slip-On Sneakers',\n",
       " 'Men KD500 Running Shoe',\n",
       " 'Women Magnify Nitro Shoes',\n",
       " 'Women Charged Assert 8 Running',\n",
       " 'Ustraa black',\n",
       " 'Men Formal Derbys',\n",
       " 'Men Solid Sneakers',\n",
       " 'Women Charged Bandit 6 Running',\n",
       " 'Women NOVABLAST Road Running',\n",
       " 'Men Formal Leather Brogues',\n",
       " 'Men Black Leather Loafers',\n",
       " 'Leather Block Heeled Boots',\n",
       " 'Men Leather Driving Shoes',\n",
       " 'Men GENERATION ZEROGRAND STITCHLITE',\n",
       " 'Women Leather Pumps',\n",
       " 'Men Leather Derbys',\n",
       " 'Men Leather Formal Derbys',\n",
       " 'Men Solid Leather Formal Derbys',\n",
       " 'Unisex Mirage Sport Trainers',\n",
       " 'Men Lightweight Sneakers',\n",
       " 'Men Solid Suede Sneakers']"
      ]
     },
     "execution_count": 270,
     "metadata": {},
     "output_type": "execute_result"
    }
   ],
   "source": [
    "for i in description_tags:\n",
    "    prod_descriptions.append(i.text)\n",
    "prod_descriptions"
   ]
  },
  {
   "cell_type": "code",
   "execution_count": 271,
   "metadata": {},
   "outputs": [
    {
     "data": {
      "text/plain": [
       "[<selenium.webdriver.remote.webelement.WebElement (session=\"5b74e01680491344b7f0db98c001cb5e\", element=\"31fe8996-f7b3-4918-8acc-e34d9bfbc7be\")>,\n",
       " <selenium.webdriver.remote.webelement.WebElement (session=\"5b74e01680491344b7f0db98c001cb5e\", element=\"300f5138-4964-4b40-9593-8eba1b65309a\")>,\n",
       " <selenium.webdriver.remote.webelement.WebElement (session=\"5b74e01680491344b7f0db98c001cb5e\", element=\"0f54547d-c07c-4614-8e59-224eaf34113b\")>,\n",
       " <selenium.webdriver.remote.webelement.WebElement (session=\"5b74e01680491344b7f0db98c001cb5e\", element=\"758e58ad-4f0c-4d75-a5ab-e67b48d84b9e\")>,\n",
       " <selenium.webdriver.remote.webelement.WebElement (session=\"5b74e01680491344b7f0db98c001cb5e\", element=\"c24d4ffd-7cb4-4f08-aed0-63a405fb1b2a\")>,\n",
       " <selenium.webdriver.remote.webelement.WebElement (session=\"5b74e01680491344b7f0db98c001cb5e\", element=\"07f78450-5ba9-4406-9ae7-d853b252d0be\")>,\n",
       " <selenium.webdriver.remote.webelement.WebElement (session=\"5b74e01680491344b7f0db98c001cb5e\", element=\"0fd59466-2708-49c6-9015-f449b55f6a43\")>,\n",
       " <selenium.webdriver.remote.webelement.WebElement (session=\"5b74e01680491344b7f0db98c001cb5e\", element=\"adcd08b4-bf82-445a-b6a3-2bea87b899fc\")>,\n",
       " <selenium.webdriver.remote.webelement.WebElement (session=\"5b74e01680491344b7f0db98c001cb5e\", element=\"5dbe1872-fd5d-450f-9c68-abb53b08bc7f\")>,\n",
       " <selenium.webdriver.remote.webelement.WebElement (session=\"5b74e01680491344b7f0db98c001cb5e\", element=\"b2e99f5e-2402-4a85-80b3-2d9d3f9ba260\")>,\n",
       " <selenium.webdriver.remote.webelement.WebElement (session=\"5b74e01680491344b7f0db98c001cb5e\", element=\"f940ff1c-0adc-4d03-b27c-df72e911f742\")>,\n",
       " <selenium.webdriver.remote.webelement.WebElement (session=\"5b74e01680491344b7f0db98c001cb5e\", element=\"913d7e4a-8959-4210-b535-324b6d7ab6e9\")>,\n",
       " <selenium.webdriver.remote.webelement.WebElement (session=\"5b74e01680491344b7f0db98c001cb5e\", element=\"08745416-a0af-4a8a-a49a-aa1069ebfa8c\")>,\n",
       " <selenium.webdriver.remote.webelement.WebElement (session=\"5b74e01680491344b7f0db98c001cb5e\", element=\"b7c8fbc8-6493-4345-a624-d20e10838b41\")>,\n",
       " <selenium.webdriver.remote.webelement.WebElement (session=\"5b74e01680491344b7f0db98c001cb5e\", element=\"fcd8cbcc-0634-47a0-9b29-57bee294eafd\")>,\n",
       " <selenium.webdriver.remote.webelement.WebElement (session=\"5b74e01680491344b7f0db98c001cb5e\", element=\"75b94dc6-bc67-444c-909e-732a7dc8eb28\")>,\n",
       " <selenium.webdriver.remote.webelement.WebElement (session=\"5b74e01680491344b7f0db98c001cb5e\", element=\"d87dc25c-a29d-4be0-a541-3cc6bb28b077\")>,\n",
       " <selenium.webdriver.remote.webelement.WebElement (session=\"5b74e01680491344b7f0db98c001cb5e\", element=\"ae741614-0672-4bb0-a656-b0269ce5ac56\")>,\n",
       " <selenium.webdriver.remote.webelement.WebElement (session=\"5b74e01680491344b7f0db98c001cb5e\", element=\"3528e979-322d-418e-8779-930240eb9ef7\")>,\n",
       " <selenium.webdriver.remote.webelement.WebElement (session=\"5b74e01680491344b7f0db98c001cb5e\", element=\"663295b4-a20a-40d8-a237-e678acb16adf\")>,\n",
       " <selenium.webdriver.remote.webelement.WebElement (session=\"5b74e01680491344b7f0db98c001cb5e\", element=\"ee43da38-adb9-4827-819d-38d522897f3e\")>,\n",
       " <selenium.webdriver.remote.webelement.WebElement (session=\"5b74e01680491344b7f0db98c001cb5e\", element=\"6b351b21-0350-4389-b1f7-95b8366eda26\")>,\n",
       " <selenium.webdriver.remote.webelement.WebElement (session=\"5b74e01680491344b7f0db98c001cb5e\", element=\"6b4da636-60e2-446c-a35a-b7b96ec5c467\")>,\n",
       " <selenium.webdriver.remote.webelement.WebElement (session=\"5b74e01680491344b7f0db98c001cb5e\", element=\"53b525f6-2145-4865-9b8d-0dc46a892c92\")>,\n",
       " <selenium.webdriver.remote.webelement.WebElement (session=\"5b74e01680491344b7f0db98c001cb5e\", element=\"2827da00-08e6-41a4-a1a7-fe38820dc333\")>,\n",
       " <selenium.webdriver.remote.webelement.WebElement (session=\"5b74e01680491344b7f0db98c001cb5e\", element=\"34d4efe5-8d53-49b2-ae1d-31bf8ae571ad\")>,\n",
       " <selenium.webdriver.remote.webelement.WebElement (session=\"5b74e01680491344b7f0db98c001cb5e\", element=\"6fca11de-1547-47cd-9eee-d44433cfd66a\")>,\n",
       " <selenium.webdriver.remote.webelement.WebElement (session=\"5b74e01680491344b7f0db98c001cb5e\", element=\"a4ee6ccd-625f-4f82-b4bf-af9d2d1c0d16\")>,\n",
       " <selenium.webdriver.remote.webelement.WebElement (session=\"5b74e01680491344b7f0db98c001cb5e\", element=\"3f80aa2e-8d78-4983-9ed9-59f1c714cd69\")>,\n",
       " <selenium.webdriver.remote.webelement.WebElement (session=\"5b74e01680491344b7f0db98c001cb5e\", element=\"a0ee7ce0-0f27-4e8d-ae11-b56848554465\")>,\n",
       " <selenium.webdriver.remote.webelement.WebElement (session=\"5b74e01680491344b7f0db98c001cb5e\", element=\"1b0044d4-63d3-4d43-b3e5-70254d8f7a66\")>,\n",
       " <selenium.webdriver.remote.webelement.WebElement (session=\"5b74e01680491344b7f0db98c001cb5e\", element=\"a645acc1-dcb1-455e-9bde-d6c4768fea76\")>,\n",
       " <selenium.webdriver.remote.webelement.WebElement (session=\"5b74e01680491344b7f0db98c001cb5e\", element=\"bed1d459-b7e7-4617-b17d-f900b0a2c47b\")>,\n",
       " <selenium.webdriver.remote.webelement.WebElement (session=\"5b74e01680491344b7f0db98c001cb5e\", element=\"918bae0d-c39f-4fd9-9337-31482f398464\")>,\n",
       " <selenium.webdriver.remote.webelement.WebElement (session=\"5b74e01680491344b7f0db98c001cb5e\", element=\"a0655e30-9e42-4a79-a052-07a0720c513e\")>,\n",
       " <selenium.webdriver.remote.webelement.WebElement (session=\"5b74e01680491344b7f0db98c001cb5e\", element=\"888bbc0d-47ad-44b4-82d4-e7958f4fbc17\")>,\n",
       " <selenium.webdriver.remote.webelement.WebElement (session=\"5b74e01680491344b7f0db98c001cb5e\", element=\"7c1d01ea-6b05-457f-ab42-c23fdaee1fcc\")>,\n",
       " <selenium.webdriver.remote.webelement.WebElement (session=\"5b74e01680491344b7f0db98c001cb5e\", element=\"286b8806-3bd6-4a65-9db4-1ae676314ede\")>,\n",
       " <selenium.webdriver.remote.webelement.WebElement (session=\"5b74e01680491344b7f0db98c001cb5e\", element=\"7570441b-8504-47e9-bd8f-b331e9ac50a1\")>,\n",
       " <selenium.webdriver.remote.webelement.WebElement (session=\"5b74e01680491344b7f0db98c001cb5e\", element=\"f64aa06b-8dd5-4c2e-b74d-d971088c5bbd\")>,\n",
       " <selenium.webdriver.remote.webelement.WebElement (session=\"5b74e01680491344b7f0db98c001cb5e\", element=\"1524a1e1-b422-4d57-b786-5d72a55c1d79\")>,\n",
       " <selenium.webdriver.remote.webelement.WebElement (session=\"5b74e01680491344b7f0db98c001cb5e\", element=\"7bb68557-2a0a-47d8-b068-377bfe41709a\")>,\n",
       " <selenium.webdriver.remote.webelement.WebElement (session=\"5b74e01680491344b7f0db98c001cb5e\", element=\"15d4eb57-26f1-43ac-929f-97feeaa83177\")>,\n",
       " <selenium.webdriver.remote.webelement.WebElement (session=\"5b74e01680491344b7f0db98c001cb5e\", element=\"d14e235c-f76d-4b60-b60c-360c03305a38\")>,\n",
       " <selenium.webdriver.remote.webelement.WebElement (session=\"5b74e01680491344b7f0db98c001cb5e\", element=\"088db4bb-d32e-4737-8b8a-95b12b35fcb5\")>,\n",
       " <selenium.webdriver.remote.webelement.WebElement (session=\"5b74e01680491344b7f0db98c001cb5e\", element=\"c5126e08-4288-41b5-acb7-540643f42a48\")>,\n",
       " <selenium.webdriver.remote.webelement.WebElement (session=\"5b74e01680491344b7f0db98c001cb5e\", element=\"403857c5-4748-4858-a49f-9776a8abe8e9\")>,\n",
       " <selenium.webdriver.remote.webelement.WebElement (session=\"5b74e01680491344b7f0db98c001cb5e\", element=\"73f591d2-b33d-441f-976a-5cfacf39ed31\")>,\n",
       " <selenium.webdriver.remote.webelement.WebElement (session=\"5b74e01680491344b7f0db98c001cb5e\", element=\"2470e75c-8a7d-41fe-b0cc-f69d85aaf301\")>,\n",
       " <selenium.webdriver.remote.webelement.WebElement (session=\"5b74e01680491344b7f0db98c001cb5e\", element=\"712d6f45-3a73-4b42-ab64-1a15b660c87c\")>]"
      ]
     },
     "execution_count": 271,
     "metadata": {},
     "output_type": "execute_result"
    }
   ],
   "source": [
    "price_tags = driver.find_elements_by_xpath(\"//div[@class='product-price']\")\n",
    "price_tags"
   ]
  },
  {
   "cell_type": "code",
   "execution_count": 272,
   "metadata": {},
   "outputs": [
    {
     "data": {
      "text/plain": [
       "['Rs. 11199Rs. 15999(30% OFF)',\n",
       " 'Rs. 10499Rs. 14999(30% OFF)',\n",
       " 'Rs. 10399Rs. 12999(20% OFF)',\n",
       " 'Rs. 7999Rs. 9999(20% OFF)',\n",
       " 'Rs. 11999Rs. 14999(20% OFF)',\n",
       " 'Rs. 9099Rs. 12999(30% OFF)',\n",
       " 'Rs. 7149Rs. 10999(35% OFF)',\n",
       " 'Rs. 7999',\n",
       " 'Rs. 8099Rs. 8999(10% OFF)',\n",
       " 'Rs. 6999Rs. 9999(30% OFF)',\n",
       " 'Rs. 9799Rs. 13999(30% OFF)',\n",
       " 'Rs. 10599',\n",
       " 'Rs. 8999',\n",
       " 'Rs. 6999',\n",
       " 'Rs. 6999',\n",
       " 'Rs. 6999Rs. 9999(30% OFF)',\n",
       " 'Rs. 8999Rs. 9999(10% OFF)',\n",
       " 'Rs. 8999',\n",
       " 'Rs. 6999',\n",
       " 'Rs. 9099Rs. 12999(30% OFF)',\n",
       " 'Rs. 8999',\n",
       " 'Rs. 9999',\n",
       " 'Rs. 6999Rs. 9999(30% OFF)',\n",
       " 'Rs. 7195',\n",
       " 'Rs. 7999',\n",
       " 'Rs. 7799Rs. 12999(40% OFF)',\n",
       " 'Rs. 12999',\n",
       " 'Rs. 7149Rs. 10999(35% OFF)',\n",
       " 'Rs. 6999',\n",
       " 'Rs. 7999Rs. 9999(20% OFF)',\n",
       " 'Rs. 7773Rs. 8449(8% OFF)',\n",
       " 'Rs. 8449Rs. 12999(35% OFF)',\n",
       " 'Rs. 6999',\n",
       " 'Rs. 8990',\n",
       " 'Rs. 8999Rs. 9999(10% OFF)',\n",
       " 'Rs. 11999',\n",
       " 'Rs. 8999',\n",
       " 'Rs. 10399Rs. 12999(20% OFF)',\n",
       " 'Rs. 7490',\n",
       " 'Rs. 8490',\n",
       " 'Rs. 9999',\n",
       " 'Rs. 9999',\n",
       " 'Rs. 11999',\n",
       " 'Rs. 8900Rs. 8990(1% OFF)',\n",
       " 'Rs. 7199Rs. 7999(10% OFF)',\n",
       " 'Rs. 9999',\n",
       " 'Rs. 8999Rs. 9999(10% OFF)',\n",
       " 'Rs. 6999Rs. 9999(30% OFF)',\n",
       " 'Rs. 7999',\n",
       " 'Rs. 7999']"
      ]
     },
     "execution_count": 272,
     "metadata": {},
     "output_type": "execute_result"
    }
   ],
   "source": [
    "for i in price_tags:\n",
    "    price_list.append(i.text)\n",
    "price_list"
   ]
  },
  {
   "cell_type": "code",
   "execution_count": 273,
   "metadata": {},
   "outputs": [
    {
     "name": "stdout",
     "output_type": "stream",
     "text": [
      "50 50 50\n"
     ]
    }
   ],
   "source": [
    "print(len(brand_list),len(prod_descriptions),len(price_list))"
   ]
  },
  {
   "cell_type": "markdown",
   "metadata": {},
   "source": [
    "We observe that we can find only 50 entries therefore we will go to the next page to collect more data"
   ]
  },
  {
   "cell_type": "code",
   "execution_count": 274,
   "metadata": {},
   "outputs": [],
   "source": [
    "next_btn = driver.find_element_by_xpath(\"//li[@class='pagination-next']\")\n",
    "next_btn.click()"
   ]
  },
  {
   "cell_type": "markdown",
   "metadata": {},
   "source": [
    "We will find the next button element and click on it to go to the next page"
   ]
  },
  {
   "cell_type": "markdown",
   "metadata": {},
   "source": [
    "We will use the same process as above to append the data of all features to the lists"
   ]
  },
  {
   "cell_type": "code",
   "execution_count": 822,
   "metadata": {
    "collapsed": true
   },
   "outputs": [
    {
     "data": {
      "text/plain": [
       "[<selenium.webdriver.remote.webelement.WebElement (session=\"5dafaff68a5e605be12e4042cb195ad0\", element=\"10f08860-e86a-4698-8afd-4265990d09f5\")>,\n",
       " <selenium.webdriver.remote.webelement.WebElement (session=\"5dafaff68a5e605be12e4042cb195ad0\", element=\"121629d3-ec4b-472f-8036-c9fb8a31dc3c\")>,\n",
       " <selenium.webdriver.remote.webelement.WebElement (session=\"5dafaff68a5e605be12e4042cb195ad0\", element=\"4ad2182b-a44f-4bbc-afb0-c750d8e5c038\")>,\n",
       " <selenium.webdriver.remote.webelement.WebElement (session=\"5dafaff68a5e605be12e4042cb195ad0\", element=\"f527e0cc-c64e-4bd0-8dfe-4bb1cabfbb6b\")>,\n",
       " <selenium.webdriver.remote.webelement.WebElement (session=\"5dafaff68a5e605be12e4042cb195ad0\", element=\"31af0300-5790-43b7-87c6-35ecc22e61fb\")>,\n",
       " <selenium.webdriver.remote.webelement.WebElement (session=\"5dafaff68a5e605be12e4042cb195ad0\", element=\"e27a4080-b4a7-45b9-abcc-41c5fede1b78\")>,\n",
       " <selenium.webdriver.remote.webelement.WebElement (session=\"5dafaff68a5e605be12e4042cb195ad0\", element=\"aaccb6e5-7fc5-43b0-972f-531e33fb60c7\")>,\n",
       " <selenium.webdriver.remote.webelement.WebElement (session=\"5dafaff68a5e605be12e4042cb195ad0\", element=\"0eb4000e-36fd-452c-97c3-693e5105158d\")>,\n",
       " <selenium.webdriver.remote.webelement.WebElement (session=\"5dafaff68a5e605be12e4042cb195ad0\", element=\"b829658c-3cd0-4a19-a72e-1ddcbcccd90c\")>,\n",
       " <selenium.webdriver.remote.webelement.WebElement (session=\"5dafaff68a5e605be12e4042cb195ad0\", element=\"8ff99cb2-5bed-40e6-bb2f-662326d40ad1\")>,\n",
       " <selenium.webdriver.remote.webelement.WebElement (session=\"5dafaff68a5e605be12e4042cb195ad0\", element=\"5b7bd929-0d04-486b-a1a9-6b8f38099e1c\")>,\n",
       " <selenium.webdriver.remote.webelement.WebElement (session=\"5dafaff68a5e605be12e4042cb195ad0\", element=\"3a68f0b4-6326-4d1e-b229-d6800834d542\")>,\n",
       " <selenium.webdriver.remote.webelement.WebElement (session=\"5dafaff68a5e605be12e4042cb195ad0\", element=\"c02b45e0-af7b-4a1d-a16a-03949a5544d6\")>,\n",
       " <selenium.webdriver.remote.webelement.WebElement (session=\"5dafaff68a5e605be12e4042cb195ad0\", element=\"e84e78a0-c44d-4a81-ab7e-a9852a4af814\")>,\n",
       " <selenium.webdriver.remote.webelement.WebElement (session=\"5dafaff68a5e605be12e4042cb195ad0\", element=\"335b32b9-3d1b-4603-8863-aa83a8a6bb6b\")>,\n",
       " <selenium.webdriver.remote.webelement.WebElement (session=\"5dafaff68a5e605be12e4042cb195ad0\", element=\"5c6c0940-ce1e-46b1-8eb4-da3f1f36ccee\")>,\n",
       " <selenium.webdriver.remote.webelement.WebElement (session=\"5dafaff68a5e605be12e4042cb195ad0\", element=\"c87b29ec-b78d-4c00-8f02-695f3ca58b6b\")>,\n",
       " <selenium.webdriver.remote.webelement.WebElement (session=\"5dafaff68a5e605be12e4042cb195ad0\", element=\"fc1cf223-cdcd-47e7-abb0-31125e42fd48\")>,\n",
       " <selenium.webdriver.remote.webelement.WebElement (session=\"5dafaff68a5e605be12e4042cb195ad0\", element=\"91ca60bd-4a0f-419d-9b9b-30bbbad674b7\")>,\n",
       " <selenium.webdriver.remote.webelement.WebElement (session=\"5dafaff68a5e605be12e4042cb195ad0\", element=\"f485cf31-cea6-4692-a65e-8201244d34d0\")>,\n",
       " <selenium.webdriver.remote.webelement.WebElement (session=\"5dafaff68a5e605be12e4042cb195ad0\", element=\"40d708d9-c059-48d4-a2ec-7bfaa0cd5f71\")>,\n",
       " <selenium.webdriver.remote.webelement.WebElement (session=\"5dafaff68a5e605be12e4042cb195ad0\", element=\"4e735ecc-44ed-484e-9873-b9fdf01bf9e9\")>,\n",
       " <selenium.webdriver.remote.webelement.WebElement (session=\"5dafaff68a5e605be12e4042cb195ad0\", element=\"5b86412f-737d-4e3e-9f8a-ebe8227043ac\")>,\n",
       " <selenium.webdriver.remote.webelement.WebElement (session=\"5dafaff68a5e605be12e4042cb195ad0\", element=\"08b2b547-6dfc-409b-b14d-6da644f3a7a9\")>,\n",
       " <selenium.webdriver.remote.webelement.WebElement (session=\"5dafaff68a5e605be12e4042cb195ad0\", element=\"07ba7298-a682-41cb-82c1-efe0165f79f8\")>,\n",
       " <selenium.webdriver.remote.webelement.WebElement (session=\"5dafaff68a5e605be12e4042cb195ad0\", element=\"804d15b6-058d-4f72-a276-6ad1b30ee575\")>,\n",
       " <selenium.webdriver.remote.webelement.WebElement (session=\"5dafaff68a5e605be12e4042cb195ad0\", element=\"518758b8-595b-463c-9eaa-31499067c1a5\")>,\n",
       " <selenium.webdriver.remote.webelement.WebElement (session=\"5dafaff68a5e605be12e4042cb195ad0\", element=\"2846b023-c1c5-46c2-bbcd-1386e53ec3da\")>,\n",
       " <selenium.webdriver.remote.webelement.WebElement (session=\"5dafaff68a5e605be12e4042cb195ad0\", element=\"cc92cede-2382-486c-9b29-52fa774c6d8f\")>,\n",
       " <selenium.webdriver.remote.webelement.WebElement (session=\"5dafaff68a5e605be12e4042cb195ad0\", element=\"8141a0fa-5983-43e6-9a39-42e9ba9a746b\")>,\n",
       " <selenium.webdriver.remote.webelement.WebElement (session=\"5dafaff68a5e605be12e4042cb195ad0\", element=\"e61fee5e-1ace-43a5-85a0-57b5eabff847\")>,\n",
       " <selenium.webdriver.remote.webelement.WebElement (session=\"5dafaff68a5e605be12e4042cb195ad0\", element=\"00f3a645-a807-4845-a467-d7d8127ebbda\")>,\n",
       " <selenium.webdriver.remote.webelement.WebElement (session=\"5dafaff68a5e605be12e4042cb195ad0\", element=\"41c966dc-fe07-4ab7-a521-34720fd7854b\")>,\n",
       " <selenium.webdriver.remote.webelement.WebElement (session=\"5dafaff68a5e605be12e4042cb195ad0\", element=\"79ee7d24-6147-4fa4-a39a-fc139fadd97f\")>,\n",
       " <selenium.webdriver.remote.webelement.WebElement (session=\"5dafaff68a5e605be12e4042cb195ad0\", element=\"19fd5b92-ab59-4efd-9451-8e1b35846156\")>,\n",
       " <selenium.webdriver.remote.webelement.WebElement (session=\"5dafaff68a5e605be12e4042cb195ad0\", element=\"ec95993b-2fa3-45b8-bfc6-cf114bd04b99\")>,\n",
       " <selenium.webdriver.remote.webelement.WebElement (session=\"5dafaff68a5e605be12e4042cb195ad0\", element=\"deb380a4-9e51-40dd-a3fa-99b76a197298\")>,\n",
       " <selenium.webdriver.remote.webelement.WebElement (session=\"5dafaff68a5e605be12e4042cb195ad0\", element=\"3126cbbe-09d2-4edc-bf5b-4afacd920d07\")>,\n",
       " <selenium.webdriver.remote.webelement.WebElement (session=\"5dafaff68a5e605be12e4042cb195ad0\", element=\"f1122a0f-7282-4436-bd36-8a943eae51ac\")>,\n",
       " <selenium.webdriver.remote.webelement.WebElement (session=\"5dafaff68a5e605be12e4042cb195ad0\", element=\"82f3f0c3-17c9-4367-b4da-bf4590b8624a\")>,\n",
       " <selenium.webdriver.remote.webelement.WebElement (session=\"5dafaff68a5e605be12e4042cb195ad0\", element=\"a0604996-7ed3-4113-81da-2ac603649d53\")>,\n",
       " <selenium.webdriver.remote.webelement.WebElement (session=\"5dafaff68a5e605be12e4042cb195ad0\", element=\"7619ab59-beec-49c7-9804-ab83c9edcfac\")>,\n",
       " <selenium.webdriver.remote.webelement.WebElement (session=\"5dafaff68a5e605be12e4042cb195ad0\", element=\"e684c989-b50a-476c-bd1b-2570d9fbb6bb\")>,\n",
       " <selenium.webdriver.remote.webelement.WebElement (session=\"5dafaff68a5e605be12e4042cb195ad0\", element=\"0f873039-8e70-40db-b1bc-ddb7a7211459\")>,\n",
       " <selenium.webdriver.remote.webelement.WebElement (session=\"5dafaff68a5e605be12e4042cb195ad0\", element=\"5e71bb6c-2b2e-4d97-9ee3-58ebd52c8a7c\")>,\n",
       " <selenium.webdriver.remote.webelement.WebElement (session=\"5dafaff68a5e605be12e4042cb195ad0\", element=\"9f1560be-3ebe-4fca-a9f2-5217d1d5c2e6\")>,\n",
       " <selenium.webdriver.remote.webelement.WebElement (session=\"5dafaff68a5e605be12e4042cb195ad0\", element=\"71081840-d1fd-445c-8a9a-7668992c5f04\")>,\n",
       " <selenium.webdriver.remote.webelement.WebElement (session=\"5dafaff68a5e605be12e4042cb195ad0\", element=\"e9000539-e591-47d4-b4ef-a5fe1017d995\")>,\n",
       " <selenium.webdriver.remote.webelement.WebElement (session=\"5dafaff68a5e605be12e4042cb195ad0\", element=\"895e26c6-a91f-436e-92e2-5f463d9fb316\")>,\n",
       " <selenium.webdriver.remote.webelement.WebElement (session=\"5dafaff68a5e605be12e4042cb195ad0\", element=\"d7d8e3e1-1433-4ccc-a927-0192471cd3c2\")>]"
      ]
     },
     "execution_count": 822,
     "metadata": {},
     "output_type": "execute_result"
    }
   ],
   "source": [
    "brand_tags = driver.find_elements_by_xpath(\"//h3[@class='product-brand']\")\n",
    "brand_tags"
   ]
  },
  {
   "cell_type": "code",
   "execution_count": 823,
   "metadata": {
    "collapsed": true
   },
   "outputs": [
    {
     "data": {
      "text/plain": [
       "['ALDO',\n",
       " 'PUMA Motorsport',\n",
       " 'Puma',\n",
       " 'ALDO',\n",
       " 'Puma',\n",
       " 'PUMA Motorsport',\n",
       " 'PUMA Motorsport',\n",
       " 'Hush Puppies',\n",
       " 'Calvin Klein',\n",
       " 'Puma',\n",
       " 'Puma',\n",
       " 'Calvin Klein',\n",
       " 'Calvin Klein',\n",
       " 'Puma',\n",
       " 'ASICS',\n",
       " 'Puma',\n",
       " 'UNDER ARMOUR',\n",
       " 'FORCLAZ By Decathlon',\n",
       " 'Bugatti',\n",
       " 'Puma',\n",
       " 'Calvin Klein',\n",
       " 'PUMA Motorsport',\n",
       " 'Calvin Klein',\n",
       " 'Hush Puppies',\n",
       " 'UNDER ARMOUR',\n",
       " 'Hush Puppies',\n",
       " 'Calvin Klein',\n",
       " 'UNDER ARMOUR',\n",
       " 'Nike',\n",
       " 'Kalenji By Decathlon',\n",
       " 'Calvin Klein',\n",
       " 'Puma',\n",
       " 'Geox',\n",
       " 'Calvin Klein',\n",
       " 'Puma',\n",
       " 'ASICS',\n",
       " 'UNDER ARMOUR',\n",
       " 'Tommy Hilfiger',\n",
       " 'UNDER ARMOUR',\n",
       " 'DAVINCHI',\n",
       " 'Hush Puppies',\n",
       " 'Saint G',\n",
       " 'J.FONTINI',\n",
       " 'Cole Haan',\n",
       " 'Saint G',\n",
       " 'J.FONTINI',\n",
       " 'Puma',\n",
       " 'Hush Puppies',\n",
       " 'Heel & Buckle London',\n",
       " 'Geox',\n",
       " 'Geox',\n",
       " 'Puma',\n",
       " 'Calvin Klein',\n",
       " 'Calvin Klein',\n",
       " 'Ruosh',\n",
       " 'ASICS',\n",
       " 'Ruosh',\n",
       " 'J.FONTINI',\n",
       " 'Ruosh',\n",
       " 'Heel & Buckle London',\n",
       " 'KIPRUN By Decathlon',\n",
       " 'Geox',\n",
       " 'ALDO',\n",
       " 'ASICS',\n",
       " 'FILA',\n",
       " 'Puma',\n",
       " 'UNDER ARMOUR',\n",
       " 'UNDER ARMOUR',\n",
       " 'Puma',\n",
       " 'Heel & Buckle London',\n",
       " 'Heel & Buckle London',\n",
       " 'Cole Haan',\n",
       " 'Geox',\n",
       " 'Ruosh',\n",
       " 'VIONIC',\n",
       " 'ASICS',\n",
       " 'Heel & Buckle London',\n",
       " 'Ruosh',\n",
       " 'J.FONTINI',\n",
       " 'J.FONTINI',\n",
       " 'Ruosh',\n",
       " 'KLEAT',\n",
       " 'Ruosh',\n",
       " 'ASICS',\n",
       " 'Geox',\n",
       " 'Bugatti',\n",
       " 'Bugatti',\n",
       " 'Bugatti',\n",
       " 'Puma',\n",
       " 'Bugatti',\n",
       " 'Ruosh',\n",
       " 'Geox',\n",
       " 'Geox',\n",
       " 'Hush Puppies',\n",
       " 'Geox',\n",
       " 'Geox',\n",
       " 'Geox',\n",
       " 'KLEAT',\n",
       " 'Heel & Buckle London',\n",
       " 'Heel & Buckle London']"
      ]
     },
     "execution_count": 823,
     "metadata": {},
     "output_type": "execute_result"
    }
   ],
   "source": [
    "for i in brand_tags:\n",
    "    brand_list.append(i.text)\n",
    "brand_list"
   ]
  },
  {
   "cell_type": "code",
   "execution_count": 824,
   "metadata": {
    "collapsed": true
   },
   "outputs": [
    {
     "data": {
      "text/plain": [
       "[<selenium.webdriver.remote.webelement.WebElement (session=\"5dafaff68a5e605be12e4042cb195ad0\", element=\"6b6a1efa-710b-4da7-b39f-68ece2d80560\")>,\n",
       " <selenium.webdriver.remote.webelement.WebElement (session=\"5dafaff68a5e605be12e4042cb195ad0\", element=\"ae1822e8-ac5f-460c-b699-3a91e181e324\")>,\n",
       " <selenium.webdriver.remote.webelement.WebElement (session=\"5dafaff68a5e605be12e4042cb195ad0\", element=\"ead0d8ff-4971-46e3-be54-211792974086\")>,\n",
       " <selenium.webdriver.remote.webelement.WebElement (session=\"5dafaff68a5e605be12e4042cb195ad0\", element=\"882a7b27-eac4-44ed-af27-5e9e6b938ea4\")>,\n",
       " <selenium.webdriver.remote.webelement.WebElement (session=\"5dafaff68a5e605be12e4042cb195ad0\", element=\"979e3626-c802-4437-b4c2-dd5e27f0fa84\")>,\n",
       " <selenium.webdriver.remote.webelement.WebElement (session=\"5dafaff68a5e605be12e4042cb195ad0\", element=\"37045ec4-b475-4904-be49-b656e73ef73e\")>,\n",
       " <selenium.webdriver.remote.webelement.WebElement (session=\"5dafaff68a5e605be12e4042cb195ad0\", element=\"bfc2609c-d604-43a5-a9fb-f81a5ccf554d\")>,\n",
       " <selenium.webdriver.remote.webelement.WebElement (session=\"5dafaff68a5e605be12e4042cb195ad0\", element=\"46e61983-57c0-4375-9211-e1b5ec65a93c\")>,\n",
       " <selenium.webdriver.remote.webelement.WebElement (session=\"5dafaff68a5e605be12e4042cb195ad0\", element=\"33fde85e-0c27-4121-b6c7-7aa409dd9c86\")>,\n",
       " <selenium.webdriver.remote.webelement.WebElement (session=\"5dafaff68a5e605be12e4042cb195ad0\", element=\"d3b83ef9-c806-4985-b58d-f80153f430f9\")>,\n",
       " <selenium.webdriver.remote.webelement.WebElement (session=\"5dafaff68a5e605be12e4042cb195ad0\", element=\"262b092b-3686-43ea-8a27-011bdd8b15e1\")>,\n",
       " <selenium.webdriver.remote.webelement.WebElement (session=\"5dafaff68a5e605be12e4042cb195ad0\", element=\"140b9299-c340-4ff5-be52-9226010ad354\")>,\n",
       " <selenium.webdriver.remote.webelement.WebElement (session=\"5dafaff68a5e605be12e4042cb195ad0\", element=\"0f95b53f-a5e8-4a53-b830-fe18ba7dace6\")>,\n",
       " <selenium.webdriver.remote.webelement.WebElement (session=\"5dafaff68a5e605be12e4042cb195ad0\", element=\"49051419-d5b4-40b0-a5a4-c5b1d03dca3f\")>,\n",
       " <selenium.webdriver.remote.webelement.WebElement (session=\"5dafaff68a5e605be12e4042cb195ad0\", element=\"a759274b-b126-4b4f-bfa7-552d3e8ccc00\")>,\n",
       " <selenium.webdriver.remote.webelement.WebElement (session=\"5dafaff68a5e605be12e4042cb195ad0\", element=\"611f1011-4714-4dd4-bbc4-223a9f712795\")>,\n",
       " <selenium.webdriver.remote.webelement.WebElement (session=\"5dafaff68a5e605be12e4042cb195ad0\", element=\"fe216ccb-03f8-481d-bb64-0ee18e193adc\")>,\n",
       " <selenium.webdriver.remote.webelement.WebElement (session=\"5dafaff68a5e605be12e4042cb195ad0\", element=\"cf6a7380-5b5b-4a75-8227-be8e6b265381\")>,\n",
       " <selenium.webdriver.remote.webelement.WebElement (session=\"5dafaff68a5e605be12e4042cb195ad0\", element=\"677ea675-b784-4c99-b321-7ba02ab616b1\")>,\n",
       " <selenium.webdriver.remote.webelement.WebElement (session=\"5dafaff68a5e605be12e4042cb195ad0\", element=\"d9e4f5f1-41a6-429d-8648-657e99604dd3\")>,\n",
       " <selenium.webdriver.remote.webelement.WebElement (session=\"5dafaff68a5e605be12e4042cb195ad0\", element=\"3032f965-1715-4a08-8da9-86ae8f3a1ae7\")>,\n",
       " <selenium.webdriver.remote.webelement.WebElement (session=\"5dafaff68a5e605be12e4042cb195ad0\", element=\"fd4ab670-0d42-42bd-b77b-5886f4179205\")>,\n",
       " <selenium.webdriver.remote.webelement.WebElement (session=\"5dafaff68a5e605be12e4042cb195ad0\", element=\"772f34e8-3449-4cc6-82e0-26b1d9fba810\")>,\n",
       " <selenium.webdriver.remote.webelement.WebElement (session=\"5dafaff68a5e605be12e4042cb195ad0\", element=\"7aea2c3d-1804-4fee-87ae-920d00dece8a\")>,\n",
       " <selenium.webdriver.remote.webelement.WebElement (session=\"5dafaff68a5e605be12e4042cb195ad0\", element=\"7e4d9839-98c5-45b0-8ddd-6bacb0c8aeaa\")>,\n",
       " <selenium.webdriver.remote.webelement.WebElement (session=\"5dafaff68a5e605be12e4042cb195ad0\", element=\"fc48857a-bd64-4f03-9775-e6297fdc536c\")>,\n",
       " <selenium.webdriver.remote.webelement.WebElement (session=\"5dafaff68a5e605be12e4042cb195ad0\", element=\"d4478636-792c-4bb2-b514-a17e0997bf90\")>,\n",
       " <selenium.webdriver.remote.webelement.WebElement (session=\"5dafaff68a5e605be12e4042cb195ad0\", element=\"c03c2fe5-2b7e-432f-b2d5-97b6b1a1cb30\")>,\n",
       " <selenium.webdriver.remote.webelement.WebElement (session=\"5dafaff68a5e605be12e4042cb195ad0\", element=\"5bff548f-47b5-46e1-9a82-10e46177ada8\")>,\n",
       " <selenium.webdriver.remote.webelement.WebElement (session=\"5dafaff68a5e605be12e4042cb195ad0\", element=\"0146519d-adf3-4435-9596-5ec115cea504\")>,\n",
       " <selenium.webdriver.remote.webelement.WebElement (session=\"5dafaff68a5e605be12e4042cb195ad0\", element=\"5bde1a69-feec-4879-a6fe-ca5ea6fe58d5\")>,\n",
       " <selenium.webdriver.remote.webelement.WebElement (session=\"5dafaff68a5e605be12e4042cb195ad0\", element=\"cac1bb81-161d-4021-b363-927e0d1a1f72\")>,\n",
       " <selenium.webdriver.remote.webelement.WebElement (session=\"5dafaff68a5e605be12e4042cb195ad0\", element=\"7d62c6f4-8df3-448a-8bb2-e1ae4d4c2905\")>,\n",
       " <selenium.webdriver.remote.webelement.WebElement (session=\"5dafaff68a5e605be12e4042cb195ad0\", element=\"61be9702-6a1d-4376-ae24-e097bb81129d\")>,\n",
       " <selenium.webdriver.remote.webelement.WebElement (session=\"5dafaff68a5e605be12e4042cb195ad0\", element=\"d36aecae-9763-4d60-81b9-67ba803f3826\")>,\n",
       " <selenium.webdriver.remote.webelement.WebElement (session=\"5dafaff68a5e605be12e4042cb195ad0\", element=\"e2374dfe-906c-45d5-a1d7-59dc43fd8c30\")>,\n",
       " <selenium.webdriver.remote.webelement.WebElement (session=\"5dafaff68a5e605be12e4042cb195ad0\", element=\"29238e43-b8ec-4f51-abb1-039d8f58a8de\")>,\n",
       " <selenium.webdriver.remote.webelement.WebElement (session=\"5dafaff68a5e605be12e4042cb195ad0\", element=\"47c30559-cfd6-4421-99ad-f5a6b6bbb98f\")>,\n",
       " <selenium.webdriver.remote.webelement.WebElement (session=\"5dafaff68a5e605be12e4042cb195ad0\", element=\"4b27434a-b2a7-4740-a6d3-b6584dc47a58\")>,\n",
       " <selenium.webdriver.remote.webelement.WebElement (session=\"5dafaff68a5e605be12e4042cb195ad0\", element=\"a00adcdb-5ddb-4d5c-b31c-ed20d8d4e42a\")>,\n",
       " <selenium.webdriver.remote.webelement.WebElement (session=\"5dafaff68a5e605be12e4042cb195ad0\", element=\"56323154-dc14-4bb4-b0d6-7d9420b49cef\")>,\n",
       " <selenium.webdriver.remote.webelement.WebElement (session=\"5dafaff68a5e605be12e4042cb195ad0\", element=\"10877995-3473-41af-99a5-6765161f2f83\")>,\n",
       " <selenium.webdriver.remote.webelement.WebElement (session=\"5dafaff68a5e605be12e4042cb195ad0\", element=\"bb28fa38-9540-43c3-88da-9145025380c6\")>,\n",
       " <selenium.webdriver.remote.webelement.WebElement (session=\"5dafaff68a5e605be12e4042cb195ad0\", element=\"d74b183a-e5be-467f-9317-6c3798f4967d\")>,\n",
       " <selenium.webdriver.remote.webelement.WebElement (session=\"5dafaff68a5e605be12e4042cb195ad0\", element=\"83500082-ef1a-4d5e-96a9-047f638d8bb3\")>,\n",
       " <selenium.webdriver.remote.webelement.WebElement (session=\"5dafaff68a5e605be12e4042cb195ad0\", element=\"03dfbfc1-3229-4a8d-baca-7bbb615a1f8c\")>,\n",
       " <selenium.webdriver.remote.webelement.WebElement (session=\"5dafaff68a5e605be12e4042cb195ad0\", element=\"74cc031a-bc06-42ad-970e-01139ca58d94\")>,\n",
       " <selenium.webdriver.remote.webelement.WebElement (session=\"5dafaff68a5e605be12e4042cb195ad0\", element=\"7ba058bd-a33b-427b-a0dd-8d671f5d34d1\")>,\n",
       " <selenium.webdriver.remote.webelement.WebElement (session=\"5dafaff68a5e605be12e4042cb195ad0\", element=\"7eea9d76-fa66-401c-93ad-2e9a4c97f67e\")>,\n",
       " <selenium.webdriver.remote.webelement.WebElement (session=\"5dafaff68a5e605be12e4042cb195ad0\", element=\"b37943e3-19be-422d-82c4-3361c2ac4048\")>]"
      ]
     },
     "execution_count": 824,
     "metadata": {},
     "output_type": "execute_result"
    }
   ],
   "source": [
    "description_tags = driver.find_elements_by_xpath(\"//h4[@class='product-product']\")\n",
    "description_tags"
   ]
  },
  {
   "cell_type": "code",
   "execution_count": 825,
   "metadata": {
    "collapsed": true
   },
   "outputs": [
    {
     "data": {
      "text/plain": [
       "['Leather Solid Loafers',\n",
       " 'Unisex Mercedes F1 Sneakers',\n",
       " 'Men Jamming 2.0 Running Shoes',\n",
       " 'Men Driving Shoes',\n",
       " 'Men Deviate Nitro Running Shoe',\n",
       " 'Unisex FerrariRS-Fast Sneakers',\n",
       " 'Unisex Scuderia Ferrari Shoes',\n",
       " 'Men Solid Leather Formal Slip-Ons',\n",
       " 'Men Solid Mid-Top Sneakers',\n",
       " 'Unisex Mirage Remix Sneakers',\n",
       " 'Unisex Leather Trainers',\n",
       " 'Men Solid Low Top LTH Sneakers',\n",
       " 'Men Solid LOW TOP MIX Sneakers',\n",
       " 'Men Running Shoes',\n",
       " 'Women GlideRide Running Shoes',\n",
       " 'Men Magnify Nitro Running',\n",
       " 'Women HOVR Sonic 4 Running',\n",
       " 'TREKKING 100 Boots',\n",
       " 'Men Black Walking Shoes',\n",
       " 'Men Liberate NITRO Running',\n",
       " 'Men UV MONO Leather Sneakers',\n",
       " 'Unisex BMW RS-Connect Sneakers',\n",
       " 'Men Textured Leather Sneaker',\n",
       " 'Men Leather Slip-On Sneakers',\n",
       " 'Men Charged Commit 3 Training',\n",
       " 'Men Solid Leather Formal Slip-Ons',\n",
       " 'Men Woven Design Sneakers',\n",
       " 'Women Charged Rogue 2.5ClrSft',\n",
       " \"Men BlazerLow '77 Sneakers\",\n",
       " 'Men KD500 Running Shoe',\n",
       " 'Men Vulcanized Sneakers',\n",
       " 'Women Magnify Nitro Shoes',\n",
       " 'Leather Heeled Boots',\n",
       " 'Men Solid Leather Sneakers',\n",
       " 'Women Eternity NITRO Shoes',\n",
       " 'Women NOVABLAST Road Running',\n",
       " 'Women Charged Assert 8 Running',\n",
       " 'Men Lightweight Sneakers',\n",
       " 'Women Charged Bandit 6 Running',\n",
       " 'Ustraa black',\n",
       " 'Men Formal Derbys',\n",
       " 'Men Mid-Top Chelsea Boots',\n",
       " 'Men Black Leather Loafers',\n",
       " 'Men GENERATION ZEROGRAND STITCHLITE',\n",
       " 'Women Leather Heeled Boots',\n",
       " 'Men Solid Loafers',\n",
       " 'Unisex Textured Sneakers',\n",
       " 'Men Leather Derbys',\n",
       " 'Women Leather Pumps',\n",
       " 'Men Leather Formal Derbys',\n",
       " 'Men Leather Formal Derbys',\n",
       " 'Unisex Mirage Sport Trainers',\n",
       " 'Men Solid Suede Sneakers',\n",
       " 'Men Mid-Top Sneakers',\n",
       " 'Men Formal Leather Brogues',\n",
       " 'Women GlideRide Running Shoes',\n",
       " 'Men Solid Leather Formal Slip-Ons',\n",
       " 'Men Leather Formal Loafers',\n",
       " 'Men Solid Leather Formal Monks',\n",
       " 'Women High-Top Leather Heels',\n",
       " 'Women Running Shoes',\n",
       " 'Women Mid-Top Flat Boots',\n",
       " 'Women Solid Leather Pumps',\n",
       " 'Women Running Shoes',\n",
       " 'Men Running Shoes',\n",
       " 'Men FUTURE 5.1 Football Shoes',\n",
       " 'Women Charged Vantage ClrShft',\n",
       " 'Women Charged Impulse Shft',\n",
       " 'Women Velocity NITRO Runners',\n",
       " 'Women Peep Toe Heels',\n",
       " 'Women Mules',\n",
       " 'Men Wingtip Oxford Sneakers',\n",
       " 'Men Leather Mid-Top Flat Boots',\n",
       " 'Men Textured Leather Monks',\n",
       " 'Men Textured Sneakers',\n",
       " 'Women GT-2000 9 Running Shoes',\n",
       " 'Women Textured Leather Loafers',\n",
       " 'Men Leather Slip-On Shoes',\n",
       " 'Men Textured Leather Loafers',\n",
       " 'Men Textured Leather Loafers',\n",
       " 'Men Leather Slip-On Shoes',\n",
       " 'Men Woven Design Loafers',\n",
       " 'Men Solid Leather Formal Oxfords',\n",
       " 'Men Black Running Sports Shoes',\n",
       " 'Men Leather Formal Slip-Ons',\n",
       " 'Men Sneakers',\n",
       " 'Black Casual Sneakers',\n",
       " 'Men Walking Shoes',\n",
       " 'Women UltraRide Running Shoes',\n",
       " 'Men Running Shoes',\n",
       " 'Men Solid Leather Formal Monks',\n",
       " 'Men Solid Sneakers',\n",
       " 'Men Printed Slip-On Sneakers',\n",
       " 'Men Solid Leather Formal Derbys',\n",
       " 'Men Leather Formal Slip-Ons',\n",
       " 'Men Leather Flat Boots',\n",
       " 'Women Leather Pumps',\n",
       " 'Men Woven Design Sneakers',\n",
       " 'Women Suede Pumps',\n",
       " 'Women Solid Leather Gladiators']"
      ]
     },
     "execution_count": 825,
     "metadata": {},
     "output_type": "execute_result"
    }
   ],
   "source": [
    "for i in description_tags:\n",
    "    prod_descriptions.append(i.text)\n",
    "prod_descriptions"
   ]
  },
  {
   "cell_type": "code",
   "execution_count": 826,
   "metadata": {
    "collapsed": true
   },
   "outputs": [
    {
     "data": {
      "text/plain": [
       "[<selenium.webdriver.remote.webelement.WebElement (session=\"5dafaff68a5e605be12e4042cb195ad0\", element=\"40fe8ea3-3fa2-4413-98b9-46167fbaa54c\")>,\n",
       " <selenium.webdriver.remote.webelement.WebElement (session=\"5dafaff68a5e605be12e4042cb195ad0\", element=\"aac43b43-9c08-4cf9-853b-c9a17be3107c\")>,\n",
       " <selenium.webdriver.remote.webelement.WebElement (session=\"5dafaff68a5e605be12e4042cb195ad0\", element=\"63c1936b-e7ff-4a3f-a3be-74e4f007f677\")>,\n",
       " <selenium.webdriver.remote.webelement.WebElement (session=\"5dafaff68a5e605be12e4042cb195ad0\", element=\"70e8bf06-2818-41f9-92d3-cfd560661323\")>,\n",
       " <selenium.webdriver.remote.webelement.WebElement (session=\"5dafaff68a5e605be12e4042cb195ad0\", element=\"8e263dcc-9edd-4261-943c-e025cb419c84\")>,\n",
       " <selenium.webdriver.remote.webelement.WebElement (session=\"5dafaff68a5e605be12e4042cb195ad0\", element=\"e4f7fa49-24e7-4762-bf48-42bb58420997\")>,\n",
       " <selenium.webdriver.remote.webelement.WebElement (session=\"5dafaff68a5e605be12e4042cb195ad0\", element=\"16607cf2-00bb-4eec-939e-de8d2968a1df\")>,\n",
       " <selenium.webdriver.remote.webelement.WebElement (session=\"5dafaff68a5e605be12e4042cb195ad0\", element=\"70d41feb-f55d-4699-aac5-7660cdadff85\")>,\n",
       " <selenium.webdriver.remote.webelement.WebElement (session=\"5dafaff68a5e605be12e4042cb195ad0\", element=\"c9e31ab4-7d92-48a0-94a5-ab0fbf47b79d\")>,\n",
       " <selenium.webdriver.remote.webelement.WebElement (session=\"5dafaff68a5e605be12e4042cb195ad0\", element=\"0db708c8-2c15-44fa-bf9f-eb5a511bb03c\")>,\n",
       " <selenium.webdriver.remote.webelement.WebElement (session=\"5dafaff68a5e605be12e4042cb195ad0\", element=\"4bd95c3c-4ab2-415a-a8db-b4047b0b5289\")>,\n",
       " <selenium.webdriver.remote.webelement.WebElement (session=\"5dafaff68a5e605be12e4042cb195ad0\", element=\"af15de3b-34a2-41a7-bef3-a4278cd82262\")>,\n",
       " <selenium.webdriver.remote.webelement.WebElement (session=\"5dafaff68a5e605be12e4042cb195ad0\", element=\"7851e376-8d5c-4ed8-96f0-48d27e78fd61\")>,\n",
       " <selenium.webdriver.remote.webelement.WebElement (session=\"5dafaff68a5e605be12e4042cb195ad0\", element=\"6325294c-62f8-4e87-b3a4-6217be2446eb\")>,\n",
       " <selenium.webdriver.remote.webelement.WebElement (session=\"5dafaff68a5e605be12e4042cb195ad0\", element=\"092eb219-3ad4-4553-9504-d31276606d87\")>,\n",
       " <selenium.webdriver.remote.webelement.WebElement (session=\"5dafaff68a5e605be12e4042cb195ad0\", element=\"df9b0224-a574-4b74-a0c0-649de0e25ab0\")>,\n",
       " <selenium.webdriver.remote.webelement.WebElement (session=\"5dafaff68a5e605be12e4042cb195ad0\", element=\"ab1aa865-20ed-4dea-9317-98812912550f\")>,\n",
       " <selenium.webdriver.remote.webelement.WebElement (session=\"5dafaff68a5e605be12e4042cb195ad0\", element=\"f062fc5f-84cb-450f-97e8-728dea51abd9\")>,\n",
       " <selenium.webdriver.remote.webelement.WebElement (session=\"5dafaff68a5e605be12e4042cb195ad0\", element=\"e2e28b66-16cd-49cc-9c00-cff53fd4bf08\")>,\n",
       " <selenium.webdriver.remote.webelement.WebElement (session=\"5dafaff68a5e605be12e4042cb195ad0\", element=\"9fdb12e2-b203-47b9-8759-52e26e66a87f\")>,\n",
       " <selenium.webdriver.remote.webelement.WebElement (session=\"5dafaff68a5e605be12e4042cb195ad0\", element=\"6ee51116-771b-4507-a4a5-d215d84f251a\")>,\n",
       " <selenium.webdriver.remote.webelement.WebElement (session=\"5dafaff68a5e605be12e4042cb195ad0\", element=\"cc9d8e5e-1945-4429-a1a7-16167815d7a5\")>,\n",
       " <selenium.webdriver.remote.webelement.WebElement (session=\"5dafaff68a5e605be12e4042cb195ad0\", element=\"3502ec5e-f4bf-4b09-a571-e6279772776f\")>,\n",
       " <selenium.webdriver.remote.webelement.WebElement (session=\"5dafaff68a5e605be12e4042cb195ad0\", element=\"a30704a0-0a25-4786-b381-279eec2e47f9\")>,\n",
       " <selenium.webdriver.remote.webelement.WebElement (session=\"5dafaff68a5e605be12e4042cb195ad0\", element=\"8d4f8a06-bec4-4886-812e-90c09e81efae\")>,\n",
       " <selenium.webdriver.remote.webelement.WebElement (session=\"5dafaff68a5e605be12e4042cb195ad0\", element=\"1c43c3f2-b08f-4b49-9f33-dcb7fe628f9b\")>,\n",
       " <selenium.webdriver.remote.webelement.WebElement (session=\"5dafaff68a5e605be12e4042cb195ad0\", element=\"c0775ae6-5abb-41a9-8206-b4bb7c8051b2\")>,\n",
       " <selenium.webdriver.remote.webelement.WebElement (session=\"5dafaff68a5e605be12e4042cb195ad0\", element=\"998ee72d-f495-4c47-afb1-f37ac2201811\")>,\n",
       " <selenium.webdriver.remote.webelement.WebElement (session=\"5dafaff68a5e605be12e4042cb195ad0\", element=\"d28a3a0a-120e-4697-bea5-b46e71250cc2\")>,\n",
       " <selenium.webdriver.remote.webelement.WebElement (session=\"5dafaff68a5e605be12e4042cb195ad0\", element=\"4d685e0c-4b31-4092-b025-f296c3bcdcdb\")>,\n",
       " <selenium.webdriver.remote.webelement.WebElement (session=\"5dafaff68a5e605be12e4042cb195ad0\", element=\"3f8375f2-3290-4163-b0dc-3a3be75434eb\")>,\n",
       " <selenium.webdriver.remote.webelement.WebElement (session=\"5dafaff68a5e605be12e4042cb195ad0\", element=\"870daf93-cf70-4c37-9443-18e5283dd6b0\")>,\n",
       " <selenium.webdriver.remote.webelement.WebElement (session=\"5dafaff68a5e605be12e4042cb195ad0\", element=\"d23b24c2-0d3b-4f87-a4b2-e35ffb95bd01\")>,\n",
       " <selenium.webdriver.remote.webelement.WebElement (session=\"5dafaff68a5e605be12e4042cb195ad0\", element=\"91ec5b5a-7e80-4cc2-a223-5174e299f5bd\")>,\n",
       " <selenium.webdriver.remote.webelement.WebElement (session=\"5dafaff68a5e605be12e4042cb195ad0\", element=\"46e5a720-2f3f-41f1-a9a4-2bf7ed45212b\")>,\n",
       " <selenium.webdriver.remote.webelement.WebElement (session=\"5dafaff68a5e605be12e4042cb195ad0\", element=\"08f136e5-ff19-42ee-ada3-2d4f562c6117\")>,\n",
       " <selenium.webdriver.remote.webelement.WebElement (session=\"5dafaff68a5e605be12e4042cb195ad0\", element=\"883f0d18-930b-45a4-be28-8eb1c2318723\")>,\n",
       " <selenium.webdriver.remote.webelement.WebElement (session=\"5dafaff68a5e605be12e4042cb195ad0\", element=\"3078b103-ab7d-40ae-aaf1-bc7079e3e375\")>,\n",
       " <selenium.webdriver.remote.webelement.WebElement (session=\"5dafaff68a5e605be12e4042cb195ad0\", element=\"cc9b5774-670f-448a-8730-1a12399fa3f8\")>,\n",
       " <selenium.webdriver.remote.webelement.WebElement (session=\"5dafaff68a5e605be12e4042cb195ad0\", element=\"fdb1baba-1bd1-4c43-bab4-d25af66f7a91\")>,\n",
       " <selenium.webdriver.remote.webelement.WebElement (session=\"5dafaff68a5e605be12e4042cb195ad0\", element=\"7d7e8152-7a97-4293-9d54-a402c2ec1d83\")>,\n",
       " <selenium.webdriver.remote.webelement.WebElement (session=\"5dafaff68a5e605be12e4042cb195ad0\", element=\"1364ec8f-9cc3-4b29-afcf-e55da881bbad\")>,\n",
       " <selenium.webdriver.remote.webelement.WebElement (session=\"5dafaff68a5e605be12e4042cb195ad0\", element=\"39d23b0e-3edc-4358-8ff0-2131efbf4d79\")>,\n",
       " <selenium.webdriver.remote.webelement.WebElement (session=\"5dafaff68a5e605be12e4042cb195ad0\", element=\"454d2858-b2e5-4174-984a-4d92c63d0024\")>,\n",
       " <selenium.webdriver.remote.webelement.WebElement (session=\"5dafaff68a5e605be12e4042cb195ad0\", element=\"92f7ef93-3129-488a-9c9d-379459576572\")>,\n",
       " <selenium.webdriver.remote.webelement.WebElement (session=\"5dafaff68a5e605be12e4042cb195ad0\", element=\"eadd97ba-591a-4654-8f2c-17496fda8d1f\")>,\n",
       " <selenium.webdriver.remote.webelement.WebElement (session=\"5dafaff68a5e605be12e4042cb195ad0\", element=\"cb9ca60d-10b1-446f-8195-75a416aa2219\")>,\n",
       " <selenium.webdriver.remote.webelement.WebElement (session=\"5dafaff68a5e605be12e4042cb195ad0\", element=\"ca061750-3854-4225-8630-1de728600bfb\")>,\n",
       " <selenium.webdriver.remote.webelement.WebElement (session=\"5dafaff68a5e605be12e4042cb195ad0\", element=\"a587e6bc-4e28-43cb-9113-7ec1859349dd\")>,\n",
       " <selenium.webdriver.remote.webelement.WebElement (session=\"5dafaff68a5e605be12e4042cb195ad0\", element=\"79dcc7f0-169e-4929-be61-d6d9cac30cac\")>]"
      ]
     },
     "execution_count": 826,
     "metadata": {},
     "output_type": "execute_result"
    }
   ],
   "source": [
    "price_tags = driver.find_elements_by_xpath(\"//div[@class='product-price']\")\n",
    "price_tags"
   ]
  },
  {
   "cell_type": "code",
   "execution_count": 827,
   "metadata": {
    "collapsed": true
   },
   "outputs": [
    {
     "data": {
      "text/plain": [
       "['Rs. 10499Rs. 14999(30% OFF)',\n",
       " 'Rs. 7999Rs. 9999(20% OFF)',\n",
       " 'Rs. 10399Rs. 12999(20% OFF)',\n",
       " 'Rs. 11199Rs. 15999(30% OFF)',\n",
       " 'Rs. 11999Rs. 14999(20% OFF)',\n",
       " 'Rs. 7999Rs. 9999(20% OFF)',\n",
       " 'Rs. 7999Rs. 9999(20% OFF)',\n",
       " 'Rs. 8099Rs. 8999(10% OFF)',\n",
       " 'Rs. 10599',\n",
       " 'Rs. 7199Rs. 8999(20% OFF)',\n",
       " 'Rs. 6999Rs. 9999(30% OFF)',\n",
       " 'Rs. 8999',\n",
       " 'Rs. 6999',\n",
       " 'Rs. 9099Rs. 12999(30% OFF)',\n",
       " 'Rs. 9799Rs. 13999(30% OFF)',\n",
       " 'Rs. 9099Rs. 12999(30% OFF)',\n",
       " 'Rs. 7149Rs. 10999(35% OFF)',\n",
       " 'Rs. 6999',\n",
       " 'Rs. 8999',\n",
       " 'Rs. 6999Rs. 9999(30% OFF)',\n",
       " 'Rs. 8999',\n",
       " 'Rs. 7999Rs. 9999(20% OFF)',\n",
       " 'Rs. 9999',\n",
       " 'Rs. 7999Rs. 9999(20% OFF)',\n",
       " 'Rs. 7999',\n",
       " 'Rs. 8999Rs. 9999(10% OFF)',\n",
       " 'Rs. 6999',\n",
       " 'Rs. 7999',\n",
       " 'Rs. 7195',\n",
       " 'Rs. 7773Rs. 8449(8% OFF)',\n",
       " 'Rs. 6999',\n",
       " 'Rs. 8449Rs. 12999(35% OFF)',\n",
       " 'Rs. 12999',\n",
       " 'Rs. 9999',\n",
       " 'Rs. 7799Rs. 12999(40% OFF)',\n",
       " 'Rs. 10399Rs. 12999(20% OFF)',\n",
       " 'Rs. 6999',\n",
       " 'Rs. 7999',\n",
       " 'Rs. 8999',\n",
       " 'Rs. 8990',\n",
       " 'Rs. 8999Rs. 9999(10% OFF)',\n",
       " 'Rs. 10900',\n",
       " 'Rs. 8490',\n",
       " 'Rs. 11999',\n",
       " 'Rs. 9500',\n",
       " 'Rs. 8990',\n",
       " 'Rs. 7999Rs. 9999(20% OFF)',\n",
       " 'Rs. 7199Rs. 7999(10% OFF)',\n",
       " 'Rs. 8900Rs. 8990(1% OFF)',\n",
       " 'Rs. 9999',\n",
       " 'Rs. 9999',\n",
       " 'Rs. 6999Rs. 9999(30% OFF)',\n",
       " 'Rs. 7999',\n",
       " 'Rs. 6999',\n",
       " 'Rs. 7490',\n",
       " 'Rs. 9799Rs. 13999(30% OFF)',\n",
       " 'Rs. 6990',\n",
       " 'Rs. 6990',\n",
       " 'Rs. 6990',\n",
       " 'Rs. 7910Rs. 7990(1% OFF)',\n",
       " 'Rs. 7006Rs. 7149(2% OFF)',\n",
       " 'Rs. 10999',\n",
       " 'Rs. 6999Rs. 9999(30% OFF)',\n",
       " 'Rs. 7199Rs. 8999(20% OFF)',\n",
       " 'Rs. 8499',\n",
       " 'Rs. 11899Rs. 16999(30% OFF)',\n",
       " 'Rs. 7999',\n",
       " 'Rs. 7499',\n",
       " 'Rs. 7149Rs. 10999(35% OFF)',\n",
       " 'Rs. 8900Rs. 8990(1% OFF)',\n",
       " 'Rs. 7910Rs. 7990(1% OFF)',\n",
       " 'Rs. 12999',\n",
       " 'Rs. 12999',\n",
       " 'Rs. 6990',\n",
       " 'Rs. 7039Rs. 10999(36% OFF)',\n",
       " 'Rs. 7199Rs. 11999(40% OFF)',\n",
       " 'Rs. 6920Rs. 6990(1% OFF)',\n",
       " 'Rs. 6990',\n",
       " 'Rs. 7990',\n",
       " 'Rs. 7990',\n",
       " 'Rs. 6990',\n",
       " 'Rs. 7999',\n",
       " 'Rs. 13490',\n",
       " 'Rs. 7199Rs. 7999(10% OFF)',\n",
       " 'Rs. 8999',\n",
       " 'Rs. 7999',\n",
       " 'Rs. 7499',\n",
       " 'Rs. 8999',\n",
       " 'Rs. 8999',\n",
       " 'Rs. 9999',\n",
       " 'Rs. 8990',\n",
       " 'Rs. 10999',\n",
       " 'Rs. 10999',\n",
       " 'Rs. 8999Rs. 9999(10% OFF)',\n",
       " 'Rs. 8994Rs. 14990(40% OFF)',\n",
       " 'Rs. 11999',\n",
       " 'Rs. 9999',\n",
       " 'Rs. 7999',\n",
       " 'Rs. 8900Rs. 8990(1% OFF)',\n",
       " 'Rs. 9890Rs. 9990(1% OFF)']"
      ]
     },
     "execution_count": 827,
     "metadata": {},
     "output_type": "execute_result"
    }
   ],
   "source": [
    "for i in price_tags:\n",
    "    price_list.append(i.text)\n",
    "price_list"
   ]
  },
  {
   "cell_type": "markdown",
   "metadata": {},
   "source": [
    "After collecting all the data we will create a dataframe using pandas library."
   ]
  },
  {
   "cell_type": "code",
   "execution_count": 828,
   "metadata": {},
   "outputs": [
    {
     "data": {
      "text/html": [
       "<div>\n",
       "<style scoped>\n",
       "    .dataframe tbody tr th:only-of-type {\n",
       "        vertical-align: middle;\n",
       "    }\n",
       "\n",
       "    .dataframe tbody tr th {\n",
       "        vertical-align: top;\n",
       "    }\n",
       "\n",
       "    .dataframe thead th {\n",
       "        text-align: right;\n",
       "    }\n",
       "</style>\n",
       "<table border=\"1\" class=\"dataframe\">\n",
       "  <thead>\n",
       "    <tr style=\"text-align: right;\">\n",
       "      <th></th>\n",
       "      <th>Brand</th>\n",
       "      <th>Production Description</th>\n",
       "      <th>Price</th>\n",
       "    </tr>\n",
       "  </thead>\n",
       "  <tbody>\n",
       "    <tr>\n",
       "      <th>0</th>\n",
       "      <td>ALDO</td>\n",
       "      <td>Leather Solid Loafers</td>\n",
       "      <td>Rs. 10499Rs. 14999(30% OFF)</td>\n",
       "    </tr>\n",
       "    <tr>\n",
       "      <th>1</th>\n",
       "      <td>PUMA Motorsport</td>\n",
       "      <td>Unisex Mercedes F1 Sneakers</td>\n",
       "      <td>Rs. 7999Rs. 9999(20% OFF)</td>\n",
       "    </tr>\n",
       "    <tr>\n",
       "      <th>2</th>\n",
       "      <td>Puma</td>\n",
       "      <td>Men Jamming 2.0 Running Shoes</td>\n",
       "      <td>Rs. 10399Rs. 12999(20% OFF)</td>\n",
       "    </tr>\n",
       "    <tr>\n",
       "      <th>3</th>\n",
       "      <td>ALDO</td>\n",
       "      <td>Men Driving Shoes</td>\n",
       "      <td>Rs. 11199Rs. 15999(30% OFF)</td>\n",
       "    </tr>\n",
       "    <tr>\n",
       "      <th>4</th>\n",
       "      <td>Puma</td>\n",
       "      <td>Men Deviate Nitro Running Shoe</td>\n",
       "      <td>Rs. 11999Rs. 14999(20% OFF)</td>\n",
       "    </tr>\n",
       "    <tr>\n",
       "      <th>...</th>\n",
       "      <td>...</td>\n",
       "      <td>...</td>\n",
       "      <td>...</td>\n",
       "    </tr>\n",
       "    <tr>\n",
       "      <th>95</th>\n",
       "      <td>Geox</td>\n",
       "      <td>Men Leather Flat Boots</td>\n",
       "      <td>Rs. 11999</td>\n",
       "    </tr>\n",
       "    <tr>\n",
       "      <th>96</th>\n",
       "      <td>Geox</td>\n",
       "      <td>Women Leather Pumps</td>\n",
       "      <td>Rs. 9999</td>\n",
       "    </tr>\n",
       "    <tr>\n",
       "      <th>97</th>\n",
       "      <td>KLEAT</td>\n",
       "      <td>Men Woven Design Sneakers</td>\n",
       "      <td>Rs. 7999</td>\n",
       "    </tr>\n",
       "    <tr>\n",
       "      <th>98</th>\n",
       "      <td>Heel &amp; Buckle London</td>\n",
       "      <td>Women Suede Pumps</td>\n",
       "      <td>Rs. 8900Rs. 8990(1% OFF)</td>\n",
       "    </tr>\n",
       "    <tr>\n",
       "      <th>99</th>\n",
       "      <td>Heel &amp; Buckle London</td>\n",
       "      <td>Women Solid Leather Gladiators</td>\n",
       "      <td>Rs. 9890Rs. 9990(1% OFF)</td>\n",
       "    </tr>\n",
       "  </tbody>\n",
       "</table>\n",
       "<p>100 rows × 3 columns</p>\n",
       "</div>"
      ],
      "text/plain": [
       "                   Brand          Production Description  \\\n",
       "0                   ALDO           Leather Solid Loafers   \n",
       "1        PUMA Motorsport     Unisex Mercedes F1 Sneakers   \n",
       "2                   Puma   Men Jamming 2.0 Running Shoes   \n",
       "3                   ALDO               Men Driving Shoes   \n",
       "4                   Puma  Men Deviate Nitro Running Shoe   \n",
       "..                   ...                             ...   \n",
       "95                  Geox          Men Leather Flat Boots   \n",
       "96                  Geox             Women Leather Pumps   \n",
       "97                 KLEAT       Men Woven Design Sneakers   \n",
       "98  Heel & Buckle London               Women Suede Pumps   \n",
       "99  Heel & Buckle London  Women Solid Leather Gladiators   \n",
       "\n",
       "                          Price  \n",
       "0   Rs. 10499Rs. 14999(30% OFF)  \n",
       "1     Rs. 7999Rs. 9999(20% OFF)  \n",
       "2   Rs. 10399Rs. 12999(20% OFF)  \n",
       "3   Rs. 11199Rs. 15999(30% OFF)  \n",
       "4   Rs. 11999Rs. 14999(20% OFF)  \n",
       "..                          ...  \n",
       "95                    Rs. 11999  \n",
       "96                     Rs. 9999  \n",
       "97                     Rs. 7999  \n",
       "98     Rs. 8900Rs. 8990(1% OFF)  \n",
       "99     Rs. 9890Rs. 9990(1% OFF)  \n",
       "\n",
       "[100 rows x 3 columns]"
      ]
     },
     "execution_count": 828,
     "metadata": {},
     "output_type": "execute_result"
    }
   ],
   "source": [
    "df = pd.DataFrame({})\n",
    "df[\"Brand\"] = brand_list\n",
    "df[\"Production Description\"] = prod_descriptions\n",
    "df[\"Price\"] = price_list\n",
    "df"
   ]
  },
  {
   "cell_type": "code",
   "execution_count": null,
   "metadata": {},
   "outputs": [],
   "source": []
  },
  {
   "cell_type": "markdown",
   "metadata": {},
   "source": [
    "Q10: Go to webpage https://www.amazon.in/\n",
    "\n",
    "Enter “Laptop” in the search field and then click the search icon.\n",
    "\n",
    "Then set CPU Type filter to “Intel Core i7” and “Intel Core i9” as shown in the\n",
    "below image:\n",
    "    \n",
    "After setting the filters scrape first 10 laptops data. You have to scrape 3 attributes\n",
    "for each laptop:\n",
    "1. title\n",
    "2. Ratings\n",
    "3. Price\n",
    "\n",
    "As shown in the below image as the tick marked attributes."
   ]
  },
  {
   "cell_type": "code",
   "execution_count": 56,
   "metadata": {},
   "outputs": [],
   "source": [
    "driver.get(\"https://www.amazon.in/\")"
   ]
  },
  {
   "cell_type": "markdown",
   "metadata": {},
   "source": [
    "Get the web page using driver"
   ]
  },
  {
   "cell_type": "code",
   "execution_count": 57,
   "metadata": {},
   "outputs": [],
   "source": [
    "search_item = driver.find_element_by_id(\"twotabsearchtextbox\")"
   ]
  },
  {
   "cell_type": "markdown",
   "metadata": {},
   "source": [
    "We find the element to search for product items"
   ]
  },
  {
   "cell_type": "code",
   "execution_count": 58,
   "metadata": {},
   "outputs": [],
   "source": [
    "search_item.send_keys(\"Laptop\")"
   ]
  },
  {
   "cell_type": "markdown",
   "metadata": {},
   "source": [
    "We provide the required product value to the element"
   ]
  },
  {
   "cell_type": "code",
   "execution_count": 59,
   "metadata": {},
   "outputs": [],
   "source": [
    "search_btn = driver.find_element_by_id(\"nav-search-submit-button\")"
   ]
  },
  {
   "cell_type": "markdown",
   "metadata": {},
   "source": [
    "We find the element for search button"
   ]
  },
  {
   "cell_type": "code",
   "execution_count": 60,
   "metadata": {},
   "outputs": [],
   "source": [
    "search_btn.click()"
   ]
  },
  {
   "cell_type": "markdown",
   "metadata": {},
   "source": [
    "We click on the search button element to get search results"
   ]
  },
  {
   "cell_type": "code",
   "execution_count": 61,
   "metadata": {},
   "outputs": [],
   "source": [
    "i7_filter_box = driver.find_element_by_xpath(\"//li[@id='p_n_feature_thirteen_browse-bin/12598163031']/span/a/div\")"
   ]
  },
  {
   "cell_type": "markdown",
   "metadata": {},
   "source": [
    "Now we find the element of the i7 Processor check box. We find this element to filter our search results and display results for laptops with i7 Processor. "
   ]
  },
  {
   "cell_type": "code",
   "execution_count": 62,
   "metadata": {},
   "outputs": [],
   "source": [
    "i7_filter_box.click()"
   ]
  },
  {
   "cell_type": "markdown",
   "metadata": {},
   "source": [
    "We click on the i7 checkbox to filter the results"
   ]
  },
  {
   "cell_type": "code",
   "execution_count": 63,
   "metadata": {},
   "outputs": [],
   "source": [
    "i9_filter_box = driver.find_element_by_xpath(\"//li[@id='p_n_feature_thirteen_browse-bin/16757432031']/span/a/div\")"
   ]
  },
  {
   "cell_type": "markdown",
   "metadata": {},
   "source": [
    "We find the element of the i9 Processor check box. We find this element to filter our search results and display results for laptops with i7 and i9 processor."
   ]
  },
  {
   "cell_type": "code",
   "execution_count": 64,
   "metadata": {},
   "outputs": [],
   "source": [
    "i9_filter_box.click()"
   ]
  },
  {
   "cell_type": "markdown",
   "metadata": {},
   "source": [
    "We click on the i9 checkbox to filter the results"
   ]
  },
  {
   "cell_type": "code",
   "execution_count": 94,
   "metadata": {},
   "outputs": [],
   "source": [
    "title_list = []\n",
    "rating_list = []\n",
    "price_list = []"
   ]
  },
  {
   "cell_type": "markdown",
   "metadata": {},
   "source": [
    "Creating lists for the required features"
   ]
  },
  {
   "cell_type": "code",
   "execution_count": 95,
   "metadata": {},
   "outputs": [
    {
     "data": {
      "text/plain": [
       "[<selenium.webdriver.remote.webelement.WebElement (session=\"5b74e01680491344b7f0db98c001cb5e\", element=\"07cbd403-8930-4bdb-89cc-8ade151e1a69\")>,\n",
       " <selenium.webdriver.remote.webelement.WebElement (session=\"5b74e01680491344b7f0db98c001cb5e\", element=\"71773969-2953-4d01-b3b5-bba311d12391\")>,\n",
       " <selenium.webdriver.remote.webelement.WebElement (session=\"5b74e01680491344b7f0db98c001cb5e\", element=\"22fd236c-4ee4-483c-a979-cef6a280dddf\")>,\n",
       " <selenium.webdriver.remote.webelement.WebElement (session=\"5b74e01680491344b7f0db98c001cb5e\", element=\"48dc2d2d-54cb-40ae-a1be-dfd17a7b3cad\")>,\n",
       " <selenium.webdriver.remote.webelement.WebElement (session=\"5b74e01680491344b7f0db98c001cb5e\", element=\"4c98ac08-c7fa-4d7f-946a-245336a346db\")>,\n",
       " <selenium.webdriver.remote.webelement.WebElement (session=\"5b74e01680491344b7f0db98c001cb5e\", element=\"ba2cb681-bd01-4851-b9a2-6807f15b8f9a\")>,\n",
       " <selenium.webdriver.remote.webelement.WebElement (session=\"5b74e01680491344b7f0db98c001cb5e\", element=\"594232a9-ccf6-44ae-8563-3f951bbb3341\")>,\n",
       " <selenium.webdriver.remote.webelement.WebElement (session=\"5b74e01680491344b7f0db98c001cb5e\", element=\"651ae0d6-d0d3-4b05-b4a3-4286c2e584df\")>,\n",
       " <selenium.webdriver.remote.webelement.WebElement (session=\"5b74e01680491344b7f0db98c001cb5e\", element=\"61311ac5-a105-4b75-86a3-b2a9f419546b\")>,\n",
       " <selenium.webdriver.remote.webelement.WebElement (session=\"5b74e01680491344b7f0db98c001cb5e\", element=\"eb39e89a-f8c2-4f9d-b4b7-a6a8c236df44\")>,\n",
       " <selenium.webdriver.remote.webelement.WebElement (session=\"5b74e01680491344b7f0db98c001cb5e\", element=\"1d88190a-6d7c-46fa-b154-c7b74517bf9f\")>,\n",
       " <selenium.webdriver.remote.webelement.WebElement (session=\"5b74e01680491344b7f0db98c001cb5e\", element=\"6b5bb3b6-9da8-4546-a2a5-ffd18e225833\")>,\n",
       " <selenium.webdriver.remote.webelement.WebElement (session=\"5b74e01680491344b7f0db98c001cb5e\", element=\"6d680afc-1e5b-46ac-b9e5-c7dfee93cf09\")>,\n",
       " <selenium.webdriver.remote.webelement.WebElement (session=\"5b74e01680491344b7f0db98c001cb5e\", element=\"10134bb6-a3c7-4304-807a-f1061b9f27e9\")>,\n",
       " <selenium.webdriver.remote.webelement.WebElement (session=\"5b74e01680491344b7f0db98c001cb5e\", element=\"ef212605-e61f-43d4-8f2f-b8c4b31e053e\")>,\n",
       " <selenium.webdriver.remote.webelement.WebElement (session=\"5b74e01680491344b7f0db98c001cb5e\", element=\"e9e32eba-cc42-449a-a282-0bed51829812\")>,\n",
       " <selenium.webdriver.remote.webelement.WebElement (session=\"5b74e01680491344b7f0db98c001cb5e\", element=\"d730666a-d906-43a9-ac0e-f8c183d312a5\")>,\n",
       " <selenium.webdriver.remote.webelement.WebElement (session=\"5b74e01680491344b7f0db98c001cb5e\", element=\"29dd7802-0179-47a7-acac-a3e4fa9bd0f0\")>,\n",
       " <selenium.webdriver.remote.webelement.WebElement (session=\"5b74e01680491344b7f0db98c001cb5e\", element=\"f2580041-4827-4234-ae4f-24cc8b8d6440\")>,\n",
       " <selenium.webdriver.remote.webelement.WebElement (session=\"5b74e01680491344b7f0db98c001cb5e\", element=\"78f752d2-4fc4-473f-b8cf-eeecdc94c649\")>,\n",
       " <selenium.webdriver.remote.webelement.WebElement (session=\"5b74e01680491344b7f0db98c001cb5e\", element=\"cd6e1932-29c6-4bc2-b760-1712d2844b17\")>,\n",
       " <selenium.webdriver.remote.webelement.WebElement (session=\"5b74e01680491344b7f0db98c001cb5e\", element=\"9c6ca010-6034-47f4-8c7c-88564c4518be\")>,\n",
       " <selenium.webdriver.remote.webelement.WebElement (session=\"5b74e01680491344b7f0db98c001cb5e\", element=\"99cc4280-44c5-40bd-8280-77d4e3e2e3a8\")>,\n",
       " <selenium.webdriver.remote.webelement.WebElement (session=\"5b74e01680491344b7f0db98c001cb5e\", element=\"4dcbe2ae-c6ca-4204-9a11-63f6c5374b71\")>,\n",
       " <selenium.webdriver.remote.webelement.WebElement (session=\"5b74e01680491344b7f0db98c001cb5e\", element=\"b6a86a81-13da-4c1c-b7d9-a33d4755b475\")>,\n",
       " <selenium.webdriver.remote.webelement.WebElement (session=\"5b74e01680491344b7f0db98c001cb5e\", element=\"65abe75f-e88c-4240-b55b-81a5d3981132\")>,\n",
       " <selenium.webdriver.remote.webelement.WebElement (session=\"5b74e01680491344b7f0db98c001cb5e\", element=\"b847ad86-3b0a-4315-98d0-c031bfdc7055\")>,\n",
       " <selenium.webdriver.remote.webelement.WebElement (session=\"5b74e01680491344b7f0db98c001cb5e\", element=\"83c6f65c-2603-4ad0-ac7f-6ec93a886203\")>,\n",
       " <selenium.webdriver.remote.webelement.WebElement (session=\"5b74e01680491344b7f0db98c001cb5e\", element=\"44179801-d2bc-4ef9-9f79-6619b2409db8\")>,\n",
       " <selenium.webdriver.remote.webelement.WebElement (session=\"5b74e01680491344b7f0db98c001cb5e\", element=\"77acc4a9-cac4-44a8-9aa5-98441928fae4\")>]"
      ]
     },
     "execution_count": 95,
     "metadata": {},
     "output_type": "execute_result"
    }
   ],
   "source": [
    "title_tags = driver.find_elements_by_xpath(\"//h2[@class='a-size-mini a-spacing-none a-color-base s-line-clamp-2']\")\n",
    "title_tags"
   ]
  },
  {
   "cell_type": "markdown",
   "metadata": {},
   "source": [
    "Collecting elements for all the titles."
   ]
  },
  {
   "cell_type": "code",
   "execution_count": 96,
   "metadata": {},
   "outputs": [
    {
     "data": {
      "text/plain": [
       "['Fujitsu UH-X 11th Gen Intel i7 Core 13.3” (33.78cm) FHD IPS 400Nits Thin and Light Laptop (16GB/512GB SSD/Win10/Office/Iris Xe Graphics/Backlit Kb/ Fingerprint Reader/Black/878gms), 4ZR1D67596',\n",
       " 'Lenovo ThinkBook 15 Intel 11th Gen Core i7 15.6\" (39.62 cm) FHD IPS 300 nits Antiglare 100% sRGB Thin and Light Laptop (16GB/512GB SSD/Windows 10/MS Office/3 Yr Onsite Warranty/1.7 Kg), 20VEA0HHIH',\n",
       " 'Acer Nitro 5 11th Gen Intel Core i7-11800H 15.6\" (39.62cms) Full HD Gaming Laptop (16 GB/256GB SSD/1 TB HDD/Win 10/RTX 3050 Ti 4GB Graphics/144 Hz, Black, 2.4 kg/RGB Backlit Keyboard) AN515-57',\n",
       " 'Mi Notebook Horizon Edition 14 Intel Core i7-10510U 10th Gen Thin and Light Laptop(8GB/512GB SSD/Windows 10/Nvidia MX350 2GB Graphics/Grey/1.35Kg)(Without Webcam) XMA1904-AF',\n",
       " 'Life Digital Laptop 15.6-inch (39.62 cms) (Intel Core i7, 4GB RAM, 256GB SSD, Windows 10), ZED AIR CX7',\n",
       " 'HP Pavilion (2021) Intel 11th Gen Core i7 14 inches FHD Screen Thin & Light Laptop, 16 GB RAM, 1TB SSD, Iris Xe Graphics, Windows 10, MS Office, Backlit Keyboard, 1.41kg (14-dv0058TU), Silver',\n",
       " 'Lenovo IdeaPad S540 11th Gen Intel Core i7 13.3\" QHD IPS Thin & Light Laptop (16GB/512GB SSD/Windows 10/MS Office 2019/Intel Iris Xe Graphics/Iron Grey/1.28Kg), 82H1002CIN',\n",
       " 'Lenovo ThinkBook 15 Intel 11th Gen Core i7 15.6\" (39.62 cm) FHD IPS 300 nits Antiglare 100% sRGB Thin and Light Laptop (16GB/512GB SSD/Windows 10/MS Office/3 Yr Onsite Warranty/1.7 Kg), 20VEA0HHIH',\n",
       " '(Renewed) Lenovo Thinkpad Hybrid Laptop T450s (Slim) Intel Core i7 - 5600u Processor, 12 GB Ram, 1TB Harddisk & 256 GB ssd, Windows 10 Pro, 14.1 Inches Notebook Computer',\n",
       " 'HP Pavilion 13(2021) 11th Gen Intel Core i7 Laptop, 16GB RAM, 1TB SSD, 13.3-inch(33.8 cm) FHD Screen, Win 10, MS Office, Ceramic White, 1.24 Kg (13-bb0078TU)']"
      ]
     },
     "execution_count": 96,
     "metadata": {},
     "output_type": "execute_result"
    }
   ],
   "source": [
    "for i in title_tags[:10]:\n",
    "    title_list.append(i.text)\n",
    "title_list"
   ]
  },
  {
   "cell_type": "markdown",
   "metadata": {},
   "source": [
    "Appending data for all the titles to titles_list"
   ]
  },
  {
   "cell_type": "markdown",
   "metadata": {},
   "source": [
    "We repeat the same process for the features"
   ]
  },
  {
   "cell_type": "code",
   "execution_count": 107,
   "metadata": {},
   "outputs": [
    {
     "data": {
      "text/plain": [
       "[<selenium.webdriver.remote.webelement.WebElement (session=\"5b74e01680491344b7f0db98c001cb5e\", element=\"93981e41-aee7-4e9c-9c0a-ef1d427e5d9b\")>,\n",
       " <selenium.webdriver.remote.webelement.WebElement (session=\"5b74e01680491344b7f0db98c001cb5e\", element=\"ba5dd8c7-36a1-45ab-bcd2-38a3c3f42092\")>,\n",
       " <selenium.webdriver.remote.webelement.WebElement (session=\"5b74e01680491344b7f0db98c001cb5e\", element=\"629dbc7c-bda3-43b6-8da9-ff363522ac0d\")>,\n",
       " <selenium.webdriver.remote.webelement.WebElement (session=\"5b74e01680491344b7f0db98c001cb5e\", element=\"f4e78594-afc9-411f-b456-c4766fd28888\")>,\n",
       " <selenium.webdriver.remote.webelement.WebElement (session=\"5b74e01680491344b7f0db98c001cb5e\", element=\"b9d5374f-45a6-4299-886e-64ab35f38091\")>,\n",
       " <selenium.webdriver.remote.webelement.WebElement (session=\"5b74e01680491344b7f0db98c001cb5e\", element=\"1f644789-3c4b-4859-bc79-09f8984b8c6a\")>,\n",
       " <selenium.webdriver.remote.webelement.WebElement (session=\"5b74e01680491344b7f0db98c001cb5e\", element=\"c775870d-fd7b-4645-a231-6d00ba27a5ac\")>,\n",
       " <selenium.webdriver.remote.webelement.WebElement (session=\"5b74e01680491344b7f0db98c001cb5e\", element=\"dfe26795-624b-432a-b474-54299ad49279\")>,\n",
       " <selenium.webdriver.remote.webelement.WebElement (session=\"5b74e01680491344b7f0db98c001cb5e\", element=\"d937840e-0628-4508-8f57-15153a236659\")>,\n",
       " <selenium.webdriver.remote.webelement.WebElement (session=\"5b74e01680491344b7f0db98c001cb5e\", element=\"a3d17fed-6e02-495f-b0e2-7e82a6957d1e\")>,\n",
       " <selenium.webdriver.remote.webelement.WebElement (session=\"5b74e01680491344b7f0db98c001cb5e\", element=\"fd60ab37-be85-48b8-8383-617bc8cf6694\")>,\n",
       " <selenium.webdriver.remote.webelement.WebElement (session=\"5b74e01680491344b7f0db98c001cb5e\", element=\"1135e4f0-c41a-4d8f-9b42-0ad0f377a847\")>,\n",
       " <selenium.webdriver.remote.webelement.WebElement (session=\"5b74e01680491344b7f0db98c001cb5e\", element=\"75be084d-31a8-4bea-951a-1af1647a093c\")>,\n",
       " <selenium.webdriver.remote.webelement.WebElement (session=\"5b74e01680491344b7f0db98c001cb5e\", element=\"198b1995-5b52-4484-93ce-4f5d0b8c1a20\")>,\n",
       " <selenium.webdriver.remote.webelement.WebElement (session=\"5b74e01680491344b7f0db98c001cb5e\", element=\"7cfe28ac-b275-4b45-8b31-dd928f704768\")>,\n",
       " <selenium.webdriver.remote.webelement.WebElement (session=\"5b74e01680491344b7f0db98c001cb5e\", element=\"ce3d1f3f-2620-4a5a-b94f-78b9fe234d31\")>,\n",
       " <selenium.webdriver.remote.webelement.WebElement (session=\"5b74e01680491344b7f0db98c001cb5e\", element=\"d7ce4884-70b8-4ed9-80ca-cdd4c216a017\")>,\n",
       " <selenium.webdriver.remote.webelement.WebElement (session=\"5b74e01680491344b7f0db98c001cb5e\", element=\"432e17b7-6202-41c9-bedf-27984e3abf74\")>,\n",
       " <selenium.webdriver.remote.webelement.WebElement (session=\"5b74e01680491344b7f0db98c001cb5e\", element=\"b5ca6a53-5325-4a21-a09a-5f2af02b5b33\")>,\n",
       " <selenium.webdriver.remote.webelement.WebElement (session=\"5b74e01680491344b7f0db98c001cb5e\", element=\"46565305-76d8-4c32-9d2b-b11a36136a36\")>,\n",
       " <selenium.webdriver.remote.webelement.WebElement (session=\"5b74e01680491344b7f0db98c001cb5e\", element=\"ef83b61e-8147-4a11-9012-89c6cc521d17\")>,\n",
       " <selenium.webdriver.remote.webelement.WebElement (session=\"5b74e01680491344b7f0db98c001cb5e\", element=\"79379c58-bcbc-4772-91d8-353bafdcb68f\")>,\n",
       " <selenium.webdriver.remote.webelement.WebElement (session=\"5b74e01680491344b7f0db98c001cb5e\", element=\"bbe1799c-4f45-41df-b495-a47fcc51b6a6\")>,\n",
       " <selenium.webdriver.remote.webelement.WebElement (session=\"5b74e01680491344b7f0db98c001cb5e\", element=\"db18d67a-cd1f-4306-9e14-af7dbee2a44b\")>,\n",
       " <selenium.webdriver.remote.webelement.WebElement (session=\"5b74e01680491344b7f0db98c001cb5e\", element=\"42e0b824-c69f-4271-8eb1-d725e4151d31\")>,\n",
       " <selenium.webdriver.remote.webelement.WebElement (session=\"5b74e01680491344b7f0db98c001cb5e\", element=\"e55280ff-80e5-4fc6-8999-72028c8b56c2\")>,\n",
       " <selenium.webdriver.remote.webelement.WebElement (session=\"5b74e01680491344b7f0db98c001cb5e\", element=\"8981b4a1-e49c-4a70-ad30-710d9a6b1007\")>,\n",
       " <selenium.webdriver.remote.webelement.WebElement (session=\"5b74e01680491344b7f0db98c001cb5e\", element=\"febfe2f5-db0b-4d7a-8e1d-5e2466bf0977\")>,\n",
       " <selenium.webdriver.remote.webelement.WebElement (session=\"5b74e01680491344b7f0db98c001cb5e\", element=\"4d904184-6c8d-49f1-a762-b54683265460\")>,\n",
       " <selenium.webdriver.remote.webelement.WebElement (session=\"5b74e01680491344b7f0db98c001cb5e\", element=\"5d0a181a-c47a-4f8c-8ac1-86ef1b98bf8e\")>]"
      ]
     },
     "execution_count": 107,
     "metadata": {},
     "output_type": "execute_result"
    }
   ],
   "source": [
    "rating_tags = driver.find_elements_by_xpath(\"//div[@class='sg-col sg-col-4-of-12 sg-col-8-of-16 sg-col-12-of-20']\")\n",
    "rating_tags"
   ]
  },
  {
   "cell_type": "code",
   "execution_count": 108,
   "metadata": {},
   "outputs": [],
   "source": [
    "for i in rating_tags[:10]:\n",
    "    if i.find_elements_by_xpath(\".//span[@class='a-icon-alt']\"):\n",
    "        rating = i.find_elements_by_xpath(\".//span[@class='a-icon-alt']\")\n",
    "        for j in rating:\n",
    "            rating_list.append(j.text)\n",
    "    else:\n",
    "        rating_list.append(\"Not Applicable\")"
   ]
  },
  {
   "cell_type": "code",
   "execution_count": 111,
   "metadata": {},
   "outputs": [
    {
     "data": {
      "text/plain": [
       "['', '', '', '', '', '', '', '', '', '']"
      ]
     },
     "execution_count": 111,
     "metadata": {},
     "output_type": "execute_result"
    }
   ],
   "source": [
    "rating_list "
   ]
  },
  {
   "cell_type": "markdown",
   "metadata": {},
   "source": [
    "Unable to retreive the ratings. Inspite of being able to access the web element."
   ]
  },
  {
   "cell_type": "code",
   "execution_count": 100,
   "metadata": {},
   "outputs": [
    {
     "data": {
      "text/plain": [
       "[<selenium.webdriver.remote.webelement.WebElement (session=\"5b74e01680491344b7f0db98c001cb5e\", element=\"208d89d7-6afc-4df7-be04-bbac6e340971\")>,\n",
       " <selenium.webdriver.remote.webelement.WebElement (session=\"5b74e01680491344b7f0db98c001cb5e\", element=\"0d0a1569-0a44-4c1f-bbb7-38d2c69ebb52\")>,\n",
       " <selenium.webdriver.remote.webelement.WebElement (session=\"5b74e01680491344b7f0db98c001cb5e\", element=\"23cd5817-f9e3-4950-b594-2e89d49be3f4\")>,\n",
       " <selenium.webdriver.remote.webelement.WebElement (session=\"5b74e01680491344b7f0db98c001cb5e\", element=\"00e63579-f1cf-428d-abf6-ee0b89608c66\")>,\n",
       " <selenium.webdriver.remote.webelement.WebElement (session=\"5b74e01680491344b7f0db98c001cb5e\", element=\"c628d17f-e97f-4db6-a128-3fda00d041d9\")>,\n",
       " <selenium.webdriver.remote.webelement.WebElement (session=\"5b74e01680491344b7f0db98c001cb5e\", element=\"9abeb524-b892-4b3f-a937-bf12f7754722\")>,\n",
       " <selenium.webdriver.remote.webelement.WebElement (session=\"5b74e01680491344b7f0db98c001cb5e\", element=\"27725896-3ebc-4834-9bc2-cf6c50d088ab\")>,\n",
       " <selenium.webdriver.remote.webelement.WebElement (session=\"5b74e01680491344b7f0db98c001cb5e\", element=\"19f9954b-fd0a-4a9c-8a91-ec3e7a5fac70\")>,\n",
       " <selenium.webdriver.remote.webelement.WebElement (session=\"5b74e01680491344b7f0db98c001cb5e\", element=\"27337b8f-765c-4d3f-99fe-bc65ea16e5f0\")>,\n",
       " <selenium.webdriver.remote.webelement.WebElement (session=\"5b74e01680491344b7f0db98c001cb5e\", element=\"6ae197e8-fc5b-4d8c-a821-f8cd6f6aec46\")>,\n",
       " <selenium.webdriver.remote.webelement.WebElement (session=\"5b74e01680491344b7f0db98c001cb5e\", element=\"8273a93e-ccee-4664-935a-fea7f6c22b4c\")>,\n",
       " <selenium.webdriver.remote.webelement.WebElement (session=\"5b74e01680491344b7f0db98c001cb5e\", element=\"00c94849-2d57-4e93-9861-eb82e25e7455\")>,\n",
       " <selenium.webdriver.remote.webelement.WebElement (session=\"5b74e01680491344b7f0db98c001cb5e\", element=\"dda1cfb6-c324-4550-a0fb-f6ad7fa9a5ec\")>,\n",
       " <selenium.webdriver.remote.webelement.WebElement (session=\"5b74e01680491344b7f0db98c001cb5e\", element=\"8b31564b-ead8-4f2d-a4e4-a5ef8603b689\")>,\n",
       " <selenium.webdriver.remote.webelement.WebElement (session=\"5b74e01680491344b7f0db98c001cb5e\", element=\"543d4183-0b48-455a-b427-1ccf8a04be62\")>,\n",
       " <selenium.webdriver.remote.webelement.WebElement (session=\"5b74e01680491344b7f0db98c001cb5e\", element=\"d9849691-411e-4379-bb39-f3d060c9d7b9\")>,\n",
       " <selenium.webdriver.remote.webelement.WebElement (session=\"5b74e01680491344b7f0db98c001cb5e\", element=\"f88909ea-5bf8-42cb-9ad2-7a5d56a2fe6d\")>,\n",
       " <selenium.webdriver.remote.webelement.WebElement (session=\"5b74e01680491344b7f0db98c001cb5e\", element=\"09a4ddc4-a829-45df-9bef-e02935eab2b3\")>,\n",
       " <selenium.webdriver.remote.webelement.WebElement (session=\"5b74e01680491344b7f0db98c001cb5e\", element=\"0e2c8708-0620-4447-8e27-76de0f3e77f9\")>,\n",
       " <selenium.webdriver.remote.webelement.WebElement (session=\"5b74e01680491344b7f0db98c001cb5e\", element=\"30644689-7d7b-43bc-b29b-07d7826fd2d4\")>,\n",
       " <selenium.webdriver.remote.webelement.WebElement (session=\"5b74e01680491344b7f0db98c001cb5e\", element=\"37ebc05e-b36c-4678-a147-d4d340b6c0ee\")>,\n",
       " <selenium.webdriver.remote.webelement.WebElement (session=\"5b74e01680491344b7f0db98c001cb5e\", element=\"c1e85fe7-5680-41c1-a372-73a6f68fb7c3\")>,\n",
       " <selenium.webdriver.remote.webelement.WebElement (session=\"5b74e01680491344b7f0db98c001cb5e\", element=\"8653b2df-8ee7-48ee-b02e-098e28124a52\")>,\n",
       " <selenium.webdriver.remote.webelement.WebElement (session=\"5b74e01680491344b7f0db98c001cb5e\", element=\"722735d1-1b4c-4915-874c-b6e839d34894\")>,\n",
       " <selenium.webdriver.remote.webelement.WebElement (session=\"5b74e01680491344b7f0db98c001cb5e\", element=\"4be0b8e5-f3e1-4360-9f07-740e46cc9023\")>,\n",
       " <selenium.webdriver.remote.webelement.WebElement (session=\"5b74e01680491344b7f0db98c001cb5e\", element=\"65fb2a46-db50-4466-b492-a0ac20767bc1\")>,\n",
       " <selenium.webdriver.remote.webelement.WebElement (session=\"5b74e01680491344b7f0db98c001cb5e\", element=\"8e895a49-1fdc-4061-afcb-bdab2067fcb0\")>,\n",
       " <selenium.webdriver.remote.webelement.WebElement (session=\"5b74e01680491344b7f0db98c001cb5e\", element=\"f6768179-ce0d-47a1-87a2-c62ea0192de2\")>,\n",
       " <selenium.webdriver.remote.webelement.WebElement (session=\"5b74e01680491344b7f0db98c001cb5e\", element=\"a03cb0f4-2f10-4d71-8f4a-d13caf18034e\")>,\n",
       " <selenium.webdriver.remote.webelement.WebElement (session=\"5b74e01680491344b7f0db98c001cb5e\", element=\"c4816e8f-f143-452f-809f-29565b52cb6c\")>]"
      ]
     },
     "execution_count": 100,
     "metadata": {},
     "output_type": "execute_result"
    }
   ],
   "source": [
    "price_tags = driver.find_elements_by_xpath(\"//span[@class='a-price-whole']\")\n",
    "price_tags"
   ]
  },
  {
   "cell_type": "code",
   "execution_count": 101,
   "metadata": {},
   "outputs": [
    {
     "data": {
      "text/plain": [
       "['89,990',\n",
       " '84,990',\n",
       " '85,990',\n",
       " '53,990',\n",
       " '24,990',\n",
       " '84,990',\n",
       " '77,990',\n",
       " '84,990',\n",
       " '39,990',\n",
       " '91,990']"
      ]
     },
     "execution_count": 101,
     "metadata": {},
     "output_type": "execute_result"
    }
   ],
   "source": [
    "for i in price_tags[:10]:\n",
    "    price_list.append(i.text)\n",
    "price_list"
   ]
  },
  {
   "cell_type": "markdown",
   "metadata": {},
   "source": [
    "After collecting all the data we will create a dataframe using pandas library"
   ]
  },
  {
   "cell_type": "code",
   "execution_count": 103,
   "metadata": {},
   "outputs": [
    {
     "data": {
      "text/html": [
       "<div>\n",
       "<style scoped>\n",
       "    .dataframe tbody tr th:only-of-type {\n",
       "        vertical-align: middle;\n",
       "    }\n",
       "\n",
       "    .dataframe tbody tr th {\n",
       "        vertical-align: top;\n",
       "    }\n",
       "\n",
       "    .dataframe thead th {\n",
       "        text-align: right;\n",
       "    }\n",
       "</style>\n",
       "<table border=\"1\" class=\"dataframe\">\n",
       "  <thead>\n",
       "    <tr style=\"text-align: right;\">\n",
       "      <th></th>\n",
       "      <th>Title</th>\n",
       "      <th>Rating</th>\n",
       "      <th>Price</th>\n",
       "    </tr>\n",
       "  </thead>\n",
       "  <tbody>\n",
       "    <tr>\n",
       "      <th>0</th>\n",
       "      <td>Fujitsu UH-X 11th Gen Intel i7 Core 13.3” (33....</td>\n",
       "      <td></td>\n",
       "      <td>89,990</td>\n",
       "    </tr>\n",
       "    <tr>\n",
       "      <th>1</th>\n",
       "      <td>Lenovo ThinkBook 15 Intel 11th Gen Core i7 15....</td>\n",
       "      <td></td>\n",
       "      <td>84,990</td>\n",
       "    </tr>\n",
       "    <tr>\n",
       "      <th>2</th>\n",
       "      <td>Acer Nitro 5 11th Gen Intel Core i7-11800H 15....</td>\n",
       "      <td></td>\n",
       "      <td>85,990</td>\n",
       "    </tr>\n",
       "    <tr>\n",
       "      <th>3</th>\n",
       "      <td>Mi Notebook Horizon Edition 14 Intel Core i7-1...</td>\n",
       "      <td></td>\n",
       "      <td>53,990</td>\n",
       "    </tr>\n",
       "    <tr>\n",
       "      <th>4</th>\n",
       "      <td>Life Digital Laptop 15.6-inch (39.62 cms) (Int...</td>\n",
       "      <td></td>\n",
       "      <td>24,990</td>\n",
       "    </tr>\n",
       "    <tr>\n",
       "      <th>5</th>\n",
       "      <td>HP Pavilion (2021) Intel 11th Gen Core i7 14 i...</td>\n",
       "      <td></td>\n",
       "      <td>84,990</td>\n",
       "    </tr>\n",
       "    <tr>\n",
       "      <th>6</th>\n",
       "      <td>Lenovo IdeaPad S540 11th Gen Intel Core i7 13....</td>\n",
       "      <td></td>\n",
       "      <td>77,990</td>\n",
       "    </tr>\n",
       "    <tr>\n",
       "      <th>7</th>\n",
       "      <td>Lenovo ThinkBook 15 Intel 11th Gen Core i7 15....</td>\n",
       "      <td></td>\n",
       "      <td>84,990</td>\n",
       "    </tr>\n",
       "    <tr>\n",
       "      <th>8</th>\n",
       "      <td>(Renewed) Lenovo Thinkpad Hybrid Laptop T450s ...</td>\n",
       "      <td></td>\n",
       "      <td>39,990</td>\n",
       "    </tr>\n",
       "    <tr>\n",
       "      <th>9</th>\n",
       "      <td>HP Pavilion 13(2021) 11th Gen Intel Core i7 La...</td>\n",
       "      <td></td>\n",
       "      <td>91,990</td>\n",
       "    </tr>\n",
       "  </tbody>\n",
       "</table>\n",
       "</div>"
      ],
      "text/plain": [
       "                                               Title Rating   Price\n",
       "0  Fujitsu UH-X 11th Gen Intel i7 Core 13.3” (33....         89,990\n",
       "1  Lenovo ThinkBook 15 Intel 11th Gen Core i7 15....         84,990\n",
       "2  Acer Nitro 5 11th Gen Intel Core i7-11800H 15....         85,990\n",
       "3  Mi Notebook Horizon Edition 14 Intel Core i7-1...         53,990\n",
       "4  Life Digital Laptop 15.6-inch (39.62 cms) (Int...         24,990\n",
       "5  HP Pavilion (2021) Intel 11th Gen Core i7 14 i...         84,990\n",
       "6  Lenovo IdeaPad S540 11th Gen Intel Core i7 13....         77,990\n",
       "7  Lenovo ThinkBook 15 Intel 11th Gen Core i7 15....         84,990\n",
       "8  (Renewed) Lenovo Thinkpad Hybrid Laptop T450s ...         39,990\n",
       "9  HP Pavilion 13(2021) 11th Gen Intel Core i7 La...         91,990"
      ]
     },
     "execution_count": 103,
     "metadata": {},
     "output_type": "execute_result"
    }
   ],
   "source": [
    "df = pd.DataFrame({})\n",
    "df[\"Title\"] = title_list\n",
    "df[\"Rating\"] = rating_list\n",
    "df[\"Price\"] = price_list\n",
    "df"
   ]
  },
  {
   "cell_type": "code",
   "execution_count": null,
   "metadata": {},
   "outputs": [],
   "source": []
  }
 ],
 "metadata": {
  "kernelspec": {
   "display_name": "Python 3",
   "language": "python",
   "name": "python3"
  },
  "language_info": {
   "codemirror_mode": {
    "name": "ipython",
    "version": 3
   },
   "file_extension": ".py",
   "mimetype": "text/x-python",
   "name": "python",
   "nbconvert_exporter": "python",
   "pygments_lexer": "ipython3",
   "version": "3.8.5"
  }
 },
 "nbformat": 4,
 "nbformat_minor": 4
}
